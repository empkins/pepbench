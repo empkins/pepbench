{
 "cells": [
  {
   "cell_type": "markdown",
   "metadata": {
    "cell_marker": "\"\"\""
   },
   "source": [
    "# Title"
   ]
  },
  {
   "cell_type": "markdown",
   "metadata": {},
   "source": [
    "## Setup and Helper Functions"
   ]
  },
  {
   "cell_type": "code",
   "execution_count": null,
   "metadata": {},
   "outputs": [],
   "source": [
    "import json\n",
    "from pathlib import Path\n",
    "\n",
    "import matplotlib.pyplot as plt\n",
    "import seaborn as sns\n",
    "from fau_colors import cmaps, register_fausans_font\n",
    "\n",
    "from pepbench.algorithms.ecg import QPeakExtractionForouzanfar2018\n",
    "from pepbench.algorithms.icg import BPointExtractionLozano2007QuadraticRegression, BPointExtractionMiljkovic2022, CPointExtractionScipyFindPeaks\n",
    "from pepbench.datasets import GuardianDataset\n",
    "from pepbench.plotting import algorithms, plot_signals_with_algorithm_results\n",
    "\n",
    "%matplotlib widget\n",
    "%load_ext autoreload\n",
    "%autoreload 2"
   ]
  },
  {
   "cell_type": "code",
   "execution_count": null,
   "metadata": {},
   "outputs": [],
   "source": [
    "register_fausans_font()\n",
    "plt.close(\"all\")\n",
    "\n",
    "palette = sns.color_palette(cmaps.faculties)\n",
    "sns.set_theme(context=\"notebook\", style=\"ticks\", font=\"sans-serif\", palette=palette)\n",
    "\n",
    "plt.rcParams[\"figure.figsize\"] = (10, 5)\n",
    "plt.rcParams[\"pdf.fonttype\"] = 42\n",
    "plt.rcParams[\"mathtext.default\"] = \"regular\"\n",
    "plt.rcParams[\"font.family\"] = \"sans-serif\"\n",
    "plt.rcParams[\"font.sans-serif\"] = \"FAUSans Office\"\n",
    "\n",
    "palette"
   ]
  },
  {
   "cell_type": "code",
   "execution_count": null,
   "metadata": {},
   "outputs": [],
   "source": [
    "deploy_type = \"local\"\n",
    "\n",
    "config_dict = json.load(Path(\"./config.json\").open(encoding=\"utf-8\"))\n",
    "\n",
    "guardian_base_path = Path(config_dict[deploy_type][\"guardian_path\"])\n",
    "guardian_base_path"
   ]
  },
  {
   "cell_type": "markdown",
   "metadata": {},
   "source": [
    "## Guardian Dataset"
   ]
  },
  {
   "cell_type": "code",
   "execution_count": null,
   "metadata": {},
   "outputs": [],
   "source": [
    "dataset_guardian = GuardianDataset(guardian_base_path, use_cache=True, only_labeled=True)\n",
    "dataset_guardian"
   ]
  },
  {
   "cell_type": "code",
   "execution_count": null,
   "metadata": {},
   "outputs": [],
   "source": [
    "subset = dataset_guardian.get_subset(participant=\"GDN0005\", phase=\"Pause\")\n",
    "\n",
    "labeling_borders = subset.labeling_borders\n",
    "reference_labels_icg = subset.reference_labels_icg\n",
    "reference_labels_ecg = subset.reference_labels_ecg\n",
    "ecg_data = subset.ecg\n",
    "icg_data = subset.icg\n",
    "ecg = subset.ecg\n",
    "icg = subset.icg\n",
    "heartbeats = subset.heartbeats\n",
    "\n",
    "display(labeling_borders)\n",
    "display(reference_labels_ecg)"
   ]
  },
  {
   "cell_type": "code",
   "execution_count": null,
   "metadata": {},
   "outputs": [],
   "source": [
    "fig, ax = algorithms.plot_b_point_extraction_forouzanfar2018(subset, heartbeat_subset=(59, 63))"
   ]
  },
  {
   "cell_type": "code",
   "execution_count": null,
   "metadata": {},
   "outputs": [],
   "source": [
    "fig, ax = algorithms.plot_b_point_extraction_drost2022(subset, heartbeat_subset=(59, 61))"
   ]
  },
  {
   "cell_type": "markdown",
   "metadata": {},
   "source": [
    "## Algorithm Tests"
   ]
  },
  {
   "cell_type": "code",
   "execution_count": null,
   "metadata": {},
   "outputs": [],
   "source": [
    "q_peak_algo = QPeakExtractionForouzanfar2018(handle_missing_events=\"warn\")\n",
    "q_peak_algo.extract(ecg=ecg, heartbeats=heartbeats, sampling_rate_hz=subset.sampling_rate_ecg)\n",
    "q_peak_algo.points_"
   ]
  },
  {
   "cell_type": "code",
   "execution_count": null,
   "metadata": {},
   "outputs": [],
   "source": [
    "fig, ax = plot_signals_with_algorithm_results(subset, algorithm=q_peak_algo, heartbeat_subset=(0, 5), collapse=False)"
   ]
  },
  {
   "cell_type": "code",
   "execution_count": null,
   "metadata": {},
   "outputs": [],
   "source": [
    "c_point_algo = CPointExtractionScipyFindPeaks(handle_missing_events=\"warn\")\n",
    "c_point_algo.extract(icg=icg, heartbeats=heartbeats, sampling_rate_hz=subset.sampling_rate_icg)\n",
    "b_point_algo = BPointExtractionMiljkovic2022(handle_missing_events=\"warn\")\n",
    "b_point_algo.extract(\n",
    "    icg=icg, heartbeats=heartbeats, c_points=c_point_algo.points_, sampling_rate_hz=subset.sampling_rate_icg\n",
    ")\n",
    "b_point_algo.points_;"
   ]
  },
  {
   "cell_type": "code",
   "execution_count": null,
   "metadata": {},
   "outputs": [],
   "source": [
    "b_point_algo.points_"
   ]
  },
  {
   "cell_type": "code",
   "execution_count": null,
   "metadata": {},
   "outputs": [],
   "source": [
    "fig, axs = plot_signals_with_algorithm_results(subset, algorithm=b_point_algo, heartbeat_subset=(30, 34), collapse=False)\n",
    "\n",
    "axs[1].axhline()"
   ]
  },
  {
   "cell_type": "code",
   "execution_count": null,
   "metadata": {},
   "outputs": [],
   "source": [
    "fig, ax = algorithms.plot_q_peak_extraction_forounzafar2018(subset, heartbeat_subset=(59, 63))"
   ]
  },
  {
   "cell_type": "code",
   "execution_count": null,
   "metadata": {},
   "outputs": [],
   "source": [
    "fig, ax = algorithms.plot_b_point_extraction_lozano2007_quadratic_regression(subset, heartbeat_subset=(59, 63))"
   ]
  },
  {
   "cell_type": "code",
   "execution_count": null,
   "metadata": {},
   "outputs": [],
   "source": [
    "fig, axs = algorithms.plot_b_point_extraction_stern1985(subset, heartbeat_subset=(59, 63))"
   ]
  },
  {
   "cell_type": "code",
   "execution_count": null,
   "metadata": {},
   "outputs": [],
   "source": [
    "fig, ax = algorithms.plot_b_point_extraction_sherwood1990(subset, heartbeat_subset=(59, 63))"
   ]
  },
  {
   "cell_type": "code",
   "execution_count": null,
   "metadata": {},
   "outputs": [],
   "source": [
    "fig, ax = algorithms.plot_b_point_extraction_arbol2017_isoelectric_crossings(subset, heartbeat_subset=(59, 63))"
   ]
  },
  {
   "cell_type": "code",
   "execution_count": null,
   "metadata": {},
   "outputs": [],
   "source": [
    "fig, ax = algorithms.plot_b_point_extraction_arbol2017_second_derivative(subset, heartbeat_subset=(59, 63))"
   ]
  },
  {
   "cell_type": "code",
   "execution_count": null,
   "metadata": {},
   "outputs": [],
   "source": [
    "fig, ax = algorithms.plot_b_point_extraction_arbol2017_third_derivative(subset, heartbeat_subset=(59, 63))"
   ]
  },
  {
   "cell_type": "code",
   "execution_count": null,
   "metadata": {},
   "outputs": [],
   "source": [
    "fig, ax = algorithms.plot_b_point_extraction_forouzanfar2018(subset, heartbeat_subset=(59, 63))"
   ]
  },
  {
   "cell_type": "code",
   "execution_count": null,
   "metadata": {},
   "outputs": [],
   "source": [
    "fig, ax = algorithms.plot_b_point_extraction_drost2022(subset, heartbeat_subset=(59, 63))"
   ]
  },
  {
   "cell_type": "code",
   "execution_count": null,
   "metadata": {},
   "outputs": [],
   "source": [
    "fig, ax = algorithms.plot_b_point_extraction_miljkovic2022(subset, heartbeat_subset=(30, 34))"
   ]
  },
  {
   "cell_type": "code",
   "execution_count": null,
   "metadata": {},
   "outputs": [],
   "source": []
  },
  {
   "cell_type": "code",
   "execution_count": null,
   "metadata": {},
   "outputs": [],
   "source": []
  }
 ],
 "metadata": {
  "jupytext": {
   "encoding": "# -*- coding: utf-8 -*-",
   "text_representation": {
    "extension": ".py",
    "format_name": "sphinx",
    "format_version": "1.1",
    "jupytext_version": "1.13.0"
   }
  },
  "kernelspec": {
   "display_name": "pepbench",
   "language": "python",
   "name": "pepbench"
  },
  "language_info": {
   "codemirror_mode": {
    "name": "ipython",
    "version": 3
   },
   "file_extension": ".py",
   "mimetype": "text/x-python",
   "name": "python",
   "nbconvert_exporter": "python",
   "pygments_lexer": "ipython3",
   "version": "3.10.14"
  },
  "toc-showtags": false,
  "vscode": {
   "interpreter": {
    "hash": "7014e6a8beff3a47c7c0424a6c63a486addc0ee3d12468bf1ae9a85a56cca70c"
   }
  }
 },
 "nbformat": 4,
 "nbformat_minor": 4
}
