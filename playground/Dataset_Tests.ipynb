{
 "cells": [
  {
   "cell_type": "markdown",
   "metadata": {
    "cell_marker": "\"\"\""
   },
   "source": [
    "# Title"
   ]
  },
  {
   "cell_type": "markdown",
   "metadata": {},
   "source": [
    "## Setup and Helper Functions"
   ]
  },
  {
   "cell_type": "code",
   "execution_count": 1,
   "metadata": {},
   "outputs": [],
   "source": [
    "import json\n",
    "from pathlib import Path\n",
    "\n",
    "import matplotlib.pyplot as plt\n",
    "import seaborn as sns\n",
    "from fau_colors import cmaps, register_fausans_font\n",
    "\n",
    "from pepbench.datasets import EmpkinsDataset, GuardianDataset\n",
    "from pepbench.evaluation import PepEvaluationChallenge\n",
    "\n",
    "%matplotlib widget\n",
    "%load_ext autoreload\n",
    "%autoreload 2"
   ]
  },
  {
   "cell_type": "code",
   "execution_count": 2,
   "metadata": {},
   "outputs": [
    {
     "data": {
      "text/html": [
       "<svg  width=\"330\" height=\"55\"><rect x=\"0\" y=\"0\" width=\"55\" height=\"55\" style=\"fill:#002f6c;stroke-width:2;stroke:rgb(255,255,255)\"/><rect x=\"55\" y=\"0\" width=\"55\" height=\"55\" style=\"fill:#779fb5;stroke-width:2;stroke:rgb(255,255,255)\"/><rect x=\"110\" y=\"0\" width=\"55\" height=\"55\" style=\"fill:#ffb81c;stroke-width:2;stroke:rgb(255,255,255)\"/><rect x=\"165\" y=\"0\" width=\"55\" height=\"55\" style=\"fill:#00a3e0;stroke-width:2;stroke:rgb(255,255,255)\"/><rect x=\"220\" y=\"0\" width=\"55\" height=\"55\" style=\"fill:#43b02a;stroke-width:2;stroke:rgb(255,255,255)\"/><rect x=\"275\" y=\"0\" width=\"55\" height=\"55\" style=\"fill:#c8102e;stroke-width:2;stroke:rgb(255,255,255)\"/></svg>"
      ],
      "text/plain": [
       "[(0.0, 0.1843137254901961, 0.4235294117647059),\n",
       " (0.4666666666666667, 0.6235294117647059, 0.7098039215686275),\n",
       " (1.0, 0.7215686274509804, 0.10980392156862745),\n",
       " (0.0, 0.6392156862745098, 0.8784313725490196),\n",
       " (0.2627450980392157, 0.6901960784313725, 0.16470588235294117),\n",
       " (0.7843137254901961, 0.06274509803921569, 0.1803921568627451)]"
      ]
     },
     "execution_count": 2,
     "metadata": {},
     "output_type": "execute_result"
    }
   ],
   "source": [
    "register_fausans_font()\n",
    "plt.close(\"all\")\n",
    "\n",
    "palette = sns.color_palette(cmaps.faculties)\n",
    "sns.set_theme(context=\"notebook\", style=\"ticks\", font=\"sans-serif\", palette=palette)\n",
    "\n",
    "plt.rcParams[\"figure.figsize\"] = (10, 5)\n",
    "plt.rcParams[\"pdf.fonttype\"] = 42\n",
    "plt.rcParams[\"mathtext.default\"] = \"regular\"\n",
    "\n",
    "palette"
   ]
  },
  {
   "cell_type": "code",
   "execution_count": 3,
   "metadata": {},
   "outputs": [
    {
     "data": {
      "text/plain": [
       "PosixPath('/Users/richer/Documents/PhD/Projects/EmpkinS/HealthPsychology_D03/Data/2024_08_PEP_Benchmarking/Guardian_Dataset')"
      ]
     },
     "execution_count": 3,
     "metadata": {},
     "output_type": "execute_result"
    }
   ],
   "source": [
    "deploy_type = \"local\"\n",
    "\n",
    "config_dict = json.load(Path(\"./config.json\").open(encoding=\"utf-8\"))\n",
    "\n",
    "guardian_base_path = Path(config_dict[deploy_type][\"guardian_path\"])\n",
    "guardian_base_path"
   ]
  },
  {
   "cell_type": "markdown",
   "metadata": {},
   "source": [
    "## Guardian Dataset"
   ]
  },
  {
   "cell_type": "code",
   "execution_count": 4,
   "metadata": {},
   "outputs": [
    {
     "data": {
      "text/html": [
       "<h4 style=\"margin-bottom: 0.1em;\">GuardianDataset [106 groups/rows]</h3>\n",
       "<div style=\"margin-top: 0em\">\n",
       "<style scoped>\n",
       "    .dataframe tbody tr th:only-of-type {\n",
       "        vertical-align: middle;\n",
       "    }\n",
       "\n",
       "    .dataframe tbody tr th {\n",
       "        vertical-align: top;\n",
       "    }\n",
       "\n",
       "    .dataframe thead th {\n",
       "        text-align: right;\n",
       "    }\n",
       "</style>\n",
       "<table style=\"margin-left: 3em;\">\n",
       "  <thead>\n",
       "    <tr style=\"text-align: right;\">\n",
       "      <th style=\"text-align: center;\"></th>\n",
       "      <th style=\"text-align: center;\">participant</th>\n",
       "      <th style=\"text-align: center;\">phase</th>\n",
       "    </tr>\n",
       "  </thead>\n",
       "  <tbody>\n",
       "    <tr>\n",
       "      <th style=\"text-align: center;\">0</th>\n",
       "      <td style=\"text-align: center; padding-left: 2em; padding-right: 2em;\">GDN0005</td>\n",
       "      <td style=\"text-align: center; padding-left: 2em; padding-right: 2em;\">Pause</td>\n",
       "    </tr>\n",
       "    <tr>\n",
       "      <th style=\"text-align: center;\">1</th>\n",
       "      <td style=\"text-align: center; padding-left: 2em; padding-right: 2em;\">GDN0005</td>\n",
       "      <td style=\"text-align: center; padding-left: 2em; padding-right: 2em;\">Valsalva</td>\n",
       "    </tr>\n",
       "    <tr>\n",
       "      <th style=\"text-align: center;\">2</th>\n",
       "      <td style=\"text-align: center; padding-left: 2em; padding-right: 2em;\">GDN0005</td>\n",
       "      <td style=\"text-align: center; padding-left: 2em; padding-right: 2em;\">HoldingBreath</td>\n",
       "    </tr>\n",
       "    <tr>\n",
       "      <th style=\"text-align: center;\">3</th>\n",
       "      <td style=\"text-align: center; padding-left: 2em; padding-right: 2em;\">GDN0005</td>\n",
       "      <td style=\"text-align: center; padding-left: 2em; padding-right: 2em;\">TiltUp</td>\n",
       "    </tr>\n",
       "    <tr>\n",
       "      <th style=\"text-align: center;\">4</th>\n",
       "      <td style=\"text-align: center; padding-left: 2em; padding-right: 2em;\">GDN0005</td>\n",
       "      <td style=\"text-align: center; padding-left: 2em; padding-right: 2em;\">TiltDown</td>\n",
       "    </tr>\n",
       "    <tr>\n",
       "      <th style=\"text-align: center;\">...</th>\n",
       "      <td style=\"text-align: center; padding-left: 2em; padding-right: 2em;\">...</td>\n",
       "      <td style=\"text-align: center; padding-left: 2em; padding-right: 2em;\">...</td>\n",
       "    </tr>\n",
       "    <tr>\n",
       "      <th style=\"text-align: center;\">101</th>\n",
       "      <td style=\"text-align: center; padding-left: 2em; padding-right: 2em;\">GDN0029</td>\n",
       "      <td style=\"text-align: center; padding-left: 2em; padding-right: 2em;\">TiltUp</td>\n",
       "    </tr>\n",
       "    <tr>\n",
       "      <th style=\"text-align: center;\">102</th>\n",
       "      <td style=\"text-align: center; padding-left: 2em; padding-right: 2em;\">GDN0029</td>\n",
       "      <td style=\"text-align: center; padding-left: 2em; padding-right: 2em;\">TiltDown</td>\n",
       "    </tr>\n",
       "    <tr>\n",
       "      <th style=\"text-align: center;\">103</th>\n",
       "      <td style=\"text-align: center; padding-left: 2em; padding-right: 2em;\">GDN0030</td>\n",
       "      <td style=\"text-align: center; padding-left: 2em; padding-right: 2em;\">Valsalva</td>\n",
       "    </tr>\n",
       "    <tr>\n",
       "      <th style=\"text-align: center;\">104</th>\n",
       "      <td style=\"text-align: center; padding-left: 2em; padding-right: 2em;\">GDN0030</td>\n",
       "      <td style=\"text-align: center; padding-left: 2em; padding-right: 2em;\">HoldingBreath</td>\n",
       "    </tr>\n",
       "    <tr>\n",
       "      <th style=\"text-align: center;\">105</th>\n",
       "      <td style=\"text-align: center; padding-left: 2em; padding-right: 2em;\">GDN0030</td>\n",
       "      <td style=\"text-align: center; padding-left: 2em; padding-right: 2em;\">TiltDown</td>\n",
       "    </tr>\n",
       "  </tbody>\n",
       "</table>\n",
       "<p>106 rows × 2 columns</p>\n",
       "</div>"
      ],
      "text/plain": [
       "GuardianDataset [106 groups/rows]\n",
       "\n",
       "       participant          phase\n",
       "   0       GDN0005          Pause\n",
       "   1       GDN0005       Valsalva\n",
       "   2       GDN0005  HoldingBreath\n",
       "   3       GDN0005         TiltUp\n",
       "   4       GDN0005       TiltDown\n",
       "   ..          ...            ...\n",
       "   101     GDN0029         TiltUp\n",
       "   102     GDN0029       TiltDown\n",
       "   103     GDN0030       Valsalva\n",
       "   104     GDN0030  HoldingBreath\n",
       "   105     GDN0030       TiltDown\n",
       "   \n",
       "   [106 rows x 2 columns]"
      ]
     },
     "execution_count": 4,
     "metadata": {},
     "output_type": "execute_result"
    }
   ],
   "source": [
    "dataset_guardian = GuardianDataset(guardian_base_path, use_cache=True, only_labeled=True)\n",
    "dataset_guardian"
   ]
  },
  {
   "cell_type": "code",
   "execution_count": 14,
   "metadata": {},
   "outputs": [
    {
     "data": {
      "text/html": [
       "<div>\n",
       "<style scoped>\n",
       "    .dataframe tbody tr th:only-of-type {\n",
       "        vertical-align: middle;\n",
       "    }\n",
       "\n",
       "    .dataframe tbody tr th {\n",
       "        vertical-align: top;\n",
       "    }\n",
       "\n",
       "    .dataframe thead th {\n",
       "        text-align: right;\n",
       "    }\n",
       "</style>\n",
       "<table border=\"1\" class=\"dataframe\">\n",
       "  <thead>\n",
       "    <tr style=\"text-align: right;\">\n",
       "      <th></th>\n",
       "      <th>description</th>\n",
       "      <th>sample_absolute</th>\n",
       "      <th>sample_relative</th>\n",
       "    </tr>\n",
       "    <tr>\n",
       "      <th>timestamp</th>\n",
       "      <th></th>\n",
       "      <th></th>\n",
       "      <th></th>\n",
       "    </tr>\n",
       "  </thead>\n",
       "  <tbody>\n",
       "    <tr>\n",
       "      <th>2018-02-16 10:45:04.940000+01:00</th>\n",
       "      <td>{'TiltUp': 'start'}</td>\n",
       "      <td>79516</td>\n",
       "      <td>79516</td>\n",
       "    </tr>\n",
       "    <tr>\n",
       "      <th>2018-02-16 10:46:04.940000+01:00</th>\n",
       "      <td>{'TiltUp': 'end'}</td>\n",
       "      <td>109516</td>\n",
       "      <td>109516</td>\n",
       "    </tr>\n",
       "  </tbody>\n",
       "</table>\n",
       "</div>"
      ],
      "text/plain": [
       "                                          description  sample_absolute  \\\n",
       "timestamp                                                                \n",
       "2018-02-16 10:45:04.940000+01:00  {'TiltUp': 'start'}            79516   \n",
       "2018-02-16 10:46:04.940000+01:00    {'TiltUp': 'end'}           109516   \n",
       "\n",
       "                                  sample_relative  \n",
       "timestamp                                          \n",
       "2018-02-16 10:45:04.940000+01:00            79516  \n",
       "2018-02-16 10:46:04.940000+01:00           109516  "
      ]
     },
     "metadata": {},
     "output_type": "display_data"
    },
    {
     "data": {
      "text/html": [
       "<div>\n",
       "<style scoped>\n",
       "    .dataframe tbody tr th:only-of-type {\n",
       "        vertical-align: middle;\n",
       "    }\n",
       "\n",
       "    .dataframe tbody tr th {\n",
       "        vertical-align: top;\n",
       "    }\n",
       "\n",
       "    .dataframe thead th {\n",
       "        text-align: right;\n",
       "    }\n",
       "</style>\n",
       "<table border=\"1\" class=\"dataframe\">\n",
       "  <thead>\n",
       "    <tr style=\"text-align: right;\">\n",
       "      <th></th>\n",
       "      <th></th>\n",
       "      <th></th>\n",
       "      <th>sample_absolute</th>\n",
       "      <th>sample_relative</th>\n",
       "    </tr>\n",
       "    <tr>\n",
       "      <th>heartbeat_id</th>\n",
       "      <th>channel</th>\n",
       "      <th>label</th>\n",
       "      <th></th>\n",
       "      <th></th>\n",
       "    </tr>\n",
       "  </thead>\n",
       "  <tbody>\n",
       "    <tr>\n",
       "      <th rowspan=\"3\" valign=\"top\">0</th>\n",
       "      <th>heartbeat</th>\n",
       "      <th>start</th>\n",
       "      <td>79532</td>\n",
       "      <td>16</td>\n",
       "    </tr>\n",
       "    <tr>\n",
       "      <th>ECG</th>\n",
       "      <th>Q-wave_onset</th>\n",
       "      <td>79661</td>\n",
       "      <td>145</td>\n",
       "    </tr>\n",
       "    <tr>\n",
       "      <th>heartbeat</th>\n",
       "      <th>end</th>\n",
       "      <td>79959</td>\n",
       "      <td>443</td>\n",
       "    </tr>\n",
       "    <tr>\n",
       "      <th rowspan=\"2\" valign=\"top\">1</th>\n",
       "      <th>heartbeat</th>\n",
       "      <th>start</th>\n",
       "      <td>79959</td>\n",
       "      <td>443</td>\n",
       "    </tr>\n",
       "    <tr>\n",
       "      <th>ECG</th>\n",
       "      <th>Q-wave_onset</th>\n",
       "      <td>80089</td>\n",
       "      <td>573</td>\n",
       "    </tr>\n",
       "    <tr>\n",
       "      <th>...</th>\n",
       "      <th>...</th>\n",
       "      <th>...</th>\n",
       "      <td>...</td>\n",
       "      <td>...</td>\n",
       "    </tr>\n",
       "    <tr>\n",
       "      <th rowspan=\"2\" valign=\"top\">80</th>\n",
       "      <th>ECG</th>\n",
       "      <th>Q-wave_onset</th>\n",
       "      <td>108802</td>\n",
       "      <td>29286</td>\n",
       "    </tr>\n",
       "    <tr>\n",
       "      <th>heartbeat</th>\n",
       "      <th>end</th>\n",
       "      <td>109049</td>\n",
       "      <td>29533</td>\n",
       "    </tr>\n",
       "    <tr>\n",
       "      <th rowspan=\"3\" valign=\"top\">81</th>\n",
       "      <th>heartbeat</th>\n",
       "      <th>start</th>\n",
       "      <td>109049</td>\n",
       "      <td>29533</td>\n",
       "    </tr>\n",
       "    <tr>\n",
       "      <th>ECG</th>\n",
       "      <th>Q-wave_onset</th>\n",
       "      <td>109154</td>\n",
       "      <td>29638</td>\n",
       "    </tr>\n",
       "    <tr>\n",
       "      <th>heartbeat</th>\n",
       "      <th>end</th>\n",
       "      <td>109401</td>\n",
       "      <td>29885</td>\n",
       "    </tr>\n",
       "  </tbody>\n",
       "</table>\n",
       "<p>246 rows × 2 columns</p>\n",
       "</div>"
      ],
      "text/plain": [
       "                                     sample_absolute  sample_relative\n",
       "heartbeat_id channel   label                                         \n",
       "0            heartbeat start                   79532               16\n",
       "             ECG       Q-wave_onset            79661              145\n",
       "             heartbeat end                     79959              443\n",
       "1            heartbeat start                   79959              443\n",
       "             ECG       Q-wave_onset            80089              573\n",
       "...                                              ...              ...\n",
       "80           ECG       Q-wave_onset           108802            29286\n",
       "             heartbeat end                    109049            29533\n",
       "81           heartbeat start                  109049            29533\n",
       "             ECG       Q-wave_onset           109154            29638\n",
       "             heartbeat end                    109401            29885\n",
       "\n",
       "[246 rows x 2 columns]"
      ]
     },
     "metadata": {},
     "output_type": "display_data"
    }
   ],
   "source": [
    "subset = dataset_guardian.get_subset(participant=\"GDN0005\", phase=\"TiltUp\")\n",
    "\n",
    "labeling_borders = subset.labeling_borders\n",
    "reference_labels_icg = subset.reference_labels_icg\n",
    "reference_labels_ecg = subset.reference_labels_ecg\n",
    "ecg_data = subset.ecg\n",
    "icg_data = subset.icg\n",
    "\n",
    "display(labeling_borders)\n",
    "display(reference_labels_ecg)\n",
    "#display(ecg_data)"
   ]
  },
  {
   "cell_type": "markdown",
   "metadata": {},
   "source": [
    "## EmpkinS Dataset"
   ]
  },
  {
   "cell_type": "code",
   "execution_count": null,
   "metadata": {},
   "outputs": [],
   "source": [
    "empkins_base_path = Path(config_dict[deploy_type][\"empkins_path\"])\n",
    "empkins_base_path"
   ]
  },
  {
   "cell_type": "code",
   "execution_count": null,
   "metadata": {},
   "outputs": [],
   "source": [
    "dataset_empkins = EmpkinsDataset(empkins_base_path, use_cache=False, only_labeled=True)\n",
    "dataset_empkins"
   ]
  },
  {
   "cell_type": "code",
   "execution_count": null,
   "metadata": {},
   "outputs": [],
   "source": [
    "subset = dataset_empkins.get_subset(participant=\"VP_001\", condition=\"tsst\", phase=\"Math\")\n",
    "\n",
    "labeling_borders = subset.labeling_borders\n",
    "reference_labels_icg = subset.reference_labels_icg\n",
    "reference_labels_ecg = subset.reference_labels_ecg\n",
    "ecg_data = subset.ecg\n",
    "icg_data = subset.icg\n",
    "\n",
    "display(labeling_borders)\n",
    "display(reference_labels_ecg)\n",
    "display(ecg_data)"
   ]
  },
  {
   "cell_type": "markdown",
   "metadata": {},
   "source": [
    "## Plot Tests"
   ]
  },
  {
   "cell_type": "code",
   "execution_count": null,
   "metadata": {},
   "outputs": [],
   "source": [
    "reference_labels_ecg"
   ]
  },
  {
   "cell_type": "code",
   "execution_count": null,
   "metadata": {},
   "outputs": [],
   "source": [
    "# fig, ax = plt.subplots()\n",
    "#\n",
    "# subset = dataset_empkins.get_subset(participant=\"VP_001\", condition=\"tsst\", phase=\"Pause_1\")\n",
    "#\n",
    "# ecg_data = subset.ecg\n",
    "# reference_labels_ecg = subset.reference_labels_ecg\n",
    "# labeling_borders = subset.labeling_borders\n",
    "#\n",
    "# start_end_borders = reference_labels_ecg.xs(\"heartbeat\", level=\"channel\")\n",
    "# qwave_labels = reference_labels_ecg.xs(\"Q-wave_onset\", level=\"label\")\n",
    "#\n",
    "# ecg_data.plot(ax=ax)\n",
    "#\n",
    "# ax.vlines(x=ecg_data.index[start_end_borders[\"sample_relative\"]], ymin=0, ymax=1, colors=cmaps.tech[2], transform=ax.get_xaxis_transform())\n",
    "# ax.scatter(x=ecg_data.index[qwave_labels[\"sample_relative\"]], y=ecg_data[\"ecg\"][ecg_data.index[qwave_labels[\"sample_relative\"]]], color=cmaps.nat[0], zorder=3)\n",
    "#\n",
    "# fig.tight_layout()"
   ]
  },
  {
   "cell_type": "markdown",
   "metadata": {},
   "source": [
    "## Signal Processing Tests"
   ]
  },
  {
   "cell_type": "code",
   "execution_count": null,
   "metadata": {},
   "outputs": [],
   "source": [
    "# subset = dataset_empkins.get_subset(participant=\"VP_001\", condition=\"tsst\", phase=\"Math\")\n",
    "# icg_data = subset.icg\n",
    "\n",
    "# fig, ax = plt.subplots()\n",
    "# icg_data.plot(ax=ax)\n",
    "# fig.tight_layout()"
   ]
  },
  {
   "cell_type": "code",
   "execution_count": null,
   "metadata": {},
   "outputs": [],
   "source": [
    "subset = dataset_empkins.get_subset(participant=\"VP_001\", condition=\"tsst\", phase=\"Math\")\n",
    "ecg_data = subset.ecg\n",
    "\n",
    "fig, ax = plt.subplots()\n",
    "ecg_data.plot(ax=ax)\n",
    "fig.tight_layout()"
   ]
  },
  {
   "cell_type": "code",
   "execution_count": null,
   "metadata": {},
   "outputs": [],
   "source": [
    "subset = dataset_empkins.get_subset(participant=\"VP_001\", condition=\"tsst\", phase=\"Pause_1\")"
   ]
  },
  {
   "cell_type": "code",
   "execution_count": null,
   "metadata": {},
   "outputs": [],
   "source": [
    "subset = dataset_guardian.get_subset(participant=\"GDN0005\", phase=\"Pause\")\n",
    "# subset.reference_pep"
   ]
  },
  {
   "cell_type": "markdown",
   "metadata": {},
   "source": [
    "## Algorithm Tests"
   ]
  },
  {
   "cell_type": "code",
   "execution_count": null,
   "metadata": {},
   "outputs": [],
   "source": [
    "from biopsykit.signals.ecg.event_extraction import (\n",
    "    QPeakExtractionVanLien2013,\n",
    ")\n",
    "from biopsykit.signals.ecg.segmentation import HeartbeatSegmentationNeurokit\n",
    "from biopsykit.signals.icg.event_extraction import (\n",
    "    BPointExtractionForouzanfar2018,\n",
    "    CPointExtractionScipyFindPeaks,\n",
    ")\n",
    "from biopsykit.signals.icg.outlier_correction import (\n",
    "    OutlierCorrectionForouzanfar2018,\n",
    "    OutlierCorrectionLinearInterpolation,\n",
    ")"
   ]
  },
  {
   "cell_type": "code",
   "execution_count": null,
   "metadata": {},
   "outputs": [],
   "source": [
    "# subset = dataset_empkins.get_subset(participant=\"VP_001\", condition=\"tsst\", phase=\"Pause_1\")\n",
    "subset = dataset_guardian.get_subset(participant=\"GDN0005\", phase=\"Pause\")"
   ]
  },
  {
   "cell_type": "code",
   "execution_count": null,
   "metadata": {},
   "outputs": [],
   "source": [
    "ecg = subset.ecg\n",
    "icg = subset.icg\n",
    "fs = subset.sampling_rate_ecg"
   ]
  },
  {
   "cell_type": "code",
   "execution_count": null,
   "metadata": {},
   "outputs": [],
   "source": [
    "fig, ax = plt.subplots()\n",
    "icg.plot(ax=ax)"
   ]
  },
  {
   "cell_type": "code",
   "execution_count": null,
   "metadata": {},
   "outputs": [],
   "source": [
    "heartbeats = subset.heartbeats\n",
    "heartbeats"
   ]
  },
  {
   "cell_type": "code",
   "execution_count": null,
   "metadata": {},
   "outputs": [],
   "source": [
    "ecg_extraction = QPeakExtractionVanLien2013(time_interval_ms=40, handle_missing_events=\"ignore\")\n",
    "ecg_extraction.extract(ecg=ecg, heartbeats=heartbeats, sampling_rate_hz=fs)\n",
    "ecg_extraction.points_"
   ]
  },
  {
   "cell_type": "code",
   "execution_count": null,
   "metadata": {},
   "outputs": [],
   "source": [
    "heartbeat_segmentation = HeartbeatSegmentationNeurokit()\n",
    "\n",
    "cpoint_extraction = CPointExtractionScipyFindPeaks()\n",
    "cpoint_extraction.extract(icg=icg, heartbeats=heartbeats, sampling_rate_hz=fs)\n",
    "\n",
    "display(cpoint_extraction.points_)\n",
    "\n",
    "bpoint_extraction = BPointExtractionForouzanfar2018(correct_outliers=True)\n",
    "bpoint_extraction.extract(\n",
    "    icg=icg, heartbeats=heartbeats, c_points=cpoint_extraction.points_, sampling_rate_hz=fs\n",
    ")\n",
    "display(bpoint_extraction.points_)\n",
    "\n",
    "outlier_correction = OutlierCorrectionLinearInterpolation()\n",
    "outlier_correction.correct_outlier(\n",
    "    b_points=bpoint_extraction.points_, c_points=cpoint_extraction.points_, sampling_rate_hz=fs\n",
    ")\n",
    "outlier_correction.points_"
   ]
  },
  {
   "cell_type": "code",
   "execution_count": null,
   "metadata": {},
   "outputs": [],
   "source": [
    "from pepbench.pipelines import (\n",
    "    PepExtractionPipeline,\n",
    "    PepExtractionPipelineReferenceBPoints,\n",
    "    PepExtractionPipelineReferenceQPeaks,\n",
    ")"
   ]
  },
  {
   "cell_type": "code",
   "execution_count": null,
   "metadata": {},
   "outputs": [],
   "source": [
    "heartbeat_segmentation_algo = HeartbeatSegmentationNeurokit()\n",
    "q_wave_algo = QPeakExtractionVanLien2013()\n",
    "b_point_algo = BPointExtractionForouzanfar2018(correct_outliers=True)\n",
    "outlier_correction_algo = OutlierCorrectionForouzanfar2018()\n",
    "# outlier_correction_algo = OutlierCorrectionDummy()"
   ]
  },
  {
   "cell_type": "code",
   "execution_count": null,
   "metadata": {},
   "outputs": [],
   "source": [
    "pipeline_qpoints = PepExtractionPipelineReferenceQPeaks(\n",
    "    heartbeat_segmentation_algo=heartbeat_segmentation_algo,\n",
    "    q_peak_algo=q_wave_algo,\n",
    "    b_point_algo=b_point_algo,\n",
    "    outlier_correction_algo=outlier_correction_algo,\n",
    "    handle_missing_events=\"ignore\",\n",
    ")"
   ]
  },
  {
   "cell_type": "code",
   "execution_count": null,
   "metadata": {},
   "outputs": [],
   "source": [
    "pipeline_bpoints = PepExtractionPipelineReferenceBPoints(\n",
    "    heartbeat_segmentation_algo=heartbeat_segmentation,\n",
    "    q_peak_algo=q_wave_algo,\n",
    "    b_point_algo=b_point_algo,\n",
    "    outlier_correction_algo=outlier_correction_algo,\n",
    "    handle_missing_events=\"ignore\",\n",
    ")"
   ]
  },
  {
   "cell_type": "code",
   "execution_count": null,
   "metadata": {},
   "outputs": [],
   "source": [
    "pipeline = PepExtractionPipeline(\n",
    "    heartbeat_segmentation_algo=heartbeat_segmentation_algo,\n",
    "    q_peak_algo=q_wave_algo,\n",
    "    b_point_algo=b_point_algo,\n",
    "    outlier_correction_algo=outlier_correction_algo,\n",
    "    handle_negative_pep=\"nan\",\n",
    "    handle_missing_events=\"ignore\",\n",
    ")"
   ]
  },
  {
   "cell_type": "code",
   "execution_count": null,
   "metadata": {},
   "outputs": [],
   "source": [
    "subset_guardian = dataset_guardian.get_subset(participant=[\"GDN0005\", \"GDN0006\"])\n",
    "pep_challenge = PepEvaluationChallenge(dataset=subset_guardian)\n",
    "\n",
    "pep_challenge.run(pipeline)"
   ]
  },
  {
   "cell_type": "code",
   "execution_count": null,
   "metadata": {},
   "outputs": [],
   "source": [
    "pep_challenge.results_as_df()"
   ]
  },
  {
   "cell_type": "code",
   "execution_count": null,
   "metadata": {},
   "outputs": [],
   "source": [
    "pep_challenge.results_agg_mean_std_"
   ]
  },
  {
   "cell_type": "code",
   "execution_count": null,
   "metadata": {},
   "outputs": [],
   "source": [
    "# subset_test = dataset_empkins.get_subset(participant=\"VP_002\", condition=\"ftsst\", phase=\"Talk\")\n",
    "# match_heartbeat_lists(heartbeats_reference=subset_test.reference_heartbeats, heartbeats_extracted=subset_test.heartbeats, tolerance_ms=20, sampling_rate_hz=subset_test.sampling_rate_ecg)"
   ]
  },
  {
   "cell_type": "code",
   "execution_count": null,
   "metadata": {},
   "outputs": [],
   "source": []
  },
  {
   "cell_type": "code",
   "execution_count": null,
   "metadata": {},
   "outputs": [],
   "source": []
  },
  {
   "cell_type": "code",
   "execution_count": null,
   "metadata": {},
   "outputs": [],
   "source": [
    "fig, ax = plt.subplots()\n",
    "\n",
    "icg_data = subset.icg\n",
    "reference_labels_icg = subset.reference_labels_icg\n",
    "labeling_borders = subset.labeling_borders\n",
    "\n",
    "start_end_borders = reference_labels_icg.xs(\"heartbeat\", level=\"channel\")\n",
    "bpoint_labels = reference_labels_icg.xs(\"B-point\", level=\"label\")\n",
    "# bpoint_artefacts = reference_labels_icg.xs(\"Artefact\", level=\"label\")\n",
    "bpoint_labels_algo = bpoint_extraction.points_[\"b_point_sample\"].dropna()\n",
    "bpoint_labels_outlier = outlier_correction.points_[\"b_point_sample\"].dropna()\n",
    "\n",
    "icg_data.plot(ax=ax)\n",
    "\n",
    "ax.vlines(\n",
    "    x=icg_data.index[start_end_borders[\"sample_relative\"]],\n",
    "    ymin=0,\n",
    "    ymax=1,\n",
    "    colors=cmaps.tech[2],\n",
    "    transform=ax.get_xaxis_transform(),\n",
    ")\n",
    "ax.scatter(\n",
    "    x=icg_data.index[bpoint_labels[\"sample_relative\"]],\n",
    "    y=icg_data[\"icg_der\"][icg_data.index[bpoint_labels[\"sample_relative\"]]],\n",
    "    color=cmaps.nat[0],\n",
    "    zorder=3,\n",
    "    label=\"Reference\",\n",
    ")\n",
    "# ax.scatter(x=icg_data.index[bpoint_artefacts[\"sample_relative\"]], y=icg_data[\"icg_der\"][icg_data.index[bpoint_artefacts[\"sample_relative\"]]], color=cmaps.med[0], zorder=3, label=\"Artefacts\")\n",
    "ax.scatter(\n",
    "    x=icg_data.index[bpoint_labels_algo.astype(int)],\n",
    "    y=icg_data[\"icg_der\"][icg_data.index[bpoint_labels_algo.astype(int)]],\n",
    "    color=cmaps.phil[0],\n",
    "    zorder=3,\n",
    "    label=\"Algorithm\",\n",
    ")\n",
    "ax.scatter(\n",
    "    x=icg_data.index[bpoint_labels_outlier.astype(int)],\n",
    "    y=icg_data[\"icg_der\"][icg_data.index[bpoint_labels_outlier.astype(int)]],\n",
    "    color=cmaps.wiso[0],\n",
    "    zorder=3,\n",
    "    label=\"Outlier Correction\",\n",
    ")\n",
    "\n",
    "ax.legend()\n",
    "\n",
    "fig.tight_layout()"
   ]
  },
  {
   "cell_type": "code",
   "execution_count": null,
   "metadata": {},
   "outputs": [],
   "source": [
    "fig, ax = plt.subplots()\n",
    "\n",
    "ecg_data = subset.ecg\n",
    "reference_labels_ecg = subset.reference_labels_ecg\n",
    "labeling_borders = subset.labeling_borders\n",
    "\n",
    "start_end_borders = reference_labels_ecg.xs(\"heartbeat\", level=\"channel\")\n",
    "qwave_labels = reference_labels_ecg.xs(\"Q-wave_onset\", level=\"label\")\n",
    "qwave_labels_algo = ecg_extraction.points_[\"q_peak_sample\"].dropna()\n",
    "\n",
    "ecg_data.plot(ax=ax)\n",
    "\n",
    "ax.vlines(\n",
    "    x=ecg_data.index[start_end_borders[\"sample_relative\"]],\n",
    "    ymin=0,\n",
    "    ymax=1,\n",
    "    colors=cmaps.tech[2],\n",
    "    transform=ax.get_xaxis_transform(),\n",
    ")\n",
    "ax.scatter(\n",
    "    x=ecg_data.index[qwave_labels[\"sample_relative\"]],\n",
    "    y=ecg_data[\"ecg\"][ecg_data.index[qwave_labels[\"sample_relative\"]]],\n",
    "    color=cmaps.nat[0],\n",
    "    zorder=3,\n",
    ")\n",
    "ax.scatter(\n",
    "    x=ecg_data.index[qwave_labels_algo.astype(int)],\n",
    "    y=ecg_data[\"ecg\"][ecg_data.index[qwave_labels_algo.astype(int)]],\n",
    "    color=cmaps.phil[0],\n",
    "    zorder=3,\n",
    ")\n",
    "\n",
    "fig.tight_layout()"
   ]
  },
  {
   "cell_type": "code",
   "execution_count": null,
   "metadata": {},
   "outputs": [],
   "source": []
  }
 ],
 "metadata": {
  "jupytext": {
   "encoding": "# -*- coding: utf-8 -*-",
   "text_representation": {
    "extension": ".py",
    "format_name": "sphinx",
    "format_version": "1.1",
    "jupytext_version": "1.13.0"
   }
  },
  "kernelspec": {
   "display_name": "pepbench",
   "language": "python",
   "name": "pepbench"
  },
  "language_info": {
   "codemirror_mode": {
    "name": "ipython",
    "version": 3
   },
   "file_extension": ".py",
   "mimetype": "text/x-python",
   "name": "python",
   "nbconvert_exporter": "python",
   "pygments_lexer": "ipython3",
   "version": "3.10.14"
  },
  "toc-showtags": false,
  "vscode": {
   "interpreter": {
    "hash": "7014e6a8beff3a47c7c0424a6c63a486addc0ee3d12468bf1ae9a85a56cca70c"
   }
  }
 },
 "nbformat": 4,
 "nbformat_minor": 4
}
