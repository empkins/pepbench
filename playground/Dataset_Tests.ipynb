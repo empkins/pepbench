{
 "cells": [
  {
   "cell_type": "markdown",
   "metadata": {
    "cell_marker": "\"\"\""
   },
   "source": [
    "# Title"
   ]
  },
  {
   "cell_type": "markdown",
   "metadata": {},
   "source": [
    "## Setup and Helper Functions"
   ]
  },
  {
   "cell_type": "code",
   "execution_count": null,
   "metadata": {},
   "outputs": [],
   "source": [
    "import json\n",
    "from pathlib import Path\n",
    "\n",
    "import matplotlib.pyplot as plt\n",
    "import seaborn as sns\n",
    "from fau_colors import cmaps, register_fausans_font\n",
    "\n",
    "from pepbench.datasets import EmpkinsDataset, GuardianDataset\n",
    "from pepbench.evaluation import PepEvaluationChallenge\n",
    "\n",
    "%matplotlib widget\n",
    "%load_ext autoreload\n",
    "%autoreload 2"
   ]
  },
  {
   "cell_type": "code",
   "execution_count": null,
   "metadata": {},
   "outputs": [],
   "source": [
    "register_fausans_font()\n",
    "plt.close(\"all\")\n",
    "\n",
    "palette = sns.color_palette(cmaps.faculties)\n",
    "sns.set_theme(context=\"notebook\", style=\"ticks\", font=\"sans-serif\", palette=palette)\n",
    "\n",
    "plt.rcParams[\"figure.figsize\"] = (10, 5)\n",
    "plt.rcParams[\"pdf.fonttype\"] = 42\n",
    "plt.rcParams[\"mathtext.default\"] = \"regular\"\n",
    "\n",
    "palette"
   ]
  },
  {
   "cell_type": "code",
   "execution_count": null,
   "metadata": {},
   "outputs": [],
   "source": [
    "deploy_type = \"local\"\n",
    "\n",
    "config_dict = json.load(Path(\"./config.json\").open(encoding=\"utf-8\"))\n",
    "\n",
    "guardian_base_path = Path(config_dict[deploy_type][\"guardian_path\"])\n",
    "guardian_base_path"
   ]
  },
  {
   "cell_type": "markdown",
   "metadata": {},
   "source": [
    "## Guardian Dataset"
   ]
  },
  {
   "cell_type": "code",
   "execution_count": null,
   "metadata": {},
   "outputs": [],
   "source": [
    "dataset_guardian = GuardianDataset(guardian_base_path, use_cache=True, only_labeled=True)\n",
    "dataset_guardian"
   ]
  },
  {
   "cell_type": "code",
   "execution_count": null,
   "metadata": {},
   "outputs": [],
   "source": [
    "subset = dataset_guardian.get_subset(participant=\"GDN0005\", phase=\"Pause\")\n",
    "\n",
    "labeling_borders = subset.labeling_borders\n",
    "reference_labels_icg = subset.reference_labels_icg\n",
    "reference_labels_ecg = subset.reference_labels_ecg\n",
    "ecg_data = subset.ecg\n",
    "icg_data = subset.icg\n",
    "\n",
    "display(labeling_borders)\n",
    "display(reference_labels_ecg)\n",
    "display(ecg_data)"
   ]
  },
  {
   "cell_type": "markdown",
   "metadata": {},
   "source": [
    "## EmpkinS Dataset"
   ]
  },
  {
   "cell_type": "code",
   "execution_count": null,
   "metadata": {},
   "outputs": [],
   "source": [
    "empkins_base_path = Path(config_dict[deploy_type][\"empkins_path\"])\n",
    "empkins_base_path"
   ]
  },
  {
   "cell_type": "code",
   "execution_count": null,
   "metadata": {},
   "outputs": [],
   "source": [
    "dataset_empkins = EmpkinsDataset(empkins_base_path, use_cache=False, only_labeled=True)\n",
    "dataset_empkins"
   ]
  },
  {
   "cell_type": "code",
   "execution_count": null,
   "metadata": {},
   "outputs": [],
   "source": [
    "subset = dataset_empkins.get_subset(participant=\"VP_001\", condition=\"tsst\", phase=\"Math\")\n",
    "\n",
    "labeling_borders = subset.labeling_borders\n",
    "reference_labels_icg = subset.reference_labels_icg\n",
    "reference_labels_ecg = subset.reference_labels_ecg\n",
    "ecg_data = subset.ecg\n",
    "icg_data = subset.icg\n",
    "\n",
    "display(labeling_borders)\n",
    "display(reference_labels_ecg)\n",
    "display(ecg_data)"
   ]
  },
  {
   "cell_type": "markdown",
   "metadata": {},
   "source": [
    "## Plot Tests"
   ]
  },
  {
   "cell_type": "code",
   "execution_count": null,
   "metadata": {},
   "outputs": [],
   "source": [
    "reference_labels_ecg"
   ]
  },
  {
   "cell_type": "code",
   "execution_count": null,
   "metadata": {},
   "outputs": [],
   "source": [
    "# fig, ax = plt.subplots()\n",
    "#\n",
    "# subset = dataset_empkins.get_subset(participant=\"VP_001\", condition=\"tsst\", phase=\"Pause_1\")\n",
    "#\n",
    "# ecg_data = subset.ecg\n",
    "# reference_labels_ecg = subset.reference_labels_ecg\n",
    "# labeling_borders = subset.labeling_borders\n",
    "#\n",
    "# start_end_borders = reference_labels_ecg.xs(\"heartbeat\", level=\"channel\")\n",
    "# qwave_labels = reference_labels_ecg.xs(\"Q-wave_onset\", level=\"label\")\n",
    "#\n",
    "# ecg_data.plot(ax=ax)\n",
    "#\n",
    "# ax.vlines(x=ecg_data.index[start_end_borders[\"sample_relative\"]], ymin=0, ymax=1, colors=cmaps.tech[2], transform=ax.get_xaxis_transform())\n",
    "# ax.scatter(x=ecg_data.index[qwave_labels[\"sample_relative\"]], y=ecg_data[\"ecg\"][ecg_data.index[qwave_labels[\"sample_relative\"]]], color=cmaps.nat[0], zorder=3)\n",
    "#\n",
    "# fig.tight_layout()"
   ]
  },
  {
   "cell_type": "markdown",
   "metadata": {},
   "source": [
    "## Signal Processing Tests"
   ]
  },
  {
   "cell_type": "code",
   "execution_count": null,
   "metadata": {},
   "outputs": [],
   "source": [
    "# subset = dataset_empkins.get_subset(participant=\"VP_001\", condition=\"tsst\", phase=\"Math\")\n",
    "# icg_data = subset.icg\n",
    "\n",
    "# fig, ax = plt.subplots()\n",
    "# icg_data.plot(ax=ax)\n",
    "# fig.tight_layout()"
   ]
  },
  {
   "cell_type": "code",
   "execution_count": null,
   "metadata": {},
   "outputs": [],
   "source": [
    "subset = dataset_empkins.get_subset(participant=\"VP_001\", condition=\"tsst\", phase=\"Math\")\n",
    "ecg_data = subset.ecg\n",
    "\n",
    "fig, ax = plt.subplots()\n",
    "ecg_data.plot(ax=ax)\n",
    "fig.tight_layout()"
   ]
  },
  {
   "cell_type": "code",
   "execution_count": null,
   "metadata": {},
   "outputs": [],
   "source": [
    "subset = dataset_empkins.get_subset(participant=\"VP_001\", condition=\"tsst\", phase=\"Pause_1\")"
   ]
  },
  {
   "cell_type": "code",
   "execution_count": null,
   "metadata": {},
   "outputs": [],
   "source": [
    "subset = dataset_guardian.get_subset(participant=\"GDN0005\", phase=\"Pause\")\n",
    "# subset.reference_pep"
   ]
  },
  {
   "cell_type": "markdown",
   "metadata": {},
   "source": [
    "## Algorithm Tests"
   ]
  },
  {
   "cell_type": "code",
   "execution_count": null,
   "metadata": {},
   "outputs": [],
   "source": [
    "from biopsykit.signals.ecg.event_extraction import (\n",
    "    QPeakExtractionVanLien2013,\n",
    ")\n",
    "from biopsykit.signals.ecg.segmentation import HeartbeatSegmentationNeurokit\n",
    "from biopsykit.signals.icg.event_extraction import (\n",
    "    BPointExtractionForouzanfar2018,\n",
    "    CPointExtractionScipyFindPeaks,\n",
    ")\n",
    "from biopsykit.signals.icg.outlier_correction import (\n",
    "    OutlierCorrectionForouzanfar2018,\n",
    "    OutlierCorrectionLinearInterpolation,\n",
    ")"
   ]
  },
  {
   "cell_type": "code",
   "execution_count": null,
   "metadata": {},
   "outputs": [],
   "source": [
    "# subset = dataset_empkins.get_subset(participant=\"VP_001\", condition=\"tsst\", phase=\"Pause_1\")\n",
    "subset = dataset_guardian.get_subset(participant=\"GDN0005\", phase=\"Pause\")"
   ]
  },
  {
   "cell_type": "code",
   "execution_count": null,
   "metadata": {},
   "outputs": [],
   "source": [
    "ecg = subset.ecg\n",
    "icg = subset.icg\n",
    "fs = subset.sampling_rate_ecg"
   ]
  },
  {
   "cell_type": "code",
   "execution_count": null,
   "metadata": {},
   "outputs": [],
   "source": [
    "fig, ax = plt.subplots()\n",
    "icg.plot(ax=ax)"
   ]
  },
  {
   "cell_type": "code",
   "execution_count": null,
   "metadata": {},
   "outputs": [],
   "source": [
    "heartbeats = subset.heartbeats\n",
    "heartbeats"
   ]
  },
  {
   "cell_type": "code",
   "execution_count": null,
   "metadata": {},
   "outputs": [],
   "source": [
    "ecg_extraction = QPeakExtractionVanLien2013(time_interval_ms=40, handle_missing_events=\"ignore\")\n",
    "ecg_extraction.extract(ecg=ecg, heartbeats=heartbeats, sampling_rate_hz=fs)\n",
    "ecg_extraction.points_"
   ]
  },
  {
   "cell_type": "code",
   "execution_count": null,
   "metadata": {},
   "outputs": [],
   "source": [
    "heartbeat_segmentation = HeartbeatSegmentationNeurokit()\n",
    "\n",
    "cpoint_extraction = CPointExtractionScipyFindPeaks()\n",
    "cpoint_extraction.extract(icg=icg, heartbeats=heartbeats, sampling_rate_hz=fs)\n",
    "\n",
    "display(cpoint_extraction.points_)\n",
    "\n",
    "bpoint_extraction = BPointExtractionForouzanfar2018(correct_outliers=True)\n",
    "bpoint_extraction.extract(\n",
    "    icg=icg, heartbeats=heartbeats, c_points=cpoint_extraction.points_, sampling_rate_hz=fs\n",
    ")\n",
    "display(bpoint_extraction.points_)\n",
    "\n",
    "outlier_correction = OutlierCorrectionLinearInterpolation()\n",
    "outlier_correction.correct_outlier(\n",
    "    b_points=bpoint_extraction.points_, c_points=cpoint_extraction.points_, sampling_rate_hz=fs\n",
    ")\n",
    "outlier_correction.points_"
   ]
  },
  {
   "cell_type": "code",
   "execution_count": null,
   "metadata": {},
   "outputs": [],
   "source": [
    "from pepbench.pipelines import (\n",
    "    PepExtractionPipeline,\n",
    "    PepExtractionPipelineReferenceBPoints,\n",
    "    PepExtractionPipelineReferenceQPeaks,\n",
    ")"
   ]
  },
  {
   "cell_type": "code",
   "execution_count": null,
   "metadata": {},
   "outputs": [],
   "source": [
    "heartbeat_segmentation_algo = HeartbeatSegmentationNeurokit()\n",
    "q_wave_algo = QPeakExtractionVanLien2013()\n",
    "b_point_algo = BPointExtractionForouzanfar2018(correct_outliers=True)\n",
    "outlier_correction_algo = OutlierCorrectionForouzanfar2018()\n",
    "# outlier_correction_algo = OutlierCorrectionDummy()"
   ]
  },
  {
   "cell_type": "code",
   "execution_count": null,
   "metadata": {},
   "outputs": [],
   "source": [
    "pipeline_qpoints = PepExtractionPipelineReferenceQPeaks(\n",
    "    heartbeat_segmentation_algo=heartbeat_segmentation_algo,\n",
    "    q_peak_algo=q_wave_algo,\n",
    "    b_point_algo=b_point_algo,\n",
    "    outlier_correction_algo=outlier_correction_algo,\n",
    "    handle_missing_events=\"ignore\",\n",
    ")"
   ]
  },
  {
   "cell_type": "code",
   "execution_count": null,
   "metadata": {},
   "outputs": [],
   "source": [
    "pipeline_bpoints = PepExtractionPipelineReferenceBPoints(\n",
    "    heartbeat_segmentation_algo=heartbeat_segmentation,\n",
    "    q_peak_algo=q_wave_algo,\n",
    "    b_point_algo=b_point_algo,\n",
    "    outlier_correction_algo=outlier_correction_algo,\n",
    "    handle_missing_events=\"ignore\",\n",
    ")"
   ]
  },
  {
   "cell_type": "code",
   "execution_count": null,
   "metadata": {},
   "outputs": [],
   "source": [
    "pipeline = PepExtractionPipeline(\n",
    "    heartbeat_segmentation_algo=heartbeat_segmentation_algo,\n",
    "    q_peak_algo=q_wave_algo,\n",
    "    b_point_algo=b_point_algo,\n",
    "    outlier_correction_algo=outlier_correction_algo,\n",
    "    handle_negative_pep=\"nan\",\n",
    "    handle_missing_events=\"ignore\",\n",
    ")"
   ]
  },
  {
   "cell_type": "code",
   "execution_count": null,
   "metadata": {},
   "outputs": [],
   "source": [
    "subset_guardian = dataset_guardian.get_subset(participant=[\"GDN0005\", \"GDN0006\"])\n",
    "pep_challenge = PepEvaluationChallenge(dataset=subset_guardian)\n",
    "\n",
    "pep_challenge.run(pipeline)"
   ]
  },
  {
   "cell_type": "code",
   "execution_count": null,
   "metadata": {},
   "outputs": [],
   "source": [
    "pep_challenge.results_as_df()"
   ]
  },
  {
   "cell_type": "code",
   "execution_count": null,
   "metadata": {},
   "outputs": [],
   "source": [
    "pep_challenge.results_agg_mean_std_"
   ]
  },
  {
   "cell_type": "code",
   "execution_count": null,
   "metadata": {},
   "outputs": [],
   "source": [
    "# subset_test = dataset_empkins.get_subset(participant=\"VP_002\", condition=\"ftsst\", phase=\"Talk\")\n",
    "# match_heartbeat_lists(heartbeats_reference=subset_test.reference_heartbeats, heartbeats_extracted=subset_test.heartbeats, tolerance_ms=20, sampling_rate_hz=subset_test.sampling_rate_ecg)"
   ]
  },
  {
   "cell_type": "code",
   "execution_count": null,
   "metadata": {},
   "outputs": [],
   "source": []
  },
  {
   "cell_type": "code",
   "execution_count": null,
   "metadata": {},
   "outputs": [],
   "source": []
  },
  {
   "cell_type": "code",
   "execution_count": null,
   "metadata": {},
   "outputs": [],
   "source": [
    "fig, ax = plt.subplots()\n",
    "\n",
    "icg_data = subset.icg\n",
    "reference_labels_icg = subset.reference_labels_icg\n",
    "labeling_borders = subset.labeling_borders\n",
    "\n",
    "start_end_borders = reference_labels_icg.xs(\"heartbeat\", level=\"channel\")\n",
    "bpoint_labels = reference_labels_icg.xs(\"B-point\", level=\"label\")\n",
    "# bpoint_artefacts = reference_labels_icg.xs(\"Artefact\", level=\"label\")\n",
    "bpoint_labels_algo = bpoint_extraction.points_[\"b_point_sample\"].dropna()\n",
    "bpoint_labels_outlier = outlier_correction.points_[\"b_point_sample\"].dropna()\n",
    "\n",
    "icg_data.plot(ax=ax)\n",
    "\n",
    "ax.vlines(\n",
    "    x=icg_data.index[start_end_borders[\"sample_relative\"]],\n",
    "    ymin=0,\n",
    "    ymax=1,\n",
    "    colors=cmaps.tech[2],\n",
    "    transform=ax.get_xaxis_transform(),\n",
    ")\n",
    "ax.scatter(\n",
    "    x=icg_data.index[bpoint_labels[\"sample_relative\"]],\n",
    "    y=icg_data[\"icg_der\"][icg_data.index[bpoint_labels[\"sample_relative\"]]],\n",
    "    color=cmaps.nat[0],\n",
    "    zorder=3,\n",
    "    label=\"Reference\",\n",
    ")\n",
    "# ax.scatter(x=icg_data.index[bpoint_artefacts[\"sample_relative\"]], y=icg_data[\"icg_der\"][icg_data.index[bpoint_artefacts[\"sample_relative\"]]], color=cmaps.med[0], zorder=3, label=\"Artefacts\")\n",
    "ax.scatter(\n",
    "    x=icg_data.index[bpoint_labels_algo.astype(int)],\n",
    "    y=icg_data[\"icg_der\"][icg_data.index[bpoint_labels_algo.astype(int)]],\n",
    "    color=cmaps.phil[0],\n",
    "    zorder=3,\n",
    "    label=\"Algorithm\",\n",
    ")\n",
    "ax.scatter(\n",
    "    x=icg_data.index[bpoint_labels_outlier.astype(int)],\n",
    "    y=icg_data[\"icg_der\"][icg_data.index[bpoint_labels_outlier.astype(int)]],\n",
    "    color=cmaps.wiso[0],\n",
    "    zorder=3,\n",
    "    label=\"Outlier Correction\",\n",
    ")\n",
    "\n",
    "ax.legend()\n",
    "\n",
    "fig.tight_layout()"
   ]
  },
  {
   "cell_type": "code",
   "execution_count": null,
   "metadata": {},
   "outputs": [],
   "source": [
    "fig, ax = plt.subplots()\n",
    "\n",
    "ecg_data = subset.ecg\n",
    "reference_labels_ecg = subset.reference_labels_ecg\n",
    "labeling_borders = subset.labeling_borders\n",
    "\n",
    "start_end_borders = reference_labels_ecg.xs(\"heartbeat\", level=\"channel\")\n",
    "qwave_labels = reference_labels_ecg.xs(\"Q-wave_onset\", level=\"label\")\n",
    "qwave_labels_algo = ecg_extraction.points_[\"q_peak_sample\"].dropna()\n",
    "\n",
    "ecg_data.plot(ax=ax)\n",
    "\n",
    "ax.vlines(\n",
    "    x=ecg_data.index[start_end_borders[\"sample_relative\"]],\n",
    "    ymin=0,\n",
    "    ymax=1,\n",
    "    colors=cmaps.tech[2],\n",
    "    transform=ax.get_xaxis_transform(),\n",
    ")\n",
    "ax.scatter(\n",
    "    x=ecg_data.index[qwave_labels[\"sample_relative\"]],\n",
    "    y=ecg_data[\"ecg\"][ecg_data.index[qwave_labels[\"sample_relative\"]]],\n",
    "    color=cmaps.nat[0],\n",
    "    zorder=3,\n",
    ")\n",
    "ax.scatter(\n",
    "    x=ecg_data.index[qwave_labels_algo.astype(int)],\n",
    "    y=ecg_data[\"ecg\"][ecg_data.index[qwave_labels_algo.astype(int)]],\n",
    "    color=cmaps.phil[0],\n",
    "    zorder=3,\n",
    ")\n",
    "\n",
    "fig.tight_layout()"
   ]
  },
  {
   "cell_type": "code",
   "execution_count": null,
   "metadata": {},
   "outputs": [],
   "source": []
  }
 ],
 "metadata": {
  "jupytext": {
   "encoding": "# -*- coding: utf-8 -*-",
   "text_representation": {
    "extension": ".py",
    "format_name": "sphinx",
    "format_version": "1.1",
    "jupytext_version": "1.13.0"
   }
  },
  "kernelspec": {
   "display_name": "pepbench",
   "language": "python",
   "name": "pepbench"
  },
  "language_info": {
   "codemirror_mode": {
    "name": "ipython",
    "version": 3
   },
   "file_extension": ".py",
   "mimetype": "text/x-python",
   "name": "python",
   "nbconvert_exporter": "python",
   "pygments_lexer": "ipython3",
   "version": "3.10.14"
  },
  "toc-showtags": false,
  "vscode": {
   "interpreter": {
    "hash": "7014e6a8beff3a47c7c0424a6c63a486addc0ee3d12468bf1ae9a85a56cca70c"
   }
  }
 },
 "nbformat": 4,
 "nbformat_minor": 4
}
