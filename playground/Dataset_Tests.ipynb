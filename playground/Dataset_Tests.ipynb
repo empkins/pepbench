{
 "cells": [
  {
   "cell_type": "markdown",
   "metadata": {
    "cell_marker": "\"\"\""
   },
   "source": [
    "# Title"
   ]
  },
  {
   "cell_type": "markdown",
   "metadata": {},
   "source": [
    "## Setup and Helper Functions"
   ]
  },
  {
   "cell_type": "code",
   "execution_count": 28,
   "metadata": {},
   "outputs": [
    {
     "name": "stdout",
     "output_type": "stream",
     "text": [
      "The autoreload extension is already loaded. To reload it, use:\n",
      "  %reload_ext autoreload\n"
     ]
    }
   ],
   "source": [
    "import json\n",
    "from pathlib import Path\n",
    "\n",
    "import matplotlib.pyplot as plt\n",
    "import seaborn as sns\n",
    "from fau_colors import cmaps, register_fausans_font\n",
    "\n",
    "from pepbench.datasets import EmpkinsDataset, GuardianDataset\n",
    "from pepbench.evaluation import PepEvaluationChallenge\n",
    "\n",
    "%matplotlib widget\n",
    "%load_ext autoreload\n",
    "%autoreload 2"
   ]
  },
  {
   "cell_type": "code",
   "execution_count": 29,
   "metadata": {},
   "outputs": [
    {
     "data": {
      "text/html": [
       "<svg  width=\"330\" height=\"55\"><rect x=\"0\" y=\"0\" width=\"55\" height=\"55\" style=\"fill:#002f6c;stroke-width:2;stroke:rgb(255,255,255)\"/><rect x=\"55\" y=\"0\" width=\"55\" height=\"55\" style=\"fill:#779fb5;stroke-width:2;stroke:rgb(255,255,255)\"/><rect x=\"110\" y=\"0\" width=\"55\" height=\"55\" style=\"fill:#ffb81c;stroke-width:2;stroke:rgb(255,255,255)\"/><rect x=\"165\" y=\"0\" width=\"55\" height=\"55\" style=\"fill:#00a3e0;stroke-width:2;stroke:rgb(255,255,255)\"/><rect x=\"220\" y=\"0\" width=\"55\" height=\"55\" style=\"fill:#43b02a;stroke-width:2;stroke:rgb(255,255,255)\"/><rect x=\"275\" y=\"0\" width=\"55\" height=\"55\" style=\"fill:#c8102e;stroke-width:2;stroke:rgb(255,255,255)\"/></svg>"
      ],
      "text/plain": [
       "[(0.0, 0.1843137254901961, 0.4235294117647059),\n",
       " (0.4666666666666667, 0.6235294117647059, 0.7098039215686275),\n",
       " (1.0, 0.7215686274509804, 0.10980392156862745),\n",
       " (0.0, 0.6392156862745098, 0.8784313725490196),\n",
       " (0.2627450980392157, 0.6901960784313725, 0.16470588235294117),\n",
       " (0.7843137254901961, 0.06274509803921569, 0.1803921568627451)]"
      ]
     },
     "execution_count": 29,
     "metadata": {},
     "output_type": "execute_result"
    }
   ],
   "source": [
    "register_fausans_font()\n",
    "plt.close(\"all\")\n",
    "\n",
    "palette = sns.color_palette(cmaps.faculties)\n",
    "sns.set_theme(context=\"notebook\", style=\"ticks\", font=\"sans-serif\", palette=palette)\n",
    "\n",
    "plt.rcParams[\"figure.figsize\"] = (10, 5)\n",
    "plt.rcParams[\"pdf.fonttype\"] = 42\n",
    "plt.rcParams[\"mathtext.default\"] = \"regular\"\n",
    "\n",
    "palette"
   ]
  },
  {
   "cell_type": "code",
   "execution_count": 30,
   "metadata": {},
   "outputs": [
    {
     "ename": "KeyError",
     "evalue": "'debug'",
     "output_type": "error",
     "traceback": [
      "\u001b[0;31m---------------------------------------------------------------------------\u001b[0m",
      "\u001b[0;31mKeyError\u001b[0m                                  Traceback (most recent call last)",
      "Cell \u001b[0;32mIn[30], line 5\u001b[0m\n\u001b[1;32m      1\u001b[0m deploy_type \u001b[38;5;241m=\u001b[39m \u001b[38;5;124m\"\u001b[39m\u001b[38;5;124mdebug\u001b[39m\u001b[38;5;124m\"\u001b[39m\n\u001b[1;32m      3\u001b[0m config_dict \u001b[38;5;241m=\u001b[39m json\u001b[38;5;241m.\u001b[39mload(Path(\u001b[38;5;124m\"\u001b[39m\u001b[38;5;124m./config.json\u001b[39m\u001b[38;5;124m\"\u001b[39m)\u001b[38;5;241m.\u001b[39mopen(encoding\u001b[38;5;241m=\u001b[39m\u001b[38;5;124m\"\u001b[39m\u001b[38;5;124mutf-8\u001b[39m\u001b[38;5;124m\"\u001b[39m))\n\u001b[0;32m----> 5\u001b[0m guardian_base_path \u001b[38;5;241m=\u001b[39m Path(\u001b[43mconfig_dict\u001b[49m\u001b[43m[\u001b[49m\u001b[43mdeploy_type\u001b[49m\u001b[43m]\u001b[49m[\u001b[38;5;124m\"\u001b[39m\u001b[38;5;124mguardian_path\u001b[39m\u001b[38;5;124m\"\u001b[39m])\n\u001b[1;32m      6\u001b[0m guardian_base_path\n",
      "\u001b[0;31mKeyError\u001b[0m: 'debug'"
     ]
    }
   ],
   "source": [
    "deploy_type = \"debug\"\n",
    "\n",
    "config_dict = json.load(Path(\"./config.json\").open(encoding=\"utf-8\"))\n",
    "\n",
    "guardian_base_path = Path(config_dict[deploy_type][\"guardian_path\"])\n",
    "guardian_base_path"
   ]
  },
  {
   "cell_type": "markdown",
   "metadata": {},
   "source": [
    "## Guardian Dataset"
   ]
  },
  {
   "cell_type": "code",
   "execution_count": null,
   "metadata": {},
   "outputs": [],
   "source": [
    "dataset_guardian = GuardianDataset(guardian_base_path, use_cache=True, only_labeled=True)\n",
    "dataset_guardian"
   ]
  },
  {
   "cell_type": "code",
   "execution_count": 31,
   "metadata": {
    "scrolled": true
   },
   "outputs": [
    {
     "data": {
      "text/html": [
       "<div>\n",
       "<style scoped>\n",
       "    .dataframe tbody tr th:only-of-type {\n",
       "        vertical-align: middle;\n",
       "    }\n",
       "\n",
       "    .dataframe tbody tr th {\n",
       "        vertical-align: top;\n",
       "    }\n",
       "\n",
       "    .dataframe thead th {\n",
       "        text-align: right;\n",
       "    }\n",
       "</style>\n",
       "<table border=\"1\" class=\"dataframe\">\n",
       "  <thead>\n",
       "    <tr style=\"text-align: right;\">\n",
       "      <th></th>\n",
       "      <th>description</th>\n",
       "      <th>sample_absolute</th>\n",
       "      <th>sample_relative</th>\n",
       "    </tr>\n",
       "    <tr>\n",
       "      <th>timestamp</th>\n",
       "      <th></th>\n",
       "      <th></th>\n",
       "      <th></th>\n",
       "    </tr>\n",
       "  </thead>\n",
       "  <tbody>\n",
       "    <tr>\n",
       "      <th>2018-02-16 09:58:32.160000+01:00</th>\n",
       "      <td>{'Pause': 'start'}</td>\n",
       "      <td>127245</td>\n",
       "      <td>127245</td>\n",
       "    </tr>\n",
       "    <tr>\n",
       "      <th>2018-02-16 09:59:32.160000+01:00</th>\n",
       "      <td>{'Pause': 'end'}</td>\n",
       "      <td>157245</td>\n",
       "      <td>157245</td>\n",
       "    </tr>\n",
       "  </tbody>\n",
       "</table>\n",
       "</div>"
      ],
      "text/plain": [
       "                                         description  sample_absolute  \\\n",
       "timestamp                                                               \n",
       "2018-02-16 09:58:32.160000+01:00  {'Pause': 'start'}           127245   \n",
       "2018-02-16 09:59:32.160000+01:00    {'Pause': 'end'}           157245   \n",
       "\n",
       "                                  sample_relative  \n",
       "timestamp                                          \n",
       "2018-02-16 09:58:32.160000+01:00           127245  \n",
       "2018-02-16 09:59:32.160000+01:00           157245  "
      ]
     },
     "metadata": {},
     "output_type": "display_data"
    },
    {
     "data": {
      "text/html": [
       "<div>\n",
       "<style scoped>\n",
       "    .dataframe tbody tr th:only-of-type {\n",
       "        vertical-align: middle;\n",
       "    }\n",
       "\n",
       "    .dataframe tbody tr th {\n",
       "        vertical-align: top;\n",
       "    }\n",
       "\n",
       "    .dataframe thead th {\n",
       "        text-align: right;\n",
       "    }\n",
       "</style>\n",
       "<table border=\"1\" class=\"dataframe\">\n",
       "  <thead>\n",
       "    <tr style=\"text-align: right;\">\n",
       "      <th></th>\n",
       "      <th></th>\n",
       "      <th></th>\n",
       "      <th>sample_absolute</th>\n",
       "      <th>sample_relative</th>\n",
       "    </tr>\n",
       "    <tr>\n",
       "      <th>heartbeat_id</th>\n",
       "      <th>channel</th>\n",
       "      <th>label</th>\n",
       "      <th></th>\n",
       "      <th></th>\n",
       "    </tr>\n",
       "  </thead>\n",
       "  <tbody>\n",
       "    <tr>\n",
       "      <th rowspan=\"3\" valign=\"top\">0</th>\n",
       "      <th>heartbeat</th>\n",
       "      <th>start</th>\n",
       "      <td>127597</td>\n",
       "      <td>352</td>\n",
       "    </tr>\n",
       "    <tr>\n",
       "      <th>ECG</th>\n",
       "      <th>Q-wave_onset</th>\n",
       "      <td>127737</td>\n",
       "      <td>492</td>\n",
       "    </tr>\n",
       "    <tr>\n",
       "      <th>heartbeat</th>\n",
       "      <th>end</th>\n",
       "      <td>128053</td>\n",
       "      <td>808</td>\n",
       "    </tr>\n",
       "    <tr>\n",
       "      <th rowspan=\"2\" valign=\"top\">1</th>\n",
       "      <th>heartbeat</th>\n",
       "      <th>start</th>\n",
       "      <td>128053</td>\n",
       "      <td>808</td>\n",
       "    </tr>\n",
       "    <tr>\n",
       "      <th>ECG</th>\n",
       "      <th>Q-wave_onset</th>\n",
       "      <td>128193</td>\n",
       "      <td>948</td>\n",
       "    </tr>\n",
       "    <tr>\n",
       "      <th>...</th>\n",
       "      <th>...</th>\n",
       "      <th>...</th>\n",
       "      <td>...</td>\n",
       "      <td>...</td>\n",
       "    </tr>\n",
       "    <tr>\n",
       "      <th rowspan=\"2\" valign=\"top\">62</th>\n",
       "      <th>ECG</th>\n",
       "      <th>Q-wave_onset</th>\n",
       "      <td>156070</td>\n",
       "      <td>28825</td>\n",
       "    </tr>\n",
       "    <tr>\n",
       "      <th>heartbeat</th>\n",
       "      <th>end</th>\n",
       "      <td>156417</td>\n",
       "      <td>29172</td>\n",
       "    </tr>\n",
       "    <tr>\n",
       "      <th rowspan=\"3\" valign=\"top\">63</th>\n",
       "      <th>heartbeat</th>\n",
       "      <th>start</th>\n",
       "      <td>156417</td>\n",
       "      <td>29172</td>\n",
       "    </tr>\n",
       "    <tr>\n",
       "      <th>ECG</th>\n",
       "      <th>Q-wave_onset</th>\n",
       "      <td>156574</td>\n",
       "      <td>29329</td>\n",
       "    </tr>\n",
       "    <tr>\n",
       "      <th>heartbeat</th>\n",
       "      <th>end</th>\n",
       "      <td>156901</td>\n",
       "      <td>29656</td>\n",
       "    </tr>\n",
       "  </tbody>\n",
       "</table>\n",
       "<p>192 rows × 2 columns</p>\n",
       "</div>"
      ],
      "text/plain": [
       "                                     sample_absolute  sample_relative\n",
       "heartbeat_id channel   label                                         \n",
       "0            heartbeat start                  127597              352\n",
       "             ECG       Q-wave_onset           127737              492\n",
       "             heartbeat end                    128053              808\n",
       "1            heartbeat start                  128053              808\n",
       "             ECG       Q-wave_onset           128193              948\n",
       "...                                              ...              ...\n",
       "62           ECG       Q-wave_onset           156070            28825\n",
       "             heartbeat end                    156417            29172\n",
       "63           heartbeat start                  156417            29172\n",
       "             ECG       Q-wave_onset           156574            29329\n",
       "             heartbeat end                    156901            29656\n",
       "\n",
       "[192 rows x 2 columns]"
      ]
     },
     "metadata": {},
     "output_type": "display_data"
    },
    {
     "data": {
      "text/html": [
       "<div>\n",
       "<style scoped>\n",
       "    .dataframe tbody tr th:only-of-type {\n",
       "        vertical-align: middle;\n",
       "    }\n",
       "\n",
       "    .dataframe tbody tr th {\n",
       "        vertical-align: top;\n",
       "    }\n",
       "\n",
       "    .dataframe thead th {\n",
       "        text-align: right;\n",
       "    }\n",
       "</style>\n",
       "<table border=\"1\" class=\"dataframe\">\n",
       "  <thead>\n",
       "    <tr style=\"text-align: right;\">\n",
       "      <th></th>\n",
       "      <th>ecg</th>\n",
       "    </tr>\n",
       "    <tr>\n",
       "      <th>date (Europe/Berlin)</th>\n",
       "      <th></th>\n",
       "    </tr>\n",
       "  </thead>\n",
       "  <tbody>\n",
       "    <tr>\n",
       "      <th>2018-02-16 09:58:32.160000+01:00</th>\n",
       "      <td>-0.080829</td>\n",
       "    </tr>\n",
       "    <tr>\n",
       "      <th>2018-02-16 09:58:32.162000+01:00</th>\n",
       "      <td>-0.088983</td>\n",
       "    </tr>\n",
       "    <tr>\n",
       "      <th>2018-02-16 09:58:32.164000+01:00</th>\n",
       "      <td>-0.105747</td>\n",
       "    </tr>\n",
       "    <tr>\n",
       "      <th>2018-02-16 09:58:32.166000+01:00</th>\n",
       "      <td>-0.131274</td>\n",
       "    </tr>\n",
       "    <tr>\n",
       "      <th>2018-02-16 09:58:32.168000+01:00</th>\n",
       "      <td>-0.171956</td>\n",
       "    </tr>\n",
       "    <tr>\n",
       "      <th>...</th>\n",
       "      <td>...</td>\n",
       "    </tr>\n",
       "    <tr>\n",
       "      <th>2018-02-16 09:59:32.152000+01:00</th>\n",
       "      <td>-0.082495</td>\n",
       "    </tr>\n",
       "    <tr>\n",
       "      <th>2018-02-16 09:59:32.154000+01:00</th>\n",
       "      <td>-0.098023</td>\n",
       "    </tr>\n",
       "    <tr>\n",
       "      <th>2018-02-16 09:59:32.156000+01:00</th>\n",
       "      <td>-0.124823</td>\n",
       "    </tr>\n",
       "    <tr>\n",
       "      <th>2018-02-16 09:59:32.158000+01:00</th>\n",
       "      <td>-0.151475</td>\n",
       "    </tr>\n",
       "    <tr>\n",
       "      <th>2018-02-16 09:59:32.160000+01:00</th>\n",
       "      <td>-0.138186</td>\n",
       "    </tr>\n",
       "  </tbody>\n",
       "</table>\n",
       "<p>30001 rows × 1 columns</p>\n",
       "</div>"
      ],
      "text/plain": [
       "                                       ecg\n",
       "date (Europe/Berlin)                      \n",
       "2018-02-16 09:58:32.160000+01:00 -0.080829\n",
       "2018-02-16 09:58:32.162000+01:00 -0.088983\n",
       "2018-02-16 09:58:32.164000+01:00 -0.105747\n",
       "2018-02-16 09:58:32.166000+01:00 -0.131274\n",
       "2018-02-16 09:58:32.168000+01:00 -0.171956\n",
       "...                                    ...\n",
       "2018-02-16 09:59:32.152000+01:00 -0.082495\n",
       "2018-02-16 09:59:32.154000+01:00 -0.098023\n",
       "2018-02-16 09:59:32.156000+01:00 -0.124823\n",
       "2018-02-16 09:59:32.158000+01:00 -0.151475\n",
       "2018-02-16 09:59:32.160000+01:00 -0.138186\n",
       "\n",
       "[30001 rows x 1 columns]"
      ]
     },
     "metadata": {},
     "output_type": "display_data"
    }
   ],
   "source": [
    "subset = dataset_guardian.get_subset(participant=\"GDN0005\", phase=\"Pause\")\n",
    "\n",
    "labeling_borders = subset.labeling_borders\n",
    "reference_labels_icg = subset.reference_labels_icg\n",
    "reference_labels_ecg = subset.reference_labels_ecg\n",
    "ecg_data = subset.ecg\n",
    "icg_data = subset.icg\n",
    "\n",
    "display(labeling_borders)\n",
    "display(reference_labels_ecg)\n",
    "display(ecg_data)"
   ]
  },
  {
   "cell_type": "markdown",
   "metadata": {},
   "source": [
    "## EmpkinS Dataset"
   ]
  },
  {
   "cell_type": "code",
   "execution_count": 32,
   "metadata": {},
   "outputs": [
    {
     "ename": "KeyError",
     "evalue": "'debug'",
     "output_type": "error",
     "traceback": [
      "\u001b[0;31m---------------------------------------------------------------------------\u001b[0m",
      "\u001b[0;31mKeyError\u001b[0m                                  Traceback (most recent call last)",
      "Cell \u001b[0;32mIn[32], line 1\u001b[0m\n\u001b[0;32m----> 1\u001b[0m empkins_base_path \u001b[38;5;241m=\u001b[39m Path(\u001b[43mconfig_dict\u001b[49m\u001b[43m[\u001b[49m\u001b[43mdeploy_type\u001b[49m\u001b[43m]\u001b[49m[\u001b[38;5;124m\"\u001b[39m\u001b[38;5;124mempkins_path\u001b[39m\u001b[38;5;124m\"\u001b[39m])\n\u001b[1;32m      2\u001b[0m empkins_base_path\n",
      "\u001b[0;31mKeyError\u001b[0m: 'debug'"
     ]
    }
   ],
   "source": [
    "empkins_base_path = Path(config_dict[deploy_type][\"empkins_path\"])\n",
    "empkins_base_path"
   ]
  },
  {
   "cell_type": "code",
   "execution_count": null,
   "metadata": {},
   "outputs": [],
   "source": [
    "dataset_empkins = EmpkinsDataset(empkins_base_path, use_cache=False, only_labeled=True)\n",
    "dataset_empkins"
   ]
  },
  {
   "cell_type": "code",
   "execution_count": null,
   "metadata": {},
   "outputs": [],
   "source": [
    "subset = dataset_empkins.get_subset(participant=\"VP_001\", condition=\"tsst\", phase=\"Math\")\n",
    "\n",
    "labeling_borders = subset.labeling_borders\n",
    "reference_labels_icg = subset.reference_labels_icg\n",
    "reference_labels_ecg = subset.reference_labels_ecg\n",
    "ecg_data = subset.ecg\n",
    "icg_data = subset.icg\n",
    "\n",
    "display(labeling_borders)\n",
    "display(reference_labels_ecg)\n",
    "display(ecg_data)"
   ]
  },
  {
   "cell_type": "markdown",
   "metadata": {},
   "source": [
    "## Plot Tests"
   ]
  },
  {
   "cell_type": "code",
   "execution_count": 33,
   "metadata": {},
   "outputs": [
    {
     "data": {
      "text/html": [
       "<div>\n",
       "<style scoped>\n",
       "    .dataframe tbody tr th:only-of-type {\n",
       "        vertical-align: middle;\n",
       "    }\n",
       "\n",
       "    .dataframe tbody tr th {\n",
       "        vertical-align: top;\n",
       "    }\n",
       "\n",
       "    .dataframe thead th {\n",
       "        text-align: right;\n",
       "    }\n",
       "</style>\n",
       "<table border=\"1\" class=\"dataframe\">\n",
       "  <thead>\n",
       "    <tr style=\"text-align: right;\">\n",
       "      <th></th>\n",
       "      <th></th>\n",
       "      <th></th>\n",
       "      <th>sample_absolute</th>\n",
       "      <th>sample_relative</th>\n",
       "    </tr>\n",
       "    <tr>\n",
       "      <th>heartbeat_id</th>\n",
       "      <th>channel</th>\n",
       "      <th>label</th>\n",
       "      <th></th>\n",
       "      <th></th>\n",
       "    </tr>\n",
       "  </thead>\n",
       "  <tbody>\n",
       "    <tr>\n",
       "      <th rowspan=\"3\" valign=\"top\">0</th>\n",
       "      <th>heartbeat</th>\n",
       "      <th>start</th>\n",
       "      <td>127597</td>\n",
       "      <td>352</td>\n",
       "    </tr>\n",
       "    <tr>\n",
       "      <th>ECG</th>\n",
       "      <th>Q-wave_onset</th>\n",
       "      <td>127737</td>\n",
       "      <td>492</td>\n",
       "    </tr>\n",
       "    <tr>\n",
       "      <th>heartbeat</th>\n",
       "      <th>end</th>\n",
       "      <td>128053</td>\n",
       "      <td>808</td>\n",
       "    </tr>\n",
       "    <tr>\n",
       "      <th rowspan=\"2\" valign=\"top\">1</th>\n",
       "      <th>heartbeat</th>\n",
       "      <th>start</th>\n",
       "      <td>128053</td>\n",
       "      <td>808</td>\n",
       "    </tr>\n",
       "    <tr>\n",
       "      <th>ECG</th>\n",
       "      <th>Q-wave_onset</th>\n",
       "      <td>128193</td>\n",
       "      <td>948</td>\n",
       "    </tr>\n",
       "    <tr>\n",
       "      <th>...</th>\n",
       "      <th>...</th>\n",
       "      <th>...</th>\n",
       "      <td>...</td>\n",
       "      <td>...</td>\n",
       "    </tr>\n",
       "    <tr>\n",
       "      <th rowspan=\"2\" valign=\"top\">62</th>\n",
       "      <th>ECG</th>\n",
       "      <th>Q-wave_onset</th>\n",
       "      <td>156070</td>\n",
       "      <td>28825</td>\n",
       "    </tr>\n",
       "    <tr>\n",
       "      <th>heartbeat</th>\n",
       "      <th>end</th>\n",
       "      <td>156417</td>\n",
       "      <td>29172</td>\n",
       "    </tr>\n",
       "    <tr>\n",
       "      <th rowspan=\"3\" valign=\"top\">63</th>\n",
       "      <th>heartbeat</th>\n",
       "      <th>start</th>\n",
       "      <td>156417</td>\n",
       "      <td>29172</td>\n",
       "    </tr>\n",
       "    <tr>\n",
       "      <th>ECG</th>\n",
       "      <th>Q-wave_onset</th>\n",
       "      <td>156574</td>\n",
       "      <td>29329</td>\n",
       "    </tr>\n",
       "    <tr>\n",
       "      <th>heartbeat</th>\n",
       "      <th>end</th>\n",
       "      <td>156901</td>\n",
       "      <td>29656</td>\n",
       "    </tr>\n",
       "  </tbody>\n",
       "</table>\n",
       "<p>192 rows × 2 columns</p>\n",
       "</div>"
      ],
      "text/plain": [
       "                                     sample_absolute  sample_relative\n",
       "heartbeat_id channel   label                                         \n",
       "0            heartbeat start                  127597              352\n",
       "             ECG       Q-wave_onset           127737              492\n",
       "             heartbeat end                    128053              808\n",
       "1            heartbeat start                  128053              808\n",
       "             ECG       Q-wave_onset           128193              948\n",
       "...                                              ...              ...\n",
       "62           ECG       Q-wave_onset           156070            28825\n",
       "             heartbeat end                    156417            29172\n",
       "63           heartbeat start                  156417            29172\n",
       "             ECG       Q-wave_onset           156574            29329\n",
       "             heartbeat end                    156901            29656\n",
       "\n",
       "[192 rows x 2 columns]"
      ]
     },
     "execution_count": 33,
     "metadata": {},
     "output_type": "execute_result"
    }
   ],
   "source": [
    "reference_labels_ecg"
   ]
  },
  {
   "cell_type": "code",
   "execution_count": 34,
   "metadata": {},
   "outputs": [],
   "source": [
    "# fig, ax = plt.subplots()\n",
    "#\n",
    "# subset = dataset_empkins.get_subset(participant=\"VP_001\", condition=\"tsst\", phase=\"Pause_1\")\n",
    "#\n",
    "# ecg_data = subset.ecg_clean\n",
    "# reference_labels_ecg = subset.reference_labels_ecg\n",
    "# labeling_borders = subset.labeling_borders\n",
    "#\n",
    "# start_end_borders = reference_labels_ecg.xs(\"heartbeat\", level=\"channel\")\n",
    "# qwave_labels = reference_labels_ecg.xs(\"Q-wave_onset\", level=\"label\")\n",
    "#\n",
    "# ecg_data.plot(ax=ax)\n",
    "#\n",
    "# ax.vlines(x=ecg_data.index[start_end_borders[\"sample_relative\"]], ymin=0, ymax=1, colors=cmaps.tech[2], transform=ax.get_xaxis_transform())\n",
    "# ax.scatter(x=ecg_data.index[qwave_labels[\"sample_relative\"]], y=ecg_data[\"ecg\"][ecg_data.index[qwave_labels[\"sample_relative\"]]], color=cmaps.nat[0], zorder=3)\n",
    "#\n",
    "# fig.tight_layout()"
   ]
  },
  {
   "cell_type": "markdown",
   "metadata": {},
   "source": [
    "## Signal Processing Tests"
   ]
  },
  {
   "cell_type": "code",
   "execution_count": 35,
   "metadata": {},
   "outputs": [],
   "source": [
    "# subset = dataset_empkins.get_subset(participant=\"VP_001\", condition=\"tsst\", phase=\"Math\")\n",
    "# icg_data = subset.icg\n",
    "# icg_clean = subset.icg_clean#\n",
    "\n",
    "# fig, ax = plt.subplots()\n",
    "# icg_data.plot(ax=ax)\n",
    "# icg_clean.plot(ax=ax)\n",
    "# fig.tight_layout()"
   ]
  },
  {
   "cell_type": "code",
   "execution_count": 36,
   "metadata": {},
   "outputs": [
    {
     "data": {
      "application/vnd.jupyter.widget-view+json": {
       "model_id": "5acb26c0e0214482a7269f2b23cd7f55",
       "version_major": 2,
       "version_minor": 0
      },
      "image/png": "[encoded data removed]",
      "text/html": [
       "\n",
       "            <div style=\"display: inline-block;\">\n",
       "                <div class=\"jupyter-widgets widget-label\" style=\"text-align: center;\">\n",
       "                    Figure\n",
       "                </div>\n",
       "                <img src='data:image/png;base64,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' width=1000.0/>\n",
       "            </div>\n",
       "        "
      ],
      "text/plain": [
       "Canvas(toolbar=Toolbar(toolitems=[('Home', 'Reset original view', 'home', 'home'), ('Back', 'Back to previous …"
      ]
     },
     "metadata": {},
     "output_type": "display_data"
    }
   ],
   "source": [
    "subset = dataset_empkins.get_subset(participant=\"VP_001\", condition=\"tsst\", phase=\"Math\")\n",
    "ecg_data = subset.ecg\n",
    "ecg_clean = subset.ecg_clean\n",
    "\n",
    "fig, ax = plt.subplots()\n",
    "ecg_data.plot(ax=ax)\n",
    "ecg_clean.plot(ax=ax)\n",
    "fig.tight_layout()"
   ]
  },
  {
   "cell_type": "code",
   "execution_count": 37,
   "metadata": {},
   "outputs": [],
   "source": [
    "subset = dataset_empkins.get_subset(participant=\"VP_001\", condition=\"tsst\", phase=\"Pause_1\")"
   ]
  },
  {
   "cell_type": "code",
   "execution_count": 38,
   "metadata": {},
   "outputs": [],
   "source": [
    "subset = dataset_guardian.get_subset(participant=\"GDN0005\", phase=\"Pause\")\n",
    "# subset.reference_pep"
   ]
  },
  {
   "cell_type": "markdown",
   "metadata": {},
   "source": [
    "## Algorithm Tests"
   ]
  },
  {
   "cell_type": "code",
   "execution_count": 39,
   "metadata": {},
   "outputs": [],
   "source": [
    "from biopsykit.signals.ecg.event_extraction import (\n",
    "    QWaveOnsetExtractionVanLien2013,\n",
    ")\n",
    "from biopsykit.signals.ecg.segmentation import HeartbeatSegmentationNeurokit\n",
    "from biopsykit.signals.icg.event_extraction import (\n",
    "    BPointExtractionForouzanfar2018,\n",
    "    CPointExtractionScipyFindPeaks,\n",
    ")\n",
    "from biopsykit.signals.icg.outlier_correction import (\n",
    "    OutlierCorrectionForouzanfar2018,\n",
    "    OutlierCorrectionInterpolation,\n",
    ")"
   ]
  },
  {
   "cell_type": "code",
   "execution_count": 40,
   "metadata": {},
   "outputs": [],
   "source": [
    "# subset = dataset_empkins.get_subset(participant=\"VP_001\", condition=\"tsst\", phase=\"Pause_1\")\n",
    "subset = dataset_guardian.get_subset(participant=\"GDN0005\", phase=\"Pause\")"
   ]
  },
  {
   "cell_type": "code",
   "execution_count": 41,
   "metadata": {},
   "outputs": [],
   "source": [
    "ecg_clean = subset.ecg_clean\n",
    "icg_clean = subset.icg_clean\n",
    "fs = subset.sampling_rate_ecg"
   ]
  },
  {
   "cell_type": "code",
   "execution_count": 42,
   "metadata": {},
   "outputs": [
    {
     "data": {
      "text/html": [
       "<div>\n",
       "<style scoped>\n",
       "    .dataframe tbody tr th:only-of-type {\n",
       "        vertical-align: middle;\n",
       "    }\n",
       "\n",
       "    .dataframe tbody tr th {\n",
       "        vertical-align: top;\n",
       "    }\n",
       "\n",
       "    .dataframe thead th {\n",
       "        text-align: right;\n",
       "    }\n",
       "</style>\n",
       "<table border=\"1\" class=\"dataframe\">\n",
       "  <thead>\n",
       "    <tr style=\"text-align: right;\">\n",
       "      <th></th>\n",
       "      <th>start_time</th>\n",
       "      <th>start_sample</th>\n",
       "      <th>end_sample</th>\n",
       "      <th>r_peak_sample</th>\n",
       "      <th>rr_interval_sample</th>\n",
       "      <th>rr_interval_ms</th>\n",
       "    </tr>\n",
       "    <tr>\n",
       "      <th>heartbeat_id</th>\n",
       "      <th></th>\n",
       "      <th></th>\n",
       "      <th></th>\n",
       "      <th></th>\n",
       "      <th></th>\n",
       "      <th></th>\n",
       "    </tr>\n",
       "  </thead>\n",
       "  <tbody>\n",
       "    <tr>\n",
       "      <th>0</th>\n",
       "      <td>2018-02-16 09:58:32.864000+01:00</td>\n",
       "      <td>352</td>\n",
       "      <td>808</td>\n",
       "      <td>512</td>\n",
       "      <td>456.0</td>\n",
       "      <td>912.0</td>\n",
       "    </tr>\n",
       "    <tr>\n",
       "      <th>1</th>\n",
       "      <td>2018-02-16 09:58:33.776000+01:00</td>\n",
       "      <td>808</td>\n",
       "      <td>1252</td>\n",
       "      <td>968</td>\n",
       "      <td>437.0</td>\n",
       "      <td>874.0</td>\n",
       "    </tr>\n",
       "    <tr>\n",
       "      <th>2</th>\n",
       "      <td>2018-02-16 09:58:34.664000+01:00</td>\n",
       "      <td>1252</td>\n",
       "      <td>1686</td>\n",
       "      <td>1405</td>\n",
       "      <td>432.0</td>\n",
       "      <td>864.0</td>\n",
       "    </tr>\n",
       "    <tr>\n",
       "      <th>3</th>\n",
       "      <td>2018-02-16 09:58:35.532000+01:00</td>\n",
       "      <td>1686</td>\n",
       "      <td>2116</td>\n",
       "      <td>1837</td>\n",
       "      <td>429.0</td>\n",
       "      <td>858.0</td>\n",
       "    </tr>\n",
       "    <tr>\n",
       "      <th>4</th>\n",
       "      <td>2018-02-16 09:58:36.392000+01:00</td>\n",
       "      <td>2116</td>\n",
       "      <td>2570</td>\n",
       "      <td>2266</td>\n",
       "      <td>468.0</td>\n",
       "      <td>936.0</td>\n",
       "    </tr>\n",
       "    <tr>\n",
       "      <th>...</th>\n",
       "      <td>...</td>\n",
       "      <td>...</td>\n",
       "      <td>...</td>\n",
       "      <td>...</td>\n",
       "      <td>...</td>\n",
       "      <td>...</td>\n",
       "    </tr>\n",
       "    <tr>\n",
       "      <th>59</th>\n",
       "      <td>2018-02-16 09:59:26.738000+01:00</td>\n",
       "      <td>27289</td>\n",
       "      <td>27731</td>\n",
       "      <td>27444</td>\n",
       "      <td>442.0</td>\n",
       "      <td>884.0</td>\n",
       "    </tr>\n",
       "    <tr>\n",
       "      <th>60</th>\n",
       "      <td>2018-02-16 09:59:27.622000+01:00</td>\n",
       "      <td>27731</td>\n",
       "      <td>28188</td>\n",
       "      <td>27886</td>\n",
       "      <td>465.0</td>\n",
       "      <td>930.0</td>\n",
       "    </tr>\n",
       "    <tr>\n",
       "      <th>61</th>\n",
       "      <td>2018-02-16 09:59:28.536000+01:00</td>\n",
       "      <td>28188</td>\n",
       "      <td>28672</td>\n",
       "      <td>28351</td>\n",
       "      <td>494.0</td>\n",
       "      <td>988.0</td>\n",
       "    </tr>\n",
       "    <tr>\n",
       "      <th>62</th>\n",
       "      <td>2018-02-16 09:59:29.504000+01:00</td>\n",
       "      <td>28672</td>\n",
       "      <td>29172</td>\n",
       "      <td>28845</td>\n",
       "      <td>503.0</td>\n",
       "      <td>1006.0</td>\n",
       "    </tr>\n",
       "    <tr>\n",
       "      <th>63</th>\n",
       "      <td>2018-02-16 09:59:30.504000+01:00</td>\n",
       "      <td>29172</td>\n",
       "      <td>29656</td>\n",
       "      <td>29348</td>\n",
       "      <td>474.0</td>\n",
       "      <td>948.0</td>\n",
       "    </tr>\n",
       "  </tbody>\n",
       "</table>\n",
       "<p>64 rows × 6 columns</p>\n",
       "</div>"
      ],
      "text/plain": [
       "                                   start_time  start_sample  end_sample  \\\n",
       "heartbeat_id                                                              \n",
       "0            2018-02-16 09:58:32.864000+01:00           352         808   \n",
       "1            2018-02-16 09:58:33.776000+01:00           808        1252   \n",
       "2            2018-02-16 09:58:34.664000+01:00          1252        1686   \n",
       "3            2018-02-16 09:58:35.532000+01:00          1686        2116   \n",
       "4            2018-02-16 09:58:36.392000+01:00          2116        2570   \n",
       "...                                       ...           ...         ...   \n",
       "59           2018-02-16 09:59:26.738000+01:00         27289       27731   \n",
       "60           2018-02-16 09:59:27.622000+01:00         27731       28188   \n",
       "61           2018-02-16 09:59:28.536000+01:00         28188       28672   \n",
       "62           2018-02-16 09:59:29.504000+01:00         28672       29172   \n",
       "63           2018-02-16 09:59:30.504000+01:00         29172       29656   \n",
       "\n",
       "              r_peak_sample  rr_interval_sample  rr_interval_ms  \n",
       "heartbeat_id                                                     \n",
       "0                       512               456.0           912.0  \n",
       "1                       968               437.0           874.0  \n",
       "2                      1405               432.0           864.0  \n",
       "3                      1837               429.0           858.0  \n",
       "4                      2266               468.0           936.0  \n",
       "...                     ...                 ...             ...  \n",
       "59                    27444               442.0           884.0  \n",
       "60                    27886               465.0           930.0  \n",
       "61                    28351               494.0           988.0  \n",
       "62                    28845               503.0          1006.0  \n",
       "63                    29348               474.0           948.0  \n",
       "\n",
       "[64 rows x 6 columns]"
      ]
     },
     "execution_count": 42,
     "metadata": {},
     "output_type": "execute_result"
    }
   ],
   "source": [
    "heartbeats = subset.heartbeats\n",
    "heartbeats"
   ]
  },
  {
   "cell_type": "code",
   "execution_count": 43,
   "metadata": {},
   "outputs": [
    {
     "data": {
      "text/html": [
       "<div>\n",
       "<style scoped>\n",
       "    .dataframe tbody tr th:only-of-type {\n",
       "        vertical-align: middle;\n",
       "    }\n",
       "\n",
       "    .dataframe tbody tr th {\n",
       "        vertical-align: top;\n",
       "    }\n",
       "\n",
       "    .dataframe thead th {\n",
       "        text-align: right;\n",
       "    }\n",
       "</style>\n",
       "<table border=\"1\" class=\"dataframe\">\n",
       "  <thead>\n",
       "    <tr style=\"text-align: right;\">\n",
       "      <th></th>\n",
       "      <th>q_wave_onset_sample</th>\n",
       "    </tr>\n",
       "    <tr>\n",
       "      <th>heartbeat_id</th>\n",
       "      <th></th>\n",
       "    </tr>\n",
       "  </thead>\n",
       "  <tbody>\n",
       "    <tr>\n",
       "      <th>0</th>\n",
       "      <td>492.0</td>\n",
       "    </tr>\n",
       "    <tr>\n",
       "      <th>1</th>\n",
       "      <td>948.0</td>\n",
       "    </tr>\n",
       "    <tr>\n",
       "      <th>2</th>\n",
       "      <td>1385.0</td>\n",
       "    </tr>\n",
       "    <tr>\n",
       "      <th>3</th>\n",
       "      <td>1817.0</td>\n",
       "    </tr>\n",
       "    <tr>\n",
       "      <th>4</th>\n",
       "      <td>2246.0</td>\n",
       "    </tr>\n",
       "    <tr>\n",
       "      <th>...</th>\n",
       "      <td>...</td>\n",
       "    </tr>\n",
       "    <tr>\n",
       "      <th>59</th>\n",
       "      <td>27424.0</td>\n",
       "    </tr>\n",
       "    <tr>\n",
       "      <th>60</th>\n",
       "      <td>27866.0</td>\n",
       "    </tr>\n",
       "    <tr>\n",
       "      <th>61</th>\n",
       "      <td>28331.0</td>\n",
       "    </tr>\n",
       "    <tr>\n",
       "      <th>62</th>\n",
       "      <td>28825.0</td>\n",
       "    </tr>\n",
       "    <tr>\n",
       "      <th>63</th>\n",
       "      <td>29328.0</td>\n",
       "    </tr>\n",
       "  </tbody>\n",
       "</table>\n",
       "<p>64 rows × 1 columns</p>\n",
       "</div>"
      ],
      "text/plain": [
       "              q_wave_onset_sample\n",
       "heartbeat_id                     \n",
       "0                           492.0\n",
       "1                           948.0\n",
       "2                          1385.0\n",
       "3                          1817.0\n",
       "4                          2246.0\n",
       "...                           ...\n",
       "59                        27424.0\n",
       "60                        27866.0\n",
       "61                        28331.0\n",
       "62                        28825.0\n",
       "63                        29328.0\n",
       "\n",
       "[64 rows x 1 columns]"
      ]
     },
     "execution_count": 43,
     "metadata": {},
     "output_type": "execute_result"
    }
   ],
   "source": [
    "ecg_extraction = QWaveOnsetExtractionVanLien2013()\n",
    "ecg_extraction.extract(ecg=ecg_clean, heartbeats=heartbeats, sampling_rate_hz=fs, handle_missing=\"ignore\")\n",
    "ecg_extraction.points_"
   ]
  },
  {
   "cell_type": "code",
   "execution_count": 44,
   "metadata": {},
   "outputs": [
    {
     "data": {
      "text/html": [
       "<div>\n",
       "<style scoped>\n",
       "    .dataframe tbody tr th:only-of-type {\n",
       "        vertical-align: middle;\n",
       "    }\n",
       "\n",
       "    .dataframe tbody tr th {\n",
       "        vertical-align: top;\n",
       "    }\n",
       "\n",
       "    .dataframe thead th {\n",
       "        text-align: right;\n",
       "    }\n",
       "</style>\n",
       "<table border=\"1\" class=\"dataframe\">\n",
       "  <thead>\n",
       "    <tr style=\"text-align: right;\">\n",
       "      <th></th>\n",
       "      <th>b_point_sample</th>\n",
       "      <th>nan_reason</th>\n",
       "    </tr>\n",
       "    <tr>\n",
       "      <th>heartbeat_id</th>\n",
       "      <th></th>\n",
       "      <th></th>\n",
       "    </tr>\n",
       "  </thead>\n",
       "  <tbody>\n",
       "    <tr>\n",
       "      <th>0</th>\n",
       "      <td>483</td>\n",
       "      <td>&lt;NA&gt;</td>\n",
       "    </tr>\n",
       "    <tr>\n",
       "      <th>1</th>\n",
       "      <td>968</td>\n",
       "      <td>&lt;NA&gt;</td>\n",
       "    </tr>\n",
       "    <tr>\n",
       "      <th>2</th>\n",
       "      <td>1453</td>\n",
       "      <td>&lt;NA&gt;</td>\n",
       "    </tr>\n",
       "    <tr>\n",
       "      <th>3</th>\n",
       "      <td>1887</td>\n",
       "      <td>&lt;NA&gt;</td>\n",
       "    </tr>\n",
       "    <tr>\n",
       "      <th>4</th>\n",
       "      <td>2314</td>\n",
       "      <td>&lt;NA&gt;</td>\n",
       "    </tr>\n",
       "    <tr>\n",
       "      <th>...</th>\n",
       "      <td>...</td>\n",
       "      <td>...</td>\n",
       "    </tr>\n",
       "    <tr>\n",
       "      <th>59</th>\n",
       "      <td>27487</td>\n",
       "      <td>&lt;NA&gt;</td>\n",
       "    </tr>\n",
       "    <tr>\n",
       "      <th>60</th>\n",
       "      <td>27931</td>\n",
       "      <td>&lt;NA&gt;</td>\n",
       "    </tr>\n",
       "    <tr>\n",
       "      <th>61</th>\n",
       "      <td>28394</td>\n",
       "      <td>&lt;NA&gt;</td>\n",
       "    </tr>\n",
       "    <tr>\n",
       "      <th>62</th>\n",
       "      <td>28886</td>\n",
       "      <td>&lt;NA&gt;</td>\n",
       "    </tr>\n",
       "    <tr>\n",
       "      <th>63</th>\n",
       "      <td>29386</td>\n",
       "      <td>&lt;NA&gt;</td>\n",
       "    </tr>\n",
       "  </tbody>\n",
       "</table>\n",
       "<p>64 rows × 2 columns</p>\n",
       "</div>"
      ],
      "text/plain": [
       "              b_point_sample  nan_reason\n",
       "heartbeat_id                            \n",
       "0                        483        <NA>\n",
       "1                        968        <NA>\n",
       "2                       1453        <NA>\n",
       "3                       1887        <NA>\n",
       "4                       2314        <NA>\n",
       "...                      ...         ...\n",
       "59                     27487        <NA>\n",
       "60                     27931        <NA>\n",
       "61                     28394        <NA>\n",
       "62                     28886        <NA>\n",
       "63                     29386        <NA>\n",
       "\n",
       "[64 rows x 2 columns]"
      ]
     },
     "execution_count": 44,
     "metadata": {},
     "output_type": "execute_result"
    }
   ],
   "source": [
    "heartbeat_segmentation = HeartbeatSegmentationNeurokit()\n",
    "\n",
    "cpoint_extraction = CPointExtractionScipyFindPeaks()\n",
    "cpoint_extraction.extract(icg=icg_clean, heartbeats=heartbeats, sampling_rate_hz=fs, handle_missing=\"warn\")\n",
    "\n",
    "bpoint_extraction = BPointExtractionForouzanfar2018(correct_outliers=True)\n",
    "bpoint_extraction.extract(\n",
    "    icg=icg_clean, heartbeats=heartbeats, c_points=cpoint_extraction.points_, sampling_rate_hz=fs, handle_missing=\"warn\"\n",
    ")\n",
    "bpoint_extraction.points_\n",
    "\n",
    "outlier_correction = OutlierCorrectionInterpolation()\n",
    "outlier_correction.correct_outlier(\n",
    "    b_points=bpoint_extraction.points_, c_points=cpoint_extraction.points_, sampling_rate_hz=fs, handle_missing=\"warn\"\n",
    ")\n",
    "outlier_correction.points_"
   ]
  },
  {
   "cell_type": "code",
   "execution_count": 45,
   "metadata": {},
   "outputs": [],
   "source": [
    "from pepbench.pipelines import (\n",
    "    PepExtractionPipeline,\n",
    "    PepExtractionPipelineReferenceBPoints,\n",
    "    PepExtractionPipelineReferenceQPoints,\n",
    ")"
   ]
  },
  {
   "cell_type": "code",
   "execution_count": 46,
   "metadata": {},
   "outputs": [],
   "source": [
    "heartbeat_segmentation_algo = HeartbeatSegmentationNeurokit()\n",
    "q_wave_algo = QWaveOnsetExtractionVanLien2013()\n",
    "b_point_algo = BPointExtractionForouzanfar2018(correct_outliers=True)\n",
    "outlier_correction_algo = OutlierCorrectionForouzanfar2018()\n",
    "# outlier_correction_algo = OutlierCorrectionDummy()"
   ]
  },
  {
   "cell_type": "code",
   "execution_count": 47,
   "metadata": {},
   "outputs": [],
   "source": [
    "pipeline_qpoints = PepExtractionPipelineReferenceQPoints(\n",
    "    heartbeat_segmentation_algo=heartbeat_segmentation_algo,\n",
    "    q_wave_algo=q_wave_algo,\n",
    "    b_point_algo=b_point_algo,\n",
    "    outlier_correction_algo=outlier_correction_algo,\n",
    "    handle_missing_events=\"ignore\",\n",
    ")"
   ]
  },
  {
   "cell_type": "code",
   "execution_count": 48,
   "metadata": {},
   "outputs": [],
   "source": [
    "pipeline_bpoints = PepExtractionPipelineReferenceBPoints(\n",
    "    heartbeat_segmentation_algo=heartbeat_segmentation,\n",
    "    q_wave_algo=q_wave_algo,\n",
    "    b_point_algo=b_point_algo,\n",
    "    outlier_correction_algo=outlier_correction_algo,\n",
    "    handle_missing_events=\"ignore\",\n",
    ")"
   ]
  },
  {
   "cell_type": "code",
   "execution_count": 49,
   "metadata": {
    "scrolled": true
   },
   "outputs": [],
   "source": [
    "pipeline = PepExtractionPipeline(\n",
    "    heartbeat_segmentation_algo=heartbeat_segmentation_algo,\n",
    "    q_wave_algo=q_wave_algo,\n",
    "    b_point_algo=b_point_algo,\n",
    "    outlier_correction_algo=outlier_correction_algo,\n",
    "    handle_negative_pep=\"nan\",\n",
    "    handle_missing_events=\"ignore\",\n",
    ")"
   ]
  },
  {
   "cell_type": "code",
   "execution_count": 57,
   "metadata": {},
   "outputs": [
    {
     "data": {
      "application/vnd.jupyter.widget-view+json": {
       "model_id": "c7a207f95c6a43e596c406aba0a8d17c",
       "version_major": 2,
       "version_minor": 0
      },
      "text/plain": [
       "Datapoints:   0%|          | 0/9 [00:00<?, ?it/s]"
      ]
     },
     "metadata": {},
     "output_type": "display_data"
    },
    {
     "name": "stdout",
     "output_type": "stream",
     "text": [
      "{}\n"
     ]
    },
    {
     "data": {
      "text/plain": [
       "PepEvaluationChallenge(dataset=GuardianDataset [9 groups/rows]\n",
       "\n",
       "     participant          phase\n",
       "   0     GDN0005          Pause\n",
       "   1     GDN0005       Valsalva\n",
       "   2     GDN0005  HoldingBreath\n",
       "   3     GDN0005         TiltUp\n",
       "   4     GDN0005       TiltDown\n",
       "   5     GDN0006          Pause\n",
       "   6     GDN0006       Valsalva\n",
       "   7     GDN0006         TiltUp\n",
       "   8     GDN0006       TiltDown, scoring=<function score_pep_evaluation at 0x15eb93640>, validate_kwargs={})"
      ]
     },
     "execution_count": 57,
     "metadata": {},
     "output_type": "execute_result"
    }
   ],
   "source": [
    "subset_guardian = dataset_guardian.get_subset(participant=[\"GDN0005\", \"GDN0006\"])\n",
    "pep_challenge = PepEvaluationChallenge(dataset=subset_guardian)\n",
    "\n",
    "pep_challenge.run(pipeline)"
   ]
  },
  {
   "cell_type": "code",
   "execution_count": 61,
   "metadata": {},
   "outputs": [
    {
     "data": {
      "text/plain": [
       "PepEvaluationChallenge(dataset=GuardianDataset [9 groups/rows]\n",
       "\n",
       "     participant          phase\n",
       "   0     GDN0005          Pause\n",
       "   1     GDN0005       Valsalva\n",
       "   2     GDN0005  HoldingBreath\n",
       "   3     GDN0005         TiltUp\n",
       "   4     GDN0005       TiltDown\n",
       "   5     GDN0006          Pause\n",
       "   6     GDN0006       Valsalva\n",
       "   7     GDN0006         TiltUp\n",
       "   8     GDN0006       TiltDown, scoring=<function score_pep_evaluation at 0x15eb93640>, validate_kwargs={})"
      ]
     },
     "execution_count": 61,
     "metadata": {},
     "output_type": "execute_result"
    }
   ],
   "source": [
    "pep_challenge.results_as_df()"
   ]
  },
  {
   "cell_type": "code",
   "execution_count": 66,
   "metadata": {},
   "outputs": [
    {
     "data": {
      "text/html": [
       "<div>\n",
       "<style scoped>\n",
       "    .dataframe tbody tr th:only-of-type {\n",
       "        vertical-align: middle;\n",
       "    }\n",
       "\n",
       "    .dataframe tbody tr th {\n",
       "        vertical-align: top;\n",
       "    }\n",
       "\n",
       "    .dataframe thead th {\n",
       "        text-align: right;\n",
       "    }\n",
       "</style>\n",
       "<table border=\"1\" class=\"dataframe\">\n",
       "  <thead>\n",
       "    <tr style=\"text-align: right;\">\n",
       "      <th></th>\n",
       "      <th>mean</th>\n",
       "      <th>std</th>\n",
       "      <th>total</th>\n",
       "    </tr>\n",
       "    <tr>\n",
       "      <th>metrics</th>\n",
       "      <th></th>\n",
       "      <th></th>\n",
       "      <th></th>\n",
       "    </tr>\n",
       "  </thead>\n",
       "  <tbody>\n",
       "    <tr>\n",
       "      <th>pep_reference_ms</th>\n",
       "      <td>152.278017</td>\n",
       "      <td>19.234082</td>\n",
       "      <td>NaN</td>\n",
       "    </tr>\n",
       "    <tr>\n",
       "      <th>pep_estimated_ms</th>\n",
       "      <td>138.502508</td>\n",
       "      <td>29.292639</td>\n",
       "      <td>NaN</td>\n",
       "    </tr>\n",
       "    <tr>\n",
       "      <th>error_ms</th>\n",
       "      <td>-13.995742</td>\n",
       "      <td>20.346458</td>\n",
       "      <td>NaN</td>\n",
       "    </tr>\n",
       "    <tr>\n",
       "      <th>absolute_error_ms</th>\n",
       "      <td>21.017465</td>\n",
       "      <td>19.974798</td>\n",
       "      <td>NaN</td>\n",
       "    </tr>\n",
       "    <tr>\n",
       "      <th>absolute_relative_error_percent</th>\n",
       "      <td>14.097619</td>\n",
       "      <td>12.591993</td>\n",
       "      <td>NaN</td>\n",
       "    </tr>\n",
       "    <tr>\n",
       "      <th>error_per_sample_ms</th>\n",
       "      <td>-15.363971</td>\n",
       "      <td>35.474927</td>\n",
       "      <td>NaN</td>\n",
       "    </tr>\n",
       "    <tr>\n",
       "      <th>absolute_error_per_sample_ms</th>\n",
       "      <td>22.209559</td>\n",
       "      <td>31.642654</td>\n",
       "      <td>NaN</td>\n",
       "    </tr>\n",
       "    <tr>\n",
       "      <th>absolute_relative_error_per_sample_percent</th>\n",
       "      <td>14.761232</td>\n",
       "      <td>19.969932</td>\n",
       "      <td>NaN</td>\n",
       "    </tr>\n",
       "    <tr>\n",
       "      <th>num_pep_total</th>\n",
       "      <td>NaN</td>\n",
       "      <td>NaN</td>\n",
       "      <td>548.0</td>\n",
       "    </tr>\n",
       "    <tr>\n",
       "      <th>num_pep_valid</th>\n",
       "      <td>NaN</td>\n",
       "      <td>NaN</td>\n",
       "      <td>544.0</td>\n",
       "    </tr>\n",
       "    <tr>\n",
       "      <th>num_pep_invalid</th>\n",
       "      <td>NaN</td>\n",
       "      <td>NaN</td>\n",
       "      <td>4.0</td>\n",
       "    </tr>\n",
       "  </tbody>\n",
       "</table>\n",
       "</div>"
      ],
      "text/plain": [
       "                                                  mean        std  total\n",
       "metrics                                                                 \n",
       "pep_reference_ms                            152.278017  19.234082    NaN\n",
       "pep_estimated_ms                            138.502508  29.292639    NaN\n",
       "error_ms                                    -13.995742  20.346458    NaN\n",
       "absolute_error_ms                            21.017465  19.974798    NaN\n",
       "absolute_relative_error_percent              14.097619  12.591993    NaN\n",
       "error_per_sample_ms                         -15.363971  35.474927    NaN\n",
       "absolute_error_per_sample_ms                 22.209559  31.642654    NaN\n",
       "absolute_relative_error_per_sample_percent   14.761232  19.969932    NaN\n",
       "num_pep_total                                      NaN        NaN  548.0\n",
       "num_pep_valid                                      NaN        NaN  544.0\n",
       "num_pep_invalid                                    NaN        NaN    4.0"
      ]
     },
     "execution_count": 66,
     "metadata": {},
     "output_type": "execute_result"
    }
   ],
   "source": [
    "pep_challenge.results_agg_"
   ]
  },
  {
   "cell_type": "code",
   "execution_count": null,
   "metadata": {
    "scrolled": true
   },
   "outputs": [],
   "source": [
    "# pipeline_qpoints.safe_run(subset);\n",
    "# pipeline_bpoints.safe_run(subset);\n",
    "# for subset_test in tqdm(dataset_empkins.groupby([\"participant\", \"condition\", \"phase\"])):\n",
    "#    key = tuple(subset_test.index.iloc[0])\n",
    "#    result_dict = dict.fromkeys([\"pep_results\", \"b_point_after_outlier_correction_results\", \"b_point_results\", \"c_point_results\", \"heartbeat_segmentation_results\"])\n",
    "#    print(key)\n",
    "#    if key not in pep_result_dict:\n",
    "#        pipeline.safe_run(subset_test);\n",
    "#        for data_key in result_dict:\n",
    "#            result_dict[data_key] = getattr(pipeline, f\"{data_key}_\")\n",
    "#        pep_result_dict[key] = result_dict"
   ]
  },
  {
   "cell_type": "code",
   "execution_count": null,
   "metadata": {},
   "outputs": [],
   "source": [
    "# subset_test = dataset_empkins.get_subset(participant='VP_001', condition='ftsst', phase='Pause_1') # this causes an error in matching => good for testing\n",
    "# subset_test = dataset_empkins.get_subset(participant='VP_001', condition='tsst', phase='Pause_1')\n",
    "# pipeline.safe_run(subset_test);"
   ]
  },
  {
   "cell_type": "code",
   "execution_count": null,
   "metadata": {},
   "outputs": [],
   "source": [
    "# pipeline.pep_results_#.filter(regex=\"(pep|q_wave|b_point|nan_reason)\")"
   ]
  },
  {
   "cell_type": "code",
   "execution_count": null,
   "metadata": {},
   "outputs": [],
   "source": [
    "# for key, val in pep_result_dict.items():\n",
    "#    res = val[\"pep_results\"]\n",
    "#    #.filter(regex=\"(pep|q_wave|b_point|nan_reason)\")\n",
    "#    if not res.loc[res[\"pep_ms\"].isna()].empty:\n",
    "#        print(key)\n",
    "#        display(res.loc[res[\"pep_ms\"].isna()])"
   ]
  },
  {
   "cell_type": "code",
   "execution_count": null,
   "metadata": {
    "scrolled": true
   },
   "outputs": [],
   "source": [
    "# for subset_test in tqdm(dataset_empkins.groupby([\"participant\", \"condition\", \"phase\"])):\n",
    "#    pep_ref = subset_test.reference_pep\n",
    "#    if not pep_ref.loc[pep_ref[\"pep_ms\"].isna()].empty:\n",
    "#        print(subset_test.index)\n",
    "#        display(pep_ref)"
   ]
  },
  {
   "cell_type": "code",
   "execution_count": null,
   "metadata": {},
   "outputs": [],
   "source": [
    "res_df_agg, res_df_single, res_df_per_sample = convert_validate_result_to_dataframe(\n",
    "    dataset=dataset_empkins, results=results\n",
    ")\n",
    "res_df_per_sample.loc[~res_df_per_sample[\"nan_reason\"].isna()[\"reference\"]]"
   ]
  },
  {
   "cell_type": "code",
   "execution_count": null,
   "metadata": {},
   "outputs": [],
   "source": [
    "# subset_test = dataset_empkins.get_subset(participant=\"VP_002\", condition=\"ftsst\", phase=\"Talk\")\n",
    "# match_heartbeat_lists(heartbeats_reference=subset_test.reference_heartbeats, heartbeats_extracted=subset_test.heartbeats, tolerance_ms=20, sampling_rate_hz=subset_test.sampling_rate_ecg)"
   ]
  },
  {
   "cell_type": "code",
   "execution_count": null,
   "metadata": {},
   "outputs": [],
   "source": []
  },
  {
   "cell_type": "code",
   "execution_count": null,
   "metadata": {},
   "outputs": [],
   "source": []
  },
  {
   "cell_type": "code",
   "execution_count": null,
   "metadata": {},
   "outputs": [],
   "source": [
    "fig, ax = plt.subplots()\n",
    "heartbeats = subset_test.heartbeats\n",
    "# heartbeats = subset_test.reference_heartbeats\n",
    "ecg_data = subset_test.ecg\n",
    "ecg_data.plot(ax=ax)\n",
    "\n",
    "ax.vlines(\n",
    "    x=ecg_data.index[heartbeats[\"start_sample\"]],\n",
    "    ymin=0,\n",
    "    ymax=1,\n",
    "    colors=cmaps.tech[2],\n",
    "    transform=ax.get_xaxis_transform(),\n",
    "    label=\"start\",\n",
    ")\n",
    "ax.vlines(\n",
    "    x=ecg_data.index[heartbeats[\"end_sample\"]],\n",
    "    ymin=0,\n",
    "    ymax=1,\n",
    "    colors=cmaps.med[2],\n",
    "    transform=ax.get_xaxis_transform(),\n",
    "    label=\"end\",\n",
    ")\n",
    "\n",
    "ax.legend()\n",
    "fig.tight_layout()"
   ]
  },
  {
   "cell_type": "code",
   "execution_count": null,
   "metadata": {},
   "outputs": [],
   "source": [
    "fig, ax = plt.subplots()\n",
    "pipeline.heartbeat_segmentation_results_[[\"rr_interval_ms\"]].plot(ax=ax)\n",
    "\n",
    "fig.tight_layout()"
   ]
  },
  {
   "cell_type": "code",
   "execution_count": null,
   "metadata": {},
   "outputs": [],
   "source": [
    "res = pipeline.pep_results_.filter(regex=\"(pep|q_wave|b_point|nan_reason)\")\n",
    "res.loc[res[\"pep_ms\"].isna()]"
   ]
  },
  {
   "cell_type": "code",
   "execution_count": null,
   "metadata": {},
   "outputs": [],
   "source": []
  },
  {
   "cell_type": "code",
   "execution_count": null,
   "metadata": {},
   "outputs": [],
   "source": []
  },
  {
   "cell_type": "code",
   "execution_count": null,
   "metadata": {},
   "outputs": [],
   "source": []
  },
  {
   "cell_type": "code",
   "execution_count": null,
   "metadata": {},
   "outputs": [],
   "source": []
  },
  {
   "cell_type": "code",
   "execution_count": null,
   "metadata": {},
   "outputs": [],
   "source": []
  },
  {
   "cell_type": "code",
   "execution_count": null,
   "metadata": {},
   "outputs": [],
   "source": []
  },
  {
   "cell_type": "code",
   "execution_count": null,
   "metadata": {},
   "outputs": [],
   "source": []
  },
  {
   "cell_type": "code",
   "execution_count": null,
   "metadata": {},
   "outputs": [],
   "source": [
    "pipeline_qpoints.pep_results_.filter(regex=\"(pep|q_wave|b_point|nan_reason)\")"
   ]
  },
  {
   "cell_type": "code",
   "execution_count": null,
   "metadata": {},
   "outputs": [],
   "source": [
    "pipeline_bpoints.pep_results_.filter(regex=\"(pep|q_wave|b_point|nan_reason)\")"
   ]
  },
  {
   "cell_type": "code",
   "execution_count": null,
   "metadata": {},
   "outputs": [],
   "source": [
    "fig, ax = plt.subplots()\n",
    "\n",
    "icg_data = subset.icg_clean\n",
    "reference_labels_icg = subset.reference_labels_icg\n",
    "labeling_borders = subset.labeling_borders\n",
    "\n",
    "start_end_borders = reference_labels_icg.xs(\"heartbeat\", level=\"channel\")\n",
    "bpoint_labels = reference_labels_icg.xs(\"B-point\", level=\"label\")\n",
    "# bpoint_artefacts = reference_labels_icg.xs(\"Artefact\", level=\"label\")\n",
    "bpoint_labels_algo = bpoint_extraction.points_[\"b_point_sample\"].dropna()\n",
    "bpoint_labels_outlier = outlier_correction.points_[\"b_point_sample\"].dropna()\n",
    "\n",
    "icg_data.plot(ax=ax)\n",
    "\n",
    "ax.vlines(\n",
    "    x=icg_data.index[start_end_borders[\"sample_relative\"]],\n",
    "    ymin=0,\n",
    "    ymax=1,\n",
    "    colors=cmaps.tech[2],\n",
    "    transform=ax.get_xaxis_transform(),\n",
    ")\n",
    "ax.scatter(\n",
    "    x=icg_data.index[bpoint_labels[\"sample_relative\"]],\n",
    "    y=icg_data[\"icg_der\"][icg_data.index[bpoint_labels[\"sample_relative\"]]],\n",
    "    color=cmaps.nat[0],\n",
    "    zorder=3,\n",
    "    label=\"Reference\",\n",
    ")\n",
    "# ax.scatter(x=icg_data.index[bpoint_artefacts[\"sample_relative\"]], y=icg_data[\"icg_der\"][icg_data.index[bpoint_artefacts[\"sample_relative\"]]], color=cmaps.med[0], zorder=3, label=\"Artefacts\")\n",
    "ax.scatter(\n",
    "    x=icg_data.index[bpoint_labels_algo.astype(int)],\n",
    "    y=icg_data[\"icg_der\"][icg_data.index[bpoint_labels_algo.astype(int)]],\n",
    "    color=cmaps.phil[0],\n",
    "    zorder=3,\n",
    "    label=\"Algorithm\",\n",
    ")\n",
    "ax.scatter(\n",
    "    x=icg_data.index[bpoint_labels_outlier.astype(int)],\n",
    "    y=icg_data[\"icg_der\"][icg_data.index[bpoint_labels_outlier.astype(int)]],\n",
    "    color=cmaps.wiso[0],\n",
    "    zorder=3,\n",
    "    label=\"Outlier Correction\",\n",
    ")\n",
    "\n",
    "ax.legend()\n",
    "\n",
    "fig.tight_layout()"
   ]
  },
  {
   "cell_type": "code",
   "execution_count": null,
   "metadata": {},
   "outputs": [],
   "source": [
    "fig, ax = plt.subplots()\n",
    "\n",
    "ecg_data = subset.ecg_clean\n",
    "reference_labels_ecg = subset.reference_labels_ecg\n",
    "labeling_borders = subset.labeling_borders\n",
    "\n",
    "start_end_borders = reference_labels_ecg.xs(\"heartbeat\", level=\"channel\")\n",
    "qwave_labels = reference_labels_ecg.xs(\"Q-wave_onset\", level=\"label\")\n",
    "qwave_labels_algo = ecg_extraction.points_[\"q_wave_onset_sample\"].dropna()\n",
    "\n",
    "ecg_data.plot(ax=ax)\n",
    "\n",
    "ax.vlines(\n",
    "    x=ecg_data.index[start_end_borders[\"sample_relative\"]],\n",
    "    ymin=0,\n",
    "    ymax=1,\n",
    "    colors=cmaps.tech[2],\n",
    "    transform=ax.get_xaxis_transform(),\n",
    ")\n",
    "ax.scatter(\n",
    "    x=ecg_data.index[qwave_labels[\"sample_relative\"]],\n",
    "    y=ecg_data[\"ecg\"][ecg_data.index[qwave_labels[\"sample_relative\"]]],\n",
    "    color=cmaps.nat[0],\n",
    "    zorder=3,\n",
    ")\n",
    "ax.scatter(\n",
    "    x=ecg_data.index[qwave_labels_algo.astype(int)],\n",
    "    y=ecg_data[\"ecg\"][ecg_data.index[qwave_labels_algo.astype(int)]],\n",
    "    color=cmaps.phil[0],\n",
    "    zorder=3,\n",
    ")\n",
    "\n",
    "fig.tight_layout()"
   ]
  },
  {
   "cell_type": "code",
   "execution_count": null,
   "metadata": {},
   "outputs": [],
   "source": []
  }
 ],
 "metadata": {
  "jupytext": {
   "encoding": "# -*- coding: utf-8 -*-",
   "text_representation": {
    "extension": ".py",
    "format_name": "sphinx",
    "format_version": "1.1",
    "jupytext_version": "1.13.0"
   }
  },
  "kernelspec": {
   "display_name": "pepbench",
   "language": "python",
   "name": "pepbench"
  },
  "language_info": {
   "codemirror_mode": {
    "name": "ipython",
    "version": 3
   },
   "file_extension": ".py",
   "mimetype": "text/x-python",
   "name": "python",
   "nbconvert_exporter": "python",
   "pygments_lexer": "ipython3",
   "version": "3.10.14"
  },
  "toc-showtags": false,
  "vscode": {
   "interpreter": {
    "hash": "7014e6a8beff3a47c7c0424a6c63a486addc0ee3d12468bf1ae9a85a56cca70c"
   }
  }
 },
 "nbformat": 4,
 "nbformat_minor": 4
}
