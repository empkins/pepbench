{
 "cells": [
  {
   "cell_type": "markdown",
   "metadata": {
    "cell_marker": "\"\"\""
   },
   "source": [
    "# Challenge Tests"
   ]
  },
  {
   "cell_type": "markdown",
   "metadata": {},
   "source": [
    "## Setup and Helper Functions"
   ]
  },
  {
   "cell_type": "code",
   "execution_count": null,
   "metadata": {},
   "outputs": [],
   "source": [
    "import json\n",
    "from pathlib import Path\n",
    "\n",
    "import matplotlib.pyplot as plt\n",
    "import seaborn as sns\n",
    "from fau_colors import cmaps, register_fausans_font\n",
    "\n",
    "from pepbench.algorithms.ecg import (\n",
    "    QPeakExtractionMartinez2004Neurokit,\n",
    ")\n",
    "from pepbench.algorithms.heartbeat_segmentation import HeartbeatSegmentationNeurokit\n",
    "from pepbench.algorithms.icg import (\n",
    "    BPointExtractionLozano2007LinearRegression,\n",
    ")\n",
    "from pepbench.algorithms.outlier_correction import (\n",
    "    OutlierCorrectionDummy,\n",
    ")\n",
    "from pepbench.datasets import EmpkinsDataset\n",
    "from pepbench.evaluation import PepEvaluationChallenge\n",
    "from pepbench.pipelines import PepExtractionPipeline\n",
    "\n",
    "%matplotlib widget\n",
    "%load_ext autoreload\n",
    "%autoreload 2"
   ]
  },
  {
   "cell_type": "code",
   "execution_count": null,
   "metadata": {},
   "outputs": [],
   "source": [
    "register_fausans_font()\n",
    "plt.close(\"all\")\n",
    "\n",
    "palette = sns.color_palette(cmaps.faculties)\n",
    "sns.set_theme(context=\"notebook\", style=\"ticks\", font=\"sans-serif\", palette=palette)\n",
    "\n",
    "plt.rcParams[\"figure.figsize\"] = (10, 5)\n",
    "plt.rcParams[\"pdf.fonttype\"] = 42\n",
    "plt.rcParams[\"mathtext.default\"] = \"regular\"\n",
    "plt.rcParams[\"font.family\"] = \"sans-serif\"\n",
    "plt.rcParams[\"font.sans-serif\"] = \"FAUSans Office\"\n",
    "\n",
    "palette"
   ]
  },
  {
   "cell_type": "code",
   "execution_count": null,
   "metadata": {},
   "outputs": [],
   "source": [
    "root_path = Path()"
   ]
  },
  {
   "cell_type": "code",
   "execution_count": null,
   "metadata": {},
   "outputs": [],
   "source": [
    "deploy_type = \"local\"\n",
    "\n",
    "config_dict = json.load(root_path.joinpath(\"config.json\").open(encoding=\"utf-8\"))\n",
    "\n",
    "empkins_base_path = Path(config_dict[deploy_type][\"empkins_path\"])\n",
    "print(empkins_base_path)"
   ]
  },
  {
   "cell_type": "code",
   "execution_count": null,
   "metadata": {},
   "outputs": [],
   "source": [
    "result_path = root_path.joinpath(\"results/empkins_dataset_both_algorithms\")\n",
    "result_path.mkdir(exist_ok=True, parents=True)\n",
    "result_path.resolve()"
   ]
  },
  {
   "cell_type": "code",
   "execution_count": null,
   "metadata": {},
   "outputs": [],
   "source": [
    "dataset_empkins = EmpkinsDataset(empkins_base_path, use_cache=True, only_labeled=True)\n",
    "dataset_empkins"
   ]
  },
  {
   "cell_type": "markdown",
   "metadata": {},
   "source": [
    "## Initialize Algorithms"
   ]
  },
  {
   "cell_type": "markdown",
   "metadata": {},
   "source": [
    "### Heartbeat Segmentation"
   ]
  },
  {
   "cell_type": "code",
   "execution_count": null,
   "metadata": {},
   "outputs": [],
   "source": [
    "heartbeat_segmentation_algo = HeartbeatSegmentationNeurokit()"
   ]
  },
  {
   "cell_type": "markdown",
   "metadata": {},
   "source": [
    "### ECG - Q-Wave Onset"
   ]
  },
  {
   "cell_type": "code",
   "execution_count": null,
   "metadata": {},
   "outputs": [],
   "source": [
    "q_wave_algo = QPeakExtractionMartinez2004Neurokit()"
   ]
  },
  {
   "cell_type": "markdown",
   "metadata": {},
   "source": [
    "### ICG - B-Point"
   ]
  },
  {
   "cell_type": "code",
   "execution_count": null,
   "metadata": {},
   "outputs": [],
   "source": [
    "b_point_algo = BPointExtractionLozano2007LinearRegression()"
   ]
  },
  {
   "cell_type": "markdown",
   "metadata": {},
   "source": [
    "### Outlier Correction"
   ]
  },
  {
   "cell_type": "code",
   "execution_count": null,
   "metadata": {},
   "outputs": [],
   "source": [
    "outlier_correction_algo = OutlierCorrectionDummy()"
   ]
  },
  {
   "cell_type": "code",
   "execution_count": null,
   "metadata": {},
   "outputs": [],
   "source": [
    "subset = dataset_empkins.get_subset(participant=[\"VP_001\", \"VP_002\"])"
   ]
  },
  {
   "cell_type": "code",
   "execution_count": null,
   "metadata": {
    "scrolled": true
   },
   "outputs": [],
   "source": [
    "pep_challenge = PepEvaluationChallenge(dataset=subset, validate_kwargs={\"n_jobs\": -1})\n",
    "pipeline = PepExtractionPipeline(\n",
    "    heartbeat_segmentation_algo=heartbeat_segmentation_algo,\n",
    "    q_wave_algo=q_wave_algo,\n",
    "    b_point_algo=b_point_algo,\n",
    "    outlier_correction_algo=outlier_correction_algo,\n",
    "    handle_negative_pep=\"nan\",\n",
    "    handle_missing_events=\"ignore\",\n",
    ")\n",
    "pep_challenge.run(pipeline)\n",
    "pep_challenge.results_as_df();"
   ]
  },
  {
   "cell_type": "code",
   "execution_count": null,
   "metadata": {},
   "outputs": [],
   "source": [
    "pep_challenge.results_agg_total_"
   ]
  },
  {
   "cell_type": "code",
   "execution_count": null,
   "metadata": {},
   "outputs": [],
   "source": [
    "pep_challenge.results_agg_mean_std_"
   ]
  },
  {
   "cell_type": "code",
   "execution_count": null,
   "metadata": {},
   "outputs": [],
   "source": []
  }
 ],
 "metadata": {
  "jupytext": {
   "encoding": "# -*- coding: utf-8 -*-",
   "text_representation": {
    "extension": ".py",
    "format_name": "sphinx",
    "format_version": "1.1",
    "jupytext_version": "1.13.0"
   }
  },
  "kernelspec": {
   "display_name": "pepbench",
   "language": "python",
   "name": "pepbench"
  },
  "language_info": {
   "codemirror_mode": {
    "name": "ipython",
    "version": 3
   },
   "file_extension": ".py",
   "mimetype": "text/x-python",
   "name": "python",
   "nbconvert_exporter": "python",
   "pygments_lexer": "ipython3",
   "version": "3.10.14"
  },
  "toc-showtags": false,
  "vscode": {
   "interpreter": {
    "hash": "7014e6a8beff3a47c7c0424a6c63a486addc0ee3d12468bf1ae9a85a56cca70c"
   }
  }
 },
 "nbformat": 4,
 "nbformat_minor": 4
}
