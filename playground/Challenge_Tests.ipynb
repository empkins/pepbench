{
 "cells": [
  {
   "cell_type": "markdown",
   "metadata": {
    "cell_marker": "\"\"\""
   },
   "source": [
    "# Challenge Tests"
   ]
  },
  {
   "cell_type": "markdown",
   "metadata": {},
   "source": [
    "## Setup and Helper Functions"
   ]
  },
  {
   "cell_type": "code",
   "execution_count": null,
   "metadata": {},
   "outputs": [],
   "source": [
    "import json\n",
    "from pathlib import Path\n",
    "\n",
    "import matplotlib.pyplot as plt\n",
    "import seaborn as sns\n",
    "from fau_colors import cmaps, register_fausans_font\n",
    "\n",
    "from pepbench.algorithms.ecg import (\n",
    "    QPeakExtractionVanLien2013,\n",
    ")\n",
    "from pepbench.algorithms.heartbeat_segmentation import HeartbeatSegmentationNeurokit\n",
    "from pepbench.algorithms.icg import (\n",
    "    BPointExtractionDrost2022,\n",
    ")\n",
    "from pepbench.algorithms.outlier_correction import (\n",
    "    OutlierCorrectionDummy,\n",
    ")\n",
    "from pepbench.datasets import EmpkinsDataset, TimeWindowIcgDataset, ReBeatIcgDataset\n",
    "from pepbench.evaluation import PepEvaluationChallenge\n",
    "from pepbench.pipelines import PepExtractionPipeline\n",
    "from pepbench.plotting import plot_signals, plot_signals_with_reference_labels, plot_signals_with_reference_pep, plot_signals_from_challenge_results\n",
    "\n",
    "%matplotlib widget\n",
    "%load_ext autoreload\n",
    "%autoreload 2"
   ]
  },
  {
   "cell_type": "code",
   "execution_count": null,
   "metadata": {},
   "outputs": [],
   "source": [
    "register_fausans_font()\n",
    "plt.close(\"all\")\n",
    "\n",
    "palette = sns.color_palette(cmaps.faculties)\n",
    "sns.set_theme(context=\"notebook\", style=\"ticks\", font=\"sans-serif\", palette=palette)\n",
    "\n",
    "plt.rcParams[\"figure.figsize\"] = (10, 5)\n",
    "plt.rcParams[\"pdf.fonttype\"] = 42\n",
    "plt.rcParams[\"mathtext.default\"] = \"regular\"\n",
    "plt.rcParams[\"font.family\"] = \"sans-serif\"\n",
    "plt.rcParams[\"font.sans-serif\"] = \"FAUSans Office\"\n",
    "\n",
    "palette"
   ]
  },
  {
   "cell_type": "code",
   "execution_count": null,
   "metadata": {},
   "outputs": [],
   "source": [
    "root_path = Path()"
   ]
  },
  {
   "cell_type": "code",
   "execution_count": null,
   "metadata": {},
   "outputs": [],
   "source": [
    "deploy_type = \"local\"\n",
    "\n",
    "config_dict = json.load(root_path.joinpath(\"config.json\").open(encoding=\"utf-8\"))\n",
    "\n",
    "empkins_base_path = Path(config_dict[deploy_type][\"empkins_path\"])\n",
    "rebeat_icg_base_path = Path(config_dict[deploy_type][\"rebeat_icg_path\"])\n",
    "time_window_icg_path = Path(config_dict[deploy_type][\"time_window_icg_path\"])\n",
    "\n",
    "print(time_window_icg_path)"
   ]
  },
  {
   "cell_type": "code",
   "execution_count": null,
   "metadata": {},
   "outputs": [],
   "source": [
    "dataset_empkins = EmpkinsDataset(empkins_base_path, use_cache=True, only_labeled=True)\n",
    "dataset_empkins"
   ]
  },
  {
   "cell_type": "code",
   "execution_count": null,
   "metadata": {},
   "outputs": [],
   "source": [
    "dataset_rebeat_icg = ReBeatIcgDataset(rebeat_icg_base_path, use_cache=True, only_labeled=True, exclude_annotation_errors=True)\n",
    "dataset_rebeat_icg"
   ]
  },
  {
   "cell_type": "code",
   "execution_count": null,
   "metadata": {},
   "outputs": [],
   "source": [
    "dataset_time_window_icg = TimeWindowIcgDataset(time_window_icg_path, use_cache=True, only_labeled=True)\n",
    "dataset_time_window_icg"
   ]
  },
  {
   "cell_type": "markdown",
   "metadata": {},
   "source": [
    "## Initialize Algorithms"
   ]
  },
  {
   "cell_type": "markdown",
   "metadata": {},
   "source": [
    "### Heartbeat Segmentation"
   ]
  },
  {
   "cell_type": "code",
   "execution_count": null,
   "metadata": {},
   "outputs": [],
   "source": [
    "heartbeat_segmentation_algo = HeartbeatSegmentationNeurokit()"
   ]
  },
  {
   "cell_type": "markdown",
   "metadata": {},
   "source": [
    "### ECG - Q-Wave Onset"
   ]
  },
  {
   "cell_type": "code",
   "execution_count": null,
   "metadata": {},
   "outputs": [],
   "source": [
    "q_peak_algo = QPeakExtractionVanLien2013(time_interval_ms=32)"
   ]
  },
  {
   "cell_type": "markdown",
   "metadata": {},
   "source": [
    "### ICG - B-Point"
   ]
  },
  {
   "cell_type": "code",
   "execution_count": null,
   "metadata": {},
   "outputs": [],
   "source": [
    "b_point_algo = BPointExtractionDrost2022()"
   ]
  },
  {
   "cell_type": "markdown",
   "metadata": {},
   "source": [
    "### Outlier Correction"
   ]
  },
  {
   "cell_type": "code",
   "execution_count": null,
   "metadata": {},
   "outputs": [],
   "source": [
    "outlier_correction_algo = OutlierCorrectionDummy()"
   ]
  },
  {
   "cell_type": "code",
   "execution_count": null,
   "metadata": {},
   "outputs": [],
   "source": [
    "subset_empkins = dataset_empkins.get_subset(participant=[\"VP_001\", \"VP_002\"])"
   ]
  },
  {
   "cell_type": "code",
   "execution_count": null,
   "metadata": {},
   "outputs": [],
   "source": [
    "subset_rebeat_icg = dataset_rebeat_icg#.get_subset(participant=[\"01\", \"02\"])"
   ]
  },
  {
   "cell_type": "code",
   "execution_count": null,
   "metadata": {},
   "outputs": [],
   "source": [
    "subset_time_window_icg = dataset_time_window_icg.get_subset(participant=[\"IDN_01\", \"IDN_02\"])"
   ]
  },
  {
   "cell_type": "code",
   "execution_count": null,
   "metadata": {},
   "outputs": [],
   "source": [
    "pep_challenge = PepEvaluationChallenge(dataset=subset_time_window_icg, validate_kwargs={\"n_jobs\": -1})\n",
    "pipeline = PepExtractionPipeline(\n",
    "    heartbeat_segmentation_algo=heartbeat_segmentation_algo,\n",
    "    q_peak_algo=q_peak_algo,\n",
    "    b_point_algo=b_point_algo,\n",
    "    outlier_correction_algo=outlier_correction_algo,\n",
    "    handle_negative_pep=\"nan\",\n",
    "    handle_missing_events=\"ignore\",\n",
    ")\n",
    "pep_challenge.run(pipeline)\n",
    "pep_challenge.results_as_df();"
   ]
  },
  {
   "cell_type": "code",
   "execution_count": null,
   "metadata": {},
   "outputs": [],
   "source": [
    "pep_challenge.results_agg_total_"
   ]
  },
  {
   "cell_type": "code",
   "execution_count": null,
   "metadata": {},
   "outputs": [],
   "source": [
    "pep_challenge.results_agg_mean_std_"
   ]
  },
  {
   "cell_type": "code",
   "execution_count": null,
   "metadata": {},
   "outputs": [],
   "source": [
    "pep_challenge.results_per_sample_[[\"absolute_error_per_sample_ms\"]].groupby([\"participant\", \"phase\"]).agg(\"mean\").unstack()"
   ]
  },
  {
   "cell_type": "code",
   "execution_count": null,
   "metadata": {},
   "outputs": [],
   "source": [
    "subset_id = (\"IDN_01\", \"Baseline\")\n",
    "#subset_analysis = dataset_rebeat_icg.get_subset(participant=subset_id[0], phase=subset_id[1], label_period=subset_id[2])\n",
    "subset_analysis = dataset_time_window_icg.get_subset(participant=subset_id[0], phase=subset_id[1])"
   ]
  },
  {
   "cell_type": "code",
   "execution_count": null,
   "metadata": {},
   "outputs": [],
   "source": [
    "plot_signals_from_challenge_results(subset_analysis, pep_challenge.results_per_sample_.xs(subset_id));"
   ]
  },
  {
   "cell_type": "code",
   "execution_count": null,
   "metadata": {},
   "outputs": [],
   "source": [
    "pep_challenge.results_per_sample_[\"error_per_sample_ms\"].abs().idxmax()"
   ]
  },
  {
   "cell_type": "code",
   "execution_count": null,
   "metadata": {},
   "outputs": [],
   "source": [
    "dataset_rebeat_icg = ReBeatIcgDataset(rebeat_icg_base_path, use_cache=True, only_labeled=False, return_clean=True)"
   ]
  },
  {
   "cell_type": "code",
   "execution_count": null,
   "metadata": {},
   "outputs": [],
   "source": [
    "subset_rebeat_icg = dataset_rebeat_icg.get_subset(participant=\"23\", phase=\"CognitiveWorkload\")#, label_period=3)"
   ]
  },
  {
   "cell_type": "code",
   "execution_count": null,
   "metadata": {},
   "outputs": [],
   "source": [
    "from pepbench.datasets.rebeat_icg._helper import _load_b_point_annotations"
   ]
  },
  {
   "cell_type": "code",
   "execution_count": null,
   "metadata": {},
   "outputs": [],
   "source": [
    "b_points = _load_b_point_annotations(\"/Users/richer/Documents/PhD/Projects/EmpkinS/HealthPsychology_D03/Data/2024_08_PEP_Benchmarking/ReBeatICG_Dataset/03_ExpertAnnotations/Annotat_Subject_23_task_CW.mat\")"
   ]
  },
  {
   "cell_type": "code",
   "execution_count": null,
   "metadata": {},
   "outputs": [],
   "source": [
    "fig, ax = plt.subplots()\n",
    "\n",
    "data = subset_rebeat_icg.icg#.iloc[63452:66469]\n",
    "data.plot(ax=ax)\n",
    "\n",
    "ax.vlines(\n",
    "    data.index[subset_rebeat_icg.heartbeats[\"start_sample\"]], \n",
    "    ymin=0, ymax=1, \n",
    "    transform=ax.get_xaxis_transform(),\n",
    "    color=\"grey\", ls=\"--\"\n",
    ")\n",
    "\n",
    "ax.vlines(\n",
    "    data.index[[63452, 66469]], \n",
    "    ymin=0, ymax=1, \n",
    "    transform=ax.get_xaxis_transform(),\n",
    "    color=\"red\"\n",
    ")\n",
    "\n",
    "ax.vlines(\n",
    "    data.index[b_points[\"sample_relative\"] - 70], \n",
    "    ymin=0, ymax=1, \n",
    "    transform=ax.get_xaxis_transform(),\n",
    "    color=\"cyan\"\n",
    ")"
   ]
  }
 ],
 "metadata": {
  "jupytext": {
   "encoding": "# -*- coding: utf-8 -*-",
   "text_representation": {
    "extension": ".py",
    "format_name": "sphinx",
    "format_version": "1.1",
    "jupytext_version": "1.13.0"
   }
  },
  "kernelspec": {
   "display_name": "pepbench",
   "language": "python",
   "name": "pepbench"
  },
  "language_info": {
   "codemirror_mode": {
    "name": "ipython",
    "version": 3
   },
   "file_extension": ".py",
   "mimetype": "text/x-python",
   "name": "python",
   "nbconvert_exporter": "python",
   "pygments_lexer": "ipython3",
   "version": "3.10.14"
  },
  "toc-showtags": false,
  "vscode": {
   "interpreter": {
    "hash": "7014e6a8beff3a47c7c0424a6c63a486addc0ee3d12468bf1ae9a85a56cca70c"
   }
  }
 },
 "nbformat": 4,
 "nbformat_minor": 4
}
