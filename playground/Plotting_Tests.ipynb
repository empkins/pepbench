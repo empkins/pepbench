{
 "cells": [
  {
   "cell_type": "markdown",
   "metadata": {
    "cell_marker": "\"\"\""
   },
   "source": [
    "# Plotting Tests"
   ]
  },
  {
   "cell_type": "markdown",
   "metadata": {},
   "source": [
    "## Setup and Helper Functions"
   ]
  },
  {
   "cell_type": "code",
   "execution_count": null,
   "metadata": {},
   "outputs": [],
   "source": [
    "import json\n",
    "from pathlib import Path\n",
    "\n",
    "import matplotlib.pyplot as plt\n",
    "import pandas as pd\n",
    "import seaborn as sns\n",
    "from fau_colors import cmaps, register_fausans_font\n",
    "\n",
    "from pepbench.datasets import EmpkinsDataset, GuardianDataset\n",
    "from pepbench.io import load_challenge_results_from_folder\n",
    "\n",
    "%matplotlib widget\n",
    "%load_ext autoreload\n",
    "%autoreload 2"
   ]
  },
  {
   "cell_type": "code",
   "execution_count": null,
   "metadata": {},
   "outputs": [],
   "source": [
    "register_fausans_font()\n",
    "plt.close(\"all\")\n",
    "\n",
    "palette = sns.color_palette(cmaps.faculties)\n",
    "sns.set_theme(context=\"notebook\", style=\"ticks\", font=\"sans-serif\", palette=palette)\n",
    "\n",
    "plt.rcParams[\"figure.figsize\"] = (10, 5)\n",
    "plt.rcParams[\"pdf.fonttype\"] = 42\n",
    "plt.rcParams[\"mathtext.default\"] = \"regular\"\n",
    "plt.rcParams[\"font.family\"] = \"sans-serif\"\n",
    "plt.rcParams[\"font.sans-serif\"] = \"FAUSans Office\"\n",
    "\n",
    "palette"
   ]
  },
  {
   "cell_type": "code",
   "execution_count": null,
   "metadata": {},
   "outputs": [],
   "source": [
    "deploy_type = \"local\"\n",
    "config_dict = json.load(Path(\"./config.json\").open(encoding=\"utf-8\"))\n",
    "\n",
    "guardian_base_path = Path(config_dict[deploy_type][\"guardian_path\"])\n",
    "empkins_base_path = Path(config_dict[deploy_type][\"empkins_path\"])"
   ]
  },
  {
   "cell_type": "code",
   "execution_count": null,
   "metadata": {},
   "outputs": [],
   "source": [
    "results_path = Path(\"../experiments/pep_algorithm_benchmarking/results\")"
   ]
  },
  {
   "cell_type": "code",
   "execution_count": null,
   "metadata": {},
   "outputs": [],
   "source": [
    "dataset_guardian = GuardianDataset(guardian_base_path, use_cache=True, only_labeled=True)\n",
    "dataset_guardian"
   ]
  },
  {
   "cell_type": "code",
   "execution_count": null,
   "metadata": {},
   "outputs": [],
   "source": [
    "dataset_empkins = EmpkinsDataset(empkins_base_path, use_cache=True, only_labeled=True)\n",
    "dataset_empkins"
   ]
  },
  {
   "cell_type": "code",
   "execution_count": null,
   "metadata": {},
   "outputs": [],
   "source": [
    "participant = \"VP_001\"\n",
    "condition = \"tsst\"\n",
    "phase = \"Pause_1\""
   ]
  },
  {
   "cell_type": "code",
   "execution_count": null,
   "metadata": {},
   "outputs": [],
   "source": [
    "datapoint = dataset_empkins.get_subset(participant=participant, condition=condition, phase=phase)"
   ]
  },
  {
   "cell_type": "code",
   "execution_count": null,
   "metadata": {},
   "outputs": [],
   "source": [
    "from pepbench.plotting import (\n",
    "    plot_signals,\n",
    "    plot_signals_from_challenge_results,\n",
    "    plot_signals_with_reference_labels,\n",
    "    plot_signals_with_reference_pep,\n",
    ")"
   ]
  },
  {
   "cell_type": "code",
   "execution_count": null,
   "metadata": {},
   "outputs": [],
   "source": [
    "fig, axs = plot_signals(\n",
    "    datapoint,\n",
    "    collapse=False,\n",
    "    legend_outside=True,\n",
    "    normalize_time=True,\n",
    "    heartbeat_subset=(0, 4),\n",
    "    legend_orientation=\"horizontal\",\n",
    ")"
   ]
  },
  {
   "cell_type": "code",
   "execution_count": null,
   "metadata": {},
   "outputs": [],
   "source": [
    "fig, axs = plot_signals_with_reference_labels(\n",
    "    datapoint,\n",
    "    collapse=True,\n",
    "    normalize_time=True,\n",
    "    heartbeat_subset=(1, 4),\n",
    "    legend_outside=True,\n",
    "    plot_artefacts=True,\n",
    "    legend_orientation=\"horizontal\",\n",
    ")"
   ]
  },
  {
   "cell_type": "code",
   "execution_count": null,
   "metadata": {},
   "outputs": [],
   "source": [
    "fig, axs = plot_signals_with_reference_pep(\n",
    "    datapoint,\n",
    "    normalize_time=True,\n",
    "    heartbeat_subset=(0, 4),\n",
    "    legend_outside=True,\n",
    "    legend_orientation=\"horizontal\",\n",
    "    pep_hatch=\"//\",\n",
    ")"
   ]
  },
  {
   "cell_type": "code",
   "execution_count": null,
   "metadata": {},
   "outputs": [],
   "source": [
    "results_type = \"empkins_dataset_both_algorithms\"\n",
    "\n",
    "folder_path = results_path.joinpath(results_type)\n",
    "folder_path"
   ]
  },
  {
   "cell_type": "code",
   "execution_count": null,
   "metadata": {},
   "outputs": [],
   "source": [
    "results_agg_mean_std, results_agg_total, results_single, results_per_sample = load_challenge_results_from_folder(\n",
    "    folder_path,\n",
    "    index_cols_single=[\"participant\", \"condition\", \"phase\"],\n",
    "    index_cols_per_sample=[\"participant\", \"condition\", \"phase\"],\n",
    ")"
   ]
  },
  {
   "cell_type": "code",
   "execution_count": null,
   "metadata": {},
   "outputs": [],
   "source": [
    "results_per_sample"
   ]
  },
  {
   "cell_type": "code",
   "execution_count": null,
   "metadata": {},
   "outputs": [],
   "source": [
    "pipeline_result = results_per_sample.loc[(\"r-peak-diff-40-ms\", \"straight-line\", \"autoregression\")]\n",
    "pipeline_result = pipeline_result.xs((participant, condition, phase), level=[\"participant\", \"condition\", \"phase\"])"
   ]
  },
  {
   "cell_type": "code",
   "execution_count": null,
   "metadata": {},
   "outputs": [],
   "source": [
    "fig, ax = plot_signals_from_challenge_results(\n",
    "    datapoint,\n",
    "    pipeline_result,\n",
    "    normalize_time=True,\n",
    "    heartbeat_subset=(0, 2),\n",
    "    collapse=True,\n",
    "    add_pep=True,\n",
    "    legend_outside=True,\n",
    "    legend_orientation=\"horizontal\",\n",
    ")"
   ]
  },
  {
   "cell_type": "code",
   "execution_count": null,
   "metadata": {},
   "outputs": [],
   "source": [
    "from pepbench.plotting.algorithms import (\n",
    "    plot_b_point_extraction_arbol2017,\n",
    "    plot_b_point_extraction_debski1993,\n",
    "    plot_b_point_extraction_drost2022,\n",
    "    plot_b_point_extraction_forouzanfar2018,\n",
    "    plot_q_peak_extraction_neurokit_dwt,\n",
    "    plot_q_wave_onset_extraction_van_lien_2013,\n",
    ")"
   ]
  },
  {
   "cell_type": "code",
   "execution_count": null,
   "metadata": {},
   "outputs": [],
   "source": [
    "fig, ax = plot_q_peak_extraction_neurokit_dwt(datapoint, heartbeat_subset=(0, 8), normalize_time=True)"
   ]
  },
  {
   "cell_type": "code",
   "execution_count": null,
   "metadata": {},
   "outputs": [],
   "source": [
    "fig, ax = plot_q_wave_onset_extraction_van_lien_2013(\n",
    "    datapoint, heartbeat_subset=(0, 2), algo_params={\"time_interval_ms\": 40}, normalize_time=True\n",
    ")"
   ]
  },
  {
   "cell_type": "code",
   "execution_count": null,
   "metadata": {},
   "outputs": [],
   "source": [
    "fig, ax = plot_q_wave_onset_extraction_van_lien_2013(\n",
    "    datapoint, heartbeat_subset=(0, 2), algo_params={\"time_interval_ms\": 40}, normalize_time=True\n",
    ")"
   ]
  },
  {
   "cell_type": "code",
   "execution_count": null,
   "metadata": {},
   "outputs": [],
   "source": [
    "fig, axs = plot_b_point_extraction_debski1993(datapoint, heartbeat_subset=(0, 2), normalize_time=True, algo_params=None)"
   ]
  },
  {
   "cell_type": "code",
   "execution_count": null,
   "metadata": {},
   "outputs": [],
   "source": [
    "fig, axs = plot_b_point_extraction_arbol2017(datapoint, heartbeat_subset=(0, 2), normalize_time=True, algo_params=None)"
   ]
  },
  {
   "cell_type": "code",
   "execution_count": null,
   "metadata": {},
   "outputs": [],
   "source": [
    "fig, axs = plot_b_point_extraction_drost2022(datapoint, heartbeat_subset=(0, 2), normalize_time=True, algo_params=None)"
   ]
  },
  {
   "cell_type": "code",
   "execution_count": null,
   "metadata": {},
   "outputs": [],
   "source": [
    "fig, axs = plot_b_point_extraction_forouzanfar2018(\n",
    "    datapoint, heartbeat_subset=(10, 12), normalize_time=True, algo_params=None\n",
    ")"
   ]
  },
  {
   "cell_type": "code",
   "execution_count": null,
   "metadata": {},
   "outputs": [],
   "source": []
  },
  {
   "cell_type": "code",
   "execution_count": null,
   "metadata": {},
   "outputs": [],
   "source": [
    "test_path = Path(\"/Users/richer/Documents/PhD/Projects/BioPsyKit/tests/test_data/pep\")\n",
    "\n",
    "ecg_data = pd.read_csv(test_path.joinpath(\"pep_test_ecg.csv\"), index_col=0)\n",
    "ecg_data.index = pd.to_datetime(ecg_data.index)\n",
    "\n",
    "icg_data = pd.read_csv(test_path.joinpath(\"pep_test_icg.csv\"), index_col=0)\n",
    "icg_data.index = pd.to_datetime(icg_data.index)\n",
    "\n",
    "heartbeats = pd.read_csv(test_path.joinpath(\"pep_test_heartbeat_reference_variable_length.csv\"), index_col=0)\n",
    "\n",
    "q_wave_onsets = pd.read_csv(test_path.joinpath(\"pep_test_q_wave_onset_reference_neurokit_dwt.csv\"), index_col=0)\n",
    "q_wave_onsets = q_wave_onsets.dropna(subset=\"q_wave_onset_sample\").convert_dtypes(infer_objects=True)\n",
    "\n",
    "c_points = pd.read_csv(test_path.joinpath(\"pep_test_c_point_reference_scipy_findpeaks.csv\"), index_col=0)"
   ]
  },
  {
   "cell_type": "code",
   "execution_count": null,
   "metadata": {},
   "outputs": [],
   "source": [
    "fig, ax = plt.subplots()\n",
    "ecg_data.plot(ax=ax)\n",
    "\n",
    "ax.scatter(\n",
    "    ecg_data.index[q_wave_onsets[\"q_wave_onset_sample\"]],\n",
    "    ecg_data.iloc[q_wave_onsets[\"q_wave_onset_sample\"]],\n",
    "    color=cmaps.tech[0],\n",
    "    zorder=3,\n",
    ")\n",
    "\n",
    "ax.vlines(\n",
    "    x=ecg_data.index[heartbeats[\"start_sample\"]],\n",
    "    ymin=0,\n",
    "    ymax=1,\n",
    "    zorder=0,\n",
    "    colors=cmaps.tech[1],\n",
    "    transform=ax.get_xaxis_transform(),\n",
    "    ls=\"--\",\n",
    ")\n",
    "\n",
    "fig.tight_layout()"
   ]
  },
  {
   "cell_type": "code",
   "execution_count": null,
   "metadata": {},
   "outputs": [],
   "source": [
    "fig, ax = plt.subplots()\n",
    "icg_data.plot(ax=ax)\n",
    "\n",
    "ax.scatter(\n",
    "    icg_data.index[c_points[\"c_point_sample\"]], icg_data.iloc[c_points[\"c_point_sample\"]], color=cmaps.tech[0], zorder=3\n",
    ")\n",
    "\n",
    "fig.tight_layout()"
   ]
  },
  {
   "cell_type": "code",
   "execution_count": null,
   "metadata": {},
   "outputs": [],
   "source": []
  }
 ],
 "metadata": {
  "jupytext": {
   "encoding": "# -*- coding: utf-8 -*-",
   "text_representation": {
    "extension": ".py",
    "format_name": "sphinx",
    "format_version": "1.1",
    "jupytext_version": "1.13.0"
   }
  },
  "kernelspec": {
   "display_name": "pepbench",
   "language": "python",
   "name": "pepbench"
  },
  "language_info": {
   "codemirror_mode": {
    "name": "ipython",
    "version": 3
   },
   "file_extension": ".py",
   "mimetype": "text/x-python",
   "name": "python",
   "nbconvert_exporter": "python",
   "pygments_lexer": "ipython3",
   "version": "3.10.14"
  },
  "toc-showtags": false,
  "vscode": {
   "interpreter": {
    "hash": "7014e6a8beff3a47c7c0424a6c63a486addc0ee3d12468bf1ae9a85a56cca70c"
   }
  }
 },
 "nbformat": 4,
 "nbformat_minor": 4
}
