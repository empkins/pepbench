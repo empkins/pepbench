{
 "cells": [
  {
   "cell_type": "markdown",
   "metadata": {
    "cell_marker": "\"\"\""
   },
   "source": [
    "# Figures Graphical Abstract"
   ]
  },
  {
   "cell_type": "markdown",
   "metadata": {},
   "source": [
    "## Setup and Helper Functions"
   ]
  },
  {
   "cell_type": "code",
   "execution_count": null,
   "metadata": {},
   "outputs": [],
   "source": [
    "import json\n",
    "from pathlib import Path\n",
    "\n",
    "import matplotlib.pyplot as plt\n",
    "import seaborn as sns\n",
    "from biopsykit.utils.dataframe_handling import multi_xs\n",
    "from fau_colors import cmaps, register_fausans_font\n",
    "\n",
    "from pepbench.datasets import EmpkinsDataset, GuardianDataset\n",
    "from pepbench.io import load_challenge_results_from_folder\n",
    "from pepbench.plotting import (\n",
    "    plot_signals_from_challenge_results,\n",
    "    plot_signals_with_reference_labels,\n",
    ")\n",
    "from pepbench.plotting.algorithms import (\n",
    "    plot_b_point_extraction_forouzanfar2018,\n",
    ")\n",
    "from pepbench.plotting.results import (\n",
    "    boxplot_algorithm_performance,\n",
    "    residual_plot_pep,\n",
    "    residual_plot_pep_heart_rate,\n",
    ")\n",
    "\n",
    "%matplotlib widget\n",
    "%load_ext autoreload\n",
    "%autoreload 2"
   ]
  },
  {
   "cell_type": "code",
   "execution_count": null,
   "metadata": {},
   "outputs": [],
   "source": [
    "register_fausans_font()\n",
    "plt.close(\"all\")\n",
    "\n",
    "palette = sns.color_palette(cmaps.faculties)\n",
    "sns.set_theme(context=\"notebook\", style=\"ticks\", font=\"sans-serif\", palette=palette)\n",
    "\n",
    "plt.rcParams[\"figure.figsize\"] = (10, 5)\n",
    "plt.rcParams[\"pdf.fonttype\"] = 42\n",
    "plt.rcParams[\"mathtext.default\"] = \"regular\"\n",
    "plt.rcParams[\"font.family\"] = \"sans-serif\"\n",
    "plt.rcParams[\"font.sans-serif\"] = \"FAUSans Office\"\n",
    "\n",
    "palette"
   ]
  },
  {
   "cell_type": "code",
   "execution_count": null,
   "metadata": {},
   "outputs": [],
   "source": [
    "deploy_type = \"local\"\n",
    "config_dict = json.load(Path(\"../../config.json\").open(encoding=\"utf-8\"))\n",
    "\n",
    "guardian_base_path = Path(config_dict[deploy_type][\"guardian_path\"])\n",
    "empkins_base_path = Path(config_dict[deploy_type][\"empkins_path\"])"
   ]
  },
  {
   "cell_type": "code",
   "execution_count": null,
   "metadata": {},
   "outputs": [],
   "source": [
    "root_path = Path(\"../../../pep_algorithm_benchmarking\")"
   ]
  },
  {
   "cell_type": "code",
   "execution_count": null,
   "metadata": {},
   "outputs": [],
   "source": [
    "results_path = root_path.joinpath(\"results\")"
   ]
  },
  {
   "cell_type": "code",
   "execution_count": null,
   "metadata": {},
   "outputs": [],
   "source": [
    "paper_path = json.load(root_path.joinpath(\"paper_path.json\").open(encoding=\"utf-8\"))[\"paper_path\"]\n",
    "paper_path = Path(paper_path)\n",
    "\n",
    "img_path_paper = paper_path.joinpath(\"img/graphical_abstract\")\n",
    "img_path_paper.mkdir(parents=True, exist_ok=True)"
   ]
  },
  {
   "cell_type": "code",
   "execution_count": null,
   "metadata": {},
   "outputs": [],
   "source": [
    "folder_path_empkins = results_path.joinpath(\"empkins_dataset_both_algorithms\")\n",
    "folder_path_empkins"
   ]
  },
  {
   "cell_type": "code",
   "execution_count": null,
   "metadata": {},
   "outputs": [],
   "source": [
    "folder_path_guardian = results_path.joinpath(\"guardian_dataset_both_algorithms\")\n",
    "folder_path_guardian"
   ]
  },
  {
   "cell_type": "code",
   "execution_count": null,
   "metadata": {},
   "outputs": [],
   "source": [
    "dataset_guardian = GuardianDataset(guardian_base_path, use_cache=True, only_labeled=True)\n",
    "dataset_guardian"
   ]
  },
  {
   "cell_type": "code",
   "execution_count": null,
   "metadata": {},
   "outputs": [],
   "source": [
    "dataset_empkins = EmpkinsDataset(empkins_base_path, use_cache=True, only_labeled=True)\n",
    "dataset_empkins"
   ]
  },
  {
   "cell_type": "code",
   "execution_count": null,
   "metadata": {},
   "outputs": [],
   "source": [
    "participant_empkins = \"VP_001\"\n",
    "condition_empkins = \"tsst\"\n",
    "phase_empkins = \"Pause_1\""
   ]
  },
  {
   "cell_type": "code",
   "execution_count": null,
   "metadata": {},
   "outputs": [],
   "source": [
    "datapoint_empkins = dataset_empkins.get_subset(\n",
    "    participant=participant_empkins, condition=condition_empkins, phase=phase_empkins\n",
    ")"
   ]
  },
  {
   "cell_type": "code",
   "execution_count": null,
   "metadata": {},
   "outputs": [],
   "source": [
    "results_agg_mean_std_empkins, results_agg_total_empkins, results_single_empkins, results_per_sample_empkins = (\n",
    "    load_challenge_results_from_folder(\n",
    "        folder_path_empkins,\n",
    "        index_cols_single=[\"participant\", \"condition\", \"phase\"],\n",
    "        index_cols_per_sample=[\"participant\", \"condition\", \"phase\"],\n",
    "    )\n",
    ")"
   ]
  },
  {
   "cell_type": "code",
   "execution_count": null,
   "metadata": {},
   "outputs": [],
   "source": [
    "results_per_sample_empkins"
   ]
  },
  {
   "cell_type": "code",
   "execution_count": null,
   "metadata": {},
   "outputs": [],
   "source": [
    "results_agg_mean_std_guardian, results_agg_total_guardian, results_single_guardian, results_per_sample_guardian = (\n",
    "    load_challenge_results_from_folder(\n",
    "        folder_path_guardian,\n",
    "        index_cols_single=[\"participant\", \"phase\"],\n",
    "        index_cols_per_sample=[\"participant\", \"phase\"],\n",
    "    )\n",
    ")"
   ]
  },
  {
   "cell_type": "code",
   "execution_count": null,
   "metadata": {},
   "outputs": [],
   "source": [
    "pipeline_result_empkins = results_per_sample_empkins.loc[(\"martinez2004\", \"drost2022\", \"none\")]\n",
    "pipeline_result_empkins = pipeline_result_empkins.xs(\n",
    "    (participant_empkins, condition_empkins, phase_empkins), level=[\"participant\", \"condition\", \"phase\"]\n",
    ")"
   ]
  },
  {
   "cell_type": "markdown",
   "metadata": {},
   "source": [
    "## Example Signal with Reference Labels"
   ]
  },
  {
   "cell_type": "code",
   "execution_count": null,
   "metadata": {},
   "outputs": [],
   "source": [
    "fig, axs = plot_signals_with_reference_labels(\n",
    "    datapoint_empkins,\n",
    "    collapse=False,\n",
    "    normalize_time=True,\n",
    "    heartbeat_subset=(5, 6),\n",
    "    legend_outside=True,\n",
    "    plot_artefacts=True,\n",
    "    legend_orientation=\"horizontal\",\n",
    "    figsize=(5, 4),\n",
    ")\n",
    "axs[0].set_ylabel(None)\n",
    "axs[1].set_ylabel(None)\n",
    "\n",
    "fig.legends[0].remove()\n",
    "fig.tight_layout()\n",
    "fig.savefig(img_path_paper.joinpath(\"img_signals.pdf\"), facecolor=(1, 1, 1, 0))"
   ]
  },
  {
   "cell_type": "markdown",
   "metadata": {},
   "source": [
    "## Example Signal with Reference Labels and Algorithm Output"
   ]
  },
  {
   "cell_type": "code",
   "execution_count": null,
   "metadata": {},
   "outputs": [],
   "source": [
    "fig, axs = plot_signals_from_challenge_results(\n",
    "    datapoint_empkins,\n",
    "    pipeline_result_empkins,\n",
    "    normalize_time=True,\n",
    "    heartbeat_subset=(5, 6),\n",
    "    collapse=False,\n",
    "    add_pep=True,\n",
    "    legend_outside=True,\n",
    "    legend_orientation=\"horizontal\",\n",
    "    figsize=(5, 4),\n",
    ")\n",
    "axs[0].set_ylabel(None)\n",
    "axs[1].set_ylabel(None)\n",
    "\n",
    "fig.legends[0].remove()\n",
    "fig.tight_layout()\n",
    "fig.savefig(img_path_paper.joinpath(\"img_signals_detected.pdf\"), facecolor=(1, 1, 1, 0))"
   ]
  },
  {
   "cell_type": "markdown",
   "metadata": {},
   "source": [
    "## Combined Error Plot"
   ]
  },
  {
   "cell_type": "code",
   "execution_count": null,
   "metadata": {},
   "outputs": [],
   "source": [
    "selected_pipelines_for_plotting = [\n",
    "    (\"forouzanfar2018\", \"drost2022\", \"none\"),\n",
    "    (\"vanlien2013-32-ms\", \"drost2022\", \"none\"),\n",
    "    (\"forouzanfar2018\", \"arbol2017-third-derivative\", \"none\"),\n",
    "    (\"forouzanfar2018\", \"lozano2007-linear-regression\", \"none\"),\n",
    "]"
   ]
  },
  {
   "cell_type": "code",
   "execution_count": null,
   "metadata": {},
   "outputs": [],
   "source": [
    "algo_levels = [\"q_peak_algorithm\", \"b_point_algorithm\", \"outlier_correction_algorithm\"]"
   ]
  },
  {
   "cell_type": "code",
   "execution_count": null,
   "metadata": {},
   "outputs": [],
   "source": [
    "results_empkins_plot = multi_xs(\n",
    "    data=results_per_sample_empkins, keys=selected_pipelines_for_plotting, level=algo_levels\n",
    ")\n",
    "results_empkins_plot.head()"
   ]
  },
  {
   "cell_type": "code",
   "execution_count": null,
   "metadata": {},
   "outputs": [],
   "source": [
    "results_guardian_plot = multi_xs(\n",
    "    data=results_per_sample_guardian, keys=selected_pipelines_for_plotting, level=algo_levels\n",
    ")\n",
    "results_guardian_plot.head()"
   ]
  },
  {
   "cell_type": "code",
   "execution_count": null,
   "metadata": {},
   "outputs": [],
   "source": [
    "fig, ax = plt.subplots(figsize=(3, 3))\n",
    "\n",
    "boxplot_algorithm_performance(\n",
    "    results_empkins_plot,\n",
    "    metric=\"absolute_error_per_sample_ms\",\n",
    "    showmeans=True,\n",
    "    showfliers=False,\n",
    "    palette=cmaps.faculties_light,\n",
    "    width=0.9,\n",
    "    title=\"EmpkinS Dataset\",\n",
    "    fig=fig,\n",
    "    ax=ax,\n",
    ")\n",
    "ax.set_xticklabels([f\"Pipe{i}\" for i in range(1, 5)])\n",
    "ax.set_xlabel(None)\n",
    "ax.set_ylabel(None)\n",
    "ax.set_title(\"Absolute Error\", fontdict={\"fontweight\": \"bold\"})\n",
    "\n",
    "fig.tight_layout(pad=0.25)\n",
    "\n",
    "fig.savefig(img_path_paper.joinpath(\"img_evaluation_error_single.pdf\"), facecolor=(1, 1, 1, 0))"
   ]
  },
  {
   "cell_type": "code",
   "execution_count": null,
   "metadata": {},
   "outputs": [],
   "source": [
    "fig, ax = residual_plot_pep(\n",
    "    results_empkins_plot,\n",
    "    selected_pipelines_for_plotting[0],\n",
    "    alpha=0.5,\n",
    "    show_upper_limit=True,\n",
    "    annotate_fontsize=\"small\",\n",
    "    annotate_bbox=True,\n",
    "    figsize=(3, 3),\n",
    ")\n",
    "ax.set_ylim([-100, 150])\n",
    "ax.set_title(\"PEP Pipeline\", fontdict={\"fontweight\": \"bold\"})\n",
    "fig.tight_layout(pad=0.25)\n",
    "\n",
    "fig.savefig(img_path_paper.joinpath(\"img_residual_plot.pdf\"), facecolor=(1, 1, 1, 0))"
   ]
  },
  {
   "cell_type": "code",
   "execution_count": null,
   "metadata": {},
   "outputs": [],
   "source": [
    "fig, ax = residual_plot_pep_heart_rate(\n",
    "    results_empkins_plot,\n",
    "    selected_pipelines_for_plotting[0],\n",
    "    alpha=0.5,\n",
    "    show_upper_limit=True,\n",
    "    annotate_fontsize=\"small\",\n",
    "    annotate_bbox=True,\n",
    "    figsize=(3, 3),\n",
    ")\n",
    "ax.set_ylim([-100, 150])\n",
    "ax.set_title(\"PEP Pipeline\", fontdict={\"fontweight\": \"bold\"})\n",
    "fig.legends[0].remove()\n",
    "\n",
    "fig.tight_layout(pad=0.25)\n",
    "\n",
    "fig.savefig(img_path_paper.joinpath(\"img_residual_plot_heart_rate.pdf\"), facecolor=(1, 1, 1, 0))"
   ]
  },
  {
   "cell_type": "code",
   "execution_count": null,
   "metadata": {},
   "outputs": [],
   "source": [
    "fig, axs = plot_b_point_extraction_forouzanfar2018(\n",
    "    datapoint_empkins, heartbeat_subset=(5, 7), normalize_time=True, algo_params=None, figsize=(4, 3)\n",
    ")\n",
    "fig.legends[0].remove()\n",
    "axs[0].set_ylabel(None)\n",
    "axs[1].set_ylabel(None)\n",
    "axs[0].set_title(\"Algorithm\", fontdict={\"fontweight\": \"bold\"})\n",
    "\n",
    "fig.tight_layout(pad=0.25)\n",
    "fig.savefig(img_path_paper.joinpath(\"img_pep_algorithm_insights.pdf\"), facecolor=(1, 1, 1, 0))"
   ]
  },
  {
   "cell_type": "code",
   "execution_count": null,
   "metadata": {},
   "outputs": [],
   "source": []
  }
 ],
 "metadata": {
  "jupytext": {
   "encoding": "# -*- coding: utf-8 -*-",
   "text_representation": {
    "extension": ".py",
    "format_name": "sphinx",
    "format_version": "1.1",
    "jupytext_version": "1.13.0"
   }
  },
  "kernelspec": {
   "display_name": "pepbench",
   "language": "python",
   "name": "pepbench"
  },
  "language_info": {
   "codemirror_mode": {
    "name": "ipython",
    "version": 3
   },
   "file_extension": ".py",
   "mimetype": "text/x-python",
   "name": "python",
   "nbconvert_exporter": "python",
   "pygments_lexer": "ipython3",
   "version": "3.10.14"
  },
  "toc-showtags": false,
  "vscode": {
   "interpreter": {
    "hash": "7014e6a8beff3a47c7c0424a6c63a486addc0ee3d12468bf1ae9a85a56cca70c"
   }
  }
 },
 "nbformat": 4,
 "nbformat_minor": 4
}
