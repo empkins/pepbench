{
 "cells": [
  {
   "cell_type": "markdown",
   "metadata": {
    "cell_marker": "\"\"\""
   },
   "source": [
    "# Plotting Tests"
   ]
  },
  {
   "cell_type": "markdown",
   "metadata": {},
   "source": [
    "## Setup and Helper Functions"
   ]
  },
  {
   "cell_type": "markdown",
   "metadata": {},
   "source": [
    "### Imports"
   ]
  },
  {
   "cell_type": "code",
   "execution_count": null,
   "metadata": {},
   "outputs": [],
   "source": [
    "import json\n",
    "from pathlib import Path\n",
    "\n",
    "import matplotlib.pyplot as plt\n",
    "import seaborn as sns\n",
    "from fau_colors import cmaps, register_fausans_font\n",
    "\n",
    "from pepbench.datasets import EmpkinsDataset, GuardianDataset\n",
    "from pepbench.plotting.algorithms import (\n",
    "    plot_b_point_extraction_arbol2017_isoelectric_crossings,\n",
    "    plot_b_point_extraction_arbol2017_second_derivative,\n",
    "    plot_b_point_extraction_arbol2017_third_derivative,\n",
    "    plot_b_point_extraction_debski1993_second_derivative,\n",
    "    plot_b_point_extraction_drost2022,\n",
    "    plot_b_point_extraction_forouzanfar2018,\n",
    "    plot_b_point_extraction_lozano2007_linear_regression,\n",
    "    plot_b_point_extraction_lozano2007_quadratic_regression,\n",
    "    plot_b_point_extraction_sherwood1990,\n",
    "    plot_b_point_extraction_stern1985,\n",
    "    plot_q_peak_extraction_forounzafar2018,\n",
    "    plot_q_peak_extraction_martinez2004_neurokit,\n",
    "    plot_q_peak_extraction_vanlien2013,\n",
    ")\n",
    "\n",
    "%matplotlib widget\n",
    "%load_ext autoreload\n",
    "%autoreload 2"
   ]
  },
  {
   "cell_type": "code",
   "execution_count": null,
   "metadata": {},
   "outputs": [],
   "source": [
    "register_fausans_font()\n",
    "plt.close(\"all\")\n",
    "\n",
    "palette = sns.color_palette(cmaps.faculties)\n",
    "sns.set_theme(context=\"notebook\", style=\"ticks\", font=\"sans-serif\", palette=palette)\n",
    "\n",
    "plt.rcParams[\"figure.figsize\"] = (10, 5)\n",
    "plt.rcParams[\"pdf.fonttype\"] = 42\n",
    "plt.rcParams[\"mathtext.default\"] = \"regular\"\n",
    "plt.rcParams[\"font.family\"] = \"sans-serif\"\n",
    "plt.rcParams[\"font.sans-serif\"] = \"FAUSans Office\"\n",
    "\n",
    "palette"
   ]
  },
  {
   "cell_type": "code",
   "execution_count": null,
   "metadata": {},
   "outputs": [],
   "source": [
    "deploy_type = \"local\"\n",
    "config_dict = json.load(Path(\"../../config.json\").open(encoding=\"utf-8\"))\n",
    "\n",
    "guardian_base_path = Path(config_dict[deploy_type][\"guardian_path\"])\n",
    "empkins_base_path = Path(config_dict[deploy_type][\"empkins_path\"])"
   ]
  },
  {
   "cell_type": "code",
   "execution_count": null,
   "metadata": {},
   "outputs": [],
   "source": [
    "dataset_guardian = GuardianDataset(guardian_base_path, use_cache=True, only_labeled=True)\n",
    "dataset_guardian"
   ]
  },
  {
   "cell_type": "code",
   "execution_count": null,
   "metadata": {},
   "outputs": [],
   "source": [
    "dataset_empkins = EmpkinsDataset(empkins_base_path, use_cache=True, only_labeled=True)\n",
    "dataset_empkins"
   ]
  },
  {
   "cell_type": "code",
   "execution_count": null,
   "metadata": {},
   "outputs": [],
   "source": [
    "participant_empkins = \"VP_001\"\n",
    "condition_empkins = \"tsst\"\n",
    "phase_empkins = \"Pause_1\"\n",
    "\n",
    "datapoint_empkins = dataset_empkins.get_subset(\n",
    "    participant=participant_empkins, condition=condition_empkins, phase=phase_empkins\n",
    ")\n",
    "datapoint_empkins"
   ]
  },
  {
   "cell_type": "code",
   "execution_count": null,
   "metadata": {},
   "outputs": [],
   "source": [
    "participant_guardian = \"GDN0005\"\n",
    "phase_guardian = \"Pause\"\n",
    "\n",
    "datapoint_guardian = dataset_guardian.get_subset(participant=participant_guardian, phase=phase_guardian)\n",
    "datapoint_guardian"
   ]
  },
  {
   "cell_type": "markdown",
   "metadata": {},
   "source": [
    "## Q-peak Detection"
   ]
  },
  {
   "cell_type": "markdown",
   "metadata": {},
   "source": [
    "### `Martinez2004`"
   ]
  },
  {
   "cell_type": "markdown",
   "metadata": {},
   "source": [
    "Martinez, J. P., Almeida, R., Olmos, S., Rocha, A. P., & Laguna, P. (2004). A Wavelet-Based ECG Delineator: Evaluation on Standard Databases. IEEE Transactions on Biomedical Engineering, 51(4), 570–581. https://doi.org/10.1109/TBME.2003.821031\n"
   ]
  },
  {
   "cell_type": "code",
   "execution_count": null,
   "metadata": {},
   "outputs": [],
   "source": [
    "fig, ax = plot_q_peak_extraction_martinez2004_neurokit(datapoint_empkins, heartbeat_subset=(0, 8), normalize_time=True)"
   ]
  },
  {
   "cell_type": "code",
   "execution_count": null,
   "metadata": {},
   "outputs": [],
   "source": [
    "fig, ax = plot_q_peak_extraction_martinez2004_neurokit(datapoint_guardian, heartbeat_subset=(0, 8), normalize_time=True)"
   ]
  },
  {
   "cell_type": "markdown",
   "metadata": {},
   "source": [
    "### `VanLien2013`"
   ]
  },
  {
   "cell_type": "code",
   "execution_count": null,
   "metadata": {},
   "outputs": [],
   "source": [
    "fig, ax = plot_q_peak_extraction_vanlien2013(\n",
    "    datapoint_empkins, heartbeat_subset=(0, 2), algo_params={\"time_interval_ms\": 40}, normalize_time=True\n",
    ")"
   ]
  },
  {
   "cell_type": "code",
   "execution_count": null,
   "metadata": {},
   "outputs": [],
   "source": [
    "fig, ax = plot_q_peak_extraction_vanlien2013(\n",
    "    datapoint_guardian, heartbeat_subset=(0, 2), algo_params={\"time_interval_ms\": 40}, normalize_time=True\n",
    ")"
   ]
  },
  {
   "cell_type": "markdown",
   "metadata": {},
   "source": [
    "### `Forouzanfar2018`"
   ]
  },
  {
   "cell_type": "code",
   "execution_count": null,
   "metadata": {},
   "outputs": [],
   "source": [
    "fig, ax = plot_q_peak_extraction_forounzafar2018(datapoint_empkins, heartbeat_subset=(0, 2), normalize_time=True)"
   ]
  },
  {
   "cell_type": "code",
   "execution_count": null,
   "metadata": {},
   "outputs": [],
   "source": [
    "fig, ax = plot_q_peak_extraction_forounzafar2018(datapoint_guardian, heartbeat_subset=(0, 2), normalize_time=True)"
   ]
  },
  {
   "cell_type": "markdown",
   "metadata": {},
   "source": [
    "## B-point Detection"
   ]
  },
  {
   "cell_type": "markdown",
   "metadata": {},
   "source": [
    "### `Stern1985`"
   ]
  },
  {
   "cell_type": "code",
   "execution_count": null,
   "metadata": {},
   "outputs": [],
   "source": [
    "fig, axs = plot_b_point_extraction_stern1985(datapoint_empkins, heartbeat_subset=(0, 2), normalize_time=True)"
   ]
  },
  {
   "cell_type": "code",
   "execution_count": null,
   "metadata": {},
   "outputs": [],
   "source": [
    "fig, axs = plot_b_point_extraction_stern1985(datapoint_guardian, heartbeat_subset=(0, 2), normalize_time=True)"
   ]
  },
  {
   "cell_type": "markdown",
   "metadata": {},
   "source": [
    "### `Sherwood1990`"
   ]
  },
  {
   "cell_type": "code",
   "execution_count": null,
   "metadata": {},
   "outputs": [],
   "source": [
    "fig, axs = plot_b_point_extraction_sherwood1990(datapoint_empkins, heartbeat_subset=(0, 2), normalize_time=True)"
   ]
  },
  {
   "cell_type": "code",
   "execution_count": null,
   "metadata": {},
   "outputs": [],
   "source": [
    "fig, axs = plot_b_point_extraction_sherwood1990(datapoint_guardian, heartbeat_subset=(0, 2), normalize_time=True)"
   ]
  },
  {
   "cell_type": "markdown",
   "metadata": {},
   "source": [
    "### `Debski1993SecondDerivative`"
   ]
  },
  {
   "cell_type": "code",
   "execution_count": null,
   "metadata": {},
   "outputs": [],
   "source": [
    "fig, axs = plot_b_point_extraction_debski1993_second_derivative(\n",
    "    datapoint_empkins, heartbeat_subset=(0, 2), normalize_time=True, algo_params=None\n",
    ")"
   ]
  },
  {
   "cell_type": "code",
   "execution_count": null,
   "metadata": {},
   "outputs": [],
   "source": [
    "fig, axs = plot_b_point_extraction_debski1993_second_derivative(\n",
    "    datapoint_guardian, heartbeat_subset=(0, 2), normalize_time=True, algo_params=None\n",
    ")"
   ]
  },
  {
   "cell_type": "markdown",
   "metadata": {},
   "source": [
    "### `Lozano2007LinearRegression`"
   ]
  },
  {
   "cell_type": "code",
   "execution_count": null,
   "metadata": {},
   "outputs": [],
   "source": [
    "fig, axs = plot_b_point_extraction_lozano2007_linear_regression(\n",
    "    datapoint_empkins, heartbeat_subset=(0, 2), normalize_time=True\n",
    ")"
   ]
  },
  {
   "cell_type": "code",
   "execution_count": null,
   "metadata": {},
   "outputs": [],
   "source": [
    "fig, axs = plot_b_point_extraction_lozano2007_linear_regression(\n",
    "    datapoint_guardian, heartbeat_subset=(0, 2), normalize_time=True, algo_params=None\n",
    ")"
   ]
  },
  {
   "cell_type": "markdown",
   "metadata": {},
   "source": [
    "### `Lozano2007QuadraticRegression`"
   ]
  },
  {
   "cell_type": "code",
   "execution_count": null,
   "metadata": {},
   "outputs": [],
   "source": [
    "fig, axs = plot_b_point_extraction_lozano2007_quadratic_regression(\n",
    "    datapoint_empkins, heartbeat_subset=(0, 2), normalize_time=True\n",
    ")"
   ]
  },
  {
   "cell_type": "code",
   "execution_count": null,
   "metadata": {},
   "outputs": [],
   "source": [
    "fig, axs = plot_b_point_extraction_lozano2007_quadratic_regression(\n",
    "    datapoint_guardian, heartbeat_subset=(0, 2), normalize_time=True, algo_params=None\n",
    ")"
   ]
  },
  {
   "cell_type": "markdown",
   "metadata": {},
   "source": [
    "### `Arbol2017IsoelectricCrossings`"
   ]
  },
  {
   "cell_type": "code",
   "execution_count": null,
   "metadata": {},
   "outputs": [],
   "source": [
    "fig, axs = plot_b_point_extraction_arbol2017_isoelectric_crossings(\n",
    "    datapoint_empkins, heartbeat_subset=(0, 2), normalize_time=True, algo_params=None\n",
    ")"
   ]
  },
  {
   "cell_type": "code",
   "execution_count": null,
   "metadata": {},
   "outputs": [],
   "source": [
    "fig, axs = plot_b_point_extraction_arbol2017_isoelectric_crossings(\n",
    "    datapoint_guardian, heartbeat_subset=(0, 2), normalize_time=True, algo_params=None\n",
    ")"
   ]
  },
  {
   "cell_type": "markdown",
   "metadata": {},
   "source": [
    "### `Arbol2017SecondDerivative`"
   ]
  },
  {
   "cell_type": "code",
   "execution_count": null,
   "metadata": {},
   "outputs": [],
   "source": [
    "fig, axs = plot_b_point_extraction_arbol2017_second_derivative(\n",
    "    datapoint_empkins, heartbeat_subset=(0, 2), normalize_time=True, algo_params=None\n",
    ")"
   ]
  },
  {
   "cell_type": "code",
   "execution_count": null,
   "metadata": {},
   "outputs": [],
   "source": [
    "fig, axs = plot_b_point_extraction_arbol2017_second_derivative(\n",
    "    datapoint_guardian, heartbeat_subset=(0, 2), normalize_time=True, algo_params=None\n",
    ")"
   ]
  },
  {
   "cell_type": "markdown",
   "metadata": {},
   "source": [
    "### `Arbol2017ThirdDerivative`"
   ]
  },
  {
   "cell_type": "code",
   "execution_count": null,
   "metadata": {},
   "outputs": [],
   "source": [
    "fig, axs = plot_b_point_extraction_arbol2017_third_derivative(\n",
    "    datapoint_empkins, heartbeat_subset=(0, 2), normalize_time=True, algo_params=None\n",
    ")"
   ]
  },
  {
   "cell_type": "code",
   "execution_count": null,
   "metadata": {},
   "outputs": [],
   "source": [
    "fig, axs = plot_b_point_extraction_arbol2017_third_derivative(\n",
    "    datapoint_guardian, heartbeat_subset=(0, 2), normalize_time=True, algo_params=None\n",
    ")"
   ]
  },
  {
   "cell_type": "markdown",
   "metadata": {},
   "source": [
    "### `Forouzanfar2018`"
   ]
  },
  {
   "cell_type": "code",
   "execution_count": null,
   "metadata": {},
   "outputs": [],
   "source": [
    "fig, axs = plot_b_point_extraction_forouzanfar2018(\n",
    "    datapoint_empkins, heartbeat_subset=(0, 2), normalize_time=True, algo_params=None\n",
    ")"
   ]
  },
  {
   "cell_type": "code",
   "execution_count": null,
   "metadata": {},
   "outputs": [],
   "source": [
    "fig, axs = plot_b_point_extraction_forouzanfar2018(\n",
    "    datapoint_guardian, heartbeat_subset=(0, 2), normalize_time=True, algo_params=None\n",
    ")"
   ]
  },
  {
   "cell_type": "markdown",
   "metadata": {},
   "source": [
    "### `Drost2022`"
   ]
  },
  {
   "cell_type": "code",
   "execution_count": null,
   "metadata": {},
   "outputs": [],
   "source": [
    "fig, axs = plot_b_point_extraction_drost2022(\n",
    "    datapoint_empkins, heartbeat_subset=(0, 2), normalize_time=True, algo_params=None\n",
    ")"
   ]
  },
  {
   "cell_type": "code",
   "execution_count": null,
   "metadata": {},
   "outputs": [],
   "source": [
    "fig, axs = plot_b_point_extraction_drost2022(\n",
    "    datapoint_guardian, heartbeat_subset=(0, 2), normalize_time=True, algo_params=None\n",
    ")"
   ]
  },
  {
   "cell_type": "code",
   "execution_count": null,
   "metadata": {},
   "outputs": [],
   "source": []
  }
 ],
 "metadata": {
  "jupytext": {
   "encoding": "# -*- coding: utf-8 -*-",
   "text_representation": {
    "extension": ".py",
    "format_name": "sphinx",
    "format_version": "1.1",
    "jupytext_version": "1.13.0"
   }
  },
  "kernelspec": {
   "display_name": "pepbench",
   "language": "python",
   "name": "pepbench"
  },
  "language_info": {
   "codemirror_mode": {
    "name": "ipython",
    "version": 3
   },
   "file_extension": ".py",
   "mimetype": "text/x-python",
   "name": "python",
   "nbconvert_exporter": "python",
   "pygments_lexer": "ipython3",
   "version": "3.10.14"
  },
  "toc-showtags": false,
  "vscode": {
   "interpreter": {
    "hash": "7014e6a8beff3a47c7c0424a6c63a486addc0ee3d12468bf1ae9a85a56cca70c"
   }
  }
 },
 "nbformat": 4,
 "nbformat_minor": 4
}
