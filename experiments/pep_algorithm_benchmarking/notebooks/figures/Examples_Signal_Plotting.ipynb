{
 "cells": [
  {
   "cell_type": "markdown",
   "metadata": {
    "cell_marker": "\"\"\""
   },
   "source": [
    "# Plotting Tests"
   ]
  },
  {
   "cell_type": "markdown",
   "metadata": {},
   "source": [
    "## Setup and Helper Functions"
   ]
  },
  {
   "cell_type": "code",
   "execution_count": null,
   "metadata": {},
   "outputs": [],
   "source": [
    "import json\n",
    "from pathlib import Path\n",
    "\n",
    "import matplotlib.pyplot as plt\n",
    "import seaborn as sns\n",
    "from fau_colors import cmaps, register_fausans_font\n",
    "\n",
    "from pepbench.datasets import EmpkinsDataset, GuardianDataset\n",
    "from pepbench.io import load_challenge_results_from_folder\n",
    "from pepbench.plotting import (\n",
    "    plot_signals,\n",
    "    plot_signals_from_challenge_results,\n",
    "    plot_signals_with_algorithm_results,\n",
    "    plot_signals_with_reference_labels,\n",
    "    plot_signals_with_reference_pep,\n",
    ")\n",
    "\n",
    "%matplotlib widget\n",
    "%load_ext autoreload\n",
    "%autoreload 2"
   ]
  },
  {
   "cell_type": "code",
   "execution_count": null,
   "metadata": {},
   "outputs": [],
   "source": [
    "register_fausans_font()\n",
    "plt.close(\"all\")\n",
    "\n",
    "palette = sns.color_palette(cmaps.faculties)\n",
    "sns.set_theme(context=\"notebook\", style=\"ticks\", font=\"sans-serif\", palette=palette)\n",
    "\n",
    "plt.rcParams[\"figure.figsize\"] = (10, 5)\n",
    "plt.rcParams[\"pdf.fonttype\"] = 42\n",
    "plt.rcParams[\"mathtext.default\"] = \"regular\"\n",
    "plt.rcParams[\"font.family\"] = \"sans-serif\"\n",
    "plt.rcParams[\"font.sans-serif\"] = \"FAUSans Office\"\n",
    "\n",
    "palette"
   ]
  },
  {
   "cell_type": "code",
   "execution_count": null,
   "metadata": {},
   "outputs": [],
   "source": [
    "deploy_type = \"local\"\n",
    "config_dict = json.load(Path(\"../../config.json\").open(encoding=\"utf-8\"))\n",
    "\n",
    "guardian_base_path = Path(config_dict[deploy_type][\"guardian_path\"])\n",
    "empkins_base_path = Path(config_dict[deploy_type][\"empkins_path\"])"
   ]
  },
  {
   "cell_type": "code",
   "execution_count": null,
   "metadata": {},
   "outputs": [],
   "source": [
    "results_path = Path(\"../../results\")\n",
    "results_path.resolve()"
   ]
  },
  {
   "cell_type": "code",
   "execution_count": null,
   "metadata": {},
   "outputs": [],
   "source": [
    "dataset_guardian = GuardianDataset(guardian_base_path, use_cache=True, only_labeled=True)\n",
    "dataset_guardian"
   ]
  },
  {
   "cell_type": "code",
   "execution_count": null,
   "metadata": {},
   "outputs": [],
   "source": [
    "dataset_empkins = EmpkinsDataset(empkins_base_path, use_cache=True, only_labeled=True)\n",
    "dataset_empkins"
   ]
  },
  {
   "cell_type": "code",
   "execution_count": null,
   "metadata": {},
   "outputs": [],
   "source": [
    "participant_empkins = \"VP_001\"\n",
    "condition_empkins = \"tsst\"\n",
    "phase_empkins = \"Pause_1\"\n",
    "\n",
    "datapoint_empkins = dataset_empkins.get_subset(\n",
    "    participant=participant_empkins, condition=condition_empkins, phase=phase_empkins\n",
    ")\n",
    "datapoint_empkins"
   ]
  },
  {
   "cell_type": "code",
   "execution_count": null,
   "metadata": {},
   "outputs": [],
   "source": [
    "participant_guardian = \"GDN0005\"\n",
    "phase_guardian = \"Pause\"\n",
    "\n",
    "datapoint_guardian = dataset_guardian.get_subset(participant=participant_guardian, phase=phase_guardian)\n",
    "datapoint_guardian"
   ]
  },
  {
   "cell_type": "markdown",
   "metadata": {},
   "source": [
    "## Basic Plots"
   ]
  },
  {
   "cell_type": "markdown",
   "metadata": {},
   "source": [
    "### Plot Signals"
   ]
  },
  {
   "cell_type": "markdown",
   "metadata": {},
   "source": [
    "#### In one Axis"
   ]
  },
  {
   "cell_type": "code",
   "execution_count": null,
   "metadata": {},
   "outputs": [],
   "source": [
    "fig, ax = plot_signals(\n",
    "    datapoint_empkins,\n",
    "    collapse=True,\n",
    "    legend_outside=True,\n",
    "    normalize_time=True,\n",
    "    heartbeat_subset=(0, 4),\n",
    "    legend_orientation=\"horizontal\",\n",
    ")"
   ]
  },
  {
   "cell_type": "code",
   "execution_count": null,
   "metadata": {},
   "outputs": [],
   "source": [
    "fig, ax = plot_signals(\n",
    "    datapoint_guardian,\n",
    "    collapse=True,\n",
    "    legend_outside=True,\n",
    "    normalize_time=True,\n",
    "    heartbeat_subset=(0, 4),\n",
    "    legend_orientation=\"horizontal\",\n",
    ")"
   ]
  },
  {
   "cell_type": "markdown",
   "metadata": {},
   "source": [
    "#### In two Axes"
   ]
  },
  {
   "cell_type": "code",
   "execution_count": null,
   "metadata": {},
   "outputs": [],
   "source": [
    "fig, axs = plot_signals(\n",
    "    datapoint_empkins,\n",
    "    collapse=False,\n",
    "    legend_outside=True,\n",
    "    normalize_time=True,\n",
    "    heartbeat_subset=(0, 4),\n",
    "    legend_orientation=\"horizontal\",\n",
    ")"
   ]
  },
  {
   "cell_type": "code",
   "execution_count": null,
   "metadata": {},
   "outputs": [],
   "source": [
    "fig, axs = plot_signals(\n",
    "    datapoint_guardian,\n",
    "    collapse=False,\n",
    "    legend_outside=True,\n",
    "    normalize_time=True,\n",
    "    heartbeat_subset=(0, 4),\n",
    "    legend_orientation=\"horizontal\",\n",
    ")"
   ]
  },
  {
   "cell_type": "markdown",
   "metadata": {},
   "source": [
    "### Plot Signals with Reference Labels"
   ]
  },
  {
   "cell_type": "markdown",
   "metadata": {},
   "source": [
    "#### In one Axis"
   ]
  },
  {
   "cell_type": "code",
   "execution_count": null,
   "metadata": {},
   "outputs": [],
   "source": [
    "fig, ax = plot_signals_with_reference_labels(\n",
    "    datapoint_empkins,\n",
    "    collapse=True,\n",
    "    normalize_time=True,\n",
    "    heartbeat_subset=(1, 4),\n",
    "    legend_outside=True,\n",
    "    plot_artefacts=True,\n",
    "    legend_orientation=\"horizontal\",\n",
    ")"
   ]
  },
  {
   "cell_type": "code",
   "execution_count": null,
   "metadata": {},
   "outputs": [],
   "source": [
    "fig, ax = plot_signals_with_reference_labels(\n",
    "    datapoint_guardian,\n",
    "    collapse=True,\n",
    "    normalize_time=True,\n",
    "    heartbeat_subset=(1, 4),\n",
    "    legend_outside=True,\n",
    "    plot_artefacts=True,\n",
    "    legend_orientation=\"horizontal\",\n",
    ")"
   ]
  },
  {
   "cell_type": "markdown",
   "metadata": {},
   "source": [
    "#### In two Axes"
   ]
  },
  {
   "cell_type": "code",
   "execution_count": null,
   "metadata": {},
   "outputs": [],
   "source": [
    "fig, axs = plot_signals_with_reference_labels(\n",
    "    datapoint_empkins,\n",
    "    collapse=False,\n",
    "    normalize_time=True,\n",
    "    heartbeat_subset=(1, 4),\n",
    "    legend_outside=True,\n",
    "    plot_artefacts=True,\n",
    "    legend_orientation=\"horizontal\",\n",
    ")"
   ]
  },
  {
   "cell_type": "code",
   "execution_count": null,
   "metadata": {},
   "outputs": [],
   "source": [
    "fig, axs = plot_signals_with_reference_labels(\n",
    "    datapoint_guardian,\n",
    "    collapse=False,\n",
    "    normalize_time=True,\n",
    "    heartbeat_subset=(1, 4),\n",
    "    legend_outside=True,\n",
    "    plot_artefacts=True,\n",
    "    legend_orientation=\"horizontal\",\n",
    ")"
   ]
  },
  {
   "cell_type": "markdown",
   "metadata": {},
   "source": [
    "### Plot Signal with Reference PEP"
   ]
  },
  {
   "cell_type": "markdown",
   "metadata": {},
   "source": [
    "#### In one Axis"
   ]
  },
  {
   "cell_type": "code",
   "execution_count": null,
   "metadata": {},
   "outputs": [],
   "source": [
    "fig, ax = plot_signals_with_reference_pep(\n",
    "    datapoint_empkins,\n",
    "    normalize_time=True,\n",
    "    collapse=True,\n",
    "    heartbeat_subset=(0, 4),\n",
    "    legend_outside=True,\n",
    "    legend_orientation=\"horizontal\",\n",
    "    pep_hatch=\"//\",\n",
    ")"
   ]
  },
  {
   "cell_type": "code",
   "execution_count": null,
   "metadata": {},
   "outputs": [],
   "source": [
    "fig, ax = plot_signals_with_reference_pep(\n",
    "    datapoint_guardian,\n",
    "    normalize_time=True,\n",
    "    collapse=True,\n",
    "    heartbeat_subset=(0, 4),\n",
    "    legend_outside=True,\n",
    "    legend_orientation=\"horizontal\",\n",
    "    pep_hatch=\"//\",\n",
    ")"
   ]
  },
  {
   "cell_type": "markdown",
   "metadata": {},
   "source": [
    "#### In two Axes"
   ]
  },
  {
   "cell_type": "code",
   "execution_count": null,
   "metadata": {},
   "outputs": [],
   "source": [
    "fig, axs = plot_signals_with_reference_pep(\n",
    "    datapoint_empkins,\n",
    "    normalize_time=True,\n",
    "    heartbeat_subset=(0, 4),\n",
    "    legend_outside=True,\n",
    "    legend_orientation=\"horizontal\",\n",
    "    pep_hatch=\"//\",\n",
    ")"
   ]
  },
  {
   "cell_type": "code",
   "execution_count": null,
   "metadata": {},
   "outputs": [],
   "source": [
    "fig, axs = plot_signals_with_reference_pep(\n",
    "    datapoint_guardian,\n",
    "    normalize_time=True,\n",
    "    heartbeat_subset=(0, 4),\n",
    "    legend_outside=True,\n",
    "    legend_orientation=\"horizontal\",\n",
    "    pep_hatch=\"//\",\n",
    ")"
   ]
  },
  {
   "cell_type": "markdown",
   "metadata": {},
   "source": [
    "## Plot with Extraction Results"
   ]
  },
  {
   "cell_type": "markdown",
   "metadata": {},
   "source": [
    "### Q-peak Extraction"
   ]
  },
  {
   "cell_type": "code",
   "execution_count": null,
   "metadata": {},
   "outputs": [],
   "source": [
    "from pepbench.algorithms.ecg import QPeakExtractionVanLien2013"
   ]
  },
  {
   "cell_type": "markdown",
   "metadata": {},
   "source": [
    "#### In one Axis"
   ]
  },
  {
   "cell_type": "code",
   "execution_count": null,
   "metadata": {
    "jp-MarkdownHeadingCollapsed": true
   },
   "outputs": [],
   "source": [
    "fig, ax = plot_signals_with_algorithm_results(\n",
    "    datapoint_empkins,\n",
    "    algorithm=QPeakExtractionVanLien2013(),\n",
    "    normalize_time=True,\n",
    "    heartbeat_subset=(0, 2),\n",
    "    collapse=True,\n",
    "    legend_outside=True,\n",
    "    legend_orientation=\"horizontal\",\n",
    ")"
   ]
  },
  {
   "cell_type": "markdown",
   "metadata": {},
   "source": [
    "#### In two Axes"
   ]
  },
  {
   "cell_type": "code",
   "execution_count": null,
   "metadata": {
    "jp-MarkdownHeadingCollapsed": true
   },
   "outputs": [],
   "source": [
    "fig, ax = plot_signals_with_algorithm_results(\n",
    "    datapoint_empkins,\n",
    "    algorithm=QPeakExtractionVanLien2013(),\n",
    "    normalize_time=True,\n",
    "    heartbeat_subset=(0, 2),\n",
    "    collapse=False,\n",
    "    legend_outside=True,\n",
    "    legend_orientation=\"horizontal\",\n",
    ")"
   ]
  },
  {
   "cell_type": "markdown",
   "metadata": {},
   "source": [
    "### B-point Extraction"
   ]
  },
  {
   "cell_type": "code",
   "execution_count": null,
   "metadata": {},
   "outputs": [],
   "source": [
    "from pepbench.algorithms.icg import BPointExtractionDrost2022"
   ]
  },
  {
   "cell_type": "markdown",
   "metadata": {},
   "source": [
    "#### In one Axis"
   ]
  },
  {
   "cell_type": "code",
   "execution_count": null,
   "metadata": {
    "jp-MarkdownHeadingCollapsed": true
   },
   "outputs": [],
   "source": [
    "fig, ax = plot_signals_with_algorithm_results(\n",
    "    datapoint_empkins,\n",
    "    algorithm=BPointExtractionDrost2022(),\n",
    "    normalize_time=True,\n",
    "    heartbeat_subset=(0, 2),\n",
    "    collapse=True,\n",
    "    legend_outside=True,\n",
    "    legend_orientation=\"horizontal\",\n",
    ")"
   ]
  },
  {
   "cell_type": "markdown",
   "metadata": {},
   "source": [
    "#### In two Axes"
   ]
  },
  {
   "cell_type": "code",
   "execution_count": null,
   "metadata": {
    "jp-MarkdownHeadingCollapsed": true
   },
   "outputs": [],
   "source": [
    "fig, ax = plot_signals_with_algorithm_results(\n",
    "    datapoint_empkins,\n",
    "    algorithm=BPointExtractionDrost2022(),\n",
    "    normalize_time=True,\n",
    "    heartbeat_subset=(0, 2),\n",
    "    collapse=False,\n",
    "    legend_outside=True,\n",
    "    legend_orientation=\"horizontal\",\n",
    ")"
   ]
  },
  {
   "cell_type": "markdown",
   "metadata": {},
   "source": [
    "### Plot Challenge Results"
   ]
  },
  {
   "cell_type": "markdown",
   "metadata": {},
   "source": [
    "#### Load Challenge Results"
   ]
  },
  {
   "cell_type": "code",
   "execution_count": null,
   "metadata": {},
   "outputs": [],
   "source": [
    "results_type_empkins = \"empkins_dataset_both_algorithms\"\n",
    "\n",
    "folder_path_empkins = results_path.joinpath(results_type_empkins)\n",
    "folder_path_empkins"
   ]
  },
  {
   "cell_type": "code",
   "execution_count": null,
   "metadata": {},
   "outputs": [],
   "source": [
    "results_agg_mean_std_empkins, results_agg_total_empkins, results_single_empkins, results_per_sample_empkins = (\n",
    "    load_challenge_results_from_folder(\n",
    "        folder_path_empkins,\n",
    "        index_cols_single=[\"participant\", \"condition\", \"phase\"],\n",
    "        index_cols_per_sample=[\"participant\", \"condition\", \"phase\"],\n",
    "    )\n",
    ")"
   ]
  },
  {
   "cell_type": "code",
   "execution_count": null,
   "metadata": {},
   "outputs": [],
   "source": [
    "results_per_sample_empkins.head()"
   ]
  },
  {
   "cell_type": "code",
   "execution_count": null,
   "metadata": {},
   "outputs": [],
   "source": [
    "pipeline_result_empkins = results_per_sample_empkins.loc[(\"vanlien2013-40-ms\", \"drost2022\", \"forouzanfar2018\")]\n",
    "pipeline_result_empkins = pipeline_result_empkins.xs(\n",
    "    (participant_empkins, condition_empkins, phase_empkins), level=[\"participant\", \"condition\", \"phase\"]\n",
    ")"
   ]
  },
  {
   "cell_type": "markdown",
   "metadata": {},
   "source": [
    "#### In one Axis"
   ]
  },
  {
   "cell_type": "code",
   "execution_count": null,
   "metadata": {},
   "outputs": [],
   "source": [
    "fig, ax = plot_signals_from_challenge_results(\n",
    "    datapoint_empkins,\n",
    "    pipeline_result_empkins,\n",
    "    normalize_time=True,\n",
    "    heartbeat_subset=(0, 2),\n",
    "    collapse=True,\n",
    "    add_pep=True,\n",
    "    legend_outside=True,\n",
    "    legend_orientation=\"horizontal\",\n",
    ")"
   ]
  },
  {
   "cell_type": "code",
   "execution_count": null,
   "metadata": {},
   "outputs": [],
   "source": [
    "fig, ax = plot_signals_from_challenge_results(\n",
    "    datapoint_empkins,\n",
    "    pipeline_result_empkins,\n",
    "    normalize_time=True,\n",
    "    heartbeat_subset=(0, 2),\n",
    "    collapse=True,\n",
    "    add_pep=True,\n",
    "    legend_outside=True,\n",
    "    legend_orientation=\"horizontal\",\n",
    ")"
   ]
  },
  {
   "cell_type": "markdown",
   "metadata": {},
   "source": [
    "#### In two Axes"
   ]
  },
  {
   "cell_type": "code",
   "execution_count": null,
   "metadata": {},
   "outputs": [],
   "source": [
    "fig, axs = plot_signals_from_challenge_results(\n",
    "    datapoint_empkins,\n",
    "    pipeline_result_empkins,\n",
    "    normalize_time=True,\n",
    "    heartbeat_subset=(0, 2),\n",
    "    collapse=False,\n",
    "    add_pep=True,\n",
    "    legend_outside=True,\n",
    "    legend_orientation=\"horizontal\",\n",
    ")"
   ]
  },
  {
   "cell_type": "code",
   "execution_count": null,
   "metadata": {},
   "outputs": [],
   "source": [
    "fig, axs = plot_signals_from_challenge_results(\n",
    "    datapoint_empkins,\n",
    "    pipeline_result_empkins,\n",
    "    normalize_time=True,\n",
    "    heartbeat_subset=(0, 2),\n",
    "    collapse=False,\n",
    "    add_pep=True,\n",
    "    legend_outside=True,\n",
    "    legend_orientation=\"horizontal\",\n",
    ")"
   ]
  },
  {
   "cell_type": "code",
   "execution_count": null,
   "metadata": {},
   "outputs": [],
   "source": []
  }
 ],
 "metadata": {
  "jupytext": {
   "encoding": "# -*- coding: utf-8 -*-",
   "text_representation": {
    "extension": ".py",
    "format_name": "sphinx",
    "format_version": "1.1",
    "jupytext_version": "1.13.0"
   }
  },
  "kernelspec": {
   "display_name": "pepbench",
   "language": "python",
   "name": "pepbench"
  },
  "language_info": {
   "codemirror_mode": {
    "name": "ipython",
    "version": 3
   },
   "file_extension": ".py",
   "mimetype": "text/x-python",
   "name": "python",
   "nbconvert_exporter": "python",
   "pygments_lexer": "ipython3",
   "version": "3.10.14"
  },
  "toc-showtags": false,
  "vscode": {
   "interpreter": {
    "hash": "7014e6a8beff3a47c7c0424a6c63a486addc0ee3d12468bf1ae9a85a56cca70c"
   }
  }
 },
 "nbformat": 4,
 "nbformat_minor": 4
}
