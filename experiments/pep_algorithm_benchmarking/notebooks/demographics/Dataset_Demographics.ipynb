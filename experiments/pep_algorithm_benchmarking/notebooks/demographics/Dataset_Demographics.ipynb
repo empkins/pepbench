{
 "cells": [
  {
   "cell_type": "markdown",
   "metadata": {
    "cell_marker": "\"\"\""
   },
   "source": [
    "# Dataset Demographics"
   ]
  },
  {
   "cell_type": "markdown",
   "metadata": {},
   "source": [
    "## Setup and Helper Functions"
   ]
  },
  {
   "cell_type": "code",
   "execution_count": null,
   "metadata": {},
   "outputs": [],
   "source": [
    "import json\n",
    "from pathlib import Path\n",
    "\n",
    "import biopsykit as bp\n",
    "import matplotlib.pyplot as plt\n",
    "import pandas as pd\n",
    "import seaborn as sns\n",
    "from fau_colors import cmaps, register_fausans_font\n",
    "\n",
    "from pepbench.datasets import EmpkinsDataset, GuardianDataset\n",
    "\n",
    "%matplotlib widget\n",
    "%load_ext autoreload\n",
    "%autoreload 2"
   ]
  },
  {
   "cell_type": "code",
   "execution_count": null,
   "metadata": {},
   "outputs": [],
   "source": [
    "register_fausans_font()\n",
    "plt.close(\"all\")\n",
    "\n",
    "palette = sns.color_palette(cmaps.faculties_light)\n",
    "sns.set_theme(context=\"notebook\", style=\"ticks\", font=\"sans-serif\", palette=palette)\n",
    "\n",
    "plt.rcParams[\"figure.figsize\"] = (10, 5)\n",
    "plt.rcParams[\"pdf.fonttype\"] = 42\n",
    "plt.rcParams[\"mathtext.default\"] = \"regular\"\n",
    "plt.rcParams[\"font.family\"] = \"sans-serif\"\n",
    "plt.rcParams[\"font.sans-serif\"] = \"FAUSans Office\"\n",
    "\n",
    "palette"
   ]
  },
  {
   "cell_type": "code",
   "execution_count": null,
   "metadata": {},
   "outputs": [],
   "source": [
    "root_path = Path(\"../../\")"
   ]
  },
  {
   "cell_type": "code",
   "execution_count": null,
   "metadata": {},
   "outputs": [],
   "source": [
    "deploy_type = \"local\"\n",
    "\n",
    "config_dict = json.load(root_path.joinpath(\"config.json\").open(encoding=\"utf-8\"))\n",
    "\n",
    "empkins_base_path = Path(config_dict[deploy_type][\"empkins_path\"])\n",
    "guardian_base_path = Path(config_dict[deploy_type][\"guardian_path\"])\n",
    "print(empkins_base_path)"
   ]
  },
  {
   "cell_type": "code",
   "execution_count": null,
   "metadata": {},
   "outputs": [],
   "source": [
    "condition_mapping_empkins = {\"tsst\": \"TSST\", \"ftsst\": \"f-TSST\"}\n",
    "phase_mapping_empkins = {\n",
    "    \"Prep\": \"Preparation\",\n",
    "    \"Pause_1\": \"Pause 1\",\n",
    "    \"Pause_5\": \"Pause 5\",\n",
    "    \"Talk\": \"Interview\",\n",
    "    \"Math\": \"Mental Arithmetic\",\n",
    "}\n",
    "phase_order_empkins = [\"Prep\", \"Pause_1\", \"Talk\", \"Math\", \"Pause_5\"]"
   ]
  },
  {
   "cell_type": "code",
   "execution_count": null,
   "metadata": {},
   "outputs": [],
   "source": [
    "export_path = root_path.joinpath(\"exports\")\n",
    "export_path.mkdir(exist_ok=True)"
   ]
  },
  {
   "cell_type": "code",
   "execution_count": null,
   "metadata": {},
   "outputs": [],
   "source": [
    "phase_mapping_guardian = {\n",
    "    \"Pause\": \"Resting\",\n",
    "    \"Valsalva\": \"Valsalva\",\n",
    "    \"HoldingBreath\": \"Holding Breath\",\n",
    "    \"TiltUp\": \"Tilt Table Up\",\n",
    "    \"TiltDown\": \"Tilt Table Down\",\n",
    "}\n",
    "phase_order_guardian = [\"Pause\", \"Valsalva\", \"HoldingBreath\", \"TiltUp\", \"TiltDown\"]"
   ]
  },
  {
   "cell_type": "code",
   "execution_count": null,
   "metadata": {},
   "outputs": [],
   "source": [
    "algo_levels = [\"q_peak_algorithm\", \"b_point_algorithm\", \"outlier_correction_algorithm\"]"
   ]
  },
  {
   "cell_type": "code",
   "execution_count": null,
   "metadata": {},
   "outputs": [],
   "source": [
    "empkins_dataset = EmpkinsDataset(empkins_base_path)\n",
    "empkins_dataset"
   ]
  },
  {
   "cell_type": "code",
   "execution_count": null,
   "metadata": {},
   "outputs": [],
   "source": [
    "guardian_dataset = GuardianDataset(guardian_base_path)\n",
    "guardian_dataset"
   ]
  },
  {
   "cell_type": "markdown",
   "metadata": {},
   "source": [
    "## EmpkinS"
   ]
  },
  {
   "cell_type": "code",
   "execution_count": null,
   "metadata": {},
   "outputs": [],
   "source": [
    "empkins_demographics = empkins_dataset.base_demographics\n",
    "empkins_demographics"
   ]
  },
  {
   "cell_type": "markdown",
   "metadata": {},
   "source": [
    "### Base Demographics"
   ]
  },
  {
   "cell_type": "code",
   "execution_count": null,
   "metadata": {},
   "outputs": [],
   "source": [
    "bp.metadata.gender_counts(empkins_demographics[[\"Gender\"]], gender_col=\"Gender\")"
   ]
  },
  {
   "cell_type": "code",
   "execution_count": null,
   "metadata": {},
   "outputs": [],
   "source": [
    "empkins_demographics[[\"Age\"]].agg([\"mean\", \"std\"]).T"
   ]
  },
  {
   "cell_type": "code",
   "execution_count": null,
   "metadata": {},
   "outputs": [],
   "source": [
    "empkins_demographics[[\"BMI\"]].agg([\"mean\", \"std\"]).T"
   ]
  },
  {
   "cell_type": "markdown",
   "metadata": {},
   "source": [
    "### Number of Labeled Heartbeats"
   ]
  },
  {
   "cell_type": "code",
   "execution_count": null,
   "metadata": {},
   "outputs": [],
   "source": [
    "num_heartbeats_empkins = {}\n",
    "\n",
    "for subset in empkins_dataset.groupby(None):\n",
    "    num_heartbeats_empkins[subset.group_label] = len(subset.reference_heartbeats)\n",
    "\n",
    "num_heartbeats_empkins = pd.DataFrame(num_heartbeats_empkins, index=[\"num_heartbeats\"]).T\n",
    "num_heartbeats_empkins.index.names = subset.group_label._fields\n",
    "num_heartbeats_empkins.head()"
   ]
  },
  {
   "cell_type": "markdown",
   "metadata": {},
   "source": [
    "#### Total"
   ]
  },
  {
   "cell_type": "code",
   "execution_count": null,
   "metadata": {},
   "outputs": [],
   "source": [
    "num_heartbeats_empkins.sum()"
   ]
  },
  {
   "cell_type": "markdown",
   "metadata": {},
   "source": [
    "#### Per Participant"
   ]
  },
  {
   "cell_type": "code",
   "execution_count": null,
   "metadata": {},
   "outputs": [],
   "source": [
    "num_heartbeats_empkins.groupby([\"participant\"]).sum().agg([\"mean\", \"std\"]).T"
   ]
  },
  {
   "cell_type": "markdown",
   "metadata": {},
   "source": [
    "#### Per Condition and Phase"
   ]
  },
  {
   "cell_type": "code",
   "execution_count": null,
   "metadata": {},
   "outputs": [],
   "source": [
    "num_heartbeats_empkins_per_phase = num_heartbeats_empkins.groupby([\"condition\", \"phase\"]).sum().unstack(\"condition\")\n",
    "num_heartbeats_empkins_per_phase = num_heartbeats_empkins_per_phase.reindex(phase_order_empkins, level=\"phase\")\n",
    "num_heartbeats_empkins_per_phase = num_heartbeats_empkins_per_phase.rename(index=phase_mapping_empkins).rename(\n",
    "    columns=condition_mapping_empkins\n",
    ")\n",
    "print(num_heartbeats_empkins_per_phase.style.to_latex())\n",
    "num_heartbeats_empkins_per_phase"
   ]
  },
  {
   "cell_type": "markdown",
   "metadata": {},
   "source": [
    "### Comparison between Annotators"
   ]
  },
  {
   "cell_type": "code",
   "execution_count": null,
   "metadata": {},
   "outputs": [],
   "source": [
    "empkins_dataset_01 = EmpkinsDataset(empkins_base_path, label_type=\"rater_01\")\n",
    "empkins_dataset_02 = EmpkinsDataset(empkins_base_path, label_type=\"rater_02\")"
   ]
  },
  {
   "cell_type": "code",
   "execution_count": null,
   "metadata": {},
   "outputs": [],
   "source": [
    "num_heartbeats_empkins_01 = {}\n",
    "num_heartbeats_empkins_02 = {}\n",
    "\n",
    "for subset_01, subset_02 in zip(empkins_dataset_01.groupby(None), empkins_dataset_02.groupby(None), strict=False):\n",
    "    num_heartbeats_empkins_01[subset_01.group_label] = len(subset_01.reference_heartbeats)\n",
    "    num_heartbeats_empkins_02[subset_02.group_label] = len(subset_02.reference_heartbeats)\n",
    "\n",
    "num_heartbeats_empkins_01 = pd.DataFrame(num_heartbeats_empkins_01, index=[\"num_heartbeats\"]).T\n",
    "num_heartbeats_empkins_01.index.names = subset_01.group_label._fields\n",
    "num_heartbeats_empkins_02 = pd.DataFrame(num_heartbeats_empkins_02, index=[\"num_heartbeats\"]).T\n",
    "num_heartbeats_empkins_02.index.names = subset_02.group_label._fields"
   ]
  },
  {
   "cell_type": "code",
   "execution_count": null,
   "metadata": {},
   "outputs": [],
   "source": [
    "display(num_heartbeats_empkins_01.sum())\n",
    "display(num_heartbeats_empkins_02.sum())"
   ]
  },
  {
   "cell_type": "markdown",
   "metadata": {},
   "source": [
    "## Guardian"
   ]
  },
  {
   "cell_type": "code",
   "execution_count": null,
   "metadata": {},
   "outputs": [],
   "source": [
    "guardian_demographics = guardian_dataset.base_demographics\n",
    "guardian_demographics"
   ]
  },
  {
   "cell_type": "markdown",
   "metadata": {},
   "source": [
    "### Base Demographics"
   ]
  },
  {
   "cell_type": "code",
   "execution_count": null,
   "metadata": {},
   "outputs": [],
   "source": [
    "bp.metadata.gender_counts(guardian_demographics[[\"Gender\"]], gender_col=\"Gender\")"
   ]
  },
  {
   "cell_type": "code",
   "execution_count": null,
   "metadata": {},
   "outputs": [],
   "source": [
    "guardian_demographics[[\"Age\"]].agg([\"mean\", \"std\"]).T"
   ]
  },
  {
   "cell_type": "code",
   "execution_count": null,
   "metadata": {},
   "outputs": [],
   "source": [
    "guardian_demographics[[\"BMI\"]].agg([\"mean\", \"std\"]).T"
   ]
  },
  {
   "cell_type": "markdown",
   "metadata": {},
   "source": [
    "### Number of Labeled Heartbeats"
   ]
  },
  {
   "cell_type": "code",
   "execution_count": null,
   "metadata": {},
   "outputs": [],
   "source": [
    "num_heartbeats_guardian = {}\n",
    "\n",
    "for subset in guardian_dataset.groupby(None):\n",
    "    num_heartbeats_guardian[subset.group_label] = len(subset.reference_heartbeats)\n",
    "\n",
    "num_heartbeats_guardian = pd.DataFrame(num_heartbeats_guardian, index=[\"num_heartbeats\"]).T\n",
    "num_heartbeats_guardian.index.names = subset.group_label._fields\n",
    "num_heartbeats_guardian.head()"
   ]
  },
  {
   "cell_type": "markdown",
   "metadata": {},
   "source": [
    "#### Total"
   ]
  },
  {
   "cell_type": "code",
   "execution_count": null,
   "metadata": {},
   "outputs": [],
   "source": [
    "num_heartbeats_guardian.sum()"
   ]
  },
  {
   "cell_type": "markdown",
   "metadata": {},
   "source": [
    "\n",
    "#### Per Participant"
   ]
  },
  {
   "cell_type": "code",
   "execution_count": null,
   "metadata": {},
   "outputs": [],
   "source": [
    "num_heartbeats_guardian.groupby([\"participant\"]).sum().agg([\"mean\", \"std\"]).T"
   ]
  },
  {
   "cell_type": "markdown",
   "metadata": {},
   "source": [
    "#### Per Phase"
   ]
  },
  {
   "cell_type": "code",
   "execution_count": null,
   "metadata": {},
   "outputs": [],
   "source": [
    "num_heartbeats_guardian_per_phase = num_heartbeats_guardian.groupby([\"phase\"]).sum()\n",
    "num_heartbeats_guardian_per_phase = num_heartbeats_guardian_per_phase.reindex(phase_order_guardian).rename(\n",
    "    index=phase_mapping_guardian\n",
    ")\n",
    "print(num_heartbeats_guardian_per_phase.style.to_latex())\n",
    "display(num_heartbeats_guardian_per_phase)"
   ]
  },
  {
   "cell_type": "markdown",
   "metadata": {},
   "source": [
    "## Export"
   ]
  },
  {
   "cell_type": "code",
   "execution_count": null,
   "metadata": {},
   "outputs": [],
   "source": [
    "empkins_demographics.to_csv(export_path.joinpath(\"demographics_empkins.csv\"))\n",
    "guardian_demographics.to_csv(export_path.joinpath(\"demographics_guardian.csv\"))"
   ]
  },
  {
   "cell_type": "code",
   "execution_count": null,
   "metadata": {},
   "outputs": [],
   "source": [
    "num_heartbeats_empkins.to_csv(export_path.joinpath(\"num_heartbeats_empkins.csv\"))\n",
    "num_heartbeats_guardian.to_csv(export_path.joinpath(\"num_heartbeats_guardian.csv\"))"
   ]
  },
  {
   "cell_type": "code",
   "execution_count": null,
   "metadata": {},
   "outputs": [],
   "source": []
  }
 ],
 "metadata": {
  "jupytext": {
   "encoding": "# -*- coding: utf-8 -*-",
   "text_representation": {
    "extension": ".py",
    "format_name": "sphinx",
    "format_version": "1.1",
    "jupytext_version": "1.13.0"
   }
  },
  "kernelspec": {
   "display_name": "pepbench",
   "language": "python",
   "name": "pepbench"
  },
  "language_info": {
   "codemirror_mode": {
    "name": "ipython",
    "version": 3
   },
   "file_extension": ".py",
   "mimetype": "text/x-python",
   "name": "python",
   "nbconvert_exporter": "python",
   "pygments_lexer": "ipython3",
   "version": "3.10.14"
  },
  "toc-showtags": false
 },
 "nbformat": 4,
 "nbformat_minor": 4
}
