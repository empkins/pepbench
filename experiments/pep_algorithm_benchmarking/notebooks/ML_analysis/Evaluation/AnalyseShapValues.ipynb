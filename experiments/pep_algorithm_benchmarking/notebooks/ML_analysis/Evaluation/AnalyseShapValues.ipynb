{
 "cells": [
  {
   "metadata": {
    "ExecuteTime": {
     "end_time": "2025-05-14T15:39:19.454633Z",
     "start_time": "2025-05-14T15:39:10.494562Z"
    }
   },
   "cell_type": "code",
   "source": [
    "import pandas as pd\n",
    "import shap"
   ],
   "id": "c4fa7636dddbc479",
   "outputs": [],
   "execution_count": 1
  },
  {
   "metadata": {
    "jupyter": {
     "is_executing": true
    }
   },
   "cell_type": "code",
   "source": "",
   "id": "599f7bec728a867c",
   "outputs": [],
   "execution_count": null
  },
  {
   "metadata": {},
   "cell_type": "code",
   "outputs": [],
   "execution_count": null,
   "source": "",
   "id": "149b6111ed42b3aa"
  }
 ],
 "metadata": {
  "kernelspec": {
   "name": "python3",
   "language": "python",
   "display_name": "Python 3 (ipykernel)"
  }
 },
 "nbformat": 5,
 "nbformat_minor": 9
}
