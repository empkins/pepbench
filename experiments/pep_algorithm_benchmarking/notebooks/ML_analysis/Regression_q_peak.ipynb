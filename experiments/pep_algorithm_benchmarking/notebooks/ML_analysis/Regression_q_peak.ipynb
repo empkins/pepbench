{
 "cells": [
  {
   "cell_type": "code",
   "execution_count": 1,
   "metadata": {},
   "outputs": [],
   "source": [
    "from pathlib import Path\n",
    "\n",
    "import pandas as pd\n",
    "import numpy as np\n",
    "\n",
    "import biopsykit as bp\n",
    "from sklearn.preprocessing import MinMaxScaler, StandardScaler\n",
    "\n",
    "\n",
    "#Feature Selection\n",
    "from sklearn.feature_selection import SelectKBest, RFE, f_regression, mutual_info_regression\n",
    "\n",
    "#Classification\n",
    "from sklearn.svm import SVR\n",
    "\n",
    "# Regression\n",
    "from sklearn.neighbors import KNeighborsRegressor\n",
    "from sklearn.ensemble import RandomForestRegressor\n",
    "\n",
    "\n",
    "# Cross-Validation\n",
    "from sklearn.model_selection import GroupKFold\n",
    "\n",
    "from biopsykit.classification.model_selection import SklearnPipelinePermuter\n",
    "\n",
    "\n",
    "%matplotlib widget\n",
    "%load_ext autoreload\n",
    "%autoreload 2"
   ]
  },
  {
   "cell_type": "code",
   "execution_count": 2,
   "metadata": {},
   "outputs": [],
   "source": [
    "save_results = True"
   ]
  },
  {
   "cell_type": "code",
   "execution_count": 3,
   "metadata": {},
   "outputs": [
    {
     "data": {
      "text/plain": [
       "WindowsPath('../../results/data')"
      ]
     },
     "execution_count": 3,
     "metadata": {},
     "output_type": "execute_result"
    }
   ],
   "source": [
    "data_path = Path(\"../../results/data\")\n",
    "data_path"
   ]
  },
  {
   "cell_type": "code",
   "execution_count": 4,
   "metadata": {},
   "outputs": [],
   "source": [
    "models_path = Path(\"../../results/models\")"
   ]
  },
  {
   "cell_type": "code",
   "execution_count": 5,
   "metadata": {},
   "outputs": [
    {
     "data": {
      "text/html": [
       "<div>\n",
       "<style scoped>\n",
       "    .dataframe tbody tr th:only-of-type {\n",
       "        vertical-align: middle;\n",
       "    }\n",
       "\n",
       "    .dataframe tbody tr th {\n",
       "        vertical-align: top;\n",
       "    }\n",
       "\n",
       "    .dataframe thead th {\n",
       "        text-align: right;\n",
       "    }\n",
       "</style>\n",
       "<table border=\"1\" class=\"dataframe\">\n",
       "  <thead>\n",
       "    <tr style=\"text-align: right;\">\n",
       "      <th></th>\n",
       "      <th></th>\n",
       "      <th></th>\n",
       "      <th></th>\n",
       "      <th></th>\n",
       "      <th>rr_interval_ms_estimated</th>\n",
       "      <th>forounzafar2018</th>\n",
       "      <th>martinez2004</th>\n",
       "      <th>scipy-findpeaks</th>\n",
       "      <th>vanlien2013-32-ms</th>\n",
       "      <th>vanlien2013-34-ms</th>\n",
       "      <th>vanlien2013-36-ms</th>\n",
       "      <th>vanlien2013-38-ms</th>\n",
       "      <th>vanlien2013-40-ms</th>\n",
       "      <th>vanlien2013-42-ms</th>\n",
       "    </tr>\n",
       "    <tr>\n",
       "      <th></th>\n",
       "      <th>participant</th>\n",
       "      <th>phase</th>\n",
       "      <th>heartbeat_id_reference</th>\n",
       "      <th>q_wave_onset_sample_reference</th>\n",
       "      <th></th>\n",
       "      <th></th>\n",
       "      <th></th>\n",
       "      <th></th>\n",
       "      <th></th>\n",
       "      <th></th>\n",
       "      <th></th>\n",
       "      <th></th>\n",
       "      <th></th>\n",
       "      <th></th>\n",
       "    </tr>\n",
       "  </thead>\n",
       "  <tbody>\n",
       "    <tr>\n",
       "      <th>0</th>\n",
       "      <th>GDN0005</th>\n",
       "      <th>HoldingBreath</th>\n",
       "      <th>0</th>\n",
       "      <th>260.0</th>\n",
       "      <td>850.0</td>\n",
       "      <td>276.0</td>\n",
       "      <td>262.0</td>\n",
       "      <td>262.0</td>\n",
       "      <td>266.0</td>\n",
       "      <td>264.0</td>\n",
       "      <td>262.0</td>\n",
       "      <td>260.0</td>\n",
       "      <td>258.0</td>\n",
       "      <td>256.0</td>\n",
       "    </tr>\n",
       "    <tr>\n",
       "      <th>1</th>\n",
       "      <th>GDN0005</th>\n",
       "      <th>HoldingBreath</th>\n",
       "      <th>1</th>\n",
       "      <th>260.0</th>\n",
       "      <td>778.0</td>\n",
       "      <td>278.0</td>\n",
       "      <td>262.0</td>\n",
       "      <td>262.0</td>\n",
       "      <td>266.0</td>\n",
       "      <td>264.0</td>\n",
       "      <td>262.0</td>\n",
       "      <td>260.0</td>\n",
       "      <td>258.0</td>\n",
       "      <td>256.0</td>\n",
       "    </tr>\n",
       "    <tr>\n",
       "      <th>2</th>\n",
       "      <th>GDN0005</th>\n",
       "      <th>HoldingBreath</th>\n",
       "      <th>3</th>\n",
       "      <th>222.0</th>\n",
       "      <td>746.0</td>\n",
       "      <td>236.0</td>\n",
       "      <td>224.0</td>\n",
       "      <td>224.0</td>\n",
       "      <td>230.0</td>\n",
       "      <td>228.0</td>\n",
       "      <td>226.0</td>\n",
       "      <td>224.0</td>\n",
       "      <td>222.0</td>\n",
       "      <td>220.0</td>\n",
       "    </tr>\n",
       "    <tr>\n",
       "      <th>3</th>\n",
       "      <th>GDN0005</th>\n",
       "      <th>HoldingBreath</th>\n",
       "      <th>4</th>\n",
       "      <th>220.0</th>\n",
       "      <td>766.0</td>\n",
       "      <td>236.0</td>\n",
       "      <td>222.0</td>\n",
       "      <td>222.0</td>\n",
       "      <td>230.0</td>\n",
       "      <td>228.0</td>\n",
       "      <td>226.0</td>\n",
       "      <td>224.0</td>\n",
       "      <td>222.0</td>\n",
       "      <td>220.0</td>\n",
       "    </tr>\n",
       "    <tr>\n",
       "      <th>4</th>\n",
       "      <th>GDN0005</th>\n",
       "      <th>HoldingBreath</th>\n",
       "      <th>5</th>\n",
       "      <th>228.0</th>\n",
       "      <td>790.0</td>\n",
       "      <td>242.0</td>\n",
       "      <td>230.0</td>\n",
       "      <td>230.0</td>\n",
       "      <td>236.0</td>\n",
       "      <td>234.0</td>\n",
       "      <td>232.0</td>\n",
       "      <td>230.0</td>\n",
       "      <td>228.0</td>\n",
       "      <td>226.0</td>\n",
       "    </tr>\n",
       "    <tr>\n",
       "      <th>...</th>\n",
       "      <th>...</th>\n",
       "      <th>...</th>\n",
       "      <th>...</th>\n",
       "      <th>...</th>\n",
       "      <td>...</td>\n",
       "      <td>...</td>\n",
       "      <td>...</td>\n",
       "      <td>...</td>\n",
       "      <td>...</td>\n",
       "      <td>...</td>\n",
       "      <td>...</td>\n",
       "      <td>...</td>\n",
       "      <td>...</td>\n",
       "      <td>...</td>\n",
       "    </tr>\n",
       "    <tr>\n",
       "      <th>11498</th>\n",
       "      <th>VP_032</th>\n",
       "      <th>Talk</th>\n",
       "      <th>38</th>\n",
       "      <th>153.0</th>\n",
       "      <td>596.0</td>\n",
       "      <td>188.0</td>\n",
       "      <td>154.0</td>\n",
       "      <td>154.0</td>\n",
       "      <td>179.0</td>\n",
       "      <td>177.0</td>\n",
       "      <td>175.0</td>\n",
       "      <td>173.0</td>\n",
       "      <td>171.0</td>\n",
       "      <td>169.0</td>\n",
       "    </tr>\n",
       "    <tr>\n",
       "      <th>11499</th>\n",
       "      <th>VP_032</th>\n",
       "      <th>Talk</th>\n",
       "      <th>39</th>\n",
       "      <th>172.0</th>\n",
       "      <td>619.0</td>\n",
       "      <td>183.0</td>\n",
       "      <td>173.0</td>\n",
       "      <td>173.0</td>\n",
       "      <td>177.0</td>\n",
       "      <td>175.0</td>\n",
       "      <td>173.0</td>\n",
       "      <td>171.0</td>\n",
       "      <td>169.0</td>\n",
       "      <td>167.0</td>\n",
       "    </tr>\n",
       "    <tr>\n",
       "      <th>11500</th>\n",
       "      <th>VP_032</th>\n",
       "      <th>Talk</th>\n",
       "      <th>40</th>\n",
       "      <th>181.0</th>\n",
       "      <td>680.0</td>\n",
       "      <td>193.0</td>\n",
       "      <td>182.0</td>\n",
       "      <td>182.0</td>\n",
       "      <td>185.0</td>\n",
       "      <td>183.0</td>\n",
       "      <td>181.0</td>\n",
       "      <td>179.0</td>\n",
       "      <td>177.0</td>\n",
       "      <td>175.0</td>\n",
       "    </tr>\n",
       "    <tr>\n",
       "      <th>11501</th>\n",
       "      <th>VP_032</th>\n",
       "      <th>Talk</th>\n",
       "      <th>41</th>\n",
       "      <th>200.0</th>\n",
       "      <td>719.0</td>\n",
       "      <td>210.0</td>\n",
       "      <td>201.0</td>\n",
       "      <td>201.0</td>\n",
       "      <td>206.0</td>\n",
       "      <td>204.0</td>\n",
       "      <td>202.0</td>\n",
       "      <td>200.0</td>\n",
       "      <td>198.0</td>\n",
       "      <td>196.0</td>\n",
       "    </tr>\n",
       "    <tr>\n",
       "      <th>11502</th>\n",
       "      <th>VP_032</th>\n",
       "      <th>Talk</th>\n",
       "      <th>42</th>\n",
       "      <th>212.0</th>\n",
       "      <td>698.0</td>\n",
       "      <td>223.0</td>\n",
       "      <td>213.0</td>\n",
       "      <td>213.0</td>\n",
       "      <td>220.0</td>\n",
       "      <td>218.0</td>\n",
       "      <td>216.0</td>\n",
       "      <td>214.0</td>\n",
       "      <td>212.0</td>\n",
       "      <td>210.0</td>\n",
       "    </tr>\n",
       "  </tbody>\n",
       "</table>\n",
       "<p>11349 rows × 10 columns</p>\n",
       "</div>"
      ],
      "text/plain": [
       "                                                                                      rr_interval_ms_estimated  \\\n",
       "      participant phase         heartbeat_id_reference q_wave_onset_sample_reference                             \n",
       "0     GDN0005     HoldingBreath 0                      260.0                                             850.0   \n",
       "1     GDN0005     HoldingBreath 1                      260.0                                             778.0   \n",
       "2     GDN0005     HoldingBreath 3                      222.0                                             746.0   \n",
       "3     GDN0005     HoldingBreath 4                      220.0                                             766.0   \n",
       "4     GDN0005     HoldingBreath 5                      228.0                                             790.0   \n",
       "...                                                                                                        ...   \n",
       "11498 VP_032      Talk          38                     153.0                                             596.0   \n",
       "11499 VP_032      Talk          39                     172.0                                             619.0   \n",
       "11500 VP_032      Talk          40                     181.0                                             680.0   \n",
       "11501 VP_032      Talk          41                     200.0                                             719.0   \n",
       "11502 VP_032      Talk          42                     212.0                                             698.0   \n",
       "\n",
       "                                                                                      forounzafar2018  \\\n",
       "      participant phase         heartbeat_id_reference q_wave_onset_sample_reference                    \n",
       "0     GDN0005     HoldingBreath 0                      260.0                                    276.0   \n",
       "1     GDN0005     HoldingBreath 1                      260.0                                    278.0   \n",
       "2     GDN0005     HoldingBreath 3                      222.0                                    236.0   \n",
       "3     GDN0005     HoldingBreath 4                      220.0                                    236.0   \n",
       "4     GDN0005     HoldingBreath 5                      228.0                                    242.0   \n",
       "...                                                                                               ...   \n",
       "11498 VP_032      Talk          38                     153.0                                    188.0   \n",
       "11499 VP_032      Talk          39                     172.0                                    183.0   \n",
       "11500 VP_032      Talk          40                     181.0                                    193.0   \n",
       "11501 VP_032      Talk          41                     200.0                                    210.0   \n",
       "11502 VP_032      Talk          42                     212.0                                    223.0   \n",
       "\n",
       "                                                                                      martinez2004  \\\n",
       "      participant phase         heartbeat_id_reference q_wave_onset_sample_reference                 \n",
       "0     GDN0005     HoldingBreath 0                      260.0                                 262.0   \n",
       "1     GDN0005     HoldingBreath 1                      260.0                                 262.0   \n",
       "2     GDN0005     HoldingBreath 3                      222.0                                 224.0   \n",
       "3     GDN0005     HoldingBreath 4                      220.0                                 222.0   \n",
       "4     GDN0005     HoldingBreath 5                      228.0                                 230.0   \n",
       "...                                                                                            ...   \n",
       "11498 VP_032      Talk          38                     153.0                                 154.0   \n",
       "11499 VP_032      Talk          39                     172.0                                 173.0   \n",
       "11500 VP_032      Talk          40                     181.0                                 182.0   \n",
       "11501 VP_032      Talk          41                     200.0                                 201.0   \n",
       "11502 VP_032      Talk          42                     212.0                                 213.0   \n",
       "\n",
       "                                                                                      scipy-findpeaks  \\\n",
       "      participant phase         heartbeat_id_reference q_wave_onset_sample_reference                    \n",
       "0     GDN0005     HoldingBreath 0                      260.0                                    262.0   \n",
       "1     GDN0005     HoldingBreath 1                      260.0                                    262.0   \n",
       "2     GDN0005     HoldingBreath 3                      222.0                                    224.0   \n",
       "3     GDN0005     HoldingBreath 4                      220.0                                    222.0   \n",
       "4     GDN0005     HoldingBreath 5                      228.0                                    230.0   \n",
       "...                                                                                               ...   \n",
       "11498 VP_032      Talk          38                     153.0                                    154.0   \n",
       "11499 VP_032      Talk          39                     172.0                                    173.0   \n",
       "11500 VP_032      Talk          40                     181.0                                    182.0   \n",
       "11501 VP_032      Talk          41                     200.0                                    201.0   \n",
       "11502 VP_032      Talk          42                     212.0                                    213.0   \n",
       "\n",
       "                                                                                      vanlien2013-32-ms  \\\n",
       "      participant phase         heartbeat_id_reference q_wave_onset_sample_reference                      \n",
       "0     GDN0005     HoldingBreath 0                      260.0                                      266.0   \n",
       "1     GDN0005     HoldingBreath 1                      260.0                                      266.0   \n",
       "2     GDN0005     HoldingBreath 3                      222.0                                      230.0   \n",
       "3     GDN0005     HoldingBreath 4                      220.0                                      230.0   \n",
       "4     GDN0005     HoldingBreath 5                      228.0                                      236.0   \n",
       "...                                                                                                 ...   \n",
       "11498 VP_032      Talk          38                     153.0                                      179.0   \n",
       "11499 VP_032      Talk          39                     172.0                                      177.0   \n",
       "11500 VP_032      Talk          40                     181.0                                      185.0   \n",
       "11501 VP_032      Talk          41                     200.0                                      206.0   \n",
       "11502 VP_032      Talk          42                     212.0                                      220.0   \n",
       "\n",
       "                                                                                      vanlien2013-34-ms  \\\n",
       "      participant phase         heartbeat_id_reference q_wave_onset_sample_reference                      \n",
       "0     GDN0005     HoldingBreath 0                      260.0                                      264.0   \n",
       "1     GDN0005     HoldingBreath 1                      260.0                                      264.0   \n",
       "2     GDN0005     HoldingBreath 3                      222.0                                      228.0   \n",
       "3     GDN0005     HoldingBreath 4                      220.0                                      228.0   \n",
       "4     GDN0005     HoldingBreath 5                      228.0                                      234.0   \n",
       "...                                                                                                 ...   \n",
       "11498 VP_032      Talk          38                     153.0                                      177.0   \n",
       "11499 VP_032      Talk          39                     172.0                                      175.0   \n",
       "11500 VP_032      Talk          40                     181.0                                      183.0   \n",
       "11501 VP_032      Talk          41                     200.0                                      204.0   \n",
       "11502 VP_032      Talk          42                     212.0                                      218.0   \n",
       "\n",
       "                                                                                      vanlien2013-36-ms  \\\n",
       "      participant phase         heartbeat_id_reference q_wave_onset_sample_reference                      \n",
       "0     GDN0005     HoldingBreath 0                      260.0                                      262.0   \n",
       "1     GDN0005     HoldingBreath 1                      260.0                                      262.0   \n",
       "2     GDN0005     HoldingBreath 3                      222.0                                      226.0   \n",
       "3     GDN0005     HoldingBreath 4                      220.0                                      226.0   \n",
       "4     GDN0005     HoldingBreath 5                      228.0                                      232.0   \n",
       "...                                                                                                 ...   \n",
       "11498 VP_032      Talk          38                     153.0                                      175.0   \n",
       "11499 VP_032      Talk          39                     172.0                                      173.0   \n",
       "11500 VP_032      Talk          40                     181.0                                      181.0   \n",
       "11501 VP_032      Talk          41                     200.0                                      202.0   \n",
       "11502 VP_032      Talk          42                     212.0                                      216.0   \n",
       "\n",
       "                                                                                      vanlien2013-38-ms  \\\n",
       "      participant phase         heartbeat_id_reference q_wave_onset_sample_reference                      \n",
       "0     GDN0005     HoldingBreath 0                      260.0                                      260.0   \n",
       "1     GDN0005     HoldingBreath 1                      260.0                                      260.0   \n",
       "2     GDN0005     HoldingBreath 3                      222.0                                      224.0   \n",
       "3     GDN0005     HoldingBreath 4                      220.0                                      224.0   \n",
       "4     GDN0005     HoldingBreath 5                      228.0                                      230.0   \n",
       "...                                                                                                 ...   \n",
       "11498 VP_032      Talk          38                     153.0                                      173.0   \n",
       "11499 VP_032      Talk          39                     172.0                                      171.0   \n",
       "11500 VP_032      Talk          40                     181.0                                      179.0   \n",
       "11501 VP_032      Talk          41                     200.0                                      200.0   \n",
       "11502 VP_032      Talk          42                     212.0                                      214.0   \n",
       "\n",
       "                                                                                      vanlien2013-40-ms  \\\n",
       "      participant phase         heartbeat_id_reference q_wave_onset_sample_reference                      \n",
       "0     GDN0005     HoldingBreath 0                      260.0                                      258.0   \n",
       "1     GDN0005     HoldingBreath 1                      260.0                                      258.0   \n",
       "2     GDN0005     HoldingBreath 3                      222.0                                      222.0   \n",
       "3     GDN0005     HoldingBreath 4                      220.0                                      222.0   \n",
       "4     GDN0005     HoldingBreath 5                      228.0                                      228.0   \n",
       "...                                                                                                 ...   \n",
       "11498 VP_032      Talk          38                     153.0                                      171.0   \n",
       "11499 VP_032      Talk          39                     172.0                                      169.0   \n",
       "11500 VP_032      Talk          40                     181.0                                      177.0   \n",
       "11501 VP_032      Talk          41                     200.0                                      198.0   \n",
       "11502 VP_032      Talk          42                     212.0                                      212.0   \n",
       "\n",
       "                                                                                      vanlien2013-42-ms  \n",
       "      participant phase         heartbeat_id_reference q_wave_onset_sample_reference                     \n",
       "0     GDN0005     HoldingBreath 0                      260.0                                      256.0  \n",
       "1     GDN0005     HoldingBreath 1                      260.0                                      256.0  \n",
       "2     GDN0005     HoldingBreath 3                      222.0                                      220.0  \n",
       "3     GDN0005     HoldingBreath 4                      220.0                                      220.0  \n",
       "4     GDN0005     HoldingBreath 5                      228.0                                      226.0  \n",
       "...                                                                                                 ...  \n",
       "11498 VP_032      Talk          38                     153.0                                      169.0  \n",
       "11499 VP_032      Talk          39                     172.0                                      167.0  \n",
       "11500 VP_032      Talk          40                     181.0                                      175.0  \n",
       "11501 VP_032      Talk          41                     200.0                                      196.0  \n",
       "11502 VP_032      Talk          42                     212.0                                      210.0  \n",
       "\n",
       "[11349 rows x 10 columns]"
      ]
     },
     "execution_count": 5,
     "metadata": {},
     "output_type": "execute_result"
    }
   ],
   "source": [
    "input_data = pd.read_csv(data_path.joinpath(\"train_data_q_wave.csv\"), index_col=[0,1,2,3,4])\n",
    "input_data"
   ]
  },
  {
   "cell_type": "code",
   "execution_count": 6,
   "metadata": {},
   "outputs": [
    {
     "name": "stdout",
     "output_type": "stream",
     "text": [
      "Min data value: 23.0\n",
      "Max data value: 1534.0\n"
     ]
    }
   ],
   "source": [
    "print(f\"Min data value: {input_data.values.min()}\\nMax data value: {input_data.values.max()}\")"
   ]
  },
  {
   "cell_type": "code",
   "execution_count": 7,
   "metadata": {},
   "outputs": [
    {
     "data": {
      "text/plain": [
       "Index(['rr_interval_ms_estimated', 'forounzafar2018', 'martinez2004',\n",
       "       'scipy-findpeaks', 'vanlien2013-32-ms', 'vanlien2013-34-ms',\n",
       "       'vanlien2013-36-ms', 'vanlien2013-38-ms', 'vanlien2013-40-ms',\n",
       "       'vanlien2013-42-ms'],\n",
       "      dtype='object')"
      ]
     },
     "execution_count": 7,
     "metadata": {},
     "output_type": "execute_result"
    }
   ],
   "source": [
    "columns=input_data.columns\n",
    "columns"
   ]
  },
  {
   "cell_type": "code",
   "execution_count": 8,
   "metadata": {},
   "outputs": [
    {
     "name": "stdout",
     "output_type": "stream",
     "text": [
      "Shape of X: (11349, 10); shape of y: (11349,); number of groups: 39, class prevalence: [  1   2   1   6   2   8   4  15  21  14  26  30  35  50  48  55  57  52\n",
      "  65  61  79  73  59  50  51  49  43  44  42  25  40  30  38  30  38  49\n",
      "  33  32  31  31  22  38  29  43  47  34  21  47  48  41  32  31  36  36\n",
      "  39  47  52  29  29  40  51  21  50  31  43  28  32  27  45  23  39  33\n",
      "  47  22  45  25  35  29  34  37  53  23  68  24  66  38  59  36  62  31\n",
      "  72  29  83  30  69  26  64  20  95  27  78  22  67  20  64  28  69  21\n",
      "  92  18  81  19  91  25  91  19  81  27  69  25  81  15  90  14 101  16\n",
      "  94  14 116  18 103  25  96  21  78  17  95  12  89  25  91  24  76  13\n",
      "  82  22  95  11  74  20  82  18  82  11  77  14  83  19  96  12 100  14\n",
      " 100  11  89  14  87  10  97   9  99   8  98   7 107   7 108   5 106   5\n",
      " 110   3  89   4  93   4  86  10  82   7  73   2  68   1  75   2  83   3\n",
      "  84   4  70   4  82  70   5  56   3  75   1  75   3  55   4  59   3  70\n",
      "   2  69  68   1  66   3  56  59  72  47  64  55   2  49  55  51  46  40\n",
      "  50  38  27  34  33  26   1  35  34  31  32  25  33  31  26  34  25  17\n",
      "  17  25  23  14  25  23  15  13   1  16  18  15  13  11  11   9   8  13\n",
      "   9  10   6   6   4   7   3  12   3   8   6   4   4   6  12   7   7  12\n",
      "   5   7   6   2   6   4   5   3   3   3   2   2   1   2   1   2   1]\n"
     ]
    }
   ],
   "source": [
    "X, y, groups, group_keys = bp.classification.utils.prepare_df_sklearn(data=input_data, label_col=\"q_wave_onset_sample_reference\", subject_col=\"participant\", print_summary=True)"
   ]
  },
  {
   "cell_type": "code",
   "execution_count": 9,
   "metadata": {},
   "outputs": [
    {
     "data": {
      "text/plain": [
       "Index(['GDN0005', 'GDN0006', 'GDN0007', 'GDN0008', 'GDN0009', 'GDN0010',\n",
       "       'GDN0011', 'GDN0012', 'GDN0013', 'GDN0014', 'GDN0016', 'GDN0017',\n",
       "       'GDN0018', 'GDN0019', 'GDN0020', 'GDN0021', 'GDN0022', 'GDN0023',\n",
       "       'GDN0024', 'GDN0025', 'GDN0027', 'GDN0028', 'GDN0029', 'GDN0030',\n",
       "       'VP_001', 'VP_002', 'VP_003', 'VP_004', 'VP_005', 'VP_020', 'VP_022',\n",
       "       'VP_023', 'VP_026', 'VP_027', 'VP_028', 'VP_029', 'VP_030', 'VP_031',\n",
       "       'VP_032'],\n",
       "      dtype='object')"
      ]
     },
     "execution_count": 9,
     "metadata": {},
     "output_type": "execute_result"
    }
   ],
   "source": [
    "group_keys"
   ]
  },
  {
   "cell_type": "code",
   "execution_count": 10,
   "metadata": {},
   "outputs": [],
   "source": [
    "model_dict = {\n",
    "    \"scaler\": {\"StandardScaler\": StandardScaler(), \"MinMaxScaler\": MinMaxScaler()},\n",
    "    \"reduce_dim\": {\"SelectKBest\": SelectKBest(), \"RFE\": RFE(SVR(kernel=\"linear\"))},\n",
    "    #\"reduce_dim\": {\"SelectKBest\": SelectKBest()},\n",
    "    #\"reduce_dim\": {\"RFE\": RFE(SVR(kernel=\"linear\"))},\n",
    "    \"clf\": {\n",
    "        \"KNeighborsRegressor\": KNeighborsRegressor(),\n",
    "        #\"RandomForestRegressor\": RandomForestRegressor(n_jobs=10),\n",
    "    },\n",
    "}"
   ]
  },
  {
   "cell_type": "code",
   "execution_count": 11,
   "metadata": {},
   "outputs": [],
   "source": [
    "params_dict = {\n",
    "    \"StandardScaler\": None,\n",
    "    \"MinMaxScaler\": None,\n",
    "    \"SelectKBest\": {\n",
    "        \"score_func\": [f_regression, mutual_info_regression],\n",
    "        \"k\": [2, 4, 6, 8, 10],\n",
    "        },\n",
    "    \"SVR\": {\"C\": [0.1, 1, 10]},\n",
    "    \"RFE\": {\n",
    "        \"n_features_to_select\": [0.4, 0.5, 0.6],\n",
    "        \"step\": [1,2,3],\n",
    "    },\n",
    "    \"KNeighborsRegressor\": {\n",
    "        \"n_neighbors\": [8,9,10,11,12,13,14],\n",
    "        \"weights\": [\"uniform\", \"distance\"],\n",
    "        \"p\": [1,2],\n",
    "        },\n",
    "    #\"RandomForestRegressor\": {\n",
    "    #    \"n_estimators\": [200, 300],\n",
    "    #    \"min_samples_split\": [2, 5, 10, 20, 30, 40],\n",
    "    #    \"min_samples_leaf\": [1, 2, 4, 10, 20, 30],\n",
    "    #    \"max_depth\": [None, 40, 60, 80, 100, 120],\n",
    "    #    #\"max_features\": [\"sqrt\", \"log2\", None],\n",
    "    #},\n",
    "}"
   ]
  },
  {
   "cell_type": "code",
   "execution_count": 12,
   "metadata": {},
   "outputs": [],
   "source": [
    "pipeline_permuter = SklearnPipelinePermuter(\n",
    "    model_dict=model_dict, param_dict=params_dict\n",
    ")"
   ]
  },
  {
   "cell_type": "code",
   "execution_count": 13,
   "metadata": {},
   "outputs": [
    {
     "data": {
      "application/vnd.jupyter.widget-view+json": {
       "model_id": "c8c3b1a5680e441781f809279e728133",
       "version_major": 2,
       "version_minor": 0
      },
      "text/plain": [
       "Pipeline Combinations:   0%|          | 0/4 [00:00<?, ?it/s]"
      ]
     },
     "metadata": {},
     "output_type": "display_data"
    },
    {
     "name": "stdout",
     "output_type": "stream",
     "text": [
      "### Running hyperparameter search for pipeline: (('scaler', 'StandardScaler'), ('reduce_dim', 'SelectKBest'), ('clf', 'KNeighborsRegressor')) with 1 parameter grid(s):\n",
      "Parameter grid #0 ({'search_method': 'grid'}): {'reduce_dim__score_func': [<function f_regression at 0x000001CC199B5760>, <function mutual_info_regression at 0x000001CC199A3600>], 'reduce_dim__k': [2, 4, 6, 8, 10], 'clf__n_neighbors': [8, 9, 10, 11, 12, 13, 14], 'clf__weights': ['uniform', 'distance'], 'clf__p': [1, 2]}\n"
     ]
    },
    {
     "data": {
      "application/vnd.jupyter.widget-view+json": {
       "model_id": "9d8c35ec150840b0878e294f04537472",
       "version_major": 2,
       "version_minor": 0
      },
      "text/plain": [
       "Outer CV:   0%|          | 0/5 [00:00<?, ?it/s]"
      ]
     },
     "metadata": {},
     "output_type": "display_data"
    },
    {
     "name": "stdout",
     "output_type": "stream",
     "text": [
      "Fitting 5 folds for each of 280 candidates, totalling 1400 fits\n"
     ]
    },
    {
     "name": "stderr",
     "output_type": "stream",
     "text": [
      "c:\\Users\\sebas\\Development\\ResearchInternship\\Code\\pepbench\\.venv\\Lib\\site-packages\\numpy\\ma\\core.py:2820: RuntimeWarning: invalid value encountered in cast\n",
      "  _data = np.array(data, dtype=dtype, copy=copy,\n",
      "C:\\Users\\sebas\\Development\\ResearchInternship\\Code\\BioPsyKit\\src\\biopsykit\\classification\\model_selection\\nested_cv.py:149: UserWarning: Cannot compute confusion matrix for regression tasks.\n",
      "  warnings.warn(\"Cannot compute confusion matrix for regression tasks.\")\n"
     ]
    },
    {
     "name": "stdout",
     "output_type": "stream",
     "text": [
      "Fitting 5 folds for each of 280 candidates, totalling 1400 fits\n"
     ]
    },
    {
     "name": "stderr",
     "output_type": "stream",
     "text": [
      "c:\\Users\\sebas\\Development\\ResearchInternship\\Code\\pepbench\\.venv\\Lib\\site-packages\\numpy\\ma\\core.py:2820: RuntimeWarning: invalid value encountered in cast\n",
      "  _data = np.array(data, dtype=dtype, copy=copy,\n",
      "C:\\Users\\sebas\\Development\\ResearchInternship\\Code\\BioPsyKit\\src\\biopsykit\\classification\\model_selection\\nested_cv.py:149: UserWarning: Cannot compute confusion matrix for regression tasks.\n",
      "  warnings.warn(\"Cannot compute confusion matrix for regression tasks.\")\n"
     ]
    },
    {
     "name": "stdout",
     "output_type": "stream",
     "text": [
      "Fitting 5 folds for each of 280 candidates, totalling 1400 fits\n"
     ]
    },
    {
     "name": "stderr",
     "output_type": "stream",
     "text": [
      "c:\\Users\\sebas\\Development\\ResearchInternship\\Code\\pepbench\\.venv\\Lib\\site-packages\\numpy\\ma\\core.py:2820: RuntimeWarning: invalid value encountered in cast\n",
      "  _data = np.array(data, dtype=dtype, copy=copy,\n",
      "C:\\Users\\sebas\\Development\\ResearchInternship\\Code\\BioPsyKit\\src\\biopsykit\\classification\\model_selection\\nested_cv.py:149: UserWarning: Cannot compute confusion matrix for regression tasks.\n",
      "  warnings.warn(\"Cannot compute confusion matrix for regression tasks.\")\n"
     ]
    },
    {
     "name": "stdout",
     "output_type": "stream",
     "text": [
      "Fitting 5 folds for each of 280 candidates, totalling 1400 fits\n"
     ]
    },
    {
     "name": "stderr",
     "output_type": "stream",
     "text": [
      "c:\\Users\\sebas\\Development\\ResearchInternship\\Code\\pepbench\\.venv\\Lib\\site-packages\\numpy\\ma\\core.py:2820: RuntimeWarning: invalid value encountered in cast\n",
      "  _data = np.array(data, dtype=dtype, copy=copy,\n",
      "C:\\Users\\sebas\\Development\\ResearchInternship\\Code\\BioPsyKit\\src\\biopsykit\\classification\\model_selection\\nested_cv.py:149: UserWarning: Cannot compute confusion matrix for regression tasks.\n",
      "  warnings.warn(\"Cannot compute confusion matrix for regression tasks.\")\n"
     ]
    },
    {
     "name": "stdout",
     "output_type": "stream",
     "text": [
      "Fitting 5 folds for each of 280 candidates, totalling 1400 fits\n",
      "\n",
      "\n",
      "### Running hyperparameter search for pipeline: (('scaler', 'StandardScaler'), ('reduce_dim', 'RFE'), ('clf', 'KNeighborsRegressor')) with 1 parameter grid(s):\n",
      "Parameter grid #0 ({'search_method': 'grid'}): {'reduce_dim__n_features_to_select': [0.4, 0.5, 0.6], 'reduce_dim__step': [1, 2, 3], 'clf__n_neighbors': [8, 9, 10, 11, 12, 13, 14], 'clf__weights': ['uniform', 'distance'], 'clf__p': [1, 2]}\n"
     ]
    },
    {
     "name": "stderr",
     "output_type": "stream",
     "text": [
      "c:\\Users\\sebas\\Development\\ResearchInternship\\Code\\pepbench\\.venv\\Lib\\site-packages\\numpy\\ma\\core.py:2820: RuntimeWarning: invalid value encountered in cast\n",
      "  _data = np.array(data, dtype=dtype, copy=copy,\n",
      "C:\\Users\\sebas\\Development\\ResearchInternship\\Code\\BioPsyKit\\src\\biopsykit\\classification\\model_selection\\nested_cv.py:149: UserWarning: Cannot compute confusion matrix for regression tasks.\n",
      "  warnings.warn(\"Cannot compute confusion matrix for regression tasks.\")\n"
     ]
    },
    {
     "data": {
      "application/vnd.jupyter.widget-view+json": {
       "model_id": "8fe19ffcbcb94809814f3912a1b5c5b9",
       "version_major": 2,
       "version_minor": 0
      },
      "text/plain": [
       "Outer CV:   0%|          | 0/5 [00:00<?, ?it/s]"
      ]
     },
     "metadata": {},
     "output_type": "display_data"
    },
    {
     "name": "stdout",
     "output_type": "stream",
     "text": [
      "Fitting 5 folds for each of 252 candidates, totalling 1260 fits\n"
     ]
    },
    {
     "name": "stderr",
     "output_type": "stream",
     "text": [
      "C:\\Users\\sebas\\Development\\ResearchInternship\\Code\\BioPsyKit\\src\\biopsykit\\classification\\model_selection\\nested_cv.py:149: UserWarning: Cannot compute confusion matrix for regression tasks.\n",
      "  warnings.warn(\"Cannot compute confusion matrix for regression tasks.\")\n"
     ]
    },
    {
     "name": "stdout",
     "output_type": "stream",
     "text": [
      "Fitting 5 folds for each of 252 candidates, totalling 1260 fits\n"
     ]
    },
    {
     "name": "stderr",
     "output_type": "stream",
     "text": [
      "C:\\Users\\sebas\\Development\\ResearchInternship\\Code\\BioPsyKit\\src\\biopsykit\\classification\\model_selection\\nested_cv.py:149: UserWarning: Cannot compute confusion matrix for regression tasks.\n",
      "  warnings.warn(\"Cannot compute confusion matrix for regression tasks.\")\n"
     ]
    },
    {
     "name": "stdout",
     "output_type": "stream",
     "text": [
      "Fitting 5 folds for each of 252 candidates, totalling 1260 fits\n"
     ]
    },
    {
     "name": "stderr",
     "output_type": "stream",
     "text": [
      "C:\\Users\\sebas\\Development\\ResearchInternship\\Code\\BioPsyKit\\src\\biopsykit\\classification\\model_selection\\nested_cv.py:149: UserWarning: Cannot compute confusion matrix for regression tasks.\n",
      "  warnings.warn(\"Cannot compute confusion matrix for regression tasks.\")\n"
     ]
    },
    {
     "name": "stdout",
     "output_type": "stream",
     "text": [
      "Fitting 5 folds for each of 252 candidates, totalling 1260 fits\n"
     ]
    },
    {
     "name": "stderr",
     "output_type": "stream",
     "text": [
      "C:\\Users\\sebas\\Development\\ResearchInternship\\Code\\BioPsyKit\\src\\biopsykit\\classification\\model_selection\\nested_cv.py:149: UserWarning: Cannot compute confusion matrix for regression tasks.\n",
      "  warnings.warn(\"Cannot compute confusion matrix for regression tasks.\")\n"
     ]
    },
    {
     "name": "stdout",
     "output_type": "stream",
     "text": [
      "Fitting 5 folds for each of 252 candidates, totalling 1260 fits\n",
      "\n",
      "\n",
      "### Running hyperparameter search for pipeline: (('scaler', 'MinMaxScaler'), ('reduce_dim', 'SelectKBest'), ('clf', 'KNeighborsRegressor')) with 1 parameter grid(s):\n",
      "Parameter grid #0 ({'search_method': 'grid'}): {'reduce_dim__score_func': [<function f_regression at 0x000001CC199B5760>, <function mutual_info_regression at 0x000001CC199A3600>], 'reduce_dim__k': [2, 4, 6, 8, 10], 'clf__n_neighbors': [8, 9, 10, 11, 12, 13, 14], 'clf__weights': ['uniform', 'distance'], 'clf__p': [1, 2]}\n"
     ]
    },
    {
     "name": "stderr",
     "output_type": "stream",
     "text": [
      "C:\\Users\\sebas\\Development\\ResearchInternship\\Code\\BioPsyKit\\src\\biopsykit\\classification\\model_selection\\nested_cv.py:149: UserWarning: Cannot compute confusion matrix for regression tasks.\n",
      "  warnings.warn(\"Cannot compute confusion matrix for regression tasks.\")\n"
     ]
    },
    {
     "data": {
      "application/vnd.jupyter.widget-view+json": {
       "model_id": "efdf168e7f2849bfbb80ee1bb2c55d1d",
       "version_major": 2,
       "version_minor": 0
      },
      "text/plain": [
       "Outer CV:   0%|          | 0/5 [00:00<?, ?it/s]"
      ]
     },
     "metadata": {},
     "output_type": "display_data"
    },
    {
     "name": "stdout",
     "output_type": "stream",
     "text": [
      "Fitting 5 folds for each of 280 candidates, totalling 1400 fits\n"
     ]
    },
    {
     "name": "stderr",
     "output_type": "stream",
     "text": [
      "c:\\Users\\sebas\\Development\\ResearchInternship\\Code\\pepbench\\.venv\\Lib\\site-packages\\numpy\\ma\\core.py:2820: RuntimeWarning: invalid value encountered in cast\n",
      "  _data = np.array(data, dtype=dtype, copy=copy,\n",
      "C:\\Users\\sebas\\Development\\ResearchInternship\\Code\\BioPsyKit\\src\\biopsykit\\classification\\model_selection\\nested_cv.py:149: UserWarning: Cannot compute confusion matrix for regression tasks.\n",
      "  warnings.warn(\"Cannot compute confusion matrix for regression tasks.\")\n"
     ]
    },
    {
     "name": "stdout",
     "output_type": "stream",
     "text": [
      "Fitting 5 folds for each of 280 candidates, totalling 1400 fits\n"
     ]
    },
    {
     "name": "stderr",
     "output_type": "stream",
     "text": [
      "c:\\Users\\sebas\\Development\\ResearchInternship\\Code\\pepbench\\.venv\\Lib\\site-packages\\numpy\\ma\\core.py:2820: RuntimeWarning: invalid value encountered in cast\n",
      "  _data = np.array(data, dtype=dtype, copy=copy,\n",
      "C:\\Users\\sebas\\Development\\ResearchInternship\\Code\\BioPsyKit\\src\\biopsykit\\classification\\model_selection\\nested_cv.py:149: UserWarning: Cannot compute confusion matrix for regression tasks.\n",
      "  warnings.warn(\"Cannot compute confusion matrix for regression tasks.\")\n"
     ]
    },
    {
     "name": "stdout",
     "output_type": "stream",
     "text": [
      "Fitting 5 folds for each of 280 candidates, totalling 1400 fits\n"
     ]
    },
    {
     "name": "stderr",
     "output_type": "stream",
     "text": [
      "c:\\Users\\sebas\\Development\\ResearchInternship\\Code\\pepbench\\.venv\\Lib\\site-packages\\numpy\\ma\\core.py:2820: RuntimeWarning: invalid value encountered in cast\n",
      "  _data = np.array(data, dtype=dtype, copy=copy,\n",
      "C:\\Users\\sebas\\Development\\ResearchInternship\\Code\\BioPsyKit\\src\\biopsykit\\classification\\model_selection\\nested_cv.py:149: UserWarning: Cannot compute confusion matrix for regression tasks.\n",
      "  warnings.warn(\"Cannot compute confusion matrix for regression tasks.\")\n"
     ]
    },
    {
     "name": "stdout",
     "output_type": "stream",
     "text": [
      "Fitting 5 folds for each of 280 candidates, totalling 1400 fits\n"
     ]
    },
    {
     "name": "stderr",
     "output_type": "stream",
     "text": [
      "c:\\Users\\sebas\\Development\\ResearchInternship\\Code\\pepbench\\.venv\\Lib\\site-packages\\numpy\\ma\\core.py:2820: RuntimeWarning: invalid value encountered in cast\n",
      "  _data = np.array(data, dtype=dtype, copy=copy,\n",
      "C:\\Users\\sebas\\Development\\ResearchInternship\\Code\\BioPsyKit\\src\\biopsykit\\classification\\model_selection\\nested_cv.py:149: UserWarning: Cannot compute confusion matrix for regression tasks.\n",
      "  warnings.warn(\"Cannot compute confusion matrix for regression tasks.\")\n"
     ]
    },
    {
     "name": "stdout",
     "output_type": "stream",
     "text": [
      "Fitting 5 folds for each of 280 candidates, totalling 1400 fits\n"
     ]
    },
    {
     "name": "stderr",
     "output_type": "stream",
     "text": [
      "c:\\Users\\sebas\\Development\\ResearchInternship\\Code\\pepbench\\.venv\\Lib\\site-packages\\numpy\\ma\\core.py:2820: RuntimeWarning: invalid value encountered in cast\n",
      "  _data = np.array(data, dtype=dtype, copy=copy,\n"
     ]
    },
    {
     "name": "stdout",
     "output_type": "stream",
     "text": [
      "\n",
      "\n",
      "### Running hyperparameter search for pipeline: (('scaler', 'MinMaxScaler'), ('reduce_dim', 'RFE'), ('clf', 'KNeighborsRegressor')) with 1 parameter grid(s):\n",
      "Parameter grid #0 ({'search_method': 'grid'}): {'reduce_dim__n_features_to_select': [0.4, 0.5, 0.6], 'reduce_dim__step': [1, 2, 3], 'clf__n_neighbors': [8, 9, 10, 11, 12, 13, 14], 'clf__weights': ['uniform', 'distance'], 'clf__p': [1, 2]}\n"
     ]
    },
    {
     "name": "stderr",
     "output_type": "stream",
     "text": [
      "C:\\Users\\sebas\\Development\\ResearchInternship\\Code\\BioPsyKit\\src\\biopsykit\\classification\\model_selection\\nested_cv.py:149: UserWarning: Cannot compute confusion matrix for regression tasks.\n",
      "  warnings.warn(\"Cannot compute confusion matrix for regression tasks.\")\n"
     ]
    },
    {
     "data": {
      "application/vnd.jupyter.widget-view+json": {
       "model_id": "ddaba918eee146f987821bf00c7dbbbe",
       "version_major": 2,
       "version_minor": 0
      },
      "text/plain": [
       "Outer CV:   0%|          | 0/5 [00:00<?, ?it/s]"
      ]
     },
     "metadata": {},
     "output_type": "display_data"
    },
    {
     "name": "stdout",
     "output_type": "stream",
     "text": [
      "Fitting 5 folds for each of 252 candidates, totalling 1260 fits\n"
     ]
    },
    {
     "name": "stderr",
     "output_type": "stream",
     "text": [
      "C:\\Users\\sebas\\Development\\ResearchInternship\\Code\\BioPsyKit\\src\\biopsykit\\classification\\model_selection\\nested_cv.py:149: UserWarning: Cannot compute confusion matrix for regression tasks.\n",
      "  warnings.warn(\"Cannot compute confusion matrix for regression tasks.\")\n"
     ]
    },
    {
     "name": "stdout",
     "output_type": "stream",
     "text": [
      "Fitting 5 folds for each of 252 candidates, totalling 1260 fits\n"
     ]
    },
    {
     "name": "stderr",
     "output_type": "stream",
     "text": [
      "C:\\Users\\sebas\\Development\\ResearchInternship\\Code\\BioPsyKit\\src\\biopsykit\\classification\\model_selection\\nested_cv.py:149: UserWarning: Cannot compute confusion matrix for regression tasks.\n",
      "  warnings.warn(\"Cannot compute confusion matrix for regression tasks.\")\n"
     ]
    },
    {
     "name": "stdout",
     "output_type": "stream",
     "text": [
      "Fitting 5 folds for each of 252 candidates, totalling 1260 fits\n"
     ]
    },
    {
     "name": "stderr",
     "output_type": "stream",
     "text": [
      "C:\\Users\\sebas\\Development\\ResearchInternship\\Code\\BioPsyKit\\src\\biopsykit\\classification\\model_selection\\nested_cv.py:149: UserWarning: Cannot compute confusion matrix for regression tasks.\n",
      "  warnings.warn(\"Cannot compute confusion matrix for regression tasks.\")\n"
     ]
    },
    {
     "name": "stdout",
     "output_type": "stream",
     "text": [
      "Fitting 5 folds for each of 252 candidates, totalling 1260 fits\n"
     ]
    },
    {
     "name": "stderr",
     "output_type": "stream",
     "text": [
      "c:\\Users\\sebas\\Development\\ResearchInternship\\Code\\pepbench\\.venv\\Lib\\site-packages\\numpy\\ma\\core.py:2820: RuntimeWarning: invalid value encountered in cast\n",
      "  _data = np.array(data, dtype=dtype, copy=copy,\n",
      "C:\\Users\\sebas\\Development\\ResearchInternship\\Code\\BioPsyKit\\src\\biopsykit\\classification\\model_selection\\nested_cv.py:149: UserWarning: Cannot compute confusion matrix for regression tasks.\n",
      "  warnings.warn(\"Cannot compute confusion matrix for regression tasks.\")\n"
     ]
    },
    {
     "name": "stdout",
     "output_type": "stream",
     "text": [
      "Fitting 5 folds for each of 252 candidates, totalling 1260 fits\n"
     ]
    },
    {
     "name": "stderr",
     "output_type": "stream",
     "text": [
      "c:\\Users\\sebas\\Development\\ResearchInternship\\Code\\pepbench\\.venv\\Lib\\site-packages\\numpy\\ma\\core.py:2820: RuntimeWarning: invalid value encountered in cast\n",
      "  _data = np.array(data, dtype=dtype, copy=copy,\n",
      "C:\\Users\\sebas\\Development\\ResearchInternship\\Code\\BioPsyKit\\src\\biopsykit\\classification\\model_selection\\nested_cv.py:149: UserWarning: Cannot compute confusion matrix for regression tasks.\n",
      "  warnings.warn(\"Cannot compute confusion matrix for regression tasks.\")\n"
     ]
    },
    {
     "name": "stdout",
     "output_type": "stream",
     "text": [
      "\n",
      "\n"
     ]
    }
   ],
   "source": [
    "outer_cv = GroupKFold(n_splits=5)\n",
    "inner_cv = GroupKFold(n_splits=5)\n",
    "\n",
    "pipeline_permuter.fit(X=X, y=y, outer_cv=outer_cv, inner_cv=inner_cv, scoring=\"neg_mean_absolute_error\", groups=groups)"
   ]
  },
  {
   "cell_type": "code",
   "execution_count": 14,
   "metadata": {},
   "outputs": [
    {
     "data": {
      "text/html": [
       "<div>\n",
       "<style scoped>\n",
       "    .dataframe tbody tr th:only-of-type {\n",
       "        vertical-align: middle;\n",
       "    }\n",
       "\n",
       "    .dataframe tbody tr th {\n",
       "        vertical-align: top;\n",
       "    }\n",
       "\n",
       "    .dataframe thead th {\n",
       "        text-align: right;\n",
       "    }\n",
       "</style>\n",
       "<table border=\"1\" class=\"dataframe\">\n",
       "  <thead>\n",
       "    <tr style=\"text-align: right;\">\n",
       "      <th></th>\n",
       "      <th></th>\n",
       "      <th></th>\n",
       "      <th>true_labels</th>\n",
       "      <th>true_labels_folds</th>\n",
       "      <th>predicted_labels</th>\n",
       "      <th>predicted_labels_folds</th>\n",
       "      <th>train_indices</th>\n",
       "      <th>train_indices_folds</th>\n",
       "      <th>test_indices</th>\n",
       "      <th>test_indices_folds</th>\n",
       "      <th>mean_test_neg_mean_absolute_error</th>\n",
       "      <th>std_test_neg_mean_absolute_error</th>\n",
       "      <th>test_neg_mean_absolute_error_fold_0</th>\n",
       "      <th>test_neg_mean_absolute_error_fold_1</th>\n",
       "      <th>test_neg_mean_absolute_error_fold_2</th>\n",
       "      <th>test_neg_mean_absolute_error_fold_3</th>\n",
       "      <th>test_neg_mean_absolute_error_fold_4</th>\n",
       "    </tr>\n",
       "    <tr>\n",
       "      <th>pipeline_scaler</th>\n",
       "      <th>pipeline_reduce_dim</th>\n",
       "      <th>pipeline_clf</th>\n",
       "      <th></th>\n",
       "      <th></th>\n",
       "      <th></th>\n",
       "      <th></th>\n",
       "      <th></th>\n",
       "      <th></th>\n",
       "      <th></th>\n",
       "      <th></th>\n",
       "      <th></th>\n",
       "      <th></th>\n",
       "      <th></th>\n",
       "      <th></th>\n",
       "      <th></th>\n",
       "      <th></th>\n",
       "      <th></th>\n",
       "    </tr>\n",
       "  </thead>\n",
       "  <tbody>\n",
       "    <tr>\n",
       "      <th rowspan=\"2\" valign=\"top\">StandardScaler</th>\n",
       "      <th>SelectKBest</th>\n",
       "      <th>KNeighborsRegressor</th>\n",
       "      <td>[260.0, 260.0, 222.0, 220.0, 228.0, 236.0, 226...</td>\n",
       "      <td>[[260.0, 260.0, 222.0, 220.0, 228.0, 236.0, 22...</td>\n",
       "      <td>[262.1054982720167, 262.80401373977526, 223.82...</td>\n",
       "      <td>[[262.1054982720167, 262.80401373977526, 223.8...</td>\n",
       "      <td>[316, 317, 318, 319, 320, 321, 322, 323, 324, ...</td>\n",
       "      <td>[[316, 317, 318, 319, 320, 321, 322, 323, 324,...</td>\n",
       "      <td>[0, 1, 2, 3, 4, 5, 6, 7, 8, 9, 10, 11, 12, 13,...</td>\n",
       "      <td>[[0, 1, 2, 3, 4, 5, 6, 7, 8, 9, 10, 11, 12, 13...</td>\n",
       "      <td>2.541666</td>\n",
       "      <td>0.621796</td>\n",
       "      <td>2.890936</td>\n",
       "      <td>3.604033</td>\n",
       "      <td>1.965469</td>\n",
       "      <td>2.151890</td>\n",
       "      <td>2.096005</td>\n",
       "    </tr>\n",
       "    <tr>\n",
       "      <th>RFE</th>\n",
       "      <th>KNeighborsRegressor</th>\n",
       "      <td>[260.0, 260.0, 222.0, 220.0, 228.0, 236.0, 226...</td>\n",
       "      <td>[[260.0, 260.0, 222.0, 220.0, 228.0, 236.0, 22...</td>\n",
       "      <td>[262.11487266718837, 262.6920534613555, 223.80...</td>\n",
       "      <td>[[262.11487266718837, 262.6920534613555, 223.8...</td>\n",
       "      <td>[316, 317, 318, 319, 320, 321, 322, 323, 324, ...</td>\n",
       "      <td>[[316, 317, 318, 319, 320, 321, 322, 323, 324,...</td>\n",
       "      <td>[0, 1, 2, 3, 4, 5, 6, 7, 8, 9, 10, 11, 12, 13,...</td>\n",
       "      <td>[[0, 1, 2, 3, 4, 5, 6, 7, 8, 9, 10, 11, 12, 13...</td>\n",
       "      <td>2.539208</td>\n",
       "      <td>0.620433</td>\n",
       "      <td>2.878641</td>\n",
       "      <td>3.604033</td>\n",
       "      <td>1.965469</td>\n",
       "      <td>2.151890</td>\n",
       "      <td>2.096005</td>\n",
       "    </tr>\n",
       "    <tr>\n",
       "      <th rowspan=\"2\" valign=\"top\">MinMaxScaler</th>\n",
       "      <th>SelectKBest</th>\n",
       "      <th>KNeighborsRegressor</th>\n",
       "      <td>[260.0, 260.0, 222.0, 220.0, 228.0, 236.0, 226...</td>\n",
       "      <td>[[260.0, 260.0, 222.0, 220.0, 228.0, 236.0, 22...</td>\n",
       "      <td>[262.2516395220607, 262.5756930845154, 223.663...</td>\n",
       "      <td>[[262.2516395220607, 262.5756930845154, 223.66...</td>\n",
       "      <td>[316, 317, 318, 319, 320, 321, 322, 323, 324, ...</td>\n",
       "      <td>[[316, 317, 318, 319, 320, 321, 322, 323, 324,...</td>\n",
       "      <td>[0, 1, 2, 3, 4, 5, 6, 7, 8, 9, 10, 11, 12, 13,...</td>\n",
       "      <td>[[0, 1, 2, 3, 4, 5, 6, 7, 8, 9, 10, 11, 12, 13...</td>\n",
       "      <td>2.568405</td>\n",
       "      <td>0.635083</td>\n",
       "      <td>2.934804</td>\n",
       "      <td>3.648165</td>\n",
       "      <td>1.985529</td>\n",
       "      <td>2.182313</td>\n",
       "      <td>2.091217</td>\n",
       "    </tr>\n",
       "    <tr>\n",
       "      <th>RFE</th>\n",
       "      <th>KNeighborsRegressor</th>\n",
       "      <td>[260.0, 260.0, 222.0, 220.0, 228.0, 236.0, 226...</td>\n",
       "      <td>[[260.0, 260.0, 222.0, 220.0, 228.0, 236.0, 22...</td>\n",
       "      <td>[263.11911134482887, 266.1484420778204, 223.83...</td>\n",
       "      <td>[[263.11911134482887, 266.1484420778204, 223.8...</td>\n",
       "      <td>[316, 317, 318, 319, 320, 321, 322, 323, 324, ...</td>\n",
       "      <td>[[316, 317, 318, 319, 320, 321, 322, 323, 324,...</td>\n",
       "      <td>[0, 1, 2, 3, 4, 5, 6, 7, 8, 9, 10, 11, 12, 13,...</td>\n",
       "      <td>[[0, 1, 2, 3, 4, 5, 6, 7, 8, 9, 10, 11, 12, 13...</td>\n",
       "      <td>2.696625</td>\n",
       "      <td>0.598102</td>\n",
       "      <td>3.137547</td>\n",
       "      <td>3.632926</td>\n",
       "      <td>2.063266</td>\n",
       "      <td>2.465672</td>\n",
       "      <td>2.183715</td>\n",
       "    </tr>\n",
       "  </tbody>\n",
       "</table>\n",
       "</div>"
      ],
      "text/plain": [
       "                                                                                               true_labels  \\\n",
       "pipeline_scaler pipeline_reduce_dim pipeline_clf                                                             \n",
       "StandardScaler  SelectKBest         KNeighborsRegressor  [260.0, 260.0, 222.0, 220.0, 228.0, 236.0, 226...   \n",
       "                RFE                 KNeighborsRegressor  [260.0, 260.0, 222.0, 220.0, 228.0, 236.0, 226...   \n",
       "MinMaxScaler    SelectKBest         KNeighborsRegressor  [260.0, 260.0, 222.0, 220.0, 228.0, 236.0, 226...   \n",
       "                RFE                 KNeighborsRegressor  [260.0, 260.0, 222.0, 220.0, 228.0, 236.0, 226...   \n",
       "\n",
       "                                                                                         true_labels_folds  \\\n",
       "pipeline_scaler pipeline_reduce_dim pipeline_clf                                                             \n",
       "StandardScaler  SelectKBest         KNeighborsRegressor  [[260.0, 260.0, 222.0, 220.0, 228.0, 236.0, 22...   \n",
       "                RFE                 KNeighborsRegressor  [[260.0, 260.0, 222.0, 220.0, 228.0, 236.0, 22...   \n",
       "MinMaxScaler    SelectKBest         KNeighborsRegressor  [[260.0, 260.0, 222.0, 220.0, 228.0, 236.0, 22...   \n",
       "                RFE                 KNeighborsRegressor  [[260.0, 260.0, 222.0, 220.0, 228.0, 236.0, 22...   \n",
       "\n",
       "                                                                                          predicted_labels  \\\n",
       "pipeline_scaler pipeline_reduce_dim pipeline_clf                                                             \n",
       "StandardScaler  SelectKBest         KNeighborsRegressor  [262.1054982720167, 262.80401373977526, 223.82...   \n",
       "                RFE                 KNeighborsRegressor  [262.11487266718837, 262.6920534613555, 223.80...   \n",
       "MinMaxScaler    SelectKBest         KNeighborsRegressor  [262.2516395220607, 262.5756930845154, 223.663...   \n",
       "                RFE                 KNeighborsRegressor  [263.11911134482887, 266.1484420778204, 223.83...   \n",
       "\n",
       "                                                                                    predicted_labels_folds  \\\n",
       "pipeline_scaler pipeline_reduce_dim pipeline_clf                                                             \n",
       "StandardScaler  SelectKBest         KNeighborsRegressor  [[262.1054982720167, 262.80401373977526, 223.8...   \n",
       "                RFE                 KNeighborsRegressor  [[262.11487266718837, 262.6920534613555, 223.8...   \n",
       "MinMaxScaler    SelectKBest         KNeighborsRegressor  [[262.2516395220607, 262.5756930845154, 223.66...   \n",
       "                RFE                 KNeighborsRegressor  [[263.11911134482887, 266.1484420778204, 223.8...   \n",
       "\n",
       "                                                                                             train_indices  \\\n",
       "pipeline_scaler pipeline_reduce_dim pipeline_clf                                                             \n",
       "StandardScaler  SelectKBest         KNeighborsRegressor  [316, 317, 318, 319, 320, 321, 322, 323, 324, ...   \n",
       "                RFE                 KNeighborsRegressor  [316, 317, 318, 319, 320, 321, 322, 323, 324, ...   \n",
       "MinMaxScaler    SelectKBest         KNeighborsRegressor  [316, 317, 318, 319, 320, 321, 322, 323, 324, ...   \n",
       "                RFE                 KNeighborsRegressor  [316, 317, 318, 319, 320, 321, 322, 323, 324, ...   \n",
       "\n",
       "                                                                                       train_indices_folds  \\\n",
       "pipeline_scaler pipeline_reduce_dim pipeline_clf                                                             \n",
       "StandardScaler  SelectKBest         KNeighborsRegressor  [[316, 317, 318, 319, 320, 321, 322, 323, 324,...   \n",
       "                RFE                 KNeighborsRegressor  [[316, 317, 318, 319, 320, 321, 322, 323, 324,...   \n",
       "MinMaxScaler    SelectKBest         KNeighborsRegressor  [[316, 317, 318, 319, 320, 321, 322, 323, 324,...   \n",
       "                RFE                 KNeighborsRegressor  [[316, 317, 318, 319, 320, 321, 322, 323, 324,...   \n",
       "\n",
       "                                                                                              test_indices  \\\n",
       "pipeline_scaler pipeline_reduce_dim pipeline_clf                                                             \n",
       "StandardScaler  SelectKBest         KNeighborsRegressor  [0, 1, 2, 3, 4, 5, 6, 7, 8, 9, 10, 11, 12, 13,...   \n",
       "                RFE                 KNeighborsRegressor  [0, 1, 2, 3, 4, 5, 6, 7, 8, 9, 10, 11, 12, 13,...   \n",
       "MinMaxScaler    SelectKBest         KNeighborsRegressor  [0, 1, 2, 3, 4, 5, 6, 7, 8, 9, 10, 11, 12, 13,...   \n",
       "                RFE                 KNeighborsRegressor  [0, 1, 2, 3, 4, 5, 6, 7, 8, 9, 10, 11, 12, 13,...   \n",
       "\n",
       "                                                                                        test_indices_folds  \\\n",
       "pipeline_scaler pipeline_reduce_dim pipeline_clf                                                             \n",
       "StandardScaler  SelectKBest         KNeighborsRegressor  [[0, 1, 2, 3, 4, 5, 6, 7, 8, 9, 10, 11, 12, 13...   \n",
       "                RFE                 KNeighborsRegressor  [[0, 1, 2, 3, 4, 5, 6, 7, 8, 9, 10, 11, 12, 13...   \n",
       "MinMaxScaler    SelectKBest         KNeighborsRegressor  [[0, 1, 2, 3, 4, 5, 6, 7, 8, 9, 10, 11, 12, 13...   \n",
       "                RFE                 KNeighborsRegressor  [[0, 1, 2, 3, 4, 5, 6, 7, 8, 9, 10, 11, 12, 13...   \n",
       "\n",
       "                                                         mean_test_neg_mean_absolute_error  \\\n",
       "pipeline_scaler pipeline_reduce_dim pipeline_clf                                             \n",
       "StandardScaler  SelectKBest         KNeighborsRegressor                           2.541666   \n",
       "                RFE                 KNeighborsRegressor                           2.539208   \n",
       "MinMaxScaler    SelectKBest         KNeighborsRegressor                           2.568405   \n",
       "                RFE                 KNeighborsRegressor                           2.696625   \n",
       "\n",
       "                                                         std_test_neg_mean_absolute_error  \\\n",
       "pipeline_scaler pipeline_reduce_dim pipeline_clf                                            \n",
       "StandardScaler  SelectKBest         KNeighborsRegressor                          0.621796   \n",
       "                RFE                 KNeighborsRegressor                          0.620433   \n",
       "MinMaxScaler    SelectKBest         KNeighborsRegressor                          0.635083   \n",
       "                RFE                 KNeighborsRegressor                          0.598102   \n",
       "\n",
       "                                                         test_neg_mean_absolute_error_fold_0  \\\n",
       "pipeline_scaler pipeline_reduce_dim pipeline_clf                                               \n",
       "StandardScaler  SelectKBest         KNeighborsRegressor                             2.890936   \n",
       "                RFE                 KNeighborsRegressor                             2.878641   \n",
       "MinMaxScaler    SelectKBest         KNeighborsRegressor                             2.934804   \n",
       "                RFE                 KNeighborsRegressor                             3.137547   \n",
       "\n",
       "                                                         test_neg_mean_absolute_error_fold_1  \\\n",
       "pipeline_scaler pipeline_reduce_dim pipeline_clf                                               \n",
       "StandardScaler  SelectKBest         KNeighborsRegressor                             3.604033   \n",
       "                RFE                 KNeighborsRegressor                             3.604033   \n",
       "MinMaxScaler    SelectKBest         KNeighborsRegressor                             3.648165   \n",
       "                RFE                 KNeighborsRegressor                             3.632926   \n",
       "\n",
       "                                                         test_neg_mean_absolute_error_fold_2  \\\n",
       "pipeline_scaler pipeline_reduce_dim pipeline_clf                                               \n",
       "StandardScaler  SelectKBest         KNeighborsRegressor                             1.965469   \n",
       "                RFE                 KNeighborsRegressor                             1.965469   \n",
       "MinMaxScaler    SelectKBest         KNeighborsRegressor                             1.985529   \n",
       "                RFE                 KNeighborsRegressor                             2.063266   \n",
       "\n",
       "                                                         test_neg_mean_absolute_error_fold_3  \\\n",
       "pipeline_scaler pipeline_reduce_dim pipeline_clf                                               \n",
       "StandardScaler  SelectKBest         KNeighborsRegressor                             2.151890   \n",
       "                RFE                 KNeighborsRegressor                             2.151890   \n",
       "MinMaxScaler    SelectKBest         KNeighborsRegressor                             2.182313   \n",
       "                RFE                 KNeighborsRegressor                             2.465672   \n",
       "\n",
       "                                                         test_neg_mean_absolute_error_fold_4  \n",
       "pipeline_scaler pipeline_reduce_dim pipeline_clf                                              \n",
       "StandardScaler  SelectKBest         KNeighborsRegressor                             2.096005  \n",
       "                RFE                 KNeighborsRegressor                             2.096005  \n",
       "MinMaxScaler    SelectKBest         KNeighborsRegressor                             2.091217  \n",
       "                RFE                 KNeighborsRegressor                             2.183715  "
      ]
     },
     "execution_count": 14,
     "metadata": {},
     "output_type": "execute_result"
    }
   ],
   "source": [
    "pipeline_permuter.metric_summary()"
   ]
  },
  {
   "cell_type": "code",
   "execution_count": 15,
   "metadata": {},
   "outputs": [
    {
     "name": "stderr",
     "output_type": "stream",
     "text": [
      "C:\\Users\\sebas\\Development\\ResearchInternship\\Code\\BioPsyKit\\src\\biopsykit\\classification\\model_selection\\sklearn_pipeline_permuter.py:680: FutureWarning: ['param_clf__weights', 'param_reduce_dim__score_func', 'params'] did not aggregate successfully. If any error is raised this will raise in a future version of pandas. Drop these columns/ops to avoid this warning.\n",
      "  .agg([\"mean\", \"std\"])\n"
     ]
    },
    {
     "data": {
      "text/html": [
       "<div>\n",
       "<style scoped>\n",
       "    .dataframe tbody tr th:only-of-type {\n",
       "        vertical-align: middle;\n",
       "    }\n",
       "\n",
       "    .dataframe tbody tr th {\n",
       "        vertical-align: top;\n",
       "    }\n",
       "\n",
       "    .dataframe thead th {\n",
       "        text-align: right;\n",
       "    }\n",
       "</style>\n",
       "<table border=\"1\" class=\"dataframe\">\n",
       "  <thead>\n",
       "    <tr style=\"text-align: right;\">\n",
       "      <th></th>\n",
       "      <th>mean_test_neg_mean_absolute_error</th>\n",
       "      <th>param_clf__n_neighbors</th>\n",
       "      <th>param_clf__p</th>\n",
       "      <th>param_clf__weights</th>\n",
       "      <th>param_reduce_dim__k</th>\n",
       "      <th>param_reduce_dim__score_func</th>\n",
       "      <th>params</th>\n",
       "      <th>rank_test_neg_mean_absolute_error</th>\n",
       "      <th>split0_test_neg_mean_absolute_error</th>\n",
       "      <th>split1_test_neg_mean_absolute_error</th>\n",
       "      <th>split2_test_neg_mean_absolute_error</th>\n",
       "      <th>split3_test_neg_mean_absolute_error</th>\n",
       "      <th>split4_test_neg_mean_absolute_error</th>\n",
       "      <th>std_test_neg_mean_absolute_error</th>\n",
       "    </tr>\n",
       "    <tr>\n",
       "      <th>outer_fold</th>\n",
       "      <th></th>\n",
       "      <th></th>\n",
       "      <th></th>\n",
       "      <th></th>\n",
       "      <th></th>\n",
       "      <th></th>\n",
       "      <th></th>\n",
       "      <th></th>\n",
       "      <th></th>\n",
       "      <th></th>\n",
       "      <th></th>\n",
       "      <th></th>\n",
       "      <th></th>\n",
       "      <th></th>\n",
       "    </tr>\n",
       "  </thead>\n",
       "  <tbody>\n",
       "    <tr>\n",
       "      <th>0</th>\n",
       "      <td>-2.406468</td>\n",
       "      <td>11</td>\n",
       "      <td>1</td>\n",
       "      <td>distance</td>\n",
       "      <td>4.0</td>\n",
       "      <td>&lt;function mutual_info_regression at 0x000001CC...</td>\n",
       "      <td>{'clf__n_neighbors': 11, 'clf__p': 1, 'clf__we...</td>\n",
       "      <td>5</td>\n",
       "      <td>-2.275953</td>\n",
       "      <td>-2.023213</td>\n",
       "      <td>-2.625273</td>\n",
       "      <td>-2.918804</td>\n",
       "      <td>-2.189098</td>\n",
       "      <td>0.322965</td>\n",
       "    </tr>\n",
       "    <tr>\n",
       "      <th>1</th>\n",
       "      <td>-2.211107</td>\n",
       "      <td>11</td>\n",
       "      <td>1</td>\n",
       "      <td>distance</td>\n",
       "      <td>4.0</td>\n",
       "      <td>&lt;function mutual_info_regression at 0x000001CC...</td>\n",
       "      <td>{'clf__n_neighbors': 11, 'clf__p': 1, 'clf__we...</td>\n",
       "      <td>1</td>\n",
       "      <td>-2.400573</td>\n",
       "      <td>-1.280076</td>\n",
       "      <td>-2.679754</td>\n",
       "      <td>-1.513481</td>\n",
       "      <td>-3.181650</td>\n",
       "      <td>0.714280</td>\n",
       "    </tr>\n",
       "    <tr>\n",
       "      <th>2</th>\n",
       "      <td>-2.937451</td>\n",
       "      <td>11</td>\n",
       "      <td>1</td>\n",
       "      <td>distance</td>\n",
       "      <td>4.0</td>\n",
       "      <td>&lt;function mutual_info_regression at 0x000001CC...</td>\n",
       "      <td>{'clf__n_neighbors': 11, 'clf__p': 1, 'clf__we...</td>\n",
       "      <td>9</td>\n",
       "      <td>-3.420161</td>\n",
       "      <td>-2.136884</td>\n",
       "      <td>-2.343208</td>\n",
       "      <td>-2.633822</td>\n",
       "      <td>-4.153178</td>\n",
       "      <td>0.747960</td>\n",
       "    </tr>\n",
       "    <tr>\n",
       "      <th>3</th>\n",
       "      <td>-2.687628</td>\n",
       "      <td>11</td>\n",
       "      <td>1</td>\n",
       "      <td>distance</td>\n",
       "      <td>4.0</td>\n",
       "      <td>&lt;function mutual_info_regression at 0x000001CC...</td>\n",
       "      <td>{'clf__n_neighbors': 11, 'clf__p': 1, 'clf__we...</td>\n",
       "      <td>4</td>\n",
       "      <td>-2.153667</td>\n",
       "      <td>-2.327619</td>\n",
       "      <td>-4.300177</td>\n",
       "      <td>-2.228469</td>\n",
       "      <td>-2.428207</td>\n",
       "      <td>0.811562</td>\n",
       "    </tr>\n",
       "    <tr>\n",
       "      <th>4</th>\n",
       "      <td>-2.766628</td>\n",
       "      <td>11</td>\n",
       "      <td>1</td>\n",
       "      <td>distance</td>\n",
       "      <td>4.0</td>\n",
       "      <td>&lt;function mutual_info_regression at 0x000001CC...</td>\n",
       "      <td>{'clf__n_neighbors': 11, 'clf__p': 1, 'clf__we...</td>\n",
       "      <td>1</td>\n",
       "      <td>-1.240604</td>\n",
       "      <td>-2.988792</td>\n",
       "      <td>-3.515118</td>\n",
       "      <td>-2.165044</td>\n",
       "      <td>-3.923583</td>\n",
       "      <td>0.963202</td>\n",
       "    </tr>\n",
       "  </tbody>\n",
       "</table>\n",
       "</div>"
      ],
      "text/plain": [
       "            mean_test_neg_mean_absolute_error  param_clf__n_neighbors  \\\n",
       "outer_fold                                                              \n",
       "0                                   -2.406468                      11   \n",
       "1                                   -2.211107                      11   \n",
       "2                                   -2.937451                      11   \n",
       "3                                   -2.687628                      11   \n",
       "4                                   -2.766628                      11   \n",
       "\n",
       "            param_clf__p param_clf__weights  param_reduce_dim__k  \\\n",
       "outer_fold                                                         \n",
       "0                      1           distance                  4.0   \n",
       "1                      1           distance                  4.0   \n",
       "2                      1           distance                  4.0   \n",
       "3                      1           distance                  4.0   \n",
       "4                      1           distance                  4.0   \n",
       "\n",
       "                                 param_reduce_dim__score_func  \\\n",
       "outer_fold                                                      \n",
       "0           <function mutual_info_regression at 0x000001CC...   \n",
       "1           <function mutual_info_regression at 0x000001CC...   \n",
       "2           <function mutual_info_regression at 0x000001CC...   \n",
       "3           <function mutual_info_regression at 0x000001CC...   \n",
       "4           <function mutual_info_regression at 0x000001CC...   \n",
       "\n",
       "                                                       params  \\\n",
       "outer_fold                                                      \n",
       "0           {'clf__n_neighbors': 11, 'clf__p': 1, 'clf__we...   \n",
       "1           {'clf__n_neighbors': 11, 'clf__p': 1, 'clf__we...   \n",
       "2           {'clf__n_neighbors': 11, 'clf__p': 1, 'clf__we...   \n",
       "3           {'clf__n_neighbors': 11, 'clf__p': 1, 'clf__we...   \n",
       "4           {'clf__n_neighbors': 11, 'clf__p': 1, 'clf__we...   \n",
       "\n",
       "            rank_test_neg_mean_absolute_error  \\\n",
       "outer_fold                                      \n",
       "0                                           5   \n",
       "1                                           1   \n",
       "2                                           9   \n",
       "3                                           4   \n",
       "4                                           1   \n",
       "\n",
       "            split0_test_neg_mean_absolute_error  \\\n",
       "outer_fold                                        \n",
       "0                                     -2.275953   \n",
       "1                                     -2.400573   \n",
       "2                                     -3.420161   \n",
       "3                                     -2.153667   \n",
       "4                                     -1.240604   \n",
       "\n",
       "            split1_test_neg_mean_absolute_error  \\\n",
       "outer_fold                                        \n",
       "0                                     -2.023213   \n",
       "1                                     -1.280076   \n",
       "2                                     -2.136884   \n",
       "3                                     -2.327619   \n",
       "4                                     -2.988792   \n",
       "\n",
       "            split2_test_neg_mean_absolute_error  \\\n",
       "outer_fold                                        \n",
       "0                                     -2.625273   \n",
       "1                                     -2.679754   \n",
       "2                                     -2.343208   \n",
       "3                                     -4.300177   \n",
       "4                                     -3.515118   \n",
       "\n",
       "            split3_test_neg_mean_absolute_error  \\\n",
       "outer_fold                                        \n",
       "0                                     -2.918804   \n",
       "1                                     -1.513481   \n",
       "2                                     -2.633822   \n",
       "3                                     -2.228469   \n",
       "4                                     -2.165044   \n",
       "\n",
       "            split4_test_neg_mean_absolute_error  \\\n",
       "outer_fold                                        \n",
       "0                                     -2.189098   \n",
       "1                                     -3.181650   \n",
       "2                                     -4.153178   \n",
       "3                                     -2.428207   \n",
       "4                                     -3.923583   \n",
       "\n",
       "            std_test_neg_mean_absolute_error  \n",
       "outer_fold                                    \n",
       "0                                   0.322965  \n",
       "1                                   0.714280  \n",
       "2                                   0.747960  \n",
       "3                                   0.811562  \n",
       "4                                   0.963202  "
      ]
     },
     "execution_count": 15,
     "metadata": {},
     "output_type": "execute_result"
    }
   ],
   "source": [
    "pipeline_permuter.best_hyperparameter_pipeline()"
   ]
  },
  {
   "cell_type": "code",
   "execution_count": 16,
   "metadata": {},
   "outputs": [
    {
     "name": "stdout",
     "output_type": "stream",
     "text": [
      "Save results: True\n"
     ]
    }
   ],
   "source": [
    "print(f\"Save results: {save_results}\")"
   ]
  },
  {
   "cell_type": "code",
   "execution_count": 17,
   "metadata": {},
   "outputs": [],
   "source": [
    "if save_results:\n",
    "    pipeline_permuter.to_pickle(models_path.joinpath(\"KNeighbors_q_peak.pkl\"))"
   ]
  },
  {
   "cell_type": "code",
   "execution_count": null,
   "metadata": {},
   "outputs": [],
   "source": []
  }
 ],
 "metadata": {
  "kernelspec": {
   "display_name": ".venv",
   "language": "python",
   "name": "python3"
  },
  "language_info": {
   "codemirror_mode": {
    "name": "ipython",
    "version": 3
   },
   "file_extension": ".py",
   "mimetype": "text/x-python",
   "name": "python",
   "nbconvert_exporter": "python",
   "pygments_lexer": "ipython3",
   "version": "3.12.4"
  }
 },
 "nbformat": 4,
 "nbformat_minor": 2
}
