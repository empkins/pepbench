{
 "cells": [
  {
   "cell_type": "code",
   "execution_count": 22,
   "metadata": {},
   "outputs": [
    {
     "name": "stdout",
     "output_type": "stream",
     "text": [
      "The autoreload extension is already loaded. To reload it, use:\n",
      "  %reload_ext autoreload\n"
     ]
    }
   ],
   "source": [
    "from pathlib import Path\n",
    "\n",
    "import pandas as pd\n",
    "import numpy as np\n",
    "\n",
    "import biopsykit as bp\n",
    "from sklearn.preprocessing import MinMaxScaler, StandardScaler, FunctionTransformer\n",
    "\n",
    "\n",
    "#Feature Selection\n",
    "from sklearn.feature_selection import SelectKBest, RFE, f_regression, mutual_info_regression\n",
    "\n",
    "#Classification\n",
    "from sklearn.svm import SVR\n",
    "\n",
    "# Regression\n",
    "from sklearn.linear_model import LinearRegression\n",
    "from sklearn.linear_model import ElasticNet\n",
    "from sklearn.linear_model import Ridge\n",
    "from sklearn.neighbors import KNeighborsRegressor\n",
    "from sklearn.ensemble import RandomForestRegressor\n",
    "\n",
    "\n",
    "# Cross-Validation\n",
    "from sklearn.model_selection import GroupKFold\n",
    "\n",
    "from biopsykit.classification.model_selection import SklearnPipelinePermuter\n",
    "\n",
    "\n",
    "%matplotlib widget\n",
    "%load_ext autoreload\n",
    "%autoreload 2"
   ]
  },
  {
   "cell_type": "code",
   "execution_count": 3,
   "metadata": {},
   "outputs": [],
   "source": [
    "save_results = True"
   ]
  },
  {
   "cell_type": "code",
   "execution_count": 4,
   "metadata": {},
   "outputs": [
    {
     "data": {
      "text/plain": [
       "WindowsPath('../../results/data')"
      ]
     },
     "execution_count": 4,
     "metadata": {},
     "output_type": "execute_result"
    }
   ],
   "source": [
    "data_path = Path(\"../../results/data\")\n",
    "data_path"
   ]
  },
  {
   "cell_type": "code",
   "execution_count": 5,
   "metadata": {},
   "outputs": [],
   "source": [
    "models_path = Path(\"../../results/models\")"
   ]
  },
  {
   "cell_type": "code",
   "execution_count": 6,
   "metadata": {},
   "outputs": [
    {
     "data": {
      "text/html": [
       "<div>\n",
       "<style scoped>\n",
       "    .dataframe tbody tr th:only-of-type {\n",
       "        vertical-align: middle;\n",
       "    }\n",
       "\n",
       "    .dataframe tbody tr th {\n",
       "        vertical-align: top;\n",
       "    }\n",
       "\n",
       "    .dataframe thead th {\n",
       "        text-align: right;\n",
       "    }\n",
       "</style>\n",
       "<table border=\"1\" class=\"dataframe\">\n",
       "  <thead>\n",
       "    <tr style=\"text-align: right;\">\n",
       "      <th></th>\n",
       "      <th></th>\n",
       "      <th></th>\n",
       "      <th></th>\n",
       "      <th></th>\n",
       "      <th>rr_interval_ms_estimated</th>\n",
       "      <th>forounzafar2018</th>\n",
       "      <th>martinez2004</th>\n",
       "      <th>vanlien2013-32-ms</th>\n",
       "      <th>vanlien2013-34-ms</th>\n",
       "      <th>vanlien2013-36-ms</th>\n",
       "      <th>vanlien2013-38-ms</th>\n",
       "      <th>vanlien2013-40-ms</th>\n",
       "      <th>vanlien2013-42-ms</th>\n",
       "    </tr>\n",
       "    <tr>\n",
       "      <th></th>\n",
       "      <th>participant</th>\n",
       "      <th>phase</th>\n",
       "      <th>heartbeat_id_reference</th>\n",
       "      <th>q_wave_onset_sample_reference</th>\n",
       "      <th></th>\n",
       "      <th></th>\n",
       "      <th></th>\n",
       "      <th></th>\n",
       "      <th></th>\n",
       "      <th></th>\n",
       "      <th></th>\n",
       "      <th></th>\n",
       "      <th></th>\n",
       "    </tr>\n",
       "  </thead>\n",
       "  <tbody>\n",
       "    <tr>\n",
       "      <th>0</th>\n",
       "      <th>GDN0005</th>\n",
       "      <th>HoldingBreath</th>\n",
       "      <th>0</th>\n",
       "      <th>260.0</th>\n",
       "      <td>850.0</td>\n",
       "      <td>276.0</td>\n",
       "      <td>262.0</td>\n",
       "      <td>266.0</td>\n",
       "      <td>264.0</td>\n",
       "      <td>262.0</td>\n",
       "      <td>260.0</td>\n",
       "      <td>258.0</td>\n",
       "      <td>256.0</td>\n",
       "    </tr>\n",
       "    <tr>\n",
       "      <th>1</th>\n",
       "      <th>GDN0005</th>\n",
       "      <th>HoldingBreath</th>\n",
       "      <th>1</th>\n",
       "      <th>260.0</th>\n",
       "      <td>778.0</td>\n",
       "      <td>278.0</td>\n",
       "      <td>262.0</td>\n",
       "      <td>266.0</td>\n",
       "      <td>264.0</td>\n",
       "      <td>262.0</td>\n",
       "      <td>260.0</td>\n",
       "      <td>258.0</td>\n",
       "      <td>256.0</td>\n",
       "    </tr>\n",
       "    <tr>\n",
       "      <th>2</th>\n",
       "      <th>GDN0005</th>\n",
       "      <th>HoldingBreath</th>\n",
       "      <th>3</th>\n",
       "      <th>222.0</th>\n",
       "      <td>746.0</td>\n",
       "      <td>236.0</td>\n",
       "      <td>224.0</td>\n",
       "      <td>230.0</td>\n",
       "      <td>228.0</td>\n",
       "      <td>226.0</td>\n",
       "      <td>224.0</td>\n",
       "      <td>222.0</td>\n",
       "      <td>220.0</td>\n",
       "    </tr>\n",
       "    <tr>\n",
       "      <th>3</th>\n",
       "      <th>GDN0005</th>\n",
       "      <th>HoldingBreath</th>\n",
       "      <th>4</th>\n",
       "      <th>220.0</th>\n",
       "      <td>766.0</td>\n",
       "      <td>236.0</td>\n",
       "      <td>222.0</td>\n",
       "      <td>230.0</td>\n",
       "      <td>228.0</td>\n",
       "      <td>226.0</td>\n",
       "      <td>224.0</td>\n",
       "      <td>222.0</td>\n",
       "      <td>220.0</td>\n",
       "    </tr>\n",
       "    <tr>\n",
       "      <th>4</th>\n",
       "      <th>GDN0005</th>\n",
       "      <th>HoldingBreath</th>\n",
       "      <th>5</th>\n",
       "      <th>228.0</th>\n",
       "      <td>790.0</td>\n",
       "      <td>242.0</td>\n",
       "      <td>230.0</td>\n",
       "      <td>236.0</td>\n",
       "      <td>234.0</td>\n",
       "      <td>232.0</td>\n",
       "      <td>230.0</td>\n",
       "      <td>228.0</td>\n",
       "      <td>226.0</td>\n",
       "    </tr>\n",
       "    <tr>\n",
       "      <th>...</th>\n",
       "      <th>...</th>\n",
       "      <th>...</th>\n",
       "      <th>...</th>\n",
       "      <th>...</th>\n",
       "      <td>...</td>\n",
       "      <td>...</td>\n",
       "      <td>...</td>\n",
       "      <td>...</td>\n",
       "      <td>...</td>\n",
       "      <td>...</td>\n",
       "      <td>...</td>\n",
       "      <td>...</td>\n",
       "      <td>...</td>\n",
       "    </tr>\n",
       "    <tr>\n",
       "      <th>11498</th>\n",
       "      <th>VP_032</th>\n",
       "      <th>Talk</th>\n",
       "      <th>38</th>\n",
       "      <th>153.0</th>\n",
       "      <td>596.0</td>\n",
       "      <td>188.0</td>\n",
       "      <td>154.0</td>\n",
       "      <td>179.0</td>\n",
       "      <td>177.0</td>\n",
       "      <td>175.0</td>\n",
       "      <td>173.0</td>\n",
       "      <td>171.0</td>\n",
       "      <td>169.0</td>\n",
       "    </tr>\n",
       "    <tr>\n",
       "      <th>11499</th>\n",
       "      <th>VP_032</th>\n",
       "      <th>Talk</th>\n",
       "      <th>39</th>\n",
       "      <th>172.0</th>\n",
       "      <td>619.0</td>\n",
       "      <td>183.0</td>\n",
       "      <td>173.0</td>\n",
       "      <td>177.0</td>\n",
       "      <td>175.0</td>\n",
       "      <td>173.0</td>\n",
       "      <td>171.0</td>\n",
       "      <td>169.0</td>\n",
       "      <td>167.0</td>\n",
       "    </tr>\n",
       "    <tr>\n",
       "      <th>11500</th>\n",
       "      <th>VP_032</th>\n",
       "      <th>Talk</th>\n",
       "      <th>40</th>\n",
       "      <th>181.0</th>\n",
       "      <td>680.0</td>\n",
       "      <td>193.0</td>\n",
       "      <td>182.0</td>\n",
       "      <td>185.0</td>\n",
       "      <td>183.0</td>\n",
       "      <td>181.0</td>\n",
       "      <td>179.0</td>\n",
       "      <td>177.0</td>\n",
       "      <td>175.0</td>\n",
       "    </tr>\n",
       "    <tr>\n",
       "      <th>11501</th>\n",
       "      <th>VP_032</th>\n",
       "      <th>Talk</th>\n",
       "      <th>41</th>\n",
       "      <th>200.0</th>\n",
       "      <td>719.0</td>\n",
       "      <td>210.0</td>\n",
       "      <td>201.0</td>\n",
       "      <td>206.0</td>\n",
       "      <td>204.0</td>\n",
       "      <td>202.0</td>\n",
       "      <td>200.0</td>\n",
       "      <td>198.0</td>\n",
       "      <td>196.0</td>\n",
       "    </tr>\n",
       "    <tr>\n",
       "      <th>11502</th>\n",
       "      <th>VP_032</th>\n",
       "      <th>Talk</th>\n",
       "      <th>42</th>\n",
       "      <th>212.0</th>\n",
       "      <td>698.0</td>\n",
       "      <td>223.0</td>\n",
       "      <td>213.0</td>\n",
       "      <td>220.0</td>\n",
       "      <td>218.0</td>\n",
       "      <td>216.0</td>\n",
       "      <td>214.0</td>\n",
       "      <td>212.0</td>\n",
       "      <td>210.0</td>\n",
       "    </tr>\n",
       "  </tbody>\n",
       "</table>\n",
       "<p>11349 rows × 9 columns</p>\n",
       "</div>"
      ],
      "text/plain": [
       "                                                                                      rr_interval_ms_estimated  \\\n",
       "      participant phase         heartbeat_id_reference q_wave_onset_sample_reference                             \n",
       "0     GDN0005     HoldingBreath 0                      260.0                                             850.0   \n",
       "1     GDN0005     HoldingBreath 1                      260.0                                             778.0   \n",
       "2     GDN0005     HoldingBreath 3                      222.0                                             746.0   \n",
       "3     GDN0005     HoldingBreath 4                      220.0                                             766.0   \n",
       "4     GDN0005     HoldingBreath 5                      228.0                                             790.0   \n",
       "...                                                                                                        ...   \n",
       "11498 VP_032      Talk          38                     153.0                                             596.0   \n",
       "11499 VP_032      Talk          39                     172.0                                             619.0   \n",
       "11500 VP_032      Talk          40                     181.0                                             680.0   \n",
       "11501 VP_032      Talk          41                     200.0                                             719.0   \n",
       "11502 VP_032      Talk          42                     212.0                                             698.0   \n",
       "\n",
       "                                                                                      forounzafar2018  \\\n",
       "      participant phase         heartbeat_id_reference q_wave_onset_sample_reference                    \n",
       "0     GDN0005     HoldingBreath 0                      260.0                                    276.0   \n",
       "1     GDN0005     HoldingBreath 1                      260.0                                    278.0   \n",
       "2     GDN0005     HoldingBreath 3                      222.0                                    236.0   \n",
       "3     GDN0005     HoldingBreath 4                      220.0                                    236.0   \n",
       "4     GDN0005     HoldingBreath 5                      228.0                                    242.0   \n",
       "...                                                                                               ...   \n",
       "11498 VP_032      Talk          38                     153.0                                    188.0   \n",
       "11499 VP_032      Talk          39                     172.0                                    183.0   \n",
       "11500 VP_032      Talk          40                     181.0                                    193.0   \n",
       "11501 VP_032      Talk          41                     200.0                                    210.0   \n",
       "11502 VP_032      Talk          42                     212.0                                    223.0   \n",
       "\n",
       "                                                                                      martinez2004  \\\n",
       "      participant phase         heartbeat_id_reference q_wave_onset_sample_reference                 \n",
       "0     GDN0005     HoldingBreath 0                      260.0                                 262.0   \n",
       "1     GDN0005     HoldingBreath 1                      260.0                                 262.0   \n",
       "2     GDN0005     HoldingBreath 3                      222.0                                 224.0   \n",
       "3     GDN0005     HoldingBreath 4                      220.0                                 222.0   \n",
       "4     GDN0005     HoldingBreath 5                      228.0                                 230.0   \n",
       "...                                                                                            ...   \n",
       "11498 VP_032      Talk          38                     153.0                                 154.0   \n",
       "11499 VP_032      Talk          39                     172.0                                 173.0   \n",
       "11500 VP_032      Talk          40                     181.0                                 182.0   \n",
       "11501 VP_032      Talk          41                     200.0                                 201.0   \n",
       "11502 VP_032      Talk          42                     212.0                                 213.0   \n",
       "\n",
       "                                                                                      vanlien2013-32-ms  \\\n",
       "      participant phase         heartbeat_id_reference q_wave_onset_sample_reference                      \n",
       "0     GDN0005     HoldingBreath 0                      260.0                                      266.0   \n",
       "1     GDN0005     HoldingBreath 1                      260.0                                      266.0   \n",
       "2     GDN0005     HoldingBreath 3                      222.0                                      230.0   \n",
       "3     GDN0005     HoldingBreath 4                      220.0                                      230.0   \n",
       "4     GDN0005     HoldingBreath 5                      228.0                                      236.0   \n",
       "...                                                                                                 ...   \n",
       "11498 VP_032      Talk          38                     153.0                                      179.0   \n",
       "11499 VP_032      Talk          39                     172.0                                      177.0   \n",
       "11500 VP_032      Talk          40                     181.0                                      185.0   \n",
       "11501 VP_032      Talk          41                     200.0                                      206.0   \n",
       "11502 VP_032      Talk          42                     212.0                                      220.0   \n",
       "\n",
       "                                                                                      vanlien2013-34-ms  \\\n",
       "      participant phase         heartbeat_id_reference q_wave_onset_sample_reference                      \n",
       "0     GDN0005     HoldingBreath 0                      260.0                                      264.0   \n",
       "1     GDN0005     HoldingBreath 1                      260.0                                      264.0   \n",
       "2     GDN0005     HoldingBreath 3                      222.0                                      228.0   \n",
       "3     GDN0005     HoldingBreath 4                      220.0                                      228.0   \n",
       "4     GDN0005     HoldingBreath 5                      228.0                                      234.0   \n",
       "...                                                                                                 ...   \n",
       "11498 VP_032      Talk          38                     153.0                                      177.0   \n",
       "11499 VP_032      Talk          39                     172.0                                      175.0   \n",
       "11500 VP_032      Talk          40                     181.0                                      183.0   \n",
       "11501 VP_032      Talk          41                     200.0                                      204.0   \n",
       "11502 VP_032      Talk          42                     212.0                                      218.0   \n",
       "\n",
       "                                                                                      vanlien2013-36-ms  \\\n",
       "      participant phase         heartbeat_id_reference q_wave_onset_sample_reference                      \n",
       "0     GDN0005     HoldingBreath 0                      260.0                                      262.0   \n",
       "1     GDN0005     HoldingBreath 1                      260.0                                      262.0   \n",
       "2     GDN0005     HoldingBreath 3                      222.0                                      226.0   \n",
       "3     GDN0005     HoldingBreath 4                      220.0                                      226.0   \n",
       "4     GDN0005     HoldingBreath 5                      228.0                                      232.0   \n",
       "...                                                                                                 ...   \n",
       "11498 VP_032      Talk          38                     153.0                                      175.0   \n",
       "11499 VP_032      Talk          39                     172.0                                      173.0   \n",
       "11500 VP_032      Talk          40                     181.0                                      181.0   \n",
       "11501 VP_032      Talk          41                     200.0                                      202.0   \n",
       "11502 VP_032      Talk          42                     212.0                                      216.0   \n",
       "\n",
       "                                                                                      vanlien2013-38-ms  \\\n",
       "      participant phase         heartbeat_id_reference q_wave_onset_sample_reference                      \n",
       "0     GDN0005     HoldingBreath 0                      260.0                                      260.0   \n",
       "1     GDN0005     HoldingBreath 1                      260.0                                      260.0   \n",
       "2     GDN0005     HoldingBreath 3                      222.0                                      224.0   \n",
       "3     GDN0005     HoldingBreath 4                      220.0                                      224.0   \n",
       "4     GDN0005     HoldingBreath 5                      228.0                                      230.0   \n",
       "...                                                                                                 ...   \n",
       "11498 VP_032      Talk          38                     153.0                                      173.0   \n",
       "11499 VP_032      Talk          39                     172.0                                      171.0   \n",
       "11500 VP_032      Talk          40                     181.0                                      179.0   \n",
       "11501 VP_032      Talk          41                     200.0                                      200.0   \n",
       "11502 VP_032      Talk          42                     212.0                                      214.0   \n",
       "\n",
       "                                                                                      vanlien2013-40-ms  \\\n",
       "      participant phase         heartbeat_id_reference q_wave_onset_sample_reference                      \n",
       "0     GDN0005     HoldingBreath 0                      260.0                                      258.0   \n",
       "1     GDN0005     HoldingBreath 1                      260.0                                      258.0   \n",
       "2     GDN0005     HoldingBreath 3                      222.0                                      222.0   \n",
       "3     GDN0005     HoldingBreath 4                      220.0                                      222.0   \n",
       "4     GDN0005     HoldingBreath 5                      228.0                                      228.0   \n",
       "...                                                                                                 ...   \n",
       "11498 VP_032      Talk          38                     153.0                                      171.0   \n",
       "11499 VP_032      Talk          39                     172.0                                      169.0   \n",
       "11500 VP_032      Talk          40                     181.0                                      177.0   \n",
       "11501 VP_032      Talk          41                     200.0                                      198.0   \n",
       "11502 VP_032      Talk          42                     212.0                                      212.0   \n",
       "\n",
       "                                                                                      vanlien2013-42-ms  \n",
       "      participant phase         heartbeat_id_reference q_wave_onset_sample_reference                     \n",
       "0     GDN0005     HoldingBreath 0                      260.0                                      256.0  \n",
       "1     GDN0005     HoldingBreath 1                      260.0                                      256.0  \n",
       "2     GDN0005     HoldingBreath 3                      222.0                                      220.0  \n",
       "3     GDN0005     HoldingBreath 4                      220.0                                      220.0  \n",
       "4     GDN0005     HoldingBreath 5                      228.0                                      226.0  \n",
       "...                                                                                                 ...  \n",
       "11498 VP_032      Talk          38                     153.0                                      169.0  \n",
       "11499 VP_032      Talk          39                     172.0                                      167.0  \n",
       "11500 VP_032      Talk          40                     181.0                                      175.0  \n",
       "11501 VP_032      Talk          41                     200.0                                      196.0  \n",
       "11502 VP_032      Talk          42                     212.0                                      210.0  \n",
       "\n",
       "[11349 rows x 9 columns]"
      ]
     },
     "execution_count": 6,
     "metadata": {},
     "output_type": "execute_result"
    }
   ],
   "source": [
    "input_data = pd.read_csv(data_path.joinpath(\"train_data_q_wave.csv\"), index_col=[0,1,2,3,4])\n",
    "input_data"
   ]
  },
  {
   "cell_type": "code",
   "execution_count": 7,
   "metadata": {},
   "outputs": [
    {
     "name": "stdout",
     "output_type": "stream",
     "text": [
      "Min data value: 23.0\n",
      "Max data value: 1534.0\n"
     ]
    }
   ],
   "source": [
    "print(f\"Min data value: {input_data.values.min()}\\nMax data value: {input_data.values.max()}\")"
   ]
  },
  {
   "cell_type": "code",
   "execution_count": 8,
   "metadata": {},
   "outputs": [
    {
     "data": {
      "text/plain": [
       "Index(['rr_interval_ms_estimated', 'forounzafar2018', 'martinez2004',\n",
       "       'vanlien2013-32-ms', 'vanlien2013-34-ms', 'vanlien2013-36-ms',\n",
       "       'vanlien2013-38-ms', 'vanlien2013-40-ms', 'vanlien2013-42-ms'],\n",
       "      dtype='object')"
      ]
     },
     "execution_count": 8,
     "metadata": {},
     "output_type": "execute_result"
    }
   ],
   "source": [
    "columns=input_data.columns\n",
    "columns"
   ]
  },
  {
   "cell_type": "code",
   "execution_count": 9,
   "metadata": {},
   "outputs": [
    {
     "name": "stdout",
     "output_type": "stream",
     "text": [
      "Shape of X: (11349, 9); shape of y: (11349,); number of groups: 39, class prevalence: [  1   2   1   6   2   8   4  15  21  14  26  30  35  50  48  55  57  52\n",
      "  65  61  79  73  59  50  51  49  43  44  42  25  40  30  38  30  38  49\n",
      "  33  32  31  31  22  38  29  43  47  34  21  47  48  41  32  31  36  36\n",
      "  39  47  52  29  29  40  51  21  50  31  43  28  32  27  45  23  39  33\n",
      "  47  22  45  25  35  29  34  37  53  23  68  24  66  38  59  36  62  31\n",
      "  72  29  83  30  69  26  64  20  95  27  78  22  67  20  64  28  69  21\n",
      "  92  18  81  19  91  25  91  19  81  27  69  25  81  15  90  14 101  16\n",
      "  94  14 116  18 103  25  96  21  78  17  95  12  89  25  91  24  76  13\n",
      "  82  22  95  11  74  20  82  18  82  11  77  14  83  19  96  12 100  14\n",
      " 100  11  89  14  87  10  97   9  99   8  98   7 107   7 108   5 106   5\n",
      " 110   3  89   4  93   4  86  10  82   7  73   2  68   1  75   2  83   3\n",
      "  84   4  70   4  82  70   5  56   3  75   1  75   3  55   4  59   3  70\n",
      "   2  69  68   1  66   3  56  59  72  47  64  55   2  49  55  51  46  40\n",
      "  50  38  27  34  33  26   1  35  34  31  32  25  33  31  26  34  25  17\n",
      "  17  25  23  14  25  23  15  13   1  16  18  15  13  11  11   9   8  13\n",
      "   9  10   6   6   4   7   3  12   3   8   6   4   4   6  12   7   7  12\n",
      "   5   7   6   2   6   4   5   3   3   3   2   2   1   2   1   2   1]\n"
     ]
    }
   ],
   "source": [
    "X, y, groups, group_keys = bp.classification.utils.prepare_df_sklearn(data=input_data, label_col=\"q_wave_onset_sample_reference\", subject_col=\"participant\", print_summary=True)"
   ]
  },
  {
   "cell_type": "code",
   "execution_count": 10,
   "metadata": {},
   "outputs": [
    {
     "data": {
      "text/plain": [
       "Index(['GDN0005', 'GDN0006', 'GDN0007', 'GDN0008', 'GDN0009', 'GDN0010',\n",
       "       'GDN0011', 'GDN0012', 'GDN0013', 'GDN0014', 'GDN0016', 'GDN0017',\n",
       "       'GDN0018', 'GDN0019', 'GDN0020', 'GDN0021', 'GDN0022', 'GDN0023',\n",
       "       'GDN0024', 'GDN0025', 'GDN0027', 'GDN0028', 'GDN0029', 'GDN0030',\n",
       "       'VP_001', 'VP_002', 'VP_003', 'VP_004', 'VP_005', 'VP_020', 'VP_022',\n",
       "       'VP_023', 'VP_026', 'VP_027', 'VP_028', 'VP_029', 'VP_030', 'VP_031',\n",
       "       'VP_032'],\n",
       "      dtype='object')"
      ]
     },
     "execution_count": 10,
     "metadata": {},
     "output_type": "execute_result"
    }
   ],
   "source": [
    "group_keys"
   ]
  },
  {
   "cell_type": "code",
   "execution_count": 23,
   "metadata": {},
   "outputs": [],
   "source": [
    "model_dict = {\n",
    "    \"scaler\": {\"StandardScaler\": StandardScaler(), \"MinMaxScaler\": MinMaxScaler()},\n",
    "    \"reduce_dim\": {\"SelectKBest\": SelectKBest(), \"RFE\": RFE(SVR(kernel=\"linear\")), \"DummyFeatureSelector\": FunctionTransformer()},\n",
    "    #\"reduce_dim\": {\"SelectKBest\": SelectKBest(), \"DummyFeatureSelector\": FunctionTransformer()},\n",
    "    #\"reduce_dim\": {\"RFE\": RFE(SVR(kernel=\"linear\"))},\n",
    "    \"clf\": {\n",
    "        \"LinearRegressor\": LinearRegression(),\n",
    "        \"ElasticNetRegressor\": ElasticNet(),\n",
    "        \"RidgeRegressor\": Ridge(),\n",
    "        #\"KNeighborsRegressor\": KNeighborsRegressor(),\n",
    "        #\"RandomForestRegressor\": RandomForestRegressor(n_jobs=10),\n",
    "    },\n",
    "}"
   ]
  },
  {
   "cell_type": "code",
   "execution_count": 24,
   "metadata": {},
   "outputs": [],
   "source": [
    "params_dict = {\n",
    "    \"StandardScaler\": None,\n",
    "    \"MinMaxScaler\": None,\n",
    "    \"SelectKBest\": {\n",
    "        \"score_func\": [f_regression, mutual_info_regression],\n",
    "        \"k\": [2, 4, 6, 8, 10],\n",
    "        },\n",
    "    \"SVR\": {\"C\": [0.1, 1, 10]},\n",
    "    \"RFE\": {\n",
    "        \"n_features_to_select\": [0.4, 0.5, 0.6],\n",
    "        \"step\": [1,2,3],\n",
    "    },\n",
    "    \"DummyFeatureSelector\": None,\n",
    "    \"LinearRegressor\": {\n",
    "\n",
    "    },\n",
    "    \"ElasticNetRegressor\": {\n",
    "        \"alpha\": [0.01, 0.1, 1, 10, 100],\n",
    "        \"l1_ratio\": [0.1, 0.3, 0.5, 0.7, 0.9],        \n",
    "    },\n",
    "    \"RidgeRegressor\": {\n",
    "        \"alpha\": [0.01, 0.1, 1, 10, 100],\n",
    "    }\n",
    "    #\"KNeighborsRegressor\": {\n",
    "    #    \"n_neighbors\": [8,9,10,11,12,13,14],\n",
    "    #    \"weights\": [\"uniform\", \"distance\"],\n",
    "    #    \"p\": [1,2],\n",
    "    #    },\n",
    "    #\"RandomForestRegressor\": {\n",
    "    #    \"n_estimators\": [200, 300],\n",
    "    #    \"min_samples_split\": [2, 5, 10, 20, 30, 40],\n",
    "    #    \"min_samples_leaf\": [1, 2, 4, 10, 20, 30],\n",
    "    #    \"max_depth\": [None, 40, 60, 80, 100, 120],\n",
    "    #    #\"max_features\": [\"sqrt\", \"log2\", None],\n",
    "    #},\n",
    "}"
   ]
  },
  {
   "cell_type": "code",
   "execution_count": 25,
   "metadata": {},
   "outputs": [],
   "source": [
    "pipeline_permuter = SklearnPipelinePermuter(\n",
    "    model_dict=model_dict, param_dict=params_dict\n",
    ")"
   ]
  },
  {
   "cell_type": "code",
   "execution_count": 26,
   "metadata": {},
   "outputs": [
    {
     "data": {
      "application/vnd.jupyter.widget-view+json": {
       "model_id": "6250cbe0b6db4372a577d81c11503fd6",
       "version_major": 2,
       "version_minor": 0
      },
      "text/plain": [
       "Pipeline Combinations:   0%|          | 0/18 [00:00<?, ?it/s]"
      ]
     },
     "metadata": {},
     "output_type": "display_data"
    },
    {
     "name": "stdout",
     "output_type": "stream",
     "text": [
      "### Running hyperparameter search for pipeline: (('scaler', 'StandardScaler'), ('reduce_dim', 'SelectKBest'), ('clf', 'LinearRegressor')) with 1 parameter grid(s):\n",
      "Parameter grid #0 ({'search_method': 'grid'}): {'reduce_dim__score_func': [<function f_regression at 0x000001B6630B5760>, <function mutual_info_regression at 0x000001B6630A3600>], 'reduce_dim__k': [2, 4, 6, 8, 10]}\n"
     ]
    },
    {
     "data": {
      "application/vnd.jupyter.widget-view+json": {
       "model_id": "ad369f9c9aac4f2fbd5dae8671ec1aee",
       "version_major": 2,
       "version_minor": 0
      },
      "text/plain": [
       "Outer CV:   0%|          | 0/5 [00:00<?, ?it/s]"
      ]
     },
     "metadata": {},
     "output_type": "display_data"
    },
    {
     "name": "stdout",
     "output_type": "stream",
     "text": [
      "Fitting 5 folds for each of 10 candidates, totalling 50 fits\n"
     ]
    },
    {
     "name": "stderr",
     "output_type": "stream",
     "text": [
      "C:\\Users\\sebas\\Development\\ResearchInternship\\Code\\BioPsyKit\\src\\biopsykit\\classification\\model_selection\\nested_cv.py:149: UserWarning: Cannot compute confusion matrix for regression tasks.\n",
      "  warnings.warn(\"Cannot compute confusion matrix for regression tasks.\")\n",
      "C:\\Users\\sebas\\Development\\ResearchInternship\\Code\\BioPsyKit\\src\\biopsykit\\classification\\model_selection\\nested_cv.py:149: UserWarning: Cannot compute confusion matrix for regression tasks.\n",
      "  warnings.warn(\"Cannot compute confusion matrix for regression tasks.\")\n",
      "C:\\Users\\sebas\\Development\\ResearchInternship\\Code\\BioPsyKit\\src\\biopsykit\\classification\\model_selection\\nested_cv.py:149: UserWarning: Cannot compute confusion matrix for regression tasks.\n",
      "  warnings.warn(\"Cannot compute confusion matrix for regression tasks.\")\n"
     ]
    },
    {
     "name": "stdout",
     "output_type": "stream",
     "text": [
      "Fitting 5 folds for each of 10 candidates, totalling 50 fits\n",
      "Fitting 5 folds for each of 10 candidates, totalling 50 fits\n",
      "Fitting 5 folds for each of 10 candidates, totalling 50 fits\n",
      "Fitting 5 folds for each of 10 candidates, totalling 50 fits\n",
      "\n",
      "\n",
      "### Running hyperparameter search for pipeline: (('scaler', 'StandardScaler'), ('reduce_dim', 'SelectKBest'), ('clf', 'ElasticNetRegressor')) with 1 parameter grid(s):\n",
      "Parameter grid #0 ({'search_method': 'grid'}): {'clf__alpha': [0.01, 0.1, 1, 10, 100], 'clf__l1_ratio': [0.1, 0.3, 0.5, 0.7, 0.9], 'reduce_dim__score_func': [<function f_regression at 0x000001B6630B5760>, <function mutual_info_regression at 0x000001B6630A3600>], 'reduce_dim__k': [2, 4, 6, 8, 10]}\n"
     ]
    },
    {
     "name": "stderr",
     "output_type": "stream",
     "text": [
      "C:\\Users\\sebas\\Development\\ResearchInternship\\Code\\BioPsyKit\\src\\biopsykit\\classification\\model_selection\\nested_cv.py:149: UserWarning: Cannot compute confusion matrix for regression tasks.\n",
      "  warnings.warn(\"Cannot compute confusion matrix for regression tasks.\")\n",
      "C:\\Users\\sebas\\Development\\ResearchInternship\\Code\\BioPsyKit\\src\\biopsykit\\classification\\model_selection\\nested_cv.py:149: UserWarning: Cannot compute confusion matrix for regression tasks.\n",
      "  warnings.warn(\"Cannot compute confusion matrix for regression tasks.\")\n"
     ]
    },
    {
     "data": {
      "application/vnd.jupyter.widget-view+json": {
       "model_id": "f850cb93b7b946539a24371ddb25e50c",
       "version_major": 2,
       "version_minor": 0
      },
      "text/plain": [
       "Outer CV:   0%|          | 0/5 [00:00<?, ?it/s]"
      ]
     },
     "metadata": {},
     "output_type": "display_data"
    },
    {
     "name": "stdout",
     "output_type": "stream",
     "text": [
      "Fitting 5 folds for each of 250 candidates, totalling 1250 fits\n"
     ]
    },
    {
     "name": "stderr",
     "output_type": "stream",
     "text": [
      "C:\\Users\\sebas\\Development\\ResearchInternship\\Code\\BioPsyKit\\src\\biopsykit\\classification\\model_selection\\nested_cv.py:149: UserWarning: Cannot compute confusion matrix for regression tasks.\n",
      "  warnings.warn(\"Cannot compute confusion matrix for regression tasks.\")\n"
     ]
    },
    {
     "name": "stdout",
     "output_type": "stream",
     "text": [
      "Fitting 5 folds for each of 250 candidates, totalling 1250 fits\n"
     ]
    },
    {
     "name": "stderr",
     "output_type": "stream",
     "text": [
      "C:\\Users\\sebas\\Development\\ResearchInternship\\Code\\BioPsyKit\\src\\biopsykit\\classification\\model_selection\\nested_cv.py:149: UserWarning: Cannot compute confusion matrix for regression tasks.\n",
      "  warnings.warn(\"Cannot compute confusion matrix for regression tasks.\")\n"
     ]
    },
    {
     "name": "stdout",
     "output_type": "stream",
     "text": [
      "Fitting 5 folds for each of 250 candidates, totalling 1250 fits\n"
     ]
    },
    {
     "name": "stderr",
     "output_type": "stream",
     "text": [
      "C:\\Users\\sebas\\Development\\ResearchInternship\\Code\\BioPsyKit\\src\\biopsykit\\classification\\model_selection\\nested_cv.py:149: UserWarning: Cannot compute confusion matrix for regression tasks.\n",
      "  warnings.warn(\"Cannot compute confusion matrix for regression tasks.\")\n"
     ]
    },
    {
     "name": "stdout",
     "output_type": "stream",
     "text": [
      "Fitting 5 folds for each of 250 candidates, totalling 1250 fits\n"
     ]
    },
    {
     "name": "stderr",
     "output_type": "stream",
     "text": [
      "C:\\Users\\sebas\\Development\\ResearchInternship\\Code\\BioPsyKit\\src\\biopsykit\\classification\\model_selection\\nested_cv.py:149: UserWarning: Cannot compute confusion matrix for regression tasks.\n",
      "  warnings.warn(\"Cannot compute confusion matrix for regression tasks.\")\n"
     ]
    },
    {
     "name": "stdout",
     "output_type": "stream",
     "text": [
      "Fitting 5 folds for each of 250 candidates, totalling 1250 fits\n",
      "\n",
      "\n",
      "### Running hyperparameter search for pipeline: (('scaler', 'StandardScaler'), ('reduce_dim', 'SelectKBest'), ('clf', 'RidgeRegressor')) with 1 parameter grid(s):\n",
      "Parameter grid #0 ({'search_method': 'grid'}): {'clf__alpha': [0.01, 0.1, 1, 10, 100], 'reduce_dim__score_func': [<function f_regression at 0x000001B6630B5760>, <function mutual_info_regression at 0x000001B6630A3600>], 'reduce_dim__k': [2, 4, 6, 8, 10]}\n"
     ]
    },
    {
     "name": "stderr",
     "output_type": "stream",
     "text": [
      "C:\\Users\\sebas\\Development\\ResearchInternship\\Code\\BioPsyKit\\src\\biopsykit\\classification\\model_selection\\nested_cv.py:149: UserWarning: Cannot compute confusion matrix for regression tasks.\n",
      "  warnings.warn(\"Cannot compute confusion matrix for regression tasks.\")\n"
     ]
    },
    {
     "data": {
      "application/vnd.jupyter.widget-view+json": {
       "model_id": "3d7c82381eed49649a3249666bae698a",
       "version_major": 2,
       "version_minor": 0
      },
      "text/plain": [
       "Outer CV:   0%|          | 0/5 [00:00<?, ?it/s]"
      ]
     },
     "metadata": {},
     "output_type": "display_data"
    },
    {
     "name": "stdout",
     "output_type": "stream",
     "text": [
      "Fitting 5 folds for each of 50 candidates, totalling 250 fits\n"
     ]
    },
    {
     "name": "stderr",
     "output_type": "stream",
     "text": [
      "C:\\Users\\sebas\\Development\\ResearchInternship\\Code\\BioPsyKit\\src\\biopsykit\\classification\\model_selection\\nested_cv.py:149: UserWarning: Cannot compute confusion matrix for regression tasks.\n",
      "  warnings.warn(\"Cannot compute confusion matrix for regression tasks.\")\n"
     ]
    },
    {
     "name": "stdout",
     "output_type": "stream",
     "text": [
      "Fitting 5 folds for each of 50 candidates, totalling 250 fits\n"
     ]
    },
    {
     "name": "stderr",
     "output_type": "stream",
     "text": [
      "C:\\Users\\sebas\\Development\\ResearchInternship\\Code\\BioPsyKit\\src\\biopsykit\\classification\\model_selection\\nested_cv.py:149: UserWarning: Cannot compute confusion matrix for regression tasks.\n",
      "  warnings.warn(\"Cannot compute confusion matrix for regression tasks.\")\n"
     ]
    },
    {
     "name": "stdout",
     "output_type": "stream",
     "text": [
      "Fitting 5 folds for each of 50 candidates, totalling 250 fits\n"
     ]
    },
    {
     "name": "stderr",
     "output_type": "stream",
     "text": [
      "C:\\Users\\sebas\\Development\\ResearchInternship\\Code\\BioPsyKit\\src\\biopsykit\\classification\\model_selection\\nested_cv.py:149: UserWarning: Cannot compute confusion matrix for regression tasks.\n",
      "  warnings.warn(\"Cannot compute confusion matrix for regression tasks.\")\n"
     ]
    },
    {
     "name": "stdout",
     "output_type": "stream",
     "text": [
      "Fitting 5 folds for each of 50 candidates, totalling 250 fits\n"
     ]
    },
    {
     "name": "stderr",
     "output_type": "stream",
     "text": [
      "C:\\Users\\sebas\\Development\\ResearchInternship\\Code\\BioPsyKit\\src\\biopsykit\\classification\\model_selection\\nested_cv.py:149: UserWarning: Cannot compute confusion matrix for regression tasks.\n",
      "  warnings.warn(\"Cannot compute confusion matrix for regression tasks.\")\n"
     ]
    },
    {
     "name": "stdout",
     "output_type": "stream",
     "text": [
      "Fitting 5 folds for each of 50 candidates, totalling 250 fits\n",
      "\n",
      "\n",
      "### Running hyperparameter search for pipeline: (('scaler', 'StandardScaler'), ('reduce_dim', 'RFE'), ('clf', 'LinearRegressor')) with 1 parameter grid(s):\n",
      "Parameter grid #0 ({'search_method': 'grid'}): {'reduce_dim__n_features_to_select': [0.4, 0.5, 0.6], 'reduce_dim__step': [1, 2, 3]}\n"
     ]
    },
    {
     "name": "stderr",
     "output_type": "stream",
     "text": [
      "C:\\Users\\sebas\\Development\\ResearchInternship\\Code\\BioPsyKit\\src\\biopsykit\\classification\\model_selection\\nested_cv.py:149: UserWarning: Cannot compute confusion matrix for regression tasks.\n",
      "  warnings.warn(\"Cannot compute confusion matrix for regression tasks.\")\n"
     ]
    },
    {
     "data": {
      "application/vnd.jupyter.widget-view+json": {
       "model_id": "38e5f4df41be4763b56813c6bea40ab9",
       "version_major": 2,
       "version_minor": 0
      },
      "text/plain": [
       "Outer CV:   0%|          | 0/5 [00:00<?, ?it/s]"
      ]
     },
     "metadata": {},
     "output_type": "display_data"
    },
    {
     "name": "stderr",
     "output_type": "stream",
     "text": [
      "C:\\Users\\sebas\\Development\\ResearchInternship\\Code\\BioPsyKit\\src\\biopsykit\\classification\\model_selection\\nested_cv.py:149: UserWarning: Cannot compute confusion matrix for regression tasks.\n",
      "  warnings.warn(\"Cannot compute confusion matrix for regression tasks.\")\n"
     ]
    },
    {
     "name": "stdout",
     "output_type": "stream",
     "text": [
      "Fitting 5 folds for each of 9 candidates, totalling 45 fits\n",
      "Fitting 5 folds for each of 9 candidates, totalling 45 fits\n"
     ]
    },
    {
     "name": "stderr",
     "output_type": "stream",
     "text": [
      "C:\\Users\\sebas\\Development\\ResearchInternship\\Code\\BioPsyKit\\src\\biopsykit\\classification\\model_selection\\nested_cv.py:149: UserWarning: Cannot compute confusion matrix for regression tasks.\n",
      "  warnings.warn(\"Cannot compute confusion matrix for regression tasks.\")\n",
      "C:\\Users\\sebas\\Development\\ResearchInternship\\Code\\BioPsyKit\\src\\biopsykit\\classification\\model_selection\\nested_cv.py:149: UserWarning: Cannot compute confusion matrix for regression tasks.\n",
      "  warnings.warn(\"Cannot compute confusion matrix for regression tasks.\")\n",
      "C:\\Users\\sebas\\Development\\ResearchInternship\\Code\\BioPsyKit\\src\\biopsykit\\classification\\model_selection\\nested_cv.py:149: UserWarning: Cannot compute confusion matrix for regression tasks.\n",
      "  warnings.warn(\"Cannot compute confusion matrix for regression tasks.\")\n"
     ]
    },
    {
     "name": "stdout",
     "output_type": "stream",
     "text": [
      "Fitting 5 folds for each of 9 candidates, totalling 45 fits\n",
      "Fitting 5 folds for each of 9 candidates, totalling 45 fits\n",
      "Fitting 5 folds for each of 9 candidates, totalling 45 fits\n",
      "\n",
      "\n",
      "### Running hyperparameter search for pipeline: (('scaler', 'StandardScaler'), ('reduce_dim', 'RFE'), ('clf', 'ElasticNetRegressor')) with 1 parameter grid(s):\n",
      "Parameter grid #0 ({'search_method': 'grid'}): {'clf__alpha': [0.01, 0.1, 1, 10, 100], 'clf__l1_ratio': [0.1, 0.3, 0.5, 0.7, 0.9], 'reduce_dim__n_features_to_select': [0.4, 0.5, 0.6], 'reduce_dim__step': [1, 2, 3]}\n"
     ]
    },
    {
     "name": "stderr",
     "output_type": "stream",
     "text": [
      "C:\\Users\\sebas\\Development\\ResearchInternship\\Code\\BioPsyKit\\src\\biopsykit\\classification\\model_selection\\nested_cv.py:149: UserWarning: Cannot compute confusion matrix for regression tasks.\n",
      "  warnings.warn(\"Cannot compute confusion matrix for regression tasks.\")\n"
     ]
    },
    {
     "data": {
      "application/vnd.jupyter.widget-view+json": {
       "model_id": "bffe496a0f33412e8959f1af81790c72",
       "version_major": 2,
       "version_minor": 0
      },
      "text/plain": [
       "Outer CV:   0%|          | 0/5 [00:00<?, ?it/s]"
      ]
     },
     "metadata": {},
     "output_type": "display_data"
    },
    {
     "name": "stdout",
     "output_type": "stream",
     "text": [
      "Fitting 5 folds for each of 225 candidates, totalling 1125 fits\n"
     ]
    },
    {
     "name": "stderr",
     "output_type": "stream",
     "text": [
      "C:\\Users\\sebas\\Development\\ResearchInternship\\Code\\BioPsyKit\\src\\biopsykit\\classification\\model_selection\\nested_cv.py:149: UserWarning: Cannot compute confusion matrix for regression tasks.\n",
      "  warnings.warn(\"Cannot compute confusion matrix for regression tasks.\")\n"
     ]
    },
    {
     "name": "stdout",
     "output_type": "stream",
     "text": [
      "Fitting 5 folds for each of 225 candidates, totalling 1125 fits\n"
     ]
    },
    {
     "name": "stderr",
     "output_type": "stream",
     "text": [
      "C:\\Users\\sebas\\Development\\ResearchInternship\\Code\\BioPsyKit\\src\\biopsykit\\classification\\model_selection\\nested_cv.py:149: UserWarning: Cannot compute confusion matrix for regression tasks.\n",
      "  warnings.warn(\"Cannot compute confusion matrix for regression tasks.\")\n"
     ]
    },
    {
     "name": "stdout",
     "output_type": "stream",
     "text": [
      "Fitting 5 folds for each of 225 candidates, totalling 1125 fits\n"
     ]
    },
    {
     "name": "stderr",
     "output_type": "stream",
     "text": [
      "C:\\Users\\sebas\\Development\\ResearchInternship\\Code\\BioPsyKit\\src\\biopsykit\\classification\\model_selection\\nested_cv.py:149: UserWarning: Cannot compute confusion matrix for regression tasks.\n",
      "  warnings.warn(\"Cannot compute confusion matrix for regression tasks.\")\n"
     ]
    },
    {
     "name": "stdout",
     "output_type": "stream",
     "text": [
      "Fitting 5 folds for each of 225 candidates, totalling 1125 fits\n"
     ]
    },
    {
     "name": "stderr",
     "output_type": "stream",
     "text": [
      "c:\\Users\\sebas\\Development\\ResearchInternship\\Code\\pepbench\\.venv\\Lib\\site-packages\\numpy\\ma\\core.py:2820: RuntimeWarning: invalid value encountered in cast\n",
      "  _data = np.array(data, dtype=dtype, copy=copy,\n",
      "C:\\Users\\sebas\\Development\\ResearchInternship\\Code\\BioPsyKit\\src\\biopsykit\\classification\\model_selection\\nested_cv.py:149: UserWarning: Cannot compute confusion matrix for regression tasks.\n",
      "  warnings.warn(\"Cannot compute confusion matrix for regression tasks.\")\n"
     ]
    },
    {
     "name": "stdout",
     "output_type": "stream",
     "text": [
      "Fitting 5 folds for each of 225 candidates, totalling 1125 fits\n",
      "\n",
      "\n",
      "### Running hyperparameter search for pipeline: (('scaler', 'StandardScaler'), ('reduce_dim', 'RFE'), ('clf', 'RidgeRegressor')) with 1 parameter grid(s):\n",
      "Parameter grid #0 ({'search_method': 'grid'}): {'clf__alpha': [0.01, 0.1, 1, 10, 100], 'reduce_dim__n_features_to_select': [0.4, 0.5, 0.6], 'reduce_dim__step': [1, 2, 3]}\n"
     ]
    },
    {
     "name": "stderr",
     "output_type": "stream",
     "text": [
      "C:\\Users\\sebas\\Development\\ResearchInternship\\Code\\BioPsyKit\\src\\biopsykit\\classification\\model_selection\\nested_cv.py:149: UserWarning: Cannot compute confusion matrix for regression tasks.\n",
      "  warnings.warn(\"Cannot compute confusion matrix for regression tasks.\")\n"
     ]
    },
    {
     "data": {
      "application/vnd.jupyter.widget-view+json": {
       "model_id": "f529da47f590418ba9b6053faeb77fa9",
       "version_major": 2,
       "version_minor": 0
      },
      "text/plain": [
       "Outer CV:   0%|          | 0/5 [00:00<?, ?it/s]"
      ]
     },
     "metadata": {},
     "output_type": "display_data"
    },
    {
     "name": "stdout",
     "output_type": "stream",
     "text": [
      "Fitting 5 folds for each of 45 candidates, totalling 225 fits\n"
     ]
    },
    {
     "name": "stderr",
     "output_type": "stream",
     "text": [
      "C:\\Users\\sebas\\Development\\ResearchInternship\\Code\\BioPsyKit\\src\\biopsykit\\classification\\model_selection\\nested_cv.py:149: UserWarning: Cannot compute confusion matrix for regression tasks.\n",
      "  warnings.warn(\"Cannot compute confusion matrix for regression tasks.\")\n"
     ]
    },
    {
     "name": "stdout",
     "output_type": "stream",
     "text": [
      "Fitting 5 folds for each of 45 candidates, totalling 225 fits\n"
     ]
    },
    {
     "name": "stderr",
     "output_type": "stream",
     "text": [
      "C:\\Users\\sebas\\Development\\ResearchInternship\\Code\\BioPsyKit\\src\\biopsykit\\classification\\model_selection\\nested_cv.py:149: UserWarning: Cannot compute confusion matrix for regression tasks.\n",
      "  warnings.warn(\"Cannot compute confusion matrix for regression tasks.\")\n"
     ]
    },
    {
     "name": "stdout",
     "output_type": "stream",
     "text": [
      "Fitting 5 folds for each of 45 candidates, totalling 225 fits\n"
     ]
    },
    {
     "name": "stderr",
     "output_type": "stream",
     "text": [
      "C:\\Users\\sebas\\Development\\ResearchInternship\\Code\\BioPsyKit\\src\\biopsykit\\classification\\model_selection\\nested_cv.py:149: UserWarning: Cannot compute confusion matrix for regression tasks.\n",
      "  warnings.warn(\"Cannot compute confusion matrix for regression tasks.\")\n"
     ]
    },
    {
     "name": "stdout",
     "output_type": "stream",
     "text": [
      "Fitting 5 folds for each of 45 candidates, totalling 225 fits\n"
     ]
    },
    {
     "name": "stderr",
     "output_type": "stream",
     "text": [
      "C:\\Users\\sebas\\Development\\ResearchInternship\\Code\\BioPsyKit\\src\\biopsykit\\classification\\model_selection\\nested_cv.py:149: UserWarning: Cannot compute confusion matrix for regression tasks.\n",
      "  warnings.warn(\"Cannot compute confusion matrix for regression tasks.\")\n"
     ]
    },
    {
     "name": "stdout",
     "output_type": "stream",
     "text": [
      "Fitting 5 folds for each of 45 candidates, totalling 225 fits\n",
      "\n",
      "\n",
      "### Running hyperparameter search for pipeline: (('scaler', 'StandardScaler'), ('reduce_dim', 'DummyFeatureSelector'), ('clf', 'LinearRegressor')) with 1 parameter grid(s):\n",
      "Parameter grid #0 ({'search_method': 'grid'}): {}\n"
     ]
    },
    {
     "name": "stderr",
     "output_type": "stream",
     "text": [
      "C:\\Users\\sebas\\Development\\ResearchInternship\\Code\\BioPsyKit\\src\\biopsykit\\classification\\model_selection\\nested_cv.py:149: UserWarning: Cannot compute confusion matrix for regression tasks.\n",
      "  warnings.warn(\"Cannot compute confusion matrix for regression tasks.\")\n"
     ]
    },
    {
     "data": {
      "application/vnd.jupyter.widget-view+json": {
       "model_id": "0a5dc27ba58f4e4b859f1e7ec8665049",
       "version_major": 2,
       "version_minor": 0
      },
      "text/plain": [
       "Outer CV:   0%|          | 0/5 [00:00<?, ?it/s]"
      ]
     },
     "metadata": {},
     "output_type": "display_data"
    },
    {
     "name": "stdout",
     "output_type": "stream",
     "text": [
      "Fitting 5 folds for each of 1 candidates, totalling 5 fits\n",
      "Fitting 5 folds for each of 1 candidates, totalling 5 fits\n",
      "Fitting 5 folds for each of 1 candidates, totalling 5 fits\n",
      "Fitting 5 folds for each of 1 candidates, totalling 5 fits\n",
      "Fitting 5 folds for each of 1 candidates, totalling 5 fits\n"
     ]
    },
    {
     "name": "stderr",
     "output_type": "stream",
     "text": [
      "C:\\Users\\sebas\\Development\\ResearchInternship\\Code\\BioPsyKit\\src\\biopsykit\\classification\\model_selection\\nested_cv.py:149: UserWarning: Cannot compute confusion matrix for regression tasks.\n",
      "  warnings.warn(\"Cannot compute confusion matrix for regression tasks.\")\n",
      "C:\\Users\\sebas\\Development\\ResearchInternship\\Code\\BioPsyKit\\src\\biopsykit\\classification\\model_selection\\nested_cv.py:149: UserWarning: Cannot compute confusion matrix for regression tasks.\n",
      "  warnings.warn(\"Cannot compute confusion matrix for regression tasks.\")\n",
      "C:\\Users\\sebas\\Development\\ResearchInternship\\Code\\BioPsyKit\\src\\biopsykit\\classification\\model_selection\\nested_cv.py:149: UserWarning: Cannot compute confusion matrix for regression tasks.\n",
      "  warnings.warn(\"Cannot compute confusion matrix for regression tasks.\")\n",
      "C:\\Users\\sebas\\Development\\ResearchInternship\\Code\\BioPsyKit\\src\\biopsykit\\classification\\model_selection\\nested_cv.py:149: UserWarning: Cannot compute confusion matrix for regression tasks.\n",
      "  warnings.warn(\"Cannot compute confusion matrix for regression tasks.\")\n"
     ]
    },
    {
     "name": "stdout",
     "output_type": "stream",
     "text": [
      "\n",
      "\n",
      "### Running hyperparameter search for pipeline: (('scaler', 'StandardScaler'), ('reduce_dim', 'DummyFeatureSelector'), ('clf', 'ElasticNetRegressor')) with 1 parameter grid(s):\n",
      "Parameter grid #0 ({'search_method': 'grid'}): {'clf__alpha': [0.01, 0.1, 1, 10, 100], 'clf__l1_ratio': [0.1, 0.3, 0.5, 0.7, 0.9]}\n"
     ]
    },
    {
     "name": "stderr",
     "output_type": "stream",
     "text": [
      "C:\\Users\\sebas\\Development\\ResearchInternship\\Code\\BioPsyKit\\src\\biopsykit\\classification\\model_selection\\nested_cv.py:149: UserWarning: Cannot compute confusion matrix for regression tasks.\n",
      "  warnings.warn(\"Cannot compute confusion matrix for regression tasks.\")\n"
     ]
    },
    {
     "data": {
      "application/vnd.jupyter.widget-view+json": {
       "model_id": "219b9cde66d440b8963c34c8ce9d1e9b",
       "version_major": 2,
       "version_minor": 0
      },
      "text/plain": [
       "Outer CV:   0%|          | 0/5 [00:00<?, ?it/s]"
      ]
     },
     "metadata": {},
     "output_type": "display_data"
    },
    {
     "name": "stdout",
     "output_type": "stream",
     "text": [
      "Fitting 5 folds for each of 25 candidates, totalling 125 fits\n"
     ]
    },
    {
     "name": "stderr",
     "output_type": "stream",
     "text": [
      "C:\\Users\\sebas\\Development\\ResearchInternship\\Code\\BioPsyKit\\src\\biopsykit\\classification\\model_selection\\nested_cv.py:149: UserWarning: Cannot compute confusion matrix for regression tasks.\n",
      "  warnings.warn(\"Cannot compute confusion matrix for regression tasks.\")\n"
     ]
    },
    {
     "name": "stdout",
     "output_type": "stream",
     "text": [
      "Fitting 5 folds for each of 25 candidates, totalling 125 fits\n"
     ]
    },
    {
     "name": "stderr",
     "output_type": "stream",
     "text": [
      "C:\\Users\\sebas\\Development\\ResearchInternship\\Code\\BioPsyKit\\src\\biopsykit\\classification\\model_selection\\nested_cv.py:149: UserWarning: Cannot compute confusion matrix for regression tasks.\n",
      "  warnings.warn(\"Cannot compute confusion matrix for regression tasks.\")\n"
     ]
    },
    {
     "name": "stdout",
     "output_type": "stream",
     "text": [
      "Fitting 5 folds for each of 25 candidates, totalling 125 fits\n"
     ]
    },
    {
     "name": "stderr",
     "output_type": "stream",
     "text": [
      "C:\\Users\\sebas\\Development\\ResearchInternship\\Code\\BioPsyKit\\src\\biopsykit\\classification\\model_selection\\nested_cv.py:149: UserWarning: Cannot compute confusion matrix for regression tasks.\n",
      "  warnings.warn(\"Cannot compute confusion matrix for regression tasks.\")\n"
     ]
    },
    {
     "name": "stdout",
     "output_type": "stream",
     "text": [
      "Fitting 5 folds for each of 25 candidates, totalling 125 fits\n"
     ]
    },
    {
     "name": "stderr",
     "output_type": "stream",
     "text": [
      "c:\\Users\\sebas\\Development\\ResearchInternship\\Code\\pepbench\\.venv\\Lib\\site-packages\\sklearn\\linear_model\\_coordinate_descent.py:697: ConvergenceWarning: Objective did not converge. You might want to increase the number of iterations, check the scale of the features or consider increasing regularisation. Duality gap: 8.509e+03, tolerance: 5.508e+03\n",
      "  model = cd_fast.enet_coordinate_descent(\n",
      "C:\\Users\\sebas\\Development\\ResearchInternship\\Code\\BioPsyKit\\src\\biopsykit\\classification\\model_selection\\nested_cv.py:149: UserWarning: Cannot compute confusion matrix for regression tasks.\n",
      "  warnings.warn(\"Cannot compute confusion matrix for regression tasks.\")\n"
     ]
    },
    {
     "name": "stdout",
     "output_type": "stream",
     "text": [
      "Fitting 5 folds for each of 25 candidates, totalling 125 fits\n",
      "\n",
      "\n",
      "### Running hyperparameter search for pipeline: (('scaler', 'StandardScaler'), ('reduce_dim', 'DummyFeatureSelector'), ('clf', 'RidgeRegressor')) with 1 parameter grid(s):\n",
      "Parameter grid #0 ({'search_method': 'grid'}): {'clf__alpha': [0.01, 0.1, 1, 10, 100]}\n"
     ]
    },
    {
     "name": "stderr",
     "output_type": "stream",
     "text": [
      "C:\\Users\\sebas\\Development\\ResearchInternship\\Code\\BioPsyKit\\src\\biopsykit\\classification\\model_selection\\nested_cv.py:149: UserWarning: Cannot compute confusion matrix for regression tasks.\n",
      "  warnings.warn(\"Cannot compute confusion matrix for regression tasks.\")\n"
     ]
    },
    {
     "data": {
      "application/vnd.jupyter.widget-view+json": {
       "model_id": "829c9f9b06c540328da2d0a98991f0d1",
       "version_major": 2,
       "version_minor": 0
      },
      "text/plain": [
       "Outer CV:   0%|          | 0/5 [00:00<?, ?it/s]"
      ]
     },
     "metadata": {},
     "output_type": "display_data"
    },
    {
     "name": "stderr",
     "output_type": "stream",
     "text": [
      "C:\\Users\\sebas\\Development\\ResearchInternship\\Code\\BioPsyKit\\src\\biopsykit\\classification\\model_selection\\nested_cv.py:149: UserWarning: Cannot compute confusion matrix for regression tasks.\n",
      "  warnings.warn(\"Cannot compute confusion matrix for regression tasks.\")\n",
      "C:\\Users\\sebas\\Development\\ResearchInternship\\Code\\BioPsyKit\\src\\biopsykit\\classification\\model_selection\\nested_cv.py:149: UserWarning: Cannot compute confusion matrix for regression tasks.\n",
      "  warnings.warn(\"Cannot compute confusion matrix for regression tasks.\")\n"
     ]
    },
    {
     "name": "stdout",
     "output_type": "stream",
     "text": [
      "Fitting 5 folds for each of 5 candidates, totalling 25 fits\n",
      "Fitting 5 folds for each of 5 candidates, totalling 25 fits\n",
      "Fitting 5 folds for each of 5 candidates, totalling 25 fits\n"
     ]
    },
    {
     "name": "stderr",
     "output_type": "stream",
     "text": [
      "C:\\Users\\sebas\\Development\\ResearchInternship\\Code\\BioPsyKit\\src\\biopsykit\\classification\\model_selection\\nested_cv.py:149: UserWarning: Cannot compute confusion matrix for regression tasks.\n",
      "  warnings.warn(\"Cannot compute confusion matrix for regression tasks.\")\n"
     ]
    },
    {
     "name": "stdout",
     "output_type": "stream",
     "text": [
      "Fitting 5 folds for each of 5 candidates, totalling 25 fits\n",
      "Fitting 5 folds for each of 5 candidates, totalling 25 fits\n",
      "\n",
      "\n",
      "### Running hyperparameter search for pipeline: (('scaler', 'MinMaxScaler'), ('reduce_dim', 'SelectKBest'), ('clf', 'LinearRegressor')) with 1 parameter grid(s):\n",
      "Parameter grid #0 ({'search_method': 'grid'}): {'reduce_dim__score_func': [<function f_regression at 0x000001B6630B5760>, <function mutual_info_regression at 0x000001B6630A3600>], 'reduce_dim__k': [2, 4, 6, 8, 10]}\n"
     ]
    },
    {
     "name": "stderr",
     "output_type": "stream",
     "text": [
      "C:\\Users\\sebas\\Development\\ResearchInternship\\Code\\BioPsyKit\\src\\biopsykit\\classification\\model_selection\\nested_cv.py:149: UserWarning: Cannot compute confusion matrix for regression tasks.\n",
      "  warnings.warn(\"Cannot compute confusion matrix for regression tasks.\")\n",
      "C:\\Users\\sebas\\Development\\ResearchInternship\\Code\\BioPsyKit\\src\\biopsykit\\classification\\model_selection\\nested_cv.py:149: UserWarning: Cannot compute confusion matrix for regression tasks.\n",
      "  warnings.warn(\"Cannot compute confusion matrix for regression tasks.\")\n"
     ]
    },
    {
     "data": {
      "application/vnd.jupyter.widget-view+json": {
       "model_id": "d61f934a5b5b4c62bf030809600bfd30",
       "version_major": 2,
       "version_minor": 0
      },
      "text/plain": [
       "Outer CV:   0%|          | 0/5 [00:00<?, ?it/s]"
      ]
     },
     "metadata": {},
     "output_type": "display_data"
    },
    {
     "name": "stdout",
     "output_type": "stream",
     "text": [
      "Fitting 5 folds for each of 10 candidates, totalling 50 fits\n"
     ]
    },
    {
     "name": "stderr",
     "output_type": "stream",
     "text": [
      "C:\\Users\\sebas\\Development\\ResearchInternship\\Code\\BioPsyKit\\src\\biopsykit\\classification\\model_selection\\nested_cv.py:149: UserWarning: Cannot compute confusion matrix for regression tasks.\n",
      "  warnings.warn(\"Cannot compute confusion matrix for regression tasks.\")\n"
     ]
    },
    {
     "name": "stdout",
     "output_type": "stream",
     "text": [
      "Fitting 5 folds for each of 10 candidates, totalling 50 fits\n"
     ]
    },
    {
     "name": "stderr",
     "output_type": "stream",
     "text": [
      "C:\\Users\\sebas\\Development\\ResearchInternship\\Code\\BioPsyKit\\src\\biopsykit\\classification\\model_selection\\nested_cv.py:149: UserWarning: Cannot compute confusion matrix for regression tasks.\n",
      "  warnings.warn(\"Cannot compute confusion matrix for regression tasks.\")\n"
     ]
    },
    {
     "name": "stdout",
     "output_type": "stream",
     "text": [
      "Fitting 5 folds for each of 10 candidates, totalling 50 fits\n"
     ]
    },
    {
     "name": "stderr",
     "output_type": "stream",
     "text": [
      "C:\\Users\\sebas\\Development\\ResearchInternship\\Code\\BioPsyKit\\src\\biopsykit\\classification\\model_selection\\nested_cv.py:149: UserWarning: Cannot compute confusion matrix for regression tasks.\n",
      "  warnings.warn(\"Cannot compute confusion matrix for regression tasks.\")\n"
     ]
    },
    {
     "name": "stdout",
     "output_type": "stream",
     "text": [
      "Fitting 5 folds for each of 10 candidates, totalling 50 fits\n"
     ]
    },
    {
     "name": "stderr",
     "output_type": "stream",
     "text": [
      "C:\\Users\\sebas\\Development\\ResearchInternship\\Code\\BioPsyKit\\src\\biopsykit\\classification\\model_selection\\nested_cv.py:149: UserWarning: Cannot compute confusion matrix for regression tasks.\n",
      "  warnings.warn(\"Cannot compute confusion matrix for regression tasks.\")\n"
     ]
    },
    {
     "name": "stdout",
     "output_type": "stream",
     "text": [
      "Fitting 5 folds for each of 10 candidates, totalling 50 fits\n",
      "\n",
      "\n",
      "### Running hyperparameter search for pipeline: (('scaler', 'MinMaxScaler'), ('reduce_dim', 'SelectKBest'), ('clf', 'ElasticNetRegressor')) with 1 parameter grid(s):\n",
      "Parameter grid #0 ({'search_method': 'grid'}): {'clf__alpha': [0.01, 0.1, 1, 10, 100], 'clf__l1_ratio': [0.1, 0.3, 0.5, 0.7, 0.9], 'reduce_dim__score_func': [<function f_regression at 0x000001B6630B5760>, <function mutual_info_regression at 0x000001B6630A3600>], 'reduce_dim__k': [2, 4, 6, 8, 10]}\n"
     ]
    },
    {
     "name": "stderr",
     "output_type": "stream",
     "text": [
      "C:\\Users\\sebas\\Development\\ResearchInternship\\Code\\BioPsyKit\\src\\biopsykit\\classification\\model_selection\\nested_cv.py:149: UserWarning: Cannot compute confusion matrix for regression tasks.\n",
      "  warnings.warn(\"Cannot compute confusion matrix for regression tasks.\")\n"
     ]
    },
    {
     "data": {
      "application/vnd.jupyter.widget-view+json": {
       "model_id": "58f21e609d574cb3858e7fb5328910ab",
       "version_major": 2,
       "version_minor": 0
      },
      "text/plain": [
       "Outer CV:   0%|          | 0/5 [00:00<?, ?it/s]"
      ]
     },
     "metadata": {},
     "output_type": "display_data"
    },
    {
     "name": "stdout",
     "output_type": "stream",
     "text": [
      "Fitting 5 folds for each of 250 candidates, totalling 1250 fits\n"
     ]
    },
    {
     "name": "stderr",
     "output_type": "stream",
     "text": [
      "c:\\Users\\sebas\\Development\\ResearchInternship\\Code\\pepbench\\.venv\\Lib\\site-packages\\numpy\\ma\\core.py:2820: RuntimeWarning: invalid value encountered in cast\n",
      "  _data = np.array(data, dtype=dtype, copy=copy,\n",
      "C:\\Users\\sebas\\Development\\ResearchInternship\\Code\\BioPsyKit\\src\\biopsykit\\classification\\model_selection\\nested_cv.py:149: UserWarning: Cannot compute confusion matrix for regression tasks.\n",
      "  warnings.warn(\"Cannot compute confusion matrix for regression tasks.\")\n"
     ]
    },
    {
     "name": "stdout",
     "output_type": "stream",
     "text": [
      "Fitting 5 folds for each of 250 candidates, totalling 1250 fits\n"
     ]
    },
    {
     "name": "stderr",
     "output_type": "stream",
     "text": [
      "c:\\Users\\sebas\\Development\\ResearchInternship\\Code\\pepbench\\.venv\\Lib\\site-packages\\numpy\\ma\\core.py:2820: RuntimeWarning: invalid value encountered in cast\n",
      "  _data = np.array(data, dtype=dtype, copy=copy,\n",
      "C:\\Users\\sebas\\Development\\ResearchInternship\\Code\\BioPsyKit\\src\\biopsykit\\classification\\model_selection\\nested_cv.py:149: UserWarning: Cannot compute confusion matrix for regression tasks.\n",
      "  warnings.warn(\"Cannot compute confusion matrix for regression tasks.\")\n"
     ]
    },
    {
     "name": "stdout",
     "output_type": "stream",
     "text": [
      "Fitting 5 folds for each of 250 candidates, totalling 1250 fits\n"
     ]
    },
    {
     "name": "stderr",
     "output_type": "stream",
     "text": [
      "C:\\Users\\sebas\\Development\\ResearchInternship\\Code\\BioPsyKit\\src\\biopsykit\\classification\\model_selection\\nested_cv.py:149: UserWarning: Cannot compute confusion matrix for regression tasks.\n",
      "  warnings.warn(\"Cannot compute confusion matrix for regression tasks.\")\n"
     ]
    },
    {
     "name": "stdout",
     "output_type": "stream",
     "text": [
      "Fitting 5 folds for each of 250 candidates, totalling 1250 fits\n"
     ]
    },
    {
     "name": "stderr",
     "output_type": "stream",
     "text": [
      "c:\\Users\\sebas\\Development\\ResearchInternship\\Code\\pepbench\\.venv\\Lib\\site-packages\\numpy\\ma\\core.py:2820: RuntimeWarning: invalid value encountered in cast\n",
      "  _data = np.array(data, dtype=dtype, copy=copy,\n",
      "C:\\Users\\sebas\\Development\\ResearchInternship\\Code\\BioPsyKit\\src\\biopsykit\\classification\\model_selection\\nested_cv.py:149: UserWarning: Cannot compute confusion matrix for regression tasks.\n",
      "  warnings.warn(\"Cannot compute confusion matrix for regression tasks.\")\n"
     ]
    },
    {
     "name": "stdout",
     "output_type": "stream",
     "text": [
      "Fitting 5 folds for each of 250 candidates, totalling 1250 fits\n",
      "\n",
      "\n",
      "### Running hyperparameter search for pipeline: (('scaler', 'MinMaxScaler'), ('reduce_dim', 'SelectKBest'), ('clf', 'RidgeRegressor')) with 1 parameter grid(s):\n",
      "Parameter grid #0 ({'search_method': 'grid'}): {'clf__alpha': [0.01, 0.1, 1, 10, 100], 'reduce_dim__score_func': [<function f_regression at 0x000001B6630B5760>, <function mutual_info_regression at 0x000001B6630A3600>], 'reduce_dim__k': [2, 4, 6, 8, 10]}\n"
     ]
    },
    {
     "name": "stderr",
     "output_type": "stream",
     "text": [
      "C:\\Users\\sebas\\Development\\ResearchInternship\\Code\\BioPsyKit\\src\\biopsykit\\classification\\model_selection\\nested_cv.py:149: UserWarning: Cannot compute confusion matrix for regression tasks.\n",
      "  warnings.warn(\"Cannot compute confusion matrix for regression tasks.\")\n"
     ]
    },
    {
     "data": {
      "application/vnd.jupyter.widget-view+json": {
       "model_id": "072904f80cb04c6da018b0024e278f45",
       "version_major": 2,
       "version_minor": 0
      },
      "text/plain": [
       "Outer CV:   0%|          | 0/5 [00:00<?, ?it/s]"
      ]
     },
     "metadata": {},
     "output_type": "display_data"
    },
    {
     "name": "stdout",
     "output_type": "stream",
     "text": [
      "Fitting 5 folds for each of 50 candidates, totalling 250 fits\n"
     ]
    },
    {
     "name": "stderr",
     "output_type": "stream",
     "text": [
      "C:\\Users\\sebas\\Development\\ResearchInternship\\Code\\BioPsyKit\\src\\biopsykit\\classification\\model_selection\\nested_cv.py:149: UserWarning: Cannot compute confusion matrix for regression tasks.\n",
      "  warnings.warn(\"Cannot compute confusion matrix for regression tasks.\")\n"
     ]
    },
    {
     "name": "stdout",
     "output_type": "stream",
     "text": [
      "Fitting 5 folds for each of 50 candidates, totalling 250 fits\n"
     ]
    },
    {
     "name": "stderr",
     "output_type": "stream",
     "text": [
      "C:\\Users\\sebas\\Development\\ResearchInternship\\Code\\BioPsyKit\\src\\biopsykit\\classification\\model_selection\\nested_cv.py:149: UserWarning: Cannot compute confusion matrix for regression tasks.\n",
      "  warnings.warn(\"Cannot compute confusion matrix for regression tasks.\")\n"
     ]
    },
    {
     "name": "stdout",
     "output_type": "stream",
     "text": [
      "Fitting 5 folds for each of 50 candidates, totalling 250 fits\n"
     ]
    },
    {
     "name": "stderr",
     "output_type": "stream",
     "text": [
      "C:\\Users\\sebas\\Development\\ResearchInternship\\Code\\BioPsyKit\\src\\biopsykit\\classification\\model_selection\\nested_cv.py:149: UserWarning: Cannot compute confusion matrix for regression tasks.\n",
      "  warnings.warn(\"Cannot compute confusion matrix for regression tasks.\")\n"
     ]
    },
    {
     "name": "stdout",
     "output_type": "stream",
     "text": [
      "Fitting 5 folds for each of 50 candidates, totalling 250 fits\n"
     ]
    },
    {
     "name": "stderr",
     "output_type": "stream",
     "text": [
      "C:\\Users\\sebas\\Development\\ResearchInternship\\Code\\BioPsyKit\\src\\biopsykit\\classification\\model_selection\\nested_cv.py:149: UserWarning: Cannot compute confusion matrix for regression tasks.\n",
      "  warnings.warn(\"Cannot compute confusion matrix for regression tasks.\")\n"
     ]
    },
    {
     "name": "stdout",
     "output_type": "stream",
     "text": [
      "Fitting 5 folds for each of 50 candidates, totalling 250 fits\n",
      "\n",
      "\n",
      "### Running hyperparameter search for pipeline: (('scaler', 'MinMaxScaler'), ('reduce_dim', 'RFE'), ('clf', 'LinearRegressor')) with 1 parameter grid(s):\n",
      "Parameter grid #0 ({'search_method': 'grid'}): {'reduce_dim__n_features_to_select': [0.4, 0.5, 0.6], 'reduce_dim__step': [1, 2, 3]}\n"
     ]
    },
    {
     "name": "stderr",
     "output_type": "stream",
     "text": [
      "C:\\Users\\sebas\\Development\\ResearchInternship\\Code\\BioPsyKit\\src\\biopsykit\\classification\\model_selection\\nested_cv.py:149: UserWarning: Cannot compute confusion matrix for regression tasks.\n",
      "  warnings.warn(\"Cannot compute confusion matrix for regression tasks.\")\n"
     ]
    },
    {
     "data": {
      "application/vnd.jupyter.widget-view+json": {
       "model_id": "d6c2e8f7396f47f084966606095052dc",
       "version_major": 2,
       "version_minor": 0
      },
      "text/plain": [
       "Outer CV:   0%|          | 0/5 [00:00<?, ?it/s]"
      ]
     },
     "metadata": {},
     "output_type": "display_data"
    },
    {
     "name": "stdout",
     "output_type": "stream",
     "text": [
      "Fitting 5 folds for each of 9 candidates, totalling 45 fits\n"
     ]
    },
    {
     "name": "stderr",
     "output_type": "stream",
     "text": [
      "C:\\Users\\sebas\\Development\\ResearchInternship\\Code\\BioPsyKit\\src\\biopsykit\\classification\\model_selection\\nested_cv.py:149: UserWarning: Cannot compute confusion matrix for regression tasks.\n",
      "  warnings.warn(\"Cannot compute confusion matrix for regression tasks.\")\n"
     ]
    },
    {
     "name": "stdout",
     "output_type": "stream",
     "text": [
      "Fitting 5 folds for each of 9 candidates, totalling 45 fits\n"
     ]
    },
    {
     "name": "stderr",
     "output_type": "stream",
     "text": [
      "C:\\Users\\sebas\\Development\\ResearchInternship\\Code\\BioPsyKit\\src\\biopsykit\\classification\\model_selection\\nested_cv.py:149: UserWarning: Cannot compute confusion matrix for regression tasks.\n",
      "  warnings.warn(\"Cannot compute confusion matrix for regression tasks.\")\n"
     ]
    },
    {
     "name": "stdout",
     "output_type": "stream",
     "text": [
      "Fitting 5 folds for each of 9 candidates, totalling 45 fits\n"
     ]
    },
    {
     "name": "stderr",
     "output_type": "stream",
     "text": [
      "C:\\Users\\sebas\\Development\\ResearchInternship\\Code\\BioPsyKit\\src\\biopsykit\\classification\\model_selection\\nested_cv.py:149: UserWarning: Cannot compute confusion matrix for regression tasks.\n",
      "  warnings.warn(\"Cannot compute confusion matrix for regression tasks.\")\n"
     ]
    },
    {
     "name": "stdout",
     "output_type": "stream",
     "text": [
      "Fitting 5 folds for each of 9 candidates, totalling 45 fits\n"
     ]
    },
    {
     "name": "stderr",
     "output_type": "stream",
     "text": [
      "C:\\Users\\sebas\\Development\\ResearchInternship\\Code\\BioPsyKit\\src\\biopsykit\\classification\\model_selection\\nested_cv.py:149: UserWarning: Cannot compute confusion matrix for regression tasks.\n",
      "  warnings.warn(\"Cannot compute confusion matrix for regression tasks.\")\n"
     ]
    },
    {
     "name": "stdout",
     "output_type": "stream",
     "text": [
      "Fitting 5 folds for each of 9 candidates, totalling 45 fits\n",
      "\n",
      "\n",
      "### Running hyperparameter search for pipeline: (('scaler', 'MinMaxScaler'), ('reduce_dim', 'RFE'), ('clf', 'ElasticNetRegressor')) with 1 parameter grid(s):\n",
      "Parameter grid #0 ({'search_method': 'grid'}): {'clf__alpha': [0.01, 0.1, 1, 10, 100], 'clf__l1_ratio': [0.1, 0.3, 0.5, 0.7, 0.9], 'reduce_dim__n_features_to_select': [0.4, 0.5, 0.6], 'reduce_dim__step': [1, 2, 3]}\n"
     ]
    },
    {
     "name": "stderr",
     "output_type": "stream",
     "text": [
      "C:\\Users\\sebas\\Development\\ResearchInternship\\Code\\BioPsyKit\\src\\biopsykit\\classification\\model_selection\\nested_cv.py:149: UserWarning: Cannot compute confusion matrix for regression tasks.\n",
      "  warnings.warn(\"Cannot compute confusion matrix for regression tasks.\")\n"
     ]
    },
    {
     "data": {
      "application/vnd.jupyter.widget-view+json": {
       "model_id": "141d9fceb22247b1ae73335876fd9caf",
       "version_major": 2,
       "version_minor": 0
      },
      "text/plain": [
       "Outer CV:   0%|          | 0/5 [00:00<?, ?it/s]"
      ]
     },
     "metadata": {},
     "output_type": "display_data"
    },
    {
     "name": "stdout",
     "output_type": "stream",
     "text": [
      "Fitting 5 folds for each of 225 candidates, totalling 1125 fits\n"
     ]
    },
    {
     "name": "stderr",
     "output_type": "stream",
     "text": [
      "C:\\Users\\sebas\\Development\\ResearchInternship\\Code\\BioPsyKit\\src\\biopsykit\\classification\\model_selection\\nested_cv.py:149: UserWarning: Cannot compute confusion matrix for regression tasks.\n",
      "  warnings.warn(\"Cannot compute confusion matrix for regression tasks.\")\n"
     ]
    },
    {
     "name": "stdout",
     "output_type": "stream",
     "text": [
      "Fitting 5 folds for each of 225 candidates, totalling 1125 fits\n"
     ]
    },
    {
     "name": "stderr",
     "output_type": "stream",
     "text": [
      "C:\\Users\\sebas\\Development\\ResearchInternship\\Code\\BioPsyKit\\src\\biopsykit\\classification\\model_selection\\nested_cv.py:149: UserWarning: Cannot compute confusion matrix for regression tasks.\n",
      "  warnings.warn(\"Cannot compute confusion matrix for regression tasks.\")\n"
     ]
    },
    {
     "name": "stdout",
     "output_type": "stream",
     "text": [
      "Fitting 5 folds for each of 225 candidates, totalling 1125 fits\n"
     ]
    },
    {
     "name": "stderr",
     "output_type": "stream",
     "text": [
      "c:\\Users\\sebas\\Development\\ResearchInternship\\Code\\pepbench\\.venv\\Lib\\site-packages\\numpy\\ma\\core.py:2820: RuntimeWarning: invalid value encountered in cast\n",
      "  _data = np.array(data, dtype=dtype, copy=copy,\n",
      "C:\\Users\\sebas\\Development\\ResearchInternship\\Code\\BioPsyKit\\src\\biopsykit\\classification\\model_selection\\nested_cv.py:149: UserWarning: Cannot compute confusion matrix for regression tasks.\n",
      "  warnings.warn(\"Cannot compute confusion matrix for regression tasks.\")\n"
     ]
    },
    {
     "name": "stdout",
     "output_type": "stream",
     "text": [
      "Fitting 5 folds for each of 225 candidates, totalling 1125 fits\n"
     ]
    },
    {
     "name": "stderr",
     "output_type": "stream",
     "text": [
      "C:\\Users\\sebas\\Development\\ResearchInternship\\Code\\BioPsyKit\\src\\biopsykit\\classification\\model_selection\\nested_cv.py:149: UserWarning: Cannot compute confusion matrix for regression tasks.\n",
      "  warnings.warn(\"Cannot compute confusion matrix for regression tasks.\")\n"
     ]
    },
    {
     "name": "stdout",
     "output_type": "stream",
     "text": [
      "Fitting 5 folds for each of 225 candidates, totalling 1125 fits\n"
     ]
    },
    {
     "name": "stderr",
     "output_type": "stream",
     "text": [
      "c:\\Users\\sebas\\Development\\ResearchInternship\\Code\\pepbench\\.venv\\Lib\\site-packages\\numpy\\ma\\core.py:2820: RuntimeWarning: invalid value encountered in cast\n",
      "  _data = np.array(data, dtype=dtype, copy=copy,\n"
     ]
    },
    {
     "name": "stdout",
     "output_type": "stream",
     "text": [
      "\n",
      "\n",
      "### Running hyperparameter search for pipeline: (('scaler', 'MinMaxScaler'), ('reduce_dim', 'RFE'), ('clf', 'RidgeRegressor')) with 1 parameter grid(s):\n",
      "Parameter grid #0 ({'search_method': 'grid'}): {'clf__alpha': [0.01, 0.1, 1, 10, 100], 'reduce_dim__n_features_to_select': [0.4, 0.5, 0.6], 'reduce_dim__step': [1, 2, 3]}\n"
     ]
    },
    {
     "name": "stderr",
     "output_type": "stream",
     "text": [
      "C:\\Users\\sebas\\Development\\ResearchInternship\\Code\\BioPsyKit\\src\\biopsykit\\classification\\model_selection\\nested_cv.py:149: UserWarning: Cannot compute confusion matrix for regression tasks.\n",
      "  warnings.warn(\"Cannot compute confusion matrix for regression tasks.\")\n"
     ]
    },
    {
     "data": {
      "application/vnd.jupyter.widget-view+json": {
       "model_id": "8395586c8a484946b14c673f33a437bb",
       "version_major": 2,
       "version_minor": 0
      },
      "text/plain": [
       "Outer CV:   0%|          | 0/5 [00:00<?, ?it/s]"
      ]
     },
     "metadata": {},
     "output_type": "display_data"
    },
    {
     "name": "stdout",
     "output_type": "stream",
     "text": [
      "Fitting 5 folds for each of 45 candidates, totalling 225 fits\n"
     ]
    },
    {
     "name": "stderr",
     "output_type": "stream",
     "text": [
      "C:\\Users\\sebas\\Development\\ResearchInternship\\Code\\BioPsyKit\\src\\biopsykit\\classification\\model_selection\\nested_cv.py:149: UserWarning: Cannot compute confusion matrix for regression tasks.\n",
      "  warnings.warn(\"Cannot compute confusion matrix for regression tasks.\")\n"
     ]
    },
    {
     "name": "stdout",
     "output_type": "stream",
     "text": [
      "Fitting 5 folds for each of 45 candidates, totalling 225 fits\n"
     ]
    },
    {
     "name": "stderr",
     "output_type": "stream",
     "text": [
      "C:\\Users\\sebas\\Development\\ResearchInternship\\Code\\BioPsyKit\\src\\biopsykit\\classification\\model_selection\\nested_cv.py:149: UserWarning: Cannot compute confusion matrix for regression tasks.\n",
      "  warnings.warn(\"Cannot compute confusion matrix for regression tasks.\")\n"
     ]
    },
    {
     "name": "stdout",
     "output_type": "stream",
     "text": [
      "Fitting 5 folds for each of 45 candidates, totalling 225 fits\n"
     ]
    },
    {
     "name": "stderr",
     "output_type": "stream",
     "text": [
      "C:\\Users\\sebas\\Development\\ResearchInternship\\Code\\BioPsyKit\\src\\biopsykit\\classification\\model_selection\\nested_cv.py:149: UserWarning: Cannot compute confusion matrix for regression tasks.\n",
      "  warnings.warn(\"Cannot compute confusion matrix for regression tasks.\")\n"
     ]
    },
    {
     "name": "stdout",
     "output_type": "stream",
     "text": [
      "Fitting 5 folds for each of 45 candidates, totalling 225 fits\n"
     ]
    },
    {
     "name": "stderr",
     "output_type": "stream",
     "text": [
      "C:\\Users\\sebas\\Development\\ResearchInternship\\Code\\BioPsyKit\\src\\biopsykit\\classification\\model_selection\\nested_cv.py:149: UserWarning: Cannot compute confusion matrix for regression tasks.\n",
      "  warnings.warn(\"Cannot compute confusion matrix for regression tasks.\")\n"
     ]
    },
    {
     "name": "stdout",
     "output_type": "stream",
     "text": [
      "Fitting 5 folds for each of 45 candidates, totalling 225 fits\n",
      "\n",
      "\n",
      "### Running hyperparameter search for pipeline: (('scaler', 'MinMaxScaler'), ('reduce_dim', 'DummyFeatureSelector'), ('clf', 'LinearRegressor')) with 1 parameter grid(s):\n",
      "Parameter grid #0 ({'search_method': 'grid'}): {}\n"
     ]
    },
    {
     "name": "stderr",
     "output_type": "stream",
     "text": [
      "C:\\Users\\sebas\\Development\\ResearchInternship\\Code\\BioPsyKit\\src\\biopsykit\\classification\\model_selection\\nested_cv.py:149: UserWarning: Cannot compute confusion matrix for regression tasks.\n",
      "  warnings.warn(\"Cannot compute confusion matrix for regression tasks.\")\n"
     ]
    },
    {
     "data": {
      "application/vnd.jupyter.widget-view+json": {
       "model_id": "72e3e229935a430eacb9df91f65b33ae",
       "version_major": 2,
       "version_minor": 0
      },
      "text/plain": [
       "Outer CV:   0%|          | 0/5 [00:00<?, ?it/s]"
      ]
     },
     "metadata": {},
     "output_type": "display_data"
    },
    {
     "name": "stderr",
     "output_type": "stream",
     "text": [
      "C:\\Users\\sebas\\Development\\ResearchInternship\\Code\\BioPsyKit\\src\\biopsykit\\classification\\model_selection\\nested_cv.py:149: UserWarning: Cannot compute confusion matrix for regression tasks.\n",
      "  warnings.warn(\"Cannot compute confusion matrix for regression tasks.\")\n",
      "C:\\Users\\sebas\\Development\\ResearchInternship\\Code\\BioPsyKit\\src\\biopsykit\\classification\\model_selection\\nested_cv.py:149: UserWarning: Cannot compute confusion matrix for regression tasks.\n",
      "  warnings.warn(\"Cannot compute confusion matrix for regression tasks.\")\n",
      "C:\\Users\\sebas\\Development\\ResearchInternship\\Code\\BioPsyKit\\src\\biopsykit\\classification\\model_selection\\nested_cv.py:149: UserWarning: Cannot compute confusion matrix for regression tasks.\n",
      "  warnings.warn(\"Cannot compute confusion matrix for regression tasks.\")\n"
     ]
    },
    {
     "name": "stdout",
     "output_type": "stream",
     "text": [
      "Fitting 5 folds for each of 1 candidates, totalling 5 fits\n",
      "Fitting 5 folds for each of 1 candidates, totalling 5 fits\n",
      "Fitting 5 folds for each of 1 candidates, totalling 5 fits\n",
      "Fitting 5 folds for each of 1 candidates, totalling 5 fits\n",
      "Fitting 5 folds for each of 1 candidates, totalling 5 fits\n",
      "\n",
      "\n",
      "### Running hyperparameter search for pipeline: (('scaler', 'MinMaxScaler'), ('reduce_dim', 'DummyFeatureSelector'), ('clf', 'ElasticNetRegressor')) with 1 parameter grid(s):\n",
      "Parameter grid #0 ({'search_method': 'grid'}): {'clf__alpha': [0.01, 0.1, 1, 10, 100], 'clf__l1_ratio': [0.1, 0.3, 0.5, 0.7, 0.9]}\n"
     ]
    },
    {
     "name": "stderr",
     "output_type": "stream",
     "text": [
      "C:\\Users\\sebas\\Development\\ResearchInternship\\Code\\BioPsyKit\\src\\biopsykit\\classification\\model_selection\\nested_cv.py:149: UserWarning: Cannot compute confusion matrix for regression tasks.\n",
      "  warnings.warn(\"Cannot compute confusion matrix for regression tasks.\")\n",
      "C:\\Users\\sebas\\Development\\ResearchInternship\\Code\\BioPsyKit\\src\\biopsykit\\classification\\model_selection\\nested_cv.py:149: UserWarning: Cannot compute confusion matrix for regression tasks.\n",
      "  warnings.warn(\"Cannot compute confusion matrix for regression tasks.\")\n"
     ]
    },
    {
     "data": {
      "application/vnd.jupyter.widget-view+json": {
       "model_id": "18d6e14da85c4d33bb9c4681c27094cf",
       "version_major": 2,
       "version_minor": 0
      },
      "text/plain": [
       "Outer CV:   0%|          | 0/5 [00:00<?, ?it/s]"
      ]
     },
     "metadata": {},
     "output_type": "display_data"
    },
    {
     "name": "stdout",
     "output_type": "stream",
     "text": [
      "Fitting 5 folds for each of 25 candidates, totalling 125 fits\n"
     ]
    },
    {
     "name": "stderr",
     "output_type": "stream",
     "text": [
      "C:\\Users\\sebas\\Development\\ResearchInternship\\Code\\BioPsyKit\\src\\biopsykit\\classification\\model_selection\\nested_cv.py:149: UserWarning: Cannot compute confusion matrix for regression tasks.\n",
      "  warnings.warn(\"Cannot compute confusion matrix for regression tasks.\")\n"
     ]
    },
    {
     "name": "stdout",
     "output_type": "stream",
     "text": [
      "Fitting 5 folds for each of 25 candidates, totalling 125 fits\n"
     ]
    },
    {
     "name": "stderr",
     "output_type": "stream",
     "text": [
      "C:\\Users\\sebas\\Development\\ResearchInternship\\Code\\BioPsyKit\\src\\biopsykit\\classification\\model_selection\\nested_cv.py:149: UserWarning: Cannot compute confusion matrix for regression tasks.\n",
      "  warnings.warn(\"Cannot compute confusion matrix for regression tasks.\")\n"
     ]
    },
    {
     "name": "stdout",
     "output_type": "stream",
     "text": [
      "Fitting 5 folds for each of 25 candidates, totalling 125 fits\n"
     ]
    },
    {
     "name": "stderr",
     "output_type": "stream",
     "text": [
      "C:\\Users\\sebas\\Development\\ResearchInternship\\Code\\BioPsyKit\\src\\biopsykit\\classification\\model_selection\\nested_cv.py:149: UserWarning: Cannot compute confusion matrix for regression tasks.\n",
      "  warnings.warn(\"Cannot compute confusion matrix for regression tasks.\")\n"
     ]
    },
    {
     "name": "stdout",
     "output_type": "stream",
     "text": [
      "Fitting 5 folds for each of 25 candidates, totalling 125 fits\n"
     ]
    },
    {
     "name": "stderr",
     "output_type": "stream",
     "text": [
      "C:\\Users\\sebas\\Development\\ResearchInternship\\Code\\BioPsyKit\\src\\biopsykit\\classification\\model_selection\\nested_cv.py:149: UserWarning: Cannot compute confusion matrix for regression tasks.\n",
      "  warnings.warn(\"Cannot compute confusion matrix for regression tasks.\")\n"
     ]
    },
    {
     "name": "stdout",
     "output_type": "stream",
     "text": [
      "Fitting 5 folds for each of 25 candidates, totalling 125 fits\n",
      "\n",
      "\n",
      "### Running hyperparameter search for pipeline: (('scaler', 'MinMaxScaler'), ('reduce_dim', 'DummyFeatureSelector'), ('clf', 'RidgeRegressor')) with 1 parameter grid(s):\n",
      "Parameter grid #0 ({'search_method': 'grid'}): {'clf__alpha': [0.01, 0.1, 1, 10, 100]}\n"
     ]
    },
    {
     "name": "stderr",
     "output_type": "stream",
     "text": [
      "C:\\Users\\sebas\\Development\\ResearchInternship\\Code\\BioPsyKit\\src\\biopsykit\\classification\\model_selection\\nested_cv.py:149: UserWarning: Cannot compute confusion matrix for regression tasks.\n",
      "  warnings.warn(\"Cannot compute confusion matrix for regression tasks.\")\n"
     ]
    },
    {
     "data": {
      "application/vnd.jupyter.widget-view+json": {
       "model_id": "6913d82786d541c2b9af2b02df1785ad",
       "version_major": 2,
       "version_minor": 0
      },
      "text/plain": [
       "Outer CV:   0%|          | 0/5 [00:00<?, ?it/s]"
      ]
     },
     "metadata": {},
     "output_type": "display_data"
    },
    {
     "name": "stderr",
     "output_type": "stream",
     "text": [
      "C:\\Users\\sebas\\Development\\ResearchInternship\\Code\\BioPsyKit\\src\\biopsykit\\classification\\model_selection\\nested_cv.py:149: UserWarning: Cannot compute confusion matrix for regression tasks.\n",
      "  warnings.warn(\"Cannot compute confusion matrix for regression tasks.\")\n",
      "C:\\Users\\sebas\\Development\\ResearchInternship\\Code\\BioPsyKit\\src\\biopsykit\\classification\\model_selection\\nested_cv.py:149: UserWarning: Cannot compute confusion matrix for regression tasks.\n",
      "  warnings.warn(\"Cannot compute confusion matrix for regression tasks.\")\n"
     ]
    },
    {
     "name": "stdout",
     "output_type": "stream",
     "text": [
      "Fitting 5 folds for each of 5 candidates, totalling 25 fits\n",
      "Fitting 5 folds for each of 5 candidates, totalling 25 fits\n",
      "Fitting 5 folds for each of 5 candidates, totalling 25 fits\n"
     ]
    },
    {
     "name": "stderr",
     "output_type": "stream",
     "text": [
      "C:\\Users\\sebas\\Development\\ResearchInternship\\Code\\BioPsyKit\\src\\biopsykit\\classification\\model_selection\\nested_cv.py:149: UserWarning: Cannot compute confusion matrix for regression tasks.\n",
      "  warnings.warn(\"Cannot compute confusion matrix for regression tasks.\")\n",
      "C:\\Users\\sebas\\Development\\ResearchInternship\\Code\\BioPsyKit\\src\\biopsykit\\classification\\model_selection\\nested_cv.py:149: UserWarning: Cannot compute confusion matrix for regression tasks.\n",
      "  warnings.warn(\"Cannot compute confusion matrix for regression tasks.\")\n",
      "C:\\Users\\sebas\\Development\\ResearchInternship\\Code\\BioPsyKit\\src\\biopsykit\\classification\\model_selection\\nested_cv.py:149: UserWarning: Cannot compute confusion matrix for regression tasks.\n",
      "  warnings.warn(\"Cannot compute confusion matrix for regression tasks.\")\n"
     ]
    },
    {
     "name": "stdout",
     "output_type": "stream",
     "text": [
      "Fitting 5 folds for each of 5 candidates, totalling 25 fits\n",
      "Fitting 5 folds for each of 5 candidates, totalling 25 fits\n",
      "\n",
      "\n"
     ]
    }
   ],
   "source": [
    "outer_cv = GroupKFold(n_splits=5)\n",
    "inner_cv = GroupKFold(n_splits=5)\n",
    "\n",
    "pipeline_permuter.fit(X=X, y=y, outer_cv=outer_cv, inner_cv=inner_cv, scoring=\"neg_mean_absolute_error\", groups=groups)"
   ]
  },
  {
   "cell_type": "code",
   "execution_count": 27,
   "metadata": {},
   "outputs": [
    {
     "data": {
      "text/html": [
       "<div>\n",
       "<style scoped>\n",
       "    .dataframe tbody tr th:only-of-type {\n",
       "        vertical-align: middle;\n",
       "    }\n",
       "\n",
       "    .dataframe tbody tr th {\n",
       "        vertical-align: top;\n",
       "    }\n",
       "\n",
       "    .dataframe thead th {\n",
       "        text-align: right;\n",
       "    }\n",
       "</style>\n",
       "<table border=\"1\" class=\"dataframe\">\n",
       "  <thead>\n",
       "    <tr style=\"text-align: right;\">\n",
       "      <th></th>\n",
       "      <th></th>\n",
       "      <th></th>\n",
       "      <th>true_labels</th>\n",
       "      <th>true_labels_folds</th>\n",
       "      <th>predicted_labels</th>\n",
       "      <th>predicted_labels_folds</th>\n",
       "      <th>train_indices</th>\n",
       "      <th>train_indices_folds</th>\n",
       "      <th>test_indices</th>\n",
       "      <th>test_indices_folds</th>\n",
       "      <th>mean_test_neg_mean_absolute_error</th>\n",
       "      <th>std_test_neg_mean_absolute_error</th>\n",
       "      <th>test_neg_mean_absolute_error_fold_0</th>\n",
       "      <th>test_neg_mean_absolute_error_fold_1</th>\n",
       "      <th>test_neg_mean_absolute_error_fold_2</th>\n",
       "      <th>test_neg_mean_absolute_error_fold_3</th>\n",
       "      <th>test_neg_mean_absolute_error_fold_4</th>\n",
       "    </tr>\n",
       "    <tr>\n",
       "      <th>pipeline_scaler</th>\n",
       "      <th>pipeline_reduce_dim</th>\n",
       "      <th>pipeline_clf</th>\n",
       "      <th></th>\n",
       "      <th></th>\n",
       "      <th></th>\n",
       "      <th></th>\n",
       "      <th></th>\n",
       "      <th></th>\n",
       "      <th></th>\n",
       "      <th></th>\n",
       "      <th></th>\n",
       "      <th></th>\n",
       "      <th></th>\n",
       "      <th></th>\n",
       "      <th></th>\n",
       "      <th></th>\n",
       "      <th></th>\n",
       "    </tr>\n",
       "  </thead>\n",
       "  <tbody>\n",
       "    <tr>\n",
       "      <th rowspan=\"9\" valign=\"top\">StandardScaler</th>\n",
       "      <th rowspan=\"3\" valign=\"top\">SelectKBest</th>\n",
       "      <th>LinearRegressor</th>\n",
       "      <td>[260.0, 260.0, 222.0, 220.0, 228.0, 236.0, 226...</td>\n",
       "      <td>[[260.0, 260.0, 222.0, 220.0, 228.0, 236.0, 22...</td>\n",
       "      <td>[266.2595336822087, 268.1621393151938, 226.218...</td>\n",
       "      <td>[[266.2595336822087, 268.1621393151938, 226.21...</td>\n",
       "      <td>[316, 317, 318, 319, 320, 321, 322, 323, 324, ...</td>\n",
       "      <td>[[316, 317, 318, 319, 320, 321, 322, 323, 324,...</td>\n",
       "      <td>[0, 1, 2, 3, 4, 5, 6, 7, 8, 9, 10, 11, 12, 13,...</td>\n",
       "      <td>[[0, 1, 2, 3, 4, 5, 6, 7, 8, 9, 10, 11, 12, 13...</td>\n",
       "      <td>3.330206</td>\n",
       "      <td>0.757054</td>\n",
       "      <td>3.917414</td>\n",
       "      <td>4.511707</td>\n",
       "      <td>2.532260</td>\n",
       "      <td>2.936977</td>\n",
       "      <td>2.752669</td>\n",
       "    </tr>\n",
       "    <tr>\n",
       "      <th>ElasticNetRegressor</th>\n",
       "      <td>[260.0, 260.0, 222.0, 220.0, 228.0, 236.0, 226...</td>\n",
       "      <td>[[260.0, 260.0, 222.0, 220.0, 228.0, 236.0, 22...</td>\n",
       "      <td>[266.18413886531175, 267.91841254057977, 226.3...</td>\n",
       "      <td>[[266.18413886531175, 267.91841254057977, 226....</td>\n",
       "      <td>[316, 317, 318, 319, 320, 321, 322, 323, 324, ...</td>\n",
       "      <td>[[316, 317, 318, 319, 320, 321, 322, 323, 324,...</td>\n",
       "      <td>[0, 1, 2, 3, 4, 5, 6, 7, 8, 9, 10, 11, 12, 13,...</td>\n",
       "      <td>[[0, 1, 2, 3, 4, 5, 6, 7, 8, 9, 10, 11, 12, 13...</td>\n",
       "      <td>3.312061</td>\n",
       "      <td>0.783536</td>\n",
       "      <td>3.823330</td>\n",
       "      <td>4.594794</td>\n",
       "      <td>2.469095</td>\n",
       "      <td>2.833620</td>\n",
       "      <td>2.839466</td>\n",
       "    </tr>\n",
       "    <tr>\n",
       "      <th>RidgeRegressor</th>\n",
       "      <td>[260.0, 260.0, 222.0, 220.0, 228.0, 236.0, 226...</td>\n",
       "      <td>[[260.0, 260.0, 222.0, 220.0, 228.0, 236.0, 22...</td>\n",
       "      <td>[266.2296027760496, 268.05962917099976, 226.28...</td>\n",
       "      <td>[[266.2296027760496, 268.05962917099976, 226.2...</td>\n",
       "      <td>[316, 317, 318, 319, 320, 321, 322, 323, 324, ...</td>\n",
       "      <td>[[316, 317, 318, 319, 320, 321, 322, 323, 324,...</td>\n",
       "      <td>[0, 1, 2, 3, 4, 5, 6, 7, 8, 9, 10, 11, 12, 13,...</td>\n",
       "      <td>[[0, 1, 2, 3, 4, 5, 6, 7, 8, 9, 10, 11, 12, 13...</td>\n",
       "      <td>3.309016</td>\n",
       "      <td>0.762966</td>\n",
       "      <td>3.870164</td>\n",
       "      <td>4.511821</td>\n",
       "      <td>2.460958</td>\n",
       "      <td>2.922914</td>\n",
       "      <td>2.779224</td>\n",
       "    </tr>\n",
       "    <tr>\n",
       "      <th rowspan=\"3\" valign=\"top\">RFE</th>\n",
       "      <th>LinearRegressor</th>\n",
       "      <td>[260.0, 260.0, 222.0, 220.0, 228.0, 236.0, 226...</td>\n",
       "      <td>[[260.0, 260.0, 222.0, 220.0, 228.0, 236.0, 22...</td>\n",
       "      <td>[266.2871479318242, 267.6609138836928, 227.575...</td>\n",
       "      <td>[[266.2871479318242, 267.6609138836928, 227.57...</td>\n",
       "      <td>[316, 317, 318, 319, 320, 321, 322, 323, 324, ...</td>\n",
       "      <td>[[316, 317, 318, 319, 320, 321, 322, 323, 324,...</td>\n",
       "      <td>[0, 1, 2, 3, 4, 5, 6, 7, 8, 9, 10, 11, 12, 13,...</td>\n",
       "      <td>[[0, 1, 2, 3, 4, 5, 6, 7, 8, 9, 10, 11, 12, 13...</td>\n",
       "      <td>3.757041</td>\n",
       "      <td>0.932850</td>\n",
       "      <td>4.119654</td>\n",
       "      <td>5.102293</td>\n",
       "      <td>2.574206</td>\n",
       "      <td>4.155178</td>\n",
       "      <td>2.833872</td>\n",
       "    </tr>\n",
       "    <tr>\n",
       "      <th>ElasticNetRegressor</th>\n",
       "      <td>[260.0, 260.0, 222.0, 220.0, 228.0, 236.0, 226...</td>\n",
       "      <td>[[260.0, 260.0, 222.0, 220.0, 228.0, 236.0, 22...</td>\n",
       "      <td>[265.98085324242305, 266.7594852595584, 228.61...</td>\n",
       "      <td>[[265.98085324242305, 266.7594852595584, 228.6...</td>\n",
       "      <td>[316, 317, 318, 319, 320, 321, 322, 323, 324, ...</td>\n",
       "      <td>[[316, 317, 318, 319, 320, 321, 322, 323, 324,...</td>\n",
       "      <td>[0, 1, 2, 3, 4, 5, 6, 7, 8, 9, 10, 11, 12, 13,...</td>\n",
       "      <td>[[0, 1, 2, 3, 4, 5, 6, 7, 8, 9, 10, 11, 12, 13...</td>\n",
       "      <td>3.837134</td>\n",
       "      <td>0.951108</td>\n",
       "      <td>4.288469</td>\n",
       "      <td>5.242182</td>\n",
       "      <td>2.595018</td>\n",
       "      <td>4.083922</td>\n",
       "      <td>2.976078</td>\n",
       "    </tr>\n",
       "    <tr>\n",
       "      <th>RidgeRegressor</th>\n",
       "      <td>[260.0, 260.0, 222.0, 220.0, 228.0, 236.0, 226...</td>\n",
       "      <td>[[260.0, 260.0, 222.0, 220.0, 228.0, 236.0, 22...</td>\n",
       "      <td>[266.2871346382257, 267.66066717410666, 227.57...</td>\n",
       "      <td>[[266.2871346382257, 267.66066717410666, 227.5...</td>\n",
       "      <td>[316, 317, 318, 319, 320, 321, 322, 323, 324, ...</td>\n",
       "      <td>[[316, 317, 318, 319, 320, 321, 322, 323, 324,...</td>\n",
       "      <td>[0, 1, 2, 3, 4, 5, 6, 7, 8, 9, 10, 11, 12, 13,...</td>\n",
       "      <td>[[0, 1, 2, 3, 4, 5, 6, 7, 8, 9, 10, 11, 12, 13...</td>\n",
       "      <td>3.775262</td>\n",
       "      <td>0.902513</td>\n",
       "      <td>4.119739</td>\n",
       "      <td>5.102561</td>\n",
       "      <td>2.574249</td>\n",
       "      <td>4.105132</td>\n",
       "      <td>2.974627</td>\n",
       "    </tr>\n",
       "    <tr>\n",
       "      <th rowspan=\"3\" valign=\"top\">DummyFeatureSelector</th>\n",
       "      <th>LinearRegressor</th>\n",
       "      <td>[260.0, 260.0, 222.0, 220.0, 228.0, 236.0, 226...</td>\n",
       "      <td>[[260.0, 260.0, 222.0, 220.0, 228.0, 236.0, 22...</td>\n",
       "      <td>[266.2891198718378, 267.59949380049784, 227.56...</td>\n",
       "      <td>[[266.2891198718378, 267.59949380049784, 227.5...</td>\n",
       "      <td>[316, 317, 318, 319, 320, 321, 322, 323, 324, ...</td>\n",
       "      <td>[[316, 317, 318, 319, 320, 321, 322, 323, 324,...</td>\n",
       "      <td>[0, 1, 2, 3, 4, 5, 6, 7, 8, 9, 10, 11, 12, 13,...</td>\n",
       "      <td>[[0, 1, 2, 3, 4, 5, 6, 7, 8, 9, 10, 11, 12, 13...</td>\n",
       "      <td>3.760605</td>\n",
       "      <td>0.931500</td>\n",
       "      <td>4.116792</td>\n",
       "      <td>5.101517</td>\n",
       "      <td>2.583460</td>\n",
       "      <td>4.168720</td>\n",
       "      <td>2.832534</td>\n",
       "    </tr>\n",
       "    <tr>\n",
       "      <th>ElasticNetRegressor</th>\n",
       "      <td>[260.0, 260.0, 222.0, 220.0, 228.0, 236.0, 226...</td>\n",
       "      <td>[[260.0, 260.0, 222.0, 220.0, 228.0, 236.0, 22...</td>\n",
       "      <td>[266.2800687441125, 267.36973381650154, 228.15...</td>\n",
       "      <td>[[266.2800687441125, 267.36973381650154, 228.1...</td>\n",
       "      <td>[316, 317, 318, 319, 320, 321, 322, 323, 324, ...</td>\n",
       "      <td>[[316, 317, 318, 319, 320, 321, 322, 323, 324,...</td>\n",
       "      <td>[0, 1, 2, 3, 4, 5, 6, 7, 8, 9, 10, 11, 12, 13,...</td>\n",
       "      <td>[[0, 1, 2, 3, 4, 5, 6, 7, 8, 9, 10, 11, 12, 13...</td>\n",
       "      <td>3.943395</td>\n",
       "      <td>0.996654</td>\n",
       "      <td>4.249597</td>\n",
       "      <td>5.396331</td>\n",
       "      <td>2.729212</td>\n",
       "      <td>4.425598</td>\n",
       "      <td>2.916235</td>\n",
       "    </tr>\n",
       "    <tr>\n",
       "      <th>RidgeRegressor</th>\n",
       "      <td>[260.0, 260.0, 222.0, 220.0, 228.0, 236.0, 226...</td>\n",
       "      <td>[[260.0, 260.0, 222.0, 220.0, 228.0, 236.0, 22...</td>\n",
       "      <td>[266.2891106572623, 267.59918237140107, 227.56...</td>\n",
       "      <td>[[266.2891106572623, 267.59918237140107, 227.5...</td>\n",
       "      <td>[316, 317, 318, 319, 320, 321, 322, 323, 324, ...</td>\n",
       "      <td>[[316, 317, 318, 319, 320, 321, 322, 323, 324,...</td>\n",
       "      <td>[0, 1, 2, 3, 4, 5, 6, 7, 8, 9, 10, 11, 12, 13,...</td>\n",
       "      <td>[[0, 1, 2, 3, 4, 5, 6, 7, 8, 9, 10, 11, 12, 13...</td>\n",
       "      <td>3.760820</td>\n",
       "      <td>0.931615</td>\n",
       "      <td>4.116949</td>\n",
       "      <td>5.101942</td>\n",
       "      <td>2.583556</td>\n",
       "      <td>4.169017</td>\n",
       "      <td>2.832637</td>\n",
       "    </tr>\n",
       "    <tr>\n",
       "      <th rowspan=\"9\" valign=\"top\">MinMaxScaler</th>\n",
       "      <th rowspan=\"3\" valign=\"top\">SelectKBest</th>\n",
       "      <th>LinearRegressor</th>\n",
       "      <td>[260.0, 260.0, 222.0, 220.0, 228.0, 236.0, 226...</td>\n",
       "      <td>[[260.0, 260.0, 222.0, 220.0, 228.0, 236.0, 22...</td>\n",
       "      <td>[266.25953368220866, 268.1621393151937, 226.21...</td>\n",
       "      <td>[[266.25953368220866, 268.1621393151937, 226.2...</td>\n",
       "      <td>[316, 317, 318, 319, 320, 321, 322, 323, 324, ...</td>\n",
       "      <td>[[316, 317, 318, 319, 320, 321, 322, 323, 324,...</td>\n",
       "      <td>[0, 1, 2, 3, 4, 5, 6, 7, 8, 9, 10, 11, 12, 13,...</td>\n",
       "      <td>[[0, 1, 2, 3, 4, 5, 6, 7, 8, 9, 10, 11, 12, 13...</td>\n",
       "      <td>3.330206</td>\n",
       "      <td>0.757054</td>\n",
       "      <td>3.917414</td>\n",
       "      <td>4.511707</td>\n",
       "      <td>2.532260</td>\n",
       "      <td>2.936977</td>\n",
       "      <td>2.752669</td>\n",
       "    </tr>\n",
       "    <tr>\n",
       "      <th>ElasticNetRegressor</th>\n",
       "      <td>[260.0, 260.0, 222.0, 220.0, 228.0, 236.0, 226...</td>\n",
       "      <td>[[260.0, 260.0, 222.0, 220.0, 228.0, 236.0, 22...</td>\n",
       "      <td>[265.6017483946767, 266.6498167153364, 227.279...</td>\n",
       "      <td>[[265.6017483946767, 266.6498167153364, 227.27...</td>\n",
       "      <td>[316, 317, 318, 319, 320, 321, 322, 323, 324, ...</td>\n",
       "      <td>[[316, 317, 318, 319, 320, 321, 322, 323, 324,...</td>\n",
       "      <td>[0, 1, 2, 3, 4, 5, 6, 7, 8, 9, 10, 11, 12, 13,...</td>\n",
       "      <td>[[0, 1, 2, 3, 4, 5, 6, 7, 8, 9, 10, 11, 12, 13...</td>\n",
       "      <td>4.283086</td>\n",
       "      <td>0.928306</td>\n",
       "      <td>4.622737</td>\n",
       "      <td>5.793363</td>\n",
       "      <td>3.135891</td>\n",
       "      <td>4.349742</td>\n",
       "      <td>3.513698</td>\n",
       "    </tr>\n",
       "    <tr>\n",
       "      <th>RidgeRegressor</th>\n",
       "      <td>[260.0, 260.0, 222.0, 220.0, 228.0, 236.0, 226...</td>\n",
       "      <td>[[260.0, 260.0, 222.0, 220.0, 228.0, 236.0, 22...</td>\n",
       "      <td>[266.1350397229444, 267.75124391575196, 226.50...</td>\n",
       "      <td>[[266.1350397229444, 267.75124391575196, 226.5...</td>\n",
       "      <td>[316, 317, 318, 319, 320, 321, 322, 323, 324, ...</td>\n",
       "      <td>[[316, 317, 318, 319, 320, 321, 322, 323, 324,...</td>\n",
       "      <td>[0, 1, 2, 3, 4, 5, 6, 7, 8, 9, 10, 11, 12, 13,...</td>\n",
       "      <td>[[0, 1, 2, 3, 4, 5, 6, 7, 8, 9, 10, 11, 12, 13...</td>\n",
       "      <td>3.330380</td>\n",
       "      <td>0.728716</td>\n",
       "      <td>3.799420</td>\n",
       "      <td>4.515163</td>\n",
       "      <td>2.496871</td>\n",
       "      <td>2.930946</td>\n",
       "      <td>2.909503</td>\n",
       "    </tr>\n",
       "    <tr>\n",
       "      <th rowspan=\"3\" valign=\"top\">RFE</th>\n",
       "      <th>LinearRegressor</th>\n",
       "      <td>[260.0, 260.0, 222.0, 220.0, 228.0, 236.0, 226...</td>\n",
       "      <td>[[260.0, 260.0, 222.0, 220.0, 228.0, 236.0, 22...</td>\n",
       "      <td>[266.28714793182417, 267.66091388369273, 227.5...</td>\n",
       "      <td>[[266.28714793182417, 267.66091388369273, 227....</td>\n",
       "      <td>[316, 317, 318, 319, 320, 321, 322, 323, 324, ...</td>\n",
       "      <td>[[316, 317, 318, 319, 320, 321, 322, 323, 324,...</td>\n",
       "      <td>[0, 1, 2, 3, 4, 5, 6, 7, 8, 9, 10, 11, 12, 13,...</td>\n",
       "      <td>[[0, 1, 2, 3, 4, 5, 6, 7, 8, 9, 10, 11, 12, 13...</td>\n",
       "      <td>3.761465</td>\n",
       "      <td>0.928503</td>\n",
       "      <td>4.119654</td>\n",
       "      <td>5.102293</td>\n",
       "      <td>2.574206</td>\n",
       "      <td>4.155178</td>\n",
       "      <td>2.855996</td>\n",
       "    </tr>\n",
       "    <tr>\n",
       "      <th>ElasticNetRegressor</th>\n",
       "      <td>[260.0, 260.0, 222.0, 220.0, 228.0, 236.0, 226...</td>\n",
       "      <td>[[260.0, 260.0, 222.0, 220.0, 228.0, 236.0, 22...</td>\n",
       "      <td>[265.93485398852533, 266.51369547177194, 229.0...</td>\n",
       "      <td>[[265.93485398852533, 266.51369547177194, 229....</td>\n",
       "      <td>[316, 317, 318, 319, 320, 321, 322, 323, 324, ...</td>\n",
       "      <td>[[316, 317, 318, 319, 320, 321, 322, 323, 324,...</td>\n",
       "      <td>[0, 1, 2, 3, 4, 5, 6, 7, 8, 9, 10, 11, 12, 13,...</td>\n",
       "      <td>[[0, 1, 2, 3, 4, 5, 6, 7, 8, 9, 10, 11, 12, 13...</td>\n",
       "      <td>3.963009</td>\n",
       "      <td>0.991231</td>\n",
       "      <td>4.434213</td>\n",
       "      <td>5.628290</td>\n",
       "      <td>2.914734</td>\n",
       "      <td>3.755447</td>\n",
       "      <td>3.082363</td>\n",
       "    </tr>\n",
       "    <tr>\n",
       "      <th>RidgeRegressor</th>\n",
       "      <td>[260.0, 260.0, 222.0, 220.0, 228.0, 236.0, 226...</td>\n",
       "      <td>[[260.0, 260.0, 222.0, 220.0, 228.0, 236.0, 22...</td>\n",
       "      <td>[266.286605456589, 267.64734760849024, 227.604...</td>\n",
       "      <td>[[266.286605456589, 267.64734760849024, 227.60...</td>\n",
       "      <td>[316, 317, 318, 319, 320, 321, 322, 323, 324, ...</td>\n",
       "      <td>[[316, 317, 318, 319, 320, 321, 322, 323, 324,...</td>\n",
       "      <td>[0, 1, 2, 3, 4, 5, 6, 7, 8, 9, 10, 11, 12, 13,...</td>\n",
       "      <td>[[0, 1, 2, 3, 4, 5, 6, 7, 8, 9, 10, 11, 12, 13...</td>\n",
       "      <td>3.761876</td>\n",
       "      <td>0.934849</td>\n",
       "      <td>4.125035</td>\n",
       "      <td>5.111119</td>\n",
       "      <td>2.576919</td>\n",
       "      <td>4.159268</td>\n",
       "      <td>2.837038</td>\n",
       "    </tr>\n",
       "    <tr>\n",
       "      <th rowspan=\"3\" valign=\"top\">DummyFeatureSelector</th>\n",
       "      <th>LinearRegressor</th>\n",
       "      <td>[260.0, 260.0, 222.0, 220.0, 228.0, 236.0, 226...</td>\n",
       "      <td>[[260.0, 260.0, 222.0, 220.0, 228.0, 236.0, 22...</td>\n",
       "      <td>[266.2891198718385, 267.5994938004986, 227.567...</td>\n",
       "      <td>[[266.2891198718385, 267.5994938004986, 227.56...</td>\n",
       "      <td>[316, 317, 318, 319, 320, 321, 322, 323, 324, ...</td>\n",
       "      <td>[[316, 317, 318, 319, 320, 321, 322, 323, 324,...</td>\n",
       "      <td>[0, 1, 2, 3, 4, 5, 6, 7, 8, 9, 10, 11, 12, 13,...</td>\n",
       "      <td>[[0, 1, 2, 3, 4, 5, 6, 7, 8, 9, 10, 11, 12, 13...</td>\n",
       "      <td>3.760605</td>\n",
       "      <td>0.931500</td>\n",
       "      <td>4.116792</td>\n",
       "      <td>5.101517</td>\n",
       "      <td>2.583460</td>\n",
       "      <td>4.168720</td>\n",
       "      <td>2.832534</td>\n",
       "    </tr>\n",
       "    <tr>\n",
       "      <th>ElasticNetRegressor</th>\n",
       "      <td>[260.0, 260.0, 222.0, 220.0, 228.0, 236.0, 226...</td>\n",
       "      <td>[[260.0, 260.0, 222.0, 220.0, 228.0, 236.0, 22...</td>\n",
       "      <td>[266.1885048585197, 265.87040846472627, 230.23...</td>\n",
       "      <td>[[266.1885048585197, 265.87040846472627, 230.2...</td>\n",
       "      <td>[316, 317, 318, 319, 320, 321, 322, 323, 324, ...</td>\n",
       "      <td>[[316, 317, 318, 319, 320, 321, 322, 323, 324,...</td>\n",
       "      <td>[0, 1, 2, 3, 4, 5, 6, 7, 8, 9, 10, 11, 12, 13,...</td>\n",
       "      <td>[[0, 1, 2, 3, 4, 5, 6, 7, 8, 9, 10, 11, 12, 13...</td>\n",
       "      <td>4.631607</td>\n",
       "      <td>1.065133</td>\n",
       "      <td>4.959139</td>\n",
       "      <td>6.046073</td>\n",
       "      <td>3.567232</td>\n",
       "      <td>5.342098</td>\n",
       "      <td>3.243493</td>\n",
       "    </tr>\n",
       "    <tr>\n",
       "      <th>RidgeRegressor</th>\n",
       "      <td>[260.0, 260.0, 222.0, 220.0, 228.0, 236.0, 226...</td>\n",
       "      <td>[[260.0, 260.0, 222.0, 220.0, 228.0, 236.0, 22...</td>\n",
       "      <td>[266.2886846961185, 267.58454966368436, 227.60...</td>\n",
       "      <td>[[266.2886846961185, 267.58454966368436, 227.6...</td>\n",
       "      <td>[316, 317, 318, 319, 320, 321, 322, 323, 324, ...</td>\n",
       "      <td>[[316, 317, 318, 319, 320, 321, 322, 323, 324,...</td>\n",
       "      <td>[0, 1, 2, 3, 4, 5, 6, 7, 8, 9, 10, 11, 12, 13,...</td>\n",
       "      <td>[[0, 1, 2, 3, 4, 5, 6, 7, 8, 9, 10, 11, 12, 13...</td>\n",
       "      <td>3.768885</td>\n",
       "      <td>0.935030</td>\n",
       "      <td>4.124399</td>\n",
       "      <td>5.114277</td>\n",
       "      <td>2.587575</td>\n",
       "      <td>4.181563</td>\n",
       "      <td>2.836608</td>\n",
       "    </tr>\n",
       "  </tbody>\n",
       "</table>\n",
       "</div>"
      ],
      "text/plain": [
       "                                                                                                true_labels  \\\n",
       "pipeline_scaler pipeline_reduce_dim  pipeline_clf                                                             \n",
       "StandardScaler  SelectKBest          LinearRegressor      [260.0, 260.0, 222.0, 220.0, 228.0, 236.0, 226...   \n",
       "                                     ElasticNetRegressor  [260.0, 260.0, 222.0, 220.0, 228.0, 236.0, 226...   \n",
       "                                     RidgeRegressor       [260.0, 260.0, 222.0, 220.0, 228.0, 236.0, 226...   \n",
       "                RFE                  LinearRegressor      [260.0, 260.0, 222.0, 220.0, 228.0, 236.0, 226...   \n",
       "                                     ElasticNetRegressor  [260.0, 260.0, 222.0, 220.0, 228.0, 236.0, 226...   \n",
       "                                     RidgeRegressor       [260.0, 260.0, 222.0, 220.0, 228.0, 236.0, 226...   \n",
       "                DummyFeatureSelector LinearRegressor      [260.0, 260.0, 222.0, 220.0, 228.0, 236.0, 226...   \n",
       "                                     ElasticNetRegressor  [260.0, 260.0, 222.0, 220.0, 228.0, 236.0, 226...   \n",
       "                                     RidgeRegressor       [260.0, 260.0, 222.0, 220.0, 228.0, 236.0, 226...   \n",
       "MinMaxScaler    SelectKBest          LinearRegressor      [260.0, 260.0, 222.0, 220.0, 228.0, 236.0, 226...   \n",
       "                                     ElasticNetRegressor  [260.0, 260.0, 222.0, 220.0, 228.0, 236.0, 226...   \n",
       "                                     RidgeRegressor       [260.0, 260.0, 222.0, 220.0, 228.0, 236.0, 226...   \n",
       "                RFE                  LinearRegressor      [260.0, 260.0, 222.0, 220.0, 228.0, 236.0, 226...   \n",
       "                                     ElasticNetRegressor  [260.0, 260.0, 222.0, 220.0, 228.0, 236.0, 226...   \n",
       "                                     RidgeRegressor       [260.0, 260.0, 222.0, 220.0, 228.0, 236.0, 226...   \n",
       "                DummyFeatureSelector LinearRegressor      [260.0, 260.0, 222.0, 220.0, 228.0, 236.0, 226...   \n",
       "                                     ElasticNetRegressor  [260.0, 260.0, 222.0, 220.0, 228.0, 236.0, 226...   \n",
       "                                     RidgeRegressor       [260.0, 260.0, 222.0, 220.0, 228.0, 236.0, 226...   \n",
       "\n",
       "                                                                                          true_labels_folds  \\\n",
       "pipeline_scaler pipeline_reduce_dim  pipeline_clf                                                             \n",
       "StandardScaler  SelectKBest          LinearRegressor      [[260.0, 260.0, 222.0, 220.0, 228.0, 236.0, 22...   \n",
       "                                     ElasticNetRegressor  [[260.0, 260.0, 222.0, 220.0, 228.0, 236.0, 22...   \n",
       "                                     RidgeRegressor       [[260.0, 260.0, 222.0, 220.0, 228.0, 236.0, 22...   \n",
       "                RFE                  LinearRegressor      [[260.0, 260.0, 222.0, 220.0, 228.0, 236.0, 22...   \n",
       "                                     ElasticNetRegressor  [[260.0, 260.0, 222.0, 220.0, 228.0, 236.0, 22...   \n",
       "                                     RidgeRegressor       [[260.0, 260.0, 222.0, 220.0, 228.0, 236.0, 22...   \n",
       "                DummyFeatureSelector LinearRegressor      [[260.0, 260.0, 222.0, 220.0, 228.0, 236.0, 22...   \n",
       "                                     ElasticNetRegressor  [[260.0, 260.0, 222.0, 220.0, 228.0, 236.0, 22...   \n",
       "                                     RidgeRegressor       [[260.0, 260.0, 222.0, 220.0, 228.0, 236.0, 22...   \n",
       "MinMaxScaler    SelectKBest          LinearRegressor      [[260.0, 260.0, 222.0, 220.0, 228.0, 236.0, 22...   \n",
       "                                     ElasticNetRegressor  [[260.0, 260.0, 222.0, 220.0, 228.0, 236.0, 22...   \n",
       "                                     RidgeRegressor       [[260.0, 260.0, 222.0, 220.0, 228.0, 236.0, 22...   \n",
       "                RFE                  LinearRegressor      [[260.0, 260.0, 222.0, 220.0, 228.0, 236.0, 22...   \n",
       "                                     ElasticNetRegressor  [[260.0, 260.0, 222.0, 220.0, 228.0, 236.0, 22...   \n",
       "                                     RidgeRegressor       [[260.0, 260.0, 222.0, 220.0, 228.0, 236.0, 22...   \n",
       "                DummyFeatureSelector LinearRegressor      [[260.0, 260.0, 222.0, 220.0, 228.0, 236.0, 22...   \n",
       "                                     ElasticNetRegressor  [[260.0, 260.0, 222.0, 220.0, 228.0, 236.0, 22...   \n",
       "                                     RidgeRegressor       [[260.0, 260.0, 222.0, 220.0, 228.0, 236.0, 22...   \n",
       "\n",
       "                                                                                           predicted_labels  \\\n",
       "pipeline_scaler pipeline_reduce_dim  pipeline_clf                                                             \n",
       "StandardScaler  SelectKBest          LinearRegressor      [266.2595336822087, 268.1621393151938, 226.218...   \n",
       "                                     ElasticNetRegressor  [266.18413886531175, 267.91841254057977, 226.3...   \n",
       "                                     RidgeRegressor       [266.2296027760496, 268.05962917099976, 226.28...   \n",
       "                RFE                  LinearRegressor      [266.2871479318242, 267.6609138836928, 227.575...   \n",
       "                                     ElasticNetRegressor  [265.98085324242305, 266.7594852595584, 228.61...   \n",
       "                                     RidgeRegressor       [266.2871346382257, 267.66066717410666, 227.57...   \n",
       "                DummyFeatureSelector LinearRegressor      [266.2891198718378, 267.59949380049784, 227.56...   \n",
       "                                     ElasticNetRegressor  [266.2800687441125, 267.36973381650154, 228.15...   \n",
       "                                     RidgeRegressor       [266.2891106572623, 267.59918237140107, 227.56...   \n",
       "MinMaxScaler    SelectKBest          LinearRegressor      [266.25953368220866, 268.1621393151937, 226.21...   \n",
       "                                     ElasticNetRegressor  [265.6017483946767, 266.6498167153364, 227.279...   \n",
       "                                     RidgeRegressor       [266.1350397229444, 267.75124391575196, 226.50...   \n",
       "                RFE                  LinearRegressor      [266.28714793182417, 267.66091388369273, 227.5...   \n",
       "                                     ElasticNetRegressor  [265.93485398852533, 266.51369547177194, 229.0...   \n",
       "                                     RidgeRegressor       [266.286605456589, 267.64734760849024, 227.604...   \n",
       "                DummyFeatureSelector LinearRegressor      [266.2891198718385, 267.5994938004986, 227.567...   \n",
       "                                     ElasticNetRegressor  [266.1885048585197, 265.87040846472627, 230.23...   \n",
       "                                     RidgeRegressor       [266.2886846961185, 267.58454966368436, 227.60...   \n",
       "\n",
       "                                                                                     predicted_labels_folds  \\\n",
       "pipeline_scaler pipeline_reduce_dim  pipeline_clf                                                             \n",
       "StandardScaler  SelectKBest          LinearRegressor      [[266.2595336822087, 268.1621393151938, 226.21...   \n",
       "                                     ElasticNetRegressor  [[266.18413886531175, 267.91841254057977, 226....   \n",
       "                                     RidgeRegressor       [[266.2296027760496, 268.05962917099976, 226.2...   \n",
       "                RFE                  LinearRegressor      [[266.2871479318242, 267.6609138836928, 227.57...   \n",
       "                                     ElasticNetRegressor  [[265.98085324242305, 266.7594852595584, 228.6...   \n",
       "                                     RidgeRegressor       [[266.2871346382257, 267.66066717410666, 227.5...   \n",
       "                DummyFeatureSelector LinearRegressor      [[266.2891198718378, 267.59949380049784, 227.5...   \n",
       "                                     ElasticNetRegressor  [[266.2800687441125, 267.36973381650154, 228.1...   \n",
       "                                     RidgeRegressor       [[266.2891106572623, 267.59918237140107, 227.5...   \n",
       "MinMaxScaler    SelectKBest          LinearRegressor      [[266.25953368220866, 268.1621393151937, 226.2...   \n",
       "                                     ElasticNetRegressor  [[265.6017483946767, 266.6498167153364, 227.27...   \n",
       "                                     RidgeRegressor       [[266.1350397229444, 267.75124391575196, 226.5...   \n",
       "                RFE                  LinearRegressor      [[266.28714793182417, 267.66091388369273, 227....   \n",
       "                                     ElasticNetRegressor  [[265.93485398852533, 266.51369547177194, 229....   \n",
       "                                     RidgeRegressor       [[266.286605456589, 267.64734760849024, 227.60...   \n",
       "                DummyFeatureSelector LinearRegressor      [[266.2891198718385, 267.5994938004986, 227.56...   \n",
       "                                     ElasticNetRegressor  [[266.1885048585197, 265.87040846472627, 230.2...   \n",
       "                                     RidgeRegressor       [[266.2886846961185, 267.58454966368436, 227.6...   \n",
       "\n",
       "                                                                                              train_indices  \\\n",
       "pipeline_scaler pipeline_reduce_dim  pipeline_clf                                                             \n",
       "StandardScaler  SelectKBest          LinearRegressor      [316, 317, 318, 319, 320, 321, 322, 323, 324, ...   \n",
       "                                     ElasticNetRegressor  [316, 317, 318, 319, 320, 321, 322, 323, 324, ...   \n",
       "                                     RidgeRegressor       [316, 317, 318, 319, 320, 321, 322, 323, 324, ...   \n",
       "                RFE                  LinearRegressor      [316, 317, 318, 319, 320, 321, 322, 323, 324, ...   \n",
       "                                     ElasticNetRegressor  [316, 317, 318, 319, 320, 321, 322, 323, 324, ...   \n",
       "                                     RidgeRegressor       [316, 317, 318, 319, 320, 321, 322, 323, 324, ...   \n",
       "                DummyFeatureSelector LinearRegressor      [316, 317, 318, 319, 320, 321, 322, 323, 324, ...   \n",
       "                                     ElasticNetRegressor  [316, 317, 318, 319, 320, 321, 322, 323, 324, ...   \n",
       "                                     RidgeRegressor       [316, 317, 318, 319, 320, 321, 322, 323, 324, ...   \n",
       "MinMaxScaler    SelectKBest          LinearRegressor      [316, 317, 318, 319, 320, 321, 322, 323, 324, ...   \n",
       "                                     ElasticNetRegressor  [316, 317, 318, 319, 320, 321, 322, 323, 324, ...   \n",
       "                                     RidgeRegressor       [316, 317, 318, 319, 320, 321, 322, 323, 324, ...   \n",
       "                RFE                  LinearRegressor      [316, 317, 318, 319, 320, 321, 322, 323, 324, ...   \n",
       "                                     ElasticNetRegressor  [316, 317, 318, 319, 320, 321, 322, 323, 324, ...   \n",
       "                                     RidgeRegressor       [316, 317, 318, 319, 320, 321, 322, 323, 324, ...   \n",
       "                DummyFeatureSelector LinearRegressor      [316, 317, 318, 319, 320, 321, 322, 323, 324, ...   \n",
       "                                     ElasticNetRegressor  [316, 317, 318, 319, 320, 321, 322, 323, 324, ...   \n",
       "                                     RidgeRegressor       [316, 317, 318, 319, 320, 321, 322, 323, 324, ...   \n",
       "\n",
       "                                                                                        train_indices_folds  \\\n",
       "pipeline_scaler pipeline_reduce_dim  pipeline_clf                                                             \n",
       "StandardScaler  SelectKBest          LinearRegressor      [[316, 317, 318, 319, 320, 321, 322, 323, 324,...   \n",
       "                                     ElasticNetRegressor  [[316, 317, 318, 319, 320, 321, 322, 323, 324,...   \n",
       "                                     RidgeRegressor       [[316, 317, 318, 319, 320, 321, 322, 323, 324,...   \n",
       "                RFE                  LinearRegressor      [[316, 317, 318, 319, 320, 321, 322, 323, 324,...   \n",
       "                                     ElasticNetRegressor  [[316, 317, 318, 319, 320, 321, 322, 323, 324,...   \n",
       "                                     RidgeRegressor       [[316, 317, 318, 319, 320, 321, 322, 323, 324,...   \n",
       "                DummyFeatureSelector LinearRegressor      [[316, 317, 318, 319, 320, 321, 322, 323, 324,...   \n",
       "                                     ElasticNetRegressor  [[316, 317, 318, 319, 320, 321, 322, 323, 324,...   \n",
       "                                     RidgeRegressor       [[316, 317, 318, 319, 320, 321, 322, 323, 324,...   \n",
       "MinMaxScaler    SelectKBest          LinearRegressor      [[316, 317, 318, 319, 320, 321, 322, 323, 324,...   \n",
       "                                     ElasticNetRegressor  [[316, 317, 318, 319, 320, 321, 322, 323, 324,...   \n",
       "                                     RidgeRegressor       [[316, 317, 318, 319, 320, 321, 322, 323, 324,...   \n",
       "                RFE                  LinearRegressor      [[316, 317, 318, 319, 320, 321, 322, 323, 324,...   \n",
       "                                     ElasticNetRegressor  [[316, 317, 318, 319, 320, 321, 322, 323, 324,...   \n",
       "                                     RidgeRegressor       [[316, 317, 318, 319, 320, 321, 322, 323, 324,...   \n",
       "                DummyFeatureSelector LinearRegressor      [[316, 317, 318, 319, 320, 321, 322, 323, 324,...   \n",
       "                                     ElasticNetRegressor  [[316, 317, 318, 319, 320, 321, 322, 323, 324,...   \n",
       "                                     RidgeRegressor       [[316, 317, 318, 319, 320, 321, 322, 323, 324,...   \n",
       "\n",
       "                                                                                               test_indices  \\\n",
       "pipeline_scaler pipeline_reduce_dim  pipeline_clf                                                             \n",
       "StandardScaler  SelectKBest          LinearRegressor      [0, 1, 2, 3, 4, 5, 6, 7, 8, 9, 10, 11, 12, 13,...   \n",
       "                                     ElasticNetRegressor  [0, 1, 2, 3, 4, 5, 6, 7, 8, 9, 10, 11, 12, 13,...   \n",
       "                                     RidgeRegressor       [0, 1, 2, 3, 4, 5, 6, 7, 8, 9, 10, 11, 12, 13,...   \n",
       "                RFE                  LinearRegressor      [0, 1, 2, 3, 4, 5, 6, 7, 8, 9, 10, 11, 12, 13,...   \n",
       "                                     ElasticNetRegressor  [0, 1, 2, 3, 4, 5, 6, 7, 8, 9, 10, 11, 12, 13,...   \n",
       "                                     RidgeRegressor       [0, 1, 2, 3, 4, 5, 6, 7, 8, 9, 10, 11, 12, 13,...   \n",
       "                DummyFeatureSelector LinearRegressor      [0, 1, 2, 3, 4, 5, 6, 7, 8, 9, 10, 11, 12, 13,...   \n",
       "                                     ElasticNetRegressor  [0, 1, 2, 3, 4, 5, 6, 7, 8, 9, 10, 11, 12, 13,...   \n",
       "                                     RidgeRegressor       [0, 1, 2, 3, 4, 5, 6, 7, 8, 9, 10, 11, 12, 13,...   \n",
       "MinMaxScaler    SelectKBest          LinearRegressor      [0, 1, 2, 3, 4, 5, 6, 7, 8, 9, 10, 11, 12, 13,...   \n",
       "                                     ElasticNetRegressor  [0, 1, 2, 3, 4, 5, 6, 7, 8, 9, 10, 11, 12, 13,...   \n",
       "                                     RidgeRegressor       [0, 1, 2, 3, 4, 5, 6, 7, 8, 9, 10, 11, 12, 13,...   \n",
       "                RFE                  LinearRegressor      [0, 1, 2, 3, 4, 5, 6, 7, 8, 9, 10, 11, 12, 13,...   \n",
       "                                     ElasticNetRegressor  [0, 1, 2, 3, 4, 5, 6, 7, 8, 9, 10, 11, 12, 13,...   \n",
       "                                     RidgeRegressor       [0, 1, 2, 3, 4, 5, 6, 7, 8, 9, 10, 11, 12, 13,...   \n",
       "                DummyFeatureSelector LinearRegressor      [0, 1, 2, 3, 4, 5, 6, 7, 8, 9, 10, 11, 12, 13,...   \n",
       "                                     ElasticNetRegressor  [0, 1, 2, 3, 4, 5, 6, 7, 8, 9, 10, 11, 12, 13,...   \n",
       "                                     RidgeRegressor       [0, 1, 2, 3, 4, 5, 6, 7, 8, 9, 10, 11, 12, 13,...   \n",
       "\n",
       "                                                                                         test_indices_folds  \\\n",
       "pipeline_scaler pipeline_reduce_dim  pipeline_clf                                                             \n",
       "StandardScaler  SelectKBest          LinearRegressor      [[0, 1, 2, 3, 4, 5, 6, 7, 8, 9, 10, 11, 12, 13...   \n",
       "                                     ElasticNetRegressor  [[0, 1, 2, 3, 4, 5, 6, 7, 8, 9, 10, 11, 12, 13...   \n",
       "                                     RidgeRegressor       [[0, 1, 2, 3, 4, 5, 6, 7, 8, 9, 10, 11, 12, 13...   \n",
       "                RFE                  LinearRegressor      [[0, 1, 2, 3, 4, 5, 6, 7, 8, 9, 10, 11, 12, 13...   \n",
       "                                     ElasticNetRegressor  [[0, 1, 2, 3, 4, 5, 6, 7, 8, 9, 10, 11, 12, 13...   \n",
       "                                     RidgeRegressor       [[0, 1, 2, 3, 4, 5, 6, 7, 8, 9, 10, 11, 12, 13...   \n",
       "                DummyFeatureSelector LinearRegressor      [[0, 1, 2, 3, 4, 5, 6, 7, 8, 9, 10, 11, 12, 13...   \n",
       "                                     ElasticNetRegressor  [[0, 1, 2, 3, 4, 5, 6, 7, 8, 9, 10, 11, 12, 13...   \n",
       "                                     RidgeRegressor       [[0, 1, 2, 3, 4, 5, 6, 7, 8, 9, 10, 11, 12, 13...   \n",
       "MinMaxScaler    SelectKBest          LinearRegressor      [[0, 1, 2, 3, 4, 5, 6, 7, 8, 9, 10, 11, 12, 13...   \n",
       "                                     ElasticNetRegressor  [[0, 1, 2, 3, 4, 5, 6, 7, 8, 9, 10, 11, 12, 13...   \n",
       "                                     RidgeRegressor       [[0, 1, 2, 3, 4, 5, 6, 7, 8, 9, 10, 11, 12, 13...   \n",
       "                RFE                  LinearRegressor      [[0, 1, 2, 3, 4, 5, 6, 7, 8, 9, 10, 11, 12, 13...   \n",
       "                                     ElasticNetRegressor  [[0, 1, 2, 3, 4, 5, 6, 7, 8, 9, 10, 11, 12, 13...   \n",
       "                                     RidgeRegressor       [[0, 1, 2, 3, 4, 5, 6, 7, 8, 9, 10, 11, 12, 13...   \n",
       "                DummyFeatureSelector LinearRegressor      [[0, 1, 2, 3, 4, 5, 6, 7, 8, 9, 10, 11, 12, 13...   \n",
       "                                     ElasticNetRegressor  [[0, 1, 2, 3, 4, 5, 6, 7, 8, 9, 10, 11, 12, 13...   \n",
       "                                     RidgeRegressor       [[0, 1, 2, 3, 4, 5, 6, 7, 8, 9, 10, 11, 12, 13...   \n",
       "\n",
       "                                                          mean_test_neg_mean_absolute_error  \\\n",
       "pipeline_scaler pipeline_reduce_dim  pipeline_clf                                             \n",
       "StandardScaler  SelectKBest          LinearRegressor                               3.330206   \n",
       "                                     ElasticNetRegressor                           3.312061   \n",
       "                                     RidgeRegressor                                3.309016   \n",
       "                RFE                  LinearRegressor                               3.757041   \n",
       "                                     ElasticNetRegressor                           3.837134   \n",
       "                                     RidgeRegressor                                3.775262   \n",
       "                DummyFeatureSelector LinearRegressor                               3.760605   \n",
       "                                     ElasticNetRegressor                           3.943395   \n",
       "                                     RidgeRegressor                                3.760820   \n",
       "MinMaxScaler    SelectKBest          LinearRegressor                               3.330206   \n",
       "                                     ElasticNetRegressor                           4.283086   \n",
       "                                     RidgeRegressor                                3.330380   \n",
       "                RFE                  LinearRegressor                               3.761465   \n",
       "                                     ElasticNetRegressor                           3.963009   \n",
       "                                     RidgeRegressor                                3.761876   \n",
       "                DummyFeatureSelector LinearRegressor                               3.760605   \n",
       "                                     ElasticNetRegressor                           4.631607   \n",
       "                                     RidgeRegressor                                3.768885   \n",
       "\n",
       "                                                          std_test_neg_mean_absolute_error  \\\n",
       "pipeline_scaler pipeline_reduce_dim  pipeline_clf                                            \n",
       "StandardScaler  SelectKBest          LinearRegressor                              0.757054   \n",
       "                                     ElasticNetRegressor                          0.783536   \n",
       "                                     RidgeRegressor                               0.762966   \n",
       "                RFE                  LinearRegressor                              0.932850   \n",
       "                                     ElasticNetRegressor                          0.951108   \n",
       "                                     RidgeRegressor                               0.902513   \n",
       "                DummyFeatureSelector LinearRegressor                              0.931500   \n",
       "                                     ElasticNetRegressor                          0.996654   \n",
       "                                     RidgeRegressor                               0.931615   \n",
       "MinMaxScaler    SelectKBest          LinearRegressor                              0.757054   \n",
       "                                     ElasticNetRegressor                          0.928306   \n",
       "                                     RidgeRegressor                               0.728716   \n",
       "                RFE                  LinearRegressor                              0.928503   \n",
       "                                     ElasticNetRegressor                          0.991231   \n",
       "                                     RidgeRegressor                               0.934849   \n",
       "                DummyFeatureSelector LinearRegressor                              0.931500   \n",
       "                                     ElasticNetRegressor                          1.065133   \n",
       "                                     RidgeRegressor                               0.935030   \n",
       "\n",
       "                                                          test_neg_mean_absolute_error_fold_0  \\\n",
       "pipeline_scaler pipeline_reduce_dim  pipeline_clf                                               \n",
       "StandardScaler  SelectKBest          LinearRegressor                                 3.917414   \n",
       "                                     ElasticNetRegressor                             3.823330   \n",
       "                                     RidgeRegressor                                  3.870164   \n",
       "                RFE                  LinearRegressor                                 4.119654   \n",
       "                                     ElasticNetRegressor                             4.288469   \n",
       "                                     RidgeRegressor                                  4.119739   \n",
       "                DummyFeatureSelector LinearRegressor                                 4.116792   \n",
       "                                     ElasticNetRegressor                             4.249597   \n",
       "                                     RidgeRegressor                                  4.116949   \n",
       "MinMaxScaler    SelectKBest          LinearRegressor                                 3.917414   \n",
       "                                     ElasticNetRegressor                             4.622737   \n",
       "                                     RidgeRegressor                                  3.799420   \n",
       "                RFE                  LinearRegressor                                 4.119654   \n",
       "                                     ElasticNetRegressor                             4.434213   \n",
       "                                     RidgeRegressor                                  4.125035   \n",
       "                DummyFeatureSelector LinearRegressor                                 4.116792   \n",
       "                                     ElasticNetRegressor                             4.959139   \n",
       "                                     RidgeRegressor                                  4.124399   \n",
       "\n",
       "                                                          test_neg_mean_absolute_error_fold_1  \\\n",
       "pipeline_scaler pipeline_reduce_dim  pipeline_clf                                               \n",
       "StandardScaler  SelectKBest          LinearRegressor                                 4.511707   \n",
       "                                     ElasticNetRegressor                             4.594794   \n",
       "                                     RidgeRegressor                                  4.511821   \n",
       "                RFE                  LinearRegressor                                 5.102293   \n",
       "                                     ElasticNetRegressor                             5.242182   \n",
       "                                     RidgeRegressor                                  5.102561   \n",
       "                DummyFeatureSelector LinearRegressor                                 5.101517   \n",
       "                                     ElasticNetRegressor                             5.396331   \n",
       "                                     RidgeRegressor                                  5.101942   \n",
       "MinMaxScaler    SelectKBest          LinearRegressor                                 4.511707   \n",
       "                                     ElasticNetRegressor                             5.793363   \n",
       "                                     RidgeRegressor                                  4.515163   \n",
       "                RFE                  LinearRegressor                                 5.102293   \n",
       "                                     ElasticNetRegressor                             5.628290   \n",
       "                                     RidgeRegressor                                  5.111119   \n",
       "                DummyFeatureSelector LinearRegressor                                 5.101517   \n",
       "                                     ElasticNetRegressor                             6.046073   \n",
       "                                     RidgeRegressor                                  5.114277   \n",
       "\n",
       "                                                          test_neg_mean_absolute_error_fold_2  \\\n",
       "pipeline_scaler pipeline_reduce_dim  pipeline_clf                                               \n",
       "StandardScaler  SelectKBest          LinearRegressor                                 2.532260   \n",
       "                                     ElasticNetRegressor                             2.469095   \n",
       "                                     RidgeRegressor                                  2.460958   \n",
       "                RFE                  LinearRegressor                                 2.574206   \n",
       "                                     ElasticNetRegressor                             2.595018   \n",
       "                                     RidgeRegressor                                  2.574249   \n",
       "                DummyFeatureSelector LinearRegressor                                 2.583460   \n",
       "                                     ElasticNetRegressor                             2.729212   \n",
       "                                     RidgeRegressor                                  2.583556   \n",
       "MinMaxScaler    SelectKBest          LinearRegressor                                 2.532260   \n",
       "                                     ElasticNetRegressor                             3.135891   \n",
       "                                     RidgeRegressor                                  2.496871   \n",
       "                RFE                  LinearRegressor                                 2.574206   \n",
       "                                     ElasticNetRegressor                             2.914734   \n",
       "                                     RidgeRegressor                                  2.576919   \n",
       "                DummyFeatureSelector LinearRegressor                                 2.583460   \n",
       "                                     ElasticNetRegressor                             3.567232   \n",
       "                                     RidgeRegressor                                  2.587575   \n",
       "\n",
       "                                                          test_neg_mean_absolute_error_fold_3  \\\n",
       "pipeline_scaler pipeline_reduce_dim  pipeline_clf                                               \n",
       "StandardScaler  SelectKBest          LinearRegressor                                 2.936977   \n",
       "                                     ElasticNetRegressor                             2.833620   \n",
       "                                     RidgeRegressor                                  2.922914   \n",
       "                RFE                  LinearRegressor                                 4.155178   \n",
       "                                     ElasticNetRegressor                             4.083922   \n",
       "                                     RidgeRegressor                                  4.105132   \n",
       "                DummyFeatureSelector LinearRegressor                                 4.168720   \n",
       "                                     ElasticNetRegressor                             4.425598   \n",
       "                                     RidgeRegressor                                  4.169017   \n",
       "MinMaxScaler    SelectKBest          LinearRegressor                                 2.936977   \n",
       "                                     ElasticNetRegressor                             4.349742   \n",
       "                                     RidgeRegressor                                  2.930946   \n",
       "                RFE                  LinearRegressor                                 4.155178   \n",
       "                                     ElasticNetRegressor                             3.755447   \n",
       "                                     RidgeRegressor                                  4.159268   \n",
       "                DummyFeatureSelector LinearRegressor                                 4.168720   \n",
       "                                     ElasticNetRegressor                             5.342098   \n",
       "                                     RidgeRegressor                                  4.181563   \n",
       "\n",
       "                                                          test_neg_mean_absolute_error_fold_4  \n",
       "pipeline_scaler pipeline_reduce_dim  pipeline_clf                                              \n",
       "StandardScaler  SelectKBest          LinearRegressor                                 2.752669  \n",
       "                                     ElasticNetRegressor                             2.839466  \n",
       "                                     RidgeRegressor                                  2.779224  \n",
       "                RFE                  LinearRegressor                                 2.833872  \n",
       "                                     ElasticNetRegressor                             2.976078  \n",
       "                                     RidgeRegressor                                  2.974627  \n",
       "                DummyFeatureSelector LinearRegressor                                 2.832534  \n",
       "                                     ElasticNetRegressor                             2.916235  \n",
       "                                     RidgeRegressor                                  2.832637  \n",
       "MinMaxScaler    SelectKBest          LinearRegressor                                 2.752669  \n",
       "                                     ElasticNetRegressor                             3.513698  \n",
       "                                     RidgeRegressor                                  2.909503  \n",
       "                RFE                  LinearRegressor                                 2.855996  \n",
       "                                     ElasticNetRegressor                             3.082363  \n",
       "                                     RidgeRegressor                                  2.837038  \n",
       "                DummyFeatureSelector LinearRegressor                                 2.832534  \n",
       "                                     ElasticNetRegressor                             3.243493  \n",
       "                                     RidgeRegressor                                  2.836608  "
      ]
     },
     "execution_count": 27,
     "metadata": {},
     "output_type": "execute_result"
    }
   ],
   "source": [
    "pipeline_permuter.metric_summary()"
   ]
  },
  {
   "cell_type": "code",
   "execution_count": 28,
   "metadata": {},
   "outputs": [
    {
     "name": "stderr",
     "output_type": "stream",
     "text": [
      "C:\\Users\\sebas\\Development\\ResearchInternship\\Code\\BioPsyKit\\src\\biopsykit\\classification\\model_selection\\sklearn_pipeline_permuter.py:680: FutureWarning: ['param_reduce_dim__score_func', 'params'] did not aggregate successfully. If any error is raised this will raise in a future version of pandas. Drop these columns/ops to avoid this warning.\n",
      "  .agg([\"mean\", \"std\"])\n"
     ]
    },
    {
     "data": {
      "text/html": [
       "<div>\n",
       "<style scoped>\n",
       "    .dataframe tbody tr th:only-of-type {\n",
       "        vertical-align: middle;\n",
       "    }\n",
       "\n",
       "    .dataframe tbody tr th {\n",
       "        vertical-align: top;\n",
       "    }\n",
       "\n",
       "    .dataframe thead th {\n",
       "        text-align: right;\n",
       "    }\n",
       "</style>\n",
       "<table border=\"1\" class=\"dataframe\">\n",
       "  <thead>\n",
       "    <tr style=\"text-align: right;\">\n",
       "      <th></th>\n",
       "      <th>mean_test_neg_mean_absolute_error</th>\n",
       "      <th>param_clf__alpha</th>\n",
       "      <th>param_clf__l1_ratio</th>\n",
       "      <th>param_reduce_dim__k</th>\n",
       "      <th>param_reduce_dim__score_func</th>\n",
       "      <th>params</th>\n",
       "      <th>rank_test_neg_mean_absolute_error</th>\n",
       "      <th>split0_test_neg_mean_absolute_error</th>\n",
       "      <th>split1_test_neg_mean_absolute_error</th>\n",
       "      <th>split2_test_neg_mean_absolute_error</th>\n",
       "      <th>split3_test_neg_mean_absolute_error</th>\n",
       "      <th>split4_test_neg_mean_absolute_error</th>\n",
       "      <th>std_test_neg_mean_absolute_error</th>\n",
       "    </tr>\n",
       "    <tr>\n",
       "      <th>outer_fold</th>\n",
       "      <th></th>\n",
       "      <th></th>\n",
       "      <th></th>\n",
       "      <th></th>\n",
       "      <th></th>\n",
       "      <th></th>\n",
       "      <th></th>\n",
       "      <th></th>\n",
       "      <th></th>\n",
       "      <th></th>\n",
       "      <th></th>\n",
       "      <th></th>\n",
       "      <th></th>\n",
       "    </tr>\n",
       "  </thead>\n",
       "  <tbody>\n",
       "    <tr>\n",
       "      <th>0</th>\n",
       "      <td>-3.265984</td>\n",
       "      <td>0.01</td>\n",
       "      <td>0.9</td>\n",
       "      <td>2.0</td>\n",
       "      <td>&lt;function mutual_info_regression at 0x000001B6...</td>\n",
       "      <td>{'clf__alpha': 0.01, 'clf__l1_ratio': 0.9, 're...</td>\n",
       "      <td>4</td>\n",
       "      <td>-2.853479</td>\n",
       "      <td>-2.277923</td>\n",
       "      <td>-3.844315</td>\n",
       "      <td>-3.642922</td>\n",
       "      <td>-3.711280</td>\n",
       "      <td>0.603533</td>\n",
       "    </tr>\n",
       "    <tr>\n",
       "      <th>1</th>\n",
       "      <td>-2.976049</td>\n",
       "      <td>0.01</td>\n",
       "      <td>0.9</td>\n",
       "      <td>2.0</td>\n",
       "      <td>&lt;function mutual_info_regression at 0x000001B6...</td>\n",
       "      <td>{'clf__alpha': 0.01, 'clf__l1_ratio': 0.9, 're...</td>\n",
       "      <td>1</td>\n",
       "      <td>-2.919214</td>\n",
       "      <td>-1.338394</td>\n",
       "      <td>-3.896358</td>\n",
       "      <td>-1.731750</td>\n",
       "      <td>-4.994527</td>\n",
       "      <td>1.353118</td>\n",
       "    </tr>\n",
       "    <tr>\n",
       "      <th>2</th>\n",
       "      <td>-3.578102</td>\n",
       "      <td>0.01</td>\n",
       "      <td>0.9</td>\n",
       "      <td>2.0</td>\n",
       "      <td>&lt;function mutual_info_regression at 0x000001B6...</td>\n",
       "      <td>{'clf__alpha': 0.01, 'clf__l1_ratio': 0.9, 're...</td>\n",
       "      <td>1</td>\n",
       "      <td>-4.291267</td>\n",
       "      <td>-2.084471</td>\n",
       "      <td>-2.755215</td>\n",
       "      <td>-3.277813</td>\n",
       "      <td>-5.481745</td>\n",
       "      <td>1.194212</td>\n",
       "    </tr>\n",
       "    <tr>\n",
       "      <th>3</th>\n",
       "      <td>-3.351185</td>\n",
       "      <td>0.01</td>\n",
       "      <td>0.9</td>\n",
       "      <td>2.0</td>\n",
       "      <td>&lt;function mutual_info_regression at 0x000001B6...</td>\n",
       "      <td>{'clf__alpha': 0.01, 'clf__l1_ratio': 0.9, 're...</td>\n",
       "      <td>1</td>\n",
       "      <td>-2.236238</td>\n",
       "      <td>-2.936794</td>\n",
       "      <td>-5.173064</td>\n",
       "      <td>-2.959586</td>\n",
       "      <td>-3.450244</td>\n",
       "      <td>0.989670</td>\n",
       "    </tr>\n",
       "    <tr>\n",
       "      <th>4</th>\n",
       "      <td>-3.502172</td>\n",
       "      <td>0.01</td>\n",
       "      <td>0.9</td>\n",
       "      <td>2.0</td>\n",
       "      <td>&lt;function mutual_info_regression at 0x000001B6...</td>\n",
       "      <td>{'clf__alpha': 0.01, 'clf__l1_ratio': 0.9, 're...</td>\n",
       "      <td>3</td>\n",
       "      <td>-1.450456</td>\n",
       "      <td>-4.064515</td>\n",
       "      <td>-3.561047</td>\n",
       "      <td>-2.998853</td>\n",
       "      <td>-5.435988</td>\n",
       "      <td>1.305543</td>\n",
       "    </tr>\n",
       "  </tbody>\n",
       "</table>\n",
       "</div>"
      ],
      "text/plain": [
       "            mean_test_neg_mean_absolute_error  param_clf__alpha  \\\n",
       "outer_fold                                                        \n",
       "0                                   -3.265984              0.01   \n",
       "1                                   -2.976049              0.01   \n",
       "2                                   -3.578102              0.01   \n",
       "3                                   -3.351185              0.01   \n",
       "4                                   -3.502172              0.01   \n",
       "\n",
       "            param_clf__l1_ratio  param_reduce_dim__k  \\\n",
       "outer_fold                                             \n",
       "0                           0.9                  2.0   \n",
       "1                           0.9                  2.0   \n",
       "2                           0.9                  2.0   \n",
       "3                           0.9                  2.0   \n",
       "4                           0.9                  2.0   \n",
       "\n",
       "                                 param_reduce_dim__score_func  \\\n",
       "outer_fold                                                      \n",
       "0           <function mutual_info_regression at 0x000001B6...   \n",
       "1           <function mutual_info_regression at 0x000001B6...   \n",
       "2           <function mutual_info_regression at 0x000001B6...   \n",
       "3           <function mutual_info_regression at 0x000001B6...   \n",
       "4           <function mutual_info_regression at 0x000001B6...   \n",
       "\n",
       "                                                       params  \\\n",
       "outer_fold                                                      \n",
       "0           {'clf__alpha': 0.01, 'clf__l1_ratio': 0.9, 're...   \n",
       "1           {'clf__alpha': 0.01, 'clf__l1_ratio': 0.9, 're...   \n",
       "2           {'clf__alpha': 0.01, 'clf__l1_ratio': 0.9, 're...   \n",
       "3           {'clf__alpha': 0.01, 'clf__l1_ratio': 0.9, 're...   \n",
       "4           {'clf__alpha': 0.01, 'clf__l1_ratio': 0.9, 're...   \n",
       "\n",
       "            rank_test_neg_mean_absolute_error  \\\n",
       "outer_fold                                      \n",
       "0                                           4   \n",
       "1                                           1   \n",
       "2                                           1   \n",
       "3                                           1   \n",
       "4                                           3   \n",
       "\n",
       "            split0_test_neg_mean_absolute_error  \\\n",
       "outer_fold                                        \n",
       "0                                     -2.853479   \n",
       "1                                     -2.919214   \n",
       "2                                     -4.291267   \n",
       "3                                     -2.236238   \n",
       "4                                     -1.450456   \n",
       "\n",
       "            split1_test_neg_mean_absolute_error  \\\n",
       "outer_fold                                        \n",
       "0                                     -2.277923   \n",
       "1                                     -1.338394   \n",
       "2                                     -2.084471   \n",
       "3                                     -2.936794   \n",
       "4                                     -4.064515   \n",
       "\n",
       "            split2_test_neg_mean_absolute_error  \\\n",
       "outer_fold                                        \n",
       "0                                     -3.844315   \n",
       "1                                     -3.896358   \n",
       "2                                     -2.755215   \n",
       "3                                     -5.173064   \n",
       "4                                     -3.561047   \n",
       "\n",
       "            split3_test_neg_mean_absolute_error  \\\n",
       "outer_fold                                        \n",
       "0                                     -3.642922   \n",
       "1                                     -1.731750   \n",
       "2                                     -3.277813   \n",
       "3                                     -2.959586   \n",
       "4                                     -2.998853   \n",
       "\n",
       "            split4_test_neg_mean_absolute_error  \\\n",
       "outer_fold                                        \n",
       "0                                     -3.711280   \n",
       "1                                     -4.994527   \n",
       "2                                     -5.481745   \n",
       "3                                     -3.450244   \n",
       "4                                     -5.435988   \n",
       "\n",
       "            std_test_neg_mean_absolute_error  \n",
       "outer_fold                                    \n",
       "0                                   0.603533  \n",
       "1                                   1.353118  \n",
       "2                                   1.194212  \n",
       "3                                   0.989670  \n",
       "4                                   1.305543  "
      ]
     },
     "execution_count": 28,
     "metadata": {},
     "output_type": "execute_result"
    }
   ],
   "source": [
    "pipeline_permuter.best_hyperparameter_pipeline()"
   ]
  },
  {
   "cell_type": "code",
   "execution_count": 29,
   "metadata": {},
   "outputs": [
    {
     "name": "stdout",
     "output_type": "stream",
     "text": [
      "Save results: True\n"
     ]
    }
   ],
   "source": [
    "print(f\"Save results: {save_results}\")"
   ]
  },
  {
   "cell_type": "code",
   "execution_count": 30,
   "metadata": {},
   "outputs": [],
   "source": [
    "if save_results:\n",
    "    pipeline_permuter.to_pickle(models_path.joinpath(\"linear_models_q_peak_rr.pkl\"))"
   ]
  }
 ],
 "metadata": {
  "kernelspec": {
   "display_name": ".venv",
   "language": "python",
   "name": "python3"
  },
  "language_info": {
   "codemirror_mode": {
    "name": "ipython",
    "version": 3
   },
   "file_extension": ".py",
   "mimetype": "text/x-python",
   "name": "python",
   "nbconvert_exporter": "python",
   "pygments_lexer": "ipython3",
   "version": "3.12.4"
  }
 },
 "nbformat": 4,
 "nbformat_minor": 2
}
