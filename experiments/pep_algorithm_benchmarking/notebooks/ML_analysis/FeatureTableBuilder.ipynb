{
 "cells": [
  {
   "cell_type": "markdown",
   "metadata": {},
   "source": [
    "# Building the feature table"
   ]
  },
  {
   "cell_type": "markdown",
   "metadata": {},
   "source": [
    "- Features: The features are the B-Point locations extracted by the different B-Point algorithms\n",
    "- Target variable: Manually labeled reference B-Point location\n",
    "- Samples: Data on the heartbeat level"
   ]
  },
  {
   "cell_type": "markdown",
   "metadata": {},
   "source": []
  }
 ],
 "metadata": {
  "language_info": {
   "name": "python"
  }
 },
 "nbformat": 4,
 "nbformat_minor": 2
}
