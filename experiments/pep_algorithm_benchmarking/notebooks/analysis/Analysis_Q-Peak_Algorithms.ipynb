{
 "cells": [
  {
   "cell_type": "markdown",
   "metadata": {
    "cell_marker": "\"\"\""
   },
   "source": [
    "# Analysis Q-Peak Algorithms"
   ]
  },
  {
   "cell_type": "markdown",
   "metadata": {},
   "source": [
    "## Setup and Helper Functions"
   ]
  },
  {
   "cell_type": "markdown",
   "metadata": {},
   "source": [
    "### Imports"
   ]
  },
  {
   "cell_type": "code",
   "execution_count": null,
   "metadata": {},
   "outputs": [],
   "source": [
    "import json\n",
    "from pathlib import Path\n",
    "\n",
    "import biopsykit as bp\n",
    "import matplotlib.pyplot as plt\n",
    "import seaborn as sns\n",
    "from fau_colors import cmaps, register_fausans_font\n",
    "\n",
    "from pepbench.data_handling import compute_pep_performance_metrics, get_error_by_group\n",
    "from pepbench.datasets import EmpkinsDataset, GuardianDataset\n",
    "from pepbench.export import convert_to_latex, create_algorithm_result_table\n",
    "from pepbench.io import load_challenge_results_from_folder\n",
    "from pepbench.plotting.algorithms import (\n",
    "    plot_q_peak_extraction_martinez2004_neurokit,\n",
    ")\n",
    "from pepbench.plotting.results import (\n",
    "    boxplot_algorithm_performance,\n",
    "    plot_q_wave_detection_waveform_detailed_comparison,\n",
    "    regplot_error_heart_rate,\n",
    "    residual_plot_pep,\n",
    "    residual_plot_pep_heart_rate,\n",
    "    residual_plot_pep_participant,\n",
    "    residual_plot_pep_phase,\n",
    "    violinplot_algorithm_performance,\n",
    ")\n",
    "from pepbench.utils import rename_algorithms, rename_metrics\n",
    "\n",
    "%matplotlib widget\n",
    "%load_ext autoreload\n",
    "%autoreload 2"
   ]
  },
  {
   "cell_type": "code",
   "execution_count": null,
   "metadata": {},
   "outputs": [],
   "source": [
    "register_fausans_font()\n",
    "plt.close(\"all\")\n",
    "\n",
    "palette = sns.color_palette(cmaps.faculties_light)\n",
    "sns.set_theme(context=\"notebook\", style=\"ticks\", font=\"sans-serif\", palette=palette)\n",
    "\n",
    "plt.rcParams[\"figure.figsize\"] = (10, 5)\n",
    "plt.rcParams[\"pdf.fonttype\"] = 42\n",
    "plt.rcParams[\"mathtext.default\"] = \"regular\"\n",
    "plt.rcParams[\"font.family\"] = \"sans-serif\"\n",
    "plt.rcParams[\"font.sans-serif\"] = \"FAUSans Office\"\n",
    "\n",
    "palette"
   ]
  },
  {
   "cell_type": "code",
   "execution_count": null,
   "metadata": {},
   "outputs": [],
   "source": [
    "root_path = Path(\"../../\")"
   ]
  },
  {
   "cell_type": "code",
   "execution_count": null,
   "metadata": {},
   "outputs": [],
   "source": [
    "deploy_type = \"local\"\n",
    "\n",
    "config_dict = json.load(root_path.joinpath(\"config.json\").open(encoding=\"utf-8\"))\n",
    "\n",
    "empkins_base_path = Path(config_dict[deploy_type][\"empkins_path\"])\n",
    "guardian_base_path = Path(config_dict[deploy_type][\"guardian_path\"])\n",
    "print(empkins_base_path)"
   ]
  },
  {
   "cell_type": "markdown",
   "metadata": {},
   "source": [
    "### Input Paths"
   ]
  },
  {
   "cell_type": "code",
   "execution_count": null,
   "metadata": {},
   "outputs": [],
   "source": [
    "result_path = root_path.joinpath(\"results\")"
   ]
  },
  {
   "cell_type": "markdown",
   "metadata": {},
   "source": [
    "### Output Paths"
   ]
  },
  {
   "cell_type": "code",
   "execution_count": null,
   "metadata": {},
   "outputs": [],
   "source": [
    "paper_path = json.load(root_path.joinpath(\"paper_path.json\").open(encoding=\"utf-8\"))[\"paper_path\"]\n",
    "paper_path = Path(paper_path)\n",
    "\n",
    "export_path = root_path.joinpath(\"exports\")\n",
    "img_path = export_path.joinpath(\"plots\")\n",
    "stats_path = export_path.joinpath(\"stats\")\n",
    "\n",
    "img_path_paper = paper_path.joinpath(\"img\")\n",
    "tab_path_paper = paper_path.joinpath(\"tab\")\n",
    "suppl_img_path_paper = paper_path.joinpath(\"supplementary_material/img\")\n",
    "suppl_tab_path_paper = paper_path.joinpath(\"supplementary_material/tab\")\n",
    "\n",
    "bp.utils.file_handling.mkdirs(\n",
    "    [\n",
    "        result_path,\n",
    "        export_path,\n",
    "        img_path,\n",
    "        stats_path,\n",
    "        img_path_paper,\n",
    "        tab_path_paper,\n",
    "        suppl_img_path_paper,\n",
    "        suppl_tab_path_paper,\n",
    "    ]\n",
    ")"
   ]
  },
  {
   "cell_type": "code",
   "execution_count": null,
   "metadata": {},
   "outputs": [],
   "source": [
    "algo_levels = [\"q_peak_algorithm\", \"b_point_algorithm\", \"outlier_correction_algorithm\"]\n",
    "algo_level_mapping = dict(\n",
    "    zip(algo_levels, [\"Q-Peak Algorithm\", \"B-Point Algorithm\", \"Outlier Correction\"], strict=False)\n",
    ")"
   ]
  },
  {
   "cell_type": "markdown",
   "metadata": {},
   "source": [
    "## EmpkinS Dataset"
   ]
  },
  {
   "cell_type": "code",
   "execution_count": null,
   "metadata": {},
   "outputs": [],
   "source": [
    "dataset_empkins = EmpkinsDataset(empkins_base_path, use_cache=True, only_labeled=True)\n",
    "dataset_empkins"
   ]
  },
  {
   "cell_type": "code",
   "execution_count": null,
   "metadata": {},
   "outputs": [],
   "source": [
    "results_empkins = load_challenge_results_from_folder(\n",
    "    result_path.joinpath(\"empkins_dataset_q_peak\"),\n",
    "    index_cols_per_sample=[\"participant\", \"condition\", \"phase\"],\n",
    ")"
   ]
  },
  {
   "cell_type": "code",
   "execution_count": null,
   "metadata": {},
   "outputs": [],
   "source": [
    "results_per_sample_empkins = results_empkins.per_sample.droplevel([1, 2])\n",
    "results_agg_total_empkins = results_empkins.agg_total.droplevel([1, 2])\n",
    "results_per_sample_empkins.head()"
   ]
  },
  {
   "cell_type": "code",
   "execution_count": null,
   "metadata": {},
   "outputs": [],
   "source": [
    "metrics_empkins = compute_pep_performance_metrics(results_per_sample_empkins, num_heartbeats=results_agg_total_empkins)\n",
    "metrics_empkins.style.highlight_min(subset=[\"Mean Absolute Error [ms]\"], props=\"background-color: LightGreen;\")"
   ]
  },
  {
   "cell_type": "markdown",
   "metadata": {},
   "source": [
    "#### Latex Export"
   ]
  },
  {
   "cell_type": "code",
   "execution_count": null,
   "metadata": {},
   "outputs": [],
   "source": [
    "result_table = create_algorithm_result_table(metrics_empkins)\n",
    "result_table.index = result_table.index.str.replace(\" (\", r\"\\,(\", regex=False)\n",
    "\n",
    "latex_output = convert_to_latex(\n",
    "    result_table,\n",
    "    collapse_index_columns=True,\n",
    "    column_header_bold=True,\n",
    "    column_format=\"p{1.60cm}S[table-format=1.1(2)]S[table-format=1.1(2)]S[table-format=1.1(2)]p{1.30cm}\",\n",
    "    caption=r\"Results of the Q-peak extraction algorithms on the \\textit{EmpkinS Dataset}. The algorithms are sorted by the \\acf{MAE} in ascending order.\",\n",
    "    label=\"tab:q_peak_results_empkins\",\n",
    ")\n",
    "\n",
    "# fix pandas bug that does not format the last column name in bold\n",
    "latex_output = latex_output.replace(r\"{Invalid\", r\"{\\bfseries Invalid\")\n",
    "latex_output = latex_output.replace(r\"{\\bfseries Algorithm}\", r\"{\\bfseries Q-peak\\newline Algortihm}\")\n",
    "\n",
    "tab_path_paper.joinpath(\"tab_q_peak_results_empkins.tex\").open(mode=\"w+\").write(latex_output)\n",
    "\n",
    "print(latex_output)"
   ]
  },
  {
   "cell_type": "markdown",
   "metadata": {},
   "source": [
    "### Plots"
   ]
  },
  {
   "cell_type": "code",
   "execution_count": null,
   "metadata": {},
   "outputs": [],
   "source": [
    "selected_algos_for_plotting_empkins = [\"martinez2004\", \"vanlien2013-34-ms\", \"vanlien2013-40-ms\", \"forouzanfar2018\"]"
   ]
  },
  {
   "cell_type": "code",
   "execution_count": null,
   "metadata": {},
   "outputs": [],
   "source": [
    "results_empkins_plot = results_per_sample_empkins.reindex(selected_algos_for_plotting_empkins, level=\"q_peak_algorithm\")\n",
    "results_empkins_plot.head()"
   ]
  },
  {
   "cell_type": "markdown",
   "metadata": {},
   "source": [
    "#### Absolute Error"
   ]
  },
  {
   "cell_type": "code",
   "execution_count": null,
   "metadata": {},
   "outputs": [],
   "source": [
    "fig, ax = boxplot_algorithm_performance(\n",
    "    results_empkins_plot,\n",
    "    metric=\"absolute_error_per_sample_ms\",\n",
    "    showmeans=True,\n",
    "    figsize=(6, 5),\n",
    ")\n",
    "\n",
    "fig.savefig(img_path.joinpath(\"img_boxplot_q_peak_algorithms_mae_empkins.pdf\"), transparent=True)"
   ]
  },
  {
   "cell_type": "code",
   "execution_count": null,
   "metadata": {},
   "outputs": [],
   "source": [
    "fig, ax = violinplot_algorithm_performance(\n",
    "    results_empkins_plot,\n",
    "    metric=\"absolute_error_per_sample_ms\",\n",
    "    showmeans=True,\n",
    "    figsize=(6, 5),\n",
    ")"
   ]
  },
  {
   "cell_type": "markdown",
   "metadata": {},
   "source": [
    "#### Absolute Error (with and without Outlier)"
   ]
  },
  {
   "cell_type": "code",
   "execution_count": null,
   "metadata": {},
   "outputs": [],
   "source": [
    "fig, axs = plt.subplots(ncols=2, figsize=(10, 3))\n",
    "\n",
    "boxplot_algorithm_performance(\n",
    "    results_empkins_plot,\n",
    "    metric=\"absolute_error_per_sample_ms\",\n",
    "    showmeans=True,\n",
    "    showfliers=True,\n",
    "    width=0.9,\n",
    "    title=\"With Outlier\",\n",
    "    fig=fig,\n",
    "    ax=axs[0],\n",
    ")\n",
    "boxplot_algorithm_performance(\n",
    "    results_empkins_plot,\n",
    "    metric=\"absolute_error_per_sample_ms\",\n",
    "    showmeans=True,\n",
    "    showfliers=False,\n",
    "    width=0.9,\n",
    "    title=\"Without Outlier\",\n",
    "    fig=fig,\n",
    "    ax=axs[1],\n",
    ")\n",
    "\n",
    "for path in [img_path, suppl_img_path_paper]:\n",
    "    fig.savefig(path.joinpath(\"img_boxplot_q_peak_algorithms_mae_with_without_outlier_empkins.pdf\"), transparent=True)"
   ]
  },
  {
   "cell_type": "markdown",
   "metadata": {},
   "source": [
    "#### Error"
   ]
  },
  {
   "cell_type": "code",
   "execution_count": null,
   "metadata": {},
   "outputs": [],
   "source": [
    "fig, ax = violinplot_algorithm_performance(\n",
    "    results_empkins_plot,\n",
    "    metric=\"error_per_sample_ms\",\n",
    "    figsize=(6, 5),\n",
    ")"
   ]
  },
  {
   "cell_type": "markdown",
   "metadata": {},
   "source": [
    "#### Error per Participant"
   ]
  },
  {
   "cell_type": "code",
   "execution_count": null,
   "metadata": {},
   "outputs": [],
   "source": [
    "error_per_participant_empkins = get_error_by_group(results_per_sample_empkins, grouper=\"participant\")\n",
    "error_per_participant_empkins = error_per_participant_empkins.reindex(\n",
    "    selected_algos_for_plotting_empkins, level=\"q_peak_algorithm\", axis=1\n",
    ")\n",
    "error_per_participant_empkins = error_per_participant_empkins.round(2)\n",
    "error_per_participant_empkins = error_per_participant_empkins.rename(columns=rename_algorithms).rename(\n",
    "    columns=rename_metrics\n",
    ")\n",
    "error_per_participant_empkins.style.highlight_max(props=\"background-color: Pink;\")"
   ]
  },
  {
   "cell_type": "code",
   "execution_count": null,
   "metadata": {},
   "outputs": [],
   "source": [
    "latex_output = convert_to_latex(\n",
    "    error_per_participant_empkins.style.highlight_max(props=\"background-color: Pink;\").format_index(\n",
    "        escape=\"latex\", axis=0\n",
    "    ),\n",
    "    collapse_index_columns=False,\n",
    "    column_header_bold=True,\n",
    "    column_format=\"p{3.0cm}\" + \"S[table-format=2.2]\" * len(error_per_participant_empkins.columns),\n",
    "    caption=r\"Mean Abolute Error of selected Q-peak extraction algorithms on the \\textit{EmpkinS Dataset} per participant. The values with the highest errors are highlighted in red.\",\n",
    "    label=\"tab:q_peak_results_per_participant_empkins\",\n",
    ")\n",
    "\n",
    "# fix pandas bug that does not format the last column name in bold\n",
    "latex_output = latex_output.replace(r\"\\begin{table}[ht]\", r\"\\begin{table}[ht]\\small\")\n",
    "latex_output = latex_output.replace(r\"q_peak_algorithm\", r\"\\bfseries Q-peak Algorithm\")\n",
    "latex_output = latex_output.replace(r\"{participant}\", r\"{Participant}\")\n",
    "latex_output = latex_output.replace(r\"{metric}\", r\"{}\")\n",
    "latex_output = latex_output.replace(r\"{\\bfseries mean}\", r\"{Mean}\")\n",
    "latex_output = latex_output.replace(r\"{\\bfseries std}\", r\"{SD}\")\n",
    "latex_output = latex_output.replace(r\"{std}\", r\"{SD}\")\n",
    "latex_output = latex_output.replace(r\"\\sisetup{\", r\"\\sisetup{round-mode=places,round-precision=2,\")\n",
    "# latex_output = latex_output.replace(r\"{\\bfseries Algorithm}\", r\"{\\bfseries Q-peak\\newline Algortihm}\")\n",
    "\n",
    "suppl_tab_path_paper.joinpath(\"tab_q_peak_results_per_participant_empkins.tex\").open(mode=\"w+\").write(latex_output)\n",
    "\n",
    "print(latex_output)"
   ]
  },
  {
   "cell_type": "markdown",
   "metadata": {},
   "source": [
    "#### Residual Plots"
   ]
  },
  {
   "cell_type": "code",
   "execution_count": null,
   "metadata": {},
   "outputs": [],
   "source": [
    "selected_algos_for_residual_empkins = [\"martinez2004\", \"vanlien2013-34-ms\", \"forouzanfar2018\"]"
   ]
  },
  {
   "cell_type": "code",
   "execution_count": null,
   "metadata": {},
   "outputs": [],
   "source": [
    "fig, axs = plt.subplots(ncols=len(selected_algos_for_residual_empkins), figsize=(12, 5), sharey=True)\n",
    "\n",
    "for i, algo in enumerate(selected_algos_for_residual_empkins):\n",
    "    residual_plot_pep(results_per_sample_empkins, algo, annotate_fontsize=\"small\", annotate_bbox=True, ax=axs[i])\n",
    "    if i != 0:\n",
    "        axs[i].set_ylabel(None)\n",
    "\n",
    "axs[0].set_ylim(-75, 50)\n",
    "\n",
    "fig.tight_layout()\n",
    "\n",
    "for path in [img_path, suppl_img_path_paper]:\n",
    "    fig.savefig(path.joinpath(\"img_residual_plots_q_peak_algorithms_empkins.pdf\"), transparent=True)"
   ]
  },
  {
   "cell_type": "code",
   "execution_count": null,
   "metadata": {},
   "outputs": [],
   "source": [
    "fig, axs = plt.subplots(ncols=len(selected_algos_for_residual_empkins), figsize=(12, 5), sharey=True)\n",
    "\n",
    "for i, algo in enumerate(selected_algos_for_residual_empkins):\n",
    "    residual_plot_pep_participant(\n",
    "        results_per_sample_empkins, algo, alpha=0.5, ax=axs[i], annotate_fontsize=\"small\", annotate_bbox=True\n",
    "    )\n",
    "    if i != 0:\n",
    "        axs[i].set_ylabel(None)\n",
    "\n",
    "axs[0].set_ylim(-75, 50)\n",
    "\n",
    "fig.tight_layout()\n",
    "\n",
    "for path in [img_path, suppl_img_path_paper]:\n",
    "    fig.savefig(path.joinpath(\"img_residual_plots_q_peak_algorithms_per_participant_empkins.pdf\"), transparent=True)"
   ]
  },
  {
   "cell_type": "code",
   "execution_count": null,
   "metadata": {},
   "outputs": [],
   "source": [
    "fig, axs = plt.subplots(ncols=len(selected_algos_for_residual_empkins), figsize=(12, 5), sharey=True)\n",
    "\n",
    "for i, algo in enumerate(selected_algos_for_residual_empkins):\n",
    "    residual_plot_pep_phase(\n",
    "        results_per_sample_empkins,\n",
    "        algo,\n",
    "        alpha=0.5,\n",
    "        ax=axs[i],\n",
    "        annotate_fontsize=\"small\",\n",
    "        annotate_bbox=True,\n",
    "        show_legend=True,\n",
    "    )\n",
    "    if i != 0:\n",
    "        axs[i].set_ylabel(None)\n",
    "\n",
    "axs[0].set_ylim(-75, 50)\n",
    "\n",
    "for path in [img_path, suppl_img_path_paper]:\n",
    "    fig.savefig(path.joinpath(\"img_residual_plots_q_peak_algorithms_per_phase_empkins.pdf\"), transparent=True)"
   ]
  },
  {
   "cell_type": "code",
   "execution_count": null,
   "metadata": {},
   "outputs": [],
   "source": [
    "fig, axs = plt.subplots(ncols=len(selected_algos_for_residual_empkins), figsize=(12, 5), sharey=True)\n",
    "\n",
    "for i, algo in enumerate(selected_algos_for_residual_empkins):\n",
    "    residual_plot_pep_heart_rate(\n",
    "        results_per_sample_empkins, algo, alpha=0.5, annotate_fontsize=\"small\", annotate_bbox=True, ax=axs[i]\n",
    "    )\n",
    "    if i != 0:\n",
    "        axs[i].set_ylabel(None)\n",
    "\n",
    "axs[0].set_ylim(-75, 50)\n",
    "\n",
    "for path in [img_path, suppl_img_path_paper]:\n",
    "    fig.savefig(path.joinpath(\"img_residual_plots_q_peak_algorithms_heart_rate_empkins.pdf\"), transparent=True)"
   ]
  },
  {
   "cell_type": "code",
   "execution_count": null,
   "metadata": {},
   "outputs": [],
   "source": [
    "fig, axs = plt.subplots(ncols=len(selected_algos_for_residual_empkins), figsize=(12, 4), sharey=True)\n",
    "\n",
    "for i, algo in enumerate(selected_algos_for_residual_empkins):\n",
    "    regplot_error_heart_rate(\n",
    "        results_per_sample_empkins,\n",
    "        algo,\n",
    "        error_metric=\"absolute_error_per_sample_ms\",\n",
    "        add_corr_coeff=True,\n",
    "        ax=axs[i],\n",
    "    )\n",
    "    if i != 0:\n",
    "        axs[i].set_ylabel(None)\n",
    "\n",
    "axs[0].set_ylim(axs[0].get_ylim()[0], 80)\n",
    "\n",
    "fig.tight_layout()\n",
    "for path in [img_path, suppl_img_path_paper]:\n",
    "    fig.savefig(path.joinpath(\"img_q_peak_error_heart_rate_empkins.pdf\"), transparent=True)"
   ]
  },
  {
   "cell_type": "markdown",
   "metadata": {},
   "source": [
    "## Deeper Investigation"
   ]
  },
  {
   "cell_type": "code",
   "execution_count": null,
   "metadata": {},
   "outputs": [],
   "source": [
    "subset_01 = dataset_empkins.get_subset(participant=\"VP_001\", condition=\"ftsst\", phase=\"Pause_1\")\n",
    "subset_02 = dataset_empkins.get_subset(participant=\"VP_002\", condition=\"ftsst\", phase=\"Pause_1\")"
   ]
  },
  {
   "cell_type": "code",
   "execution_count": null,
   "metadata": {},
   "outputs": [],
   "source": [
    "fig, axs = plot_q_wave_detection_waveform_detailed_comparison(\n",
    "    subset_01,\n",
    "    subset_02,\n",
    "    base_plot_func=plot_q_peak_extraction_martinez2004_neurokit,\n",
    "    plot_func_01_params={\"heartbeat_subset\": (1, 9)},\n",
    "    plot_func_02_params={\"heartbeat_subset\": (1, 9)},\n",
    "    ax_inset_01_params={\"xmin\": 1.35, \"xmax\": 1.6, \"bounds\": [1.01, -0.1, 0.33, 1.2]},\n",
    "    ax_inset_02_params={\"xmin\": 1.35, \"xmax\": 1.6, \"bounds\": [1.01, -0.1, 0.33, 1.2]},\n",
    "    datapoint_01_name=\"VP_001\",\n",
    "    datapoint_02_name=\"VP_002\",\n",
    ")\n",
    "\n",
    "for path in [img_path, suppl_img_path_paper]:\n",
    "    fig.savefig(path.joinpath(\"img_q_peak_detection_waveform_examples_empkins.pdf\"), transparent=True)"
   ]
  },
  {
   "cell_type": "markdown",
   "metadata": {},
   "source": [
    "## Guardian Dataset"
   ]
  },
  {
   "cell_type": "code",
   "execution_count": null,
   "metadata": {},
   "outputs": [],
   "source": [
    "dataset_guardian = GuardianDataset(guardian_base_path, use_cache=True, only_labeled=True)\n",
    "dataset_guardian"
   ]
  },
  {
   "cell_type": "code",
   "execution_count": null,
   "metadata": {},
   "outputs": [],
   "source": [
    "results_guardian = load_challenge_results_from_folder(\n",
    "    result_path.joinpath(\"guardian_dataset_q_peak\"),\n",
    "    index_cols_per_sample=[\"participant\", \"phase\"],\n",
    ")"
   ]
  },
  {
   "cell_type": "code",
   "execution_count": null,
   "metadata": {},
   "outputs": [],
   "source": [
    "results_per_sample_guardian = results_guardian.per_sample.droplevel([1, 2])\n",
    "results_agg_total_guardian = results_guardian.agg_total.droplevel([1, 2])\n",
    "results_per_sample_guardian.head()"
   ]
  },
  {
   "cell_type": "code",
   "execution_count": null,
   "metadata": {},
   "outputs": [],
   "source": [
    "metrics_guardian = compute_pep_performance_metrics(\n",
    "    results_per_sample_guardian, num_heartbeats=results_agg_total_guardian\n",
    ")\n",
    "metrics_guardian.style.highlight_min(subset=[\"Mean Absolute Error [ms]\"], props=\"background-color: LightGreen;\")"
   ]
  },
  {
   "cell_type": "markdown",
   "metadata": {},
   "source": [
    "#### Latex Export"
   ]
  },
  {
   "cell_type": "code",
   "execution_count": null,
   "metadata": {},
   "outputs": [],
   "source": [
    "result_table = create_algorithm_result_table(metrics_guardian)\n",
    "result_table.index = result_table.index.str.replace(\" (\", r\"\\,(\", regex=False)\n",
    "\n",
    "latex_output = convert_to_latex(\n",
    "    result_table,\n",
    "    collapse_index_columns=True,\n",
    "    column_header_bold=True,\n",
    "    column_format=\"p{1.60cm}S[table-format=1.1(2)]S[table-format=1.1(2)]S[table-format=1.1(2)]p{1.30cm}\",\n",
    "    caption=r\"Results of the Q-peak extraction algorithms on the \\textit{Guardian Dataset}. The algorithms are sorted by the \\acf{MAE} in ascending order.\",\n",
    "    label=\"tab:q_peak_results_guardian\",\n",
    ")\n",
    "\n",
    "# fix pandas bug that does not format the last column name in bold\n",
    "latex_output = latex_output.replace(r\"{Invalid\", r\"{\\bfseries Invalid\")\n",
    "latex_output = latex_output.replace(r\"{\\bfseries Algorithm}\", r\"{\\bfseries Q-peak\\newline Algortihm}\")\n",
    "\n",
    "tab_path_paper.joinpath(\"tab_q_peak_results_guardian.tex\").open(mode=\"w+\").write(latex_output)\n",
    "\n",
    "print(latex_output)"
   ]
  },
  {
   "cell_type": "markdown",
   "metadata": {},
   "source": [
    "## Plots"
   ]
  },
  {
   "cell_type": "code",
   "execution_count": null,
   "metadata": {},
   "outputs": [],
   "source": [
    "selected_algos_for_plotting_guardian = [\"martinez2004\", \"vanlien2013-32-ms\", \"vanlien2013-40-ms\", \"forouzanfar2018\"]"
   ]
  },
  {
   "cell_type": "code",
   "execution_count": null,
   "metadata": {},
   "outputs": [],
   "source": [
    "results_guardian_plot = results_per_sample_guardian.reindex(\n",
    "    selected_algos_for_plotting_guardian, level=\"q_peak_algorithm\"\n",
    ")\n",
    "results_guardian_plot.head()"
   ]
  },
  {
   "cell_type": "markdown",
   "metadata": {},
   "source": [
    "#### Absolute Error"
   ]
  },
  {
   "cell_type": "code",
   "execution_count": null,
   "metadata": {},
   "outputs": [],
   "source": [
    "fig, ax = boxplot_algorithm_performance(\n",
    "    results_guardian_plot,\n",
    "    metric=\"absolute_error_per_sample_ms\",\n",
    "    showmeans=True,\n",
    "    figsize=(6, 5),\n",
    ")\n",
    "\n",
    "fig.savefig(img_path.joinpath(\"img_boxplot_q_peak_algorithms_mae_guardian.pdf\"), transparent=True)"
   ]
  },
  {
   "cell_type": "code",
   "execution_count": null,
   "metadata": {},
   "outputs": [],
   "source": [
    "fig, ax = violinplot_algorithm_performance(\n",
    "    results_guardian_plot,\n",
    "    metric=\"absolute_error_per_sample_ms\",\n",
    "    showmeans=True,\n",
    "    figsize=(6, 5),\n",
    ")"
   ]
  },
  {
   "cell_type": "markdown",
   "metadata": {},
   "source": [
    "#### Absolute Error (with and without Outlier)"
   ]
  },
  {
   "cell_type": "code",
   "execution_count": null,
   "metadata": {},
   "outputs": [],
   "source": [
    "fig, axs = plt.subplots(ncols=2, figsize=(10, 3))\n",
    "\n",
    "boxplot_algorithm_performance(\n",
    "    results_guardian_plot,\n",
    "    metric=\"absolute_error_per_sample_ms\",\n",
    "    showmeans=True,\n",
    "    showfliers=True,\n",
    "    width=0.9,\n",
    "    title=\"With Outlier\",\n",
    "    fig=fig,\n",
    "    ax=axs[0],\n",
    ")\n",
    "boxplot_algorithm_performance(\n",
    "    results_guardian_plot,\n",
    "    metric=\"absolute_error_per_sample_ms\",\n",
    "    showmeans=True,\n",
    "    showfliers=False,\n",
    "    width=0.9,\n",
    "    title=\"Without Outlier\",\n",
    "    fig=fig,\n",
    "    ax=axs[1],\n",
    ")\n",
    "\n",
    "for path in [img_path, suppl_img_path_paper]:\n",
    "    fig.savefig(path.joinpath(\"img_boxplot_q_peak_algorithms_mae_with_without_outlier_guardian.pdf\"), transparent=True)"
   ]
  },
  {
   "cell_type": "markdown",
   "metadata": {},
   "source": [
    "#### Error"
   ]
  },
  {
   "cell_type": "code",
   "execution_count": null,
   "metadata": {},
   "outputs": [],
   "source": [
    "fig, ax = violinplot_algorithm_performance(\n",
    "    results_guardian_plot,\n",
    "    metric=\"error_per_sample_ms\",\n",
    "    figsize=(6, 5),\n",
    ")"
   ]
  },
  {
   "cell_type": "markdown",
   "metadata": {},
   "source": [
    "#### Error per Participant"
   ]
  },
  {
   "cell_type": "code",
   "execution_count": null,
   "metadata": {},
   "outputs": [],
   "source": [
    "error_per_participant_guardian = get_error_by_group(results_per_sample_guardian, grouper=\"participant\")\n",
    "error_per_participant_guardian = error_per_participant_guardian.reindex(\n",
    "    selected_algos_for_plotting_guardian, level=\"q_peak_algorithm\", axis=1\n",
    ")\n",
    "error_per_participant_guardian = error_per_participant_guardian.round(2)\n",
    "error_per_participant_guardian = error_per_participant_guardian.rename(columns=rename_algorithms).rename(\n",
    "    columns=rename_metrics\n",
    ")\n",
    "error_per_participant_guardian.style.highlight_max(props=\"background-color: Pink;\")"
   ]
  },
  {
   "cell_type": "code",
   "execution_count": null,
   "metadata": {},
   "outputs": [],
   "source": [
    "latex_output = convert_to_latex(\n",
    "    error_per_participant_guardian.style.highlight_max(props=\"background-color: Pink;\").format_index(\n",
    "        escape=\"latex\", axis=0\n",
    "    ),\n",
    "    collapse_index_columns=False,\n",
    "    column_header_bold=True,\n",
    "    column_format=\"p{3.0cm}\" + \"S[table-format=2.2]\" * len(error_per_participant_guardian.columns),\n",
    "    caption=r\"Mean Abolute Error of selected Q-peak extraction algorithms on the \\textit{Guardian Dataset} per participant. The values with the highest errors are highlighted in red.\",\n",
    "    label=\"tab:q_peak_results_per_participant_guardian\",\n",
    ")\n",
    "\n",
    "# fix pandas bug that does not format the last column name in bold\n",
    "latex_output = latex_output.replace(r\"\\begin{table}[ht]\", r\"\\begin{table}[ht]\\small\")\n",
    "latex_output = latex_output.replace(r\"q_peak_algorithm\", r\"\\bfseries Q-peak Algorithm\")\n",
    "latex_output = latex_output.replace(r\"{participant}\", r\"{Participant}\")\n",
    "latex_output = latex_output.replace(r\"{metric}\", r\"{}\")\n",
    "latex_output = latex_output.replace(r\"{\\bfseries mean}\", r\"{Mean}\")\n",
    "latex_output = latex_output.replace(r\"{\\bfseries std}\", r\"{SD}\")\n",
    "latex_output = latex_output.replace(r\"{std}\", r\"{SD}\")\n",
    "latex_output = latex_output.replace(r\"\\sisetup{\", r\"\\sisetup{round-mode=places,round-precision=2,\")\n",
    "\n",
    "suppl_tab_path_paper.joinpath(\"tab_q_peak_results_per_participant_guardian.tex\").open(mode=\"w+\").write(latex_output)\n",
    "\n",
    "print(latex_output)"
   ]
  },
  {
   "cell_type": "markdown",
   "metadata": {},
   "source": [
    "#### Residual Plots"
   ]
  },
  {
   "cell_type": "code",
   "execution_count": null,
   "metadata": {},
   "outputs": [],
   "source": [
    "selected_algos_for_residual_guardian = [\"martinez2004\", \"vanlien2013-32-ms\", \"forouzanfar2018\"]"
   ]
  },
  {
   "cell_type": "code",
   "execution_count": null,
   "metadata": {},
   "outputs": [],
   "source": [
    "fig, axs = plt.subplots(ncols=len(selected_algos_for_residual_empkins), figsize=(12, 5), sharey=True)\n",
    "\n",
    "for i, algo in enumerate(selected_algos_for_residual_empkins):\n",
    "    residual_plot_pep(results_per_sample_guardian, algo, annotate_fontsize=\"small\", annotate_bbox=True, ax=axs[i])\n",
    "    if i != 0:\n",
    "        axs[i].set_ylabel(None)\n",
    "\n",
    "axs[0].set_ylim(-115, 40)\n",
    "\n",
    "fig.tight_layout()\n",
    "\n",
    "for path in [img_path, suppl_img_path_paper]:\n",
    "    fig.savefig(path.joinpath(\"img_residual_plots_q_peak_algorithms_guardian.pdf\"), transparent=True)"
   ]
  },
  {
   "cell_type": "code",
   "execution_count": null,
   "metadata": {},
   "outputs": [],
   "source": [
    "fig, axs = plt.subplots(ncols=len(selected_algos_for_residual_empkins), figsize=(12, 5), sharey=True)\n",
    "\n",
    "for i, algo in enumerate(selected_algos_for_residual_empkins):\n",
    "    residual_plot_pep_participant(\n",
    "        results_per_sample_guardian, algo, alpha=0.5, annotate_fontsize=\"small\", annotate_bbox=True, ax=axs[i]\n",
    "    )\n",
    "    if i != 0:\n",
    "        axs[i].set_ylabel(None)\n",
    "\n",
    "axs[0].set_ylim(-115, 40)\n",
    "\n",
    "fig.tight_layout()\n",
    "\n",
    "for path in [img_path, suppl_img_path_paper]:\n",
    "    fig.savefig(path.joinpath(\"img_residual_plots_q_peak_algorithms_per_participant_guardian.pdf\"), transparent=True)"
   ]
  },
  {
   "cell_type": "code",
   "execution_count": null,
   "metadata": {},
   "outputs": [],
   "source": [
    "fig, axs = plt.subplots(ncols=len(selected_algos_for_residual_empkins), figsize=(12, 5), sharey=True)\n",
    "\n",
    "for i, algo in enumerate(selected_algos_for_residual_empkins):\n",
    "    residual_plot_pep_phase(\n",
    "        results_per_sample_guardian,\n",
    "        algo,\n",
    "        alpha=0.5,\n",
    "        ax=axs[i],\n",
    "        annotate_fontsize=\"small\",\n",
    "        annotate_bbox=True,\n",
    "        rect=(0, 0, 0.85, 1),\n",
    "    )\n",
    "    if i != 0:\n",
    "        axs[i].set_ylabel(None)\n",
    "\n",
    "axs[0].set_ylim(-115, 40)\n",
    "\n",
    "for path in [img_path, suppl_img_path_paper]:\n",
    "    fig.savefig(path.joinpath(\"img_residual_plots_q_peak_algorithms_per_phase_guardian.pdf\"), transparent=True)"
   ]
  },
  {
   "cell_type": "code",
   "execution_count": null,
   "metadata": {},
   "outputs": [],
   "source": [
    "fig, axs = plt.subplots(ncols=len(selected_algos_for_residual_empkins), figsize=(12, 5), sharey=True)\n",
    "\n",
    "for i, algo in enumerate(selected_algos_for_residual_empkins):\n",
    "    residual_plot_pep_heart_rate(\n",
    "        results_per_sample_guardian,\n",
    "        algo,\n",
    "        alpha=0.5,\n",
    "        ax=axs[i],\n",
    "        annotate_fontsize=\"small\",\n",
    "        annotate_bbox=True,\n",
    "        rect=(0, 0, 0.85, 1),\n",
    "    )\n",
    "    if i != 0:\n",
    "        axs[i].set_ylabel(None)\n",
    "\n",
    "axs[0].set_ylim(-115, 40)\n",
    "\n",
    "for path in [img_path, suppl_img_path_paper]:\n",
    "    fig.savefig(path.joinpath(\"img_residual_plots_q_peak_algorithms_heart_rate_guardian.pdf\"), transparent=True)"
   ]
  },
  {
   "cell_type": "code",
   "execution_count": null,
   "metadata": {},
   "outputs": [],
   "source": [
    "fig, axs = plt.subplots(ncols=len(selected_algos_for_residual_guardian), figsize=(12, 4), sharey=True)\n",
    "\n",
    "for i, algo in enumerate(selected_algos_for_residual_guardian):\n",
    "    regplot_error_heart_rate(\n",
    "        results_per_sample_guardian,\n",
    "        algo,\n",
    "        error_metric=\"absolute_error_per_sample_ms\",\n",
    "        add_corr_coeff=True,\n",
    "        ax=axs[i],\n",
    "    )\n",
    "    if i != 0:\n",
    "        axs[i].set_ylabel(None)\n",
    "\n",
    "axs[0].set_ylim(axs[0].get_ylim()[0], 150)\n",
    "\n",
    "fig.tight_layout()\n",
    "for path in [img_path, suppl_img_path_paper]:\n",
    "    fig.savefig(path.joinpath(\"img_q_peak_error_heart_rate_guardian.pdf\"), transparent=True)"
   ]
  },
  {
   "cell_type": "markdown",
   "metadata": {},
   "source": [
    "## Deeper Investigation"
   ]
  },
  {
   "cell_type": "code",
   "execution_count": null,
   "metadata": {},
   "outputs": [],
   "source": [
    "subset_01 = dataset_guardian.get_subset(participant=\"GDN0007\", phase=\"Pause\")\n",
    "subset_02 = dataset_guardian.get_subset(participant=\"GDN0009\", phase=\"Pause\")"
   ]
  },
  {
   "cell_type": "code",
   "execution_count": null,
   "metadata": {},
   "outputs": [],
   "source": [
    "fig, axs = plot_q_wave_detection_waveform_detailed_comparison(\n",
    "    subset_01,\n",
    "    subset_02,\n",
    "    base_plot_func=plot_q_peak_extraction_martinez2004_neurokit,\n",
    "    plot_func_01_params={\"heartbeat_subset\": (1, 9)},\n",
    "    plot_func_02_params={\"heartbeat_subset\": (1, 9)},\n",
    "    ax_inset_01_params={\"xmin\": 2.5, \"xmax\": 2.75, \"bounds\": [1.01, -0.1, 0.33, 1.2]},\n",
    "    ax_inset_02_params={\"xmin\": 2.25, \"xmax\": 2.5, \"bounds\": [1.01, -0.1, 0.33, 1.2]},\n",
    "    datapoint_01_name=\"GDN0007\",\n",
    "    datapoint_02_name=\"GDN0009\",\n",
    ")\n",
    "\n",
    "for path in [img_path, suppl_img_path_paper]:\n",
    "    fig.savefig(path.joinpath(\"img_q_peak_detection_waveform_examples_guardian.pdf\"), transparent=True)"
   ]
  },
  {
   "cell_type": "markdown",
   "metadata": {},
   "source": [
    "## Combined Figures"
   ]
  },
  {
   "cell_type": "markdown",
   "metadata": {},
   "source": [
    "### Absolute Error"
   ]
  },
  {
   "cell_type": "code",
   "execution_count": null,
   "metadata": {},
   "outputs": [],
   "source": [
    "fig, axs = plt.subplots(ncols=2, figsize=(10, 2), sharey=True)\n",
    "\n",
    "boxplot_algorithm_performance(\n",
    "    results_empkins_plot,\n",
    "    metric=\"absolute_error_per_sample_ms\",\n",
    "    showmeans=True,\n",
    "    showfliers=False,\n",
    "    width=0.9,\n",
    "    title=\"EmpkinS Dataset – Q-Peak Detection\",\n",
    "    fig=fig,\n",
    "    ax=axs[0],\n",
    ")\n",
    "boxplot_algorithm_performance(\n",
    "    results_guardian_plot,\n",
    "    metric=\"absolute_error_per_sample_ms\",\n",
    "    showmeans=True,\n",
    "    showfliers=False,\n",
    "    width=0.9,\n",
    "    title=\"Guardian Dataset – Q-Peak Detection\",\n",
    "    fig=fig,\n",
    "    ax=axs[1],\n",
    ")\n",
    "for ax in axs:\n",
    "    ax.set_xlabel(None)\n",
    "\n",
    "fig.tight_layout()\n",
    "\n",
    "for path in [img_path, img_path_paper]:\n",
    "    fig.savefig(path.joinpath(\"img_boxplot_q_peak_algorithms_mae_combined.pdf\"), transparent=True)"
   ]
  },
  {
   "cell_type": "code",
   "execution_count": null,
   "metadata": {},
   "outputs": [],
   "source": []
  }
 ],
 "metadata": {
  "jupytext": {
   "encoding": "# -*- coding: utf-8 -*-",
   "text_representation": {
    "extension": ".py",
    "format_name": "sphinx",
    "format_version": "1.1",
    "jupytext_version": "1.13.0"
   }
  },
  "kernelspec": {
   "display_name": "pepbench",
   "language": "python",
   "name": "pepbench"
  },
  "language_info": {
   "codemirror_mode": {
    "name": "ipython",
    "version": 3
   },
   "file_extension": ".py",
   "mimetype": "text/x-python",
   "name": "python",
   "nbconvert_exporter": "python",
   "pygments_lexer": "ipython3",
   "version": "3.10.14"
  },
  "toc-showtags": false,
  "vscode": {
   "interpreter": {
    "hash": "7014e6a8beff3a47c7c0424a6c63a486addc0ee3d12468bf1ae9a85a56cca70c"
   }
  }
 },
 "nbformat": 4,
 "nbformat_minor": 4
}
