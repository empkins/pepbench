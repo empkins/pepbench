{
 "cells": [
  {
   "cell_type": "markdown",
   "metadata": {
    "cell_marker": "\"\"\""
   },
   "source": [
    "# Analysis B-Point Algorithms - EmpkinS Dataset"
   ]
  },
  {
   "cell_type": "markdown",
   "metadata": {},
   "source": [
    "## Setup and Helper Functions"
   ]
  },
  {
   "cell_type": "markdown",
   "metadata": {},
   "source": [
    "### Imports"
   ]
  },
  {
   "cell_type": "code",
   "execution_count": null,
   "metadata": {},
   "outputs": [],
   "source": [
    "import json\n",
    "from pathlib import Path\n",
    "\n",
    "import biopsykit as bp\n",
    "import matplotlib.pyplot as plt\n",
    "import pandas as pd\n",
    "import seaborn as sns\n",
    "from biopsykit.utils.dataframe_handling import multi_xs\n",
    "from fau_colors import cmaps, register_fausans_font\n",
    "from IPython.display import Markdown\n",
    "\n",
    "from pepbench.data_handling import (\n",
    "    add_unique_id_to_results_dataframe,\n",
    "    compute_improvement_outlier_correction,\n",
    "    compute_pep_performance_metrics,\n",
    "    get_error_by_group,\n",
    ")\n",
    "from pepbench.datasets import EmpkinsDataset\n",
    "from pepbench.export import (\n",
    "    convert_to_latex,\n",
    "    create_algorithm_result_table,\n",
    "    create_nan_reason_table,\n",
    "    create_outlier_correction_table,\n",
    ")\n",
    "from pepbench.io import load_challenge_results_from_folder\n",
    "from pepbench.plotting.results import (\n",
    "    boxplot_algorithm_performance,\n",
    "    paired_plot_error_outlier_correction,\n",
    "    regplot_error_age,\n",
    "    regplot_error_bmi,\n",
    "    regplot_error_heart_rate,\n",
    "    residual_plot_pep,\n",
    "    residual_plot_pep_age,\n",
    "    residual_plot_pep_bmi,\n",
    "    residual_plot_pep_heart_rate,\n",
    "    residual_plot_pep_participant,\n",
    "    residual_plot_pep_phase,\n",
    "    violinplot_algorithm_performance,\n",
    ")\n",
    "from pepbench.utils import get_nan_reason_mapping, rename_algorithms, rename_metrics, styling\n",
    "\n",
    "%matplotlib widget\n",
    "%load_ext autoreload\n",
    "%autoreload 2"
   ]
  },
  {
   "cell_type": "code",
   "execution_count": null,
   "metadata": {},
   "outputs": [],
   "source": [
    "register_fausans_font()\n",
    "plt.close(\"all\")\n",
    "\n",
    "palette = sns.color_palette(cmaps.faculties_light)\n",
    "sns.set_theme(context=\"notebook\", style=\"ticks\", font=\"sans-serif\", palette=palette)\n",
    "\n",
    "plt.rcParams[\"figure.figsize\"] = (10, 5)\n",
    "plt.rcParams[\"pdf.fonttype\"] = 42\n",
    "plt.rcParams[\"mathtext.default\"] = \"regular\"\n",
    "plt.rcParams[\"font.family\"] = \"sans-serif\"\n",
    "plt.rcParams[\"font.sans-serif\"] = \"FAUSans Office\"\n",
    "\n",
    "palette"
   ]
  },
  {
   "cell_type": "code",
   "execution_count": null,
   "metadata": {},
   "outputs": [],
   "source": [
    "root_path = Path(\"../../\")"
   ]
  },
  {
   "cell_type": "code",
   "execution_count": null,
   "metadata": {},
   "outputs": [],
   "source": [
    "deploy_type = \"local\"\n",
    "\n",
    "config_dict = json.load(root_path.joinpath(\"config.json\").open(encoding=\"utf-8\"))\n",
    "\n",
    "empkins_base_path = Path(config_dict[deploy_type][\"empkins_path\"])\n",
    "print(empkins_base_path)"
   ]
  },
  {
   "cell_type": "markdown",
   "metadata": {},
   "source": [
    "### Input Paths"
   ]
  },
  {
   "cell_type": "code",
   "execution_count": null,
   "metadata": {},
   "outputs": [],
   "source": [
    "result_path = root_path.joinpath(\"results\")"
   ]
  },
  {
   "cell_type": "code",
   "execution_count": null,
   "metadata": {},
   "outputs": [],
   "source": [
    "rater_id = \"rater_01\""
   ]
  },
  {
   "cell_type": "markdown",
   "metadata": {},
   "source": [
    "### Output Paths"
   ]
  },
  {
   "cell_type": "code",
   "execution_count": null,
   "metadata": {},
   "outputs": [],
   "source": [
    "paper_path = json.load(root_path.joinpath(\"paper_path.json\").open(encoding=\"utf-8\"))[\"paper_path\"]\n",
    "paper_path = Path(paper_path)\n",
    "\n",
    "export_path = root_path.joinpath(\"exports\")\n",
    "img_path = export_path.joinpath(\"plots\")\n",
    "stats_path = export_path.joinpath(\"stats\")\n",
    "\n",
    "img_path_paper = paper_path.joinpath(\"img\")\n",
    "tab_path_paper = paper_path.joinpath(\"tab\")\n",
    "suppl_img_path_paper = paper_path.joinpath(\"supplementary_material/img\")\n",
    "suppl_tab_path_paper = paper_path.joinpath(\"supplementary_material/tab\")\n",
    "\n",
    "bp.utils.file_handling.mkdirs(\n",
    "    [\n",
    "        result_path,\n",
    "        export_path,\n",
    "        img_path,\n",
    "        stats_path,\n",
    "        img_path_paper,\n",
    "        tab_path_paper,\n",
    "        suppl_img_path_paper,\n",
    "        suppl_tab_path_paper,\n",
    "    ]\n",
    ")"
   ]
  },
  {
   "cell_type": "code",
   "execution_count": null,
   "metadata": {},
   "outputs": [],
   "source": [
    "algo_levels = [\"b_point_algorithm\", \"outlier_correction_algorithm\"]\n",
    "algo_level_mapping = dict(zip(algo_levels, [\"B-Point Algorithm\", \"Outlier Correction\"], strict=False))"
   ]
  },
  {
   "cell_type": "code",
   "execution_count": null,
   "metadata": {},
   "outputs": [],
   "source": [
    "dataset_empkins = EmpkinsDataset(empkins_base_path, use_cache=True, only_labeled=True, label_type=rater_id)\n",
    "dataset_empkins"
   ]
  },
  {
   "cell_type": "code",
   "execution_count": null,
   "metadata": {},
   "outputs": [],
   "source": [
    "results_empkins = load_challenge_results_from_folder(\n",
    "    result_path.joinpath(f\"empkins_dataset_b_point/{rater_id}\"),\n",
    "    index_cols_per_sample=[\"participant\", \"condition\", \"phase\"],\n",
    ")"
   ]
  },
  {
   "cell_type": "code",
   "execution_count": null,
   "metadata": {},
   "outputs": [],
   "source": [
    "results_per_sample_empkins = results_empkins.per_sample.droplevel([0])\n",
    "results_agg_total_empkins = results_empkins.agg_total.droplevel([0])\n",
    "results_per_sample_empkins.head()"
   ]
  },
  {
   "cell_type": "code",
   "execution_count": null,
   "metadata": {},
   "outputs": [],
   "source": [
    "bmi_empkins = pd.concat({\"estimated\": dataset_empkins.bmi, \"reference\": dataset_empkins.bmi}, axis=1).swaplevel(\n",
    "    0, 1, axis=1\n",
    ")\n",
    "bmi_empkins.head()"
   ]
  },
  {
   "cell_type": "code",
   "execution_count": null,
   "metadata": {},
   "outputs": [],
   "source": [
    "age_empkins = pd.concat({\"estimated\": dataset_empkins.age, \"reference\": dataset_empkins.age}, axis=1).swaplevel(\n",
    "    0, 1, axis=1\n",
    ")\n",
    "age_empkins.head()"
   ]
  },
  {
   "cell_type": "code",
   "execution_count": null,
   "metadata": {},
   "outputs": [],
   "source": [
    "selected_algos_for_plotting_empkins = [\n",
    "    (\"debski1993-second-derivative\", \"none\"),\n",
    "    (\"lozano2007-linear-regression\", \"none\"),\n",
    "    (\"forouzanfar2018\", \"none\"),\n",
    "    (\"drost2022\", \"none\"),\n",
    "]"
   ]
  },
  {
   "cell_type": "code",
   "execution_count": null,
   "metadata": {},
   "outputs": [],
   "source": [
    "selected_algos_for_residual_empkins = [\"drost2022\", \"lozano2007-linear-regression\", \"forouzanfar2018\"]"
   ]
  },
  {
   "cell_type": "code",
   "execution_count": null,
   "metadata": {},
   "outputs": [],
   "source": [
    "selected_algos_for_residual_outlier_correction_empkins = [\n",
    "    \"drost2022\",\n",
    "    \"debski1993-second-derivative\",\n",
    "    \"forouzanfar2018\",\n",
    "]\n",
    "outlier_algos = [\"none\", \"linear-interpolation\", \"forouzanfar2018\"]\n",
    "outlier_algos_rename = [\"None\", \"LinInt\", \"For18\"]"
   ]
  },
  {
   "cell_type": "markdown",
   "metadata": {},
   "source": [
    "## Results Table"
   ]
  },
  {
   "cell_type": "code",
   "execution_count": null,
   "metadata": {},
   "outputs": [],
   "source": [
    "metrics_empkins = compute_pep_performance_metrics(results_per_sample_empkins, num_heartbeats=results_agg_total_empkins)\n",
    "metrics_empkins.style.highlight_min(\n",
    "    subset=[\"Mean Absolute Error [ms]\", \"Mean Absolute Relative Error [%]\"], props=\"background-color: PaleGreen;\"\n",
    ")"
   ]
  },
  {
   "cell_type": "code",
   "execution_count": null,
   "metadata": {},
   "outputs": [],
   "source": [
    "metrics_empkins_table = metrics_empkins.xs(\"none\", level=\"outlier_correction_algorithm\").round(1)\n",
    "metrics_empkins_table.style.highlight_min(\n",
    "    subset=[\"Mean Absolute Error [ms]\", \"Mean Absolute Relative Error [%]\"], props=\"background-color: PaleGreen;\"\n",
    ")"
   ]
  },
  {
   "cell_type": "code",
   "execution_count": null,
   "metadata": {},
   "outputs": [],
   "source": [
    "result_table = create_algorithm_result_table(metrics_empkins_table)\n",
    "\n",
    "latex_output = convert_to_latex(\n",
    "    result_table,\n",
    "    collapse_index_columns=False,\n",
    "    column_header_bold=True,\n",
    "    column_format=\"p{1.0cm}S[table-format=1.1(2)]S[table-format=1.1(2)]S[table-format=1.1(2)]p{1.75cm}\",\n",
    "    caption=r\"Results of the B-point extraction algorithms (without outlier correction) on the \\textit{EmpkinS Dataset}. The algorithms are sorted by the \\acf{MAE} in ascending order.\",\n",
    "    label=\"tab:b_point_results_empkins\",\n",
    ")\n",
    "\n",
    "# fix pandas bug that does not format the last column name in bold\n",
    "latex_output = latex_output.replace(r\"{Invalid\", r\"{\\bfseries Invalid\")\n",
    "# some manual post-processing\n",
    "latex_output = latex_output.replace(\n",
    "    r\"{} & {\\bfseries \\ac{MAE} [ms]}\", r\"{\\bfseries B-point Algorithm} & {\\bfseries \\ac{MAE} [ms]}\"\n",
    ")\n",
    "latex_output = latex_output.replace(r\"{B-Point Detection} & {} & {} & {} & {} \\\\\", \"\")\n",
    "\n",
    "\n",
    "tab_path_paper.joinpath(\"tab_b_point_results_empkins.tex\").open(mode=\"w+\").write(latex_output)\n",
    "\n",
    "print(latex_output)"
   ]
  },
  {
   "cell_type": "markdown",
   "metadata": {},
   "source": [
    "## Plots"
   ]
  },
  {
   "cell_type": "code",
   "execution_count": null,
   "metadata": {},
   "outputs": [],
   "source": [
    "results_empkins_plot = multi_xs(\n",
    "    data=results_per_sample_empkins, keys=selected_algos_for_plotting_empkins, level=algo_levels\n",
    ")\n",
    "results_empkins_plot = results_empkins_plot.droplevel(\"outlier_correction_algorithm\")\n",
    "results_empkins_plot = results_empkins_plot.reindex([s[0] for s in selected_algos_for_plotting_empkins], level=0)\n",
    "results_empkins_plot.head()"
   ]
  },
  {
   "cell_type": "markdown",
   "metadata": {},
   "source": [
    "### Absolute Error"
   ]
  },
  {
   "cell_type": "code",
   "execution_count": null,
   "metadata": {},
   "outputs": [],
   "source": [
    "fig, ax = boxplot_algorithm_performance(\n",
    "    results_empkins_plot,\n",
    "    metric=\"absolute_error_per_sample_ms\",\n",
    "    showmeans=True,\n",
    "    figsize=(6, 5),\n",
    ")\n",
    "\n",
    "fig.savefig(img_path.joinpath(\"img_boxplot_b_point_algorithms_mae_empkins.pdf\"), transparent=True)"
   ]
  },
  {
   "cell_type": "code",
   "execution_count": null,
   "metadata": {},
   "outputs": [],
   "source": [
    "fig, ax = violinplot_algorithm_performance(\n",
    "    results_empkins_plot,\n",
    "    metric=\"absolute_error_per_sample_ms\",\n",
    "    figsize=(6, 5),\n",
    ")"
   ]
  },
  {
   "cell_type": "markdown",
   "metadata": {},
   "source": [
    "### Absolute Error (with and without Outlier)"
   ]
  },
  {
   "cell_type": "code",
   "execution_count": null,
   "metadata": {},
   "outputs": [],
   "source": [
    "fig, axs = plt.subplots(ncols=2, figsize=(10, 3))\n",
    "\n",
    "boxplot_algorithm_performance(\n",
    "    results_empkins_plot,\n",
    "    metric=\"absolute_error_per_sample_ms\",\n",
    "    showmeans=True,\n",
    "    showfliers=True,\n",
    "    width=0.9,\n",
    "    title=\"B-Point Detection Results – With Outlier\",\n",
    "    fig=fig,\n",
    "    ax=axs[0],\n",
    ")\n",
    "boxplot_algorithm_performance(\n",
    "    results_empkins_plot,\n",
    "    metric=\"absolute_error_per_sample_ms\",\n",
    "    showmeans=True,\n",
    "    showfliers=False,\n",
    "    width=0.9,\n",
    "    title=\"B-Point Detection Results – Without Outlier\",\n",
    "    fig=fig,\n",
    "    ax=axs[1],\n",
    ")\n",
    "for ax in axs:\n",
    "    ax.set_xlabel(None)\n",
    "fig.tight_layout()\n",
    "\n",
    "for path in [img_path, suppl_img_path_paper]:\n",
    "    fig.savefig(path.joinpath(\"img_boxplot_b_point_algorithms_mae_with_without_outlier_empkins.pdf\"), transparent=True)"
   ]
  },
  {
   "cell_type": "markdown",
   "metadata": {},
   "source": [
    "### Error"
   ]
  },
  {
   "cell_type": "code",
   "execution_count": null,
   "metadata": {},
   "outputs": [],
   "source": [
    "fig, ax = violinplot_algorithm_performance(\n",
    "    results_empkins_plot,\n",
    "    metric=\"error_per_sample_ms\",\n",
    "    figsize=(6, 5),\n",
    ")"
   ]
  },
  {
   "cell_type": "markdown",
   "metadata": {},
   "source": [
    "### Error per Participant"
   ]
  },
  {
   "cell_type": "code",
   "execution_count": null,
   "metadata": {},
   "outputs": [],
   "source": [
    "error_per_participant_empkins = get_error_by_group(results_per_sample_empkins, grouper=\"participant\")\n",
    "error_per_participant_empkins = multi_xs(\n",
    "    error_per_participant_empkins, selected_algos_for_plotting_empkins, level=algo_levels, axis=1\n",
    ")\n",
    "error_per_participant_empkins = error_per_participant_empkins.round(2)\n",
    "error_per_participant_empkins = error_per_participant_empkins.rename(columns=rename_algorithms).rename(\n",
    "    columns=rename_metrics\n",
    ")\n",
    "\n",
    "error_per_participant_empkins.style.highlight_max(props=\"background-color: Pink;\")"
   ]
  },
  {
   "cell_type": "code",
   "execution_count": null,
   "metadata": {},
   "outputs": [],
   "source": [
    "latex_output = convert_to_latex(\n",
    "    error_per_participant_empkins.style.highlight_max(props=\"background-color: Pink;\").format_index(\n",
    "        escape=\"latex\", axis=0\n",
    "    ),\n",
    "    collapse_index_columns=False,\n",
    "    column_header_bold=True,\n",
    "    column_format=\"p{3.5cm}\" + \"S[table-format=2.2]\" * len(error_per_participant_empkins.columns),\n",
    "    caption=r\"Mean Abolute Error of selected B-point extraction algorithms on the \\textit{EmpkinS Dataset} per participant. The values with the highest errors are highlighted in red.\",\n",
    "    label=\"tab:b_point_results_per_participant_empkins\",\n",
    ")\n",
    "\n",
    "# fix pandas bug that does not format the last column name in bold\n",
    "latex_output = latex_output.replace(r\"\\begin{table}[ht]\", r\"\\begin{table}[ht]\\small\")\n",
    "latex_output = latex_output.replace(r\"b_point_algorithm\", r\"\\bfseries B-point Algorithm\")\n",
    "latex_output = latex_output.replace(r\"outlier_correction_algorithm\", r\"\\bfseries Outlier Correction Algorithm\")\n",
    "latex_output = latex_output.replace(r\"{participant}\", r\"{Participant}\")\n",
    "latex_output = latex_output.replace(r\"{metric}\", r\"{}\")\n",
    "latex_output = latex_output.replace(r\"{\\bfseries mean}\", r\"{Mean}\")\n",
    "latex_output = latex_output.replace(r\"{\\bfseries std}\", r\"{SD}\")\n",
    "latex_output = latex_output.replace(r\"{std}\", r\"{SD}\")\n",
    "latex_output = latex_output.replace(r\"\\sisetup{\", r\"\\sisetup{round-mode=places,round-precision=2,\")\n",
    "\n",
    "suppl_tab_path_paper.joinpath(\"tab_b_point_results_per_participant_empkins.tex\").open(mode=\"w+\").write(latex_output)\n",
    "\n",
    "print(latex_output)"
   ]
  },
  {
   "cell_type": "markdown",
   "metadata": {},
   "source": [
    "### Residual Plots"
   ]
  },
  {
   "cell_type": "markdown",
   "metadata": {},
   "source": [
    "#### Total"
   ]
  },
  {
   "cell_type": "code",
   "execution_count": null,
   "metadata": {},
   "outputs": [],
   "source": [
    "fig, axs = plt.subplots(ncols=3, figsize=(12, 4), sharey=True)\n",
    "\n",
    "for i, ax in enumerate(axs):\n",
    "    fig, ax = residual_plot_pep(\n",
    "        results_empkins_plot,\n",
    "        selected_algos_for_residual_empkins[i],\n",
    "        alpha=0.5,\n",
    "        show_upper_limit=True,\n",
    "        annotate_fontsize=\"small\",\n",
    "        annotate_bbox=True,\n",
    "        ax=ax,\n",
    "    )\n",
    "    if i != 0:\n",
    "        axs[1].set_ylabel(None)\n",
    "axs[0].set_ylim([-125, 150])\n",
    "\n",
    "fig.tight_layout()\n",
    "\n",
    "for path in [img_path, img_path_paper]:\n",
    "    fig.savefig(path.joinpath(\"img_residual_plots_b_point_algorithms_empkins.pdf\"), transparent=True)"
   ]
  },
  {
   "cell_type": "markdown",
   "metadata": {},
   "source": [
    "#### Per Participant"
   ]
  },
  {
   "cell_type": "code",
   "execution_count": null,
   "metadata": {},
   "outputs": [],
   "source": [
    "fig, axs = plt.subplots(ncols=3, figsize=(12, 4), sharey=True)\n",
    "\n",
    "for i, ax in enumerate(axs):\n",
    "    fig, ax = residual_plot_pep_participant(\n",
    "        results_empkins_plot,\n",
    "        selected_algos_for_residual_empkins[i],\n",
    "        alpha=0.5,\n",
    "        show_upper_limit=True,\n",
    "        annotate_fontsize=\"small\",\n",
    "        annotate_bbox=True,\n",
    "        show_legend=False,\n",
    "        ax=ax,\n",
    "    )\n",
    "    if i != 0:\n",
    "        axs[1].set_ylabel(None)\n",
    "axs[0].set_ylim([-125, 150])\n",
    "\n",
    "fig.tight_layout()\n",
    "\n",
    "for path in [img_path, suppl_img_path_paper]:\n",
    "    fig.savefig(path.joinpath(\"img_residual_plots_b_point_algorithms_per_participant_empkins.pdf\"), transparent=True)"
   ]
  },
  {
   "cell_type": "markdown",
   "metadata": {},
   "source": [
    "#### Per Phase"
   ]
  },
  {
   "cell_type": "code",
   "execution_count": null,
   "metadata": {},
   "outputs": [],
   "source": [
    "fig, axs = plt.subplots(ncols=3, figsize=(12, 4), sharey=True)\n",
    "\n",
    "for i, ax in enumerate(axs):\n",
    "    fig, ax = residual_plot_pep_phase(\n",
    "        results_empkins_plot,\n",
    "        selected_algos_for_residual_empkins[i],\n",
    "        alpha=0.5,\n",
    "        show_upper_limit=True,\n",
    "        show_legend=(i == 0),\n",
    "        annotate_fontsize=\"small\",\n",
    "        annotate_bbox=True,\n",
    "        ax=ax,\n",
    "    )\n",
    "    if i != 0:\n",
    "        axs[1].set_ylabel(None)\n",
    "\n",
    "axs[0].set_ylim([-125, 150])\n",
    "\n",
    "for path in [img_path, suppl_img_path_paper]:\n",
    "    fig.savefig(path.joinpath(\"img_residual_plots_b_point_algorithms_per_phase_empkins.pdf\"), transparent=True)"
   ]
  },
  {
   "cell_type": "markdown",
   "metadata": {},
   "source": [
    "#### Per Heart Rate Bins"
   ]
  },
  {
   "cell_type": "code",
   "execution_count": null,
   "metadata": {},
   "outputs": [],
   "source": [
    "fig, axs = plt.subplots(ncols=3, figsize=(11, 4), sharey=True)\n",
    "\n",
    "for i, ax in enumerate(axs):\n",
    "    fig, ax = residual_plot_pep_heart_rate(\n",
    "        results_empkins_plot,\n",
    "        selected_algos_for_residual_empkins[i],\n",
    "        alpha=0.5,\n",
    "        show_upper_limit=True,\n",
    "        show_legend=(i == 0),\n",
    "        annotate_fontsize=\"small\",\n",
    "        annotate_bbox=True,\n",
    "        ax=ax,\n",
    "    )\n",
    "    if i != 0:\n",
    "        axs[1].set_ylabel(None)\n",
    "\n",
    "axs[0].set_ylim([-125, 150])\n",
    "\n",
    "\n",
    "for path in [img_path, suppl_img_path_paper]:\n",
    "    fig.savefig(path.joinpath(\"img_residual_plots_b_point_algorithms_heart_rate_empkins.pdf\"), transparent=True)"
   ]
  },
  {
   "cell_type": "markdown",
   "metadata": {},
   "source": [
    "#### Per BMI Bins"
   ]
  },
  {
   "cell_type": "code",
   "execution_count": null,
   "metadata": {},
   "outputs": [],
   "source": [
    "fig, axs = plt.subplots(ncols=3, figsize=(11, 4), sharey=True)\n",
    "\n",
    "for i, ax in enumerate(axs):\n",
    "    fig, ax = residual_plot_pep_bmi(\n",
    "        results_empkins_plot.join(bmi_empkins),\n",
    "        selected_algos_for_residual_empkins[i],\n",
    "        alpha=0.5,\n",
    "        show_upper_limit=True,\n",
    "        show_legend=(i == 0),\n",
    "        annotate_fontsize=\"small\",\n",
    "        annotate_bbox=True,\n",
    "        ax=ax,\n",
    "    )\n",
    "    if i != 0:\n",
    "        axs[1].set_ylabel(None)\n",
    "\n",
    "axs[0].set_ylim([-125, 150])\n",
    "\n",
    "\n",
    "for path in [img_path, suppl_img_path_paper]:\n",
    "    fig.savefig(path.joinpath(\"img_residual_plots_b_point_algorithms_bmi_empkins.pdf\"), transparent=True)"
   ]
  },
  {
   "cell_type": "markdown",
   "metadata": {},
   "source": [
    "#### Per Age Bins"
   ]
  },
  {
   "cell_type": "code",
   "execution_count": null,
   "metadata": {},
   "outputs": [],
   "source": [
    "fig, axs = plt.subplots(ncols=3, figsize=(11, 4), sharey=True)\n",
    "\n",
    "for i, ax in enumerate(axs):\n",
    "    fig, ax = residual_plot_pep_age(\n",
    "        results_empkins_plot.join(age_empkins),\n",
    "        selected_algos_for_residual_empkins[i],\n",
    "        alpha=0.5,\n",
    "        show_upper_limit=True,\n",
    "        show_legend=(i == 0),\n",
    "        annotate_fontsize=\"small\",\n",
    "        annotate_bbox=True,\n",
    "        ax=ax,\n",
    "    )\n",
    "    if i != 0:\n",
    "        axs[1].set_ylabel(None)\n",
    "\n",
    "axs[0].set_ylim([-125, 150])\n",
    "\n",
    "\n",
    "for path in [img_path, suppl_img_path_paper]:\n",
    "    fig.savefig(path.joinpath(\"img_residual_plots_b_point_algorithms_age_empkins.pdf\"), transparent=True)"
   ]
  },
  {
   "cell_type": "markdown",
   "metadata": {},
   "source": [
    "### Error Regression Plots"
   ]
  },
  {
   "cell_type": "markdown",
   "metadata": {},
   "source": [
    "#### Heart Rate"
   ]
  },
  {
   "cell_type": "code",
   "execution_count": null,
   "metadata": {},
   "outputs": [],
   "source": [
    "fig, axs = plt.subplots(ncols=3, figsize=(11, 4), sharey=True)\n",
    "\n",
    "for i, ax in enumerate(axs):\n",
    "    fig, ax = regplot_error_heart_rate(\n",
    "        results_empkins_plot,\n",
    "        selected_algos_for_residual_empkins[i],\n",
    "        error_metric=\"absolute_error_per_sample_ms\",\n",
    "        add_corr_coeff=True,\n",
    "        ax=ax,\n",
    "    )\n",
    "    if i != 0:\n",
    "        axs[1].set_ylabel(None)\n",
    "\n",
    "fig.tight_layout()\n",
    "\n",
    "for path in [img_path, suppl_img_path_paper]:\n",
    "    fig.savefig(path.joinpath(\"img_b_point_error_heart_rate_empkins.pdf\"), transparent=True)"
   ]
  },
  {
   "cell_type": "markdown",
   "metadata": {},
   "source": [
    "#### BMI"
   ]
  },
  {
   "cell_type": "code",
   "execution_count": null,
   "metadata": {},
   "outputs": [],
   "source": [
    "fig, axs = plt.subplots(ncols=3, figsize=(11, 4), sharey=True)\n",
    "\n",
    "for i, ax in enumerate(axs):\n",
    "    fig, ax = regplot_error_bmi(\n",
    "        results_empkins_plot.join(bmi_empkins),\n",
    "        selected_algos_for_residual_empkins[i],\n",
    "        error_metric=\"absolute_error_per_sample_ms\",\n",
    "        add_corr_coeff=True,\n",
    "        ax=ax,\n",
    "    )\n",
    "    if i != 0:\n",
    "        axs[1].set_ylabel(None)\n",
    "\n",
    "fig.tight_layout()\n",
    "\n",
    "for path in [img_path, suppl_img_path_paper]:\n",
    "    fig.savefig(path.joinpath(\"img_b_point_error_bmi_empkins.pdf\"), transparent=True)"
   ]
  },
  {
   "cell_type": "markdown",
   "metadata": {},
   "source": [
    "#### Age"
   ]
  },
  {
   "cell_type": "code",
   "execution_count": null,
   "metadata": {},
   "outputs": [],
   "source": [
    "fig, axs = plt.subplots(ncols=3, figsize=(11, 4), sharey=True)\n",
    "\n",
    "for i, ax in enumerate(axs):\n",
    "    fig, ax = regplot_error_age(\n",
    "        results_empkins_plot.join(age_empkins),\n",
    "        selected_algos_for_residual_empkins[i],\n",
    "        error_metric=\"absolute_error_per_sample_ms\",\n",
    "        add_corr_coeff=True,\n",
    "        ax=ax,\n",
    "    )\n",
    "    if i != 0:\n",
    "        axs[1].set_ylabel(None)\n",
    "\n",
    "fig.tight_layout()\n",
    "\n",
    "for path in [img_path, suppl_img_path_paper]:\n",
    "    fig.savefig(path.joinpath(\"img_b_point_error_age_empkins.pdf\"), transparent=True)"
   ]
  },
  {
   "cell_type": "markdown",
   "metadata": {},
   "source": [
    "### Effect of Outlier Correction on Estimation Error"
   ]
  },
  {
   "cell_type": "code",
   "execution_count": null,
   "metadata": {},
   "outputs": [],
   "source": [
    "metrics_empkins_outlier = create_outlier_correction_table(metrics_empkins)\n",
    "metrics_empkins_outlier_style = metrics_empkins_outlier.style.apply(\n",
    "    styling.highlight_outlier_improvement, subset=[\"Mean Absolute Error [ms]\", \"Invalid PEPs\"]\n",
    ")\n",
    "metrics_empkins_outlier_style"
   ]
  },
  {
   "cell_type": "markdown",
   "metadata": {},
   "source": [
    "#### To LaTeX"
   ]
  },
  {
   "cell_type": "code",
   "execution_count": null,
   "metadata": {},
   "outputs": [],
   "source": [
    "latex_output = convert_to_latex(\n",
    "    metrics_empkins_outlier_style,\n",
    "    collapse_index_columns=False,\n",
    "    column_header_bold=True,\n",
    "    siunitx=True,\n",
    "    convert_css=True,\n",
    "    column_format=\"p{1.5cm}p{1.5cm}\"\n",
    "    + (\"S[table-column-width=0.75cm]\" * (len(metrics_empkins_outlier_style.columns) - 3))\n",
    "    + \"p{1.0cm}\" * 3,\n",
    "    caption=r\"Effect of Outlier Correction algorithms on the B-point extraction algorithms for the \\textit{EmpkinS Dataset}. The algorithms are sorted by the \\acf{MAE} in ascending order. Resuls highlighted in \\textcolor{LightGreen}{green} indicate an improvement of the metric through outlier correction, \\textcolor{Pink}{red} indicate no improvement.\",\n",
    "    label=\"tab:outlier_correction_results_full_empkins\",\n",
    ")\n",
    "\n",
    "# some manual post processing of latex output\n",
    "latex_output = latex_output.replace(r\"\\sisetup{\", r\"\\sisetup{round-mode=places,round-precision=2,\")\n",
    "latex_output = latex_output.replace(r\"\\bfseries \\bfseries\", r\"\\bfseries\")\n",
    "latex_output = latex_output.replace(r\"\\bfseries \\bfseries\", r\"\\bfseries\")\n",
    "latex_output = latex_output.replace(r\"\\bfseries \\bfseries\", r\"\\bfseries\")\n",
    "latex_output = latex_output.replace(r\"\\multicolumn{2}{r}\", r\"\\multicolumn{2}{c}\")\n",
    "latex_output = latex_output.replace(r\"Mean Absolute Error [ms]\", r\"MAE [ms]\")\n",
    "latex_output = latex_output.replace(r\"Mean Error [ms]\", r\"ME [ms]\")\n",
    "latex_output = latex_output.replace(r\"Mean Absolute Relative Error [\\%]\", r\"MARE [\\%]\")\n",
    "latex_output = latex_output.replace(r\"{B-Point Detection}\", r\"{B-Point\\newline Detection}\")\n",
    "\n",
    "suppl_tab_path_paper.joinpath(\"tab_outlier_correction_results_full_empkins.tex\").open(mode=\"w+\").write(latex_output)\n",
    "\n",
    "print(latex_output)"
   ]
  },
  {
   "cell_type": "markdown",
   "metadata": {},
   "source": [
    "### Horizontal Table"
   ]
  },
  {
   "cell_type": "code",
   "execution_count": null,
   "metadata": {},
   "outputs": [],
   "source": [
    "metrics_empkins_outlier[[\"Mean Absolute Error [ms]\"]]"
   ]
  },
  {
   "cell_type": "code",
   "execution_count": null,
   "metadata": {},
   "outputs": [],
   "source": [
    "metrics_empkins_outlier_unstack = metrics_empkins_outlier[[\"Mean Absolute Error [ms]\"]]\n",
    "metrics_empkins_outlier_unstack = (\n",
    "    metrics_empkins_outlier_unstack.unstack(sort=True).reorder_levels([0, 2, 1], axis=1).sort_index(axis=1)\n",
    ")\n",
    "metrics_empkins_outlier_unstack = metrics_empkins_outlier_unstack.reindex(outlier_algos_rename, level=1, axis=1)\n",
    "metrics_empkins_outlier_unstack = metrics_empkins_outlier_unstack.reindex(\n",
    "    metrics_empkins_outlier[[\"Mean Absolute Error [ms]\"]]\n",
    "    .xs(\"None\", level=-1)\n",
    "    .sort_values(by=(\"Mean Absolute Error [ms]\", \"Mean\"))\n",
    "    .index,\n",
    "    level=0,\n",
    ")\n",
    "metrics_empkins_outlier_unstack.round(1)"
   ]
  },
  {
   "cell_type": "markdown",
   "metadata": {},
   "source": [
    "### To LaTeX"
   ]
  },
  {
   "cell_type": "code",
   "execution_count": null,
   "metadata": {},
   "outputs": [],
   "source": [
    "result_table = create_algorithm_result_table(metrics_empkins[[\"Mean Absolute Error [ms]\"]])\n",
    "result_table = result_table.unstack(\"Outlier Correction\").reindex(result_table.xs(\"None\", level=-1).index, level=0)\n",
    "result_table = result_table.reindex(outlier_algos_rename, level=\"Outlier Correction\", axis=1)\n",
    "\n",
    "latex_output = convert_to_latex(\n",
    "    result_table.style.apply(styling.highlight_min_uncertainty, axis=1),\n",
    "    collapse_index_columns=False,\n",
    "    column_header_bold=True,\n",
    "    siunitx=False,\n",
    "    column_format=\"p{1.0cm}p{1.5cm}p{1.5cm}p{1.5cm}\",\n",
    "    caption=r\"\\ac{MAE} of the Outlier Correction algorithms on the B-point extraction algorithms on the \\textit{EmpkinS Dataset}. The algorithms are sorted by the \\acf{MAE} in ascending order. The lowest \\ac{MAE} values per algorithm are highlighted in \\textbf{bold}. \\ac{MAE} values are provided in milliseconds as (\\(M\\,\\pm\\,SD\\)).\",\n",
    "    label=\"tab:outlier_correction_results_empkins\",\n",
    ")\n",
    "\n",
    "# some manual post-processing\n",
    "latex_output = latex_output.replace(\n",
    "    r\"\\multicolumn{3}{r}{\\bfseries Mean Absolute Error [ms]}\",\n",
    "    r\"\\multicolumn{3}{l}{\\bfseries Outlier Correction Algorithm}\",\n",
    ")\n",
    "latex_output = latex_output.replace(r\"Outlier Correction & \", r\"{\\bfseries B-point Algorithm} & \")\n",
    "latex_output = latex_output.replace(r\"B-Point Detection &  &  &  \\\\\", r\"\")\n",
    "latex_output = latex_output.replace(r\" \\pm \", r\"\\(\\pm\\)\")\n",
    "\n",
    "tab_path_paper.joinpath(\"tab_outlier_correction_results_empkins.tex\").open(mode=\"w+\").write(latex_output)\n",
    "\n",
    "print(latex_output)"
   ]
  },
  {
   "cell_type": "markdown",
   "metadata": {},
   "source": [
    "### Outlier Correction Residual Plots"
   ]
  },
  {
   "cell_type": "code",
   "execution_count": null,
   "metadata": {},
   "outputs": [],
   "source": [
    "for algo in selected_algos_for_residual_outlier_correction_empkins:\n",
    "    fig, axs = plt.subplots(ncols=3, figsize=(12, 4), sharey=True)\n",
    "\n",
    "    results_per_algorithm_plot_empkins = results_per_sample_empkins.xs(\n",
    "        algo, level=\"b_point_algorithm\", drop_level=False\n",
    "    )\n",
    "\n",
    "    for i, outlier_algo in enumerate(outlier_algos):\n",
    "        selected_algo = [algo, outlier_algo]\n",
    "        residual_plot_pep(\n",
    "            results_per_sample_empkins, selected_algo, ax=axs[i], show_upper_limit=True, annotate_fontsize=\"small\"\n",
    "        )\n",
    "        if i != 0:\n",
    "            axs[i].set_ylabel(None)\n",
    "        axs[i].set_ylim([-125, 150])\n",
    "\n",
    "    fig.tight_layout()\n",
    "    for path in [img_path, suppl_img_path_paper]:\n",
    "        fig.savefig(\n",
    "            path.joinpath(f\"img_residual_plots_b_point_outlier_correction_{algo}_empkins.pdf\"), transparent=True\n",
    "        )"
   ]
  },
  {
   "cell_type": "code",
   "execution_count": null,
   "metadata": {},
   "outputs": [],
   "source": [
    "dv = \"absolute_error_per_sample_ms\"\n",
    "\n",
    "for algo in selected_algos_for_residual_outlier_correction_empkins:\n",
    "    results_per_algorithm_plot_empkins = results_per_sample_empkins.xs(algo, level=\"b_point_algorithm\")\n",
    "    data_plot_paired = add_unique_id_to_results_dataframe(results_per_algorithm_plot_empkins[[dv]])\n",
    "\n",
    "    outlier_algo_combis = [(outlier_algos[0], outlier_algos[1]), (outlier_algos[0], outlier_algos[2])]\n",
    "\n",
    "    fig, axs = plt.subplots(ncols=2, figsize=(4, 4), sharey=True)\n",
    "    fig, axs = paired_plot_error_outlier_correction(\n",
    "        data=data_plot_paired, outlier_algo_combis=outlier_algo_combis, dv=dv, title=algo, axs=axs\n",
    "    )\n",
    "\n",
    "    display(Markdown(f\"**B-point Algorithm**: {algo}\"))\n",
    "    for outlier_algo in outlier_algo_combis:\n",
    "        display(Markdown(f\"\"\"**Outlier Correction Algorithms**: {\" vs. \".join(outlier_algo)}\"\"\"))\n",
    "        display(compute_improvement_outlier_correction(data_plot_paired, outlier_algo))\n",
    "\n",
    "    fig.tight_layout()\n",
    "    for path in [img_path, suppl_img_path_paper]:\n",
    "        fig.savefig(\n",
    "            path.joinpath(f\"img_paired_plot_b_point_outlier_correction_improvement_{algo}_empkins.pdf\"),\n",
    "            transparent=True,\n",
    "        )"
   ]
  },
  {
   "cell_type": "markdown",
   "metadata": {},
   "source": [
    "### `NaN` Reason Table"
   ]
  },
  {
   "cell_type": "code",
   "execution_count": null,
   "metadata": {},
   "outputs": [],
   "source": [
    "nan_reason_table_empkins = create_nan_reason_table(\n",
    "    results_per_sample_empkins, outlier_algos=outlier_algos, use_short_names=True\n",
    ")\n",
    "nan_reason_table_empkins.head()"
   ]
  },
  {
   "cell_type": "markdown",
   "metadata": {},
   "source": [
    "#### To LaTeX"
   ]
  },
  {
   "cell_type": "code",
   "execution_count": null,
   "metadata": {},
   "outputs": [],
   "source": [
    "latex_output = convert_to_latex(\n",
    "    nan_reason_table_empkins,\n",
    "    column_format=\"p{1.5cm}\" * 2 + \"p{1.0cm}\" * len(nan_reason_table_empkins.columns),\n",
    "    column_header_bold=True,\n",
    "    escape_columns=True,\n",
    "    caption=r\"Overview of invalid PEP reasons for different B-point algorithms on the \\textit{EmpkinS Dataset}. Abbreviations: \"\n",
    "    + \", \".join([rf\"\\textit{{{k}}}: {v}\" for k, v in get_nan_reason_mapping().items()]),\n",
    "    label=\"tab:nan_reasons_empkins\",\n",
    ")\n",
    "\n",
    "# some manual post-processing\n",
    "latex_output = latex_output.replace(r\"\\centering\", r\"\\small\\centering\")\n",
    "latex_output = latex_output.replace(r\"{Reason}\", r\"{\\bfseries Reason}\")\n",
    "\n",
    "suppl_tab_path_paper.joinpath(\"tab_b_point_nan_reason_empkins.tex\").open(mode=\"w+\").write(latex_output)\n",
    "print(latex_output)"
   ]
  },
  {
   "cell_type": "code",
   "execution_count": null,
   "metadata": {},
   "outputs": [],
   "source": []
  }
 ],
 "metadata": {
  "jupytext": {
   "encoding": "# -*- coding: utf-8 -*-",
   "text_representation": {
    "extension": ".py",
    "format_name": "sphinx",
    "format_version": "1.1",
    "jupytext_version": "1.13.0"
   }
  },
  "kernelspec": {
   "display_name": "pepbench",
   "language": "python",
   "name": "pepbench"
  },
  "language_info": {
   "codemirror_mode": {
    "name": "ipython",
    "version": 3
   },
   "file_extension": ".py",
   "mimetype": "text/x-python",
   "name": "python",
   "nbconvert_exporter": "python",
   "pygments_lexer": "ipython3",
   "version": "3.10.14"
  },
  "toc-showtags": false,
  "vscode": {
   "interpreter": {
    "hash": "7014e6a8beff3a47c7c0424a6c63a486addc0ee3d12468bf1ae9a85a56cca70c"
   }
  }
 },
 "nbformat": 4,
 "nbformat_minor": 4
}
