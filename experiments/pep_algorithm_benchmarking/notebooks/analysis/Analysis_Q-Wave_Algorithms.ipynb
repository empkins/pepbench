{
 "cells": [
  {
   "cell_type": "markdown",
   "metadata": {
    "cell_marker": "\"\"\""
   },
   "source": [
    "# Analysis Q-Wave Algorithms"
   ]
  },
  {
   "cell_type": "markdown",
   "metadata": {},
   "source": [
    "## Setup and Helper Functions"
   ]
  },
  {
   "cell_type": "code",
   "execution_count": null,
   "metadata": {},
   "outputs": [],
   "source": [
    "import json\n",
    "from pathlib import Path\n",
    "\n",
    "import matplotlib.pyplot as plt\n",
    "import seaborn as sns\n",
    "from fau_colors import cmaps, register_fausans_font\n",
    "\n",
    "from pepbench.data_handling import compute_pep_performance_metrics\n",
    "from pepbench.datasets import EmpkinsDataset\n",
    "from pepbench.io import load_challenge_results_from_folder\n",
    "from pepbench.plotting.results import (\n",
    "    boxplot_algorithm_performance,\n",
    "    regplot_error_heart_rate,\n",
    "    regplot_pep_heart_rate,\n",
    "    residual_plot_pep,\n",
    "    residual_plot_pep_heart_rate,\n",
    "    residual_plot_pep_phase,\n",
    "    residual_plot_pep_subject,\n",
    "    violinplot_algorithm_performance,\n",
    ")\n",
    "\n",
    "%matplotlib widget\n",
    "%load_ext autoreload\n",
    "%autoreload 2"
   ]
  },
  {
   "cell_type": "code",
   "execution_count": null,
   "metadata": {},
   "outputs": [],
   "source": [
    "register_fausans_font()\n",
    "plt.close(\"all\")\n",
    "\n",
    "palette = sns.color_palette(cmaps.faculties_light)\n",
    "sns.set_theme(context=\"notebook\", style=\"ticks\", font=\"sans-serif\", palette=palette)\n",
    "\n",
    "plt.rcParams[\"figure.figsize\"] = (10, 5)\n",
    "plt.rcParams[\"pdf.fonttype\"] = 42\n",
    "plt.rcParams[\"mathtext.default\"] = \"regular\"\n",
    "plt.rcParams[\"font.family\"] = \"sans-serif\"\n",
    "plt.rcParams[\"font.sans-serif\"] = \"FAUSans Office\"\n",
    "\n",
    "palette"
   ]
  },
  {
   "cell_type": "code",
   "execution_count": null,
   "metadata": {},
   "outputs": [],
   "source": [
    "root_path = Path(\"../../\")"
   ]
  },
  {
   "cell_type": "code",
   "execution_count": null,
   "metadata": {},
   "outputs": [],
   "source": [
    "deploy_type = \"local\"\n",
    "\n",
    "config_dict = json.load(root_path.joinpath(\"config.json\").open(encoding=\"utf-8\"))\n",
    "\n",
    "empkins_base_path = Path(config_dict[deploy_type][\"empkins_path\"])\n",
    "guardian_base_path = Path(config_dict[deploy_type][\"guardian_path\"])\n",
    "print(empkins_base_path)"
   ]
  },
  {
   "cell_type": "code",
   "execution_count": null,
   "metadata": {},
   "outputs": [],
   "source": [
    "result_path = root_path.joinpath(\"results\")"
   ]
  },
  {
   "cell_type": "code",
   "execution_count": null,
   "metadata": {},
   "outputs": [],
   "source": [
    "dataset_empkins = EmpkinsDataset(empkins_base_path, use_cache=True, only_labeled=True)\n",
    "dataset_empkins"
   ]
  },
  {
   "cell_type": "code",
   "execution_count": null,
   "metadata": {},
   "outputs": [],
   "source": [
    "algo_levels = [\"q_wave_algorithm\", \"b_point_algorithm\", \"outlier_correction_algorithm\"]\n",
    "algo_level_mapping = dict(zip(algo_levels, [\"Q-Wave Algorithm\", \"B-Point Algorithm\", \"Outlier Correction\"]))"
   ]
  },
  {
   "cell_type": "code",
   "execution_count": null,
   "metadata": {},
   "outputs": [],
   "source": [
    "results_empkins = load_challenge_results_from_folder(\n",
    "    result_path.joinpath(\"empkins_dataset_reference_b_point\"),\n",
    "    index_cols_per_sample=[\"participant\", \"condition\", \"phase\"],\n",
    ")"
   ]
  },
  {
   "cell_type": "code",
   "execution_count": null,
   "metadata": {},
   "outputs": [],
   "source": [
    "results_guardian = load_challenge_results_from_folder(\n",
    "    result_path.joinpath(\"guardian_dataset_reference_b_point\"), index_cols_per_sample=[\"participant\", \"phase\"]\n",
    ")"
   ]
  },
  {
   "cell_type": "code",
   "execution_count": null,
   "metadata": {},
   "outputs": [],
   "source": [
    "metrics_empkins = compute_pep_performance_metrics(results_empkins.per_sample, num_heartbeats=results_empkins.agg_total)\n",
    "metrics_empkins"
   ]
  },
  {
   "cell_type": "code",
   "execution_count": null,
   "metadata": {},
   "outputs": [],
   "source": [
    "fig, ax = boxplot_algorithm_performance(\n",
    "    results_empkins.per_sample,\n",
    "    metric=\"absolute_error_per_sample_ms\",\n",
    "    showmeans=True,\n",
    "    palette=cmaps.faculties_light,\n",
    "    figsize=(12, 5),\n",
    ")"
   ]
  },
  {
   "cell_type": "code",
   "execution_count": null,
   "metadata": {},
   "outputs": [],
   "source": [
    "fig, ax = violinplot_algorithm_performance(\n",
    "    results_empkins.per_sample,\n",
    "    metric=\"error_per_sample_ms\",\n",
    "    showmeans=True,\n",
    "    palette=cmaps.faculties_light,\n",
    "    figsize=(12, 5),\n",
    ")"
   ]
  },
  {
   "cell_type": "code",
   "execution_count": null,
   "metadata": {},
   "outputs": [],
   "source": [
    "fig, ax = violinplot_algorithm_performance(\n",
    "    results_empkins.per_sample,\n",
    "    metric=\"absolute_error_per_sample_ms\",\n",
    "    showmeans=True,\n",
    "    palette=cmaps.faculties_light,\n",
    "    figsize=(12, 5),\n",
    ")"
   ]
  },
  {
   "cell_type": "code",
   "execution_count": null,
   "metadata": {},
   "outputs": [],
   "source": [
    "algo_combination = (\"dwt-neurokit\", \"b-point-reference\", \"none\")\n",
    "algo_combination_2 = (\"r-peak-diff-32-ms\", \"b-point-reference\", \"none\")"
   ]
  },
  {
   "cell_type": "code",
   "execution_count": null,
   "metadata": {},
   "outputs": [],
   "source": [
    "fig, ax = residual_plot_pep(results_empkins.per_sample, algo_combination)\n",
    "fig, ax = residual_plot_pep(results_empkins.per_sample, algo_combination_2)"
   ]
  },
  {
   "cell_type": "code",
   "execution_count": null,
   "metadata": {},
   "outputs": [],
   "source": [
    "fig, ax = residual_plot_pep_subject(results_empkins.per_sample, algo_combination, alpha=0.5)\n",
    "fig, ax = residual_plot_pep_subject(results_empkins.per_sample, algo_combination_2, alpha=0.5)"
   ]
  },
  {
   "cell_type": "code",
   "execution_count": null,
   "metadata": {},
   "outputs": [],
   "source": [
    "fig, ax = residual_plot_pep_phase(results_empkins.per_sample, algo_combination)\n",
    "fig, ax = residual_plot_pep_phase(results_empkins.per_sample, algo_combination_2)"
   ]
  },
  {
   "cell_type": "code",
   "execution_count": null,
   "metadata": {},
   "outputs": [],
   "source": [
    "fig, ax = residual_plot_pep_heart_rate(results_empkins.per_sample, algo_combination, alpha=0.5)\n",
    "fig, ax = residual_plot_pep_heart_rate(results_empkins.per_sample, algo_combination_2, alpha=0.5)"
   ]
  },
  {
   "cell_type": "code",
   "execution_count": null,
   "metadata": {},
   "outputs": [],
   "source": [
    "fig, ax = regplot_error_heart_rate(\n",
    "    results_empkins.per_sample, algo_combination, error_metric=\"absolute_error_per_sample_ms\"\n",
    ")\n",
    "fig, ax = regplot_error_heart_rate(\n",
    "    results_empkins.per_sample, algo_combination_2, error_metric=\"absolute_error_per_sample_ms\"\n",
    ")"
   ]
  },
  {
   "cell_type": "code",
   "execution_count": null,
   "metadata": {},
   "outputs": [],
   "source": [
    "fig, ax = regplot_pep_heart_rate(results_empkins.per_sample, algo_combination)"
   ]
  },
  {
   "cell_type": "code",
   "execution_count": null,
   "metadata": {},
   "outputs": [],
   "source": [
    "# for key, df in results_empkins.per_sample.groupby(algo_levels):\n",
    "#    fig, ax = plot_error_residual(df, algorithm=key)"
   ]
  },
  {
   "cell_type": "code",
   "execution_count": null,
   "metadata": {},
   "outputs": [],
   "source": [
    "results_empkins.per_sample[(\"nan_reason\", \"estimated\")].groupby(algo_levels).value_counts().to_frame()"
   ]
  },
  {
   "cell_type": "code",
   "execution_count": null,
   "metadata": {},
   "outputs": [],
   "source": [
    "algo_test = results_empkins.per_sample.xs((\"dwt-neurokit\", \"b-point-reference\", \"none\"))\n",
    "isna_mask = algo_test[(\"pep_ms\", \"estimated\")].isna()\n",
    "\n",
    "algo_test.loc[isna_mask]"
   ]
  },
  {
   "cell_type": "code",
   "execution_count": null,
   "metadata": {},
   "outputs": [],
   "source": []
  }
 ],
 "metadata": {
  "jupytext": {
   "encoding": "# -*- coding: utf-8 -*-",
   "text_representation": {
    "extension": ".py",
    "format_name": "sphinx",
    "format_version": "1.1",
    "jupytext_version": "1.13.0"
   }
  },
  "kernelspec": {
   "display_name": "pepbench",
   "language": "python",
   "name": "pepbench"
  },
  "language_info": {
   "codemirror_mode": {
    "name": "ipython",
    "version": 3
   },
   "file_extension": ".py",
   "mimetype": "text/x-python",
   "name": "python",
   "nbconvert_exporter": "python",
   "pygments_lexer": "ipython3",
   "version": "3.10.14"
  },
  "toc-showtags": false,
  "vscode": {
   "interpreter": {
    "hash": "7014e6a8beff3a47c7c0424a6c63a486addc0ee3d12468bf1ae9a85a56cca70c"
   }
  }
 },
 "nbformat": 4,
 "nbformat_minor": 4
}
