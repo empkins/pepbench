{
 "cells": [
  {
   "cell_type": "markdown",
   "metadata": {
    "cell_marker": "\"\"\""
   },
   "source": [
    "# Analysis B-Point Algorithms - EmpkinS & Guardian Combined"
   ]
  },
  {
   "cell_type": "markdown",
   "metadata": {},
   "source": [
    "## Setup and Helper Functions"
   ]
  },
  {
   "cell_type": "markdown",
   "metadata": {},
   "source": [
    "### Imports"
   ]
  },
  {
   "cell_type": "code",
   "execution_count": null,
   "metadata": {},
   "outputs": [],
   "source": [
    "import json\n",
    "from pathlib import Path\n",
    "\n",
    "import biopsykit as bp\n",
    "import matplotlib.pyplot as plt\n",
    "import pandas as pd\n",
    "import seaborn as sns\n",
    "from biopsykit.utils.dataframe_handling import multi_xs\n",
    "from fau_colors import cmaps, register_fausans_font\n",
    "\n",
    "from pepbench.datasets import EmpkinsDataset, GuardianDataset\n",
    "from pepbench.export import convert_to_latex, create_nan_reason_table\n",
    "from pepbench.io import load_challenge_results_from_folder\n",
    "from pepbench.plotting.results import (\n",
    "    boxplot_algorithm_performance,\n",
    ")\n",
    "from pepbench.utils import get_nan_reason_mapping\n",
    "\n",
    "%matplotlib widget\n",
    "%load_ext autoreload\n",
    "%autoreload 2"
   ]
  },
  {
   "cell_type": "code",
   "execution_count": null,
   "metadata": {},
   "outputs": [],
   "source": [
    "register_fausans_font()\n",
    "plt.close(\"all\")\n",
    "\n",
    "palette = sns.color_palette(cmaps.faculties_light)\n",
    "sns.set_theme(context=\"notebook\", style=\"ticks\", font=\"sans-serif\", palette=palette)\n",
    "\n",
    "plt.rcParams[\"figure.figsize\"] = (10, 5)\n",
    "plt.rcParams[\"pdf.fonttype\"] = 42\n",
    "plt.rcParams[\"mathtext.default\"] = \"regular\"\n",
    "plt.rcParams[\"font.family\"] = \"sans-serif\"\n",
    "plt.rcParams[\"font.sans-serif\"] = \"FAUSans Office\"\n",
    "\n",
    "palette"
   ]
  },
  {
   "cell_type": "code",
   "execution_count": null,
   "metadata": {},
   "outputs": [],
   "source": [
    "root_path = Path(\"../../\")"
   ]
  },
  {
   "cell_type": "code",
   "execution_count": null,
   "metadata": {},
   "outputs": [],
   "source": [
    "deploy_type = \"local\"\n",
    "\n",
    "config_dict = json.load(root_path.joinpath(\"config.json\").open(encoding=\"utf-8\"))\n",
    "\n",
    "empkins_base_path = Path(config_dict[deploy_type][\"empkins_path\"])\n",
    "guardian_base_path = Path(config_dict[deploy_type][\"guardian_path\"])\n",
    "print(empkins_base_path, guardian_base_path)"
   ]
  },
  {
   "cell_type": "markdown",
   "metadata": {},
   "source": [
    "### Input Paths"
   ]
  },
  {
   "cell_type": "code",
   "execution_count": null,
   "metadata": {},
   "outputs": [],
   "source": [
    "result_path = root_path.joinpath(\"results\")"
   ]
  },
  {
   "cell_type": "markdown",
   "metadata": {},
   "source": [
    "### Output Paths"
   ]
  },
  {
   "cell_type": "code",
   "execution_count": null,
   "metadata": {},
   "outputs": [],
   "source": [
    "paper_path = json.load(root_path.joinpath(\"paper_path.json\").open(encoding=\"utf-8\"))[\"paper_path\"]\n",
    "paper_path = Path(paper_path)\n",
    "\n",
    "export_path = root_path.joinpath(\"exports\")\n",
    "img_path = export_path.joinpath(\"plots\")\n",
    "stats_path = export_path.joinpath(\"stats\")\n",
    "\n",
    "img_path_paper = paper_path.joinpath(\"img\")\n",
    "tab_path_paper = paper_path.joinpath(\"tab\")\n",
    "suppl_img_path_paper = paper_path.joinpath(\"supplementary_material/img\")\n",
    "suppl_tab_path_paper = paper_path.joinpath(\"supplementary_material/tab\")\n",
    "\n",
    "bp.utils.file_handling.mkdirs(\n",
    "    [\n",
    "        result_path,\n",
    "        export_path,\n",
    "        img_path,\n",
    "        stats_path,\n",
    "        img_path_paper,\n",
    "        tab_path_paper,\n",
    "        suppl_img_path_paper,\n",
    "        suppl_tab_path_paper,\n",
    "    ]\n",
    ")"
   ]
  },
  {
   "cell_type": "code",
   "execution_count": null,
   "metadata": {},
   "outputs": [],
   "source": [
    "algo_levels = [\"b_point_algorithm\", \"outlier_correction_algorithm\"]\n",
    "algo_level_mapping = dict(zip(algo_levels, [\"B-Point Algorithm\", \"Outlier Correction\"], strict=False))"
   ]
  },
  {
   "cell_type": "code",
   "execution_count": null,
   "metadata": {},
   "outputs": [],
   "source": [
    "rater_id = \"rater_01\""
   ]
  },
  {
   "cell_type": "markdown",
   "metadata": {},
   "source": [
    "## Load EmpkinsDataset"
   ]
  },
  {
   "cell_type": "code",
   "execution_count": null,
   "metadata": {},
   "outputs": [],
   "source": [
    "dataset_empkins = EmpkinsDataset(empkins_base_path, use_cache=True, only_labeled=True, label_type=rater_id)\n",
    "dataset_empkins"
   ]
  },
  {
   "cell_type": "code",
   "execution_count": null,
   "metadata": {},
   "outputs": [],
   "source": [
    "selected_algos_for_plotting = [\n",
    "    (\"debski1993-second-derivative\", \"none\"),\n",
    "    (\"lozano2007-linear-regression\", \"none\"),\n",
    "    (\"forouzanfar2018\", \"none\"),\n",
    "    (\"drost2022\", \"none\"),\n",
    "]"
   ]
  },
  {
   "cell_type": "code",
   "execution_count": null,
   "metadata": {},
   "outputs": [],
   "source": [
    "results_empkins = load_challenge_results_from_folder(\n",
    "    result_path.joinpath(f\"empkins_dataset_b_point/{rater_id}\"),\n",
    "    index_cols_per_sample=[\"participant\", \"condition\", \"phase\"],\n",
    ")"
   ]
  },
  {
   "cell_type": "code",
   "execution_count": null,
   "metadata": {},
   "outputs": [],
   "source": [
    "results_per_sample_empkins = results_empkins.per_sample.droplevel([0])\n",
    "results_agg_total_empkins = results_empkins.agg_total.droplevel([0])\n",
    "results_per_sample_empkins.head()"
   ]
  },
  {
   "cell_type": "code",
   "execution_count": null,
   "metadata": {},
   "outputs": [],
   "source": [
    "results_empkins_plot = multi_xs(data=results_per_sample_empkins, keys=selected_algos_for_plotting, level=algo_levels)\n",
    "results_empkins_plot = results_empkins_plot.droplevel(\"outlier_correction_algorithm\")\n",
    "results_empkins_plot = results_empkins_plot.reindex([s[0] for s in selected_algos_for_plotting], level=0)\n",
    "results_empkins_plot.head()"
   ]
  },
  {
   "cell_type": "markdown",
   "metadata": {},
   "source": [
    "## Load GuardianDataset"
   ]
  },
  {
   "cell_type": "code",
   "execution_count": null,
   "metadata": {},
   "outputs": [],
   "source": [
    "dataset_guardian = GuardianDataset(guardian_base_path, use_cache=True, only_labeled=True, label_type=rater_id)\n",
    "dataset_guardian"
   ]
  },
  {
   "cell_type": "code",
   "execution_count": null,
   "metadata": {},
   "outputs": [],
   "source": [
    "results_guardian = load_challenge_results_from_folder(\n",
    "    result_path.joinpath(f\"guardian_dataset_b_point/{rater_id}\"),\n",
    "    index_cols_per_sample=[\"participant\", \"phase\"],\n",
    ")"
   ]
  },
  {
   "cell_type": "code",
   "execution_count": null,
   "metadata": {},
   "outputs": [],
   "source": [
    "results_per_sample_guardian = results_guardian.per_sample.droplevel([0])\n",
    "results_agg_total_guardian = results_guardian.agg_total.droplevel([0])\n",
    "results_per_sample_guardian.head()"
   ]
  },
  {
   "cell_type": "code",
   "execution_count": null,
   "metadata": {},
   "outputs": [],
   "source": [
    "results_guardian_plot = multi_xs(data=results_per_sample_guardian, keys=selected_algos_for_plotting, level=algo_levels)\n",
    "results_guardian_plot = results_guardian_plot.droplevel(\"outlier_correction_algorithm\")\n",
    "results_guardian_plot = results_guardian_plot.reindex([s[0] for s in selected_algos_for_plotting], level=0)\n",
    "results_guardian_plot.head()"
   ]
  },
  {
   "cell_type": "markdown",
   "metadata": {},
   "source": [
    "## Combined Figures"
   ]
  },
  {
   "cell_type": "markdown",
   "metadata": {},
   "source": [
    "### Absolute Error - EmpkinS and Guardian"
   ]
  },
  {
   "cell_type": "code",
   "execution_count": null,
   "metadata": {},
   "outputs": [],
   "source": [
    "fig, axs = plt.subplots(ncols=2, figsize=(10, 2), sharey=True)\n",
    "\n",
    "boxplot_algorithm_performance(\n",
    "    results_empkins_plot,\n",
    "    metric=\"absolute_error_per_sample_ms\",\n",
    "    showmeans=True,\n",
    "    showfliers=False,\n",
    "    width=0.9,\n",
    "    title=\"EmpkinS Dataset – B-Point Detection\",\n",
    "    fig=fig,\n",
    "    ax=axs[0],\n",
    ")\n",
    "boxplot_algorithm_performance(\n",
    "    results_guardian_plot,\n",
    "    metric=\"absolute_error_per_sample_ms\",\n",
    "    showmeans=True,\n",
    "    showfliers=False,\n",
    "    width=0.9,\n",
    "    title=\"Guardian Dataset – B-Point Detection\",\n",
    "    fig=fig,\n",
    "    ax=axs[1],\n",
    ")\n",
    "for ax in axs:\n",
    "    ax.set_xlabel(None)\n",
    "axs[1].set_ylabel(None)\n",
    "\n",
    "fig.tight_layout()\n",
    "\n",
    "for path in [img_path, img_path_paper]:\n",
    "    fig.savefig(path.joinpath(\"img_boxplot_b_point_algorithms_mae_combined.pdf\"), transparent=True)"
   ]
  },
  {
   "cell_type": "markdown",
   "metadata": {},
   "source": [
    "### `NaN` Reason Table"
   ]
  },
  {
   "cell_type": "code",
   "execution_count": null,
   "metadata": {},
   "outputs": [],
   "source": [
    "outlier_algos = [\"none\", \"linear-interpolation\", \"forouzanfar2018\"]\n",
    "outlier_algos_rename = [\"None\", \"LinInt\", \"For18\"]"
   ]
  },
  {
   "cell_type": "code",
   "execution_count": null,
   "metadata": {},
   "outputs": [],
   "source": [
    "nan_reason_table_empkins = create_nan_reason_table(\n",
    "    results_per_sample_empkins, outlier_algos=outlier_algos, use_short_names=True\n",
    ")\n",
    "nan_reason_table_empkins.head()"
   ]
  },
  {
   "cell_type": "code",
   "execution_count": null,
   "metadata": {},
   "outputs": [],
   "source": [
    "nan_reason_table_guardian = create_nan_reason_table(\n",
    "    results_per_sample_guardian, outlier_algos=outlier_algos, use_short_names=True\n",
    ")\n",
    "nan_reason_table_guardian.head()"
   ]
  },
  {
   "cell_type": "code",
   "execution_count": null,
   "metadata": {},
   "outputs": [],
   "source": [
    "nan_reason_table_combined = pd.concat(\n",
    "    {\"EmpkinS\": nan_reason_table_empkins, \"Guardian\": nan_reason_table_guardian}, names=[\"Dataset\"], axis=1\n",
    ")\n",
    "nan_reason_table_combined = nan_reason_table_combined.reorder_levels([1, 0], axis=1).sort_index(axis=1)\n",
    "nan_reason_table_combined = nan_reason_table_combined.xs(\"None\", level=\"Outlier Correction\")\n",
    "nan_reason_table_combined"
   ]
  },
  {
   "cell_type": "markdown",
   "metadata": {},
   "source": [
    "#### To LaTeX"
   ]
  },
  {
   "cell_type": "code",
   "execution_count": null,
   "metadata": {},
   "outputs": [],
   "source": [
    "latex_output = convert_to_latex(\n",
    "    nan_reason_table_empkins,\n",
    "    column_format=\"p{1.5cm}\" * 2 + \"p{1.0cm}\" * len(nan_reason_table_empkins.columns),\n",
    "    column_header_bold=True,\n",
    "    escape_columns=True,\n",
    "    caption=r\"Overview of invalid PEP reasons for different B-point algorithms on the \\textit{EmpkinS Dataset}. Abbreviations: \"\n",
    "    + \", \".join([rf\"\\textit{{{k}}}: {v}\" for k, v in get_nan_reason_mapping().items()]),\n",
    "    label=\"tab:nan_reasons_empkins\",\n",
    ")\n",
    "\n",
    "# some manual post-processing\n",
    "latex_output = latex_output.replace(r\"\\centering\", r\"\\small\\centering\")\n",
    "latex_output = latex_output.replace(r\"{Reason}\", r\"{\\bfseries Reason}\")\n",
    "\n",
    "suppl_tab_path_paper.joinpath(\"tab_b_point_nan_reason_empkins.tex\").open(mode=\"w+\").write(latex_output)\n",
    "print(latex_output)"
   ]
  },
  {
   "cell_type": "code",
   "execution_count": null,
   "metadata": {},
   "outputs": [],
   "source": [
    "heartbeat_ids_invalid = results_per_sample_guardian.loc[\n",
    "    results_per_sample_guardian.index[(~results_per_sample_guardian[(\"nan_reason\", \"estimated\")].isna())]\n",
    "].loc[pd.IndexSlice[\"lozano2007-linear-regression\", \"none\"]][[(\"heartbeat_id\", \"estimated\")]]\n",
    "heartbeat_ids_invalid = heartbeat_ids_invalid.rename({\"TiltDown\": \"TiltLevel\"}, level=\"phase\")\n",
    "heartbeat_ids_invalid"
   ]
  },
  {
   "cell_type": "code",
   "execution_count": null,
   "metadata": {},
   "outputs": [],
   "source": [
    "fig, ax = plt.subplots()\n",
    "\n",
    "sns.violinplot(\n",
    "    data=heartbeat_ids_invalid.reset_index(),\n",
    "    x=\"phase\",\n",
    "    hue=\"phase\",\n",
    "    y=(\"heartbeat_id\", \"estimated\"),\n",
    "    ax=ax,\n",
    "    palette=cmaps.faculties_125,\n",
    "    order=dataset_guardian.PHASES,\n",
    ")\n",
    "sns.swarmplot(\n",
    "    data=heartbeat_ids_invalid.reset_index(),\n",
    "    x=\"phase\",\n",
    "    hue=\"phase\",\n",
    "    y=(\"heartbeat_id\", \"estimated\"),\n",
    "    ax=ax,\n",
    "    palette=cmaps.faculties,\n",
    "    order=dataset_guardian.PHASES,\n",
    ")\n",
    "\n",
    "ax.set_ylabel(\"Heartbeat ID\")\n",
    "\n",
    "fig.tight_layout()"
   ]
  },
  {
   "cell_type": "code",
   "execution_count": null,
   "metadata": {},
   "outputs": [],
   "source": []
  },
  {
   "cell_type": "code",
   "execution_count": null,
   "metadata": {},
   "outputs": [],
   "source": []
  }
 ],
 "metadata": {
  "jupytext": {
   "encoding": "# -*- coding: utf-8 -*-",
   "text_representation": {
    "extension": ".py",
    "format_name": "sphinx",
    "format_version": "1.1",
    "jupytext_version": "1.13.0"
   }
  },
  "kernelspec": {
   "display_name": "pepbench",
   "language": "python",
   "name": "pepbench"
  },
  "language_info": {
   "codemirror_mode": {
    "name": "ipython",
    "version": 3
   },
   "file_extension": ".py",
   "mimetype": "text/x-python",
   "name": "python",
   "nbconvert_exporter": "python",
   "pygments_lexer": "ipython3",
   "version": "3.10.14"
  },
  "toc-showtags": false,
  "vscode": {
   "interpreter": {
    "hash": "7014e6a8beff3a47c7c0424a6c63a486addc0ee3d12468bf1ae9a85a56cca70c"
   }
  }
 },
 "nbformat": 4,
 "nbformat_minor": 4
}
