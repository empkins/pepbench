{
 "cells": [
  {
   "cell_type": "markdown",
   "metadata": {
    "cell_marker": "\"\"\""
   },
   "source": [
    "# Analysis Reference PEP"
   ]
  },
  {
   "cell_type": "markdown",
   "metadata": {},
   "source": [
    "## Setup and Helper Functions"
   ]
  },
  {
   "cell_type": "markdown",
   "metadata": {},
   "source": [
    "### Imports"
   ]
  },
  {
   "cell_type": "code",
   "execution_count": null,
   "metadata": {},
   "outputs": [],
   "source": [
    "import json\n",
    "from pathlib import Path\n",
    "\n",
    "import biopsykit as bp\n",
    "import matplotlib.pyplot as plt\n",
    "import seaborn as sns\n",
    "from biopsykit.stats import StatsPipeline\n",
    "from fau_colors import cmaps, register_fausans_font\n",
    "\n",
    "from pepbench.data_handling import (\n",
    "    correlation_reference_pep_heart_rate,\n",
    "    describe_pep_values,\n",
    "    get_reference_data,\n",
    "    rr_interval_to_heart_rate,\n",
    ")\n",
    "from pepbench.export import convert_to_latex, create_reference_pep_table\n",
    "from pepbench.io import load_challenge_results_from_folder\n",
    "from pepbench.plotting.results import boxplot_reference_pep, regplot_pep_heart_rate, histplot_heart_rate\n",
    "\n",
    "%matplotlib widget\n",
    "%load_ext autoreload\n",
    "%autoreload 2"
   ]
  },
  {
   "cell_type": "code",
   "execution_count": null,
   "metadata": {},
   "outputs": [],
   "source": [
    "register_fausans_font()\n",
    "plt.close(\"all\")\n",
    "\n",
    "palette = sns.color_palette(cmaps.faculties_light)\n",
    "sns.set_theme(context=\"notebook\", style=\"ticks\", font=\"sans-serif\", palette=palette)\n",
    "\n",
    "plt.rcParams[\"figure.figsize\"] = (10, 5)\n",
    "plt.rcParams[\"pdf.fonttype\"] = 42\n",
    "plt.rcParams[\"mathtext.default\"] = \"regular\"\n",
    "plt.rcParams[\"font.family\"] = \"sans-serif\"\n",
    "plt.rcParams[\"font.sans-serif\"] = \"FAUSans Office\"\n",
    "\n",
    "palette"
   ]
  },
  {
   "cell_type": "code",
   "execution_count": null,
   "metadata": {},
   "outputs": [],
   "source": [
    "root_path = Path(\"../../\")"
   ]
  },
  {
   "cell_type": "code",
   "execution_count": null,
   "metadata": {},
   "outputs": [],
   "source": [
    "deploy_type = \"local\"\n",
    "\n",
    "config_dict = json.load(root_path.joinpath(\"config.json\").open(encoding=\"utf-8\"))\n",
    "\n",
    "empkins_base_path = Path(config_dict[deploy_type][\"empkins_path\"])\n",
    "guardian_base_path = Path(config_dict[deploy_type][\"guardian_path\"])"
   ]
  },
  {
   "cell_type": "code",
   "execution_count": null,
   "metadata": {},
   "outputs": [],
   "source": [
    "paper_path = json.load(root_path.joinpath(\"paper_path.json\").open(encoding=\"utf-8\"))[\"paper_path\"]\n",
    "paper_path = Path(paper_path)\n",
    "\n",
    "result_path = root_path.joinpath(\"results\")\n",
    "export_path = root_path.joinpath(\"exports\")\n",
    "img_path = export_path.joinpath(\"plots\")\n",
    "stats_path = export_path.joinpath(\"stats\")\n",
    "\n",
    "img_path_paper = paper_path.joinpath(\"img\")\n",
    "tab_path_paper = paper_path.joinpath(\"tab\")\n",
    "suppl_img_path_paper = paper_path.joinpath(\"supplementary_material/img\")\n",
    "suppl_tab_path_paper = paper_path.joinpath(\"supplementary_material/tab\")\n",
    "\n",
    "bp.utils.file_handling.mkdirs([result_path, export_path, img_path, stats_path, img_path_paper, tab_path_paper, suppl_img_path_paper, suppl_tab_path_paper])"
   ]
  },
  {
   "cell_type": "code",
   "execution_count": null,
   "metadata": {},
   "outputs": [],
   "source": [
    "algo_levels = [\"q_peak_algorithm\", \"b_point_algorithm\", \"outlier_correction_algorithm\"]"
   ]
  },
  {
   "cell_type": "markdown",
   "metadata": {},
   "source": [
    "## EmpkinS Dataset"
   ]
  },
  {
   "cell_type": "code",
   "execution_count": null,
   "metadata": {},
   "outputs": [],
   "source": [
    "result_dict_empkins = {}"
   ]
  },
  {
   "cell_type": "code",
   "execution_count": null,
   "metadata": {},
   "outputs": [],
   "source": [
    "condition_mapping_empkins = {\"tsst\": \"TSST\", \"ftsst\": \"f-TSST\"}\n",
    "phase_mapping_empkins = {\n",
    "    \"Prep\": \"Preparation\",\n",
    "    \"Pause_1\": \"Pause 1\",\n",
    "    \"Talk\": \"Talk\",\n",
    "    \"Math\": \"Math\",\n",
    "    \"Pause_5\": \"Pause 5\",\n",
    "}\n",
    "\n",
    "phase_order_empkins = list(phase_mapping_empkins.values())"
   ]
  },
  {
   "cell_type": "code",
   "execution_count": null,
   "metadata": {},
   "outputs": [],
   "source": [
    "results_empkins = load_challenge_results_from_folder(\n",
    "    result_path.joinpath(\"empkins_dataset_both_algorithms\"), index_cols_per_sample=[\"participant\", \"condition\", \"phase\"]\n",
    ")"
   ]
  },
  {
   "cell_type": "code",
   "execution_count": null,
   "metadata": {},
   "outputs": [],
   "source": [
    "results_empkins.per_sample"
   ]
  },
  {
   "cell_type": "code",
   "execution_count": null,
   "metadata": {},
   "outputs": [],
   "source": [
    "reference_data_empkins = get_reference_data(results_empkins.per_sample)\n",
    "reference_data_empkins"
   ]
  },
  {
   "cell_type": "code",
   "execution_count": null,
   "metadata": {},
   "outputs": [],
   "source": [
    "reference_pep_empkins = reference_data_empkins[[\"pep_ms\"]]\n",
    "# reference_pep_empkins = reference_pep_empkins.reindex(results_empkins.per_sample.index.get_level_values(\"phase\").unique(), level=\"phase\")\n",
    "reference_pep_empkins"
   ]
  },
  {
   "cell_type": "code",
   "execution_count": null,
   "metadata": {},
   "outputs": [],
   "source": [
    "pep_describe_total_empkins = reference_pep_empkins.agg([\"mean\", \"std\", \"min\", \"max\"]).round(2).T\n",
    "result_dict_empkins[\"pep_describe_total\"] = pep_describe_total_empkins\n",
    "\n",
    "pep_describe_total_empkins"
   ]
  },
  {
   "cell_type": "code",
   "execution_count": null,
   "metadata": {},
   "outputs": [],
   "source": [
    "hr_describe_total_empkins = reference_data_empkins[[\"heart_rate_bpm\"]].agg([\"mean\", \"std\", \"min\", \"max\"]).round(2).T\n",
    "result_dict_empkins[\"hr_describe_total\"] = hr_describe_total_empkins\n",
    "\n",
    "hr_describe_total_empkins"
   ]
  },
  {
   "cell_type": "code",
   "execution_count": null,
   "metadata": {},
   "outputs": [],
   "source": [
    "reference_data_empkins_rename = reference_data_empkins.rename(condition_mapping_empkins, level=\"condition\").rename(\n",
    "    phase_mapping_empkins, level=\"phase\"\n",
    ")\n",
    "\n",
    "reference_pep_empkins_rename = reference_pep_empkins.rename(condition_mapping_empkins, level=\"condition\").rename(\n",
    "    phase_mapping_empkins, level=\"phase\"\n",
    ")"
   ]
  },
  {
   "cell_type": "code",
   "execution_count": null,
   "metadata": {},
   "outputs": [],
   "source": [
    "pep_describe_empkins = describe_pep_values(reference_pep_empkins_rename, group_cols=[\"condition\", \"phase\"])\n",
    "pep_describe_empkins = pep_describe_empkins.reindex(phase_order_empkins, level=\"phase\")\n",
    "\n",
    "result_dict_empkins[\"describe_pep_phases\"] = pep_describe_empkins\n",
    "\n",
    "pep_describe_empkins"
   ]
  },
  {
   "cell_type": "code",
   "execution_count": null,
   "metadata": {},
   "outputs": [],
   "source": [
    "result_table = create_reference_pep_table(\n",
    "    pep_describe_empkins,\n",
    ")\n",
    "\n",
    "latex_output = convert_to_latex(\n",
    "    result_table,\n",
    "    collapse_index_columns=False,\n",
    "    column_header_bold=True,\n",
    "    position=\"h!\",\n",
    "    label=\"tab:reference_pep_empkins\",\n",
    "    caption=r\"Summary of reference \\ac{PEP} values for the different conditions and phases of the \"\n",
    "    r\"\\textit{EmpkinS Dataset}. The range is provided as [min, max].\",\n",
    "    column_format=\"p{2.0cm}p{2.0cm}S[table-format=3.3(5)]p{2.0cm}\",\n",
    ")\n",
    "# fix pandas bug that does not format the last column name in bold\n",
    "latex_output = latex_output.replace(r\"{Range\", r\"{\\bfseries Range\")\n",
    "\n",
    "suppl_tab_path_paper.joinpath(\"tab_reference_pep_empkins.tex\").open(mode=\"w+\").write(latex_output)\n",
    "\n",
    "print(latex_output)"
   ]
  },
  {
   "cell_type": "code",
   "execution_count": null,
   "metadata": {},
   "outputs": [],
   "source": [
    "steps = [(\"test\", \"rm_anova\"), (\"posthoc\", \"pairwise_tests\")]\n",
    "params = {\n",
    "    \"dv\": \"pep_ms\",\n",
    "    \"within\": [\"condition\", \"phase\"],\n",
    "    \"subject\": \"participant\",\n",
    "    \"parametric\": False,\n",
    "    \"multicomp\": {\"levels\": True, \"method\": \"bonf\"},\n",
    "}\n",
    "\n",
    "pipeline_empkins = StatsPipeline(\n",
    "    steps=steps,\n",
    "    params=params,\n",
    ")\n",
    "\n",
    "pipeline_empkins.apply(reference_pep_empkins_rename)\n",
    "pipeline_empkins.display_results()\n",
    "pipeline_empkins.export_statistics(stats_path.joinpath(\"stats_reference_pep_empkins.xlsx\"))"
   ]
  },
  {
   "cell_type": "code",
   "execution_count": null,
   "metadata": {},
   "outputs": [],
   "source": [
    "fig, ax = plt.subplots(figsize=(6, 4))\n",
    "\n",
    "box_pairs, pvalues = pipeline_empkins.sig_brackets(\n",
    "    stats_category_or_data=\"posthoc\", stats_effect_type=\"interaction\", plot_type=\"single\"\n",
    ")\n",
    "\n",
    "boxplot_reference_pep(\n",
    "    reference_pep_empkins_rename,\n",
    "    x=\"condition\",\n",
    "    y=\"pep_ms\",\n",
    "    hue=\"phase\",\n",
    "    width=0.90,\n",
    "    stats_kwargs={\"box_pairs\": box_pairs, \"pvalues\": pvalues, \"verbose\": 0},\n",
    "    legend_loc=\"lower center\",\n",
    "    legend_orientation=\"horizontal\",\n",
    "    legend_fontsize=\"small\",\n",
    "    title=\"EmpkinS Dataset\",\n",
    "    rect=(0, 0.05, 1, 1),\n",
    "    ax=ax,\n",
    ")\n",
    "ax.set_xlim(-0.5, 1.5)\n",
    "\n",
    "fig.savefig(img_path.joinpath(\"img_reference_pep_empkins.pdf\"), transparent=True)"
   ]
  },
  {
   "cell_type": "markdown",
   "metadata": {},
   "source": [
    "### Heart Rate"
   ]
  },
  {
   "cell_type": "code",
   "execution_count": null,
   "metadata": {},
   "outputs": [],
   "source": [
    "fig, ax = plt.subplots(figsize=(7, 4))\n",
    "\n",
    "hr_empkins = reference_data_empkins_rename[[\"heart_rate_bpm\"]]\n",
    "fig, ax = histplot_heart_rate(data=hr_empkins, hue=\"phase\", stat=\"percent\", kde=True, ax=ax)\n",
    "\n",
    "for path in [img_path, suppl_img_path_paper]:\n",
    "    fig.savefig(path.joinpath(\"img_hr_distribution_empkins.pdf\"), transparent=True)"
   ]
  },
  {
   "cell_type": "code",
   "execution_count": null,
   "metadata": {},
   "outputs": [],
   "source": [
    "fig, ax = regplot_pep_heart_rate(results_empkins.per_sample, use_reference=True, add_corr_coeff=True, figsize=(7, 4))\n",
    "corr_results = correlation_reference_pep_heart_rate(results_empkins.per_sample)\n",
    "\n",
    "result_dict_empkins[\"pep_hr_correlation\"] = corr_results[\"correlation\"]\n",
    "result_dict_empkins[\"pep_hr_linear_regression\"] = corr_results[\"linear_regression\"]\n",
    "\n",
    "display(corr_results[\"correlation\"])\n",
    "display(corr_results[\"linear_regression\"])\n",
    "\n",
    "ax.set_title(\"EmpkinS Dataset\", fontweight=\"bold\")\n",
    "\n",
    "for path in [img_path, suppl_img_path_paper]:\n",
    "    fig.savefig(path.joinpath(\"img_reference_pep_hr_empkins.pdf\"), transparent=True)"
   ]
  },
  {
   "cell_type": "code",
   "execution_count": null,
   "metadata": {},
   "outputs": [],
   "source": []
  },
  {
   "cell_type": "code",
   "execution_count": null,
   "metadata": {},
   "outputs": [],
   "source": [
    "bp.io.write_pandas_dict_excel(result_dict_empkins, export_path.joinpath(\"result_summary_empkins.xlsx\"), index_col=True)"
   ]
  },
  {
   "cell_type": "markdown",
   "metadata": {},
   "source": [
    "## Guardian Dataset"
   ]
  },
  {
   "cell_type": "code",
   "execution_count": null,
   "metadata": {},
   "outputs": [],
   "source": [
    "result_dict_guardian = {}"
   ]
  },
  {
   "cell_type": "code",
   "execution_count": null,
   "metadata": {},
   "outputs": [],
   "source": [
    "phase_mapping_guardian = {\n",
    "    \"Pause\": \"Pause\",\n",
    "    \"Valsalva\": \"Valsalva\",\n",
    "    \"HoldingBreath\": \"Holding Breath\",\n",
    "    \"TiltUp\": \"Tilt Up\",\n",
    "    \"TiltDown\": \"Tilt Down\",\n",
    "}\n",
    "phase_order_guardian = list(phase_mapping_guardian.keys())"
   ]
  },
  {
   "cell_type": "code",
   "execution_count": null,
   "metadata": {},
   "outputs": [],
   "source": [
    "results_guardian = load_challenge_results_from_folder(\n",
    "    result_path.joinpath(\"guardian_dataset_both_algorithms\"), index_cols_per_sample=[\"participant\", \"phase\"]\n",
    ")"
   ]
  },
  {
   "cell_type": "code",
   "execution_count": null,
   "metadata": {},
   "outputs": [],
   "source": [
    "results_guardian.per_sample"
   ]
  },
  {
   "cell_type": "code",
   "execution_count": null,
   "metadata": {},
   "outputs": [],
   "source": [
    "reference_data_guardian = get_reference_data(results_guardian.per_sample)\n",
    "reference_data_guardian"
   ]
  },
  {
   "cell_type": "code",
   "execution_count": null,
   "metadata": {},
   "outputs": [],
   "source": [
    "reference_pep_guardian = reference_data_guardian[[\"pep_ms\"]]\n",
    "reference_pep_guardian"
   ]
  },
  {
   "cell_type": "code",
   "execution_count": null,
   "metadata": {},
   "outputs": [],
   "source": [
    "pep_describe_total_guardian = reference_pep_guardian.agg([\"mean\", \"std\", \"min\", \"max\"]).round(2).T\n",
    "result_dict_guardian[\"pep_describe_total\"] = pep_describe_total_guardian\n",
    "\n",
    "pep_describe_total_guardian"
   ]
  },
  {
   "cell_type": "code",
   "execution_count": null,
   "metadata": {},
   "outputs": [],
   "source": [
    "hr_describe_total_guardian = reference_data_guardian[[\"heart_rate_bpm\"]].agg([\"mean\", \"std\", \"min\", \"max\"]).round(2).T\n",
    "result_dict_guardian[\"hr_describe_total\"] = hr_describe_total_guardian\n",
    "\n",
    "hr_describe_total_guardian"
   ]
  },
  {
   "cell_type": "code",
   "execution_count": null,
   "metadata": {},
   "outputs": [],
   "source": [
    "pep_describe_guardian = describe_pep_values(reference_pep_guardian, group_cols=[\"phase\"])\n",
    "pep_describe_guardian = pep_describe_guardian.reindex(phase_order_guardian, level=\"phase\")\n",
    "result_dict_guardian[\"pep_describe_phases\"] = pep_describe_guardian\n",
    "\n",
    "pep_describe_guardian"
   ]
  },
  {
   "cell_type": "code",
   "execution_count": null,
   "metadata": {},
   "outputs": [],
   "source": [
    "result_table = create_reference_pep_table(pep_describe_guardian)\n",
    "\n",
    "latex_output = convert_to_latex(\n",
    "    result_table,\n",
    "    collapse_index_columns=False,\n",
    "    column_header_bold=True,\n",
    "    position=\"h!\",\n",
    "    label=\"tab:reference_pep_guardian\",\n",
    "    caption=r\"Summary of reference \\ac{PEP} values for the different phases of the \"\n",
    "    r\"\\textit{Guardian Dataset}. The range is provided as [min, max].\",\n",
    "    column_format=\"p{2.0cm}S[table-format=3.3(5)]p{2.0cm}\",\n",
    ")\n",
    "# fix pandas bug that does not format the last column name in bold\n",
    "latex_output = latex_output.replace(r\"{Range\", r\"{\\bfseries Range\")\n",
    "\n",
    "suppl_tab_path_paper.joinpath(\"tab_reference_pep_guardian.tex\").open(mode=\"w+\").write(latex_output)\n",
    "\n",
    "print(latex_output)"
   ]
  },
  {
   "cell_type": "code",
   "execution_count": null,
   "metadata": {},
   "outputs": [],
   "source": [
    "reference_data_guardian_rename = reference_data_guardian.rename(phase_mapping_guardian, level=\"phase\")\n",
    "reference_pep_guardian_rename = reference_pep_guardian.rename(phase_mapping_guardian, level=\"phase\")"
   ]
  },
  {
   "cell_type": "code",
   "execution_count": null,
   "metadata": {},
   "outputs": [],
   "source": [
    "steps = [(\"test\", \"rm_anova\"), (\"posthoc\", \"pairwise_tests\")]\n",
    "params = {\n",
    "    \"dv\": \"pep_ms\",\n",
    "    \"within\": \"phase\",\n",
    "    \"subject\": \"participant\",\n",
    "    \"parametric\": False,\n",
    "    \"multicomp\": {\"levels\": True, \"method\": \"bonf\"},\n",
    "}\n",
    "\n",
    "pipeline_guardian = StatsPipeline(\n",
    "    steps=steps,\n",
    "    params=params,\n",
    ")\n",
    "\n",
    "pipeline_guardian.apply(reference_pep_guardian_rename)\n",
    "pipeline_guardian.display_results()\n",
    "pipeline_empkins.export_statistics(stats_path.joinpath(\"stats_reference_pep_guardian.xlsx\"))"
   ]
  },
  {
   "cell_type": "code",
   "execution_count": null,
   "metadata": {},
   "outputs": [],
   "source": [
    "fig, ax = plt.subplots(figsize=(6, 4))\n",
    "\n",
    "box_pairs, pvalues = pipeline_guardian.sig_brackets(\n",
    "    stats_category_or_data=\"posthoc\", stats_effect_type=\"within\", plot_type=\"single\"\n",
    ")\n",
    "\n",
    "boxplot_reference_pep(\n",
    "    reference_pep_guardian_rename,\n",
    "    x=\"phase\",\n",
    "    y=\"pep_ms\",\n",
    "    stats_kwargs={\"box_pairs\": box_pairs, \"pvalues\": pvalues, \"verbose\": 0},\n",
    "    rect=(0, 0.05, 1, 1),\n",
    "    title=\"Guardian Dataset\",\n",
    "    ax=ax,\n",
    ")\n",
    "\n",
    "fig.savefig(img_path.joinpath(\"img_reference_pep_guardian.pdf\"), transparent=True)"
   ]
  },
  {
   "cell_type": "markdown",
   "metadata": {},
   "source": [
    "### Heart Rate"
   ]
  },
  {
   "cell_type": "code",
   "execution_count": null,
   "metadata": {},
   "outputs": [],
   "source": [
    "fig, ax = plt.subplots(figsize=(7, 4))\n",
    "\n",
    "hr_guardian = reference_data_guardian_rename[[\"heart_rate_bpm\"]]\n",
    "fig, ax = histplot_heart_rate(data=hr_guardian, hue=\"phase\", stat=\"percent\", kde=True, ax=ax)\n",
    "\n",
    "for path in [img_path, suppl_img_path_paper]:\n",
    "    fig.savefig(path.joinpath(\"img_hr_distribution_guardian.pdf\"), transparent=True)"
   ]
  },
  {
   "cell_type": "code",
   "execution_count": null,
   "metadata": {},
   "outputs": [],
   "source": [
    "fig, ax = regplot_pep_heart_rate(results_guardian.per_sample, use_reference=True, add_corr_coeff=True, figsize=(7, 4))\n",
    "\n",
    "corr_results = correlation_reference_pep_heart_rate(results_guardian.per_sample)\n",
    "\n",
    "result_dict_guardian[\"pep_hr_correlation\"] = corr_results[\"correlation\"]\n",
    "result_dict_guardian[\"pep_hr_linear_regression\"] = corr_results[\"linear_regression\"]\n",
    "\n",
    "display(corr_results[\"correlation\"])\n",
    "display(corr_results[\"linear_regression\"])\n",
    "\n",
    "ax.set_title(\"Guardian Dataset\", fontweight=\"bold\")\n",
    "\n",
    "for path in [img_path, suppl_img_path_paper]:\n",
    "    fig.savefig(path.joinpath(\"img_reference_pep_hr_guardian.pdf\"), transparent=True)"
   ]
  },
  {
   "cell_type": "markdown",
   "metadata": {},
   "source": [
    "## Combined Figure"
   ]
  },
  {
   "cell_type": "code",
   "execution_count": null,
   "metadata": {},
   "outputs": [],
   "source": [
    "fig, axs = plt.subplots(figsize=(10, 4), ncols=2, sharey=True)\n",
    "\n",
    "box_pairs, pvalues = pipeline_empkins.sig_brackets(\n",
    "    stats_category_or_data=\"posthoc\", stats_effect_type=\"interaction\", plot_type=\"single\"\n",
    ")\n",
    "\n",
    "boxplot_reference_pep(\n",
    "    reference_pep_empkins_rename,\n",
    "    x=\"condition\",\n",
    "    y=\"pep_ms\",\n",
    "    hue=\"phase\",\n",
    "    showmeans=True,\n",
    "    width=0.95,\n",
    "    stats_kwargs={\"box_pairs\": box_pairs, \"pvalues\": pvalues, \"verbose\": 0, \"text_offset\": -2.5},\n",
    "    show_legend=False,\n",
    "    title=\"EmpkinS Dataset – Reference PEP\",\n",
    "    rect=(0, 0.05, 1, 1),\n",
    "    ax=axs[0],\n",
    ")\n",
    "axs[0].set_xlim(-0.5, 1.5)\n",
    "\n",
    "handles, labels = axs[0].get_legend_handles_labels()\n",
    "axs[0].legend().remove()\n",
    "axs[0].legend(handles, labels, ncols=3, fontsize=\"small\")\n",
    "\n",
    "box_pairs, pvalues = pipeline_guardian.sig_brackets(\n",
    "    stats_category_or_data=\"posthoc\", stats_effect_type=\"within\", plot_type=\"single\"\n",
    ")\n",
    "\n",
    "boxplot_reference_pep(\n",
    "    reference_pep_guardian_rename,\n",
    "    x=\"phase\",\n",
    "    y=\"pep_ms\",\n",
    "    showmeans=True,\n",
    "    width=0.90,\n",
    "    stats_kwargs={\"box_pairs\": box_pairs, \"pvalues\": pvalues, \"verbose\": 0, \"text_offset\": -2.5},\n",
    "    rect=(0, 0.05, 1, 1),\n",
    "    title=\"Guardian Dataset – Reference PEP\",\n",
    "    ax=axs[1],\n",
    ")\n",
    "axs[1].set_ylabel(None)\n",
    "\n",
    "fig.tight_layout()\n",
    "\n",
    "for path in [img_path, img_path_paper]:\n",
    "    fig.savefig(path.joinpath(\"img_reference_pep_combined.pdf\"), transparent=True)"
   ]
  },
  {
   "cell_type": "markdown",
   "metadata": {},
   "source": [
    "## Export"
   ]
  },
  {
   "cell_type": "code",
   "execution_count": null,
   "metadata": {},
   "outputs": [],
   "source": [
    "bp.io.write_pandas_dict_excel(\n",
    "    result_dict_guardian, export_path.joinpath(\"result_summary_guardian.xlsx\"), index_col=True\n",
    ")"
   ]
  },
  {
   "cell_type": "code",
   "execution_count": null,
   "metadata": {},
   "outputs": [],
   "source": []
  },
  {
   "cell_type": "code",
   "execution_count": null,
   "metadata": {},
   "outputs": [],
   "source": []
  }
 ],
 "metadata": {
  "jupytext": {
   "encoding": "# -*- coding: utf-8 -*-",
   "text_representation": {
    "extension": ".py",
    "format_name": "sphinx",
    "format_version": "1.1",
    "jupytext_version": "1.13.0"
   }
  },
  "kernelspec": {
   "display_name": "pepbench",
   "language": "python",
   "name": "pepbench"
  },
  "language_info": {
   "codemirror_mode": {
    "name": "ipython",
    "version": 3
   },
   "file_extension": ".py",
   "mimetype": "text/x-python",
   "name": "python",
   "nbconvert_exporter": "python",
   "pygments_lexer": "ipython3",
   "version": "3.10.14"
  },
  "toc-showtags": false,
  "vscode": {
   "interpreter": {
    "hash": "7014e6a8beff3a47c7c0424a6c63a486addc0ee3d12468bf1ae9a85a56cca70c"
   }
  }
 },
 "nbformat": 4,
 "nbformat_minor": 4
}
