{
 "cells": [
  {
   "cell_type": "markdown",
   "metadata": {
    "cell_marker": "\"\"\""
   },
   "source": [
    "# Inter-Rater Agreement Analysis - Guardian Dataset"
   ]
  },
  {
   "cell_type": "markdown",
   "metadata": {},
   "source": [
    "## Setup and Helper Functions"
   ]
  },
  {
   "cell_type": "markdown",
   "metadata": {},
   "source": [
    "### Imports"
   ]
  },
  {
   "cell_type": "code",
   "execution_count": null,
   "metadata": {},
   "outputs": [],
   "source": [
    "import json\n",
    "from pathlib import Path\n",
    "\n",
    "import biopsykit as bp\n",
    "import matplotlib.pyplot as plt\n",
    "import pandas as pd\n",
    "import seaborn as sns\n",
    "from fau_colors import cmaps, register_fausans_font\n",
    "\n",
    "from pepbench.annotations import (\n",
    "    compute_annotation_differences,\n",
    "    load_annotations_from_dataset,\n",
    ")\n",
    "from pepbench.annotations.stats import bin_annotation_differences, compute_icc, describe_annotation_differences\n",
    "from pepbench.datasets import GuardianDataset\n",
    "\n",
    "%matplotlib widget\n",
    "%load_ext autoreload\n",
    "%autoreload 2"
   ]
  },
  {
   "cell_type": "code",
   "execution_count": null,
   "metadata": {},
   "outputs": [],
   "source": [
    "register_fausans_font()\n",
    "plt.close(\"all\")\n",
    "\n",
    "palette = sns.color_palette(cmaps.faculties_light)\n",
    "sns.set_theme(context=\"notebook\", style=\"ticks\", font=\"sans-serif\", palette=palette)\n",
    "\n",
    "plt.rcParams[\"figure.figsize\"] = (10, 5)\n",
    "plt.rcParams[\"pdf.fonttype\"] = 42\n",
    "plt.rcParams[\"mathtext.default\"] = \"regular\"\n",
    "plt.rcParams[\"font.family\"] = \"sans-serif\"\n",
    "plt.rcParams[\"font.sans-serif\"] = \"FAUSans Office\"\n",
    "\n",
    "palette"
   ]
  },
  {
   "cell_type": "code",
   "execution_count": null,
   "metadata": {},
   "outputs": [],
   "source": [
    "root_path = Path(\"../../..\")"
   ]
  },
  {
   "cell_type": "code",
   "execution_count": null,
   "metadata": {},
   "outputs": [],
   "source": [
    "deploy_type = \"local\"\n",
    "\n",
    "config_dict = json.load(root_path.joinpath(\"config.json\").open(encoding=\"utf-8\"))\n",
    "\n",
    "guardian_base_path = Path(config_dict[deploy_type][\"guardian_path\"])"
   ]
  },
  {
   "cell_type": "code",
   "execution_count": null,
   "metadata": {},
   "outputs": [],
   "source": [
    "paper_path = json.load(root_path.joinpath(\"paper_path.json\").open(encoding=\"utf-8\"))[\"paper_path\"]\n",
    "paper_path = Path(paper_path)\n",
    "\n",
    "result_path = root_path.joinpath(\"results\")\n",
    "export_path = root_path.joinpath(\"exports\")\n",
    "img_path = export_path.joinpath(\"plots\")\n",
    "stats_path = export_path.joinpath(\"stats\")\n",
    "\n",
    "img_path_paper = paper_path.joinpath(\"img\")\n",
    "tab_path_paper = paper_path.joinpath(\"tab\")\n",
    "suppl_img_path_paper = paper_path.joinpath(\"supplementary_material/img\")\n",
    "suppl_tab_path_paper = paper_path.joinpath(\"supplementary_material/tab\")\n",
    "\n",
    "bp.utils.file_handling.mkdirs(\n",
    "    [\n",
    "        result_path,\n",
    "        export_path,\n",
    "        img_path,\n",
    "        stats_path,\n",
    "        img_path_paper,\n",
    "        tab_path_paper,\n",
    "        suppl_img_path_paper,\n",
    "        suppl_tab_path_paper,\n",
    "    ]\n",
    ")"
   ]
  },
  {
   "cell_type": "markdown",
   "metadata": {},
   "source": [
    "## Guardian Dataset"
   ]
  },
  {
   "cell_type": "code",
   "execution_count": null,
   "metadata": {},
   "outputs": [],
   "source": [
    "dataset_guardian_01 = GuardianDataset(guardian_base_path, label_type=\"rater_01\")\n",
    "dataset_guardian_01"
   ]
  },
  {
   "cell_type": "code",
   "execution_count": null,
   "metadata": {},
   "outputs": [],
   "source": [
    "dataset_guardian_02 = GuardianDataset(guardian_base_path, label_type=\"rater_02\")\n",
    "dataset_guardian_02"
   ]
  },
  {
   "cell_type": "code",
   "execution_count": null,
   "metadata": {},
   "outputs": [],
   "source": [
    "labels_total = load_annotations_from_dataset(dataset_guardian_01, dataset_guardian_02)"
   ]
  },
  {
   "cell_type": "code",
   "execution_count": null,
   "metadata": {},
   "outputs": [],
   "source": [
    "labels_ecg_total = labels_total.xs(\"ECG\", level=\"signal\")\n",
    "labels_icg_total = labels_total.xs(\"ICG\", level=\"signal\")"
   ]
  },
  {
   "cell_type": "code",
   "execution_count": null,
   "metadata": {},
   "outputs": [],
   "source": [
    "labels_ecg_diff = compute_annotation_differences(\n",
    "    labels_ecg_total, sampling_rate_hz=dataset_guardian_01.sampling_rate_ecg\n",
    ")\n",
    "labels_icg_diff = compute_annotation_differences(\n",
    "    labels_icg_total, sampling_rate_hz=dataset_guardian_01.sampling_rate_icg\n",
    ")\n",
    "\n",
    "labels_icg_diff.head()"
   ]
  },
  {
   "cell_type": "code",
   "execution_count": null,
   "metadata": {},
   "outputs": [],
   "source": [
    "fig, ax = plt.subplots()\n",
    "\n",
    "# label_counts_ecg = labels_ecg_diff.value_counts().sort_index().reset_index()\n",
    "# label_counts_ecg = label_counts_ecg.assign(sample_difference=label_counts_ecg[\"sample_difference\"].astype(int))\n",
    "\n",
    "sns.histplot(data=labels_ecg_diff.reset_index(), x=\"difference_ms\", ax=ax, stat=\"percent\")\n",
    "# sns.barplot(data=label_counts_ecg, x=\"sample_difference\", y=\"count\", ax=ax)\n",
    "\n",
    "fig.tight_layout()"
   ]
  },
  {
   "cell_type": "code",
   "execution_count": null,
   "metadata": {},
   "outputs": [],
   "source": [
    "fig, ax = plt.subplots()\n",
    "\n",
    "sns.histplot(data=labels_icg_diff, x=\"difference_ms\", ax=ax, stat=\"percent\")\n",
    "\n",
    "fig.tight_layout()"
   ]
  },
  {
   "cell_type": "code",
   "execution_count": null,
   "metadata": {},
   "outputs": [],
   "source": [
    "labels_ecg_diff.abs()"
   ]
  },
  {
   "cell_type": "code",
   "execution_count": null,
   "metadata": {},
   "outputs": [],
   "source": [
    "dict_results = {}"
   ]
  },
  {
   "cell_type": "code",
   "execution_count": null,
   "metadata": {},
   "outputs": [],
   "source": [
    "annotation_diff_ecg = describe_annotation_differences(labels_ecg_diff)\n",
    "dict_results[\"ECG_Annotation_Difference\"] = annotation_diff_ecg\n",
    "annotation_diff_ecg"
   ]
  },
  {
   "cell_type": "code",
   "execution_count": null,
   "metadata": {},
   "outputs": [],
   "source": [
    "annotation_diff_icg = describe_annotation_differences(labels_icg_diff)\n",
    "dict_results[\"ICG_Annotation_Difference\"] = annotation_diff_icg\n",
    "annotation_diff_icg"
   ]
  },
  {
   "cell_type": "code",
   "execution_count": null,
   "metadata": {},
   "outputs": [],
   "source": [
    "labels_ecg_bins = bin_annotation_differences(labels_ecg_diff)\n",
    "labels_icg_bins = bin_annotation_differences(labels_icg_diff)"
   ]
  },
  {
   "cell_type": "code",
   "execution_count": null,
   "metadata": {},
   "outputs": [],
   "source": [
    "ecg_bins = labels_ecg_bins.value_counts(normalize=True).to_frame().T\n",
    "icg_bins = labels_icg_bins.value_counts(normalize=True).to_frame().T\n",
    "\n",
    "dict_results[\"ECG_Agreement_Bins\"] = ecg_bins\n",
    "dict_results[\"ICG_Agreement_Bins\"] = icg_bins\n",
    "\n",
    "print(\"ECG\")\n",
    "display(ecg_bins)\n",
    "print(\"ICG\")\n",
    "display(icg_bins)"
   ]
  },
  {
   "cell_type": "code",
   "execution_count": null,
   "metadata": {},
   "outputs": [],
   "source": [
    "icc_ecg = compute_icc(labels_ecg_total, dataset_guardian_01.sampling_rate_ecg)\n",
    "dict_results[\"ECG_ICC\"] = icc_ecg\n",
    "icc_ecg"
   ]
  },
  {
   "cell_type": "code",
   "execution_count": null,
   "metadata": {},
   "outputs": [],
   "source": [
    "icc_icg = compute_icc(labels_icg_total, dataset_guardian_01.sampling_rate_icg)\n",
    "dict_results[\"ICG_ICC\"] = icc_ecg\n",
    "icc_icg"
   ]
  },
  {
   "cell_type": "markdown",
   "metadata": {},
   "source": [
    "## Plots"
   ]
  },
  {
   "cell_type": "code",
   "execution_count": null,
   "metadata": {},
   "outputs": [],
   "source": [
    "fig, axs = plt.subplots(ncols=2, sharex=True, sharey=True)\n",
    "\n",
    "labels_ecg_diff_cum = labels_ecg_diff.abs().value_counts().sort_index().cumsum()\n",
    "labels_ecg_diff_cum = labels_ecg_diff_cum / labels_ecg_diff_cum.iloc[-1] * 100\n",
    "labels_ecg_diff_cum = labels_ecg_diff_cum.to_frame(\"count\")\n",
    "labels_ecg_diff_cum.index = pd.Index([i[0] for i in labels_ecg_diff_cum.index], name=\"Inter-Rater Difference [ms]\")\n",
    "labels_ecg_diff_cum.index = labels_ecg_diff_cum.index / dataset_guardian_01.sampling_rate_ecg * 1000\n",
    "\n",
    "labels_icg_diff_cum = labels_icg_diff.abs().value_counts().sort_index().cumsum()\n",
    "labels_icg_diff_cum = labels_icg_diff_cum / labels_icg_diff_cum.iloc[-1] * 100\n",
    "labels_icg_diff_cum = labels_icg_diff_cum.to_frame(\"count\")\n",
    "labels_icg_diff_cum.index = pd.Index([i[0] for i in labels_icg_diff_cum.index], name=\"Inter-Rater Difference [ms]\")\n",
    "labels_icg_diff_cum.index = labels_icg_diff_cum.index / dataset_guardian_01.sampling_rate_icg * 1000\n",
    "\n",
    "cutoff_ecg = int(0.8 * labels_ecg_diff_cum.iloc[-1].iloc[0])\n",
    "cutoff_ecg = labels_ecg_diff_cum[(labels_ecg_diff_cum <= cutoff_ecg).diff()].dropna().iloc[-1].name\n",
    "\n",
    "cutoff_icg = int(0.8 * labels_icg_diff_cum.iloc[-1].iloc[0])\n",
    "cutoff_icg = labels_icg_diff_cum[(labels_icg_diff_cum <= cutoff_icg).diff()].dropna().iloc[-1].name\n",
    "\n",
    "print(cutoff_ecg, cutoff_icg)\n",
    "\n",
    "labels_ecg_diff_cum.plot(ax=axs[0])\n",
    "labels_icg_diff_cum.plot(ax=axs[1])\n",
    "\n",
    "axs[0].axhline(100, color=cmaps.tech[0], ls=\"--\")\n",
    "axs[0].axvline(cutoff_ecg, color=cmaps.med[0], ls=\"--\")\n",
    "axs[0].axhline(labels_ecg_diff_cum.loc[cutoff_ecg].iloc[0], color=cmaps.med[0], ls=\"--\")\n",
    "axs[0].scatter(cutoff_ecg, labels_ecg_diff_cum.loc[cutoff_ecg].iloc[0], color=cmaps.med[0])\n",
    "\n",
    "axs[1].axhline(100, color=cmaps.tech[0], ls=\"--\")\n",
    "axs[1].axvline(cutoff_icg, color=cmaps.med[0], ls=\"--\")\n",
    "axs[1].axhline(labels_icg_diff_cum.loc[cutoff_icg].iloc[0], color=cmaps.med[0], ls=\"--\")\n",
    "axs[1].scatter(cutoff_icg, labels_icg_diff_cum.loc[cutoff_icg].iloc[0], color=cmaps.med[0])\n",
    "\n",
    "axs[0].set_title(\"ECG\")\n",
    "axs[1].set_title(\"ICG\")\n",
    "\n",
    "axs[0].set_ylabel(\"Cumulative Frequency [%]\")\n",
    "axs[1].set_ylabel(\"Cumulative Frequency [%]\")\n",
    "\n",
    "axs[0].legend().remove()\n",
    "axs[1].legend().remove()\n",
    "\n",
    "fig.tight_layout()"
   ]
  },
  {
   "cell_type": "markdown",
   "metadata": {},
   "source": [
    "## Export"
   ]
  },
  {
   "cell_type": "code",
   "execution_count": null,
   "metadata": {},
   "outputs": [],
   "source": [
    "bp.io.write_pandas_dict_excel(dict_results, export_path.joinpath(\"result_summary_rater_agreement_guardian.xlsx\"))"
   ]
  },
  {
   "cell_type": "code",
   "execution_count": null,
   "metadata": {},
   "outputs": [],
   "source": []
  }
 ],
 "metadata": {
  "jupytext": {
   "encoding": "# -*- coding: utf-8 -*-",
   "text_representation": {
    "extension": ".py",
    "format_name": "sphinx",
    "format_version": "1.1",
    "jupytext_version": "1.13.0"
   }
  },
  "kernelspec": {
   "display_name": "pepbench",
   "language": "python",
   "name": "pepbench"
  },
  "language_info": {
   "codemirror_mode": {
    "name": "ipython",
    "version": 3
   },
   "file_extension": ".py",
   "mimetype": "text/x-python",
   "name": "python",
   "nbconvert_exporter": "python",
   "pygments_lexer": "ipython3",
   "version": "3.10.14"
  },
  "toc-showtags": false,
  "vscode": {
   "interpreter": {
    "hash": "7014e6a8beff3a47c7c0424a6c63a486addc0ee3d12468bf1ae9a85a56cca70c"
   }
  }
 },
 "nbformat": 4,
 "nbformat_minor": 4
}
