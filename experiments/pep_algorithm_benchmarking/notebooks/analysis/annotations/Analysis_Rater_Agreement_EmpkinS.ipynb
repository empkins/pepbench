{
 "cells": [
  {
   "cell_type": "markdown",
   "metadata": {
    "cell_marker": "\"\"\""
   },
   "source": [
    "# Inter-Rater Agreement Analysis - EmpkinS Dataset"
   ]
  },
  {
   "cell_type": "markdown",
   "metadata": {},
   "source": [
    "## Setup and Helper Functions"
   ]
  },
  {
   "cell_type": "markdown",
   "metadata": {},
   "source": [
    "### Imports"
   ]
  },
  {
   "cell_type": "code",
   "execution_count": 1,
   "metadata": {},
   "outputs": [],
   "source": [
    "import json\n",
    "from pathlib import Path\n",
    "\n",
    "import biopsykit as bp\n",
    "import matplotlib.pyplot as plt\n",
    "import pandas as pd\n",
    "import seaborn as sns\n",
    "from fau_colors import cmaps, register_fausans_font\n",
    "\n",
    "from pepbench.annotations import (\n",
    "    compute_annotation_differences,\n",
    "    load_annotations_from_dataset,\n",
    ")\n",
    "from pepbench.annotations.stats import bin_annotation_differences, compute_icc, describe_annotation_differences\n",
    "from pepbench.datasets import EmpkinsDataset\n",
    "\n",
    "%matplotlib widget\n",
    "%load_ext autoreload\n",
    "%autoreload 2"
   ]
  },
  {
   "cell_type": "code",
   "execution_count": 2,
   "metadata": {},
   "outputs": [
    {
     "data": {
      "text/html": [
       "<svg  width=\"330\" height=\"55\"><rect x=\"0\" y=\"0\" width=\"55\" height=\"55\" style=\"fill:#617da1;stroke-width:2;stroke:rgb(255,255,255)\"/><rect x=\"55\" y=\"0\" width=\"55\" height=\"55\" style=\"fill:#b6c2ce;stroke-width:2;stroke:rgb(255,255,255)\"/><rect x=\"110\" y=\"0\" width=\"55\" height=\"55\" style=\"fill:#fece76;stroke-width:2;stroke:rgb(255,255,255)\"/><rect x=\"165\" y=\"0\" width=\"55\" height=\"55\" style=\"fill:#6dd0f6;stroke-width:2;stroke:rgb(255,255,255)\"/><rect x=\"220\" y=\"0\" width=\"55\" height=\"55\" style=\"fill:#acd275;stroke-width:2;stroke:rgb(255,255,255)\"/><rect x=\"275\" y=\"0\" width=\"55\" height=\"55\" style=\"fill:#dd737c;stroke-width:2;stroke:rgb(255,255,255)\"/></svg>"
      ],
      "text/plain": [
       "[(0.3803921568627451, 0.49019607843137253, 0.6313725490196078),\n",
       " (0.7137254901960784, 0.7607843137254902, 0.807843137254902),\n",
       " (0.996078431372549, 0.807843137254902, 0.4627450980392157),\n",
       " (0.42745098039215684, 0.8156862745098039, 0.9647058823529412),\n",
       " (0.6745098039215687, 0.8235294117647058, 0.4588235294117647),\n",
       " (0.8666666666666667, 0.45098039215686275, 0.48627450980392156)]"
      ]
     },
     "execution_count": 2,
     "metadata": {},
     "output_type": "execute_result"
    }
   ],
   "source": [
    "register_fausans_font()\n",
    "plt.close(\"all\")\n",
    "\n",
    "palette = sns.color_palette(cmaps.faculties_light)\n",
    "sns.set_theme(context=\"notebook\", style=\"ticks\", font=\"sans-serif\", palette=palette)\n",
    "\n",
    "plt.rcParams[\"figure.figsize\"] = (10, 5)\n",
    "plt.rcParams[\"pdf.fonttype\"] = 42\n",
    "plt.rcParams[\"mathtext.default\"] = \"regular\"\n",
    "plt.rcParams[\"font.family\"] = \"sans-serif\"\n",
    "plt.rcParams[\"font.sans-serif\"] = \"FAUSans Office\"\n",
    "\n",
    "palette"
   ]
  },
  {
   "cell_type": "code",
   "execution_count": 3,
   "metadata": {},
   "outputs": [],
   "source": [
    "root_path = Path(\"../../\")"
   ]
  },
  {
   "cell_type": "code",
   "execution_count": 4,
   "metadata": {},
   "outputs": [],
   "source": [
    "deploy_type = \"local\"\n",
    "\n",
    "config_dict = json.load(root_path.joinpath(\"config.json\").open(encoding=\"utf-8\"))\n",
    "\n",
    "empkins_base_path = Path(config_dict[deploy_type][\"empkins_path\"])\n",
    "guardian_base_path = Path(config_dict[deploy_type][\"guardian_path\"])"
   ]
  },
  {
   "cell_type": "code",
   "execution_count": 5,
   "metadata": {},
   "outputs": [],
   "source": [
    "paper_path = json.load(root_path.joinpath(\"paper_path.json\").open(encoding=\"utf-8\"))[\"paper_path\"]\n",
    "paper_path = Path(paper_path)\n",
    "\n",
    "result_path = root_path.joinpath(\"results\")\n",
    "export_path = root_path.joinpath(\"exports\")\n",
    "img_path = export_path.joinpath(\"plots\")\n",
    "stats_path = export_path.joinpath(\"stats\")\n",
    "\n",
    "img_path_paper = paper_path.joinpath(\"img\")\n",
    "tab_path_paper = paper_path.joinpath(\"tab\")\n",
    "suppl_img_path_paper = paper_path.joinpath(\"supplementary_material/img\")\n",
    "suppl_tab_path_paper = paper_path.joinpath(\"supplementary_material/tab\")\n",
    "\n",
    "bp.utils.file_handling.mkdirs(\n",
    "    [\n",
    "        result_path,\n",
    "        export_path,\n",
    "        img_path,\n",
    "        stats_path,\n",
    "        img_path_paper,\n",
    "        tab_path_paper,\n",
    "        suppl_img_path_paper,\n",
    "        suppl_tab_path_paper,\n",
    "    ]\n",
    ")"
   ]
  },
  {
   "cell_type": "markdown",
   "metadata": {},
   "source": [
    "## EmpkinS Dataset"
   ]
  },
  {
   "cell_type": "code",
   "execution_count": 6,
   "metadata": {},
   "outputs": [
    {
     "data": {
      "text/html": [
       "<h4 style=\"margin-bottom: 0.1em;\">EmpkinsDataset [150 groups/rows]</h3>\n",
       "<div style=\"margin-top: 0em\">\n",
       "<style scoped>\n",
       "    .dataframe tbody tr th:only-of-type {\n",
       "        vertical-align: middle;\n",
       "    }\n",
       "\n",
       "    .dataframe tbody tr th {\n",
       "        vertical-align: top;\n",
       "    }\n",
       "\n",
       "    .dataframe thead th {\n",
       "        text-align: right;\n",
       "    }\n",
       "</style>\n",
       "<table style=\"margin-left: 3em;\">\n",
       "  <thead>\n",
       "    <tr style=\"text-align: right;\">\n",
       "      <th style=\"text-align: center;\"></th>\n",
       "      <th style=\"text-align: center;\">participant</th>\n",
       "      <th style=\"text-align: center;\">condition</th>\n",
       "      <th style=\"text-align: center;\">phase</th>\n",
       "    </tr>\n",
       "  </thead>\n",
       "  <tbody>\n",
       "    <tr>\n",
       "      <th style=\"text-align: center;\">0</th>\n",
       "      <td style=\"text-align: center; padding-left: 2em; padding-right: 2em;\">VP_001</td>\n",
       "      <td style=\"text-align: center; padding-left: 2em; padding-right: 2em;\">tsst</td>\n",
       "      <td style=\"text-align: center; padding-left: 2em; padding-right: 2em;\">Prep</td>\n",
       "    </tr>\n",
       "    <tr>\n",
       "      <th style=\"text-align: center;\">1</th>\n",
       "      <td style=\"text-align: center; padding-left: 2em; padding-right: 2em;\">VP_001</td>\n",
       "      <td style=\"text-align: center; padding-left: 2em; padding-right: 2em;\">tsst</td>\n",
       "      <td style=\"text-align: center; padding-left: 2em; padding-right: 2em;\">Pause_1</td>\n",
       "    </tr>\n",
       "    <tr>\n",
       "      <th style=\"text-align: center;\">2</th>\n",
       "      <td style=\"text-align: center; padding-left: 2em; padding-right: 2em;\">VP_001</td>\n",
       "      <td style=\"text-align: center; padding-left: 2em; padding-right: 2em;\">tsst</td>\n",
       "      <td style=\"text-align: center; padding-left: 2em; padding-right: 2em;\">Talk</td>\n",
       "    </tr>\n",
       "    <tr>\n",
       "      <th style=\"text-align: center;\">3</th>\n",
       "      <td style=\"text-align: center; padding-left: 2em; padding-right: 2em;\">VP_001</td>\n",
       "      <td style=\"text-align: center; padding-left: 2em; padding-right: 2em;\">tsst</td>\n",
       "      <td style=\"text-align: center; padding-left: 2em; padding-right: 2em;\">Math</td>\n",
       "    </tr>\n",
       "    <tr>\n",
       "      <th style=\"text-align: center;\">4</th>\n",
       "      <td style=\"text-align: center; padding-left: 2em; padding-right: 2em;\">VP_001</td>\n",
       "      <td style=\"text-align: center; padding-left: 2em; padding-right: 2em;\">tsst</td>\n",
       "      <td style=\"text-align: center; padding-left: 2em; padding-right: 2em;\">Pause_5</td>\n",
       "    </tr>\n",
       "    <tr>\n",
       "      <th style=\"text-align: center;\">...</th>\n",
       "      <td style=\"text-align: center; padding-left: 2em; padding-right: 2em;\">...</td>\n",
       "      <td style=\"text-align: center; padding-left: 2em; padding-right: 2em;\">...</td>\n",
       "      <td style=\"text-align: center; padding-left: 2em; padding-right: 2em;\">...</td>\n",
       "    </tr>\n",
       "    <tr>\n",
       "      <th style=\"text-align: center;\">145</th>\n",
       "      <td style=\"text-align: center; padding-left: 2em; padding-right: 2em;\">VP_032</td>\n",
       "      <td style=\"text-align: center; padding-left: 2em; padding-right: 2em;\">ftsst</td>\n",
       "      <td style=\"text-align: center; padding-left: 2em; padding-right: 2em;\">Prep</td>\n",
       "    </tr>\n",
       "    <tr>\n",
       "      <th style=\"text-align: center;\">146</th>\n",
       "      <td style=\"text-align: center; padding-left: 2em; padding-right: 2em;\">VP_032</td>\n",
       "      <td style=\"text-align: center; padding-left: 2em; padding-right: 2em;\">ftsst</td>\n",
       "      <td style=\"text-align: center; padding-left: 2em; padding-right: 2em;\">Pause_1</td>\n",
       "    </tr>\n",
       "    <tr>\n",
       "      <th style=\"text-align: center;\">147</th>\n",
       "      <td style=\"text-align: center; padding-left: 2em; padding-right: 2em;\">VP_032</td>\n",
       "      <td style=\"text-align: center; padding-left: 2em; padding-right: 2em;\">ftsst</td>\n",
       "      <td style=\"text-align: center; padding-left: 2em; padding-right: 2em;\">Talk</td>\n",
       "    </tr>\n",
       "    <tr>\n",
       "      <th style=\"text-align: center;\">148</th>\n",
       "      <td style=\"text-align: center; padding-left: 2em; padding-right: 2em;\">VP_032</td>\n",
       "      <td style=\"text-align: center; padding-left: 2em; padding-right: 2em;\">ftsst</td>\n",
       "      <td style=\"text-align: center; padding-left: 2em; padding-right: 2em;\">Math</td>\n",
       "    </tr>\n",
       "    <tr>\n",
       "      <th style=\"text-align: center;\">149</th>\n",
       "      <td style=\"text-align: center; padding-left: 2em; padding-right: 2em;\">VP_032</td>\n",
       "      <td style=\"text-align: center; padding-left: 2em; padding-right: 2em;\">ftsst</td>\n",
       "      <td style=\"text-align: center; padding-left: 2em; padding-right: 2em;\">Pause_5</td>\n",
       "    </tr>\n",
       "  </tbody>\n",
       "</table>\n",
       "<p>150 rows × 3 columns</p>\n",
       "</div>"
      ],
      "text/plain": [
       "EmpkinsDataset [150 groups/rows]\n",
       "\n",
       "       participant condition    phase\n",
       "   0        VP_001      tsst     Prep\n",
       "   1        VP_001      tsst  Pause_1\n",
       "   2        VP_001      tsst     Talk\n",
       "   3        VP_001      tsst     Math\n",
       "   4        VP_001      tsst  Pause_5\n",
       "   ..          ...       ...      ...\n",
       "   145      VP_032     ftsst     Prep\n",
       "   146      VP_032     ftsst  Pause_1\n",
       "   147      VP_032     ftsst     Talk\n",
       "   148      VP_032     ftsst     Math\n",
       "   149      VP_032     ftsst  Pause_5\n",
       "   \n",
       "   [150 rows x 3 columns]"
      ]
     },
     "execution_count": 6,
     "metadata": {},
     "output_type": "execute_result"
    }
   ],
   "source": [
    "dataset_empkins_01 = EmpkinsDataset(empkins_base_path, label_type=\"rater_01\")\n",
    "dataset_empkins_01"
   ]
  },
  {
   "cell_type": "code",
   "execution_count": 7,
   "metadata": {},
   "outputs": [
    {
     "data": {
      "text/html": [
       "<h4 style=\"margin-bottom: 0.1em;\">EmpkinsDataset [150 groups/rows]</h3>\n",
       "<div style=\"margin-top: 0em\">\n",
       "<style scoped>\n",
       "    .dataframe tbody tr th:only-of-type {\n",
       "        vertical-align: middle;\n",
       "    }\n",
       "\n",
       "    .dataframe tbody tr th {\n",
       "        vertical-align: top;\n",
       "    }\n",
       "\n",
       "    .dataframe thead th {\n",
       "        text-align: right;\n",
       "    }\n",
       "</style>\n",
       "<table style=\"margin-left: 3em;\">\n",
       "  <thead>\n",
       "    <tr style=\"text-align: right;\">\n",
       "      <th style=\"text-align: center;\"></th>\n",
       "      <th style=\"text-align: center;\">participant</th>\n",
       "      <th style=\"text-align: center;\">condition</th>\n",
       "      <th style=\"text-align: center;\">phase</th>\n",
       "    </tr>\n",
       "  </thead>\n",
       "  <tbody>\n",
       "    <tr>\n",
       "      <th style=\"text-align: center;\">0</th>\n",
       "      <td style=\"text-align: center; padding-left: 2em; padding-right: 2em;\">VP_001</td>\n",
       "      <td style=\"text-align: center; padding-left: 2em; padding-right: 2em;\">tsst</td>\n",
       "      <td style=\"text-align: center; padding-left: 2em; padding-right: 2em;\">Prep</td>\n",
       "    </tr>\n",
       "    <tr>\n",
       "      <th style=\"text-align: center;\">1</th>\n",
       "      <td style=\"text-align: center; padding-left: 2em; padding-right: 2em;\">VP_001</td>\n",
       "      <td style=\"text-align: center; padding-left: 2em; padding-right: 2em;\">tsst</td>\n",
       "      <td style=\"text-align: center; padding-left: 2em; padding-right: 2em;\">Pause_1</td>\n",
       "    </tr>\n",
       "    <tr>\n",
       "      <th style=\"text-align: center;\">2</th>\n",
       "      <td style=\"text-align: center; padding-left: 2em; padding-right: 2em;\">VP_001</td>\n",
       "      <td style=\"text-align: center; padding-left: 2em; padding-right: 2em;\">tsst</td>\n",
       "      <td style=\"text-align: center; padding-left: 2em; padding-right: 2em;\">Talk</td>\n",
       "    </tr>\n",
       "    <tr>\n",
       "      <th style=\"text-align: center;\">3</th>\n",
       "      <td style=\"text-align: center; padding-left: 2em; padding-right: 2em;\">VP_001</td>\n",
       "      <td style=\"text-align: center; padding-left: 2em; padding-right: 2em;\">tsst</td>\n",
       "      <td style=\"text-align: center; padding-left: 2em; padding-right: 2em;\">Math</td>\n",
       "    </tr>\n",
       "    <tr>\n",
       "      <th style=\"text-align: center;\">4</th>\n",
       "      <td style=\"text-align: center; padding-left: 2em; padding-right: 2em;\">VP_001</td>\n",
       "      <td style=\"text-align: center; padding-left: 2em; padding-right: 2em;\">tsst</td>\n",
       "      <td style=\"text-align: center; padding-left: 2em; padding-right: 2em;\">Pause_5</td>\n",
       "    </tr>\n",
       "    <tr>\n",
       "      <th style=\"text-align: center;\">...</th>\n",
       "      <td style=\"text-align: center; padding-left: 2em; padding-right: 2em;\">...</td>\n",
       "      <td style=\"text-align: center; padding-left: 2em; padding-right: 2em;\">...</td>\n",
       "      <td style=\"text-align: center; padding-left: 2em; padding-right: 2em;\">...</td>\n",
       "    </tr>\n",
       "    <tr>\n",
       "      <th style=\"text-align: center;\">145</th>\n",
       "      <td style=\"text-align: center; padding-left: 2em; padding-right: 2em;\">VP_032</td>\n",
       "      <td style=\"text-align: center; padding-left: 2em; padding-right: 2em;\">ftsst</td>\n",
       "      <td style=\"text-align: center; padding-left: 2em; padding-right: 2em;\">Prep</td>\n",
       "    </tr>\n",
       "    <tr>\n",
       "      <th style=\"text-align: center;\">146</th>\n",
       "      <td style=\"text-align: center; padding-left: 2em; padding-right: 2em;\">VP_032</td>\n",
       "      <td style=\"text-align: center; padding-left: 2em; padding-right: 2em;\">ftsst</td>\n",
       "      <td style=\"text-align: center; padding-left: 2em; padding-right: 2em;\">Pause_1</td>\n",
       "    </tr>\n",
       "    <tr>\n",
       "      <th style=\"text-align: center;\">147</th>\n",
       "      <td style=\"text-align: center; padding-left: 2em; padding-right: 2em;\">VP_032</td>\n",
       "      <td style=\"text-align: center; padding-left: 2em; padding-right: 2em;\">ftsst</td>\n",
       "      <td style=\"text-align: center; padding-left: 2em; padding-right: 2em;\">Talk</td>\n",
       "    </tr>\n",
       "    <tr>\n",
       "      <th style=\"text-align: center;\">148</th>\n",
       "      <td style=\"text-align: center; padding-left: 2em; padding-right: 2em;\">VP_032</td>\n",
       "      <td style=\"text-align: center; padding-left: 2em; padding-right: 2em;\">ftsst</td>\n",
       "      <td style=\"text-align: center; padding-left: 2em; padding-right: 2em;\">Math</td>\n",
       "    </tr>\n",
       "    <tr>\n",
       "      <th style=\"text-align: center;\">149</th>\n",
       "      <td style=\"text-align: center; padding-left: 2em; padding-right: 2em;\">VP_032</td>\n",
       "      <td style=\"text-align: center; padding-left: 2em; padding-right: 2em;\">ftsst</td>\n",
       "      <td style=\"text-align: center; padding-left: 2em; padding-right: 2em;\">Pause_5</td>\n",
       "    </tr>\n",
       "  </tbody>\n",
       "</table>\n",
       "<p>150 rows × 3 columns</p>\n",
       "</div>"
      ],
      "text/plain": [
       "EmpkinsDataset [150 groups/rows]\n",
       "\n",
       "       participant condition    phase\n",
       "   0        VP_001      tsst     Prep\n",
       "   1        VP_001      tsst  Pause_1\n",
       "   2        VP_001      tsst     Talk\n",
       "   3        VP_001      tsst     Math\n",
       "   4        VP_001      tsst  Pause_5\n",
       "   ..          ...       ...      ...\n",
       "   145      VP_032     ftsst     Prep\n",
       "   146      VP_032     ftsst  Pause_1\n",
       "   147      VP_032     ftsst     Talk\n",
       "   148      VP_032     ftsst     Math\n",
       "   149      VP_032     ftsst  Pause_5\n",
       "   \n",
       "   [150 rows x 3 columns]"
      ]
     },
     "execution_count": 7,
     "metadata": {},
     "output_type": "execute_result"
    }
   ],
   "source": [
    "dataset_empkins_02 = EmpkinsDataset(empkins_base_path, label_type=\"rater_02\")\n",
    "dataset_empkins_02"
   ]
  },
  {
   "cell_type": "code",
   "execution_count": 8,
   "metadata": {},
   "outputs": [
    {
     "data": {
      "application/vnd.jupyter.widget-view+json": {
       "model_id": "c10f74dc596b4dec96495964fe34a00a",
       "version_major": 2,
       "version_minor": 0
      },
      "text/plain": [
       "  0%|          | 0/150 [00:00<?, ?it/s]"
      ]
     },
     "metadata": {},
     "output_type": "display_data"
    }
   ],
   "source": [
    "labels_total = load_annotations_from_dataset(dataset_empkins_01, dataset_empkins_02)"
   ]
  },
  {
   "cell_type": "code",
   "execution_count": 9,
   "metadata": {},
   "outputs": [],
   "source": [
    "labels_ecg_total = labels_total.xs(\"ECG\", level=\"signal\")\n",
    "labels_icg_total = labels_total.xs(\"ICG\", level=\"signal\")"
   ]
  },
  {
   "cell_type": "code",
   "execution_count": 10,
   "metadata": {},
   "outputs": [
    {
     "data": {
      "text/html": [
       "<div>\n",
       "<style scoped>\n",
       "    .dataframe tbody tr th:only-of-type {\n",
       "        vertical-align: middle;\n",
       "    }\n",
       "\n",
       "    .dataframe tbody tr th {\n",
       "        vertical-align: top;\n",
       "    }\n",
       "\n",
       "    .dataframe thead th {\n",
       "        text-align: right;\n",
       "    }\n",
       "</style>\n",
       "<table border=\"1\" class=\"dataframe\">\n",
       "  <thead>\n",
       "    <tr style=\"text-align: right;\">\n",
       "      <th></th>\n",
       "      <th></th>\n",
       "      <th></th>\n",
       "      <th></th>\n",
       "      <th>difference_ms</th>\n",
       "    </tr>\n",
       "    <tr>\n",
       "      <th>participant</th>\n",
       "      <th>condition</th>\n",
       "      <th>phase</th>\n",
       "      <th>heartbeat_id</th>\n",
       "      <th></th>\n",
       "    </tr>\n",
       "  </thead>\n",
       "  <tbody>\n",
       "    <tr>\n",
       "      <th rowspan=\"5\" valign=\"top\">VP_001</th>\n",
       "      <th rowspan=\"5\" valign=\"top\">tsst</th>\n",
       "      <th rowspan=\"5\" valign=\"top\">Prep</th>\n",
       "      <th>0</th>\n",
       "      <td>-15.0</td>\n",
       "    </tr>\n",
       "    <tr>\n",
       "      <th>1</th>\n",
       "      <td>-1.0</td>\n",
       "    </tr>\n",
       "    <tr>\n",
       "      <th>2</th>\n",
       "      <td>-4.0</td>\n",
       "    </tr>\n",
       "    <tr>\n",
       "      <th>3</th>\n",
       "      <td>-4.0</td>\n",
       "    </tr>\n",
       "    <tr>\n",
       "      <th>4</th>\n",
       "      <td>-1.0</td>\n",
       "    </tr>\n",
       "  </tbody>\n",
       "</table>\n",
       "</div>"
      ],
      "text/plain": [
       "                                          difference_ms\n",
       "participant condition phase heartbeat_id               \n",
       "VP_001      tsst      Prep  0                     -15.0\n",
       "                            1                      -1.0\n",
       "                            2                      -4.0\n",
       "                            3                      -4.0\n",
       "                            4                      -1.0"
      ]
     },
     "execution_count": 10,
     "metadata": {},
     "output_type": "execute_result"
    }
   ],
   "source": [
    "labels_ecg_diff = compute_annotation_differences(\n",
    "    labels_ecg_total, sampling_rate_hz=dataset_empkins_01.sampling_rate_ecg\n",
    ")\n",
    "labels_icg_diff = compute_annotation_differences(\n",
    "    labels_icg_total, sampling_rate_hz=dataset_empkins_01.sampling_rate_icg\n",
    ")\n",
    "\n",
    "labels_icg_diff.head()"
   ]
  },
  {
   "cell_type": "code",
   "execution_count": 11,
   "metadata": {},
   "outputs": [
    {
     "data": {
      "application/vnd.jupyter.widget-view+json": {
       "model_id": "cb55f3ad7347413f834a3b7b6591a9a3",
       "version_major": 2,
       "version_minor": 0
      },
      "image/png": "[encoded data removed]",
      "text/html": [
       "\n",
       "            <div style=\"display: inline-block;\">\n",
       "                <div class=\"jupyter-widgets widget-label\" style=\"text-align: center;\">\n",
       "                    Figure\n",
       "                </div>\n",
       "                <img src='data:image/png;base64,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' width=1000.0/>\n",
       "            </div>\n",
       "        "
      ],
      "text/plain": [
       "Canvas(toolbar=Toolbar(toolitems=[('Home', 'Reset original view', 'home', 'home'), ('Back', 'Back to previous …"
      ]
     },
     "metadata": {},
     "output_type": "display_data"
    }
   ],
   "source": [
    "fig, ax = plt.subplots()\n",
    "\n",
    "# label_counts_ecg = labels_ecg_diff.value_counts().sort_index().reset_index()\n",
    "# label_counts_ecg = label_counts_ecg.assign(sample_difference=label_counts_ecg[\"sample_difference\"].astype(int))\n",
    "\n",
    "sns.histplot(data=labels_ecg_diff.reset_index(), x=\"difference_ms\", ax=ax, stat=\"percent\")\n",
    "# sns.barplot(data=label_counts_ecg, x=\"sample_difference\", y=\"count\", ax=ax)\n",
    "\n",
    "fig.tight_layout()"
   ]
  },
  {
   "cell_type": "code",
   "execution_count": 12,
   "metadata": {},
   "outputs": [
    {
     "data": {
      "application/vnd.jupyter.widget-view+json": {
       "model_id": "6f21d4f6af534a7b9cdec463a3c5c1d4",
       "version_major": 2,
       "version_minor": 0
      },
      "image/png": "[encoded data removed]",
      "text/html": [
       "\n",
       "            <div style=\"display: inline-block;\">\n",
       "                <div class=\"jupyter-widgets widget-label\" style=\"text-align: center;\">\n",
       "                    Figure\n",
       "                </div>\n",
       "                <img src='data:image/png;base64,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' width=1000.0/>\n",
       "            </div>\n",
       "        "
      ],
      "text/plain": [
       "Canvas(toolbar=Toolbar(toolitems=[('Home', 'Reset original view', 'home', 'home'), ('Back', 'Back to previous …"
      ]
     },
     "metadata": {},
     "output_type": "display_data"
    }
   ],
   "source": [
    "fig, ax = plt.subplots()\n",
    "\n",
    "sns.histplot(data=labels_icg_diff, x=\"difference_ms\", ax=ax, stat=\"percent\")\n",
    "\n",
    "fig.tight_layout()"
   ]
  },
  {
   "cell_type": "code",
   "execution_count": 13,
   "metadata": {},
   "outputs": [
    {
     "data": {
      "text/html": [
       "<div>\n",
       "<style scoped>\n",
       "    .dataframe tbody tr th:only-of-type {\n",
       "        vertical-align: middle;\n",
       "    }\n",
       "\n",
       "    .dataframe tbody tr th {\n",
       "        vertical-align: top;\n",
       "    }\n",
       "\n",
       "    .dataframe thead th {\n",
       "        text-align: right;\n",
       "    }\n",
       "</style>\n",
       "<table border=\"1\" class=\"dataframe\">\n",
       "  <thead>\n",
       "    <tr style=\"text-align: right;\">\n",
       "      <th></th>\n",
       "      <th></th>\n",
       "      <th></th>\n",
       "      <th></th>\n",
       "      <th>difference_ms</th>\n",
       "    </tr>\n",
       "    <tr>\n",
       "      <th>participant</th>\n",
       "      <th>condition</th>\n",
       "      <th>phase</th>\n",
       "      <th>heartbeat_id</th>\n",
       "      <th></th>\n",
       "    </tr>\n",
       "  </thead>\n",
       "  <tbody>\n",
       "    <tr>\n",
       "      <th rowspan=\"5\" valign=\"top\">VP_001</th>\n",
       "      <th rowspan=\"5\" valign=\"top\">tsst</th>\n",
       "      <th rowspan=\"5\" valign=\"top\">Prep</th>\n",
       "      <th>0</th>\n",
       "      <td>1.0</td>\n",
       "    </tr>\n",
       "    <tr>\n",
       "      <th>1</th>\n",
       "      <td>0.0</td>\n",
       "    </tr>\n",
       "    <tr>\n",
       "      <th>2</th>\n",
       "      <td>1.0</td>\n",
       "    </tr>\n",
       "    <tr>\n",
       "      <th>3</th>\n",
       "      <td>1.0</td>\n",
       "    </tr>\n",
       "    <tr>\n",
       "      <th>4</th>\n",
       "      <td>2.0</td>\n",
       "    </tr>\n",
       "    <tr>\n",
       "      <th>...</th>\n",
       "      <th>...</th>\n",
       "      <th>...</th>\n",
       "      <th>...</th>\n",
       "      <td>...</td>\n",
       "    </tr>\n",
       "    <tr>\n",
       "      <th rowspan=\"5\" valign=\"top\">VP_032</th>\n",
       "      <th rowspan=\"5\" valign=\"top\">ftsst</th>\n",
       "      <th rowspan=\"5\" valign=\"top\">Pause_5</th>\n",
       "      <th>7</th>\n",
       "      <td>1.0</td>\n",
       "    </tr>\n",
       "    <tr>\n",
       "      <th>8</th>\n",
       "      <td>1.0</td>\n",
       "    </tr>\n",
       "    <tr>\n",
       "      <th>9</th>\n",
       "      <td>0.0</td>\n",
       "    </tr>\n",
       "    <tr>\n",
       "      <th>10</th>\n",
       "      <td>2.0</td>\n",
       "    </tr>\n",
       "    <tr>\n",
       "      <th>11</th>\n",
       "      <td>0.0</td>\n",
       "    </tr>\n",
       "  </tbody>\n",
       "</table>\n",
       "<p>5083 rows × 1 columns</p>\n",
       "</div>"
      ],
      "text/plain": [
       "                                            difference_ms\n",
       "participant condition phase   heartbeat_id               \n",
       "VP_001      tsst      Prep    0                       1.0\n",
       "                              1                       0.0\n",
       "                              2                       1.0\n",
       "                              3                       1.0\n",
       "                              4                       2.0\n",
       "...                                                   ...\n",
       "VP_032      ftsst     Pause_5 7                       1.0\n",
       "                              8                       1.0\n",
       "                              9                       0.0\n",
       "                              10                      2.0\n",
       "                              11                      0.0\n",
       "\n",
       "[5083 rows x 1 columns]"
      ]
     },
     "execution_count": 13,
     "metadata": {},
     "output_type": "execute_result"
    }
   ],
   "source": [
    "labels_ecg_diff.abs()"
   ]
  },
  {
   "cell_type": "code",
   "execution_count": 30,
   "metadata": {},
   "outputs": [],
   "source": [
    "dict_results = {}"
   ]
  },
  {
   "cell_type": "code",
   "execution_count": 31,
   "metadata": {},
   "outputs": [
    {
     "data": {
      "text/html": [
       "<div>\n",
       "<style scoped>\n",
       "    .dataframe tbody tr th:only-of-type {\n",
       "        vertical-align: middle;\n",
       "    }\n",
       "\n",
       "    .dataframe tbody tr th {\n",
       "        vertical-align: top;\n",
       "    }\n",
       "\n",
       "    .dataframe thead th {\n",
       "        text-align: right;\n",
       "    }\n",
       "</style>\n",
       "<table border=\"1\" class=\"dataframe\">\n",
       "  <thead>\n",
       "    <tr style=\"text-align: right;\">\n",
       "      <th></th>\n",
       "      <th>count</th>\n",
       "      <th>mean</th>\n",
       "      <th>std</th>\n",
       "      <th>min</th>\n",
       "      <th>25%</th>\n",
       "      <th>50%</th>\n",
       "      <th>75%</th>\n",
       "      <th>max</th>\n",
       "    </tr>\n",
       "  </thead>\n",
       "  <tbody>\n",
       "    <tr>\n",
       "      <th>difference_ms</th>\n",
       "      <td>4758.0</td>\n",
       "      <td>-0.723623</td>\n",
       "      <td>4.483768</td>\n",
       "      <td>-27.0</td>\n",
       "      <td>-2.0</td>\n",
       "      <td>0.0</td>\n",
       "      <td>1.0</td>\n",
       "      <td>31.0</td>\n",
       "    </tr>\n",
       "    <tr>\n",
       "      <th>difference_ms_absolute</th>\n",
       "      <td>4758.0</td>\n",
       "      <td>2.457125</td>\n",
       "      <td>3.819579</td>\n",
       "      <td>0.0</td>\n",
       "      <td>1.0</td>\n",
       "      <td>1.0</td>\n",
       "      <td>2.0</td>\n",
       "      <td>31.0</td>\n",
       "    </tr>\n",
       "  </tbody>\n",
       "</table>\n",
       "</div>"
      ],
      "text/plain": [
       "                         count      mean       std   min  25%  50%  75%   max\n",
       "difference_ms           4758.0 -0.723623  4.483768 -27.0 -2.0  0.0  1.0  31.0\n",
       "difference_ms_absolute  4758.0  2.457125  3.819579   0.0  1.0  1.0  2.0  31.0"
      ]
     },
     "execution_count": 31,
     "metadata": {},
     "output_type": "execute_result"
    }
   ],
   "source": [
    "annotation_diff_ecg = describe_annotation_differences(labels_ecg_diff)\n",
    "dict_results[\"ECG_Annotation_Difference\"] = annotation_diff_ecg\n",
    "annotation_diff_ecg"
   ]
  },
  {
   "cell_type": "code",
   "execution_count": 32,
   "metadata": {},
   "outputs": [
    {
     "data": {
      "text/html": [
       "<div>\n",
       "<style scoped>\n",
       "    .dataframe tbody tr th:only-of-type {\n",
       "        vertical-align: middle;\n",
       "    }\n",
       "\n",
       "    .dataframe tbody tr th {\n",
       "        vertical-align: top;\n",
       "    }\n",
       "\n",
       "    .dataframe thead th {\n",
       "        text-align: right;\n",
       "    }\n",
       "</style>\n",
       "<table border=\"1\" class=\"dataframe\">\n",
       "  <thead>\n",
       "    <tr style=\"text-align: right;\">\n",
       "      <th></th>\n",
       "      <th>count</th>\n",
       "      <th>mean</th>\n",
       "      <th>std</th>\n",
       "      <th>min</th>\n",
       "      <th>25%</th>\n",
       "      <th>50%</th>\n",
       "      <th>75%</th>\n",
       "      <th>max</th>\n",
       "    </tr>\n",
       "  </thead>\n",
       "  <tbody>\n",
       "    <tr>\n",
       "      <th>difference_ms</th>\n",
       "      <td>4966.0</td>\n",
       "      <td>4.950060</td>\n",
       "      <td>14.971000</td>\n",
       "      <td>-60.0</td>\n",
       "      <td>-2.0</td>\n",
       "      <td>1.0</td>\n",
       "      <td>6.0</td>\n",
       "      <td>88.0</td>\n",
       "    </tr>\n",
       "    <tr>\n",
       "      <th>difference_ms_absolute</th>\n",
       "      <td>4966.0</td>\n",
       "      <td>8.375755</td>\n",
       "      <td>13.359321</td>\n",
       "      <td>0.0</td>\n",
       "      <td>1.0</td>\n",
       "      <td>3.0</td>\n",
       "      <td>8.0</td>\n",
       "      <td>88.0</td>\n",
       "    </tr>\n",
       "  </tbody>\n",
       "</table>\n",
       "</div>"
      ],
      "text/plain": [
       "                         count      mean        std   min  25%  50%  75%   max\n",
       "difference_ms           4966.0  4.950060  14.971000 -60.0 -2.0  1.0  6.0  88.0\n",
       "difference_ms_absolute  4966.0  8.375755  13.359321   0.0  1.0  3.0  8.0  88.0"
      ]
     },
     "execution_count": 32,
     "metadata": {},
     "output_type": "execute_result"
    }
   ],
   "source": [
    "annotation_diff_icg = describe_annotation_differences(labels_icg_diff)\n",
    "dict_results[\"ICG_Annotation_Difference\"] = annotation_diff_icg\n",
    "annotation_diff_icg"
   ]
  },
  {
   "cell_type": "code",
   "execution_count": 33,
   "metadata": {},
   "outputs": [],
   "source": [
    "labels_ecg_bins = bin_annotation_differences(labels_ecg_diff)\n",
    "labels_icg_bins = bin_annotation_differences(labels_icg_diff)"
   ]
  },
  {
   "cell_type": "code",
   "execution_count": 34,
   "metadata": {},
   "outputs": [
    {
     "name": "stdout",
     "output_type": "stream",
     "text": [
      "ECG\n"
     ]
    },
    {
     "data": {
      "text/html": [
       "<div>\n",
       "<style scoped>\n",
       "    .dataframe tbody tr th:only-of-type {\n",
       "        vertical-align: middle;\n",
       "    }\n",
       "\n",
       "    .dataframe tbody tr th {\n",
       "        vertical-align: top;\n",
       "    }\n",
       "\n",
       "    .dataframe thead tr th {\n",
       "        text-align: left;\n",
       "    }\n",
       "</style>\n",
       "<table border=\"1\" class=\"dataframe\">\n",
       "  <thead>\n",
       "    <tr>\n",
       "      <th>annotation_bins</th>\n",
       "      <th>(-0.001, 4.0]</th>\n",
       "      <th>(4.0, 10.0]</th>\n",
       "      <th>(10.0, 31.0]</th>\n",
       "    </tr>\n",
       "  </thead>\n",
       "  <tbody>\n",
       "    <tr>\n",
       "      <th>proportion</th>\n",
       "      <td>0.880622</td>\n",
       "      <td>0.06158</td>\n",
       "      <td>0.057797</td>\n",
       "    </tr>\n",
       "  </tbody>\n",
       "</table>\n",
       "</div>"
      ],
      "text/plain": [
       "annotation_bins (-0.001, 4.0] (4.0, 10.0] (10.0, 31.0]\n",
       "proportion           0.880622     0.06158     0.057797"
      ]
     },
     "metadata": {},
     "output_type": "display_data"
    },
    {
     "name": "stdout",
     "output_type": "stream",
     "text": [
      "ICG\n"
     ]
    },
    {
     "data": {
      "text/html": [
       "<div>\n",
       "<style scoped>\n",
       "    .dataframe tbody tr th:only-of-type {\n",
       "        vertical-align: middle;\n",
       "    }\n",
       "\n",
       "    .dataframe tbody tr th {\n",
       "        vertical-align: top;\n",
       "    }\n",
       "\n",
       "    .dataframe thead tr th {\n",
       "        text-align: left;\n",
       "    }\n",
       "</style>\n",
       "<table border=\"1\" class=\"dataframe\">\n",
       "  <thead>\n",
       "    <tr>\n",
       "      <th>annotation_bins</th>\n",
       "      <th>(-0.001, 4.0]</th>\n",
       "      <th>(4.0, 10.0]</th>\n",
       "      <th>(10.0, 88.0]</th>\n",
       "    </tr>\n",
       "  </thead>\n",
       "  <tbody>\n",
       "    <tr>\n",
       "      <th>proportion</th>\n",
       "      <td>0.599879</td>\n",
       "      <td>0.219291</td>\n",
       "      <td>0.18083</td>\n",
       "    </tr>\n",
       "  </tbody>\n",
       "</table>\n",
       "</div>"
      ],
      "text/plain": [
       "annotation_bins (-0.001, 4.0] (4.0, 10.0] (10.0, 88.0]\n",
       "proportion           0.599879    0.219291      0.18083"
      ]
     },
     "metadata": {},
     "output_type": "display_data"
    }
   ],
   "source": [
    "ecg_bins = labels_ecg_bins.value_counts(normalize=True).to_frame().T\n",
    "icg_bins = labels_icg_bins.value_counts(normalize=True).to_frame().T\n",
    "\n",
    "dict_results[\"ECG_Agreement_Bins\"] = ecg_bins\n",
    "dict_results[\"ICG_Agreement_Bins\"] = icg_bins\n",
    "\n",
    "print(\"ECG\")\n",
    "display(ecg_bins)\n",
    "print(\"ICG\")\n",
    "display(icg_bins)"
   ]
  },
  {
   "cell_type": "code",
   "execution_count": 35,
   "metadata": {},
   "outputs": [
    {
     "data": {
      "text/html": [
       "<div>\n",
       "<style scoped>\n",
       "    .dataframe tbody tr th:only-of-type {\n",
       "        vertical-align: middle;\n",
       "    }\n",
       "\n",
       "    .dataframe tbody tr th {\n",
       "        vertical-align: top;\n",
       "    }\n",
       "\n",
       "    .dataframe thead th {\n",
       "        text-align: right;\n",
       "    }\n",
       "</style>\n",
       "<table border=\"1\" class=\"dataframe\">\n",
       "  <thead>\n",
       "    <tr style=\"text-align: right;\">\n",
       "      <th></th>\n",
       "      <th>Type</th>\n",
       "      <th>Description</th>\n",
       "      <th>ICC</th>\n",
       "      <th>F</th>\n",
       "      <th>df1</th>\n",
       "      <th>df2</th>\n",
       "      <th>pval</th>\n",
       "      <th>CI95%</th>\n",
       "    </tr>\n",
       "  </thead>\n",
       "  <tbody>\n",
       "    <tr>\n",
       "      <th>0</th>\n",
       "      <td>ICC1</td>\n",
       "      <td>Single raters absolute</td>\n",
       "      <td>0.994490</td>\n",
       "      <td>361.976423</td>\n",
       "      <td>4757</td>\n",
       "      <td>4758</td>\n",
       "      <td>0.0</td>\n",
       "      <td>[0.99, 0.99]</td>\n",
       "    </tr>\n",
       "    <tr>\n",
       "      <th>1</th>\n",
       "      <td>ICC2</td>\n",
       "      <td>Single random raters</td>\n",
       "      <td>0.994490</td>\n",
       "      <td>368.451834</td>\n",
       "      <td>4757</td>\n",
       "      <td>4757</td>\n",
       "      <td>0.0</td>\n",
       "      <td>[0.99, 0.99]</td>\n",
       "    </tr>\n",
       "    <tr>\n",
       "      <th>2</th>\n",
       "      <td>ICC3</td>\n",
       "      <td>Single fixed raters</td>\n",
       "      <td>0.994587</td>\n",
       "      <td>368.451834</td>\n",
       "      <td>4757</td>\n",
       "      <td>4757</td>\n",
       "      <td>0.0</td>\n",
       "      <td>[0.99, 0.99]</td>\n",
       "    </tr>\n",
       "    <tr>\n",
       "      <th>3</th>\n",
       "      <td>ICC1k</td>\n",
       "      <td>Average raters absolute</td>\n",
       "      <td>0.997237</td>\n",
       "      <td>361.976423</td>\n",
       "      <td>4757</td>\n",
       "      <td>4758</td>\n",
       "      <td>0.0</td>\n",
       "      <td>[1.0, 1.0]</td>\n",
       "    </tr>\n",
       "    <tr>\n",
       "      <th>4</th>\n",
       "      <td>ICC2k</td>\n",
       "      <td>Average random raters</td>\n",
       "      <td>0.997238</td>\n",
       "      <td>368.451834</td>\n",
       "      <td>4757</td>\n",
       "      <td>4757</td>\n",
       "      <td>0.0</td>\n",
       "      <td>[1.0, 1.0]</td>\n",
       "    </tr>\n",
       "    <tr>\n",
       "      <th>5</th>\n",
       "      <td>ICC3k</td>\n",
       "      <td>Average fixed raters</td>\n",
       "      <td>0.997286</td>\n",
       "      <td>368.451834</td>\n",
       "      <td>4757</td>\n",
       "      <td>4757</td>\n",
       "      <td>0.0</td>\n",
       "      <td>[1.0, 1.0]</td>\n",
       "    </tr>\n",
       "  </tbody>\n",
       "</table>\n",
       "</div>"
      ],
      "text/plain": [
       "    Type              Description       ICC           F   df1   df2  pval  \\\n",
       "0   ICC1   Single raters absolute  0.994490  361.976423  4757  4758   0.0   \n",
       "1   ICC2     Single random raters  0.994490  368.451834  4757  4757   0.0   \n",
       "2   ICC3      Single fixed raters  0.994587  368.451834  4757  4757   0.0   \n",
       "3  ICC1k  Average raters absolute  0.997237  361.976423  4757  4758   0.0   \n",
       "4  ICC2k    Average random raters  0.997238  368.451834  4757  4757   0.0   \n",
       "5  ICC3k     Average fixed raters  0.997286  368.451834  4757  4757   0.0   \n",
       "\n",
       "          CI95%  \n",
       "0  [0.99, 0.99]  \n",
       "1  [0.99, 0.99]  \n",
       "2  [0.99, 0.99]  \n",
       "3    [1.0, 1.0]  \n",
       "4    [1.0, 1.0]  \n",
       "5    [1.0, 1.0]  "
      ]
     },
     "execution_count": 35,
     "metadata": {},
     "output_type": "execute_result"
    }
   ],
   "source": [
    "icc_ecg = compute_icc(labels_ecg_total, dataset_empkins_01.sampling_rate_ecg)\n",
    "dict_results[\"ECG_ICC\"] = icc_ecg\n",
    "icc_ecg"
   ]
  },
  {
   "cell_type": "code",
   "execution_count": 36,
   "metadata": {},
   "outputs": [
    {
     "data": {
      "text/html": [
       "<div>\n",
       "<style scoped>\n",
       "    .dataframe tbody tr th:only-of-type {\n",
       "        vertical-align: middle;\n",
       "    }\n",
       "\n",
       "    .dataframe tbody tr th {\n",
       "        vertical-align: top;\n",
       "    }\n",
       "\n",
       "    .dataframe thead th {\n",
       "        text-align: right;\n",
       "    }\n",
       "</style>\n",
       "<table border=\"1\" class=\"dataframe\">\n",
       "  <thead>\n",
       "    <tr style=\"text-align: right;\">\n",
       "      <th></th>\n",
       "      <th>Type</th>\n",
       "      <th>Description</th>\n",
       "      <th>ICC</th>\n",
       "      <th>F</th>\n",
       "      <th>df1</th>\n",
       "      <th>df2</th>\n",
       "      <th>pval</th>\n",
       "      <th>CI95%</th>\n",
       "    </tr>\n",
       "  </thead>\n",
       "  <tbody>\n",
       "    <tr>\n",
       "      <th>0</th>\n",
       "      <td>ICC1</td>\n",
       "      <td>Single raters absolute</td>\n",
       "      <td>0.970187</td>\n",
       "      <td>66.083895</td>\n",
       "      <td>4965</td>\n",
       "      <td>4966</td>\n",
       "      <td>0.0</td>\n",
       "      <td>[0.97, 0.97]</td>\n",
       "    </tr>\n",
       "    <tr>\n",
       "      <th>1</th>\n",
       "      <td>ICC2</td>\n",
       "      <td>Single random raters</td>\n",
       "      <td>0.970229</td>\n",
       "      <td>73.063768</td>\n",
       "      <td>4965</td>\n",
       "      <td>4965</td>\n",
       "      <td>0.0</td>\n",
       "      <td>[0.96, 0.98]</td>\n",
       "    </tr>\n",
       "    <tr>\n",
       "      <th>2</th>\n",
       "      <td>ICC3</td>\n",
       "      <td>Single fixed raters</td>\n",
       "      <td>0.972996</td>\n",
       "      <td>73.063768</td>\n",
       "      <td>4965</td>\n",
       "      <td>4965</td>\n",
       "      <td>0.0</td>\n",
       "      <td>[0.97, 0.97]</td>\n",
       "    </tr>\n",
       "    <tr>\n",
       "      <th>3</th>\n",
       "      <td>ICC1k</td>\n",
       "      <td>Average raters absolute</td>\n",
       "      <td>0.984868</td>\n",
       "      <td>66.083895</td>\n",
       "      <td>4965</td>\n",
       "      <td>4966</td>\n",
       "      <td>0.0</td>\n",
       "      <td>[0.98, 0.99]</td>\n",
       "    </tr>\n",
       "    <tr>\n",
       "      <th>4</th>\n",
       "      <td>ICC2k</td>\n",
       "      <td>Average random raters</td>\n",
       "      <td>0.984890</td>\n",
       "      <td>73.063768</td>\n",
       "      <td>4965</td>\n",
       "      <td>4965</td>\n",
       "      <td>0.0</td>\n",
       "      <td>[0.98, 0.99]</td>\n",
       "    </tr>\n",
       "    <tr>\n",
       "      <th>5</th>\n",
       "      <td>ICC3k</td>\n",
       "      <td>Average fixed raters</td>\n",
       "      <td>0.986313</td>\n",
       "      <td>73.063768</td>\n",
       "      <td>4965</td>\n",
       "      <td>4965</td>\n",
       "      <td>0.0</td>\n",
       "      <td>[0.99, 0.99]</td>\n",
       "    </tr>\n",
       "  </tbody>\n",
       "</table>\n",
       "</div>"
      ],
      "text/plain": [
       "    Type              Description       ICC          F   df1   df2  pval  \\\n",
       "0   ICC1   Single raters absolute  0.970187  66.083895  4965  4966   0.0   \n",
       "1   ICC2     Single random raters  0.970229  73.063768  4965  4965   0.0   \n",
       "2   ICC3      Single fixed raters  0.972996  73.063768  4965  4965   0.0   \n",
       "3  ICC1k  Average raters absolute  0.984868  66.083895  4965  4966   0.0   \n",
       "4  ICC2k    Average random raters  0.984890  73.063768  4965  4965   0.0   \n",
       "5  ICC3k     Average fixed raters  0.986313  73.063768  4965  4965   0.0   \n",
       "\n",
       "          CI95%  \n",
       "0  [0.97, 0.97]  \n",
       "1  [0.96, 0.98]  \n",
       "2  [0.97, 0.97]  \n",
       "3  [0.98, 0.99]  \n",
       "4  [0.98, 0.99]  \n",
       "5  [0.99, 0.99]  "
      ]
     },
     "execution_count": 36,
     "metadata": {},
     "output_type": "execute_result"
    }
   ],
   "source": [
    "icc_icg = compute_icc(labels_icg_total, dataset_empkins_01.sampling_rate_icg)\n",
    "dict_results[\"ICG_ICC\"] = icc_ecg\n",
    "icc_icg"
   ]
  },
  {
   "cell_type": "markdown",
   "metadata": {},
   "source": [
    "## Plots"
   ]
  },
  {
   "cell_type": "code",
   "execution_count": 20,
   "metadata": {},
   "outputs": [
    {
     "name": "stdout",
     "output_type": "stream",
     "text": [
      "3.0 10.0\n"
     ]
    },
    {
     "data": {
      "application/vnd.jupyter.widget-view+json": {
       "model_id": "dc9e8c97eebc4eaca24fd13c8e25ec56",
       "version_major": 2,
       "version_minor": 0
      },
      "image/png": "[encoded data removed]",
      "text/html": [
       "\n",
       "            <div style=\"display: inline-block;\">\n",
       "                <div class=\"jupyter-widgets widget-label\" style=\"text-align: center;\">\n",
       "                    Figure\n",
       "                </div>\n",
       "                <img src='data:image/png;base64,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' width=1000.0/>\n",
       "            </div>\n",
       "        "
      ],
      "text/plain": [
       "Canvas(toolbar=Toolbar(toolitems=[('Home', 'Reset original view', 'home', 'home'), ('Back', 'Back to previous …"
      ]
     },
     "metadata": {},
     "output_type": "display_data"
    }
   ],
   "source": [
    "fig, axs = plt.subplots(ncols=2, sharex=True, sharey=True)\n",
    "\n",
    "labels_ecg_diff_cum = labels_ecg_diff.abs().value_counts().sort_index().cumsum()\n",
    "labels_ecg_diff_cum = labels_ecg_diff_cum / labels_ecg_diff_cum.iloc[-1] * 100\n",
    "labels_ecg_diff_cum = labels_ecg_diff_cum.to_frame(\"count\")\n",
    "labels_ecg_diff_cum.index = pd.Index([i[0] for i in labels_ecg_diff_cum.index], name=\"Inter-Rater Difference [ms]\")\n",
    "labels_ecg_diff_cum.index = labels_ecg_diff_cum.index / dataset_empkins_01.sampling_rate_ecg * 1000\n",
    "\n",
    "labels_icg_diff_cum = labels_icg_diff.abs().value_counts().sort_index().cumsum()\n",
    "labels_icg_diff_cum = labels_icg_diff_cum / labels_icg_diff_cum.iloc[-1] * 100\n",
    "labels_icg_diff_cum = labels_icg_diff_cum.to_frame(\"count\")\n",
    "labels_icg_diff_cum.index = pd.Index([i[0] for i in labels_icg_diff_cum.index], name=\"Inter-Rater Difference [ms]\")\n",
    "labels_icg_diff_cum.index = labels_icg_diff_cum.index / dataset_empkins_01.sampling_rate_icg * 1000\n",
    "\n",
    "cutoff_ecg = int(0.8 * labels_ecg_diff_cum.iloc[-1].iloc[0])\n",
    "cutoff_ecg = labels_ecg_diff_cum[(labels_ecg_diff_cum <= cutoff_ecg).diff()].dropna().iloc[-1].name\n",
    "\n",
    "cutoff_icg = int(0.8 * labels_icg_diff_cum.iloc[-1].iloc[0])\n",
    "cutoff_icg = labels_icg_diff_cum[(labels_icg_diff_cum <= cutoff_icg).diff()].dropna().iloc[-1].name\n",
    "\n",
    "print(cutoff_ecg, cutoff_icg)\n",
    "\n",
    "labels_ecg_diff_cum.plot(ax=axs[0])\n",
    "labels_icg_diff_cum.plot(ax=axs[1])\n",
    "\n",
    "axs[0].axhline(100, color=cmaps.tech[0], ls=\"--\")\n",
    "axs[0].axvline(cutoff_ecg, color=cmaps.med[0], ls=\"--\")\n",
    "axs[0].axhline(labels_ecg_diff_cum.loc[cutoff_ecg].iloc[0], color=cmaps.med[0], ls=\"--\")\n",
    "axs[0].scatter(cutoff_ecg, labels_ecg_diff_cum.loc[cutoff_ecg].iloc[0], color=cmaps.med[0])\n",
    "\n",
    "axs[1].axhline(100, color=cmaps.tech[0], ls=\"--\")\n",
    "axs[1].axvline(cutoff_icg, color=cmaps.med[0], ls=\"--\")\n",
    "axs[1].axhline(labels_icg_diff_cum.loc[cutoff_icg].iloc[0], color=cmaps.med[0], ls=\"--\")\n",
    "axs[1].scatter(cutoff_icg, labels_icg_diff_cum.loc[cutoff_icg].iloc[0], color=cmaps.med[0])\n",
    "\n",
    "axs[0].set_title(\"ECG\")\n",
    "axs[1].set_title(\"ICG\")\n",
    "\n",
    "axs[0].set_ylabel(\"Cumulative Frequency [%]\")\n",
    "axs[1].set_ylabel(\"Cumulative Frequency [%]\")\n",
    "\n",
    "axs[0].legend().remove()\n",
    "axs[1].legend().remove()\n",
    "\n",
    "fig.tight_layout()"
   ]
  },
  {
   "cell_type": "markdown",
   "metadata": {},
   "source": [
    "## Export"
   ]
  },
  {
   "cell_type": "code",
   "execution_count": 37,
   "metadata": {},
   "outputs": [],
   "source": [
    "bp.io.write_pandas_dict_excel(dict_results, export_path.joinpath(\"result_summary_rater_agreement_empkins.xlsx\"))"
   ]
  },
  {
   "cell_type": "code",
   "execution_count": null,
   "metadata": {},
   "outputs": [],
   "source": []
  }
 ],
 "metadata": {
  "jupytext": {
   "encoding": "# -*- coding: utf-8 -*-",
   "text_representation": {
    "extension": ".py",
    "format_name": "sphinx",
    "format_version": "1.1",
    "jupytext_version": "1.13.0"
   }
  },
  "kernelspec": {
   "display_name": "pepbench",
   "language": "python",
   "name": "pepbench"
  },
  "language_info": {
   "codemirror_mode": {
    "name": "ipython",
    "version": 3
   },
   "file_extension": ".py",
   "mimetype": "text/x-python",
   "name": "python",
   "nbconvert_exporter": "python",
   "pygments_lexer": "ipython3",
   "version": "3.10.14"
  },
  "toc-showtags": false,
  "vscode": {
   "interpreter": {
    "hash": "7014e6a8beff3a47c7c0424a6c63a486addc0ee3d12468bf1ae9a85a56cca70c"
   }
  }
 },
 "nbformat": 4,
 "nbformat_minor": 4
}
