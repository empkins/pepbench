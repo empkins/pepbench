{
 "cells": [
  {
   "cell_type": "markdown",
   "metadata": {
    "cell_marker": "\"\"\""
   },
   "source": [
    "# Analysis PEP Algorithms"
   ]
  },
  {
   "cell_type": "markdown",
   "metadata": {},
   "source": [
    "## Setup and Helper Functions"
   ]
  },
  {
   "cell_type": "markdown",
   "metadata": {},
   "source": [
    "### Imports"
   ]
  },
  {
   "cell_type": "code",
   "execution_count": null,
   "metadata": {},
   "outputs": [],
   "source": [
    "import json\n",
    "from pathlib import Path\n",
    "\n",
    "import biopsykit as bp\n",
    "import matplotlib.pyplot as plt\n",
    "import pandas as pd\n",
    "import seaborn as sns\n",
    "from biopsykit.utils.dataframe_handling import multi_xs\n",
    "from fau_colors import cmaps, register_fausans_font\n",
    "\n",
    "from pepbench.data_handling import (\n",
    "    add_unique_id_to_results_dataframe,\n",
    "    compute_improvement_pipeline,\n",
    "    compute_pep_performance_metrics,\n",
    "    get_error_by_group,\n",
    ")\n",
    "from pepbench.datasets import EmpkinsDataset, GuardianDataset\n",
    "from pepbench.export import convert_to_latex, create_algorithm_result_table\n",
    "from pepbench.io import load_challenge_results_from_folder\n",
    "from pepbench.plotting.results import (\n",
    "    boxplot_algorithm_performance,\n",
    "    paired_plot_error_pep_pipeline,\n",
    "    regplot_error_heart_rate,\n",
    "    residual_plot_pep,\n",
    "    residual_plot_pep_heart_rate,\n",
    "    residual_plot_pep_participant,\n",
    "    residual_plot_pep_phase,\n",
    "    violinplot_algorithm_performance,\n",
    ")\n",
    "from pepbench.utils import rename_algorithms, rename_metrics, styling\n",
    "\n",
    "%matplotlib widget\n",
    "%load_ext autoreload\n",
    "%autoreload 2"
   ]
  },
  {
   "cell_type": "code",
   "execution_count": null,
   "metadata": {},
   "outputs": [],
   "source": [
    "register_fausans_font()\n",
    "plt.close(\"all\")\n",
    "\n",
    "palette = sns.color_palette(cmaps.faculties_light)\n",
    "sns.set_theme(context=\"notebook\", style=\"ticks\", font=\"sans-serif\", palette=palette)\n",
    "\n",
    "plt.rcParams[\"figure.figsize\"] = (10, 5)\n",
    "plt.rcParams[\"pdf.fonttype\"] = 42\n",
    "plt.rcParams[\"mathtext.default\"] = \"regular\"\n",
    "plt.rcParams[\"font.family\"] = \"sans-serif\"\n",
    "plt.rcParams[\"font.sans-serif\"] = \"FAUSans Office\"\n",
    "\n",
    "palette"
   ]
  },
  {
   "cell_type": "code",
   "execution_count": null,
   "metadata": {},
   "outputs": [],
   "source": [
    "root_path = Path(\"../../\")"
   ]
  },
  {
   "cell_type": "code",
   "execution_count": null,
   "metadata": {},
   "outputs": [],
   "source": [
    "deploy_type = \"local\"\n",
    "\n",
    "config_dict = json.load(root_path.joinpath(\"config.json\").open(encoding=\"utf-8\"))\n",
    "\n",
    "empkins_base_path = Path(config_dict[deploy_type][\"empkins_path\"])\n",
    "guardian_base_path = Path(config_dict[deploy_type][\"guardian_path\"])\n",
    "print(empkins_base_path)"
   ]
  },
  {
   "cell_type": "markdown",
   "metadata": {},
   "source": [
    "### Input Paths"
   ]
  },
  {
   "cell_type": "code",
   "execution_count": null,
   "metadata": {},
   "outputs": [],
   "source": [
    "result_path = root_path.joinpath(\"results\")"
   ]
  },
  {
   "cell_type": "markdown",
   "metadata": {},
   "source": [
    "### Output Paths"
   ]
  },
  {
   "cell_type": "code",
   "execution_count": null,
   "metadata": {},
   "outputs": [],
   "source": [
    "paper_path = json.load(root_path.joinpath(\"paper_path.json\").open(encoding=\"utf-8\"))[\"paper_path\"]\n",
    "paper_path = Path(paper_path)\n",
    "\n",
    "export_path = root_path.joinpath(\"exports\")\n",
    "img_path = export_path.joinpath(\"plots\")\n",
    "stats_path = export_path.joinpath(\"stats\")\n",
    "\n",
    "img_path_paper = paper_path.joinpath(\"img\")\n",
    "tab_path_paper = paper_path.joinpath(\"tab\")\n",
    "suppl_img_path_paper = paper_path.joinpath(\"supplementary_material/img\")\n",
    "suppl_tab_path_paper = paper_path.joinpath(\"supplementary_material/tab\")\n",
    "\n",
    "bp.utils.file_handling.mkdirs(\n",
    "    [\n",
    "        result_path,\n",
    "        export_path,\n",
    "        img_path,\n",
    "        stats_path,\n",
    "        img_path_paper,\n",
    "        tab_path_paper,\n",
    "        suppl_img_path_paper,\n",
    "        suppl_tab_path_paper,\n",
    "    ]\n",
    ")"
   ]
  },
  {
   "cell_type": "code",
   "execution_count": null,
   "metadata": {},
   "outputs": [],
   "source": [
    "algo_levels = [\"q_peak_algorithm\", \"b_point_algorithm\", \"outlier_correction_algorithm\"]\n",
    "algo_level_mapping = dict(\n",
    "    zip(algo_levels, [\"Q-Peak Algorithm\", \"B-Point Algorithm\", \"Outlier Correction\"], strict=False)\n",
    ")"
   ]
  },
  {
   "cell_type": "code",
   "execution_count": null,
   "metadata": {},
   "outputs": [],
   "source": [
    "deploy_type = \"local\"\n",
    "\n",
    "config_dict = json.load(root_path.joinpath(\"config.json\").open(encoding=\"utf-8\"))\n",
    "\n",
    "empkins_base_path = Path(config_dict[deploy_type][\"empkins_path\"])\n",
    "guardian_base_path = Path(config_dict[deploy_type][\"guardian_path\"])\n",
    "print(empkins_base_path)"
   ]
  },
  {
   "cell_type": "markdown",
   "metadata": {},
   "source": [
    "## EmpkinS Dataset"
   ]
  },
  {
   "cell_type": "code",
   "execution_count": null,
   "metadata": {},
   "outputs": [],
   "source": [
    "dataset_empkins = EmpkinsDataset(empkins_base_path, use_cache=True, only_labeled=True)\n",
    "dataset_empkins"
   ]
  },
  {
   "cell_type": "code",
   "execution_count": null,
   "metadata": {},
   "outputs": [],
   "source": [
    "results_empkins = load_challenge_results_from_folder(\n",
    "    result_path.joinpath(\"empkins_dataset_both_algorithms\"),\n",
    "    index_cols_per_sample=[\"participant\", \"condition\", \"phase\"],\n",
    ")"
   ]
  },
  {
   "cell_type": "code",
   "execution_count": null,
   "metadata": {},
   "outputs": [],
   "source": [
    "results_per_sample_empkins = results_empkins.per_sample\n",
    "results_agg_total_empkins = results_empkins.agg_total\n",
    "results_per_sample_empkins.head()"
   ]
  },
  {
   "cell_type": "markdown",
   "metadata": {},
   "source": [
    "### Results Table"
   ]
  },
  {
   "cell_type": "code",
   "execution_count": null,
   "metadata": {},
   "outputs": [],
   "source": [
    "metrics_empkins = compute_pep_performance_metrics(results_per_sample_empkins, num_heartbeats=results_agg_total_empkins)\n",
    "metrics_empkins.head(n=10).style.highlight_min(\n",
    "    subset=[\"Mean Absolute Error [ms]\", \"Mean Absolute Relative Error [%]\"], props=\"background-color: LightGreen;\"\n",
    ")\n",
    "# metrics_empkins.head(n=20)"
   ]
  },
  {
   "cell_type": "code",
   "execution_count": null,
   "metadata": {},
   "outputs": [],
   "source": [
    "result_table = create_algorithm_result_table(metrics_empkins)\n",
    "\n",
    "latex_output = convert_to_latex(\n",
    "    result_table,\n",
    "    collapse_index_columns=False,\n",
    "    column_header_bold=True,\n",
    "    environment=\"longtable\",\n",
    "    column_format=\"p{2.25cm}p{2.0cm}p{2.0cm}S[table-format=1.1(2)]S[table-format=1.1(2)]S[table-format=1.1(2)]p{2.0cm}\",\n",
    "    caption=r\"Results of combined \\ac{PEP} extraction pipelines on the \\textit{EmpkinS Dataset}. The pipelines are sorted by the MAE in ascending order.\",\n",
    "    label=\"tab:b_point_results_empkins\",\n",
    ")\n",
    "\n",
    "# fix pandas bug that does not format the last column name in bold\n",
    "# latex_output = latex_output.replace(r\"{Invalid\", r\"{\\bfseries Invalid\")\n",
    "# some manual post-processing\n",
    "latex_output = latex_output.replace(r\"\\ac\", r\"\")\n",
    "latex_output = latex_output.replace(r\"\\begin{longtable}\", r\"\\begin{small}\\begin{longtable}\")\n",
    "latex_output = latex_output.replace(r\"\\end{longtable}\", r\"\\end{longtable}\\end{small}\")\n",
    "latex_output = latex_output.replace(r\"Van13 \", r\"Van13\\,\")\n",
    "latex_output = latex_output.replace(r\"\\font-weightbold \", r\"\\bfseries \")\n",
    "latex_output = latex_output.replace(r\"{B-Point Detection}\", r\"{B-Point\\newline Detection}\")\n",
    "latex_output = latex_output.replace(r\"{Q-Peak Detection}\", r\"{Q-Peak\\newline Detection}\")\n",
    "latex_output = latex_output.replace(r\"{Outlier Correction}\", r\"{Outlier\\newline Correction}\")\n",
    "\n",
    "suppl_tab_path_paper.joinpath(\"tab_pep_pipeline_results_empkins.tex\").open(mode=\"w+\").write(latex_output)\n",
    "print(latex_output)"
   ]
  },
  {
   "cell_type": "markdown",
   "metadata": {},
   "source": [
    "### Plots"
   ]
  },
  {
   "cell_type": "code",
   "execution_count": null,
   "metadata": {},
   "outputs": [],
   "source": [
    "selected_pipelines_for_plotting_empkins = [\n",
    "    (\"forouzanfar2018\", \"drost2022\", \"none\"),\n",
    "    (\"vanlien2013-32-ms\", \"drost2022\", \"none\"),\n",
    "    (\"forouzanfar2018\", \"arbol2017-third-derivative\", \"none\"),\n",
    "    (\"forouzanfar2018\", \"lozano2007-linear-regression\", \"none\"),\n",
    "]"
   ]
  },
  {
   "cell_type": "code",
   "execution_count": null,
   "metadata": {},
   "outputs": [],
   "source": [
    "results_empkins_plot = multi_xs(\n",
    "    data=results_per_sample_empkins, keys=selected_pipelines_for_plotting_empkins, level=algo_levels\n",
    ")\n",
    "# results_empkins_plot = results_empkins_plot.droplevel(\"outlier_correction_algorithm\")\n",
    "# results_empkins_plot = results_empkins_plot.reindex([s[0] for s in selected_algos_for_plotting_empkins], level=0)\n",
    "results_empkins_plot.head()"
   ]
  },
  {
   "cell_type": "markdown",
   "metadata": {},
   "source": [
    "#### Absolute Error"
   ]
  },
  {
   "cell_type": "code",
   "execution_count": null,
   "metadata": {},
   "outputs": [],
   "source": [
    "fig, ax = boxplot_algorithm_performance(\n",
    "    results_empkins_plot,\n",
    "    metric=\"absolute_error_per_sample_ms\",\n",
    "    showmeans=True,\n",
    "    figsize=(6, 5),\n",
    ")\n",
    "\n",
    "fig.savefig(img_path.joinpath(\"img_boxplot_pep_pipelines_mae_empkins.pdf\"), transparent=True)"
   ]
  },
  {
   "cell_type": "code",
   "execution_count": null,
   "metadata": {},
   "outputs": [],
   "source": [
    "fig, ax = violinplot_algorithm_performance(\n",
    "    results_empkins_plot,\n",
    "    metric=\"absolute_error_per_sample_ms\",\n",
    "    showmeans=True,\n",
    "    figsize=(6, 5),\n",
    ")"
   ]
  },
  {
   "cell_type": "markdown",
   "metadata": {},
   "source": [
    "#### Absolute Error (with and without Outlier)"
   ]
  },
  {
   "cell_type": "code",
   "execution_count": null,
   "metadata": {},
   "outputs": [],
   "source": [
    "fig, axs = plt.subplots(ncols=2, figsize=(10, 3))\n",
    "\n",
    "boxplot_algorithm_performance(\n",
    "    results_empkins_plot,\n",
    "    metric=\"absolute_error_per_sample_ms\",\n",
    "    showmeans=True,\n",
    "    showfliers=True,\n",
    "    width=0.9,\n",
    "    title=\"PEP Pipeline Results – With Outlier\",\n",
    "    fig=fig,\n",
    "    ax=axs[0],\n",
    ")\n",
    "boxplot_algorithm_performance(\n",
    "    results_empkins_plot,\n",
    "    metric=\"absolute_error_per_sample_ms\",\n",
    "    showmeans=True,\n",
    "    showfliers=False,\n",
    "    width=0.9,\n",
    "    title=\"PEP Pipeline Results – Without Outlier\",\n",
    "    fig=fig,\n",
    "    ax=axs[1],\n",
    ")\n",
    "for ax in axs:\n",
    "    ax.set_xlabel(None)\n",
    "fig.tight_layout()\n",
    "\n",
    "for path in [img_path, suppl_img_path_paper]:\n",
    "    fig.savefig(path.joinpath(\"img_boxplot_pep_pipelines_mae_with_without_outlier_empkins.pdf\"), transparent=True)"
   ]
  },
  {
   "cell_type": "markdown",
   "metadata": {},
   "source": [
    "#### Error"
   ]
  },
  {
   "cell_type": "code",
   "execution_count": null,
   "metadata": {},
   "outputs": [],
   "source": [
    "fig, ax = violinplot_algorithm_performance(\n",
    "    results_empkins_plot,\n",
    "    metric=\"error_per_sample_ms\",\n",
    "    showmeans=True,\n",
    "    figsize=(6, 5),\n",
    ")"
   ]
  },
  {
   "cell_type": "markdown",
   "metadata": {},
   "source": [
    "#### Error per Participant"
   ]
  },
  {
   "cell_type": "code",
   "execution_count": null,
   "metadata": {},
   "outputs": [],
   "source": [
    "error_per_participant_empkins = get_error_by_group(results_per_sample_empkins, grouper=\"participant\")\n",
    "error_per_participant_empkins = multi_xs(\n",
    "    error_per_participant_empkins, selected_pipelines_for_plotting_empkins, level=algo_levels, axis=1\n",
    ")\n",
    "error_per_participant_empkins = error_per_participant_empkins.round(2)\n",
    "error_per_participant_empkins = error_per_participant_empkins.rename(columns=rename_algorithms).rename(\n",
    "    columns=rename_metrics\n",
    ")\n",
    "\n",
    "error_per_participant_empkins.style.highlight_max(props=\"background-color: Pink;\")"
   ]
  },
  {
   "cell_type": "code",
   "execution_count": null,
   "metadata": {},
   "outputs": [],
   "source": [
    "latex_output = convert_to_latex(\n",
    "    error_per_participant_empkins.style.highlight_max(props=\"background-color: Pink;\").format_index(\n",
    "        escape=\"latex\", axis=0\n",
    "    ),\n",
    "    collapse_index_columns=False,\n",
    "    column_header_bold=True,\n",
    "    column_format=\"p{3.5cm}\" + \"S[table-format=2.2]\" * len(error_per_participant_empkins.columns),\n",
    "    caption=r\"Mean Abolute Error of selected PEP extraction pipelines on the \\textit{EmpkinS Dataset} per participant. The values with the highest errors are highlighted in red.\",\n",
    "    label=\"tab:pep_pipeline_results_per_participant_empkins\",\n",
    ")\n",
    "\n",
    "# fix pandas bug that does not format the last column name in bold\n",
    "latex_output = latex_output.replace(r\"\\begin{table}[ht]\", r\"\\begin{table}[ht]\\small\")\n",
    "latex_output = latex_output.replace(r\"q_peak_algorithm\", r\"\\bfseries Q-peak Algorithm\")\n",
    "latex_output = latex_output.replace(r\"b_point_algorithm\", r\"\\bfseries B-point Algorithm\")\n",
    "latex_output = latex_output.replace(r\"outlier_correction_algorithm\", r\"\\bfseries Outlier Correction Algorithm\")\n",
    "latex_output = latex_output.replace(r\"{participant}\", r\"{Participant}\")\n",
    "latex_output = latex_output.replace(r\"{metric}\", r\"{}\")\n",
    "latex_output = latex_output.replace(r\"{\\bfseries mean}\", r\"{Mean}\")\n",
    "latex_output = latex_output.replace(r\"{\\bfseries std}\", r\"{SD}\")\n",
    "latex_output = latex_output.replace(r\"{std}\", r\"{SD}\")\n",
    "latex_output = latex_output.replace(r\"\\sisetup{\", r\"\\sisetup{round-mode=places,round-precision=2,\")\n",
    "\n",
    "suppl_tab_path_paper.joinpath(\"tab_pep_pipeline_results_per_participant_empkins.tex\").open(mode=\"w+\").write(\n",
    "    latex_output\n",
    ")\n",
    "\n",
    "print(latex_output)"
   ]
  },
  {
   "cell_type": "markdown",
   "metadata": {},
   "source": [
    "#### Residual Plots"
   ]
  },
  {
   "cell_type": "code",
   "execution_count": null,
   "metadata": {},
   "outputs": [],
   "source": [
    "selected_pipelines_for_residual_empkins = [\n",
    "    (\"forouzanfar2018\", \"drost2022\", \"none\"),\n",
    "    # (\"vanlien2013-32-ms\", \"drost2022\", \"none\"),\n",
    "    (\"forouzanfar2018\", \"arbol2017-third-derivative\", \"none\"),\n",
    "    (\"forouzanfar2018\", \"lozano2007-linear-regression\", \"none\"),\n",
    "]"
   ]
  },
  {
   "cell_type": "code",
   "execution_count": null,
   "metadata": {},
   "outputs": [],
   "source": [
    "fig, axs = plt.subplots(ncols=3, figsize=(12, 4), sharey=True)\n",
    "\n",
    "for i, ax in enumerate(axs):\n",
    "    fig, ax = residual_plot_pep(\n",
    "        results_empkins_plot,\n",
    "        selected_pipelines_for_residual_empkins[i],\n",
    "        alpha=0.5,\n",
    "        show_upper_limit=True,\n",
    "        ax=ax,\n",
    "        annotate_fontsize=\"small\",\n",
    "        annotate_bbox=True,\n",
    "    )\n",
    "    if i != 0:\n",
    "        ax.set_ylabel(None)\n",
    "axs[0].set_ylim([-125, 225])\n",
    "\n",
    "fig.tight_layout()\n",
    "\n",
    "for path in [img_path, suppl_img_path_paper]:\n",
    "    fig.savefig(path.joinpath(\"img_residual_plots_pep_pipelines_empkins.pdf\"), transparent=True)"
   ]
  },
  {
   "cell_type": "code",
   "execution_count": null,
   "metadata": {},
   "outputs": [],
   "source": [
    "fig, axs = plt.subplots(ncols=3, figsize=(12, 4), sharey=True)\n",
    "\n",
    "for i, ax in enumerate(axs):\n",
    "    fig, ax = residual_plot_pep_participant(\n",
    "        results_empkins_plot,\n",
    "        selected_pipelines_for_residual_empkins[i],\n",
    "        alpha=0.5,\n",
    "        show_upper_limit=True,\n",
    "        ax=ax,\n",
    "        annotate_fontsize=\"small\",\n",
    "        annotate_bbox=True,\n",
    "    )\n",
    "    if i != 0:\n",
    "        ax.set_ylabel(None)\n",
    "axs[0].set_ylim([-125, 150])\n",
    "\n",
    "fig.tight_layout()\n",
    "\n",
    "for path in [img_path, suppl_img_path_paper]:\n",
    "    fig.savefig(path.joinpath(\"img_residual_plots_pep_pipelines_per_participant_empkins.pdf\"), transparent=True)"
   ]
  },
  {
   "cell_type": "code",
   "execution_count": null,
   "metadata": {},
   "outputs": [],
   "source": [
    "fig, axs = plt.subplots(ncols=3, figsize=(12, 4), sharey=True)\n",
    "\n",
    "for i, ax in enumerate(axs):\n",
    "    fig, ax = residual_plot_pep_phase(\n",
    "        results_empkins_plot,\n",
    "        selected_pipelines_for_residual_empkins[i],\n",
    "        alpha=0.5,\n",
    "        show_upper_limit=True,\n",
    "        ax=ax,\n",
    "        annotate_fontsize=\"small\",\n",
    "        annotate_bbox=True,\n",
    "    )\n",
    "    if i != 0:\n",
    "        ax.set_ylabel(None)\n",
    "\n",
    "axs[0].set_ylim([-125, 150])\n",
    "\n",
    "for path in [img_path, suppl_img_path_paper]:\n",
    "    fig.savefig(path.joinpath(\"img_residual_plots_pep_pipelines_per_phase_empkins.pdf\"), transparent=True)"
   ]
  },
  {
   "cell_type": "code",
   "execution_count": null,
   "metadata": {},
   "outputs": [],
   "source": [
    "fig, axs = plt.subplots(ncols=3, figsize=(12, 4), sharey=True)\n",
    "\n",
    "for i, ax in enumerate(axs):\n",
    "    fig, ax = residual_plot_pep_heart_rate(\n",
    "        results_empkins_plot,\n",
    "        selected_pipelines_for_residual_empkins[i],\n",
    "        alpha=0.5,\n",
    "        show_upper_limit=True,\n",
    "        ax=ax,\n",
    "        annotate_fontsize=\"small\",\n",
    "        annotate_bbox=True,\n",
    "    )\n",
    "    if i != 0:\n",
    "        ax.set_ylabel(None)\n",
    "\n",
    "axs[0].set_ylim([-125, 150])\n",
    "\n",
    "for path in [img_path, suppl_img_path_paper]:\n",
    "    fig.savefig(path.joinpath(\"img_residual_plots_pep_pipelines_heart_rate_empkins.pdf\"), transparent=True)"
   ]
  },
  {
   "cell_type": "code",
   "execution_count": null,
   "metadata": {},
   "outputs": [],
   "source": [
    "fig, axs = plt.subplots(ncols=3, figsize=(12, 4), sharey=True)\n",
    "\n",
    "for i, ax in enumerate(axs):\n",
    "    fig, ax = regplot_error_heart_rate(\n",
    "        results_per_sample_empkins,\n",
    "        selected_pipelines_for_residual_empkins[i],\n",
    "        error_metric=\"absolute_error_per_sample_ms\",\n",
    "        add_corr_coeff=True,\n",
    "        ax=ax,\n",
    "    )\n",
    "    if i != 0:\n",
    "        ax.set_ylabel(None)\n",
    "\n",
    "fig.tight_layout()\n",
    "\n",
    "for path in [img_path, suppl_img_path_paper]:\n",
    "    fig.savefig(path.joinpath(\"img_pep_pipelines_error_heart_rate_empkins.pdf\"), transparent=True)"
   ]
  },
  {
   "cell_type": "markdown",
   "metadata": {},
   "source": [
    "#### Effect of Outlier Correction on Estimation Error"
   ]
  },
  {
   "cell_type": "code",
   "execution_count": null,
   "metadata": {},
   "outputs": [],
   "source": [
    "outlier_algos = [\"none\", \"linear-interpolation\", \"forouzanfar2018\"]\n",
    "outlier_algos_rename = [\"None\", \"LinInt\", \"For18\"]"
   ]
  },
  {
   "cell_type": "code",
   "execution_count": null,
   "metadata": {},
   "outputs": [],
   "source": [
    "metrics_empkins_outlier = metrics_empkins.groupby([\"q_peak_algorithm\", \"b_point_algorithm\"], group_keys=False).apply(\n",
    "    lambda df: df.reindex(outlier_algos, level=\"outlier_correction_algorithm\")\n",
    ")\n",
    "metrics_empkins_outlier.head(n=10).style.apply(\n",
    "    styling.highlight_outlier_improvement, subset=[\"Mean Absolute Error [ms]\", \"Invalid PEPs\"]\n",
    ")"
   ]
  },
  {
   "cell_type": "markdown",
   "metadata": {},
   "source": [
    "#### Horizontal Table"
   ]
  },
  {
   "cell_type": "code",
   "execution_count": null,
   "metadata": {},
   "outputs": [],
   "source": [
    "metric_empkins_unstack = metrics_empkins_outlier[[\"Mean Absolute Error [ms]\"]].unstack(\"outlier_correction_algorithm\")\n",
    "metric_empkins_unstack = metric_empkins_unstack.reorder_levels([0, 2, 1], axis=1)\n",
    "metric_empkins_unstack = metric_empkins_unstack.sort_index(axis=1).reindex(\n",
    "    outlier_algos, level=\"outlier_correction_algorithm\", axis=1\n",
    ")\n",
    "metric_empkins_unstack_style = metric_empkins_unstack.style.highlight_min(\n",
    "    subset=list(filter(lambda s: \"mean\" in s, metric_empkins_unstack.columns)), axis=1, props=\"font-weight: bold;\"\n",
    ")\n",
    "metric_empkins_unstack_style"
   ]
  },
  {
   "cell_type": "markdown",
   "metadata": {},
   "source": [
    "#### Horizontal Table to LaTeX"
   ]
  },
  {
   "cell_type": "code",
   "execution_count": null,
   "metadata": {},
   "outputs": [],
   "source": [
    "result_table = create_algorithm_result_table(metrics_empkins_outlier[[\"Mean Absolute Error [ms]\"]])\n",
    "result_table = result_table.unstack(\"Outlier Correction\")  # .reindex_like(metric_empkins_unstack)\n",
    "result_table = result_table[[\"Mean Absolute Error [ms]\"]]\n",
    "\n",
    "latex_output = convert_to_latex(\n",
    "    result_table.style.apply(styling.highlight_min_uncertainty, axis=1),\n",
    "    collapse_index_columns=False,\n",
    "    column_header_bold=True,\n",
    "    siunitx=False,\n",
    "    environment=\"longtable\",\n",
    "    column_format=\"p{2.0cm}p{2.0cm}\" + \"S[table-format=1.1(2)]\" * 3,\n",
    "    caption=r\"\\acf{MAE} of the outlier correction algorithms for the different B-point extraction algorithms on the \\textit{EmpkinS Dataset}. \\ac{MAE} values are provided in milliseconds as (\\(M\\,\\pm\\,SD\\)).\",\n",
    "    label=\"tab:outlier_correction_results_empkins\",\n",
    ")\n",
    "\n",
    "# some manual post-processing\n",
    "latex_output = latex_output.replace(r\"\\font-weightbold\", r\"\\bfseries\")\n",
    "latex_output = latex_output.replace(\n",
    "    r\"\\multicolumn{3}{r}{\\bfseries Mean Absolute Error [ms]}\",\n",
    "    r\"\\multicolumn{3}{l}{\\bfseries Outlier Correction Algorithm}\",\n",
    ")\n",
    "latex_output = latex_output.replace(r\"& Outlier Correction &\", r\"&  & \")\n",
    "latex_output = latex_output.replace(r\"Q-Peak Detection & B-Point Detection &  &  &  \\\\\", r\"\")\n",
    "latex_output = latex_output.replace(\n",
    "    r\"&  &  \\bfseries For18 & \\bfseries LinInt & \\bfseries None\",\n",
    "    r\"{\\bfseries Q-peak\\newline Algorithm} & {\\bfseries B-point\\newline Algorithm} & {\\bfseries For18} & {\\bfseries LinInt} & {\\bfseries None}\",\n",
    ")\n",
    "\n",
    "suppl_tab_path_paper.joinpath(\"tab_pep_pipeline_results_horizontal_empkins.tex\").open(mode=\"w+\").write(latex_output)\n",
    "\n",
    "print(latex_output)"
   ]
  },
  {
   "cell_type": "markdown",
   "metadata": {},
   "source": [
    "### Effect of Pipeline Combination"
   ]
  },
  {
   "cell_type": "code",
   "execution_count": null,
   "metadata": {},
   "outputs": [],
   "source": [
    "results_q_peak_empkins = load_challenge_results_from_folder(\n",
    "    result_path.joinpath(\"empkins_dataset_q_peak\"),\n",
    "    index_cols_per_sample=[\"participant\", \"condition\", \"phase\"],\n",
    ")\n",
    "results_b_point_empkins = load_challenge_results_from_folder(\n",
    "    result_path.joinpath(\"empkins_dataset_b_point\"),\n",
    "    index_cols_per_sample=[\"participant\", \"condition\", \"phase\"],\n",
    ")\n",
    "results_q_peak_per_sample_empkins = results_q_peak_empkins.per_sample\n",
    "results_b_point_per_sample_empkins = results_b_point_empkins.per_sample"
   ]
  },
  {
   "cell_type": "code",
   "execution_count": null,
   "metadata": {},
   "outputs": [],
   "source": [
    "results_per_sample_total_empkins = pd.concat(\n",
    "    [results_q_peak_per_sample_empkins, results_b_point_per_sample_empkins, results_per_sample_empkins]\n",
    ")\n",
    "results_per_sample_total_empkins"
   ]
  },
  {
   "cell_type": "code",
   "execution_count": null,
   "metadata": {},
   "outputs": [],
   "source": [
    "pep_pipeline_steps_empkins = [\n",
    "    (selected_pipelines_for_plotting_empkins[0][0], \"b-point-reference\", \"none\"),\n",
    "    (\"q-peak-reference\", selected_pipelines_for_plotting_empkins[0][1], \"none\"),\n",
    "    selected_pipelines_for_plotting_empkins[0],\n",
    "]\n",
    "pep_pipeline_steps_empkins"
   ]
  },
  {
   "cell_type": "code",
   "execution_count": null,
   "metadata": {},
   "outputs": [],
   "source": [
    "q_peak_results_empkins = results_per_sample_total_empkins.xs(\n",
    "    pep_pipeline_steps_empkins[0], level=algo_levels, drop_level=False\n",
    ")\n",
    "b_point_results_empkins = results_per_sample_total_empkins.xs(\n",
    "    pep_pipeline_steps_empkins[1], level=algo_levels, drop_level=False\n",
    ")\n",
    "total_pipeline_results_empkins = results_per_sample_total_empkins.xs(\n",
    "    pep_pipeline_steps_empkins[2], level=algo_levels, drop_level=False\n",
    ")\n",
    "\n",
    "combined_results_empkins = pd.concat(\n",
    "    [q_peak_results_empkins, b_point_results_empkins, total_pipeline_results_empkins]\n",
    ").sort_index()\n",
    "combined_results_empkins.index = combined_results_empkins.index.set_names(\"id\", level=-1)\n",
    "index_levels = list(combined_results_empkins.index.names)\n",
    "combined_results_empkins = combined_results_empkins.reset_index()\n",
    "combined_results_empkins = combined_results_empkins.assign(\n",
    "    pipeline=combined_results_empkins[algo_levels].agg(\"_\".join, axis=1)\n",
    ")\n",
    "combined_results_empkins = combined_results_empkins.set_index([\"pipeline\", *index_levels])\n",
    "combined_results_empkins"
   ]
  },
  {
   "cell_type": "code",
   "execution_count": null,
   "metadata": {},
   "outputs": [],
   "source": [
    "fig, axs = plt.subplots(ncols=3, figsize=(12, 6), sharey=True)\n",
    "\n",
    "for i, (pipeline_step, ax) in enumerate(zip(pep_pipeline_steps_empkins, axs, strict=False)):\n",
    "    show_upper_limit = i != 0\n",
    "    fig, ax = residual_plot_pep(\n",
    "        combined_results_empkins,\n",
    "        algorithm=pipeline_step,\n",
    "        alpha=0.5,\n",
    "        show_upper_limit=show_upper_limit,\n",
    "        ax=ax,\n",
    "        annotate_fontsize=\"small\",\n",
    "        annotate_bbox=True,\n",
    "    )\n",
    "    ax.set_ylim([-150, 150])\n",
    "    if i != 0:\n",
    "        ax.set_ylabel(None)\n",
    "\n",
    "fig.tight_layout()\n",
    "\n",
    "for path in [img_path, suppl_img_path_paper]:\n",
    "    fig.savefig(path.joinpath(\"img_residual_plots_pep_pipeline_steps_individual_lowest_empkins.pdf\"), transparent=True)"
   ]
  },
  {
   "cell_type": "code",
   "execution_count": null,
   "metadata": {},
   "outputs": [],
   "source": [
    "pep_pipeline_steps_best_empkins = [\n",
    "    (\"martinez2004\", \"b-point-reference\", \"none\"),\n",
    "    (\"q-peak-reference\", \"drost2022\", \"none\"),\n",
    "    (\"martinez2004\", \"drost2022\", \"none\"),\n",
    "]\n",
    "pep_pipeline_steps_best_empkins"
   ]
  },
  {
   "cell_type": "code",
   "execution_count": null,
   "metadata": {},
   "outputs": [],
   "source": [
    "q_peak_results_empkins_best = results_per_sample_total_empkins.xs(\n",
    "    pep_pipeline_steps_best_empkins[0], level=algo_levels, drop_level=False\n",
    ")\n",
    "b_point_results_empkins_best = results_per_sample_total_empkins.xs(\n",
    "    pep_pipeline_steps_best_empkins[1], level=algo_levels, drop_level=False\n",
    ")\n",
    "total_pipeline_results_empkins_best = results_per_sample_total_empkins.xs(\n",
    "    pep_pipeline_steps_best_empkins[2], level=algo_levels, drop_level=False\n",
    ")\n",
    "\n",
    "combined_results_empkins_best = pd.concat(\n",
    "    [q_peak_results_empkins_best, b_point_results_empkins_best, total_pipeline_results_empkins_best]\n",
    ").sort_index()\n",
    "combined_results_empkins_best.index = combined_results_empkins_best.index.set_names(\"id\", level=-1)\n",
    "index_levels = list(combined_results_empkins_best.index.names)\n",
    "combined_results_empkins_best = combined_results_empkins_best.reset_index()\n",
    "combined_results_empkins_best = combined_results_empkins_best.assign(\n",
    "    pipeline=combined_results_empkins_best[algo_levels].agg(\"_\".join, axis=1)\n",
    ")\n",
    "combined_results_empkins_best = combined_results_empkins_best.set_index([\"pipeline\", *index_levels])\n",
    "combined_results_empkins_best"
   ]
  },
  {
   "cell_type": "code",
   "execution_count": null,
   "metadata": {},
   "outputs": [],
   "source": [
    "dv = \"absolute_error_per_sample_ms\"\n",
    "\n",
    "fig, axs = plt.subplots(ncols=3, figsize=(12, 6), sharey=True)\n",
    "\n",
    "for i, (pipeline_step, ax) in enumerate(zip(pep_pipeline_steps_best_empkins, axs, strict=False)):\n",
    "    show_upper_limit = i != 0\n",
    "    fig, ax = residual_plot_pep(\n",
    "        combined_results_empkins_best,\n",
    "        algorithm=pipeline_step,\n",
    "        alpha=0.5,\n",
    "        show_upper_limit=show_upper_limit,\n",
    "        ax=ax,\n",
    "        annotate_fontsize=\"small\",\n",
    "        annotate_bbox=True,\n",
    "    )\n",
    "    ax.set_ylim([-150, 150])\n",
    "    if i != 0:\n",
    "        ax.set_ylabel(None)\n",
    "\n",
    "fig.tight_layout()\n",
    "\n",
    "for path in [img_path, suppl_img_path_paper]:\n",
    "    fig.savefig(path.joinpath(\"img_residual_plots_pep_pipeline_steps_overall_lowest_empkins.pdf\"), transparent=True)"
   ]
  },
  {
   "cell_type": "code",
   "execution_count": null,
   "metadata": {},
   "outputs": [],
   "source": [
    "dv = \"error_per_sample_ms\"\n",
    "\n",
    "fig, axs = plt.subplots(ncols=2, figsize=(12, 4), sharey=True)\n",
    "\n",
    "data_plot_paired = add_unique_id_to_results_dataframe(\n",
    "    combined_results_empkins[[dv]].droplevel(algo_levels), algo_levels=\"pipeline\"\n",
    ")\n",
    "data_plot_paired_best = add_unique_id_to_results_dataframe(\n",
    "    combined_results_empkins_best[[dv]].droplevel(algo_levels), algo_levels=\"pipeline\"\n",
    ")\n",
    "\n",
    "paired_plot_error_pep_pipeline(\n",
    "    data=data_plot_paired,\n",
    "    pep_pipelines=[[pep_pipeline_steps_empkins[0], pep_pipeline_steps_empkins[1]]],\n",
    "    dv=dv,\n",
    "    axs=[axs[0]],\n",
    ")\n",
    "\n",
    "paired_plot_error_pep_pipeline(\n",
    "    data=data_plot_paired_best,\n",
    "    pep_pipelines=[[pep_pipeline_steps_best_empkins[0], pep_pipeline_steps_best_empkins[1]]],\n",
    "    dv=dv,\n",
    "    axs=[axs[1]],\n",
    ");"
   ]
  },
  {
   "cell_type": "code",
   "execution_count": null,
   "metadata": {},
   "outputs": [],
   "source": [
    "display(compute_improvement_pipeline(data_plot_paired, [pep_pipeline_steps_empkins[0], pep_pipeline_steps_empkins[1]]))\n",
    "display(\n",
    "    compute_improvement_pipeline(\n",
    "        data_plot_paired_best, [pep_pipeline_steps_best_empkins[0], pep_pipeline_steps_best_empkins[1]]\n",
    "    )\n",
    ")"
   ]
  },
  {
   "cell_type": "markdown",
   "metadata": {},
   "source": [
    "#### Best Overall Pipeline vs. Best Individual Algorithms"
   ]
  },
  {
   "cell_type": "code",
   "execution_count": null,
   "metadata": {},
   "outputs": [],
   "source": [
    "dv = \"absolute_error_per_sample_ms\"\n",
    "combined_results_empkins_both = pd.concat([combined_results_empkins, combined_results_empkins_best]).drop_duplicates()\n",
    "pipeline_differences_empkins = [pep_pipeline_steps_empkins[-1], pep_pipeline_steps_best_empkins[-1]]"
   ]
  },
  {
   "cell_type": "markdown",
   "metadata": {},
   "source": [
    "#### Best Overall Pipeline vs. Best Individual Algorithms - Combined Plot (Residual & Paired Plot)"
   ]
  },
  {
   "cell_type": "code",
   "execution_count": null,
   "metadata": {},
   "outputs": [],
   "source": [
    "fig, axs = plt.subplots(ncols=4, figsize=(12, 5), sharey=False)\n",
    "\n",
    "for i, (pipeline_step, ax) in enumerate(zip(pipeline_differences_empkins, axs[::2], strict=False)):\n",
    "    residual_plot_pep(\n",
    "        combined_results_empkins_both,\n",
    "        algorithm=pipeline_step,\n",
    "        ax=ax,\n",
    "        show_upper_limit=True,\n",
    "        annotate_fontsize=\"small\",\n",
    "        annotate_bbox=True,\n",
    "    )\n",
    "\n",
    "\n",
    "dv = \"error_per_sample_ms\"\n",
    "data_plot_paired_both = add_unique_id_to_results_dataframe(\n",
    "    combined_results_empkins_both[[dv]].droplevel(algo_levels), algo_levels=\"pipeline\"\n",
    ")\n",
    "\n",
    "paired_plot_error_pep_pipeline(\n",
    "    data=data_plot_paired_both,\n",
    "    pep_pipelines=[[pep_pipeline_steps_empkins[0], pep_pipeline_steps_empkins[1]]],\n",
    "    dv=dv,\n",
    "    colors=[\"#FDB735\", \"#8C9FB1\", \"#18B4F1\"],\n",
    "    axs=[axs[1]],\n",
    ")\n",
    "\n",
    "paired_plot_error_pep_pipeline(\n",
    "    data=data_plot_paired_both,\n",
    "    pep_pipelines=[[pep_pipeline_steps_best_empkins[0], pep_pipeline_steps_best_empkins[1]]],\n",
    "    dv=dv,\n",
    "    colors=[\"#FDB735\", \"#8C9FB1\", \"#18B4F1\"],\n",
    "    axs=[axs[3]],\n",
    ")\n",
    "\n",
    "axs[0].set_title(None)\n",
    "axs[2].set_title(None)\n",
    "axs[0].set_ylim([-225, 150])\n",
    "axs[2].set_ylim([-225, 150])\n",
    "axs[1].set_xticklabels(\n",
    "    [\n",
    "        f\"Q-Peak:\\n{rename_algorithms(pipeline_differences_empkins[0][0])}\",\n",
    "        f\"B-Point:\\n{rename_algorithms(pipeline_differences_empkins[0][1])}\",\n",
    "    ]\n",
    ")\n",
    "axs[3].set_xticklabels(\n",
    "    [\n",
    "        f\"Q-Peak:\\n{rename_algorithms(pipeline_differences_empkins[1][0])}\",\n",
    "        f\"B-Point:\\n{rename_algorithms(pipeline_differences_empkins[1][1])}\",\n",
    "    ]\n",
    ")\n",
    "axs[1].set_xlabel(\"PEP Pipeline Algorithms\")\n",
    "axs[3].set_xlabel(\"PEP Pipeline Algorithms\")\n",
    "\n",
    "fig.text(\n",
    "    x=0.25,\n",
    "    y=0.95,\n",
    "    s=f\"PEP Pipeline (Overall Lowest): {' | '.join(rename_algorithms(pipeline_differences_empkins[0]))}\",\n",
    "    fontdict={\"fontweight\": \"bold\"},\n",
    "    ha=\"center\",\n",
    ")\n",
    "fig.text(\n",
    "    x=0.75,\n",
    "    y=0.95,\n",
    "    s=f\"PEP Pipeline (Individually Lowest): {' | '.join(rename_algorithms(pipeline_differences_empkins[1]))}\",\n",
    "    fontdict={\"fontweight\": \"bold\"},\n",
    "    ha=\"center\",\n",
    ")\n",
    "fig.align_xlabels()\n",
    "\n",
    "fig.tight_layout(rect=(0, 0, 1, 0.925), pad=0)\n",
    "for path in [img_path, img_path_paper]:\n",
    "    fig.savefig(path.joinpath(\"img_pep_pipelines_total_empkins.pdf\"), transparent=True)"
   ]
  },
  {
   "cell_type": "code",
   "execution_count": null,
   "metadata": {},
   "outputs": [],
   "source": [
    "dv = \"absolute_error_per_sample_ms\"\n",
    "\n",
    "combined_results_empkins_both = pd.concat([combined_results_empkins, combined_results_empkins_best]).drop_duplicates()\n",
    "data_plot_paired_best = add_unique_id_to_results_dataframe(\n",
    "    combined_results_empkins_both[[dv]].droplevel(algo_levels), algo_levels=\"pipeline\"\n",
    ")\n",
    "\n",
    "fig, axs = plt.subplots(ncols=1, figsize=(6, 4), sharey=True, squeeze=False)\n",
    "axs = axs[0]\n",
    "fig, axs = paired_plot_error_pep_pipeline(\n",
    "    data=data_plot_paired_best, pep_pipelines=[pipeline_differences_empkins], dv=dv, axs=axs\n",
    ")"
   ]
  },
  {
   "cell_type": "markdown",
   "metadata": {},
   "source": [
    "## Guardian Dataset"
   ]
  },
  {
   "cell_type": "code",
   "execution_count": null,
   "metadata": {},
   "outputs": [],
   "source": [
    "dataset_guardian = GuardianDataset(guardian_base_path, use_cache=True, only_labeled=True)\n",
    "dataset_guardian"
   ]
  },
  {
   "cell_type": "code",
   "execution_count": null,
   "metadata": {},
   "outputs": [],
   "source": [
    "results_guardian = load_challenge_results_from_folder(\n",
    "    result_path.joinpath(\"guardian_dataset_both_algorithms\"),\n",
    "    index_cols_per_sample=[\"participant\", \"phase\"],\n",
    ")"
   ]
  },
  {
   "cell_type": "code",
   "execution_count": null,
   "metadata": {},
   "outputs": [],
   "source": [
    "results_per_sample_guardian = results_guardian.per_sample\n",
    "results_agg_total_guardian = results_guardian.agg_total\n",
    "results_per_sample_guardian.head()"
   ]
  },
  {
   "cell_type": "markdown",
   "metadata": {},
   "source": [
    "### Results Table"
   ]
  },
  {
   "cell_type": "code",
   "execution_count": null,
   "metadata": {},
   "outputs": [],
   "source": [
    "metrics_guardian = compute_pep_performance_metrics(\n",
    "    results_per_sample_guardian, num_heartbeats=results_agg_total_guardian\n",
    ")\n",
    "metrics_guardian.head(n=20).style.highlight_min(\n",
    "    subset=[\"Mean Absolute Error [ms]\", \"Mean Absolute Relative Error [%]\"], props=\"background-color: LightGreen;\"\n",
    ")"
   ]
  },
  {
   "cell_type": "code",
   "execution_count": null,
   "metadata": {},
   "outputs": [],
   "source": [
    "result_table = create_algorithm_result_table(metrics_guardian)\n",
    "\n",
    "latex_output = convert_to_latex(\n",
    "    result_table,\n",
    "    collapse_index_columns=False,\n",
    "    column_header_bold=True,\n",
    "    environment=\"longtable\",\n",
    "    column_format=\"p{2.25cm}p{2.0cm}p{2.0cm}S[table-format=1.1(2)]S[table-format=1.1(2)]S[table-format=1.1(2)]p{2.0cm}\",\n",
    "    caption=r\"Results of combined \\ac{PEP} extraction pipelines on the \\textit{Guardian Dataset}. The pipelines are sorted by the MAE in ascending order.\",\n",
    "    label=\"tab:b_point_results_guardian\",\n",
    ")\n",
    "\n",
    "# some manual post-processing\n",
    "latex_output = latex_output.replace(r\"\\ac\", r\"\")\n",
    "latex_output = latex_output.replace(r\"Van13 \", r\"Van13\\,\")\n",
    "latex_output = latex_output.replace(r\"\\begin{longtable}\", r\"\\begin{small}\\begin{longtable}\")\n",
    "latex_output = latex_output.replace(r\"\\end{longtable}\", r\"\\end{longtable}\\end{small}\")\n",
    "latex_output = latex_output.replace(r\"\\font-weightbold \", r\"\\bfseries \")\n",
    "latex_output = latex_output.replace(r\"{B-Point Detection}\", r\"{B-Point\\newline Detection}\")\n",
    "latex_output = latex_output.replace(r\"{Q-Peak Detection}\", r\"{Q-Peak\\newline Detection}\")\n",
    "latex_output = latex_output.replace(r\"{Outlier Correction}\", r\"{Outlier\\newline Correction}\")\n",
    "\n",
    "suppl_tab_path_paper.joinpath(\"tab_pep_pipeline_results_guardian.tex\").open(mode=\"w+\").write(latex_output)\n",
    "print(latex_output)"
   ]
  },
  {
   "cell_type": "markdown",
   "metadata": {},
   "source": [
    "### Plots"
   ]
  },
  {
   "cell_type": "code",
   "execution_count": null,
   "metadata": {},
   "outputs": [],
   "source": [
    "selected_pipelines_for_plotting_guardian = [\n",
    "    (\"forouzanfar2018\", \"drost2022\", \"none\"),\n",
    "    (\"vanlien2013-32-ms\", \"drost2022\", \"none\"),\n",
    "    (\"forouzanfar2018\", \"arbol2017-third-derivative\", \"none\"),\n",
    "    (\"forouzanfar2018\", \"lozano2007-linear-regression\", \"none\"),\n",
    "]"
   ]
  },
  {
   "cell_type": "code",
   "execution_count": null,
   "metadata": {},
   "outputs": [],
   "source": [
    "results_guardian_plot = multi_xs(\n",
    "    data=results_per_sample_guardian, keys=selected_pipelines_for_plotting_guardian, level=algo_levels\n",
    ")\n",
    "results_guardian_plot.head()"
   ]
  },
  {
   "cell_type": "markdown",
   "metadata": {},
   "source": [
    "#### Absolute Error"
   ]
  },
  {
   "cell_type": "code",
   "execution_count": null,
   "metadata": {},
   "outputs": [],
   "source": [
    "fig, ax = boxplot_algorithm_performance(\n",
    "    results_guardian_plot,\n",
    "    metric=\"absolute_error_per_sample_ms\",\n",
    "    showmeans=True,\n",
    "    figsize=(6, 5),\n",
    ")\n",
    "\n",
    "fig.savefig(img_path.joinpath(\"img_boxplot_pep_pipelines_mae_guardian.pdf\"), transparent=True)"
   ]
  },
  {
   "cell_type": "code",
   "execution_count": null,
   "metadata": {},
   "outputs": [],
   "source": [
    "fig, ax = violinplot_algorithm_performance(\n",
    "    results_guardian_plot,\n",
    "    metric=\"absolute_error_per_sample_ms\",\n",
    "    figsize=(6, 5),\n",
    ")"
   ]
  },
  {
   "cell_type": "markdown",
   "metadata": {},
   "source": [
    "#### Absolute Error (with and without Outlier)"
   ]
  },
  {
   "cell_type": "code",
   "execution_count": null,
   "metadata": {},
   "outputs": [],
   "source": [
    "fig, axs = plt.subplots(ncols=2, figsize=(10, 3))\n",
    "\n",
    "boxplot_algorithm_performance(\n",
    "    results_guardian_plot,\n",
    "    metric=\"absolute_error_per_sample_ms\",\n",
    "    showmeans=True,\n",
    "    showfliers=True,\n",
    "    width=0.9,\n",
    "    title=\"PEP Pipeline Results – With Outlier\",\n",
    "    fig=fig,\n",
    "    ax=axs[0],\n",
    ")\n",
    "boxplot_algorithm_performance(\n",
    "    results_guardian_plot,\n",
    "    metric=\"absolute_error_per_sample_ms\",\n",
    "    showmeans=True,\n",
    "    showfliers=False,\n",
    "    width=0.9,\n",
    "    title=\"PEP Pipeline Results – Without Outlier\",\n",
    "    fig=fig,\n",
    "    ax=axs[1],\n",
    ")\n",
    "for ax in axs:\n",
    "    ax.set_xlabel(None)\n",
    "fig.tight_layout()\n",
    "\n",
    "for path in [img_path, suppl_img_path_paper]:\n",
    "    fig.savefig(path.joinpath(\"img_boxplot_pep_pipelines_mae_with_without_outlier_guardian.pdf\"), transparent=True)"
   ]
  },
  {
   "cell_type": "markdown",
   "metadata": {},
   "source": [
    "#### Error"
   ]
  },
  {
   "cell_type": "code",
   "execution_count": null,
   "metadata": {},
   "outputs": [],
   "source": [
    "fig, ax = violinplot_algorithm_performance(\n",
    "    results_guardian_plot,\n",
    "    metric=\"error_per_sample_ms\",\n",
    "    figsize=(6, 5),\n",
    ")"
   ]
  },
  {
   "cell_type": "markdown",
   "metadata": {},
   "source": [
    "#### Error per Participant"
   ]
  },
  {
   "cell_type": "code",
   "execution_count": null,
   "metadata": {},
   "outputs": [],
   "source": [
    "error_per_participant_guardian = get_error_by_group(results_per_sample_guardian, grouper=\"participant\")\n",
    "error_per_participant_guardian = multi_xs(\n",
    "    error_per_participant_guardian, selected_pipelines_for_plotting_guardian, level=algo_levels, axis=1\n",
    ")\n",
    "error_per_participant_guardian = error_per_participant_guardian.round(2)\n",
    "error_per_participant_guardian = error_per_participant_guardian.rename(columns=rename_algorithms).rename(\n",
    "    columns=rename_metrics\n",
    ")\n",
    "\n",
    "error_per_participant_guardian.style.highlight_max(props=\"background-color: Pink;\")"
   ]
  },
  {
   "cell_type": "code",
   "execution_count": null,
   "metadata": {},
   "outputs": [],
   "source": [
    "latex_output = convert_to_latex(\n",
    "    error_per_participant_guardian.style.highlight_max(props=\"background-color: Pink;\").format_index(\n",
    "        escape=\"latex\", axis=0\n",
    "    ),\n",
    "    collapse_index_columns=False,\n",
    "    column_header_bold=True,\n",
    "    column_format=\"p{3.5cm}\" + \"S[table-format=2.2]\" * len(error_per_participant_empkins.columns),\n",
    "    caption=r\"Mean Abolute Error of selected PEP extraction pipelines on the \\textit{Guardian Dataset} per participant. The values with the highest errors are highlighted in red.\",\n",
    "    label=\"tab:pep_pipeline_results_per_participant_guardian\",\n",
    ")\n",
    "\n",
    "# fix pandas bug that does not format the last column name in bold\n",
    "latex_output = latex_output.replace(r\"\\begin{table}[ht]\", r\"\\begin{table}[ht]\\footnotesize\")\n",
    "latex_output = latex_output.replace(r\"q_peak_algorithm\", r\"\\bfseries Q-peak Algorithm\")\n",
    "latex_output = latex_output.replace(r\"b_point_algorithm\", r\"\\bfseries B-point Algorithm\")\n",
    "latex_output = latex_output.replace(r\"outlier_correction_algorithm\", r\"\\bfseries Outlier Correction Algorithm\")\n",
    "latex_output = latex_output.replace(r\"{participant}\", r\"{Participant}\")\n",
    "latex_output = latex_output.replace(r\"{metric}\", r\"{}\")\n",
    "latex_output = latex_output.replace(r\"{\\bfseries mean}\", r\"{Mean}\")\n",
    "latex_output = latex_output.replace(r\"{\\bfseries std}\", r\"{SD}\")\n",
    "latex_output = latex_output.replace(r\"{std}\", r\"{SD}\")\n",
    "latex_output = latex_output.replace(r\"\\sisetup{\", r\"\\sisetup{round-mode=places,round-precision=2,\")\n",
    "\n",
    "suppl_tab_path_paper.joinpath(\"tab_pep_pipeline_results_per_participant_guardian.tex\").open(mode=\"w+\").write(\n",
    "    latex_output\n",
    ")\n",
    "\n",
    "print(latex_output)"
   ]
  },
  {
   "cell_type": "markdown",
   "metadata": {},
   "source": [
    "#### Residual Plots"
   ]
  },
  {
   "cell_type": "code",
   "execution_count": null,
   "metadata": {},
   "outputs": [],
   "source": [
    "selected_pipelines_for_residual_guardian = [\n",
    "    (\"forouzanfar2018\", \"drost2022\", \"none\"),\n",
    "    # (\"vanlien2013-32-ms\", \"drost2022\", \"none\"),\n",
    "    (\"forouzanfar2018\", \"arbol2017-third-derivative\", \"none\"),\n",
    "    (\"forouzanfar2018\", \"lozano2007-linear-regression\", \"none\"),\n",
    "]"
   ]
  },
  {
   "cell_type": "code",
   "execution_count": null,
   "metadata": {},
   "outputs": [],
   "source": [
    "fig, axs = plt.subplots(ncols=3, figsize=(12, 4), sharey=True)\n",
    "\n",
    "for i, ax in enumerate(axs):\n",
    "    fig, ax = residual_plot_pep(\n",
    "        results_guardian_plot,\n",
    "        selected_pipelines_for_residual_guardian[i],\n",
    "        alpha=0.5,\n",
    "        show_upper_limit=True,\n",
    "        ax=ax,\n",
    "        annotate_fontsize=\"small\",\n",
    "        annotate_bbox=True,\n",
    "    )\n",
    "    if i != 0:\n",
    "        ax.set_ylabel(None)\n",
    "axs[0].set_ylim([-125, 225])\n",
    "\n",
    "fig.tight_layout()\n",
    "\n",
    "for path in [img_path, suppl_img_path_paper]:\n",
    "    fig.savefig(path.joinpath(\"img_residual_plots_pep_pipelines_guardian.pdf\"), transparent=True)"
   ]
  },
  {
   "cell_type": "code",
   "execution_count": null,
   "metadata": {},
   "outputs": [],
   "source": [
    "fig, axs = plt.subplots(ncols=3, figsize=(12, 4), sharey=True)\n",
    "\n",
    "for i, ax in enumerate(axs):\n",
    "    fig, ax = residual_plot_pep_participant(\n",
    "        results_guardian_plot,\n",
    "        selected_pipelines_for_residual_guardian[i],\n",
    "        alpha=0.5,\n",
    "        show_upper_limit=True,\n",
    "        ax=ax,\n",
    "        annotate_fontsize=\"small\",\n",
    "        annotate_bbox=True,\n",
    "    )\n",
    "    if i != 0:\n",
    "        ax.set_ylabel(None)\n",
    "axs[0].set_ylim([-125, 225])\n",
    "\n",
    "fig.tight_layout()\n",
    "\n",
    "for path in [img_path, suppl_img_path_paper]:\n",
    "    fig.savefig(path.joinpath(\"img_residual_plots_pep_pipelines_per_participant_guardian.pdf\"), transparent=True)"
   ]
  },
  {
   "cell_type": "code",
   "execution_count": null,
   "metadata": {},
   "outputs": [],
   "source": [
    "fig, axs = plt.subplots(ncols=3, figsize=(12, 4), sharey=True)\n",
    "\n",
    "for i, ax in enumerate(axs):\n",
    "    fig, ax = residual_plot_pep_phase(\n",
    "        results_guardian_plot,\n",
    "        selected_pipelines_for_residual_guardian[i],\n",
    "        alpha=0.5,\n",
    "        show_upper_limit=True,\n",
    "        ax=ax,\n",
    "        annotate_fontsize=\"small\",\n",
    "        annotate_bbox=True,\n",
    "    )\n",
    "    if i != 0:\n",
    "        ax.set_ylabel(None)\n",
    "\n",
    "axs[0].set_ylim([-125, 225])\n",
    "\n",
    "for path in [img_path, suppl_img_path_paper]:\n",
    "    fig.savefig(path.joinpath(\"img_residual_plots_pep_pipelines_per_phase_guardian.pdf\"), transparent=True)"
   ]
  },
  {
   "cell_type": "code",
   "execution_count": null,
   "metadata": {},
   "outputs": [],
   "source": [
    "fig, axs = plt.subplots(ncols=3, figsize=(12, 4), sharey=True)\n",
    "\n",
    "for i, ax in enumerate(axs):\n",
    "    fig, ax = residual_plot_pep_heart_rate(\n",
    "        results_guardian_plot,\n",
    "        selected_pipelines_for_residual_guardian[i],\n",
    "        alpha=0.5,\n",
    "        show_upper_limit=True,\n",
    "        ax=ax,\n",
    "        annotate_fontsize=\"small\",\n",
    "        annotate_bbox=True,\n",
    "    )\n",
    "    if i != 0:\n",
    "        ax.set_ylabel(None)\n",
    "\n",
    "axs[0].set_ylim([-125, 225])\n",
    "\n",
    "for path in [img_path, suppl_img_path_paper]:\n",
    "    fig.savefig(path.joinpath(\"img_residual_plots_pep_pipelines_heart_rate_guardian.pdf\"), transparent=True)"
   ]
  },
  {
   "cell_type": "code",
   "execution_count": null,
   "metadata": {},
   "outputs": [],
   "source": [
    "fig, axs = plt.subplots(ncols=3, figsize=(12, 4), sharey=True)\n",
    "\n",
    "for i, ax in enumerate(axs):\n",
    "    fig, ax = regplot_error_heart_rate(\n",
    "        results_per_sample_guardian,\n",
    "        selected_pipelines_for_residual_guardian[i],\n",
    "        error_metric=\"absolute_error_per_sample_ms\",\n",
    "        add_corr_coeff=True,\n",
    "        ax=ax,\n",
    "    )\n",
    "    if i != 0:\n",
    "        ax.set_ylabel(None)\n",
    "\n",
    "fig.tight_layout()\n",
    "\n",
    "for path in [img_path, suppl_img_path_paper]:\n",
    "    fig.savefig(path.joinpath(\"img_pep_pipelines_error_heart_rate_guardian.pdf\"), transparent=True)"
   ]
  },
  {
   "cell_type": "markdown",
   "metadata": {},
   "source": [
    "#### Effect of Outlier Correction on Estimation Error"
   ]
  },
  {
   "cell_type": "code",
   "execution_count": null,
   "metadata": {},
   "outputs": [],
   "source": [
    "metrics_guardian_outlier = metrics_guardian.groupby([\"q_peak_algorithm\", \"b_point_algorithm\"], group_keys=False).apply(\n",
    "    lambda df: df.reindex(outlier_algos, level=\"outlier_correction_algorithm\")\n",
    ")\n",
    "metrics_guardian_outlier.head(n=10).style.apply(\n",
    "    styling.highlight_outlier_improvement, subset=[\"Mean Absolute Error [ms]\", \"Invalid PEPs\"]\n",
    ")"
   ]
  },
  {
   "cell_type": "markdown",
   "metadata": {},
   "source": [
    "#### Horizontal Table"
   ]
  },
  {
   "cell_type": "code",
   "execution_count": null,
   "metadata": {},
   "outputs": [],
   "source": [
    "metric_guardian_unstack = metrics_guardian_outlier[[\"Mean Absolute Error [ms]\"]].unstack(\"outlier_correction_algorithm\")\n",
    "metric_guardian_unstack = metric_guardian_unstack.reorder_levels([0, 2, 1], axis=1)\n",
    "metric_guardian_unstack = metric_guardian_unstack.sort_index(axis=1).reindex(\n",
    "    outlier_algos, level=\"outlier_correction_algorithm\", axis=1\n",
    ")\n",
    "metric_guardian_unstack_style = metric_guardian_unstack.style.highlight_min(\n",
    "    subset=list(filter(lambda s: \"mean\" in s, metric_guardian_unstack.columns)), axis=1, props=\"font-weight: bold;\"\n",
    ")\n",
    "metric_guardian_unstack_style"
   ]
  },
  {
   "cell_type": "markdown",
   "metadata": {},
   "source": [
    "#### Horizontal Table to LaTeX"
   ]
  },
  {
   "cell_type": "code",
   "execution_count": null,
   "metadata": {},
   "outputs": [],
   "source": [
    "result_table = create_algorithm_result_table(metrics_guardian_outlier[[\"Mean Absolute Error [ms]\"]])\n",
    "result_table = result_table.unstack(\"Outlier Correction\")  # .reindex_like(metric_guardian_unstack)\n",
    "result_table = result_table[[\"Mean Absolute Error [ms]\"]]\n",
    "\n",
    "latex_output = convert_to_latex(\n",
    "    result_table.style.apply(styling.highlight_min_uncertainty, axis=1),\n",
    "    collapse_index_columns=False,\n",
    "    column_header_bold=True,\n",
    "    siunitx=False,\n",
    "    environment=\"longtable\",\n",
    "    column_format=\"p{2.0cm}p{2.0cm}\" + \"S[table-format=1.1(2)]\" * 3,\n",
    "    caption=r\"\\acf{MAE} of the outlier correction algorithms for the different B-point extraction algorithms on the \\textit{Guardian Dataset}. \\ac{MAE} values are provided in milliseconds as (\\(M\\,\\pm\\,SD\\)).\",\n",
    "    label=\"tab:outlier_correction_results_guardian\",\n",
    ")\n",
    "\n",
    "# some manual post-processing\n",
    "latex_output = latex_output.replace(r\"\\font-weightbold\", r\"\\bfseries\")\n",
    "latex_output = latex_output.replace(\n",
    "    r\"\\multicolumn{3}{r}{\\bfseries Mean Absolute Error [ms]}\",\n",
    "    r\"\\multicolumn{3}{l}{\\bfseries Outlier Correction Algorithm}\",\n",
    ")\n",
    "latex_output = latex_output.replace(r\"& Outlier Correction &\", r\"&  & \")\n",
    "latex_output = latex_output.replace(r\"Q-Peak Detection & B-Point Detection &  &  &  \\\\\", r\"\")\n",
    "latex_output = latex_output.replace(\n",
    "    r\"&  &  \\bfseries For18 & \\bfseries LinInt & \\bfseries None\",\n",
    "    r\"{\\bfseries Q-peak\\newline Algorithm} & {\\bfseries B-point\\newline Algorithm} & {\\bfseries For18} & {\\bfseries LinInt} & {\\bfseries None}\",\n",
    ")\n",
    "\n",
    "suppl_tab_path_paper.joinpath(\"tab_pep_pipeline_results_horizontal_guardian.tex\").open(mode=\"w+\").write(latex_output)\n",
    "\n",
    "print(latex_output)"
   ]
  },
  {
   "cell_type": "markdown",
   "metadata": {},
   "source": [
    "### Effect of Pipeline Combination"
   ]
  },
  {
   "cell_type": "code",
   "execution_count": null,
   "metadata": {},
   "outputs": [],
   "source": [
    "results_q_peak_guardian = load_challenge_results_from_folder(\n",
    "    result_path.joinpath(\"guardian_dataset_q_peak\"),\n",
    "    index_cols_per_sample=[\"participant\", \"phase\"],\n",
    ")\n",
    "results_b_point_guardian = load_challenge_results_from_folder(\n",
    "    result_path.joinpath(\"guardian_dataset_b_point\"),\n",
    "    index_cols_per_sample=[\"participant\", \"phase\"],\n",
    ")\n",
    "results_q_peak_per_sample_guardian = results_q_peak_guardian.per_sample\n",
    "results_b_point_per_sample_guardian = results_b_point_guardian.per_sample"
   ]
  },
  {
   "cell_type": "code",
   "execution_count": null,
   "metadata": {},
   "outputs": [],
   "source": [
    "results_per_sample_total_guardian = pd.concat(\n",
    "    [results_q_peak_per_sample_guardian, results_b_point_per_sample_guardian, results_per_sample_guardian]\n",
    ")\n",
    "results_per_sample_total_guardian"
   ]
  },
  {
   "cell_type": "code",
   "execution_count": null,
   "metadata": {},
   "outputs": [],
   "source": [
    "pep_pipeline_steps_guardian = [\n",
    "    (selected_pipelines_for_plotting_guardian[0][0], \"b-point-reference\", \"none\"),\n",
    "    (\"q-peak-reference\", selected_pipelines_for_plotting_guardian[0][1], \"none\"),\n",
    "    selected_pipelines_for_plotting_guardian[0],\n",
    "]\n",
    "pep_pipeline_steps_guardian"
   ]
  },
  {
   "cell_type": "code",
   "execution_count": null,
   "metadata": {},
   "outputs": [],
   "source": [
    "q_peak_results_guardian = results_per_sample_total_guardian.xs(\n",
    "    pep_pipeline_steps_guardian[0], level=algo_levels, drop_level=False\n",
    ")\n",
    "b_point_results_guardian = results_per_sample_total_guardian.xs(\n",
    "    pep_pipeline_steps_guardian[1], level=algo_levels, drop_level=False\n",
    ")\n",
    "total_pipeline_results_guardian = results_per_sample_total_guardian.xs(\n",
    "    pep_pipeline_steps_guardian[2], level=algo_levels, drop_level=False\n",
    ")\n",
    "\n",
    "combined_results_guardian = pd.concat(\n",
    "    [q_peak_results_guardian, b_point_results_guardian, total_pipeline_results_guardian]\n",
    ").sort_index()\n",
    "combined_results_guardian.index = combined_results_guardian.index.set_names(\"id\", level=-1)\n",
    "index_levels = list(combined_results_guardian.index.names)\n",
    "combined_results_guardian = combined_results_guardian.reset_index()\n",
    "combined_results_guardian = combined_results_guardian.assign(\n",
    "    pipeline=combined_results_guardian[algo_levels].agg(\"_\".join, axis=1)\n",
    ")\n",
    "combined_results_guardian = combined_results_guardian.set_index([\"pipeline\", *index_levels])\n",
    "combined_results_guardian"
   ]
  },
  {
   "cell_type": "code",
   "execution_count": null,
   "metadata": {},
   "outputs": [],
   "source": [
    "fig, axs = plt.subplots(ncols=3, figsize=(12, 6), sharey=True)\n",
    "\n",
    "for i, (pipeline_step, ax) in enumerate(zip(pep_pipeline_steps_guardian, axs, strict=False)):\n",
    "    show_upper_limit = i != 0\n",
    "    fig, ax = residual_plot_pep(\n",
    "        combined_results_guardian,\n",
    "        algorithm=pipeline_step,\n",
    "        alpha=0.5,\n",
    "        show_upper_limit=show_upper_limit,\n",
    "        ax=ax,\n",
    "        annotate_fontsize=\"small\",\n",
    "        annotate_bbox=True,\n",
    "    )\n",
    "    ax.set_ylim([-110, 120])\n",
    "    if i != 0:\n",
    "        ax.set_ylabel(None)\n",
    "\n",
    "fig.tight_layout()\n",
    "\n",
    "for path in [img_path, suppl_img_path_paper]:\n",
    "    fig.savefig(path.joinpath(\"img_residual_plots_pep_pipeline_steps_individual_lowest_guardian.pdf\"), transparent=True)"
   ]
  },
  {
   "cell_type": "code",
   "execution_count": null,
   "metadata": {},
   "outputs": [],
   "source": [
    "pep_pipeline_steps_best_guardian = [\n",
    "    (\"martinez2004\", \"b-point-reference\", \"none\"),\n",
    "    (\"q-peak-reference\", \"lozano2007-linear-regression\", \"none\"),\n",
    "    (\"martinez2004\", \"lozano2007-linear-regression\", \"none\"),\n",
    "]\n",
    "pep_pipeline_steps_best_guardian"
   ]
  },
  {
   "cell_type": "code",
   "execution_count": null,
   "metadata": {},
   "outputs": [],
   "source": [
    "q_peak_results_guardian_best = results_per_sample_total_guardian.xs(\n",
    "    pep_pipeline_steps_best_guardian[0], level=algo_levels, drop_level=False\n",
    ")\n",
    "b_point_results_guardian_best = results_per_sample_total_guardian.xs(\n",
    "    pep_pipeline_steps_best_guardian[1], level=algo_levels, drop_level=False\n",
    ")\n",
    "total_pipeline_results_guardian_best = results_per_sample_total_guardian.xs(\n",
    "    pep_pipeline_steps_best_guardian[2], level=algo_levels, drop_level=False\n",
    ")\n",
    "\n",
    "combined_results_guardian_best = pd.concat(\n",
    "    [q_peak_results_guardian_best, b_point_results_guardian_best, total_pipeline_results_guardian_best]\n",
    ").sort_index()\n",
    "combined_results_guardian_best.index = combined_results_guardian_best.index.set_names(\"id\", level=-1)\n",
    "index_levels = list(combined_results_guardian_best.index.names)\n",
    "combined_results_guardian_best = combined_results_guardian_best.reset_index()\n",
    "combined_results_guardian_best = combined_results_guardian_best.assign(\n",
    "    pipeline=combined_results_guardian_best[algo_levels].agg(\"_\".join, axis=1)\n",
    ")\n",
    "combined_results_guardian_best = combined_results_guardian_best.set_index([\"pipeline\", *index_levels])\n",
    "combined_results_guardian_best"
   ]
  },
  {
   "cell_type": "code",
   "execution_count": null,
   "metadata": {},
   "outputs": [],
   "source": [
    "dv = \"absolute_error_per_sample_ms\"\n",
    "\n",
    "fig, axs = plt.subplots(ncols=3, figsize=(12, 6), sharey=True)\n",
    "\n",
    "for i, (pipeline_step, ax) in enumerate(zip(pep_pipeline_steps_best_empkins, axs, strict=False)):\n",
    "    show_upper_limit = i != 0\n",
    "    fig, ax = residual_plot_pep(\n",
    "        combined_results_empkins_best,\n",
    "        algorithm=pipeline_step,\n",
    "        alpha=0.5,\n",
    "        show_upper_limit=show_upper_limit,\n",
    "        ax=ax,\n",
    "        annotate_fontsize=\"small\",\n",
    "        annotate_bbox=True,\n",
    "    )\n",
    "    ax.set_ylim([-110, 120])\n",
    "    if i != 0:\n",
    "        ax.set_ylabel(None)\n",
    "\n",
    "fig.tight_layout()\n",
    "\n",
    "for path in [img_path, suppl_img_path_paper]:\n",
    "    fig.savefig(path.joinpath(\"img_residual_plots_pep_pipeline_steps_overall_lowest_guardian.pdf\"), transparent=True)"
   ]
  },
  {
   "cell_type": "code",
   "execution_count": null,
   "metadata": {},
   "outputs": [],
   "source": [
    "dv = \"error_per_sample_ms\"\n",
    "\n",
    "fig, axs = plt.subplots(ncols=2, figsize=(12, 6), sharey=True)\n",
    "\n",
    "data_plot_paired = add_unique_id_to_results_dataframe(\n",
    "    combined_results_guardian[[dv]].droplevel(algo_levels), algo_levels=\"pipeline\"\n",
    ")\n",
    "data_plot_paired_best = add_unique_id_to_results_dataframe(\n",
    "    combined_results_guardian_best[[dv]].droplevel(algo_levels), algo_levels=\"pipeline\"\n",
    ")\n",
    "\n",
    "paired_plot_error_pep_pipeline(\n",
    "    data=data_plot_paired,\n",
    "    pep_pipelines=[[pep_pipeline_steps_guardian[0], pep_pipeline_steps_guardian[1]]],\n",
    "    dv=dv,\n",
    "    axs=[axs[0]],\n",
    ")\n",
    "\n",
    "paired_plot_error_pep_pipeline(\n",
    "    data=data_plot_paired_best,\n",
    "    pep_pipelines=[[pep_pipeline_steps_best_guardian[0], pep_pipeline_steps_best_guardian[1]]],\n",
    "    dv=dv,\n",
    "    axs=[axs[1]],\n",
    ");"
   ]
  },
  {
   "cell_type": "code",
   "execution_count": null,
   "metadata": {},
   "outputs": [],
   "source": [
    "display(\n",
    "    compute_improvement_pipeline(data_plot_paired, [pep_pipeline_steps_guardian[0], pep_pipeline_steps_guardian[1]])\n",
    ")\n",
    "display(\n",
    "    compute_improvement_pipeline(\n",
    "        data_plot_paired_best, [pep_pipeline_steps_best_guardian[0], pep_pipeline_steps_best_guardian[1]]\n",
    "    )\n",
    ")"
   ]
  },
  {
   "cell_type": "markdown",
   "metadata": {},
   "source": [
    "#### Best Overall Pipeline vs. Best Individual Algorithms"
   ]
  },
  {
   "cell_type": "code",
   "execution_count": null,
   "metadata": {},
   "outputs": [],
   "source": [
    "dv = \"absolute_error_per_sample_ms\"\n",
    "combined_results_guardian_both = pd.concat(\n",
    "    [combined_results_guardian, combined_results_guardian_best]\n",
    ").drop_duplicates()\n",
    "pipeline_differences_guardian = [pep_pipeline_steps_guardian[-1], pep_pipeline_steps_best_guardian[-1]]"
   ]
  },
  {
   "cell_type": "code",
   "execution_count": null,
   "metadata": {},
   "outputs": [],
   "source": [
    "fig, axs = plt.subplots(ncols=2, figsize=(12, 6), sharey=True)\n",
    "\n",
    "for i, (pipeline_step, ax) in enumerate(zip(pipeline_differences_guardian, axs, strict=False)):\n",
    "    residual_plot_pep(combined_results_guardian_both, algorithm=pipeline_step, ax=ax, show_upper_limit=True)\n",
    "\n",
    "axs[0].set_title(\n",
    "    f\"PEP Pipeline (Overall Lowest):\\n{' | '.join(rename_algorithms(pipeline_differences_guardian[1]))}\",\n",
    "    fontweight=\"bold\",\n",
    ")\n",
    "axs[1].set_title(\n",
    "    f\"PEP Pipeline (Individually Lowest):\\n{' | '.join(rename_algorithms(pipeline_differences_guardian[0]))}\",\n",
    "    fontweight=\"bold\",\n",
    ")\n",
    "axs[-1].set_ylabel(None)\n",
    "axs[0].set_ylim([-200, 200])\n",
    "\n",
    "fig.tight_layout()"
   ]
  },
  {
   "cell_type": "markdown",
   "metadata": {},
   "source": [
    "#### Best Overall Pipeline vs. Best Individual Algorithms - Combined Plot (Residual & Paired Plot)"
   ]
  },
  {
   "cell_type": "code",
   "execution_count": null,
   "metadata": {},
   "outputs": [],
   "source": [
    "fig, axs = plt.subplots(ncols=4, figsize=(12, 5), sharey=False)\n",
    "\n",
    "for i, (pipeline_step, ax) in enumerate(zip(pipeline_differences_guardian, axs[::2], strict=False)):\n",
    "    residual_plot_pep(\n",
    "        combined_results_guardian_both,\n",
    "        algorithm=pipeline_step,\n",
    "        ax=ax,\n",
    "        show_upper_limit=True,\n",
    "        annotate_bbox=True,\n",
    "        annotate_fontsize=\"small\",\n",
    "    )\n",
    "\n",
    "dv = \"error_per_sample_ms\"\n",
    "data_plot_paired_both = add_unique_id_to_results_dataframe(\n",
    "    combined_results_guardian_both[[dv]].droplevel(algo_levels), algo_levels=\"pipeline\"\n",
    ")\n",
    "\n",
    "paired_plot_error_pep_pipeline(\n",
    "    data=data_plot_paired_both,\n",
    "    pep_pipelines=[[pep_pipeline_steps_guardian[0], pep_pipeline_steps_guardian[1]]],\n",
    "    dv=dv,\n",
    "    colors=[\"#FDB735\", \"#8C9FB1\", \"#18B4F1\"],\n",
    "    axs=[axs[1]],\n",
    ")\n",
    "\n",
    "paired_plot_error_pep_pipeline(\n",
    "    data=data_plot_paired_both,\n",
    "    pep_pipelines=[[pep_pipeline_steps_best_guardian[0], pep_pipeline_steps_best_guardian[1]]],\n",
    "    dv=dv,\n",
    "    colors=[\"#FDB735\", \"#8C9FB1\", \"#18B4F1\"],\n",
    "    axs=[axs[3]],\n",
    ")\n",
    "\n",
    "axs[0].set_title(None)\n",
    "axs[2].set_title(None)\n",
    "axs[0].set_ylim([-225, 150])\n",
    "axs[2].set_ylim([-225, 150])\n",
    "axs[1].set_xticklabels(\n",
    "    [\n",
    "        f\"Q-Peak:\\n{rename_algorithms(pipeline_differences_empkins[0][0])}\",\n",
    "        f\"B-Point:\\n{rename_algorithms(pipeline_differences_empkins[0][1])}\",\n",
    "    ]\n",
    ")\n",
    "axs[3].set_xticklabels(\n",
    "    [\n",
    "        f\"Q-Peak:\\n{rename_algorithms(pipeline_differences_empkins[1][0])}\",\n",
    "        f\"B-Point:\\n{rename_algorithms(pipeline_differences_empkins[1][1])}\",\n",
    "    ]\n",
    ")\n",
    "axs[1].set_xlabel(\"PEP Pipeline Algorithms\")\n",
    "axs[3].set_xlabel(\"PEP Pipeline Algorithms\")\n",
    "\n",
    "\n",
    "fig.text(\n",
    "    x=0.25,\n",
    "    y=0.95,\n",
    "    s=f\"PEP Pipeline (Overall Lowest): {' | '.join(rename_algorithms(pipeline_differences_guardian[0]))}\",\n",
    "    fontdict={\"fontweight\": \"bold\"},\n",
    "    ha=\"center\",\n",
    ")\n",
    "fig.text(\n",
    "    x=0.75,\n",
    "    y=0.95,\n",
    "    s=f\"PEP Pipeline (Individually Lowest): {' | '.join(rename_algorithms(pipeline_differences_guardian[1]))}\",\n",
    "    fontdict={\"fontweight\": \"bold\"},\n",
    "    ha=\"center\",\n",
    ")\n",
    "fig.align_xlabels()\n",
    "\n",
    "fig.tight_layout(rect=(0, 0, 1, 0.925), pad=0)\n",
    "for path in [img_path, img_path_paper]:\n",
    "    fig.savefig(path.joinpath(\"img_pep_pipelines_total_guardian.pdf\"), transparent=True)"
   ]
  },
  {
   "cell_type": "code",
   "execution_count": null,
   "metadata": {},
   "outputs": [],
   "source": [
    "dv = \"absolute_error_per_sample_ms\"\n",
    "\n",
    "combined_results_guardian_both = pd.concat(\n",
    "    [combined_results_guardian, combined_results_guardian_best]\n",
    ").drop_duplicates()\n",
    "data_plot_paired_best = add_unique_id_to_results_dataframe(\n",
    "    combined_results_guardian_both[[dv]].droplevel(algo_levels), algo_levels=\"pipeline\"\n",
    ")\n",
    "\n",
    "fig, axs = plt.subplots(ncols=1, figsize=(6, 6), sharey=True, squeeze=False)\n",
    "axs = axs[0]\n",
    "paired_plot_error_pep_pipeline(\n",
    "    data=data_plot_paired_best, pep_pipelines=[pipeline_differences_guardian], dv=dv, axs=axs\n",
    ");"
   ]
  },
  {
   "cell_type": "markdown",
   "metadata": {},
   "source": [
    "## Combined Output"
   ]
  },
  {
   "cell_type": "markdown",
   "metadata": {},
   "source": [
    "\n",
    "### Joint Result Table"
   ]
  },
  {
   "cell_type": "code",
   "execution_count": null,
   "metadata": {},
   "outputs": [],
   "source": [
    "result_table_empkins = create_algorithm_result_table(\n",
    "    pd.concat([metrics_empkins.head(n=1), metrics_empkins.loc[[pep_pipeline_steps_best_empkins[-1]]]])\n",
    ")\n",
    "result_table_guardian = create_algorithm_result_table(\n",
    "    pd.concat([metrics_guardian.head(n=1), metrics_guardian.loc[[pep_pipeline_steps_best_guardian[-1]]]])\n",
    ")\n",
    "result_table_combined = pd.concat(\n",
    "    {\"EmpkinS Dataset\": result_table_empkins, \"Guardian Dataset\": result_table_guardian}, names=[\"Dataset\"]\n",
    ")\n",
    "\n",
    "result_table_combined = result_table_combined.assign(Type=[\"OL\", \"IL\"] * 2)\n",
    "result_table_combined = result_table_combined.set_index(\"Type\", append=True)\n",
    "result_table_combined = result_table_combined.reorder_levels([0, -1, 1, 2, 3])\n",
    "# result_table_combined = result_table_combined[[result_table_combined.columns[-1]] + list(result_table_combined.columns[:-1])]\n",
    "# result_table_combined\n",
    "result_table_combined"
   ]
  },
  {
   "cell_type": "code",
   "execution_count": null,
   "metadata": {},
   "outputs": [],
   "source": [
    "latex_output = convert_to_latex(\n",
    "    result_table_combined,\n",
    "    collapse_index_columns=False,\n",
    "    column_header_bold=True,\n",
    "    environment=\"table*\",\n",
    "    column_format=\"p{1.60cm}p{1.00cm}p{1.60cm}p{1.60cm}p{1.60cm}S[table-format=1.1(2)]S[table-format=1.1(2)]S[table-format=1.1(2)]p{2.0cm}\",\n",
    "    caption=r\"Results of selected combined \\ac{PEP} extraction pipelines per dataset. The different pipeline types are: \\textit{OL = overall lowest}, i.e., the combined \\ac{PEP} pipelines with the overall lowest \\ac{MAE} on the \\textit{EmpkinS Dataset} and the \\textit{Guardian Dataset}, respectively; \\textit{IL = individually lowest}, i.e., the combined \\ac{PEP} pipeline consisting of the algorithms with the individually lowest \\ac{MAE}. Results of all \\ac{PEP} pipelines are available in the Supplementary Material, Tables~S6 (\\textit{EmpkinS Dataset}) and~S14 (\\textit{Guardian Dataset}).\",\n",
    "    label=\"tab:pep_pipelines_combined\",\n",
    ")\n",
    "\n",
    "# some manual post-processing\n",
    "latex_output = latex_output.replace(\n",
    "    r\"\"\"\n",
    "\\cline{1-9} \\cline{2-9} \\cline{3-9} \\cline{4-9}\n",
    "\\bottomrule\"\"\",\n",
    "    r\"\\bottomrule\",\n",
    ")\n",
    "latex_output = latex_output.replace(r\"Van13 \", r\"Van13\\,\")\n",
    "latex_output = latex_output.replace(r\"Invalid\\newline \", r\"Invalid \")\n",
    "latex_output = latex_output.replace(\"{Dataset}\", r\"{\\bfseries Dataset}\")\n",
    "latex_output = latex_output.replace(\n",
    "    r\"{} & {} & {} & {} & {} & \",\n",
    "    r\"{\\bfseries Dataset} & {\\bfseries Type} & {\\bfseries Q-peak\\newline Algorithm} & {\\bfseries B-point\\newline Algorithm} & {\\bfseries Outlier\\newline Correction} & \",\n",
    ")\n",
    "latex_output = latex_output.replace(\n",
    "    r\"{\\bfseries Dataset} & {Type} & {Q-Peak Detection} & {B-Point Detection} & {Outlier Correction} & {} & {} & {} & {} \\\\\",\n",
    "    \"\",\n",
    ")\n",
    "latex_output = latex_output.replace(\"{*}{EmpkinS Dataset}\", r\"{*}{EmpkinS}\")\n",
    "latex_output = latex_output.replace(\"{*}{Guardian Dataset}\", r\"{*}{Guardian}\")\n",
    "\n",
    "tab_path_paper.joinpath(\"tab_pep_pipeline_results_combined.tex\").open(mode=\"w+\").write(latex_output)\n",
    "print(latex_output)"
   ]
  },
  {
   "cell_type": "code",
   "execution_count": null,
   "metadata": {},
   "outputs": [],
   "source": []
  },
  {
   "cell_type": "code",
   "execution_count": null,
   "metadata": {},
   "outputs": [],
   "source": []
  },
  {
   "cell_type": "code",
   "execution_count": null,
   "metadata": {},
   "outputs": [],
   "source": []
  },
  {
   "cell_type": "code",
   "execution_count": null,
   "metadata": {},
   "outputs": [],
   "source": []
  }
 ],
 "metadata": {
  "jupytext": {
   "encoding": "# -*- coding: utf-8 -*-",
   "text_representation": {
    "extension": ".py",
    "format_name": "sphinx",
    "format_version": "1.1",
    "jupytext_version": "1.13.0"
   }
  },
  "kernelspec": {
   "display_name": "pepbench",
   "language": "python",
   "name": "pepbench"
  },
  "language_info": {
   "codemirror_mode": {
    "name": "ipython",
    "version": 3
   },
   "file_extension": ".py",
   "mimetype": "text/x-python",
   "name": "python",
   "nbconvert_exporter": "python",
   "pygments_lexer": "ipython3",
   "version": "3.10.14"
  },
  "toc-showtags": false,
  "vscode": {
   "interpreter": {
    "hash": "7014e6a8beff3a47c7c0424a6c63a486addc0ee3d12468bf1ae9a85a56cca70c"
   }
  }
 },
 "nbformat": 4,
 "nbformat_minor": 4
}
