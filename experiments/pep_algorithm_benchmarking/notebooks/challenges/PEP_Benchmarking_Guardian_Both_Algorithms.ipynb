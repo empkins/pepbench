{
 "cells": [
  {
   "cell_type": "markdown",
   "metadata": {
    "cell_marker": "\"\"\""
   },
   "source": [
    "# PEP Benchmarking - Guardian Dataset Both Algorithms"
   ]
  },
  {
   "cell_type": "markdown",
   "metadata": {},
   "source": [
    "This notebook executes the PEP Benchmarking challenges on the Guardian Dataset for PEP Extraction Pipelines using automated algorithms for both Q-wave onset and B-point extraction."
   ]
  },
  {
   "cell_type": "markdown",
   "metadata": {},
   "source": [
    "## Setup and Helper Functions"
   ]
  },
  {
   "cell_type": "code",
   "execution_count": 1,
   "metadata": {},
   "outputs": [],
   "source": [
    "import re\n",
    "import json\n",
    "from pprint import pprint\n",
    "from pathlib import Path\n",
    "from itertools import product\n",
    "\n",
    "import pandas as pd\n",
    "import numpy as np\n",
    "\n",
    "from fau_colors import cmaps, register_fausans_font\n",
    "from tqdm.auto import tqdm\n",
    "\n",
    "import biopsykit as bp\n",
    "\n",
    "import matplotlib.pyplot as plt\n",
    "import seaborn as sns\n",
    "\n",
    "from pepbench.algorithms.heartbeat_segmentation import HeartbeatSegmentationNeurokit\n",
    "from pepbench.algorithms.ecg import QPeakExtractionNeurokitDwt, QWaveOnsetExtractionVanLien2013\n",
    "from pepbench.algorithms.icg import BPointExtractionArbol2017, BPointExtractionDebski1993, BPointExtractionDrost2022, BPointExtractionForouzanfar2018, CPointExtractionScipyFindPeaks\n",
    "from pepbench.algorithms.outlier_correction import OutlierCorrectionForouzanfar2018, OutlierCorrectionInterpolation, OutlierCorrectionDummy\n",
    "\n",
    "from pepbench.datasets import GuardianDataset\n",
    "from pepbench.pipelines import PepExtractionPipeline\n",
    "from pepbench.evaluation import PepEvaluationChallenge\n",
    "\n",
    "from IPython.display import Markdown\n",
    "\n",
    "\n",
    "%matplotlib widget\n",
    "%load_ext autoreload\n",
    "%autoreload 2"
   ]
  },
  {
   "cell_type": "code",
   "execution_count": 2,
   "metadata": {},
   "outputs": [
    {
     "data": {
      "text/html": [
       "<svg  width=\"330\" height=\"55\"><rect x=\"0\" y=\"0\" width=\"55\" height=\"55\" style=\"fill:#002f6c;stroke-width:2;stroke:rgb(255,255,255)\"/><rect x=\"55\" y=\"0\" width=\"55\" height=\"55\" style=\"fill:#779fb5;stroke-width:2;stroke:rgb(255,255,255)\"/><rect x=\"110\" y=\"0\" width=\"55\" height=\"55\" style=\"fill:#ffb81c;stroke-width:2;stroke:rgb(255,255,255)\"/><rect x=\"165\" y=\"0\" width=\"55\" height=\"55\" style=\"fill:#00a3e0;stroke-width:2;stroke:rgb(255,255,255)\"/><rect x=\"220\" y=\"0\" width=\"55\" height=\"55\" style=\"fill:#43b02a;stroke-width:2;stroke:rgb(255,255,255)\"/><rect x=\"275\" y=\"0\" width=\"55\" height=\"55\" style=\"fill:#c8102e;stroke-width:2;stroke:rgb(255,255,255)\"/></svg>"
      ],
      "text/plain": [
       "[(0.0, 0.1843137254901961, 0.4235294117647059),\n",
       " (0.4666666666666667, 0.6235294117647059, 0.7098039215686275),\n",
       " (1.0, 0.7215686274509804, 0.10980392156862745),\n",
       " (0.0, 0.6392156862745098, 0.8784313725490196),\n",
       " (0.2627450980392157, 0.6901960784313725, 0.16470588235294117),\n",
       " (0.7843137254901961, 0.06274509803921569, 0.1803921568627451)]"
      ]
     },
     "execution_count": 2,
     "metadata": {},
     "output_type": "execute_result"
    }
   ],
   "source": [
    "#register_fausans_font()\n",
    "plt.close(\"all\")\n",
    "\n",
    "palette = sns.color_palette(cmaps.faculties)\n",
    "sns.set_theme(context=\"notebook\", style=\"ticks\", font=\"sans-serif\", palette=palette)\n",
    "\n",
    "plt.rcParams[\"figure.figsize\"] = (10, 5)\n",
    "plt.rcParams[\"pdf.fonttype\"] = 42\n",
    "plt.rcParams[\"mathtext.default\"] = \"regular\"\n",
    "plt.rcParams[\"font.family\"] = \"sans-serif\"\n",
    "#plt.rcParams[\"font.sans-serif\"] = \"FAUSans Office\"\n",
    "\n",
    "palette"
   ]
  },
  {
   "cell_type": "code",
   "execution_count": 3,
   "metadata": {},
   "outputs": [],
   "source": [
    "root_path = Path(\"../../\")"
   ]
  },
  {
   "cell_type": "code",
   "execution_count": 4,
   "metadata": {},
   "outputs": [
    {
     "name": "stdout",
     "output_type": "stream",
     "text": [
      "\\Users\\sebas\\Development\\ResearchInternship\\Data\\2024_08_PEP_Benchmarking\\Guardian_Dataset\n"
     ]
    }
   ],
   "source": [
    "deploy_type = \"local\"\n",
    "\n",
    "config_dict = json.load(root_path.joinpath(\"config.json\").open(encoding=\"utf-8\"))\n",
    "\n",
    "guardian_base_path = Path(config_dict[deploy_type][\"guardian_path\"])\n",
    "print(guardian_base_path)"
   ]
  },
  {
   "cell_type": "code",
   "execution_count": 5,
   "metadata": {},
   "outputs": [
    {
     "data": {
      "text/plain": [
       "WindowsPath('C:/Users/sebas/Development/ResearchInternship/Code/pepbench/experiments/pep_algorithm_benchmarking/results/guardian_dataset_both_algorithms')"
      ]
     },
     "execution_count": 5,
     "metadata": {},
     "output_type": "execute_result"
    }
   ],
   "source": [
    "result_path = root_path.joinpath(\"results/guardian_dataset_both_algorithms\")\n",
    "result_path.mkdir(exist_ok=True, parents=True)\n",
    "result_path.resolve()"
   ]
  },
  {
   "cell_type": "code",
   "execution_count": 6,
   "metadata": {},
   "outputs": [
    {
     "data": {
      "text/html": [
       "<h4 style=\"margin-bottom: 0.1em;\">GuardianDataset [106 groups/rows]</h3>\n",
       "<div style=\"margin-top: 0em\">\n",
       "<style scoped>\n",
       "    .dataframe tbody tr th:only-of-type {\n",
       "        vertical-align: middle;\n",
       "    }\n",
       "\n",
       "    .dataframe tbody tr th {\n",
       "        vertical-align: top;\n",
       "    }\n",
       "\n",
       "    .dataframe thead th {\n",
       "        text-align: right;\n",
       "    }\n",
       "</style>\n",
       "<table style=\"margin-left: 3em;\">\n",
       "  <thead>\n",
       "    <tr style=\"text-align: right;\">\n",
       "      <th style=\"text-align: center;\"></th>\n",
       "      <th style=\"text-align: center;\">participant</th>\n",
       "      <th style=\"text-align: center;\">phase</th>\n",
       "    </tr>\n",
       "  </thead>\n",
       "  <tbody>\n",
       "    <tr>\n",
       "      <th style=\"text-align: center;\">0</th>\n",
       "      <td style=\"text-align: center; padding-left: 2em; padding-right: 2em;\">GDN0005</td>\n",
       "      <td style=\"text-align: center; padding-left: 2em; padding-right: 2em;\">Pause</td>\n",
       "    </tr>\n",
       "    <tr>\n",
       "      <th style=\"text-align: center;\">1</th>\n",
       "      <td style=\"text-align: center; padding-left: 2em; padding-right: 2em;\">GDN0005</td>\n",
       "      <td style=\"text-align: center; padding-left: 2em; padding-right: 2em;\">Valsalva</td>\n",
       "    </tr>\n",
       "    <tr>\n",
       "      <th style=\"text-align: center;\">2</th>\n",
       "      <td style=\"text-align: center; padding-left: 2em; padding-right: 2em;\">GDN0005</td>\n",
       "      <td style=\"text-align: center; padding-left: 2em; padding-right: 2em;\">HoldingBreath</td>\n",
       "    </tr>\n",
       "    <tr>\n",
       "      <th style=\"text-align: center;\">3</th>\n",
       "      <td style=\"text-align: center; padding-left: 2em; padding-right: 2em;\">GDN0005</td>\n",
       "      <td style=\"text-align: center; padding-left: 2em; padding-right: 2em;\">TiltUp</td>\n",
       "    </tr>\n",
       "    <tr>\n",
       "      <th style=\"text-align: center;\">4</th>\n",
       "      <td style=\"text-align: center; padding-left: 2em; padding-right: 2em;\">GDN0005</td>\n",
       "      <td style=\"text-align: center; padding-left: 2em; padding-right: 2em;\">TiltDown</td>\n",
       "    </tr>\n",
       "    <tr>\n",
       "      <th style=\"text-align: center;\">...</th>\n",
       "      <td style=\"text-align: center; padding-left: 2em; padding-right: 2em;\">...</td>\n",
       "      <td style=\"text-align: center; padding-left: 2em; padding-right: 2em;\">...</td>\n",
       "    </tr>\n",
       "    <tr>\n",
       "      <th style=\"text-align: center;\">101</th>\n",
       "      <td style=\"text-align: center; padding-left: 2em; padding-right: 2em;\">GDN0029</td>\n",
       "      <td style=\"text-align: center; padding-left: 2em; padding-right: 2em;\">TiltUp</td>\n",
       "    </tr>\n",
       "    <tr>\n",
       "      <th style=\"text-align: center;\">102</th>\n",
       "      <td style=\"text-align: center; padding-left: 2em; padding-right: 2em;\">GDN0029</td>\n",
       "      <td style=\"text-align: center; padding-left: 2em; padding-right: 2em;\">TiltDown</td>\n",
       "    </tr>\n",
       "    <tr>\n",
       "      <th style=\"text-align: center;\">103</th>\n",
       "      <td style=\"text-align: center; padding-left: 2em; padding-right: 2em;\">GDN0030</td>\n",
       "      <td style=\"text-align: center; padding-left: 2em; padding-right: 2em;\">Valsalva</td>\n",
       "    </tr>\n",
       "    <tr>\n",
       "      <th style=\"text-align: center;\">104</th>\n",
       "      <td style=\"text-align: center; padding-left: 2em; padding-right: 2em;\">GDN0030</td>\n",
       "      <td style=\"text-align: center; padding-left: 2em; padding-right: 2em;\">HoldingBreath</td>\n",
       "    </tr>\n",
       "    <tr>\n",
       "      <th style=\"text-align: center;\">105</th>\n",
       "      <td style=\"text-align: center; padding-left: 2em; padding-right: 2em;\">GDN0030</td>\n",
       "      <td style=\"text-align: center; padding-left: 2em; padding-right: 2em;\">TiltDown</td>\n",
       "    </tr>\n",
       "  </tbody>\n",
       "</table>\n",
       "<p>106 rows × 2 columns</p>\n",
       "</div>"
      ],
      "text/plain": [
       "GuardianDataset [106 groups/rows]\n",
       "\n",
       "       participant          phase\n",
       "   0       GDN0005          Pause\n",
       "   1       GDN0005       Valsalva\n",
       "   2       GDN0005  HoldingBreath\n",
       "   3       GDN0005         TiltUp\n",
       "   4       GDN0005       TiltDown\n",
       "   ..          ...            ...\n",
       "   101     GDN0029         TiltUp\n",
       "   102     GDN0029       TiltDown\n",
       "   103     GDN0030       Valsalva\n",
       "   104     GDN0030  HoldingBreath\n",
       "   105     GDN0030       TiltDown\n",
       "   \n",
       "   [106 rows x 2 columns]"
      ]
     },
     "execution_count": 6,
     "metadata": {},
     "output_type": "execute_result"
    }
   ],
   "source": [
    "dataset_guardian = GuardianDataset(guardian_base_path, use_cache=True, only_labeled=True)\n",
    "dataset_guardian"
   ]
  },
  {
   "cell_type": "markdown",
   "metadata": {},
   "source": [
    "## Initialize Algorithms"
   ]
  },
  {
   "cell_type": "markdown",
   "metadata": {},
   "source": [
    "### Heartbeat Segmentation"
   ]
  },
  {
   "cell_type": "code",
   "execution_count": 7,
   "metadata": {},
   "outputs": [],
   "source": [
    "heartbeat_segmentation_algo = HeartbeatSegmentationNeurokit()"
   ]
  },
  {
   "cell_type": "markdown",
   "metadata": {},
   "source": [
    "### ECG - Q-Wave Onset"
   ]
  },
  {
   "cell_type": "code",
   "execution_count": 8,
   "metadata": {},
   "outputs": [
    {
     "name": "stdout",
     "output_type": "stream",
     "text": [
      "Available Q-wave Onset algorithms:\n",
      "{'dwt-neurokit': QPeakExtractionNeurokitDwt(handle_missing_events='warn'),\n",
      " 'r-peak-diff-32-ms': QWaveOnsetExtractionVanLien2013(time_interval_ms=32),\n",
      " 'r-peak-diff-34-ms': QWaveOnsetExtractionVanLien2013(time_interval_ms=34),\n",
      " 'r-peak-diff-36-ms': QWaveOnsetExtractionVanLien2013(time_interval_ms=36),\n",
      " 'r-peak-diff-38-ms': QWaveOnsetExtractionVanLien2013(time_interval_ms=38),\n",
      " 'r-peak-diff-40-ms': QWaveOnsetExtractionVanLien2013(time_interval_ms=40),\n",
      " 'r-peak-diff-42-ms': QWaveOnsetExtractionVanLien2013(time_interval_ms=42)}\n"
     ]
    }
   ],
   "source": [
    "q_wave_algo_dict = {\n",
    "    \"dwt-neurokit\": QPeakExtractionNeurokitDwt()\n",
    "}\n",
    "q_wave_algo_dict.update(**{f\"r-peak-diff-{i}-ms\": QWaveOnsetExtractionVanLien2013(time_interval_ms=i) for i in np.arange(32, 44, 2)})\n",
    "q_wave_algos = list(q_wave_algo_dict.items())\n",
    "\n",
    "print(\"Available Q-wave Onset algorithms:\")\n",
    "pprint(q_wave_algo_dict)"
   ]
  },
  {
   "cell_type": "markdown",
   "metadata": {},
   "source": [
    "### ICG - B-Point"
   ]
  },
  {
   "cell_type": "code",
   "execution_count": 9,
   "metadata": {},
   "outputs": [
    {
     "name": "stdout",
     "output_type": "stream",
     "text": [
      "Available B-point algorithms:\n",
      "{'multiple-conditions': BPointExtractionForouzanfar2018(correct_outliers=False, handle_missing_events='warn'),\n",
      " 'second-derivative': BPointExtractionDebski1993(correct_outliers=False, handle_missing_events='warn'),\n",
      " 'straight-line': BPointExtractionDrost2022(correct_outliers=False, handle_missing_events='warn'),\n",
      " 'third-derivative': BPointExtractionArbol2017(handle_missing_events='warn', save_icg_derivatives=False, window_b_detection_ms=150)}\n"
     ]
    }
   ],
   "source": [
    "b_point_algo_dict = {\n",
    "    \"second-derivative\": BPointExtractionDebski1993(),\n",
    "    \"third-derivative\": BPointExtractionArbol2017(),\n",
    "    \"straight-line\": BPointExtractionDrost2022(),\n",
    "    \"multiple-conditions\": BPointExtractionForouzanfar2018()\n",
    "}\n",
    "b_point_algos = list(b_point_algo_dict.items())\n",
    "\n",
    "print(\"Available B-point algorithms:\")\n",
    "pprint(b_point_algo_dict)"
   ]
  },
  {
   "cell_type": "markdown",
   "metadata": {},
   "source": [
    "### Outlier Correction"
   ]
  },
  {
   "cell_type": "code",
   "execution_count": 10,
   "metadata": {},
   "outputs": [
    {
     "name": "stdout",
     "output_type": "stream",
     "text": [
      "Available Outlier Correction algorithms:\n",
      "{'autoregression': OutlierCorrectionForouzanfar2018(),\n",
      " 'linear-interpolation': OutlierCorrectionInterpolation(),\n",
      " 'none': OutlierCorrectionDummy()}\n"
     ]
    }
   ],
   "source": [
    "outlier_correction_dict = {\n",
    "    \"none\": OutlierCorrectionDummy(),\n",
    "    \"linear-interpolation\": OutlierCorrectionInterpolation(),\n",
    "    \"autoregression\": OutlierCorrectionForouzanfar2018()\n",
    "}\n",
    "outlier_correction_algos = list(outlier_correction_dict.items())\n",
    "\n",
    "print(\"Available Outlier Correction algorithms:\")\n",
    "pprint(outlier_correction_dict)"
   ]
  },
  {
   "cell_type": "code",
   "execution_count": 11,
   "metadata": {},
   "outputs": [],
   "source": [
    "algo_combinations = list(product(q_wave_algos, b_point_algos, outlier_correction_algos))"
   ]
  },
  {
   "cell_type": "code",
   "execution_count": 12,
   "metadata": {},
   "outputs": [
    {
     "data": {
      "application/vnd.jupyter.widget-view+json": {
       "model_id": "03cf8130b5c64c69b27c7363a192cba5",
       "version_major": 2,
       "version_minor": 0
      },
      "text/plain": [
       "  0%|          | 0/84 [00:00<?, ?it/s]"
      ]
     },
     "metadata": {},
     "output_type": "display_data"
    },
    {
     "data": {
      "text/markdown": [
       "Algrotihm combination ['dwt-neurokit', 'second-derivative', 'none'] already challenged. Skipping..."
      ],
      "text/plain": [
       "<IPython.core.display.Markdown object>"
      ]
     },
     "metadata": {},
     "output_type": "display_data"
    },
    {
     "data": {
      "text/markdown": [
       "Algrotihm combination ['dwt-neurokit', 'second-derivative', 'linear-interpolation'] already challenged. Skipping..."
      ],
      "text/plain": [
       "<IPython.core.display.Markdown object>"
      ]
     },
     "metadata": {},
     "output_type": "display_data"
    },
    {
     "data": {
      "text/markdown": [
       "Algrotihm combination ['dwt-neurokit', 'second-derivative', 'autoregression'] already challenged. Skipping..."
      ],
      "text/plain": [
       "<IPython.core.display.Markdown object>"
      ]
     },
     "metadata": {},
     "output_type": "display_data"
    },
    {
     "data": {
      "text/markdown": [
       "Algrotihm combination ['dwt-neurokit', 'third-derivative', 'none'] already challenged. Skipping..."
      ],
      "text/plain": [
       "<IPython.core.display.Markdown object>"
      ]
     },
     "metadata": {},
     "output_type": "display_data"
    },
    {
     "data": {
      "text/markdown": [
       "Algrotihm combination ['dwt-neurokit', 'third-derivative', 'linear-interpolation'] already challenged. Skipping..."
      ],
      "text/plain": [
       "<IPython.core.display.Markdown object>"
      ]
     },
     "metadata": {},
     "output_type": "display_data"
    },
    {
     "data": {
      "text/markdown": [
       "Algrotihm combination ['dwt-neurokit', 'third-derivative', 'autoregression'] already challenged. Skipping..."
      ],
      "text/plain": [
       "<IPython.core.display.Markdown object>"
      ]
     },
     "metadata": {},
     "output_type": "display_data"
    },
    {
     "data": {
      "text/markdown": [
       "Algrotihm combination ['dwt-neurokit', 'straight-line', 'none'] already challenged. Skipping..."
      ],
      "text/plain": [
       "<IPython.core.display.Markdown object>"
      ]
     },
     "metadata": {},
     "output_type": "display_data"
    },
    {
     "data": {
      "text/markdown": [
       "Algrotihm combination ['dwt-neurokit', 'straight-line', 'linear-interpolation'] already challenged. Skipping..."
      ],
      "text/plain": [
       "<IPython.core.display.Markdown object>"
      ]
     },
     "metadata": {},
     "output_type": "display_data"
    },
    {
     "data": {
      "text/markdown": [
       "Algrotihm combination ['dwt-neurokit', 'straight-line', 'autoregression'] already challenged. Skipping..."
      ],
      "text/plain": [
       "<IPython.core.display.Markdown object>"
      ]
     },
     "metadata": {},
     "output_type": "display_data"
    },
    {
     "data": {
      "text/markdown": [
       "Algrotihm combination ['dwt-neurokit', 'multiple-conditions', 'none'] already challenged. Skipping..."
      ],
      "text/plain": [
       "<IPython.core.display.Markdown object>"
      ]
     },
     "metadata": {},
     "output_type": "display_data"
    },
    {
     "data": {
      "text/markdown": [
       "Algrotihm combination ['dwt-neurokit', 'multiple-conditions', 'linear-interpolation'] already challenged. Skipping..."
      ],
      "text/plain": [
       "<IPython.core.display.Markdown object>"
      ]
     },
     "metadata": {},
     "output_type": "display_data"
    },
    {
     "data": {
      "text/markdown": [
       "Algrotihm combination ['dwt-neurokit', 'multiple-conditions', 'autoregression'] already challenged. Skipping..."
      ],
      "text/plain": [
       "<IPython.core.display.Markdown object>"
      ]
     },
     "metadata": {},
     "output_type": "display_data"
    },
    {
     "data": {
      "text/markdown": [
       "Algrotihm combination ['r-peak-diff-32-ms', 'second-derivative', 'none'] already challenged. Skipping..."
      ],
      "text/plain": [
       "<IPython.core.display.Markdown object>"
      ]
     },
     "metadata": {},
     "output_type": "display_data"
    },
    {
     "data": {
      "text/markdown": [
       "Algrotihm combination ['r-peak-diff-32-ms', 'second-derivative', 'linear-interpolation'] already challenged. Skipping..."
      ],
      "text/plain": [
       "<IPython.core.display.Markdown object>"
      ]
     },
     "metadata": {},
     "output_type": "display_data"
    },
    {
     "data": {
      "text/markdown": [
       "Algrotihm combination ['r-peak-diff-32-ms', 'second-derivative', 'autoregression'] already challenged. Skipping..."
      ],
      "text/plain": [
       "<IPython.core.display.Markdown object>"
      ]
     },
     "metadata": {},
     "output_type": "display_data"
    },
    {
     "data": {
      "text/markdown": [
       "Algrotihm combination ['r-peak-diff-32-ms', 'third-derivative', 'none'] already challenged. Skipping..."
      ],
      "text/plain": [
       "<IPython.core.display.Markdown object>"
      ]
     },
     "metadata": {},
     "output_type": "display_data"
    },
    {
     "data": {
      "text/markdown": [
       "Algrotihm combination ['r-peak-diff-32-ms', 'third-derivative', 'linear-interpolation'] already challenged. Skipping..."
      ],
      "text/plain": [
       "<IPython.core.display.Markdown object>"
      ]
     },
     "metadata": {},
     "output_type": "display_data"
    },
    {
     "data": {
      "text/markdown": [
       "Algrotihm combination ['r-peak-diff-32-ms', 'third-derivative', 'autoregression'] already challenged. Skipping..."
      ],
      "text/plain": [
       "<IPython.core.display.Markdown object>"
      ]
     },
     "metadata": {},
     "output_type": "display_data"
    },
    {
     "data": {
      "text/markdown": [
       "Algrotihm combination ['r-peak-diff-32-ms', 'straight-line', 'none'] already challenged. Skipping..."
      ],
      "text/plain": [
       "<IPython.core.display.Markdown object>"
      ]
     },
     "metadata": {},
     "output_type": "display_data"
    },
    {
     "data": {
      "text/markdown": [
       "Algrotihm combination ['r-peak-diff-32-ms', 'straight-line', 'linear-interpolation'] already challenged. Skipping..."
      ],
      "text/plain": [
       "<IPython.core.display.Markdown object>"
      ]
     },
     "metadata": {},
     "output_type": "display_data"
    },
    {
     "data": {
      "text/markdown": [
       "Algrotihm combination ['r-peak-diff-32-ms', 'straight-line', 'autoregression'] already challenged. Skipping..."
      ],
      "text/plain": [
       "<IPython.core.display.Markdown object>"
      ]
     },
     "metadata": {},
     "output_type": "display_data"
    },
    {
     "data": {
      "text/markdown": [
       "Algrotihm combination ['r-peak-diff-32-ms', 'multiple-conditions', 'none'] already challenged. Skipping..."
      ],
      "text/plain": [
       "<IPython.core.display.Markdown object>"
      ]
     },
     "metadata": {},
     "output_type": "display_data"
    },
    {
     "data": {
      "text/markdown": [
       "Algrotihm combination ['r-peak-diff-32-ms', 'multiple-conditions', 'linear-interpolation'] already challenged. Skipping..."
      ],
      "text/plain": [
       "<IPython.core.display.Markdown object>"
      ]
     },
     "metadata": {},
     "output_type": "display_data"
    },
    {
     "data": {
      "text/markdown": [
       "Algrotihm combination ['r-peak-diff-32-ms', 'multiple-conditions', 'autoregression'] already challenged. Skipping..."
      ],
      "text/plain": [
       "<IPython.core.display.Markdown object>"
      ]
     },
     "metadata": {},
     "output_type": "display_data"
    },
    {
     "data": {
      "text/markdown": [
       "Algrotihm combination ['r-peak-diff-34-ms', 'second-derivative', 'none'] already challenged. Skipping..."
      ],
      "text/plain": [
       "<IPython.core.display.Markdown object>"
      ]
     },
     "metadata": {},
     "output_type": "display_data"
    },
    {
     "data": {
      "text/markdown": [
       "Algrotihm combination ['r-peak-diff-34-ms', 'second-derivative', 'linear-interpolation'] already challenged. Skipping..."
      ],
      "text/plain": [
       "<IPython.core.display.Markdown object>"
      ]
     },
     "metadata": {},
     "output_type": "display_data"
    },
    {
     "data": {
      "text/markdown": [
       "Algrotihm combination ['r-peak-diff-34-ms', 'second-derivative', 'autoregression'] already challenged. Skipping..."
      ],
      "text/plain": [
       "<IPython.core.display.Markdown object>"
      ]
     },
     "metadata": {},
     "output_type": "display_data"
    },
    {
     "data": {
      "text/markdown": [
       "Algrotihm combination ['r-peak-diff-34-ms', 'third-derivative', 'none'] already challenged. Skipping..."
      ],
      "text/plain": [
       "<IPython.core.display.Markdown object>"
      ]
     },
     "metadata": {},
     "output_type": "display_data"
    },
    {
     "data": {
      "text/markdown": [
       "Algrotihm combination ['r-peak-diff-34-ms', 'third-derivative', 'linear-interpolation'] already challenged. Skipping..."
      ],
      "text/plain": [
       "<IPython.core.display.Markdown object>"
      ]
     },
     "metadata": {},
     "output_type": "display_data"
    },
    {
     "data": {
      "text/markdown": [
       "Algrotihm combination ['r-peak-diff-34-ms', 'third-derivative', 'autoregression'] already challenged. Skipping..."
      ],
      "text/plain": [
       "<IPython.core.display.Markdown object>"
      ]
     },
     "metadata": {},
     "output_type": "display_data"
    },
    {
     "data": {
      "text/markdown": [
       "Algrotihm combination ['r-peak-diff-34-ms', 'straight-line', 'none'] already challenged. Skipping..."
      ],
      "text/plain": [
       "<IPython.core.display.Markdown object>"
      ]
     },
     "metadata": {},
     "output_type": "display_data"
    },
    {
     "data": {
      "text/markdown": [
       "Algrotihm combination ['r-peak-diff-34-ms', 'straight-line', 'linear-interpolation'] already challenged. Skipping..."
      ],
      "text/plain": [
       "<IPython.core.display.Markdown object>"
      ]
     },
     "metadata": {},
     "output_type": "display_data"
    },
    {
     "data": {
      "text/markdown": [
       "Algrotihm combination ['r-peak-diff-34-ms', 'straight-line', 'autoregression'] already challenged. Skipping..."
      ],
      "text/plain": [
       "<IPython.core.display.Markdown object>"
      ]
     },
     "metadata": {},
     "output_type": "display_data"
    },
    {
     "data": {
      "text/markdown": [
       "Algrotihm combination ['r-peak-diff-34-ms', 'multiple-conditions', 'none'] already challenged. Skipping..."
      ],
      "text/plain": [
       "<IPython.core.display.Markdown object>"
      ]
     },
     "metadata": {},
     "output_type": "display_data"
    },
    {
     "data": {
      "text/markdown": [
       "Algrotihm combination ['r-peak-diff-34-ms', 'multiple-conditions', 'linear-interpolation'] already challenged. Skipping..."
      ],
      "text/plain": [
       "<IPython.core.display.Markdown object>"
      ]
     },
     "metadata": {},
     "output_type": "display_data"
    },
    {
     "data": {
      "text/markdown": [
       "Algrotihm combination ['r-peak-diff-34-ms', 'multiple-conditions', 'autoregression'] already challenged. Skipping..."
      ],
      "text/plain": [
       "<IPython.core.display.Markdown object>"
      ]
     },
     "metadata": {},
     "output_type": "display_data"
    },
    {
     "data": {
      "text/markdown": [
       "Algrotihm combination ['r-peak-diff-36-ms', 'second-derivative', 'none'] already challenged. Skipping..."
      ],
      "text/plain": [
       "<IPython.core.display.Markdown object>"
      ]
     },
     "metadata": {},
     "output_type": "display_data"
    },
    {
     "data": {
      "text/markdown": [
       "Algrotihm combination ['r-peak-diff-36-ms', 'second-derivative', 'linear-interpolation'] already challenged. Skipping..."
      ],
      "text/plain": [
       "<IPython.core.display.Markdown object>"
      ]
     },
     "metadata": {},
     "output_type": "display_data"
    },
    {
     "data": {
      "text/markdown": [
       "Algrotihm combination ['r-peak-diff-36-ms', 'second-derivative', 'autoregression'] already challenged. Skipping..."
      ],
      "text/plain": [
       "<IPython.core.display.Markdown object>"
      ]
     },
     "metadata": {},
     "output_type": "display_data"
    },
    {
     "data": {
      "text/markdown": [
       "Algrotihm combination ['r-peak-diff-36-ms', 'third-derivative', 'none'] already challenged. Skipping..."
      ],
      "text/plain": [
       "<IPython.core.display.Markdown object>"
      ]
     },
     "metadata": {},
     "output_type": "display_data"
    },
    {
     "data": {
      "text/markdown": [
       "Algrotihm combination ['r-peak-diff-36-ms', 'third-derivative', 'linear-interpolation'] already challenged. Skipping..."
      ],
      "text/plain": [
       "<IPython.core.display.Markdown object>"
      ]
     },
     "metadata": {},
     "output_type": "display_data"
    },
    {
     "data": {
      "text/markdown": [
       "Algrotihm combination ['r-peak-diff-36-ms', 'third-derivative', 'autoregression'] already challenged. Skipping..."
      ],
      "text/plain": [
       "<IPython.core.display.Markdown object>"
      ]
     },
     "metadata": {},
     "output_type": "display_data"
    },
    {
     "data": {
      "text/markdown": [
       "Algrotihm combination ['r-peak-diff-36-ms', 'straight-line', 'none'] already challenged. Skipping..."
      ],
      "text/plain": [
       "<IPython.core.display.Markdown object>"
      ]
     },
     "metadata": {},
     "output_type": "display_data"
    },
    {
     "data": {
      "text/markdown": [
       "Algrotihm combination ['r-peak-diff-36-ms', 'straight-line', 'linear-interpolation'] already challenged. Skipping..."
      ],
      "text/plain": [
       "<IPython.core.display.Markdown object>"
      ]
     },
     "metadata": {},
     "output_type": "display_data"
    },
    {
     "data": {
      "text/markdown": [
       "Algrotihm combination ['r-peak-diff-36-ms', 'straight-line', 'autoregression'] already challenged. Skipping..."
      ],
      "text/plain": [
       "<IPython.core.display.Markdown object>"
      ]
     },
     "metadata": {},
     "output_type": "display_data"
    },
    {
     "data": {
      "text/markdown": [
       "Algrotihm combination ['r-peak-diff-36-ms', 'multiple-conditions', 'none'] already challenged. Skipping..."
      ],
      "text/plain": [
       "<IPython.core.display.Markdown object>"
      ]
     },
     "metadata": {},
     "output_type": "display_data"
    },
    {
     "data": {
      "text/markdown": [
       "Algrotihm combination ['r-peak-diff-36-ms', 'multiple-conditions', 'linear-interpolation'] already challenged. Skipping..."
      ],
      "text/plain": [
       "<IPython.core.display.Markdown object>"
      ]
     },
     "metadata": {},
     "output_type": "display_data"
    },
    {
     "data": {
      "text/markdown": [
       "Algrotihm combination ['r-peak-diff-36-ms', 'multiple-conditions', 'autoregression'] already challenged. Skipping..."
      ],
      "text/plain": [
       "<IPython.core.display.Markdown object>"
      ]
     },
     "metadata": {},
     "output_type": "display_data"
    },
    {
     "data": {
      "text/markdown": [
       "Algrotihm combination ['r-peak-diff-38-ms', 'second-derivative', 'none'] already challenged. Skipping..."
      ],
      "text/plain": [
       "<IPython.core.display.Markdown object>"
      ]
     },
     "metadata": {},
     "output_type": "display_data"
    },
    {
     "data": {
      "text/markdown": [
       "Algrotihm combination ['r-peak-diff-38-ms', 'second-derivative', 'linear-interpolation'] already challenged. Skipping..."
      ],
      "text/plain": [
       "<IPython.core.display.Markdown object>"
      ]
     },
     "metadata": {},
     "output_type": "display_data"
    },
    {
     "data": {
      "text/markdown": [
       "Algrotihm combination ['r-peak-diff-38-ms', 'second-derivative', 'autoregression'] already challenged. Skipping..."
      ],
      "text/plain": [
       "<IPython.core.display.Markdown object>"
      ]
     },
     "metadata": {},
     "output_type": "display_data"
    },
    {
     "data": {
      "text/markdown": [
       "Algrotihm combination ['r-peak-diff-38-ms', 'third-derivative', 'none'] already challenged. Skipping..."
      ],
      "text/plain": [
       "<IPython.core.display.Markdown object>"
      ]
     },
     "metadata": {},
     "output_type": "display_data"
    },
    {
     "data": {
      "text/markdown": [
       "Algrotihm combination ['r-peak-diff-38-ms', 'third-derivative', 'linear-interpolation'] already challenged. Skipping..."
      ],
      "text/plain": [
       "<IPython.core.display.Markdown object>"
      ]
     },
     "metadata": {},
     "output_type": "display_data"
    },
    {
     "data": {
      "text/markdown": [
       "Algrotihm combination ['r-peak-diff-38-ms', 'third-derivative', 'autoregression'] already challenged. Skipping..."
      ],
      "text/plain": [
       "<IPython.core.display.Markdown object>"
      ]
     },
     "metadata": {},
     "output_type": "display_data"
    },
    {
     "data": {
      "text/markdown": [
       "Algrotihm combination ['r-peak-diff-38-ms', 'straight-line', 'none'] already challenged. Skipping..."
      ],
      "text/plain": [
       "<IPython.core.display.Markdown object>"
      ]
     },
     "metadata": {},
     "output_type": "display_data"
    },
    {
     "data": {
      "text/markdown": [
       "Algrotihm combination ['r-peak-diff-38-ms', 'straight-line', 'linear-interpolation'] already challenged. Skipping..."
      ],
      "text/plain": [
       "<IPython.core.display.Markdown object>"
      ]
     },
     "metadata": {},
     "output_type": "display_data"
    },
    {
     "data": {
      "text/markdown": [
       "Algrotihm combination ['r-peak-diff-38-ms', 'straight-line', 'autoregression'] already challenged. Skipping..."
      ],
      "text/plain": [
       "<IPython.core.display.Markdown object>"
      ]
     },
     "metadata": {},
     "output_type": "display_data"
    },
    {
     "data": {
      "text/markdown": [
       "Algrotihm combination ['r-peak-diff-38-ms', 'multiple-conditions', 'none'] already challenged. Skipping..."
      ],
      "text/plain": [
       "<IPython.core.display.Markdown object>"
      ]
     },
     "metadata": {},
     "output_type": "display_data"
    },
    {
     "data": {
      "text/markdown": [
       "Algrotihm combination ['r-peak-diff-38-ms', 'multiple-conditions', 'linear-interpolation'] already challenged. Skipping..."
      ],
      "text/plain": [
       "<IPython.core.display.Markdown object>"
      ]
     },
     "metadata": {},
     "output_type": "display_data"
    },
    {
     "data": {
      "text/markdown": [
       "Algrotihm combination ['r-peak-diff-38-ms', 'multiple-conditions', 'autoregression'] already challenged. Skipping..."
      ],
      "text/plain": [
       "<IPython.core.display.Markdown object>"
      ]
     },
     "metadata": {},
     "output_type": "display_data"
    },
    {
     "data": {
      "text/markdown": [
       "Algrotihm combination ['r-peak-diff-40-ms', 'second-derivative', 'none'] already challenged. Skipping..."
      ],
      "text/plain": [
       "<IPython.core.display.Markdown object>"
      ]
     },
     "metadata": {},
     "output_type": "display_data"
    },
    {
     "data": {
      "text/markdown": [
       "Algrotihm combination ['r-peak-diff-40-ms', 'second-derivative', 'linear-interpolation'] already challenged. Skipping..."
      ],
      "text/plain": [
       "<IPython.core.display.Markdown object>"
      ]
     },
     "metadata": {},
     "output_type": "display_data"
    },
    {
     "data": {
      "text/markdown": [
       "Algrotihm combination ['r-peak-diff-40-ms', 'second-derivative', 'autoregression'] already challenged. Skipping..."
      ],
      "text/plain": [
       "<IPython.core.display.Markdown object>"
      ]
     },
     "metadata": {},
     "output_type": "display_data"
    },
    {
     "data": {
      "text/markdown": [
       "Algrotihm combination ['r-peak-diff-40-ms', 'third-derivative', 'none'] already challenged. Skipping..."
      ],
      "text/plain": [
       "<IPython.core.display.Markdown object>"
      ]
     },
     "metadata": {},
     "output_type": "display_data"
    },
    {
     "data": {
      "text/markdown": [
       "Algrotihm combination ['r-peak-diff-40-ms', 'third-derivative', 'linear-interpolation'] already challenged. Skipping..."
      ],
      "text/plain": [
       "<IPython.core.display.Markdown object>"
      ]
     },
     "metadata": {},
     "output_type": "display_data"
    },
    {
     "data": {
      "text/markdown": [
       "Algrotihm combination ['r-peak-diff-40-ms', 'third-derivative', 'autoregression'] already challenged. Skipping..."
      ],
      "text/plain": [
       "<IPython.core.display.Markdown object>"
      ]
     },
     "metadata": {},
     "output_type": "display_data"
    },
    {
     "data": {
      "text/markdown": [
       "Algrotihm combination ['r-peak-diff-40-ms', 'straight-line', 'none'] already challenged. Skipping..."
      ],
      "text/plain": [
       "<IPython.core.display.Markdown object>"
      ]
     },
     "metadata": {},
     "output_type": "display_data"
    },
    {
     "data": {
      "text/markdown": [
       "Algrotihm combination ['r-peak-diff-40-ms', 'straight-line', 'linear-interpolation'] already challenged. Skipping..."
      ],
      "text/plain": [
       "<IPython.core.display.Markdown object>"
      ]
     },
     "metadata": {},
     "output_type": "display_data"
    },
    {
     "data": {
      "text/markdown": [
       "Algrotihm combination ['r-peak-diff-40-ms', 'straight-line', 'autoregression'] already challenged. Skipping..."
      ],
      "text/plain": [
       "<IPython.core.display.Markdown object>"
      ]
     },
     "metadata": {},
     "output_type": "display_data"
    },
    {
     "data": {
      "text/markdown": [
       "Algrotihm combination ['r-peak-diff-40-ms', 'multiple-conditions', 'none'] already challenged. Skipping..."
      ],
      "text/plain": [
       "<IPython.core.display.Markdown object>"
      ]
     },
     "metadata": {},
     "output_type": "display_data"
    },
    {
     "data": {
      "text/markdown": [
       "Algrotihm combination ['r-peak-diff-40-ms', 'multiple-conditions', 'linear-interpolation'] already challenged. Skipping..."
      ],
      "text/plain": [
       "<IPython.core.display.Markdown object>"
      ]
     },
     "metadata": {},
     "output_type": "display_data"
    },
    {
     "data": {
      "text/markdown": [
       "Algrotihm combination ['r-peak-diff-40-ms', 'multiple-conditions', 'autoregression'] already challenged. Skipping..."
      ],
      "text/plain": [
       "<IPython.core.display.Markdown object>"
      ]
     },
     "metadata": {},
     "output_type": "display_data"
    },
    {
     "data": {
      "text/markdown": [
       "Algrotihm combination ['r-peak-diff-42-ms', 'second-derivative', 'none'] already challenged. Skipping..."
      ],
      "text/plain": [
       "<IPython.core.display.Markdown object>"
      ]
     },
     "metadata": {},
     "output_type": "display_data"
    },
    {
     "data": {
      "text/markdown": [
       "Algrotihm combination ['r-peak-diff-42-ms', 'second-derivative', 'linear-interpolation'] already challenged. Skipping..."
      ],
      "text/plain": [
       "<IPython.core.display.Markdown object>"
      ]
     },
     "metadata": {},
     "output_type": "display_data"
    },
    {
     "data": {
      "text/markdown": [
       "Algrotihm combination ['r-peak-diff-42-ms', 'second-derivative', 'autoregression'] already challenged. Skipping..."
      ],
      "text/plain": [
       "<IPython.core.display.Markdown object>"
      ]
     },
     "metadata": {},
     "output_type": "display_data"
    },
    {
     "data": {
      "text/markdown": [
       "Algrotihm combination ['r-peak-diff-42-ms', 'third-derivative', 'none'] already challenged. Skipping..."
      ],
      "text/plain": [
       "<IPython.core.display.Markdown object>"
      ]
     },
     "metadata": {},
     "output_type": "display_data"
    },
    {
     "data": {
      "text/markdown": [
       "Algrotihm combination ['r-peak-diff-42-ms', 'third-derivative', 'linear-interpolation'] already challenged. Skipping..."
      ],
      "text/plain": [
       "<IPython.core.display.Markdown object>"
      ]
     },
     "metadata": {},
     "output_type": "display_data"
    },
    {
     "data": {
      "text/markdown": [
       "Algrotihm combination ['r-peak-diff-42-ms', 'third-derivative', 'autoregression'] already challenged. Skipping..."
      ],
      "text/plain": [
       "<IPython.core.display.Markdown object>"
      ]
     },
     "metadata": {},
     "output_type": "display_data"
    },
    {
     "data": {
      "text/markdown": [
       "Algrotihm combination ['r-peak-diff-42-ms', 'straight-line', 'none'] already challenged. Skipping..."
      ],
      "text/plain": [
       "<IPython.core.display.Markdown object>"
      ]
     },
     "metadata": {},
     "output_type": "display_data"
    },
    {
     "data": {
      "text/markdown": [
       "Algrotihm combination ['r-peak-diff-42-ms', 'straight-line', 'linear-interpolation'] already challenged. Skipping..."
      ],
      "text/plain": [
       "<IPython.core.display.Markdown object>"
      ]
     },
     "metadata": {},
     "output_type": "display_data"
    },
    {
     "data": {
      "text/markdown": [
       "Algrotihm combination ['r-peak-diff-42-ms', 'straight-line', 'autoregression'] already challenged. Skipping..."
      ],
      "text/plain": [
       "<IPython.core.display.Markdown object>"
      ]
     },
     "metadata": {},
     "output_type": "display_data"
    },
    {
     "data": {
      "text/markdown": [
       "Algrotihm combination ['r-peak-diff-42-ms', 'multiple-conditions', 'none'] already challenged. Skipping..."
      ],
      "text/plain": [
       "<IPython.core.display.Markdown object>"
      ]
     },
     "metadata": {},
     "output_type": "display_data"
    },
    {
     "data": {
      "text/markdown": [
       "Algrotihm combination ['r-peak-diff-42-ms', 'multiple-conditions', 'linear-interpolation'] already challenged. Skipping..."
      ],
      "text/plain": [
       "<IPython.core.display.Markdown object>"
      ]
     },
     "metadata": {},
     "output_type": "display_data"
    },
    {
     "data": {
      "text/markdown": [
       "Algrotihm combination ['r-peak-diff-42-ms', 'multiple-conditions', 'autoregression'] already challenged. Skipping..."
      ],
      "text/plain": [
       "<IPython.core.display.Markdown object>"
      ]
     },
     "metadata": {},
     "output_type": "display_data"
    }
   ],
   "source": [
    "big_result_dict = {}\n",
    "\n",
    "for algo_combi in tqdm(algo_combinations):\n",
    "    algo_combi_names = [key[0] for key in algo_combi]\n",
    "\n",
    "    filename_stub = \"pep_results_guardian_\" + \"_\".join(algo_combi_names)\n",
    "    \n",
    "    # check if exists\n",
    "    if len(list(result_path.glob(f\"{filename_stub}*\"))) != 0:\n",
    "        display(Markdown(f\"Algrotihm combination {algo_combi_names} already challenged. Skipping...\"))\n",
    "        continue\n",
    "    \n",
    "    display(Markdown(f\"Running algorithm combination {algo_combi_names}\"))\n",
    "    pep_challenge = PepEvaluationChallenge(dataset=dataset_guardian, validate_kwargs={\"n_jobs\": -1})\n",
    "\n",
    "    pipeline = PepExtractionPipeline(\n",
    "        heartbeat_segmentation_algo=heartbeat_segmentation_algo,\n",
    "        q_wave_algo=algo_combi[0][1],\n",
    "        b_point_algo=algo_combi[1][1],\n",
    "        outlier_correction_algo=algo_combi[2][1],\n",
    "        handle_negative_pep=\"nan\",\n",
    "        handle_missing_events=\"ignore\"\n",
    "    )\n",
    "    pep_challenge.run(pipeline)\n",
    "    pep_challenge.results_as_df()\n",
    "    pep_challenge.save_results(result_path, filename_stub)\n",
    "\n",
    "    big_result_dict[tuple(algo_combi_names)] = pep_challenge"
   ]
  },
  {
   "cell_type": "code",
   "execution_count": null,
   "metadata": {},
   "outputs": [],
   "source": []
  }
 ],
 "metadata": {
  "jupytext": {
   "encoding": "# -*- coding: utf-8 -*-",
   "text_representation": {
    "extension": ".py",
    "format_name": "sphinx",
    "format_version": "1.1",
    "jupytext_version": "1.13.0"
   }
  },
  "kernelspec": {
   "display_name": ".venv",
   "language": "python",
   "name": "python3"
  },
  "language_info": {
   "codemirror_mode": {
    "name": "ipython",
    "version": 3
   },
   "file_extension": ".py",
   "mimetype": "text/x-python",
   "name": "python",
   "nbconvert_exporter": "python",
   "pygments_lexer": "ipython3",
   "version": "3.12.4"
  },
  "toc-showtags": false
 },
 "nbformat": 4,
 "nbformat_minor": 4
}
