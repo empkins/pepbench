{
 "cells": [
  {
   "cell_type": "markdown",
   "metadata": {
    "cell_marker": "\"\"\""
   },
   "source": [
    "# PEP Benchmarking - EmpkinS Dataset Both Algorithms"
   ]
  },
  {
   "cell_type": "markdown",
   "metadata": {},
   "source": [
    "This notebook executes the PEP Benchmarking challenges on the EmpkinS Datasets for PEP Extraction Pipelines using automated algorithms for both Q-wave onset and B-point extraction."
   ]
  },
  {
   "cell_type": "markdown",
   "metadata": {},
   "source": [
    "## Setup and Helper Functions"
   ]
  },
  {
   "cell_type": "code",
   "execution_count": 1,
   "metadata": {},
   "outputs": [],
   "source": [
    "import json\n",
    "from itertools import product\n",
    "from pathlib import Path\n",
    "from pprint import pprint\n",
    "\n",
    "import matplotlib.pyplot as plt\n",
    "import numpy as np\n",
    "import seaborn as sns\n",
    "from fau_colors import cmaps, register_fausans_font\n",
    "from IPython.display import Markdown\n",
    "from tqdm.auto import tqdm\n",
    "\n",
    "from pepbench.algorithms.ecg import (\n",
    "    QPeakExtractionForounzafar2018,\n",
    "    QPeakExtractionMartinez2004Neurokit,\n",
    "    QPeakExtractionSciPyFindPeaksNeurokit,\n",
    "    QPeakExtractionVanLien2013,\n",
    ")\n",
    "from pepbench.algorithms.heartbeat_segmentation import HeartbeatSegmentationNeurokit\n",
    "from pepbench.algorithms.icg import (\n",
    "    BPointExtractionArbol2017IsoelectricCrossings,\n",
    "    BPointExtractionArbol2017SecondDerivative,\n",
    "    BPointExtractionArbol2017ThirdDerivative,\n",
    "    BPointExtractionDebski1993SecondDerivative,\n",
    "    BPointExtractionDrost2022,\n",
    "    BPointExtractionForouzanfar2018,\n",
    "    BPointExtractionLozano2007LinearRegression,\n",
    "    BPointExtractionLozano2007QuadraticRegression,\n",
    "    BPointExtractionSherwood1990,\n",
    "    BPointExtractionStern1985,\n",
    ")\n",
    "from pepbench.algorithms.outlier_correction import (\n",
    "    OutlierCorrectionDummy,\n",
    "    OutlierCorrectionForouzanfar2018,\n",
    "    OutlierCorrectionLinearInterpolation,\n",
    ")\n",
    "from pepbench.datasets import EmpkinsDataset\n",
    "from pepbench.evaluation import PepEvaluationChallenge\n",
    "from pepbench.pipelines import PepExtractionPipeline\n",
    "\n",
    "%matplotlib widget\n",
    "%load_ext autoreload\n",
    "%autoreload 2"
   ]
  },
  {
   "cell_type": "code",
   "execution_count": 2,
   "metadata": {},
   "outputs": [
    {
     "data": {
      "text/html": [
       "<svg  width=\"330\" height=\"55\"><rect x=\"0\" y=\"0\" width=\"55\" height=\"55\" style=\"fill:#002f6c;stroke-width:2;stroke:rgb(255,255,255)\"/><rect x=\"55\" y=\"0\" width=\"55\" height=\"55\" style=\"fill:#779fb5;stroke-width:2;stroke:rgb(255,255,255)\"/><rect x=\"110\" y=\"0\" width=\"55\" height=\"55\" style=\"fill:#ffb81c;stroke-width:2;stroke:rgb(255,255,255)\"/><rect x=\"165\" y=\"0\" width=\"55\" height=\"55\" style=\"fill:#00a3e0;stroke-width:2;stroke:rgb(255,255,255)\"/><rect x=\"220\" y=\"0\" width=\"55\" height=\"55\" style=\"fill:#43b02a;stroke-width:2;stroke:rgb(255,255,255)\"/><rect x=\"275\" y=\"0\" width=\"55\" height=\"55\" style=\"fill:#c8102e;stroke-width:2;stroke:rgb(255,255,255)\"/></svg>"
      ],
      "text/plain": [
       "[(0.0, 0.1843137254901961, 0.4235294117647059),\n",
       " (0.4666666666666667, 0.6235294117647059, 0.7098039215686275),\n",
       " (1.0, 0.7215686274509804, 0.10980392156862745),\n",
       " (0.0, 0.6392156862745098, 0.8784313725490196),\n",
       " (0.2627450980392157, 0.6901960784313725, 0.16470588235294117),\n",
       " (0.7843137254901961, 0.06274509803921569, 0.1803921568627451)]"
      ]
     },
     "execution_count": 2,
     "metadata": {},
     "output_type": "execute_result"
    }
   ],
   "source": [
    "register_fausans_font()\n",
    "plt.close(\"all\")\n",
    "\n",
    "palette = sns.color_palette(cmaps.faculties)\n",
    "sns.set_theme(context=\"notebook\", style=\"ticks\", font=\"sans-serif\", palette=palette)\n",
    "\n",
    "plt.rcParams[\"figure.figsize\"] = (10, 5)\n",
    "plt.rcParams[\"pdf.fonttype\"] = 42\n",
    "plt.rcParams[\"mathtext.default\"] = \"regular\"\n",
    "plt.rcParams[\"font.family\"] = \"sans-serif\"\n",
    "plt.rcParams[\"font.sans-serif\"] = \"FAUSans Office\"\n",
    "\n",
    "palette"
   ]
  },
  {
   "cell_type": "code",
   "execution_count": 3,
   "metadata": {},
   "outputs": [],
   "source": [
    "root_path = Path(\"../../\")"
   ]
  },
  {
   "cell_type": "code",
   "execution_count": 4,
   "metadata": {},
   "outputs": [
    {
     "name": "stdout",
     "output_type": "stream",
     "text": [
      "/Users/richer/Documents/PhD/Projects/EmpkinS/HealthPsychology_D03/Data/2024_08_PEP_Benchmarking/EmpkinS_Dataset\n"
     ]
    }
   ],
   "source": [
    "deploy_type = \"local\"\n",
    "\n",
    "config_dict = json.load(root_path.joinpath(\"config.json\").open(encoding=\"utf-8\"))\n",
    "\n",
    "empkins_base_path = Path(config_dict[deploy_type][\"empkins_path\"])\n",
    "print(empkins_base_path)"
   ]
  },
  {
   "cell_type": "code",
   "execution_count": 5,
   "metadata": {},
   "outputs": [
    {
     "data": {
      "text/plain": [
       "PosixPath('/Users/richer/Documents/PhD/Projects/EmpkinS/Code/pepbench/experiments/pep_algorithm_benchmarking/results/empkins_dataset_both_algorithms')"
      ]
     },
     "execution_count": 5,
     "metadata": {},
     "output_type": "execute_result"
    }
   ],
   "source": [
    "result_path = root_path.joinpath(\"results/empkins_dataset_both_algorithms\")\n",
    "result_path.mkdir(exist_ok=True, parents=True)\n",
    "result_path.resolve()"
   ]
  },
  {
   "cell_type": "code",
   "execution_count": 6,
   "metadata": {},
   "outputs": [
    {
     "data": {
      "text/html": [
       "<h4 style=\"margin-bottom: 0.1em;\">EmpkinsDataset [150 groups/rows]</h3>\n",
       "<div style=\"margin-top: 0em\">\n",
       "<style scoped>\n",
       "    .dataframe tbody tr th:only-of-type {\n",
       "        vertical-align: middle;\n",
       "    }\n",
       "\n",
       "    .dataframe tbody tr th {\n",
       "        vertical-align: top;\n",
       "    }\n",
       "\n",
       "    .dataframe thead th {\n",
       "        text-align: right;\n",
       "    }\n",
       "</style>\n",
       "<table style=\"margin-left: 3em;\">\n",
       "  <thead>\n",
       "    <tr style=\"text-align: right;\">\n",
       "      <th style=\"text-align: center;\"></th>\n",
       "      <th style=\"text-align: center;\">participant</th>\n",
       "      <th style=\"text-align: center;\">condition</th>\n",
       "      <th style=\"text-align: center;\">phase</th>\n",
       "    </tr>\n",
       "  </thead>\n",
       "  <tbody>\n",
       "    <tr>\n",
       "      <th style=\"text-align: center;\">0</th>\n",
       "      <td style=\"text-align: center; padding-left: 2em; padding-right: 2em;\">VP_001</td>\n",
       "      <td style=\"text-align: center; padding-left: 2em; padding-right: 2em;\">tsst</td>\n",
       "      <td style=\"text-align: center; padding-left: 2em; padding-right: 2em;\">Prep</td>\n",
       "    </tr>\n",
       "    <tr>\n",
       "      <th style=\"text-align: center;\">1</th>\n",
       "      <td style=\"text-align: center; padding-left: 2em; padding-right: 2em;\">VP_001</td>\n",
       "      <td style=\"text-align: center; padding-left: 2em; padding-right: 2em;\">tsst</td>\n",
       "      <td style=\"text-align: center; padding-left: 2em; padding-right: 2em;\">Pause_1</td>\n",
       "    </tr>\n",
       "    <tr>\n",
       "      <th style=\"text-align: center;\">2</th>\n",
       "      <td style=\"text-align: center; padding-left: 2em; padding-right: 2em;\">VP_001</td>\n",
       "      <td style=\"text-align: center; padding-left: 2em; padding-right: 2em;\">tsst</td>\n",
       "      <td style=\"text-align: center; padding-left: 2em; padding-right: 2em;\">Talk</td>\n",
       "    </tr>\n",
       "    <tr>\n",
       "      <th style=\"text-align: center;\">3</th>\n",
       "      <td style=\"text-align: center; padding-left: 2em; padding-right: 2em;\">VP_001</td>\n",
       "      <td style=\"text-align: center; padding-left: 2em; padding-right: 2em;\">tsst</td>\n",
       "      <td style=\"text-align: center; padding-left: 2em; padding-right: 2em;\">Math</td>\n",
       "    </tr>\n",
       "    <tr>\n",
       "      <th style=\"text-align: center;\">4</th>\n",
       "      <td style=\"text-align: center; padding-left: 2em; padding-right: 2em;\">VP_001</td>\n",
       "      <td style=\"text-align: center; padding-left: 2em; padding-right: 2em;\">tsst</td>\n",
       "      <td style=\"text-align: center; padding-left: 2em; padding-right: 2em;\">Pause_5</td>\n",
       "    </tr>\n",
       "    <tr>\n",
       "      <th style=\"text-align: center;\">...</th>\n",
       "      <td style=\"text-align: center; padding-left: 2em; padding-right: 2em;\">...</td>\n",
       "      <td style=\"text-align: center; padding-left: 2em; padding-right: 2em;\">...</td>\n",
       "      <td style=\"text-align: center; padding-left: 2em; padding-right: 2em;\">...</td>\n",
       "    </tr>\n",
       "    <tr>\n",
       "      <th style=\"text-align: center;\">145</th>\n",
       "      <td style=\"text-align: center; padding-left: 2em; padding-right: 2em;\">VP_032</td>\n",
       "      <td style=\"text-align: center; padding-left: 2em; padding-right: 2em;\">ftsst</td>\n",
       "      <td style=\"text-align: center; padding-left: 2em; padding-right: 2em;\">Prep</td>\n",
       "    </tr>\n",
       "    <tr>\n",
       "      <th style=\"text-align: center;\">146</th>\n",
       "      <td style=\"text-align: center; padding-left: 2em; padding-right: 2em;\">VP_032</td>\n",
       "      <td style=\"text-align: center; padding-left: 2em; padding-right: 2em;\">ftsst</td>\n",
       "      <td style=\"text-align: center; padding-left: 2em; padding-right: 2em;\">Pause_1</td>\n",
       "    </tr>\n",
       "    <tr>\n",
       "      <th style=\"text-align: center;\">147</th>\n",
       "      <td style=\"text-align: center; padding-left: 2em; padding-right: 2em;\">VP_032</td>\n",
       "      <td style=\"text-align: center; padding-left: 2em; padding-right: 2em;\">ftsst</td>\n",
       "      <td style=\"text-align: center; padding-left: 2em; padding-right: 2em;\">Talk</td>\n",
       "    </tr>\n",
       "    <tr>\n",
       "      <th style=\"text-align: center;\">148</th>\n",
       "      <td style=\"text-align: center; padding-left: 2em; padding-right: 2em;\">VP_032</td>\n",
       "      <td style=\"text-align: center; padding-left: 2em; padding-right: 2em;\">ftsst</td>\n",
       "      <td style=\"text-align: center; padding-left: 2em; padding-right: 2em;\">Math</td>\n",
       "    </tr>\n",
       "    <tr>\n",
       "      <th style=\"text-align: center;\">149</th>\n",
       "      <td style=\"text-align: center; padding-left: 2em; padding-right: 2em;\">VP_032</td>\n",
       "      <td style=\"text-align: center; padding-left: 2em; padding-right: 2em;\">ftsst</td>\n",
       "      <td style=\"text-align: center; padding-left: 2em; padding-right: 2em;\">Pause_5</td>\n",
       "    </tr>\n",
       "  </tbody>\n",
       "</table>\n",
       "<p>150 rows × 3 columns</p>\n",
       "</div>"
      ],
      "text/plain": [
       "EmpkinsDataset [150 groups/rows]\n",
       "\n",
       "       participant condition    phase\n",
       "   0        VP_001      tsst     Prep\n",
       "   1        VP_001      tsst  Pause_1\n",
       "   2        VP_001      tsst     Talk\n",
       "   3        VP_001      tsst     Math\n",
       "   4        VP_001      tsst  Pause_5\n",
       "   ..          ...       ...      ...\n",
       "   145      VP_032     ftsst     Prep\n",
       "   146      VP_032     ftsst  Pause_1\n",
       "   147      VP_032     ftsst     Talk\n",
       "   148      VP_032     ftsst     Math\n",
       "   149      VP_032     ftsst  Pause_5\n",
       "   \n",
       "   [150 rows x 3 columns]"
      ]
     },
     "execution_count": 6,
     "metadata": {},
     "output_type": "execute_result"
    }
   ],
   "source": [
    "dataset_empkins = EmpkinsDataset(empkins_base_path, use_cache=True, only_labeled=True)\n",
    "dataset_empkins"
   ]
  },
  {
   "cell_type": "markdown",
   "metadata": {},
   "source": [
    "## Initialize Algorithms"
   ]
  },
  {
   "cell_type": "markdown",
   "metadata": {},
   "source": [
    "### Heartbeat Segmentation"
   ]
  },
  {
   "cell_type": "code",
   "execution_count": 7,
   "metadata": {},
   "outputs": [],
   "source": [
    "heartbeat_segmentation_algo = HeartbeatSegmentationNeurokit()"
   ]
  },
  {
   "cell_type": "markdown",
   "metadata": {},
   "source": [
    "### ECG - Q-Wave Onset"
   ]
  },
  {
   "cell_type": "code",
   "execution_count": 8,
   "metadata": {},
   "outputs": [
    {
     "name": "stdout",
     "output_type": "stream",
     "text": [
      "Available Q-wave Onset algorithms:\n",
      "{'forounzafar2018': QPeakExtractionForounzafar2018(handle_missing_events='warn', scaling_factor=2000),\n",
      " 'martinez2004': QPeakExtractionMartinez2004Neurokit(handle_missing_events='warn'),\n",
      " 'scipy-findpeaks': QPeakExtractionSciPyFindPeaksNeurokit(handle_missing_events='warn'),\n",
      " 'vanlien2013-32-ms': QPeakExtractionVanLien2013(handle_missing_events='warn', time_interval_ms=32),\n",
      " 'vanlien2013-34-ms': QPeakExtractionVanLien2013(handle_missing_events='warn', time_interval_ms=34),\n",
      " 'vanlien2013-36-ms': QPeakExtractionVanLien2013(handle_missing_events='warn', time_interval_ms=36),\n",
      " 'vanlien2013-38-ms': QPeakExtractionVanLien2013(handle_missing_events='warn', time_interval_ms=38),\n",
      " 'vanlien2013-40-ms': QPeakExtractionVanLien2013(handle_missing_events='warn', time_interval_ms=40),\n",
      " 'vanlien2013-42-ms': QPeakExtractionVanLien2013(handle_missing_events='warn', time_interval_ms=42)}\n"
     ]
    }
   ],
   "source": [
    "q_wave_algo_dict = {\n",
    "    \"martinez2004\": QPeakExtractionMartinez2004Neurokit(),\n",
    "    \"forounzafar2018\": QPeakExtractionForounzafar2018(),\n",
    "    \"scipy-findpeaks\": QPeakExtractionSciPyFindPeaksNeurokit(),\n",
    "}\n",
    "q_wave_algo_dict.update(\n",
    "    **{f\"vanlien2013-{i}-ms\": QPeakExtractionVanLien2013(time_interval_ms=i) for i in np.arange(32, 44, 2)}\n",
    ")\n",
    "q_wave_algos = list(q_wave_algo_dict.items())\n",
    "\n",
    "print(\"Available Q-wave Onset algorithms:\")\n",
    "pprint(q_wave_algo_dict)"
   ]
  },
  {
   "cell_type": "markdown",
   "metadata": {},
   "source": [
    "### ICG - B-Point"
   ]
  },
  {
   "cell_type": "code",
   "execution_count": 9,
   "metadata": {},
   "outputs": [
    {
     "name": "stdout",
     "output_type": "stream",
     "text": [
      "Available B-point algorithms:\n",
      "{'arbol2017-isoelectric-crossings': BPointExtractionArbol2017IsoelectricCrossings(handle_missing_events='warn'),\n",
      " 'arbol2017-second-derivative': BPointExtractionArbol2017SecondDerivative(handle_missing_events='warn', search_window_start_ms=150, window_size_ms=50),\n",
      " 'arbol2017-third-derivative': BPointExtractionArbol2017ThirdDerivative(handle_missing_events='warn', search_window_start_ms=300),\n",
      " 'debski1993-second-derivative': BPointExtractionDebski1993SecondDerivative(correct_outliers=False, handle_missing_events='warn'),\n",
      " 'drost2022': BPointExtractionDrost2022(correct_outliers=False, handle_missing_events='warn'),\n",
      " 'forounzafar2018': BPointExtractionForouzanfar2018(correct_outliers=False, handle_missing_events='warn', scaling_factor=2000),\n",
      " 'lozano2007-linear-regression': BPointExtractionLozano2007LinearRegression(handle_missing_events='warn', moving_average_window=1),\n",
      " 'lozano2007-quadratic-regression': BPointExtractionLozano2007QuadraticRegression(handle_missing_events='warn', moving_average_window=1),\n",
      " 'sherwood1990': BPointExtractionSherwood1990(handle_missing_events='warn'),\n",
      " 'stern1985': BPointExtractionStern1985(handle_missing_events='warn')}\n"
     ]
    }
   ],
   "source": [
    "b_point_algo_dict = {\n",
    "    \"stern1985\": BPointExtractionStern1985(),\n",
    "    \"sherwood1990\": BPointExtractionSherwood1990(),\n",
    "    \"debski1993-second-derivative\": BPointExtractionDebski1993SecondDerivative(),\n",
    "    \"lozano2007-linear-regression\": BPointExtractionLozano2007LinearRegression(),\n",
    "    \"lozano2007-quadratic-regression\": BPointExtractionLozano2007QuadraticRegression(),\n",
    "    \"arbol2017-isoelectric-crossings\": BPointExtractionArbol2017IsoelectricCrossings(),\n",
    "    \"arbol2017-second-derivative\": BPointExtractionArbol2017SecondDerivative(),\n",
    "    \"arbol2017-third-derivative\": BPointExtractionArbol2017ThirdDerivative(),\n",
    "    \"forounzafar2018\": BPointExtractionForouzanfar2018(),\n",
    "    \"drost2022\": BPointExtractionDrost2022(),\n",
    "}\n",
    "b_point_algos = list(b_point_algo_dict.items())\n",
    "\n",
    "print(\"Available B-point algorithms:\")\n",
    "pprint(b_point_algo_dict)"
   ]
  },
  {
   "cell_type": "markdown",
   "metadata": {},
   "source": [
    "### Outlier Correction"
   ]
  },
  {
   "cell_type": "code",
   "execution_count": 10,
   "metadata": {},
   "outputs": [
    {
     "name": "stdout",
     "output_type": "stream",
     "text": [
      "Available Outlier Correction algorithms:\n",
      "{'forouzanfar2018': OutlierCorrectionForouzanfar2018(),\n",
      " 'linear-interpolation': OutlierCorrectionLinearInterpolation(),\n",
      " 'none': OutlierCorrectionDummy()}\n"
     ]
    }
   ],
   "source": [
    "outlier_correction_dict = {\n",
    "    \"none\": OutlierCorrectionDummy(),\n",
    "    \"linear-interpolation\": OutlierCorrectionLinearInterpolation(),\n",
    "    \"forouzanfar2018\": OutlierCorrectionForouzanfar2018(),\n",
    "}\n",
    "outlier_correction_algos = list(outlier_correction_dict.items())\n",
    "\n",
    "print(\"Available Outlier Correction algorithms:\")\n",
    "pprint(outlier_correction_dict)"
   ]
  },
  {
   "cell_type": "code",
   "execution_count": 11,
   "metadata": {},
   "outputs": [],
   "source": [
    "algo_combinations = list(product(q_wave_algos, b_point_algos, outlier_correction_algos))"
   ]
  },
  {
   "cell_type": "code",
   "execution_count": 12,
   "metadata": {},
   "outputs": [
    {
     "data": {
      "application/vnd.jupyter.widget-view+json": {
       "model_id": "18bc6492cd1d41159fbe88a62e9c5947",
       "version_major": 2,
       "version_minor": 0
      },
      "text/plain": [
       "  0%|          | 0/270 [00:00<?, ?it/s]"
      ]
     },
     "metadata": {},
     "output_type": "display_data"
    },
    {
     "data": {
      "text/markdown": [
       "Running algorithm combination ['martinez2004', 'stern1985', 'none']"
      ],
      "text/plain": [
       "<IPython.core.display.Markdown object>"
      ]
     },
     "metadata": {},
     "output_type": "display_data"
    },
    {
     "data": {
      "application/vnd.jupyter.widget-view+json": {
       "model_id": "bfc3a3712e464997a17505b8e16bb6f3",
       "version_major": 2,
       "version_minor": 0
      },
      "text/plain": [
       "Datapoints:   0%|          | 0/150 [00:00<?, ?it/s]"
      ]
     },
     "metadata": {},
     "output_type": "display_data"
    }
   ],
   "source": [
    "big_result_dict = {}\n",
    "\n",
    "for algo_combi in tqdm(algo_combinations):\n",
    "    algo_combi_names = [key[0] for key in algo_combi]\n",
    "\n",
    "    filename_stub = \"pep_results_empkins_\" + \"_\".join(algo_combi_names)\n",
    "\n",
    "    # check if exists\n",
    "    # if len(list(result_path.glob(f\"{filename_stub}*\"))) != 0:\n",
    "    #    display(Markdown(f\"Algrotihm combination {algo_combi_names} already challenged. Skipping...\"))\n",
    "    #    continue\n",
    "\n",
    "    display(Markdown(f\"Running algorithm combination {algo_combi_names}\"))\n",
    "    pep_challenge = PepEvaluationChallenge(dataset=dataset_empkins, validate_kwargs={\"n_jobs\": -1})\n",
    "\n",
    "    pipeline = PepExtractionPipeline(\n",
    "        heartbeat_segmentation_algo=heartbeat_segmentation_algo,\n",
    "        q_wave_algo=algo_combi[0][1],\n",
    "        b_point_algo=algo_combi[1][1],\n",
    "        outlier_correction_algo=algo_combi[2][1],\n",
    "        handle_negative_pep=\"nan\",\n",
    "        handle_missing_events=\"ignore\",\n",
    "    )\n",
    "    pep_challenge.run(pipeline)\n",
    "    pep_challenge.results_as_df()\n",
    "    break\n",
    "    pep_challenge.save_results(result_path, filename_stub)\n",
    "\n",
    "    big_result_dict[tuple(algo_combi_names)] = pep_challenge"
   ]
  },
  {
   "cell_type": "code",
   "execution_count": 13,
   "metadata": {},
   "outputs": [
    {
     "name": "stdout",
     "output_type": "stream",
     "text": [
      "['debug__score_time',\n",
      " 'data_labels',\n",
      " 'single__pep_reference_ms',\n",
      " 'single__pep_estimated_ms',\n",
      " 'single__error_ms',\n",
      " 'single__absolute_error_ms',\n",
      " 'single__absolute_relative_error_percent',\n",
      " 'single__num_pep_total',\n",
      " 'single__num_pep_valid',\n",
      " 'single__num_pep_invalid',\n",
      " 'single__pep_estimation_per_sample',\n",
      " 'single__error_per_sample_ms',\n",
      " 'single__absolute_error_per_sample_ms',\n",
      " 'single__absolute_relative_error_per_sample_percent',\n",
      " 'agg__pep_reference_ms__mean',\n",
      " 'agg__pep_reference_ms__std',\n",
      " 'agg__pep_estimated_ms__mean',\n",
      " 'agg__pep_estimated_ms__std',\n",
      " 'agg__error_ms__mean',\n",
      " 'agg__error_ms__std',\n",
      " 'agg__absolute_error_ms__mean',\n",
      " 'agg__absolute_error_ms__std',\n",
      " 'agg__absolute_relative_error_percent__mean',\n",
      " 'agg__absolute_relative_error_percent__std',\n",
      " 'agg__num_pep_total__mean',\n",
      " 'agg__num_pep_total__std',\n",
      " 'agg__num_pep_valid__mean',\n",
      " 'agg__num_pep_valid__std',\n",
      " 'agg__num_pep_invalid__mean',\n",
      " 'agg__num_pep_invalid__std',\n",
      " 'agg__error_per_sample_ms__mean',\n",
      " 'agg__error_per_sample_ms__std',\n",
      " 'agg__absolute_error_per_sample_ms__mean',\n",
      " 'agg__absolute_error_per_sample_ms__std',\n",
      " 'agg__absolute_relative_error_per_sample_percent__mean',\n",
      " 'agg__absolute_relative_error_per_sample_percent__std']\n"
     ]
    }
   ],
   "source": [
    "pprint(list(pep_challenge.results_.keys()))"
   ]
  },
  {
   "cell_type": "code",
   "execution_count": 18,
   "metadata": {},
   "outputs": [
    {
     "name": "stdout",
     "output_type": "stream",
     "text": [
      "['debug__score_time',\n",
      " 'data_labels',\n",
      " 'single__pep_reference_ms',\n",
      " 'single__pep_estimated_ms',\n",
      " 'single__error_ms',\n",
      " 'single__absolute_error_ms',\n",
      " 'single__absolute_relative_error_percent',\n",
      " 'single__num_pep_total',\n",
      " 'single__num_pep_valid',\n",
      " 'single__num_pep_invalid',\n",
      " 'single__pep_estimation_per_sample',\n",
      " 'single__error_per_sample_ms',\n",
      " 'single__absolute_error_per_sample_ms',\n",
      " 'single__absolute_relative_error_per_sample_percent',\n",
      " 'agg__pep_reference_ms__mean',\n",
      " 'agg__pep_reference_ms__std',\n",
      " 'agg__pep_estimated_ms__mean',\n",
      " 'agg__pep_estimated_ms__std',\n",
      " 'agg__error_ms__mean',\n",
      " 'agg__error_ms__std',\n",
      " 'agg__absolute_error_ms__mean',\n",
      " 'agg__absolute_error_ms__std',\n",
      " 'agg__absolute_relative_error_percent__mean',\n",
      " 'agg__absolute_relative_error_percent__std',\n",
      " 'agg__num_pep_total',\n",
      " 'agg__num_pep_valid',\n",
      " 'agg__num_pep_invalid',\n",
      " 'agg__error_per_sample_ms__mean',\n",
      " 'agg__error_per_sample_ms__std',\n",
      " 'agg__absolute_error_per_sample_ms__mean',\n",
      " 'agg__absolute_error_per_sample_ms__std',\n",
      " 'agg__absolute_relative_error_per_sample_percent__mean',\n",
      " 'agg__absolute_relative_error_per_sample_percent__std']\n"
     ]
    }
   ],
   "source": [
    "pprint(list(pep_challenge.results_.keys()))"
   ]
  },
  {
   "cell_type": "code",
   "execution_count": null,
   "metadata": {},
   "outputs": [],
   "source": []
  }
 ],
 "metadata": {
  "jupytext": {
   "encoding": "# -*- coding: utf-8 -*-",
   "text_representation": {
    "extension": ".py",
    "format_name": "sphinx",
    "format_version": "1.1",
    "jupytext_version": "1.13.0"
   }
  },
  "kernelspec": {
   "display_name": "pepbench",
   "language": "python",
   "name": "pepbench"
  },
  "language_info": {
   "codemirror_mode": {
    "name": "ipython",
    "version": 3
   },
   "file_extension": ".py",
   "mimetype": "text/x-python",
   "name": "python",
   "nbconvert_exporter": "python",
   "pygments_lexer": "ipython3",
   "version": "3.10.14"
  },
  "toc-showtags": false,
  "vscode": {
   "interpreter": {
    "hash": "7014e6a8beff3a47c7c0424a6c63a486addc0ee3d12468bf1ae9a85a56cca70c"
   }
  }
 },
 "nbformat": 4,
 "nbformat_minor": 4
}
