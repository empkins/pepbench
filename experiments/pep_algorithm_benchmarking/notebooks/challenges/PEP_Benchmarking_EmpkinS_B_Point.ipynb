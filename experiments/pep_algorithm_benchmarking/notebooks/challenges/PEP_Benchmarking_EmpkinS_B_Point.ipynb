{
 "cells": [
  {
   "cell_type": "markdown",
   "metadata": {
    "cell_marker": "\"\"\""
   },
   "source": [
    "# PEP Benchmarking B-Point - EmpkinS Dataset"
   ]
  },
  {
   "cell_type": "markdown",
   "metadata": {},
   "source": [
    "This notebook executes the PEP Benchmarking challenges on the EmpkinS Datasets for PEP Extraction Pipelines using reference labels for Q-peaks and automated algorithms for B-point extraction."
   ]
  },
  {
   "cell_type": "markdown",
   "metadata": {},
   "source": [
    "## Setup and Helper Functions"
   ]
  },
  {
   "cell_type": "code",
   "execution_count": 1,
   "metadata": {},
   "outputs": [],
   "source": [
    "import json\n",
    "from itertools import product\n",
    "from pathlib import Path\n",
    "from pprint import pprint\n",
    "\n",
    "import matplotlib.pyplot as plt\n",
    "import seaborn as sns\n",
    "from fau_colors import cmaps, register_fausans_font\n",
    "from IPython.display import Markdown\n",
    "from tqdm.auto import tqdm\n",
    "\n",
    "from pepbench.algorithms.heartbeat_segmentation import HeartbeatSegmentationNeurokit\n",
    "from pepbench.algorithms.icg import (\n",
    "    BPointExtractionArbol2017IsoelectricCrossings,\n",
    "    BPointExtractionArbol2017SecondDerivative,\n",
    "    BPointExtractionArbol2017ThirdDerivative,\n",
    "    BPointExtractionDebski1993SecondDerivative,\n",
    "    BPointExtractionDrost2022,\n",
    "    BPointExtractionForouzanfar2018,\n",
    "    BPointExtractionLozano2007LinearRegression,\n",
    "    BPointExtractionLozano2007QuadraticRegression,\n",
    "    BPointExtractionSherwood1990,\n",
    "    BPointExtractionStern1985,\n",
    ")\n",
    "from pepbench.algorithms.outlier_correction import (\n",
    "    OutlierCorrectionDummy,\n",
    "    OutlierCorrectionForouzanfar2018,\n",
    "    OutlierCorrectionLinearInterpolation,\n",
    ")\n",
    "from pepbench.datasets import EmpkinsDataset\n",
    "from pepbench.evaluation import PepEvaluationChallenge\n",
    "from pepbench.pipelines import PepExtractionPipelineReferenceQPeak\n",
    "\n",
    "%matplotlib widget\n",
    "%load_ext autoreload\n",
    "%autoreload 2"
   ]
  },
  {
   "cell_type": "code",
   "execution_count": 2,
   "metadata": {},
   "outputs": [
    {
     "data": {
      "text/html": [
       "<svg  width=\"330\" height=\"55\"><rect x=\"0\" y=\"0\" width=\"55\" height=\"55\" style=\"fill:#002f6c;stroke-width:2;stroke:rgb(255,255,255)\"/><rect x=\"55\" y=\"0\" width=\"55\" height=\"55\" style=\"fill:#779fb5;stroke-width:2;stroke:rgb(255,255,255)\"/><rect x=\"110\" y=\"0\" width=\"55\" height=\"55\" style=\"fill:#ffb81c;stroke-width:2;stroke:rgb(255,255,255)\"/><rect x=\"165\" y=\"0\" width=\"55\" height=\"55\" style=\"fill:#00a3e0;stroke-width:2;stroke:rgb(255,255,255)\"/><rect x=\"220\" y=\"0\" width=\"55\" height=\"55\" style=\"fill:#43b02a;stroke-width:2;stroke:rgb(255,255,255)\"/><rect x=\"275\" y=\"0\" width=\"55\" height=\"55\" style=\"fill:#c8102e;stroke-width:2;stroke:rgb(255,255,255)\"/></svg>"
      ],
      "text/plain": [
       "[(0.0, 0.1843137254901961, 0.4235294117647059),\n",
       " (0.4666666666666667, 0.6235294117647059, 0.7098039215686275),\n",
       " (1.0, 0.7215686274509804, 0.10980392156862745),\n",
       " (0.0, 0.6392156862745098, 0.8784313725490196),\n",
       " (0.2627450980392157, 0.6901960784313725, 0.16470588235294117),\n",
       " (0.7843137254901961, 0.06274509803921569, 0.1803921568627451)]"
      ]
     },
     "execution_count": 2,
     "metadata": {},
     "output_type": "execute_result"
    }
   ],
   "source": [
    "register_fausans_font()\n",
    "plt.close(\"all\")\n",
    "\n",
    "palette = sns.color_palette(cmaps.faculties)\n",
    "sns.set_theme(context=\"notebook\", style=\"ticks\", font=\"sans-serif\", palette=palette)\n",
    "\n",
    "plt.rcParams[\"figure.figsize\"] = (10, 5)\n",
    "plt.rcParams[\"pdf.fonttype\"] = 42\n",
    "plt.rcParams[\"mathtext.default\"] = \"regular\"\n",
    "plt.rcParams[\"font.family\"] = \"sans-serif\"\n",
    "plt.rcParams[\"font.sans-serif\"] = \"FAUSans Office\"\n",
    "\n",
    "palette"
   ]
  },
  {
   "cell_type": "code",
   "execution_count": 3,
   "metadata": {},
   "outputs": [],
   "source": [
    "root_path = Path(\"../../\")"
   ]
  },
  {
   "cell_type": "code",
   "execution_count": 4,
   "metadata": {},
   "outputs": [
    {
     "name": "stdout",
     "output_type": "stream",
     "text": [
      "/Users/richer/Documents/PhD/Projects/EmpkinS/HealthPsychology_D03/Data/2024_08_PEP_Benchmarking/EmpkinS_Dataset\n"
     ]
    }
   ],
   "source": [
    "deploy_type = \"local\"\n",
    "\n",
    "config_dict = json.load(root_path.joinpath(\"config.json\").open(encoding=\"utf-8\"))\n",
    "\n",
    "empkins_base_path = Path(config_dict[deploy_type][\"empkins_path\"])\n",
    "print(empkins_base_path)"
   ]
  },
  {
   "cell_type": "code",
   "execution_count": 5,
   "metadata": {},
   "outputs": [
    {
     "data": {
      "text/plain": [
       "PosixPath('/Users/richer/Documents/PhD/Code_Repositories/EmpkinS/pepbench/experiments/pep_algorithm_benchmarking/results/empkins_dataset_b_point')"
      ]
     },
     "execution_count": 5,
     "metadata": {},
     "output_type": "execute_result"
    }
   ],
   "source": [
    "result_path = root_path.joinpath(\"results/empkins_dataset_b_point\")\n",
    "result_path.mkdir(exist_ok=True, parents=True)\n",
    "result_path.resolve()"
   ]
  },
  {
   "cell_type": "code",
   "execution_count": 6,
   "metadata": {},
   "outputs": [
    {
     "data": {
      "text/html": [
       "<h4 style=\"margin-bottom: 0.1em;\">EmpkinsDataset [150 groups/rows]</h3>\n",
       "<div style=\"margin-top: 0em\">\n",
       "<style scoped>\n",
       "    .dataframe tbody tr th:only-of-type {\n",
       "        vertical-align: middle;\n",
       "    }\n",
       "\n",
       "    .dataframe tbody tr th {\n",
       "        vertical-align: top;\n",
       "    }\n",
       "\n",
       "    .dataframe thead th {\n",
       "        text-align: right;\n",
       "    }\n",
       "</style>\n",
       "<table style=\"margin-left: 3em;\">\n",
       "  <thead>\n",
       "    <tr style=\"text-align: right;\">\n",
       "      <th style=\"text-align: center;\"></th>\n",
       "      <th style=\"text-align: center;\">participant</th>\n",
       "      <th style=\"text-align: center;\">condition</th>\n",
       "      <th style=\"text-align: center;\">phase</th>\n",
       "    </tr>\n",
       "  </thead>\n",
       "  <tbody>\n",
       "    <tr>\n",
       "      <th style=\"text-align: center;\">0</th>\n",
       "      <td style=\"text-align: center; padding-left: 2em; padding-right: 2em;\">VP_001</td>\n",
       "      <td style=\"text-align: center; padding-left: 2em; padding-right: 2em;\">tsst</td>\n",
       "      <td style=\"text-align: center; padding-left: 2em; padding-right: 2em;\">Prep</td>\n",
       "    </tr>\n",
       "    <tr>\n",
       "      <th style=\"text-align: center;\">1</th>\n",
       "      <td style=\"text-align: center; padding-left: 2em; padding-right: 2em;\">VP_001</td>\n",
       "      <td style=\"text-align: center; padding-left: 2em; padding-right: 2em;\">tsst</td>\n",
       "      <td style=\"text-align: center; padding-left: 2em; padding-right: 2em;\">Pause_1</td>\n",
       "    </tr>\n",
       "    <tr>\n",
       "      <th style=\"text-align: center;\">2</th>\n",
       "      <td style=\"text-align: center; padding-left: 2em; padding-right: 2em;\">VP_001</td>\n",
       "      <td style=\"text-align: center; padding-left: 2em; padding-right: 2em;\">tsst</td>\n",
       "      <td style=\"text-align: center; padding-left: 2em; padding-right: 2em;\">Talk</td>\n",
       "    </tr>\n",
       "    <tr>\n",
       "      <th style=\"text-align: center;\">3</th>\n",
       "      <td style=\"text-align: center; padding-left: 2em; padding-right: 2em;\">VP_001</td>\n",
       "      <td style=\"text-align: center; padding-left: 2em; padding-right: 2em;\">tsst</td>\n",
       "      <td style=\"text-align: center; padding-left: 2em; padding-right: 2em;\">Math</td>\n",
       "    </tr>\n",
       "    <tr>\n",
       "      <th style=\"text-align: center;\">4</th>\n",
       "      <td style=\"text-align: center; padding-left: 2em; padding-right: 2em;\">VP_001</td>\n",
       "      <td style=\"text-align: center; padding-left: 2em; padding-right: 2em;\">tsst</td>\n",
       "      <td style=\"text-align: center; padding-left: 2em; padding-right: 2em;\">Pause_5</td>\n",
       "    </tr>\n",
       "    <tr>\n",
       "      <th style=\"text-align: center;\">...</th>\n",
       "      <td style=\"text-align: center; padding-left: 2em; padding-right: 2em;\">...</td>\n",
       "      <td style=\"text-align: center; padding-left: 2em; padding-right: 2em;\">...</td>\n",
       "      <td style=\"text-align: center; padding-left: 2em; padding-right: 2em;\">...</td>\n",
       "    </tr>\n",
       "    <tr>\n",
       "      <th style=\"text-align: center;\">145</th>\n",
       "      <td style=\"text-align: center; padding-left: 2em; padding-right: 2em;\">VP_032</td>\n",
       "      <td style=\"text-align: center; padding-left: 2em; padding-right: 2em;\">ftsst</td>\n",
       "      <td style=\"text-align: center; padding-left: 2em; padding-right: 2em;\">Prep</td>\n",
       "    </tr>\n",
       "    <tr>\n",
       "      <th style=\"text-align: center;\">146</th>\n",
       "      <td style=\"text-align: center; padding-left: 2em; padding-right: 2em;\">VP_032</td>\n",
       "      <td style=\"text-align: center; padding-left: 2em; padding-right: 2em;\">ftsst</td>\n",
       "      <td style=\"text-align: center; padding-left: 2em; padding-right: 2em;\">Pause_1</td>\n",
       "    </tr>\n",
       "    <tr>\n",
       "      <th style=\"text-align: center;\">147</th>\n",
       "      <td style=\"text-align: center; padding-left: 2em; padding-right: 2em;\">VP_032</td>\n",
       "      <td style=\"text-align: center; padding-left: 2em; padding-right: 2em;\">ftsst</td>\n",
       "      <td style=\"text-align: center; padding-left: 2em; padding-right: 2em;\">Talk</td>\n",
       "    </tr>\n",
       "    <tr>\n",
       "      <th style=\"text-align: center;\">148</th>\n",
       "      <td style=\"text-align: center; padding-left: 2em; padding-right: 2em;\">VP_032</td>\n",
       "      <td style=\"text-align: center; padding-left: 2em; padding-right: 2em;\">ftsst</td>\n",
       "      <td style=\"text-align: center; padding-left: 2em; padding-right: 2em;\">Math</td>\n",
       "    </tr>\n",
       "    <tr>\n",
       "      <th style=\"text-align: center;\">149</th>\n",
       "      <td style=\"text-align: center; padding-left: 2em; padding-right: 2em;\">VP_032</td>\n",
       "      <td style=\"text-align: center; padding-left: 2em; padding-right: 2em;\">ftsst</td>\n",
       "      <td style=\"text-align: center; padding-left: 2em; padding-right: 2em;\">Pause_5</td>\n",
       "    </tr>\n",
       "  </tbody>\n",
       "</table>\n",
       "<p>150 rows × 3 columns</p>\n",
       "</div>"
      ],
      "text/plain": [
       "EmpkinsDataset [150 groups/rows]\n",
       "\n",
       "       participant condition    phase\n",
       "   0        VP_001      tsst     Prep\n",
       "   1        VP_001      tsst  Pause_1\n",
       "   2        VP_001      tsst     Talk\n",
       "   3        VP_001      tsst     Math\n",
       "   4        VP_001      tsst  Pause_5\n",
       "   ..          ...       ...      ...\n",
       "   145      VP_032     ftsst     Prep\n",
       "   146      VP_032     ftsst  Pause_1\n",
       "   147      VP_032     ftsst     Talk\n",
       "   148      VP_032     ftsst     Math\n",
       "   149      VP_032     ftsst  Pause_5\n",
       "   \n",
       "   [150 rows x 3 columns]"
      ]
     },
     "execution_count": 6,
     "metadata": {},
     "output_type": "execute_result"
    }
   ],
   "source": [
    "dataset_empkins = EmpkinsDataset(empkins_base_path, use_cache=True, only_labeled=True)\n",
    "dataset_empkins"
   ]
  },
  {
   "cell_type": "markdown",
   "metadata": {},
   "source": [
    "## Initialize Algorithms"
   ]
  },
  {
   "cell_type": "markdown",
   "metadata": {},
   "source": [
    "### Heartbeat Segmentation"
   ]
  },
  {
   "cell_type": "code",
   "execution_count": 7,
   "metadata": {},
   "outputs": [],
   "source": [
    "heartbeat_segmentation_algo = HeartbeatSegmentationNeurokit()"
   ]
  },
  {
   "cell_type": "markdown",
   "metadata": {},
   "source": [
    "### ECG - Q-Peak"
   ]
  },
  {
   "cell_type": "code",
   "execution_count": 8,
   "metadata": {},
   "outputs": [
    {
     "name": "stdout",
     "output_type": "stream",
     "text": [
      "Available Q-Peak algorithms:\n",
      "{'q-peak-reference': None}\n"
     ]
    }
   ],
   "source": [
    "q_peak_algo_dict = {\"q-peak-reference\": None}\n",
    "q_peak_algos = list(q_peak_algo_dict.items())\n",
    "\n",
    "print(\"Available Q-Peak algorithms:\")\n",
    "pprint(q_peak_algo_dict)"
   ]
  },
  {
   "cell_type": "markdown",
   "metadata": {},
   "source": [
    "### ICG - B-Point"
   ]
  },
  {
   "cell_type": "code",
   "execution_count": 9,
   "metadata": {},
   "outputs": [
    {
     "name": "stdout",
     "output_type": "stream",
     "text": [
      "Available B-point algorithms:\n",
      "{'arbol2017-isoelectric-crossings': BPointExtractionArbol2017IsoelectricCrossings(handle_missing_events='warn'),\n",
      " 'arbol2017-second-derivative': BPointExtractionArbol2017SecondDerivative(handle_missing_events='warn', search_window_start_ms=150, window_size_ms=50),\n",
      " 'arbol2017-third-derivative': BPointExtractionArbol2017ThirdDerivative(handle_missing_events='warn', search_window_start_ms=300),\n",
      " 'debski1993-second-derivative': BPointExtractionDebski1993SecondDerivative(correct_outliers=False, handle_missing_events='warn'),\n",
      " 'drost2022': BPointExtractionDrost2022(correct_outliers=False, handle_missing_events='warn'),\n",
      " 'forouzanfar2018': BPointExtractionForouzanfar2018(correct_outliers=False, handle_missing_events='warn', scaling_factor=2000),\n",
      " 'lozano2007-linear-regression': BPointExtractionLozano2007LinearRegression(handle_missing_events='warn', moving_average_window=1),\n",
      " 'lozano2007-quadratic-regression': BPointExtractionLozano2007QuadraticRegression(handle_missing_events='warn', moving_average_window=1),\n",
      " 'sherwood1990': BPointExtractionSherwood1990(handle_missing_events='warn'),\n",
      " 'stern1985': BPointExtractionStern1985(handle_missing_events='warn')}\n"
     ]
    }
   ],
   "source": [
    "b_point_algo_dict = {\n",
    "    \"stern1985\": BPointExtractionStern1985(),\n",
    "    \"sherwood1990\": BPointExtractionSherwood1990(),\n",
    "    \"debski1993-second-derivative\": BPointExtractionDebski1993SecondDerivative(),\n",
    "    \"lozano2007-linear-regression\": BPointExtractionLozano2007LinearRegression(),\n",
    "    \"lozano2007-quadratic-regression\": BPointExtractionLozano2007QuadraticRegression(),\n",
    "    \"arbol2017-isoelectric-crossings\": BPointExtractionArbol2017IsoelectricCrossings(),\n",
    "    \"arbol2017-second-derivative\": BPointExtractionArbol2017SecondDerivative(),\n",
    "    \"arbol2017-third-derivative\": BPointExtractionArbol2017ThirdDerivative(),\n",
    "    \"forouzanfar2018\": BPointExtractionForouzanfar2018(),\n",
    "    \"drost2022\": BPointExtractionDrost2022(),\n",
    "}\n",
    "b_point_algos = list(b_point_algo_dict.items())\n",
    "\n",
    "print(\"Available B-point algorithms:\")\n",
    "pprint(b_point_algo_dict)"
   ]
  },
  {
   "cell_type": "markdown",
   "metadata": {},
   "source": [
    "### Outlier Correction"
   ]
  },
  {
   "cell_type": "code",
   "execution_count": 10,
   "metadata": {},
   "outputs": [
    {
     "name": "stdout",
     "output_type": "stream",
     "text": [
      "Available Outlier Correction algorithms:\n",
      "{'forouzanfar2018': OutlierCorrectionForouzanfar2018(),\n",
      " 'linear-interpolation': OutlierCorrectionLinearInterpolation(),\n",
      " 'none': OutlierCorrectionDummy()}\n"
     ]
    }
   ],
   "source": [
    "outlier_correction_dict = {\n",
    "    \"none\": OutlierCorrectionDummy(),\n",
    "    \"linear-interpolation\": OutlierCorrectionLinearInterpolation(),\n",
    "    \"forouzanfar2018\": OutlierCorrectionForouzanfar2018(),\n",
    "}\n",
    "outlier_correction_algos = list(outlier_correction_dict.items())\n",
    "\n",
    "print(\"Available Outlier Correction algorithms:\")\n",
    "pprint(outlier_correction_dict)"
   ]
  },
  {
   "cell_type": "code",
   "execution_count": 11,
   "metadata": {},
   "outputs": [],
   "source": [
    "algo_combinations = list(product(q_peak_algos, b_point_algos, outlier_correction_algos))"
   ]
  },
  {
   "cell_type": "code",
   "execution_count": 12,
   "metadata": {},
   "outputs": [],
   "source": [
    "# subset = dataset_empkins.get_subset(participant=\"VP_001\", condition=\"tsst\", phase=\"Prep\")"
   ]
  },
  {
   "cell_type": "code",
   "execution_count": 13,
   "metadata": {},
   "outputs": [
    {
     "data": {
      "application/vnd.jupyter.widget-view+json": {
       "model_id": "c8645c8980694bc6861330d8361b5a96",
       "version_major": 2,
       "version_minor": 0
      },
      "text/plain": [
       "  0%|          | 0/30 [00:00<?, ?it/s]"
      ]
     },
     "metadata": {},
     "output_type": "display_data"
    },
    {
     "data": {
      "text/markdown": [
       "Running algorithm combination ['q-peak-reference', 'stern1985', 'none']"
      ],
      "text/plain": [
       "<IPython.core.display.Markdown object>"
      ]
     },
     "metadata": {},
     "output_type": "display_data"
    },
    {
     "data": {
      "application/vnd.jupyter.widget-view+json": {
       "model_id": "708860c72265462c99191865a031fa15",
       "version_major": 2,
       "version_minor": 0
      },
      "text/plain": [
       "Datapoints:   0%|          | 0/150 [00:00<?, ?it/s]"
      ]
     },
     "metadata": {},
     "output_type": "display_data"
    },
    {
     "data": {
      "text/markdown": [
       "Running algorithm combination ['q-peak-reference', 'stern1985', 'linear-interpolation']"
      ],
      "text/plain": [
       "<IPython.core.display.Markdown object>"
      ]
     },
     "metadata": {},
     "output_type": "display_data"
    },
    {
     "data": {
      "application/vnd.jupyter.widget-view+json": {
       "model_id": "2f09ce3e22164b26927b098ded3e0d29",
       "version_major": 2,
       "version_minor": 0
      },
      "text/plain": [
       "Datapoints:   0%|          | 0/150 [00:00<?, ?it/s]"
      ]
     },
     "metadata": {},
     "output_type": "display_data"
    },
    {
     "data": {
      "text/markdown": [
       "Running algorithm combination ['q-peak-reference', 'stern1985', 'forouzanfar2018']"
      ],
      "text/plain": [
       "<IPython.core.display.Markdown object>"
      ]
     },
     "metadata": {},
     "output_type": "display_data"
    },
    {
     "data": {
      "application/vnd.jupyter.widget-view+json": {
       "model_id": "33f0d62f93e04388965c139df661df4e",
       "version_major": 2,
       "version_minor": 0
      },
      "text/plain": [
       "Datapoints:   0%|          | 0/150 [00:00<?, ?it/s]"
      ]
     },
     "metadata": {},
     "output_type": "display_data"
    },
    {
     "data": {
      "text/markdown": [
       "Running algorithm combination ['q-peak-reference', 'sherwood1990', 'none']"
      ],
      "text/plain": [
       "<IPython.core.display.Markdown object>"
      ]
     },
     "metadata": {},
     "output_type": "display_data"
    },
    {
     "data": {
      "application/vnd.jupyter.widget-view+json": {
       "model_id": "948d584d5b5144e9a5393beb93119361",
       "version_major": 2,
       "version_minor": 0
      },
      "text/plain": [
       "Datapoints:   0%|          | 0/150 [00:00<?, ?it/s]"
      ]
     },
     "metadata": {},
     "output_type": "display_data"
    },
    {
     "data": {
      "text/markdown": [
       "Running algorithm combination ['q-peak-reference', 'sherwood1990', 'linear-interpolation']"
      ],
      "text/plain": [
       "<IPython.core.display.Markdown object>"
      ]
     },
     "metadata": {},
     "output_type": "display_data"
    },
    {
     "data": {
      "application/vnd.jupyter.widget-view+json": {
       "model_id": "fc04576de322409dbc30790508e13557",
       "version_major": 2,
       "version_minor": 0
      },
      "text/plain": [
       "Datapoints:   0%|          | 0/150 [00:00<?, ?it/s]"
      ]
     },
     "metadata": {},
     "output_type": "display_data"
    },
    {
     "data": {
      "text/markdown": [
       "Running algorithm combination ['q-peak-reference', 'sherwood1990', 'forouzanfar2018']"
      ],
      "text/plain": [
       "<IPython.core.display.Markdown object>"
      ]
     },
     "metadata": {},
     "output_type": "display_data"
    },
    {
     "data": {
      "application/vnd.jupyter.widget-view+json": {
       "model_id": "778b289df7e744f0a9f4af9a143fff06",
       "version_major": 2,
       "version_minor": 0
      },
      "text/plain": [
       "Datapoints:   0%|          | 0/150 [00:00<?, ?it/s]"
      ]
     },
     "metadata": {},
     "output_type": "display_data"
    },
    {
     "data": {
      "text/markdown": [
       "Running algorithm combination ['q-peak-reference', 'debski1993-second-derivative', 'none']"
      ],
      "text/plain": [
       "<IPython.core.display.Markdown object>"
      ]
     },
     "metadata": {},
     "output_type": "display_data"
    },
    {
     "data": {
      "application/vnd.jupyter.widget-view+json": {
       "model_id": "4372551d7688494b8ace4e3fd0f1710b",
       "version_major": 2,
       "version_minor": 0
      },
      "text/plain": [
       "Datapoints:   0%|          | 0/150 [00:00<?, ?it/s]"
      ]
     },
     "metadata": {},
     "output_type": "display_data"
    },
    {
     "data": {
      "text/markdown": [
       "Running algorithm combination ['q-peak-reference', 'debski1993-second-derivative', 'linear-interpolation']"
      ],
      "text/plain": [
       "<IPython.core.display.Markdown object>"
      ]
     },
     "metadata": {},
     "output_type": "display_data"
    },
    {
     "data": {
      "application/vnd.jupyter.widget-view+json": {
       "model_id": "b760973f7fc04a35ae8df35e139b0a0a",
       "version_major": 2,
       "version_minor": 0
      },
      "text/plain": [
       "Datapoints:   0%|          | 0/150 [00:00<?, ?it/s]"
      ]
     },
     "metadata": {},
     "output_type": "display_data"
    },
    {
     "data": {
      "text/markdown": [
       "Running algorithm combination ['q-peak-reference', 'debski1993-second-derivative', 'forouzanfar2018']"
      ],
      "text/plain": [
       "<IPython.core.display.Markdown object>"
      ]
     },
     "metadata": {},
     "output_type": "display_data"
    },
    {
     "data": {
      "application/vnd.jupyter.widget-view+json": {
       "model_id": "f5876113e1504b12be5646a762527f6f",
       "version_major": 2,
       "version_minor": 0
      },
      "text/plain": [
       "Datapoints:   0%|          | 0/150 [00:00<?, ?it/s]"
      ]
     },
     "metadata": {},
     "output_type": "display_data"
    },
    {
     "data": {
      "text/markdown": [
       "Running algorithm combination ['q-peak-reference', 'lozano2007-linear-regression', 'none']"
      ],
      "text/plain": [
       "<IPython.core.display.Markdown object>"
      ]
     },
     "metadata": {},
     "output_type": "display_data"
    },
    {
     "data": {
      "application/vnd.jupyter.widget-view+json": {
       "model_id": "a3c1453fa5594e969d4d6cea07681fa9",
       "version_major": 2,
       "version_minor": 0
      },
      "text/plain": [
       "Datapoints:   0%|          | 0/150 [00:00<?, ?it/s]"
      ]
     },
     "metadata": {},
     "output_type": "display_data"
    },
    {
     "data": {
      "text/markdown": [
       "Running algorithm combination ['q-peak-reference', 'lozano2007-linear-regression', 'linear-interpolation']"
      ],
      "text/plain": [
       "<IPython.core.display.Markdown object>"
      ]
     },
     "metadata": {},
     "output_type": "display_data"
    },
    {
     "data": {
      "application/vnd.jupyter.widget-view+json": {
       "model_id": "93090e3b02e744ab9eed69a3512ec33a",
       "version_major": 2,
       "version_minor": 0
      },
      "text/plain": [
       "Datapoints:   0%|          | 0/150 [00:00<?, ?it/s]"
      ]
     },
     "metadata": {},
     "output_type": "display_data"
    },
    {
     "data": {
      "text/markdown": [
       "Running algorithm combination ['q-peak-reference', 'lozano2007-linear-regression', 'forouzanfar2018']"
      ],
      "text/plain": [
       "<IPython.core.display.Markdown object>"
      ]
     },
     "metadata": {},
     "output_type": "display_data"
    },
    {
     "data": {
      "application/vnd.jupyter.widget-view+json": {
       "model_id": "fd482cdc2cd34bf3ae0e8378659de2a2",
       "version_major": 2,
       "version_minor": 0
      },
      "text/plain": [
       "Datapoints:   0%|          | 0/150 [00:00<?, ?it/s]"
      ]
     },
     "metadata": {},
     "output_type": "display_data"
    },
    {
     "data": {
      "text/markdown": [
       "Running algorithm combination ['q-peak-reference', 'lozano2007-quadratic-regression', 'none']"
      ],
      "text/plain": [
       "<IPython.core.display.Markdown object>"
      ]
     },
     "metadata": {},
     "output_type": "display_data"
    },
    {
     "data": {
      "application/vnd.jupyter.widget-view+json": {
       "model_id": "4d16c07885e14cb6bb529465751f6af5",
       "version_major": 2,
       "version_minor": 0
      },
      "text/plain": [
       "Datapoints:   0%|          | 0/150 [00:00<?, ?it/s]"
      ]
     },
     "metadata": {},
     "output_type": "display_data"
    },
    {
     "data": {
      "text/markdown": [
       "Running algorithm combination ['q-peak-reference', 'lozano2007-quadratic-regression', 'linear-interpolation']"
      ],
      "text/plain": [
       "<IPython.core.display.Markdown object>"
      ]
     },
     "metadata": {},
     "output_type": "display_data"
    },
    {
     "data": {
      "application/vnd.jupyter.widget-view+json": {
       "model_id": "9b174bc655024f41a8159c20ea3c5b56",
       "version_major": 2,
       "version_minor": 0
      },
      "text/plain": [
       "Datapoints:   0%|          | 0/150 [00:00<?, ?it/s]"
      ]
     },
     "metadata": {},
     "output_type": "display_data"
    },
    {
     "data": {
      "text/markdown": [
       "Running algorithm combination ['q-peak-reference', 'lozano2007-quadratic-regression', 'forouzanfar2018']"
      ],
      "text/plain": [
       "<IPython.core.display.Markdown object>"
      ]
     },
     "metadata": {},
     "output_type": "display_data"
    },
    {
     "data": {
      "application/vnd.jupyter.widget-view+json": {
       "model_id": "8cc57a7073e1478fb8690dd06b4d83b4",
       "version_major": 2,
       "version_minor": 0
      },
      "text/plain": [
       "Datapoints:   0%|          | 0/150 [00:00<?, ?it/s]"
      ]
     },
     "metadata": {},
     "output_type": "display_data"
    },
    {
     "data": {
      "text/markdown": [
       "Running algorithm combination ['q-peak-reference', 'arbol2017-isoelectric-crossings', 'none']"
      ],
      "text/plain": [
       "<IPython.core.display.Markdown object>"
      ]
     },
     "metadata": {},
     "output_type": "display_data"
    },
    {
     "data": {
      "application/vnd.jupyter.widget-view+json": {
       "model_id": "86c1c23ca76f4f5c98e23bee041b82a6",
       "version_major": 2,
       "version_minor": 0
      },
      "text/plain": [
       "Datapoints:   0%|          | 0/150 [00:00<?, ?it/s]"
      ]
     },
     "metadata": {},
     "output_type": "display_data"
    },
    {
     "data": {
      "text/markdown": [
       "Running algorithm combination ['q-peak-reference', 'arbol2017-isoelectric-crossings', 'linear-interpolation']"
      ],
      "text/plain": [
       "<IPython.core.display.Markdown object>"
      ]
     },
     "metadata": {},
     "output_type": "display_data"
    },
    {
     "data": {
      "application/vnd.jupyter.widget-view+json": {
       "model_id": "17938505c83c46cda74c104ae0db3c48",
       "version_major": 2,
       "version_minor": 0
      },
      "text/plain": [
       "Datapoints:   0%|          | 0/150 [00:00<?, ?it/s]"
      ]
     },
     "metadata": {},
     "output_type": "display_data"
    },
    {
     "data": {
      "text/markdown": [
       "Running algorithm combination ['q-peak-reference', 'arbol2017-isoelectric-crossings', 'forouzanfar2018']"
      ],
      "text/plain": [
       "<IPython.core.display.Markdown object>"
      ]
     },
     "metadata": {},
     "output_type": "display_data"
    },
    {
     "data": {
      "application/vnd.jupyter.widget-view+json": {
       "model_id": "41f49e21a7b347c69df515a5592ea676",
       "version_major": 2,
       "version_minor": 0
      },
      "text/plain": [
       "Datapoints:   0%|          | 0/150 [00:00<?, ?it/s]"
      ]
     },
     "metadata": {},
     "output_type": "display_data"
    },
    {
     "data": {
      "text/markdown": [
       "Running algorithm combination ['q-peak-reference', 'arbol2017-second-derivative', 'none']"
      ],
      "text/plain": [
       "<IPython.core.display.Markdown object>"
      ]
     },
     "metadata": {},
     "output_type": "display_data"
    },
    {
     "data": {
      "application/vnd.jupyter.widget-view+json": {
       "model_id": "9b782f5a410d4bb7b936397a3ad096ea",
       "version_major": 2,
       "version_minor": 0
      },
      "text/plain": [
       "Datapoints:   0%|          | 0/150 [00:00<?, ?it/s]"
      ]
     },
     "metadata": {},
     "output_type": "display_data"
    },
    {
     "data": {
      "text/markdown": [
       "Running algorithm combination ['q-peak-reference', 'arbol2017-second-derivative', 'linear-interpolation']"
      ],
      "text/plain": [
       "<IPython.core.display.Markdown object>"
      ]
     },
     "metadata": {},
     "output_type": "display_data"
    },
    {
     "data": {
      "application/vnd.jupyter.widget-view+json": {
       "model_id": "1f69daf465f74f6583b03c12d6407f2d",
       "version_major": 2,
       "version_minor": 0
      },
      "text/plain": [
       "Datapoints:   0%|          | 0/150 [00:00<?, ?it/s]"
      ]
     },
     "metadata": {},
     "output_type": "display_data"
    },
    {
     "data": {
      "text/markdown": [
       "Running algorithm combination ['q-peak-reference', 'arbol2017-second-derivative', 'forouzanfar2018']"
      ],
      "text/plain": [
       "<IPython.core.display.Markdown object>"
      ]
     },
     "metadata": {},
     "output_type": "display_data"
    },
    {
     "data": {
      "application/vnd.jupyter.widget-view+json": {
       "model_id": "d011dcf5ce504ca9aee4220c7799bf62",
       "version_major": 2,
       "version_minor": 0
      },
      "text/plain": [
       "Datapoints:   0%|          | 0/150 [00:00<?, ?it/s]"
      ]
     },
     "metadata": {},
     "output_type": "display_data"
    },
    {
     "data": {
      "text/markdown": [
       "Running algorithm combination ['q-peak-reference', 'arbol2017-third-derivative', 'none']"
      ],
      "text/plain": [
       "<IPython.core.display.Markdown object>"
      ]
     },
     "metadata": {},
     "output_type": "display_data"
    },
    {
     "data": {
      "application/vnd.jupyter.widget-view+json": {
       "model_id": "2819fb923492416aa262db096fb31394",
       "version_major": 2,
       "version_minor": 0
      },
      "text/plain": [
       "Datapoints:   0%|          | 0/150 [00:00<?, ?it/s]"
      ]
     },
     "metadata": {},
     "output_type": "display_data"
    },
    {
     "data": {
      "text/markdown": [
       "Running algorithm combination ['q-peak-reference', 'arbol2017-third-derivative', 'linear-interpolation']"
      ],
      "text/plain": [
       "<IPython.core.display.Markdown object>"
      ]
     },
     "metadata": {},
     "output_type": "display_data"
    },
    {
     "data": {
      "application/vnd.jupyter.widget-view+json": {
       "model_id": "64e4ac2d39224c6ea9939dad3342db12",
       "version_major": 2,
       "version_minor": 0
      },
      "text/plain": [
       "Datapoints:   0%|          | 0/150 [00:00<?, ?it/s]"
      ]
     },
     "metadata": {},
     "output_type": "display_data"
    },
    {
     "data": {
      "text/markdown": [
       "Running algorithm combination ['q-peak-reference', 'arbol2017-third-derivative', 'forouzanfar2018']"
      ],
      "text/plain": [
       "<IPython.core.display.Markdown object>"
      ]
     },
     "metadata": {},
     "output_type": "display_data"
    },
    {
     "data": {
      "application/vnd.jupyter.widget-view+json": {
       "model_id": "4fdf88aa47754959b3f3653e664ccf31",
       "version_major": 2,
       "version_minor": 0
      },
      "text/plain": [
       "Datapoints:   0%|          | 0/150 [00:00<?, ?it/s]"
      ]
     },
     "metadata": {},
     "output_type": "display_data"
    },
    {
     "data": {
      "text/markdown": [
       "Running algorithm combination ['q-peak-reference', 'forouzanfar2018', 'none']"
      ],
      "text/plain": [
       "<IPython.core.display.Markdown object>"
      ]
     },
     "metadata": {},
     "output_type": "display_data"
    },
    {
     "data": {
      "application/vnd.jupyter.widget-view+json": {
       "model_id": "20b523cc92a548718395dcba9a8bc4da",
       "version_major": 2,
       "version_minor": 0
      },
      "text/plain": [
       "Datapoints:   0%|          | 0/150 [00:00<?, ?it/s]"
      ]
     },
     "metadata": {},
     "output_type": "display_data"
    },
    {
     "data": {
      "text/markdown": [
       "Running algorithm combination ['q-peak-reference', 'forouzanfar2018', 'linear-interpolation']"
      ],
      "text/plain": [
       "<IPython.core.display.Markdown object>"
      ]
     },
     "metadata": {},
     "output_type": "display_data"
    },
    {
     "data": {
      "application/vnd.jupyter.widget-view+json": {
       "model_id": "2d0a032b132b4f518007525fdac898ae",
       "version_major": 2,
       "version_minor": 0
      },
      "text/plain": [
       "Datapoints:   0%|          | 0/150 [00:00<?, ?it/s]"
      ]
     },
     "metadata": {},
     "output_type": "display_data"
    },
    {
     "data": {
      "text/markdown": [
       "Running algorithm combination ['q-peak-reference', 'forouzanfar2018', 'forouzanfar2018']"
      ],
      "text/plain": [
       "<IPython.core.display.Markdown object>"
      ]
     },
     "metadata": {},
     "output_type": "display_data"
    },
    {
     "data": {
      "application/vnd.jupyter.widget-view+json": {
       "model_id": "6ff60e8661904f6c98a588f5a0665b36",
       "version_major": 2,
       "version_minor": 0
      },
      "text/plain": [
       "Datapoints:   0%|          | 0/150 [00:00<?, ?it/s]"
      ]
     },
     "metadata": {},
     "output_type": "display_data"
    },
    {
     "data": {
      "text/markdown": [
       "Running algorithm combination ['q-peak-reference', 'drost2022', 'none']"
      ],
      "text/plain": [
       "<IPython.core.display.Markdown object>"
      ]
     },
     "metadata": {},
     "output_type": "display_data"
    },
    {
     "data": {
      "application/vnd.jupyter.widget-view+json": {
       "model_id": "47e515e10ab54d6eb73032f0fa509a93",
       "version_major": 2,
       "version_minor": 0
      },
      "text/plain": [
       "Datapoints:   0%|          | 0/150 [00:00<?, ?it/s]"
      ]
     },
     "metadata": {},
     "output_type": "display_data"
    },
    {
     "data": {
      "text/markdown": [
       "Running algorithm combination ['q-peak-reference', 'drost2022', 'linear-interpolation']"
      ],
      "text/plain": [
       "<IPython.core.display.Markdown object>"
      ]
     },
     "metadata": {},
     "output_type": "display_data"
    },
    {
     "data": {
      "application/vnd.jupyter.widget-view+json": {
       "model_id": "3063887453bb4770ae2dd0cb408a3d9d",
       "version_major": 2,
       "version_minor": 0
      },
      "text/plain": [
       "Datapoints:   0%|          | 0/150 [00:00<?, ?it/s]"
      ]
     },
     "metadata": {},
     "output_type": "display_data"
    },
    {
     "data": {
      "text/markdown": [
       "Running algorithm combination ['q-peak-reference', 'drost2022', 'forouzanfar2018']"
      ],
      "text/plain": [
       "<IPython.core.display.Markdown object>"
      ]
     },
     "metadata": {},
     "output_type": "display_data"
    },
    {
     "data": {
      "application/vnd.jupyter.widget-view+json": {
       "model_id": "9b845bcd79f54e64b728285e9f3c9ed8",
       "version_major": 2,
       "version_minor": 0
      },
      "text/plain": [
       "Datapoints:   0%|          | 0/150 [00:00<?, ?it/s]"
      ]
     },
     "metadata": {},
     "output_type": "display_data"
    }
   ],
   "source": [
    "big_result_dict = {}\n",
    "\n",
    "for algo_combi in tqdm(algo_combinations):\n",
    "    algo_combi_names = [key[0] for key in algo_combi]\n",
    "\n",
    "    filename_stub = \"pep_results_empkins_\" + \"_\".join(algo_combi_names)\n",
    "\n",
    "    # check if exists\n",
    "    if len(list(result_path.glob(f\"{filename_stub}*\"))) != 0:\n",
    "        display(Markdown(f\"Algorithm combination {algo_combi_names} already challenged. Skipping...\"))\n",
    "        continue\n",
    "\n",
    "    display(Markdown(f\"Running algorithm combination {algo_combi_names}\"))\n",
    "    pep_challenge = PepEvaluationChallenge(dataset=dataset_empkins, validate_kwargs={\"n_jobs\": -1})\n",
    "\n",
    "    pipeline = PepExtractionPipelineReferenceQPeak(\n",
    "        heartbeat_segmentation_algo=heartbeat_segmentation_algo,\n",
    "        q_peak_algo=algo_combi[0][1],\n",
    "        b_point_algo=algo_combi[1][1],\n",
    "        outlier_correction_algo=algo_combi[2][1],\n",
    "        handle_negative_pep=\"nan\",\n",
    "        handle_missing_events=\"ignore\",\n",
    "    )\n",
    "    pep_challenge.run(pipeline)\n",
    "    pep_challenge.results_as_df()\n",
    "    pep_challenge.save_results(result_path, filename_stub)\n",
    "\n",
    "    big_result_dict[tuple(algo_combi_names)] = pep_challenge"
   ]
  },
  {
   "cell_type": "code",
   "execution_count": null,
   "metadata": {},
   "outputs": [],
   "source": []
  },
  {
   "cell_type": "code",
   "execution_count": null,
   "metadata": {},
   "outputs": [],
   "source": []
  }
 ],
 "metadata": {
  "jupytext": {
   "encoding": "# -*- coding: utf-8 -*-",
   "text_representation": {
    "extension": ".py",
    "format_name": "sphinx",
    "format_version": "1.1",
    "jupytext_version": "1.13.0"
   }
  },
  "kernelspec": {
   "display_name": "pepbench",
   "language": "python",
   "name": "pepbench"
  },
  "language_info": {
   "codemirror_mode": {
    "name": "ipython",
    "version": 3
   },
   "file_extension": ".py",
   "mimetype": "text/x-python",
   "name": "python",
   "nbconvert_exporter": "python",
   "pygments_lexer": "ipython3",
   "version": "3.10.14"
  },
  "toc-showtags": false,
  "vscode": {
   "interpreter": {
    "hash": "7014e6a8beff3a47c7c0424a6c63a486addc0ee3d12468bf1ae9a85a56cca70c"
   }
  }
 },
 "nbformat": 4,
 "nbformat_minor": 4
}
